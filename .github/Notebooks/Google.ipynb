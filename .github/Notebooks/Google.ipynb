{
 "cells": [
  {
   "cell_type": "code",
   "execution_count": 99,
   "id": "be8ccae6-a582-49bb-94ef-e952759c8215",
   "metadata": {},
   "outputs": [],
   "source": [
    "# Imports\n",
    "import pandas as pd\n",
    "import numpy as np\n",
    "from pathlib import Path\n",
    "import hvplot.pandas\n",
    "import matplotlib.pyplot as plt\n",
    "from sklearn import svm\n",
    "from sklearn.preprocessing import StandardScaler\n",
    "from pandas.tseries.offsets import DateOffset\n",
    "from sklearn.metrics import classification_report"
   ]
  },
  {
   "cell_type": "code",
   "execution_count": 100,
   "id": "106b3dc7-3249-47a3-9701-278cfc8d69e8",
   "metadata": {},
   "outputs": [],
   "source": [
    "goog_df = pd.read_csv(Path(\"/Users/Hockenbery/fintech/Python_Project/Project-2/GOOG.csv\"),\n",
    "    index_col='Date', \n",
    "    infer_datetime_format=True, \n",
    "    parse_dates=True\n",
    ")"
   ]
  },
  {
   "cell_type": "code",
   "execution_count": 101,
   "id": "c843056d-ccef-4e83-8a4b-e3aa97efcb24",
   "metadata": {},
   "outputs": [
    {
     "data": {
      "text/html": [
       "<div>\n",
       "<style scoped>\n",
       "    .dataframe tbody tr th:only-of-type {\n",
       "        vertical-align: middle;\n",
       "    }\n",
       "\n",
       "    .dataframe tbody tr th {\n",
       "        vertical-align: top;\n",
       "    }\n",
       "\n",
       "    .dataframe thead th {\n",
       "        text-align: right;\n",
       "    }\n",
       "</style>\n",
       "<table border=\"1\" class=\"dataframe\">\n",
       "  <thead>\n",
       "    <tr style=\"text-align: right;\">\n",
       "      <th></th>\n",
       "      <th>Open</th>\n",
       "      <th>High</th>\n",
       "      <th>Low</th>\n",
       "      <th>Close</th>\n",
       "      <th>Adj Close</th>\n",
       "      <th>Volume</th>\n",
       "    </tr>\n",
       "    <tr>\n",
       "      <th>Date</th>\n",
       "      <th></th>\n",
       "      <th></th>\n",
       "      <th></th>\n",
       "      <th></th>\n",
       "      <th></th>\n",
       "      <th></th>\n",
       "    </tr>\n",
       "  </thead>\n",
       "  <tbody>\n",
       "    <tr>\n",
       "      <th>2017-03-16</th>\n",
       "      <td>849.030029</td>\n",
       "      <td>850.849976</td>\n",
       "      <td>846.130005</td>\n",
       "      <td>848.780029</td>\n",
       "      <td>848.780029</td>\n",
       "      <td>977600</td>\n",
       "    </tr>\n",
       "    <tr>\n",
       "      <th>2017-03-17</th>\n",
       "      <td>851.609985</td>\n",
       "      <td>853.400024</td>\n",
       "      <td>847.109985</td>\n",
       "      <td>852.119995</td>\n",
       "      <td>852.119995</td>\n",
       "      <td>1712300</td>\n",
       "    </tr>\n",
       "    <tr>\n",
       "      <th>2017-03-20</th>\n",
       "      <td>850.010010</td>\n",
       "      <td>850.219971</td>\n",
       "      <td>845.150024</td>\n",
       "      <td>848.400024</td>\n",
       "      <td>848.400024</td>\n",
       "      <td>1231500</td>\n",
       "    </tr>\n",
       "    <tr>\n",
       "      <th>2017-03-21</th>\n",
       "      <td>851.400024</td>\n",
       "      <td>853.500000</td>\n",
       "      <td>829.020020</td>\n",
       "      <td>830.460022</td>\n",
       "      <td>830.460022</td>\n",
       "      <td>2463500</td>\n",
       "    </tr>\n",
       "    <tr>\n",
       "      <th>2017-03-22</th>\n",
       "      <td>831.909973</td>\n",
       "      <td>835.549988</td>\n",
       "      <td>827.179993</td>\n",
       "      <td>829.590027</td>\n",
       "      <td>829.590027</td>\n",
       "      <td>1401500</td>\n",
       "    </tr>\n",
       "  </tbody>\n",
       "</table>\n",
       "</div>"
      ],
      "text/plain": [
       "                  Open        High         Low       Close   Adj Close  \\\n",
       "Date                                                                     \n",
       "2017-03-16  849.030029  850.849976  846.130005  848.780029  848.780029   \n",
       "2017-03-17  851.609985  853.400024  847.109985  852.119995  852.119995   \n",
       "2017-03-20  850.010010  850.219971  845.150024  848.400024  848.400024   \n",
       "2017-03-21  851.400024  853.500000  829.020020  830.460022  830.460022   \n",
       "2017-03-22  831.909973  835.549988  827.179993  829.590027  829.590027   \n",
       "\n",
       "             Volume  \n",
       "Date                 \n",
       "2017-03-16   977600  \n",
       "2017-03-17  1712300  \n",
       "2017-03-20  1231500  \n",
       "2017-03-21  2463500  \n",
       "2017-03-22  1401500  "
      ]
     },
     "execution_count": 101,
     "metadata": {},
     "output_type": "execute_result"
    }
   ],
   "source": [
    "goog_df.head()"
   ]
  },
  {
   "cell_type": "code",
   "execution_count": 102,
   "id": "0df8fc01-2de2-4f6e-a960-60bf3c603599",
   "metadata": {},
   "outputs": [
    {
     "data": {
      "text/plain": [
       "<AxesSubplot:xlabel='Date'>"
      ]
     },
     "execution_count": 102,
     "metadata": {},
     "output_type": "execute_result"
    },
    {
     "data": {
      "image/png": "[encoded data removed]",
      "text/plain": [
       "<Figure size 432x288 with 1 Axes>"
      ]
     },
     "metadata": {
      "needs_background": "light"
     },
     "output_type": "display_data"
    }
   ],
   "source": [
    "goog_df.plot(y='Adj Close')"
   ]
  },
  {
   "cell_type": "code",
   "execution_count": 103,
   "id": "7c886f47-925b-4132-83d6-a0e221936261",
   "metadata": {},
   "outputs": [],
   "source": [
    "exp1 = goog_df.Close.ewm(span=12, adjust=False).mean()\n",
    "exp2 = goog_df.Close.ewm(span=26, adjust=False).mean()"
   ]
  },
  {
   "cell_type": "code",
   "execution_count": 104,
   "id": "03d0907b-7e5b-429a-a473-a8db789e3477",
   "metadata": {},
   "outputs": [
    {
     "data": {
      "text/html": [
       "<div>\n",
       "<style scoped>\n",
       "    .dataframe tbody tr th:only-of-type {\n",
       "        vertical-align: middle;\n",
       "    }\n",
       "\n",
       "    .dataframe tbody tr th {\n",
       "        vertical-align: top;\n",
       "    }\n",
       "\n",
       "    .dataframe thead th {\n",
       "        text-align: right;\n",
       "    }\n",
       "</style>\n",
       "<table border=\"1\" class=\"dataframe\">\n",
       "  <thead>\n",
       "    <tr style=\"text-align: right;\">\n",
       "      <th></th>\n",
       "      <th>Open</th>\n",
       "      <th>High</th>\n",
       "      <th>Low</th>\n",
       "      <th>Close</th>\n",
       "      <th>Adj Close</th>\n",
       "      <th>Volume</th>\n",
       "      <th>macd</th>\n",
       "      <th>exp3</th>\n",
       "    </tr>\n",
       "    <tr>\n",
       "      <th>Date</th>\n",
       "      <th></th>\n",
       "      <th></th>\n",
       "      <th></th>\n",
       "      <th></th>\n",
       "      <th></th>\n",
       "      <th></th>\n",
       "      <th></th>\n",
       "      <th></th>\n",
       "    </tr>\n",
       "  </thead>\n",
       "  <tbody>\n",
       "    <tr>\n",
       "      <th>2017-03-16</th>\n",
       "      <td>849.030029</td>\n",
       "      <td>850.849976</td>\n",
       "      <td>846.130005</td>\n",
       "      <td>848.780029</td>\n",
       "      <td>848.780029</td>\n",
       "      <td>977600</td>\n",
       "      <td>0.000000</td>\n",
       "      <td>0.000000</td>\n",
       "    </tr>\n",
       "    <tr>\n",
       "      <th>2017-03-17</th>\n",
       "      <td>851.609985</td>\n",
       "      <td>853.400024</td>\n",
       "      <td>847.109985</td>\n",
       "      <td>852.119995</td>\n",
       "      <td>852.119995</td>\n",
       "      <td>1712300</td>\n",
       "      <td>0.266436</td>\n",
       "      <td>0.053287</td>\n",
       "    </tr>\n",
       "    <tr>\n",
       "      <th>2017-03-20</th>\n",
       "      <td>850.010010</td>\n",
       "      <td>850.219971</td>\n",
       "      <td>845.150024</td>\n",
       "      <td>848.400024</td>\n",
       "      <td>848.400024</td>\n",
       "      <td>1231500</td>\n",
       "      <td>0.175396</td>\n",
       "      <td>0.077709</td>\n",
       "    </tr>\n",
       "    <tr>\n",
       "      <th>2017-03-21</th>\n",
       "      <td>851.400024</td>\n",
       "      <td>853.500000</td>\n",
       "      <td>829.020020</td>\n",
       "      <td>830.460022</td>\n",
       "      <td>830.460022</td>\n",
       "      <td>2463500</td>\n",
       "      <td>-1.329042</td>\n",
       "      <td>-0.203641</td>\n",
       "    </tr>\n",
       "    <tr>\n",
       "      <th>2017-03-22</th>\n",
       "      <td>831.909973</td>\n",
       "      <td>835.549988</td>\n",
       "      <td>827.179993</td>\n",
       "      <td>829.590027</td>\n",
       "      <td>829.590027</td>\n",
       "      <td>1401500</td>\n",
       "      <td>-2.561988</td>\n",
       "      <td>-0.675310</td>\n",
       "    </tr>\n",
       "  </tbody>\n",
       "</table>\n",
       "</div>"
      ],
      "text/plain": [
       "                  Open        High         Low       Close   Adj Close  \\\n",
       "Date                                                                     \n",
       "2017-03-16  849.030029  850.849976  846.130005  848.780029  848.780029   \n",
       "2017-03-17  851.609985  853.400024  847.109985  852.119995  852.119995   \n",
       "2017-03-20  850.010010  850.219971  845.150024  848.400024  848.400024   \n",
       "2017-03-21  851.400024  853.500000  829.020020  830.460022  830.460022   \n",
       "2017-03-22  831.909973  835.549988  827.179993  829.590027  829.590027   \n",
       "\n",
       "             Volume      macd      exp3  \n",
       "Date                                     \n",
       "2017-03-16   977600  0.000000  0.000000  \n",
       "2017-03-17  1712300  0.266436  0.053287  \n",
       "2017-03-20  1231500  0.175396  0.077709  \n",
       "2017-03-21  2463500 -1.329042 -0.203641  \n",
       "2017-03-22  1401500 -2.561988 -0.675310  "
      ]
     },
     "execution_count": 104,
     "metadata": {},
     "output_type": "execute_result"
    }
   ],
   "source": [
    "macd = exp1-exp2\n",
    "exp3 = macd.ewm(span=9, adjust=False).mean()\n",
    "goog_df['macd'] = macd\n",
    "goog_df['exp3'] = exp3\n",
    "goog_df.head()"
   ]
  },
  {
   "cell_type": "code",
   "execution_count": 105,
   "id": "fda34ea4-b5f2-4d60-8dcb-470756d543a4",
   "metadata": {},
   "outputs": [
    {
     "data": {},
     "metadata": {},
     "output_type": "display_data"
    },
    {
     "data": {
      "application/vnd.holoviews_exec.v0+json": "",
      "text/html": [
       "<div id='2840'>\n",
       "\n",
       "\n",
       "\n",
       "\n",
       "\n",
       "  <div class=\"bk-root\" id=\"521f1fe4-7ef6-4d49-af44-6c8ce553e0ee\" data-root-id=\"2840\"></div>\n",
       "</div>\n",
       "<script type=\"application/javascript\">(function(root) {\n",
       "  function embed_document(root) {\n",
       "    var docs_json = {\"ae67a892-c66c-4011-a244-117ee62a13c8\":{\"defs\":[{\"extends\":null,\"module\":null,\"name\":\"ReactiveHTML1\",\"overrides\":[],\"properties\":[]},{\"extends\":null,\"module\":null,\"name\":\"FlexBox1\",\"overrides\":[],\"properties\":[{\"default\":\"flex-start\",\"kind\":null,\"name\":\"align_content\"},{\"default\":\"flex-start\",\"kind\":null,\"name\":\"align_items\"},{\"default\":\"row\",\"kind\":null,\"name\":\"flex_direction\"},{\"default\":\"wrap\",\"kind\":null,\"name\":\"flex_wrap\"},{\"default\":\"flex-start\",\"kind\":null,\"name\":\"justify_content\"}]},{\"extends\":null,\"module\":null,\"name\":\"TemplateActions1\",\"overrides\":[],\"properties\":[{\"default\":0,\"kind\":null,\"name\":\"open_modal\"},{\"default\":0,\"kind\":null,\"name\":\"close_modal\"}]},{\"extends\":null,\"module\":null,\"name\":\"MaterialTemplateActions1\",\"overrides\":[],\"properties\":[{\"default\":0,\"kind\":null,\"name\":\"open_modal\"},{\"default\":0,\"kind\":null,\"name\":\"close_modal\"}]}],\"roots\":{\"references\":[{\"attributes\":{\"line_color\":\"#fc4f30\",\"line_width\":2,\"x\":{\"field\":\"Date\"},\"y\":{\"field\":\"value\"}},\"id\":\"2948\",\"type\":\"Line\"},{\"attributes\":{},\"id\":\"2865\",\"type\":\"WheelZoomTool\"},{\"attributes\":{},\"id\":\"2911\",\"type\":\"YearsTicker\"},{\"attributes\":{\"months\":[0,1,2,3,4,5,6,7,8,9,10,11]},\"id\":\"2907\",\"type\":\"MonthsTicker\"},{\"attributes\":{},\"id\":\"2863\",\"type\":\"SaveTool\"},{\"attributes\":{},\"id\":\"2880\",\"type\":\"BasicTickFormatter\"},{\"attributes\":{\"months\":[0,6]},\"id\":\"2910\",\"type\":\"MonthsTicker\"},{\"attributes\":{\"callback\":null,\"formatters\":{\"@{Date}\":\"datetime\"},\"renderers\":[{\"id\":\"2888\"},{\"id\":\"2921\"}],\"tags\":[\"hv_created\"],\"tooltips\":[[\"Variable\",\"@{Variable}\"],[\"Date\",\"@{Date}{%F %T}\"],[\"value\",\"@{value}\"]]},\"id\":\"2844\",\"type\":\"HoverTool\"},{\"attributes\":{\"children\":[{\"id\":\"2841\"},{\"id\":\"2846\"},{\"id\":\"3165\"}],\"margin\":[0,0,0,0],\"name\":\"Row04541\",\"tags\":[\"embedded\"]},\"id\":\"2840\",\"type\":\"Row\"},{\"attributes\":{\"overlay\":{\"id\":\"2868\"}},\"id\":\"2866\",\"type\":\"BoxZoomTool\"},{\"attributes\":{},\"id\":\"2881\",\"type\":\"AllLabels\"},{\"attributes\":{},\"id\":\"2867\",\"type\":\"ResetTool\"},{\"attributes\":{\"months\":[0,2,4,6,8,10]},\"id\":\"2908\",\"type\":\"MonthsTicker\"},{\"attributes\":{},\"id\":\"2932\",\"type\":\"UnionRenderers\"},{\"attributes\":{\"months\":[0,4,8]},\"id\":\"2909\",\"type\":\"MonthsTicker\"},{\"attributes\":{\"bottom_units\":\"screen\",\"coordinates\":null,\"fill_alpha\":0.5,\"fill_color\":\"lightgrey\",\"group\":null,\"left_units\":\"screen\",\"level\":\"overlay\",\"line_alpha\":1.0,\"line_color\":\"black\",\"line_dash\":[4,4],\"line_width\":2,\"right_units\":\"screen\",\"syncable\":false,\"top_units\":\"screen\"},\"id\":\"2868\",\"type\":\"BoxAnnotation\"},{\"attributes\":{\"margin\":[5,5,5,5],\"name\":\"HSpacer04546\",\"sizing_mode\":\"stretch_width\"},\"id\":\"3165\",\"type\":\"Spacer\"},{\"attributes\":{},\"id\":\"2883\",\"type\":\"Selection\"},{\"attributes\":{\"line_alpha\":0.2,\"line_color\":\"#30a2da\",\"line_width\":2,\"x\":{\"field\":\"Date\"},\"y\":{\"field\":\"value\"}},\"id\":\"2887\",\"type\":\"Line\"},{\"attributes\":{\"coordinates\":null,\"group\":null,\"text_color\":\"black\",\"text_font_size\":\"12pt\"},\"id\":\"2847\",\"type\":\"Title\"},{\"attributes\":{\"line_alpha\":0.1,\"line_color\":\"#30a2da\",\"line_width\":2,\"x\":{\"field\":\"Date\"},\"y\":{\"field\":\"value\"}},\"id\":\"2886\",\"type\":\"Line\"},{\"attributes\":{\"data\":{\"Date\":{\"__ndarray__\":\"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\",\"dtype\":\"float64\",\"order\":\"little\",\"shape\":[1260]},\"Variable\":[\"macd\",\"macd\",\"macd\",\"macd\",\"macd\",\"macd\",\"macd\",\"macd\",\"macd\",\"macd\",\"macd\",\"macd\",\"macd\",\"macd\",\"macd\",\"macd\",\"macd\",\"macd\",\"macd\",\"macd\",\"macd\",\"macd\",\"macd\",\"macd\",\"macd\",\"macd\",\"macd\",\"macd\",\"macd\",\"macd\",\"macd\",\"macd\",\"macd\",\"macd\",\"macd\",\"macd\",\"macd\",\"macd\",\"macd\",\"macd\",\"macd\",\"macd\",\"macd\",\"macd\",\"macd\",\"macd\",\"macd\",\"macd\",\"macd\",\"macd\",\"macd\",\"macd\",\"macd\",\"macd\",\"macd\",\"macd\",\"macd\",\"macd\",\"macd\",\"macd\",\"macd\",\"macd\",\"macd\",\"macd\",\"macd\",\"macd\",\"macd\",\"macd\",\"macd\",\"macd\",\"macd\",\"macd\",\"macd\",\"macd\",\"macd\",\"macd\",\"macd\",\"macd\",\"macd\",\"macd\",\"macd\",\"macd\",\"macd\",\"macd\",\"macd\",\"macd\",\"macd\",\"macd\",\"macd\",\"macd\",\"macd\",\"macd\",\"macd\",\"macd\",\"macd\",\"macd\",\"macd\",\"macd\",\"macd\",\"macd\",\"macd\",\"macd\",\"macd\",\"macd\",\"macd\",\"macd\",\"macd\",\"macd\",\"macd\",\"macd\",\"macd\",\"macd\",\"macd\",\"macd\",\"macd\",\"macd\",\"macd\",\"macd\",\"macd\",\"macd\",\"macd\",\"macd\",\"macd\",\"macd\",\"macd\",\"macd\",\"macd\",\"macd\",\"macd\",\"macd\",\"macd\",\"macd\",\"macd\",\"macd\",\"macd\",\"macd\",\"macd\",\"macd\",\"macd\",\"macd\",\"macd\",\"macd\",\"macd\",\"macd\",\"macd\",\"macd\",\"macd\",\"macd\",\"macd\",\"macd\",\"macd\",\"macd\",\"macd\",\"macd\",\"macd\",\"macd\",\"macd\",\"macd\",\"macd\",\"macd\",\"macd\",\"macd\",\"macd\",\"macd\",\"macd\",\"macd\",\"macd\",\"macd\",\"macd\",\"macd\",\"macd\",\"macd\",\"macd\",\"macd\",\"macd\",\"macd\",\"macd\",\"macd\",\"macd\",\"macd\",\"macd\",\"macd\",\"macd\",\"macd\",\"macd\",\"macd\",\"macd\",\"macd\",\"macd\",\"macd\",\"macd\",\"macd\",\"macd\",\"macd\",\"macd\",\"macd\",\"macd\",\"macd\",\"macd\",\"macd\",\"macd\",\"macd\",\"macd\",\"macd\",\"macd\",\"macd\",\"macd\",\"macd\",\"macd\",\"macd\",\"macd\",\"macd\",\"macd\",\"macd\",\"macd\",\"macd\",\"macd\",\"macd\",\"macd\",\"macd\",\"macd\",\"macd\",\"macd\",\"macd\",\"macd\",\"macd\",\"macd\",\"macd\",\"macd\",\"macd\",\"macd\",\"macd\",\"macd\",\"macd\",\"macd\",\"macd\",\"macd\",\"macd\",\"macd\",\"macd\",\"macd\",\"macd\",\"macd\",\"macd\",\"macd\",\"macd\",\"macd\",\"macd\",\"macd\",\"macd\",\"macd\",\"macd\",\"macd\",\"macd\",\"macd\",\"macd\",\"macd\",\"macd\",\"macd\",\"macd\",\"macd\",\"macd\",\"macd\",\"macd\",\"macd\",\"macd\",\"macd\",\"macd\",\"macd\",\"macd\",\"macd\",\"macd\",\"macd\",\"macd\",\"macd\",\"macd\",\"macd\",\"macd\",\"macd\",\"macd\",\"macd\",\"macd\",\"macd\",\"macd\",\"macd\",\"macd\",\"macd\",\"macd\",\"macd\",\"macd\",\"macd\",\"macd\",\"macd\",\"macd\",\"macd\",\"macd\",\"macd\",\"macd\",\"macd\",\"macd\",\"macd\",\"macd\",\"macd\",\"macd\",\"macd\",\"macd\",\"macd\",\"macd\",\"macd\",\"macd\",\"macd\",\"macd\",\"macd\",\"macd\",\"macd\",\"macd\",\"macd\",\"macd\",\"macd\",\"macd\",\"macd\",\"macd\",\"macd\",\"macd\",\"macd\",\"macd\",\"macd\",\"macd\",\"macd\",\"macd\",\"macd\",\"macd\",\"macd\",\"macd\",\"macd\",\"macd\",\"macd\",\"macd\",\"macd\",\"macd\",\"macd\",\"macd\",\"macd\",\"macd\",\"macd\",\"macd\",\"macd\",\"macd\",\"macd\",\"macd\",\"macd\",\"macd\",\"macd\",\"macd\",\"macd\",\"macd\",\"macd\",\"macd\",\"macd\",\"macd\",\"macd\",\"macd\",\"macd\",\"macd\",\"macd\",\"macd\",\"macd\",\"macd\",\"macd\",\"macd\",\"macd\",\"macd\",\"macd\",\"macd\",\"macd\",\"macd\",\"macd\",\"macd\",\"macd\",\"macd\",\"macd\",\"macd\",\"macd\",\"macd\",\"macd\",\"macd\",\"macd\",\"macd\",\"macd\",\"macd\",\"macd\",\"macd\",\"macd\",\"macd\",\"macd\",\"macd\",\"macd\",\"macd\",\"macd\",\"macd\",\"macd\",\"macd\",\"macd\",\"macd\",\"macd\",\"macd\",\"macd\",\"macd\",\"macd\",\"macd\",\"macd\",\"macd\",\"macd\",\"macd\",\"macd\",\"macd\",\"macd\",\"macd\",\"macd\",\"macd\",\"macd\",\"macd\",\"macd\",\"macd\",\"macd\",\"macd\",\"macd\",\"macd\",\"macd\",\"macd\",\"macd\",\"macd\",\"macd\",\"macd\",\"macd\",\"macd\",\"macd\",\"macd\",\"macd\",\"macd\",\"macd\",\"macd\",\"macd\",\"macd\",\"macd\",\"macd\",\"macd\",\"macd\",\"macd\",\"macd\",\"macd\",\"macd\",\"macd\",\"macd\",\"macd\",\"macd\",\"macd\",\"macd\",\"macd\",\"macd\",\"macd\",\"macd\",\"macd\",\"macd\",\"macd\",\"macd\",\"macd\",\"macd\",\"macd\",\"macd\",\"macd\",\"macd\",\"macd\",\"macd\",\"macd\",\"macd\",\"macd\",\"macd\",\"macd\",\"macd\",\"macd\",\"macd\",\"macd\",\"macd\",\"macd\",\"macd\",\"macd\",\"macd\",\"macd\",\"macd\",\"macd\",\"macd\",\"macd\",\"macd\",\"macd\",\"macd\",\"macd\",\"macd\",\"macd\",\"macd\",\"macd\",\"macd\",\"macd\",\"macd\",\"macd\",\"macd\",\"macd\",\"macd\",\"macd\",\"macd\",\"macd\",\"macd\",\"macd\",\"macd\",\"macd\",\"macd\",\"macd\",\"macd\",\"macd\",\"macd\",\"macd\",\"macd\",\"macd\",\"macd\",\"macd\",\"macd\",\"macd\",\"macd\",\"macd\",\"macd\",\"macd\",\"macd\",\"macd\",\"macd\",\"macd\",\"macd\",\"macd\",\"macd\",\"macd\",\"macd\",\"macd\",\"macd\",\"macd\",\"macd\",\"macd\",\"macd\",\"macd\",\"macd\",\"macd\",\"macd\",\"macd\",\"macd\",\"macd\",\"macd\",\"macd\",\"macd\",\"macd\",\"macd\",\"macd\",\"macd\",\"macd\",\"macd\",\"macd\",\"macd\",\"macd\",\"macd\",\"macd\",\"macd\",\"macd\",\"macd\",\"macd\",\"macd\",\"macd\",\"macd\",\"macd\",\"macd\",\"macd\",\"macd\",\"macd\",\"macd\",\"macd\",\"macd\",\"macd\",\"macd\",\"macd\",\"macd\",\"macd\",\"macd\",\"macd\",\"macd\",\"macd\",\"macd\",\"macd\",\"macd\",\"macd\",\"macd\",\"macd\",\"macd\",\"macd\",\"macd\",\"macd\",\"macd\",\"macd\",\"macd\",\"macd\",\"macd\",\"macd\",\"macd\",\"macd\",\"macd\",\"macd\",\"macd\",\"macd\",\"macd\",\"macd\",\"macd\",\"macd\",\"macd\",\"macd\",\"macd\",\"macd\",\"macd\",\"macd\",\"macd\",\"macd\",\"macd\",\"macd\",\"macd\",\"macd\",\"macd\",\"macd\",\"macd\",\"macd\",\"macd\",\"macd\",\"macd\",\"macd\",\"macd\",\"macd\",\"macd\",\"macd\",\"macd\",\"macd\",\"macd\",\"macd\",\"macd\",\"macd\",\"macd\",\"macd\",\"macd\",\"macd\",\"macd\",\"macd\",\"macd\",\"macd\",\"macd\",\"macd\",\"macd\",\"macd\",\"macd\",\"macd\",\"macd\",\"macd\",\"macd\",\"macd\",\"macd\",\"macd\",\"macd\",\"macd\",\"macd\",\"macd\",\"macd\",\"macd\",\"macd\",\"macd\",\"macd\",\"macd\",\"macd\",\"macd\",\"macd\",\"macd\",\"macd\",\"macd\",\"macd\",\"macd\",\"macd\",\"macd\",\"macd\",\"macd\",\"macd\",\"macd\",\"macd\",\"macd\",\"macd\",\"macd\",\"macd\",\"macd\",\"macd\",\"macd\",\"macd\",\"macd\",\"macd\",\"macd\",\"macd\",\"macd\",\"macd\",\"macd\",\"macd\",\"macd\",\"macd\",\"macd\",\"macd\",\"macd\",\"macd\",\"macd\",\"macd\",\"macd\",\"macd\",\"macd\",\"macd\",\"macd\",\"macd\",\"macd\",\"macd\",\"macd\",\"macd\",\"macd\",\"macd\",\"macd\",\"macd\",\"macd\",\"macd\",\"macd\",\"macd\",\"macd\",\"macd\",\"macd\",\"macd\",\"macd\",\"macd\",\"macd\",\"macd\",\"macd\",\"macd\",\"macd\",\"macd\",\"macd\",\"macd\",\"macd\",\"macd\",\"macd\",\"macd\",\"macd\",\"macd\",\"macd\",\"macd\",\"macd\",\"macd\",\"macd\",\"macd\",\"macd\",\"macd\",\"macd\",\"macd\",\"macd\",\"macd\",\"macd\",\"macd\",\"macd\",\"macd\",\"macd\",\"macd\",\"macd\",\"macd\",\"macd\",\"macd\",\"macd\",\"macd\",\"macd\",\"macd\",\"macd\",\"macd\",\"macd\",\"macd\",\"macd\",\"macd\",\"macd\",\"macd\",\"macd\",\"macd\",\"macd\",\"macd\",\"macd\",\"macd\",\"macd\",\"macd\",\"macd\",\"macd\",\"macd\",\"macd\",\"macd\",\"macd\",\"macd\",\"macd\",\"macd\",\"macd\",\"macd\",\"macd\",\"macd\",\"macd\",\"macd\",\"macd\",\"macd\",\"macd\",\"macd\",\"macd\",\"macd\",\"macd\",\"macd\",\"macd\",\"macd\",\"macd\",\"macd\",\"macd\",\"macd\",\"macd\",\"macd\",\"macd\",\"macd\",\"macd\",\"macd\",\"macd\",\"macd\",\"macd\",\"macd\",\"macd\",\"macd\",\"macd\",\"macd\",\"macd\",\"macd\",\"macd\",\"macd\",\"macd\",\"macd\",\"macd\",\"macd\",\"macd\",\"macd\",\"macd\",\"macd\",\"macd\",\"macd\",\"macd\",\"macd\",\"macd\",\"macd\",\"macd\",\"macd\",\"macd\",\"macd\",\"macd\",\"macd\",\"macd\",\"macd\",\"macd\",\"macd\",\"macd\",\"macd\",\"macd\",\"macd\",\"macd\",\"macd\",\"macd\",\"macd\",\"macd\",\"macd\",\"macd\",\"macd\",\"macd\",\"macd\",\"macd\",\"macd\",\"macd\",\"macd\",\"macd\",\"macd\",\"macd\",\"macd\",\"macd\",\"macd\",\"macd\",\"macd\",\"macd\",\"macd\",\"macd\",\"macd\",\"macd\",\"macd\",\"macd\",\"macd\",\"macd\",\"macd\",\"macd\",\"macd\",\"macd\",\"macd\",\"macd\",\"macd\",\"macd\",\"macd\",\"macd\",\"macd\",\"macd\",\"macd\",\"macd\",\"macd\",\"macd\",\"macd\",\"macd\",\"macd\",\"macd\",\"macd\",\"macd\",\"macd\",\"macd\",\"macd\",\"macd\",\"macd\",\"macd\",\"macd\",\"macd\",\"macd\",\"macd\",\"macd\",\"macd\",\"macd\",\"macd\",\"macd\",\"macd\",\"macd\",\"macd\",\"macd\",\"macd\",\"macd\",\"macd\",\"macd\",\"macd\",\"macd\",\"macd\",\"macd\",\"macd\",\"macd\",\"macd\",\"macd\",\"macd\",\"macd\",\"macd\",\"macd\",\"macd\",\"macd\",\"macd\",\"macd\",\"macd\",\"macd\",\"macd\",\"macd\",\"macd\",\"macd\",\"macd\",\"macd\",\"macd\",\"macd\",\"macd\",\"macd\",\"macd\",\"macd\",\"macd\",\"macd\",\"macd\",\"macd\",\"macd\",\"macd\",\"macd\",\"macd\",\"macd\",\"macd\",\"macd\",\"macd\",\"macd\",\"macd\",\"macd\",\"macd\",\"macd\",\"macd\",\"macd\",\"macd\",\"macd\",\"macd\",\"macd\",\"macd\",\"macd\",\"macd\",\"macd\",\"macd\",\"macd\",\"macd\",\"macd\",\"macd\",\"macd\",\"macd\",\"macd\",\"macd\",\"macd\",\"macd\",\"macd\",\"macd\",\"macd\",\"macd\",\"macd\",\"macd\",\"macd\",\"macd\",\"macd\",\"macd\",\"macd\",\"macd\",\"macd\",\"macd\",\"macd\",\"macd\",\"macd\",\"macd\",\"macd\",\"macd\",\"macd\",\"macd\",\"macd\",\"macd\",\"macd\",\"macd\",\"macd\",\"macd\",\"macd\",\"macd\",\"macd\",\"macd\",\"macd\",\"macd\",\"macd\",\"macd\",\"macd\",\"macd\",\"macd\",\"macd\",\"macd\",\"macd\",\"macd\",\"macd\",\"macd\",\"macd\",\"macd\",\"macd\",\"macd\",\"macd\",\"macd\",\"macd\",\"macd\",\"macd\",\"macd\",\"macd\",\"macd\",\"macd\",\"macd\",\"macd\",\"macd\",\"macd\",\"macd\",\"macd\",\"macd\",\"macd\",\"macd\",\"macd\",\"macd\",\"macd\",\"macd\",\"macd\",\"macd\",\"macd\",\"macd\",\"macd\",\"macd\",\"macd\",\"macd\",\"macd\",\"macd\",\"macd\",\"macd\",\"macd\",\"macd\",\"macd\",\"macd\",\"macd\",\"macd\",\"macd\",\"macd\",\"macd\",\"macd\",\"macd\",\"macd\",\"macd\",\"macd\",\"macd\",\"macd\",\"macd\",\"macd\",\"macd\",\"macd\",\"macd\",\"macd\",\"macd\",\"macd\",\"macd\",\"macd\",\"macd\",\"macd\",\"macd\",\"macd\",\"macd\",\"macd\",\"macd\",\"macd\",\"macd\",\"macd\",\"macd\",\"macd\",\"macd\",\"macd\",\"macd\",\"macd\",\"macd\",\"macd\",\"macd\",\"macd\",\"macd\",\"macd\",\"macd\",\"macd\",\"macd\",\"macd\",\"macd\",\"macd\",\"macd\",\"macd\",\"macd\",\"macd\",\"macd\",\"macd\",\"macd\",\"macd\",\"macd\",\"macd\",\"macd\",\"macd\",\"macd\",\"macd\",\"macd\",\"macd\",\"macd\",\"macd\",\"macd\",\"macd\",\"macd\",\"macd\",\"macd\",\"macd\",\"macd\",\"macd\",\"macd\",\"macd\",\"macd\",\"macd\",\"macd\",\"macd\",\"macd\",\"macd\",\"macd\",\"macd\",\"macd\",\"macd\",\"macd\",\"macd\",\"macd\",\"macd\",\"macd\",\"macd\",\"macd\",\"macd\",\"macd\",\"macd\",\"macd\",\"macd\",\"macd\",\"macd\",\"macd\",\"macd\",\"macd\",\"macd\",\"macd\",\"macd\",\"macd\",\"macd\",\"macd\",\"macd\",\"macd\",\"macd\",\"macd\",\"macd\",\"macd\",\"macd\",\"macd\",\"macd\",\"macd\",\"macd\",\"macd\",\"macd\",\"macd\",\"macd\",\"macd\",\"macd\",\"macd\",\"macd\",\"macd\",\"macd\",\"macd\",\"macd\",\"macd\",\"macd\",\"macd\",\"macd\",\"macd\",\"macd\",\"macd\",\"macd\",\"macd\",\"macd\",\"macd\",\"macd\",\"macd\",\"macd\",\"macd\",\"macd\",\"macd\",\"macd\",\"macd\",\"macd\",\"macd\",\"macd\",\"macd\",\"macd\"],\"value\":{\"__ndarray__\":\"AAAAAAAAAAAAEFS5SQ3RPwAQ+fxgc8Y/AALlH8FD9b8AntJe834EwAAmsFjN0xHAAEDGjE6RGMAAHB48jvIbwIB1mmy/0x3AgE4zY9ecG8AAJu34xYgZwAA0P9TjOxjAAM4DwgUSFMAAZnTUf9kRwABsHzQi6hDAgO7A6ZkdEcAATUY4NRoSwIBuyRpophLAgEHMUZFOE8CAzVHtwEoTwICjz92QTRPAAPG1MWd/DcAAZ+HFqz8GwACoZFaA2/6/ANxuIGXb7r8AAGow3C6zvwCVyaCCeAFAAB3ejzrCEkCAvvSUUTcaQABg1v40SCBAgJJPqHWkJ0BAVDTBuTEuQODg7CzmzDFAIFinoaGPNECA4F7Xs9s2QGCTVho/CThAYGPFocxBOUAgFhSQfsE5QGCkyB8slTlAoGVHoPpMOUCA3GtCsOs4QMCSlMwCujhAoEozRdnDOEAgL0hb2aU2QCBdY8wClDVAoH9a9YDLNECg+/TQDZI0QOBMbaYqtzRAgMMfoDIVNUBA5onxG0s2QMDUh+dKJDdAYNsRWP/kN0CgtdN6OFU3QECST5YvyzZAwNzhDjDNNkCA2pQlPjE3QAAhX2DGqjZAoOevYIlYNkBARvbBWgk2QEDoBSdF3TJAwE9wQe44L0CAZz2su3ErQAAqVaIQwCdAQK628708I0CA3DRLPSgeQIBCgqHp6BxAgJ9f6tFzGUAAIwDsl0QZQABb5+UYFRhAgBjH3WSXGUAA17h6UjsWQACPbUm1xgZAAChFv+HY+z8ANOOxRqHuvwBzfeinQg7AAP6gmzoDG8AA20xg79wfwECejGJycyLAQH6tXOhQIsBAV5VXZ18gwAABu05V6hzAgCdr22wzFcAAUBuhibQLwAAqhSPievS/ALAxBOu4zj8ABrAAIhIDQABg0lip5RFAAN68kbteF0CAfqqI5ukcQIDVdW7GpSFAAGzbTFBvHkAArOgpzVoZQIA/S/n9tRBAAMGcspw+CEAAcPNUY3rzPwDgIovPasi/ADjLqRk79b8A0LnDw+oFwAAzLR5zxQvAAO31sOUlD8AAmM7XFYoRwID0Z2zeHhTAAFrZqhfpGsCAXDMLYaQdwAA7mddpzRzAgBRhvLn1G8AAjwiX+HcZwACIaRJcUxzAAEAhKRJXHsAA1x2ZFW0gwAB/zq9dsRzAAFstCrdeGMCAR4lP1IcWwICCEqt2jRbAgDVaLv75FsAAc2VA+qgUwAAXJYBy7w/AAOwm5nL9AcAA7K48I0LwvwC4B5PP7+e/AOQxm1iT4r8A0CvSUXbKPwAA7cK7OrE/ACCITKngxD8AgPsfiGPePwD0Lg2vi+4/AIQsBK6/4D8AQJbgDDnKvwAg6rsiH/O/ABKcQf2f9r8ANKrep0jpvwAQ21UKh8y/ACDQWzyvtr8AnIupXbzivwAUcMm3DOW/AOCXvKp86z8AurckXn8DQIAuDP1sphFAgFSB8afGFUCAnEHK4DMaQAA3U+AubBtAAH2djAzzIEDAP8i4zLckQMDf4pgFIidAgLr7XC8PKEAAkKI02SorQEAF4Cf6EC1AQAz/4ZuELkDAL1Rgf60vQMBnF+SEIDBAQHRsKiI4MEDAveE6L+EuQEBiToCW5y1AQOQl9iKmKUDALM52HFsmQADwpeBa9yNAgGidEVy+IUCAhxarl0AnQACA/rtq9SpAQM33RPR6LUBg2XibSkQwQICJJlqpSDFAgMilPyRvMkDAMazltJkyQKCpTLeFHDNA4OWdWGjQM0Bga3LpHXQzQOAa5s/osTJAANDHz9WzMUDgsOYZPL4wQECkUUIKyi5AwPgOEKgsLkDAiSXFnDUrQMCvQjSKdihAgFLKDVGaKEAA52AQnKooQAAnIPZVLSlAQDZ+/sV1K0DAFgzC0tkrQAD9iKM9uydAAESjfI4xJECA7dD198seQAByWIb/QxNAADiqaQUnCEAAeflwBw4FQAAlPvOnZQpAAHoa7v4XEUAAPkxjNT4VQACIBqfODRhAAFFjZQoGGkAAgBYJyP4dQAB7VHc2yCJAgKqhCGSZJ0AAnyeo3BIqQICrwXARzSpAgL7RPNvaKkCA7Cbs8wcqQABM38+4jChAgHOKzffuJUAAolHeAXAjQICBB5uf+yBAgJhAWXDVIUAAlbEaARYlQIDQqBnkBChAgBAQ3qqRLEBAgd31oUcwQAACo5hzmjFAANyxSAMmMkBApR9h1pkyQECipOwsFDRAgGTGTc73NEDAdSGVrz02QMDZBb5lzzZAwHUm6qqcN0AAXDfyUm45QED14a4hsjtAACrf9JSyPEDA0XWx96Q9QMBX2b4XfD5AAGA7jWTGPkDA+5VQArQ9QECRZhcEBj1AgFJAoEf7O0CA+4SPI2U2QIBTbI5WkypAAMzl7dXqH0AAjM7ADs3yPwCq9biJsR/AAJAlzk0jKMCARcxqgBkswIDj1V6W2y7AgDZKbezbLcAA2oBg/ZIpwICQgCdOFSXAgInlBDEaIMAAR4PDAjMVwABW1fIfrQvAANBVCXiv178AaNRTtUILQADiiVuWMBFAABhhV2LpDkAASG/dGn3lPwBsPlVEZvG/ADDwXhTs978AWP40FX33vwDQQzmVFtG/AKxv56S2/z8ArUxCjL8ZQIBr1FFwayRAAOFkgeDlJUAAdQpi1ZwoQADOfm8veSpAABuO03trKUAAq8rPVZMiQADVYbhlVBlAAH43niUzC0AA7BtJfioCwIBcBwe5wyHAgEQQkMLfJsBAV+8waCUxwADsc8d7dzXAQFWR0FtvNsAAW7hmMPU4wID1x9ukGDrAAE5q80/BOcDAb63TOfs4wIAP8ixPvznAgGaxDhNiOcCApsw0WYQ3wIBgKH3GtzbAQNzO3iHVNMCAh5j3YWAzwAC1zyjxUTHAgF30nzRAKcCAp5rURfAhwADak7a0BhPAADJDv/CeBMAAUBRzdn30vwD7AmqLJRDAAHT9woU3GMAA/ZQz5z4YwAB8lgkALhvAAN0AWh2dIMAAxjS9MDYfwIAAHWyFsyDAgN7kVHZ5IcAAz/v/n/IbwABLiwJdCxTAAJhlTTDPC8AAALkNg0SxPwCF2CEHGRBAAB78RQuJHEAAb4pkbkkjQIDq/mNgpyNAgFgj62IfJECAzGJy0sAjQACi6L2XSSFAgHY/lY1EIUAAJ2o92PceQAAzAnyT/x5AAL/A0XGGHkAAju2TDaocQACkxIIb/BVAAFJ69ErjEkAAiIEFOrsVQIBSFH+TXCFAgEgOgBtpKUCAAn6bdnwvQABZu3fSuDFAwHMOqyEIMkDAKWM7mtQxQACoSjN1MjJAwEJuvW8FM0CAmE+auxYzQID8GEyATjRAQPR0mmEKNUDAxNmyIhE3QABgLz7/9TdAgBPcAcCHOECAVfRApbk3QEC9L5dupjZAQEzYPmYaM0CAsKZ1IjMvQICm9g9pCydAgBFt/7sGIkAAqBGmFDwcQADXeU1ijhlAAHowEiGnDkAAoDJvD+sLQACC57ZhzRFAAHwJhBQKGUAADKdCugkeQACK/l2h+SBAgEMj0JYIJ0AAKcfLoV4sQAAoqhyMby9AwKKdI4DuMUAAZH1ikjozQAD2T117UDNAAGQZCXD/MkCASTCv/yw0QMARnRD1QzhAgK76ImtwPECAoFXaHcE/QEDCNwo8nD9AQP74OgKkPUAAYLx31487QIC1IRyn1jlAQBSsIgCvOEAAlGnLhU03QMAAvgo/CjZAgOK4VwYxNkAAC5A95VM2QAD/NUpZdTZAQLfP92RjNUDAZLurQxk0QMBQOc3EbDNAwFN0hN12MECAEyUh0KcqQABvQo78jSRAAJWIU4OgIEAAY86/G8IYQAAxb7NPpBNAALLiFg+TDUAAPGS8HGAPQABCeEcz+BZAAJ2ejhwCGUCAYez+VQ4gQIBvyj0bCCFAADs/ooKGHEAAqrXpnhkRQACQZto7Y/I/ANCOxdwZBMAADwU0Y4UXwICA1F0I7yDAALFfRbHDIsAAp+QR/00mwABTA80K1CbAAFT0xtJsJ8AA4qvZR0EqwIAj2XgfWSvAAIvT6HZRKsAASsAQm7EmwICtZGkr6SbAgPBQxIWoJcAAbSh7Z6EiwIAZ7tastSDAAE5jYXiDGcAAuuET9GYTwAD484iOnAvAAGDlh8jt/r8AYEuVoqvfvwD+HL0UFQHAAFTDGTILEcAA3zoPXS8awICTbmfHJCLAgGnG1ocVL8BAFriM9JU0wAA3ETpY2TXAgLGQdBYDOMAAz3XfCR43wIBi9wdNmTbAQBuPX3YlOMCAs4eNBWg4wEBF3sb79DfAAOLhJEwhN8CAQ+H153E6wED8J2eBKTnAQMwNJPfKOcAAJNWFrxc+wIAilcPh1D/AgJ1rooOYPcCAFCSt/Qs8wMBOAE/ZfDvAAHQHJ/klPMBAJ70XVBc7wAC2lRPO9DbAQC6naPBUNMDA0iGyFVczwMCLuBTHiTTAwHOhWdVyNcBA1jbicU81wADwoZesRzPAQDnM4vS5McDAjj8c750zwIDU8npCajTAwPxgEMrcM8BA+8CsZEw0wEA/SvNhbzLAANfTOtkZMcCAj2tYrwwpwIADsDldQyHAAB9DXNP5E8AArLSMwBPyvwCk1VF1NATAAKTOdh9LAcAAU3IGlqoRwAD4xJ5+lRfAAB/RRgMPGMAABU9pgVkUwADLiGegxxHAAA2NB7nhFcCAV6SVqoAgwIDIje2RuiLAAIhj2z0rJcAAgQ2SXgIpwADhb7jTPzDAIH2mb0tDM8CAq/wGD1wwwIBtd+OEFyvAgN3BX4t1J8AA6/nwh5QkwIAvHNTSdCDAAFgFAWrKIcAAjdwFHNQTwADqb193AADAACAQEhT/7j8AaihhNzwJQADRTqYu8RFAAI8zF2m3EUAA5qdVwrIKQACsI/0JIhRAADSmAflvGkCAk/zsZPYgQAD9OEI/CSVAgJ+jEe+PI0AA/WHWgP0iQADy7OsrDyJAgDMj+cTZI0CA73h5H7EhQABFRK1LlBxAAJYwyVD/H0AAu82sMIMlQIDRgtnKsChAgAHuistqLkBA2mJzrVQyQEC1evs+HTJAQLCuxZprMECAi0rQ1DotQAD8hPhIDypAgM/BoQ98K0AAQ2mdQBgsQICoBdlVfixAAHL32J8zK0AA3rl0tKkqQAAfFK5yLSlAgGkmbq0KJUAAOX0vErMjQIC+dKjGRCJAgHqmCYfaIUAAV2G1xnghQICZQDJIlyFAAPZC6m3YJEAA2s/sgj4oQADxfWqr5ixAgC9JHRCOL0AAEAYanvMuQAAQafxI+C1AQKhi6N4YMUAAuc6tyvIzQEABRKrr9jVAQODhwYqsNkCA49iRbeI2QICzZOLMxTZAwEepz+KWN0AA1jND3/Y5QEAOTFwPIjxAwF8rTi5vO0DAE+z8uZM5QMCtG9B3KTdAwKL4UJ0UNEBAlXpEeRMxQADM9kv50i1AgC+UZ4F2LUCASkC0nM8tQIDMvoY8nC5AABgv2Q0rMECA0E9/rAgwQIC4Ola69i5AgN1vJdCxLEAApj5qgl8rQIBE+W4SaypAgKuztql7K0CAG6HX+YQsQACIdjPt9y1AwO0TiqUdMEDAqf0vNNIwQEBzfvs/LTJAAJbbEfNINEBAHFOIAQY1QECC5B/v9DVAQMqg+FoiN0AA1CoIgwU5QABjlUxFTzJAAGignRpuJkAAeOgnqF4UQADyRAmpcQBAAAB3Epyznb8AlODAag0HwABlsRE51RbAgMs30BNWIMCATY8o/LMjwAAE9D+TQivAwDNNjhBcMcAAJuTPm5cwwICQXO1PPy3AgExtvZR9LMAAtGBDdVAvwACOa8Qqcy/AgMF/mH/pLsAAWyQwcNYvwMA+jNysrjDAgMI5AEEJMcBAP8aOx4cywEBhiqj9XjPAwBqNKIfzNMBA7PMhxVM7wAATl+1fqz7AIICn/bTmQMAAWT8r8dlBwMDQQCfbhkHAgP5DfTSAQMDA3jKZeCY/wACICh7Jej3AAKF1ffPlOsDASpnqktc4wMCVU1WuYDbAQEKTfm1OM8CAykF9B8gwwICTmb7/xSvAgIiopJhAJcCAgr7da+ogwABOU3ut+iHAgAtEaQ2nI8CAvocsI1glwIBXeuULpSXAADNuxTDqIsAAGtEjguAcwAC0SUPRPBLAAPBxcO3/+b8AABOVpr3gvwD0U8ZNXPA/ABRYlDnDC0AA94GYnZUWQADnAgWvXR1AgEq1XkYKIkAAZLFkUvskQAB2WdjO5CVAgK0ncAxbJkCAyf/OlN8jQIDpPvQ/+SJAgPKqDOdZI0AANS/WFxYiQAB/nBh29h9AAAVPgeOCMEDA6mtCDh82QIBUUt1NIDlAwE4sNuyEOkBAbnG1UrI6QEDV94hGVTlAgMvZg+2mNEAAFr/W1ScyQMDBlMioUDBAAPxYcRklMUCA0Bp5pEIwQIBsj01YpCxAgO88s0TgLEAAzR2P9ncnQIAvIug6cCNAgDz0YIC1IUCAM1ZojXojQAAcJTT9ICJAAMm1Hvs6IkAAhTEh6dMhQAAQ+WuZahZAAO3Z2oJnEUAAUhekYuMJQAC8fo84ogRAALA3GY02DkAApw4E3SsRQAAG6Uq6mwhAAOZpM6MCCUAAoGWkSxUWQACWLWoPRxtAAI1ZStfeHkAAW9x6pOsgQIDzAdvsJiRAAAwqqVyzKECAK/w7fdQsQACQk6A/ay5AABBRf2D5LkAAtjV1hJMvQABfJ4K8WDBAALa+YojLL0CAEpIkFGIvQICBxjU5RCxAALfkPnjuLUCAbNdKkxMuQAC6IYgnPytAAO3OaF2/J0AAlLwziIQiQADyliGEVRNAAAyKWEejAUAAZArpzPD8PwBM0oV59vU/AOAuzDe53b8AyI0NJRvrvwDIQbKxJ+S/AIATzRCftj8AQDoOuB3pPwDw7v4rFQtAAHX6sNa8FUAAN72kpuseQIA/3qoIrCFAAM+Q4wtPI0AAXYd2LdYjQAAMnOEloSZAgFEAVULbKECACFrlgPoqQABLXyGYJjBAAHmmJ0u8L0AAsfMX3rcuQICAYRsEYi1AgLvIOSgtLkAAyisnLKIwQACM9UIQtTFAAEg/HhRUMkBAAEmKlfczQABTdHJDOTVAwNidFqP+NECA53k3fos0QMCRxUEB5TNAQGR5c2Y7NEBAebnJIiI2QEDiCdKIPTZAgCoalBunNUAAqJDcpvQzQACsil1UQzJAwC1vT9E/MECAgb3inMguQIDMGgYILy5AgJOPn8VHLUCAK6HmMPUqQIAbIN9sbiZAgHMrBQp8I0CA8oS62vskQIAen5BYISdAgJDPE4OKKkCAX/egRGEtQAC2aMXgcS9AwJuisX9hMEBAUPVf/CAxQMA/4LU1UzFAQKFmJ3FYMkDAzP/UCXQyQICvLCvFIDJAQDw5/XzwMUCAywJymhIxQADvWV2jIzBAgIZ3IAObLUAAMKVSVtwtQIAo8G3TXCxAACjH21NaKECA8muh/BIlQADUzOJ+GydAgIuC59RdJ0AAFCrZ7KcsQAC+F3DYKjBAAF8gc9VMMkCAuJ079P80QMAFOyZXqjdAgKhsPPA9OkCAsXm1o0s7QEBImTU4eTxAAFsp8LMRPkDALyYh9aFAQCBFYm7n2kFAQPjTc9OrQkBAeZRLMCBDQOAZiVb0d0JAgBRNKUBvQEBAkYu2wss+QED5P5QNTj1AwP4fE4aUO0CAFDSh0jA4QICl3PBtYjlAwKqV6QTuNkCAT9dPeNY0QAAPuAvlMTVAAAG3hvR4NUBATuG3Z8s3QADgBH34WTlAAH8tyt8JO0AAT9sPqMM7QEAz3VFggDxAQM6T5DurPEBAa1omiAg9QAAN8yyHTjxAwM+5HnzHOEBAwBiKf6owQAC1D5BW5x1AAIDX+LUr4j+A3Vf7nK4lwEBwhiAz9jHAwIGplmZdM8CANSgi2gw4wADKxuLM2DfAQBRfW4DMPMAA3AuCf/9AwECTS4wUJUbAQMw9O81WR8CgCC3GvJlKwLCtqps8blDAsIC8eQGbUMCg9Ejl6EBTwMDUG4/FZlTAwI9lQ+mGVcBgqQTFdctVwJDq7H/2nFbAEDp/dUlPV8DwD/FQlwlWwPC+vzJYbVXAADdkCt+FU8CAvBaLktNSwDCFFm6ZWFHA4KqFOOJWT8BgiyqP8aJOwEDHhJotIU3AICE3+WWITMCA37QiSTBIwMDVO3+XhkTAgH1voVZ5QMAApSJrViE6wMBzznLlADTAgDQH/Qi1JcAAcJYN1GYQwABgauqHEvU/AMmVH1R/HEAAaS4lAogkQAC/twkEMyFAgCzAit3eJUAAJ5X7B18rQAA9ngH52C9AAL+RWeQ4MUAAdztpKlotQECXRlc/HTVAAC+DJJN9OkAA6xhdyCk8QABt0pGFpT1AwJIbm380QEAA+EngdvNAQGAcAPSNWUJAQEajMgLeQ0DA6bedbmxFQMD9AKAVTUVAgDffcrboQ0BA2aMf29xCQGBNK7wpgkJAYHdwpuByQkBgbmF2U8ZBQGBN8h6jXkJA4JK3M1p4QkDAFujwa6RCQMCh6Bj000JA4KXgPKPKQkAAumDVLoFCQCDxR1wejkJAYAMeOrt/QkDgeuQcDYpCQOAAsVgNP0JAwM07lfXXQECgRungGplAQACXKrhei0BAYIBNRduxQECAUItHPwJBQMCGuajfLD1AQM5jGEnLOUBANNzwE2I3QABGHBpWDTdAgN7O6jszN0AAV61Dptc1QADzY+gDMTRAQIdyHkdGNECAElWtFBw1QABXzYqG7zJAwGryxWHDMUAAguEW8UokQADD+JtkcRtAAO8OafnHFkAAKgBLG6oaQICUQfF59CJAgCIPsBIXLEAA2fhP2J8wQACdQ2akUTNAAEYEZNdnNkAAD9QbiwU7QACayyi65ztAgO+++jgEPUDA6XabvQA9QIAjxjVwAj1AQMKgxRp9PEBAOznLFMI/QCCpnHMNsEBAAB1HJmGIQUBAHeeo98Y/QAA7ByTuiDxAwM/hdrIhO0CA6deeTVc3QABqwMSr1TVAwIu/imkoNUAAa6VysoQwQAD83ytYCChAAGu/AC1iHkAAJilN5fASQABLaMR+NhJAAKT/3x5KD0AASOx4su8LQAAMNlI31/0/ACq2OjFWBUAATsW2yNUQQAC2JffaDRJAAKfXAPkSFkCA2EJ3fPciQAAoUrx5MidAACY6BvS0L0AAgr5hdeYyQABS+n1LsTVAgPTOieg6OUDAZeVOpjw/QECYiXHYEkFAgHtsdtJrQkAgXD+k59tCQMAuTqWXC0RAAEWin/1wR0CgetGmIWNGQAAQsZauR0NAAMJLZ7WSPEAAIC0MCGI2QACxwMy4ky5AgOddbyJPIUAAPEarufIJQADgX5sdhOc/AMR8Mg4FB8AAU9KqcssewADoVfpacizAQDneDBd5NcDA8YbcCyw4wIABmhYQBT7AQE3RH5+bQMDgjo72dwFBwEBsFz/tV0DAQOhvRJrkPsCAzLheJh09wEAvPSXwwDnAAIkeFZpaOcBAUDrj0Yw2wAC3TskBsjbAAGaLewoBNsBAg1cwliozwADnbwW6xizAAFQxWLm2GMAAaGBGHNTgPwBJSm8L8RVAgOacfGwwIUAAToDjZRQoQADjZa3LEydAgBjG6zVuKUAAfTBAXHkwQEAhTK7i/DRAgBFl6DRVOkCAIUNjHTA6QEDk2KKt4DpAAJy/YtgeNEDAgjCbm6IyQABKiWRojDVAQN/MQmD8N0BAs9jyDo07QCAmpLDt9UJAgLQUFABgR0Cg9pIkpoBKQGAtySlis0xAANkJvqwxTUCA5C1qP71NQACbwbeItk1AQPWx5x5wTkCARUpLPtVOQODrIQHaV05AAM3w73WuTEAAz4ckhLxLQICPPJ0o0ElAYMhZw0G4R0CAPaRXkCpHQADFlAwBkkZAIFghRdG2RkDAb0alDUZFQAALD26MZEVAwItdrNJuRkDALkf68vFGQGBi11wzIkdAAN0i7p6tRkAg8fyHoAZGQOCXSpoT5ENAIBi6e/ujQUDA2Ppi190/QAC7cq+qGDtAgIu3SU6qN0CAVnTYrVM0QEAAhJ1uRjBAgFWdM74iJ0AAPzbWbNQgQAAa3Ia6VBJAANipzFjkAUAA0H4g7XHsPwCm2vp2WQZAALrJ98vyBkAA+Bt0cc71PwCklf+XdfI/AJCnyL0X7b8ABPe+OA74vwB2ZtlwNQPAABAe3loW8T8AKXxlvHYVQABkyvDRxBVAAM6B2cClDkAAQtDxbzUJQACEuHXFK/c/AKDlUUFDzL8AauS2lK4GQADSU6qYtylAwJgHi3/pNEBAHFk56sM7QADUVkLhV0BAgFcJ4ePLQkDgBFvzWw5BQKCmjfyMyUBAwHBEPGSWPkAgn/HI8ZBAQCD8QEfyakJAICEtZT1YSUAAk7NlAi1OQBDmTN7hhFFAkCTHP2cfU0AQL2IVQvlTQHDYCKBFplRAYMgnfi/0VEAQOR3wEB5VQGACUmUYXFVAsAteCxtvVUBAL/45vwZVQNBTKECmJVRAcL/eV2SBUkCgB7iwrCBRQNBVwQ55VlBAYJuo7zmFTEDAHn9WyChJQAA8dP8oBUhA4Avx5rWgRkBAQi+YxFFDQABF2dFdZkFAIA3v7aIRQkDAR/wGPgs+QMChbHb5MztAAIsndmbaOEAAO4aTkH47QIBTxEvTCDlAgH2NrbsvN0AA8ZxjAo03QABtDfH5czdAgGTUsJu7MkAAjUm4i8EuQID9CUnHaShAAFbMp0p1JUAALenAV6MhQABXGsgvqhxAAKnv9t9YFEAAAvApphsUQACgw32IjxNAABYeb/QVF0AAFo7C6NEnQIAnMK5vljdAwCA0M7wzQEDAuq1AMHdEQMDNkliIM0hAwI/fzeiqS0CA1P9K+tNMQMBYY1kN6E1AgJ5ycy7qTUBA+FGJlz9PQMA6SvQl+09AAIJRzxUwUEDAiH1LUfdPQMBog81wRE9AgNKovgZaTUCA0hh99WdNQMBjn7flkU1AgDuVPieUTECAiCNQOGFOQMB6ocEUuFBAYFH+mRRVUUDg0huaMVFRQMCBl/u2SlBAgGZm54C0TkCAS7G4a91NQAD0cuLVjk1AwMxl2bW0SkBAhV4d1NpGQADcCpA/zEBAAEVdHkCMOUAA/guANkY3QIBkN62DpTVAAMoNh7WwMkCAu3ggEpUwQAA8pRt7hTJAgO/JPfDzMkCAL39Hi/w3QIDdAS8s2TtAQEB2/wBBQEDA9LivH6hAQIDvzuy6JEFAQPzfmLAOQkBAhhNyNjpCQECxmwDsfEFAwKt4nAmXQkBAJBz+J9BDQECyKO7ONkVAQMzN7TZpRkAAr2aXQ0xIQIChZ0OEMUlAwMDDLX8hSkDATCCuIlBKQEAhoicx40lAQIhtzg7MSUCAz0QwlspIQACsRdjHbUhAwH47+v5MSEBADckBjH5HQEBGWuLQP0dAABc3EzuQRkAAzIN4/6BFQEC2r9TjAkRAwKdscJr0QUBAPxlr0/pAQECDAHaa5UFAwGhehytAQ0AAfJL5IFZEQECkDzWtPERAQOq6Nd8+RECA2eG4mc9EQIBCFDYxXEVAABka7TZqRkBAyxAmvVVGQIBYaePGekZAgL4GB/1EREAA3pbP3MdDQADAj/Q9XkRAQEBaMU8tRUDA+HiTLiZJQMDWjV/qbk1AgCsdF7QuTkAAgi8mKRhOQABtnLAsz01AgFlCxo8xTECAQHYxMjhLQADMYnS9YEpAgOU91J43SUBA5pHDaL9IQAAQetyhLEhAQGdeW2I4SEBAaluyOg5IQMB3CFvoU0dAwEnlJNMMR0BAWznxQZVGQAA43qLYXUZAQNEawkSnREAAbGz0N35CQIC9bZsd3UBAQOAwVECcQECA39QMs1hCQAATHM2qiERAwKIQ6xt0RkCAwzu2vwpHQIDrzhFJLUlAAM6j8rRLS0AAVUGrhKNMQACLW3rwqk1AgFsmb1PXTECAZzzg705MQECBGOltKUxAQIPb4xo4S0DAzliPwDFKQIBbY9SqtEZAwGHh/QbyRECAuSfYzkdDQECcrng3MUNAQOTgnYM9QkAANZr5MO49QIAsDLbhjTRAACV4WOD0K0AAutku1nQlQADPXQTi8yJAAGX3ezdZI0AADNro8qYfQAAABGPhUQDAAJt1r5DvKMCAn+NAuH82wIBWHT49ADnAgAOfdOH6PsCA5KmalHY/wIBZZs36mj3AALxJ8/HjOMAAoHaVGoYzwACerGZeBjHAAJGFbUhHMsCA8tqPkygxwACY3tby9iTAAGh5nr3ZEsAAIHAHPpn+PwAKssxL6SBAAKDrK2N7JkAAs5CBrMErQABcLHEfUCJAANppZf9aFkAABrJDRagQQABKc/q9jitAgP7zxqCtNECATUsAx0M9QAC28HQUfDxAgGqOCb3hPkDAqn9RhvFAQICXLP0KcENAALoEy42dRUDAn5j02ilHQECPznu8B0hAgG1re+lXRkBAwHNeUd1EQADkIa6Lx0VAAJLKBe8KRkDAsL9Mtb9FQIAtQDx2QkVAAPt/8qfyRUCAwzNZLqJFQMB4Q30Z2UJAAN7c8MUxQEAAtRqXdMw7QICJzYsdpTFAAL/BGW2ILUAACliObQAaQACgg3aCFva/AGpsWs5hEMAA2Ii8GFwgwACSLlVygCLAAIiXh0zCCcAAfDAq4BAFQABokMSg1RhAAAw+bpuxI0AA+oOn+eEiQACEneeE/xhAAGTqWY8DHkAA/rKbqXQRQACoFL8PSva/ACDDEO8cGsAAyP2z2EwewAAIVQw/pQ/AACCjiLaE6L8AmFbeYLEJQACcTp3RtA1AABy3dOGdEEAAcGCL9zUNQABIjvMorvE/ACAH1YVu0b8A3OTxiS8DwAC+I+Udpy3AAPorfuOOOMAAQh53LGNAwMAbtmvaKkLAAM26ABQ0QsCAM1nHOblAwAAXlmGgYUHAwHZ6cP4sQcDAA5nqlptDwACw3jeRzEXAQG4/taH6SMDAFb112uhNwGDmShurmlDAwHNfR1woU8BASWdC5PBTwGABVqX6X1TAwMTl4+7RUsCAy4utMG1QwMDCWzA0/UrAgD48Fs33O8AAhZpmV7ovwACyxOaddxbAAJ75cF8fEMAAyKiVAm0CwAAA4HWaMwVAAPApBs0//z8AYsdj/QAXwAAQp1ebtSPAAPFL5ORSJsAAWDhJoLokwIBz7g1r4jHAAPJV92+COsAAqjRiAVVBwEC0Lixjx0XAgKk7xZb0RMBADSTOUJlCwEC8YZKJPkDAANFItRCVPcCAQSCuhwk6wACBPxquqzfAgF9oCsoIOcDASvSU/WtBwAB1BzKpakTAgLqOOH1GQcCArcG/qx8/wIC+wi26mj/AgDOCTh3KQsDAS9/JQJZCwMDTtlRlN0LA\",\"dtype\":\"float64\",\"order\":\"little\",\"shape\":[1260]}},\"selected\":{\"id\":\"2883\"},\"selection_policy\":{\"id\":\"2897\"}},\"id\":\"2882\",\"type\":\"ColumnDataSource\"},{\"attributes\":{\"source\":{\"id\":\"2882\"}},\"id\":\"2889\",\"type\":\"CDSView\"},{\"attributes\":{},\"id\":\"2897\",\"type\":\"UnionRenderers\"},{\"attributes\":{\"end\":1647302400000.0,\"reset_end\":1647302400000.0,\"reset_start\":1489622400000.0,\"start\":1489622400000.0,\"tags\":[[[\"Date\",\"Date\",null]]]},\"id\":\"2842\",\"type\":\"Range1d\"},{\"attributes\":{\"coordinates\":null,\"data_source\":{\"id\":\"2882\"},\"glyph\":{\"id\":\"2885\"},\"group\":null,\"hover_glyph\":null,\"muted_glyph\":{\"id\":\"2887\"},\"nonselection_glyph\":{\"id\":\"2886\"},\"selection_glyph\":{\"id\":\"2914\"},\"view\":{\"id\":\"2889\"}},\"id\":\"2888\",\"type\":\"GlyphRenderer\"},{\"attributes\":{},\"id\":\"2864\",\"type\":\"PanTool\"},{\"attributes\":{\"below\":[{\"id\":\"2855\"}],\"center\":[{\"id\":\"2858\"},{\"id\":\"2862\"}],\"height\":300,\"left\":[{\"id\":\"2859\"}],\"margin\":[5,5,5,5],\"min_border_bottom\":10,\"min_border_left\":10,\"min_border_right\":10,\"min_border_top\":10,\"renderers\":[{\"id\":\"2888\"},{\"id\":\"2921\"}],\"right\":[{\"id\":\"2912\"}],\"sizing_mode\":\"fixed\",\"title\":{\"id\":\"2847\"},\"toolbar\":{\"id\":\"2869\"},\"width\":700,\"x_range\":{\"id\":\"2842\"},\"x_scale\":{\"id\":\"2851\"},\"y_range\":{\"id\":\"2843\"},\"y_scale\":{\"id\":\"2853\"}},\"id\":\"2846\",\"subtype\":\"Figure\",\"type\":\"Plot\"},{\"attributes\":{\"end\":103.63351408333787,\"reset_end\":103.63351408333787,\"reset_start\":-111.13634700379711,\"start\":-111.13634700379711,\"tags\":[[[\"value\",\"value\",null]]]},\"id\":\"2843\",\"type\":\"Range1d\"},{\"attributes\":{\"tools\":[{\"id\":\"2844\"},{\"id\":\"2863\"},{\"id\":\"2864\"},{\"id\":\"2865\"},{\"id\":\"2866\"},{\"id\":\"2867\"}]},\"id\":\"2869\",\"type\":\"Toolbar\"},{\"attributes\":{\"line_color\":\"#fc4f30\",\"line_width\":2,\"x\":{\"field\":\"Date\"},\"y\":{\"field\":\"value\"}},\"id\":\"2918\",\"type\":\"Line\"},{\"attributes\":{\"click_policy\":\"mute\",\"coordinates\":null,\"group\":null,\"items\":[{\"id\":\"2913\"},{\"id\":\"2947\"}],\"location\":[0,0],\"title\":\"Variable\"},\"id\":\"2912\",\"type\":\"Legend\"},{\"attributes\":{\"data\":{\"Date\":{\"__ndarray__\":\"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\",\"dtype\":\"float64\",\"order\":\"little\",\"shape\":[1260]},\"Variable\":[\"exp3\",\"exp3\",\"exp3\",\"exp3\",\"exp3\",\"exp3\",\"exp3\",\"exp3\",\"exp3\",\"exp3\",\"exp3\",\"exp3\",\"exp3\",\"exp3\",\"exp3\",\"exp3\",\"exp3\",\"exp3\",\"exp3\",\"exp3\",\"exp3\",\"exp3\",\"exp3\",\"exp3\",\"exp3\",\"exp3\",\"exp3\",\"exp3\",\"exp3\",\"exp3\",\"exp3\",\"exp3\",\"exp3\",\"exp3\",\"exp3\",\"exp3\",\"exp3\",\"exp3\",\"exp3\",\"exp3\",\"exp3\",\"exp3\",\"exp3\",\"exp3\",\"exp3\",\"exp3\",\"exp3\",\"exp3\",\"exp3\",\"exp3\",\"exp3\",\"exp3\",\"exp3\",\"exp3\",\"exp3\",\"exp3\",\"exp3\",\"exp3\",\"exp3\",\"exp3\",\"exp3\",\"exp3\",\"exp3\",\"exp3\",\"exp3\",\"exp3\",\"exp3\",\"exp3\",\"exp3\",\"exp3\",\"exp3\",\"exp3\",\"exp3\",\"exp3\",\"exp3\",\"exp3\",\"exp3\",\"exp3\",\"exp3\",\"exp3\",\"exp3\",\"exp3\",\"exp3\",\"exp3\",\"exp3\",\"exp3\",\"exp3\",\"exp3\",\"exp3\",\"exp3\",\"exp3\",\"exp3\",\"exp3\",\"exp3\",\"exp3\",\"exp3\",\"exp3\",\"exp3\",\"exp3\",\"exp3\",\"exp3\",\"exp3\",\"exp3\",\"exp3\",\"exp3\",\"exp3\",\"exp3\",\"exp3\",\"exp3\",\"exp3\",\"exp3\",\"exp3\",\"exp3\",\"exp3\",\"exp3\",\"exp3\",\"exp3\",\"exp3\",\"exp3\",\"exp3\",\"exp3\",\"exp3\",\"exp3\",\"exp3\",\"exp3\",\"exp3\",\"exp3\",\"exp3\",\"exp3\",\"exp3\",\"exp3\",\"exp3\",\"exp3\",\"exp3\",\"exp3\",\"exp3\",\"exp3\",\"exp3\",\"exp3\",\"exp3\",\"exp3\",\"exp3\",\"exp3\",\"exp3\",\"exp3\",\"exp3\",\"exp3\",\"exp3\",\"exp3\",\"exp3\",\"exp3\",\"exp3\",\"exp3\",\"exp3\",\"exp3\",\"exp3\",\"exp3\",\"exp3\",\"exp3\",\"exp3\",\"exp3\",\"exp3\",\"exp3\",\"exp3\",\"exp3\",\"exp3\",\"exp3\",\"exp3\",\"exp3\",\"exp3\",\"exp3\",\"exp3\",\"exp3\",\"exp3\",\"exp3\",\"exp3\",\"exp3\",\"exp3\",\"exp3\",\"exp3\",\"exp3\",\"exp3\",\"exp3\",\"exp3\",\"exp3\",\"exp3\",\"exp3\",\"exp3\",\"exp3\",\"exp3\",\"exp3\",\"exp3\",\"exp3\",\"exp3\",\"exp3\",\"exp3\",\"exp3\",\"exp3\",\"exp3\",\"exp3\",\"exp3\",\"exp3\",\"exp3\",\"exp3\",\"exp3\",\"exp3\",\"exp3\",\"exp3\",\"exp3\",\"exp3\",\"exp3\",\"exp3\",\"exp3\",\"exp3\",\"exp3\",\"exp3\",\"exp3\",\"exp3\",\"exp3\",\"exp3\",\"exp3\",\"exp3\",\"exp3\",\"exp3\",\"exp3\",\"exp3\",\"exp3\",\"exp3\",\"exp3\",\"exp3\",\"exp3\",\"exp3\",\"exp3\",\"exp3\",\"exp3\",\"exp3\",\"exp3\",\"exp3\",\"exp3\",\"exp3\",\"exp3\",\"exp3\",\"exp3\",\"exp3\",\"exp3\",\"exp3\",\"exp3\",\"exp3\",\"exp3\",\"exp3\",\"exp3\",\"exp3\",\"exp3\",\"exp3\",\"exp3\",\"exp3\",\"exp3\",\"exp3\",\"exp3\",\"exp3\",\"exp3\",\"exp3\",\"exp3\",\"exp3\",\"exp3\",\"exp3\",\"exp3\",\"exp3\",\"exp3\",\"exp3\",\"exp3\",\"exp3\",\"exp3\",\"exp3\",\"exp3\",\"exp3\",\"exp3\",\"exp3\",\"exp3\",\"exp3\",\"exp3\",\"exp3\",\"exp3\",\"exp3\",\"exp3\",\"exp3\",\"exp3\",\"exp3\",\"exp3\",\"exp3\",\"exp3\",\"exp3\",\"exp3\",\"exp3\",\"exp3\",\"exp3\",\"exp3\",\"exp3\",\"exp3\",\"exp3\",\"exp3\",\"exp3\",\"exp3\",\"exp3\",\"exp3\",\"exp3\",\"exp3\",\"exp3\",\"exp3\",\"exp3\",\"exp3\",\"exp3\",\"exp3\",\"exp3\",\"exp3\",\"exp3\",\"exp3\",\"exp3\",\"exp3\",\"exp3\",\"exp3\",\"exp3\",\"exp3\",\"exp3\",\"exp3\",\"exp3\",\"exp3\",\"exp3\",\"exp3\",\"exp3\",\"exp3\",\"exp3\",\"exp3\",\"exp3\",\"exp3\",\"exp3\",\"exp3\",\"exp3\",\"exp3\",\"exp3\",\"exp3\",\"exp3\",\"exp3\",\"exp3\",\"exp3\",\"exp3\",\"exp3\",\"exp3\",\"exp3\",\"exp3\",\"exp3\",\"exp3\",\"exp3\",\"exp3\",\"exp3\",\"exp3\",\"exp3\",\"exp3\",\"exp3\",\"exp3\",\"exp3\",\"exp3\",\"exp3\",\"exp3\",\"exp3\",\"exp3\",\"exp3\",\"exp3\",\"exp3\",\"exp3\",\"exp3\",\"exp3\",\"exp3\",\"exp3\",\"exp3\",\"exp3\",\"exp3\",\"exp3\",\"exp3\",\"exp3\",\"exp3\",\"exp3\",\"exp3\",\"exp3\",\"exp3\",\"exp3\",\"exp3\",\"exp3\",\"exp3\",\"exp3\",\"exp3\",\"exp3\",\"exp3\",\"exp3\",\"exp3\",\"exp3\",\"exp3\",\"exp3\",\"exp3\",\"exp3\",\"exp3\",\"exp3\",\"exp3\",\"exp3\",\"exp3\",\"exp3\",\"exp3\",\"exp3\",\"exp3\",\"exp3\",\"exp3\",\"exp3\",\"exp3\",\"exp3\",\"exp3\",\"exp3\",\"exp3\",\"exp3\",\"exp3\",\"exp3\",\"exp3\",\"exp3\",\"exp3\",\"exp3\",\"exp3\",\"exp3\",\"exp3\",\"exp3\",\"exp3\",\"exp3\",\"exp3\",\"exp3\",\"exp3\",\"exp3\",\"exp3\",\"exp3\",\"exp3\",\"exp3\",\"exp3\",\"exp3\",\"exp3\",\"exp3\",\"exp3\",\"exp3\",\"exp3\",\"exp3\",\"exp3\",\"exp3\",\"exp3\",\"exp3\",\"exp3\",\"exp3\",\"exp3\",\"exp3\",\"exp3\",\"exp3\",\"exp3\",\"exp3\",\"exp3\",\"exp3\",\"exp3\",\"exp3\",\"exp3\",\"exp3\",\"exp3\",\"exp3\",\"exp3\",\"exp3\",\"exp3\",\"exp3\",\"exp3\",\"exp3\",\"exp3\",\"exp3\",\"exp3\",\"exp3\",\"exp3\",\"exp3\",\"exp3\",\"exp3\",\"exp3\",\"exp3\",\"exp3\",\"exp3\",\"exp3\",\"exp3\",\"exp3\",\"exp3\",\"exp3\",\"exp3\",\"exp3\",\"exp3\",\"exp3\",\"exp3\",\"exp3\",\"exp3\",\"exp3\",\"exp3\",\"exp3\",\"exp3\",\"exp3\",\"exp3\",\"exp3\",\"exp3\",\"exp3\",\"exp3\",\"exp3\",\"exp3\",\"exp3\",\"exp3\",\"exp3\",\"exp3\",\"exp3\",\"exp3\",\"exp3\",\"exp3\",\"exp3\",\"exp3\",\"exp3\",\"exp3\",\"exp3\",\"exp3\",\"exp3\",\"exp3\",\"exp3\",\"exp3\",\"exp3\",\"exp3\",\"exp3\",\"exp3\",\"exp3\",\"exp3\",\"exp3\",\"exp3\",\"exp3\",\"exp3\",\"exp3\",\"exp3\",\"exp3\",\"exp3\",\"exp3\",\"exp3\",\"exp3\",\"exp3\",\"exp3\",\"exp3\",\"exp3\",\"exp3\",\"exp3\",\"exp3\",\"exp3\",\"exp3\",\"exp3\",\"exp3\",\"exp3\",\"exp3\",\"exp3\",\"exp3\",\"exp3\",\"exp3\",\"exp3\",\"exp3\",\"exp3\",\"exp3\",\"exp3\",\"exp3\",\"exp3\",\"exp3\",\"exp3\",\"exp3\",\"exp3\",\"exp3\",\"exp3\",\"exp3\",\"exp3\",\"exp3\",\"exp3\",\"exp3\",\"exp3\",\"exp3\",\"exp3\",\"exp3\",\"exp3\",\"exp3\",\"exp3\",\"exp3\",\"exp3\",\"exp3\",\"exp3\",\"exp3\",\"exp3\",\"exp3\",\"exp3\",\"exp3\",\"exp3\",\"exp3\",\"exp3\",\"exp3\",\"exp3\",\"exp3\",\"exp3\",\"exp3\",\"exp3\",\"exp3\",\"exp3\",\"exp3\",\"exp3\",\"exp3\",\"exp3\",\"exp3\",\"exp3\",\"exp3\",\"exp3\",\"exp3\",\"exp3\",\"exp3\",\"exp3\",\"exp3\",\"exp3\",\"exp3\",\"exp3\",\"exp3\",\"exp3\",\"exp3\",\"exp3\",\"exp3\",\"exp3\",\"exp3\",\"exp3\",\"exp3\",\"exp3\",\"exp3\",\"exp3\",\"exp3\",\"exp3\",\"exp3\",\"exp3\",\"exp3\",\"exp3\",\"exp3\",\"exp3\",\"exp3\",\"exp3\",\"exp3\",\"exp3\",\"exp3\",\"exp3\",\"exp3\",\"exp3\",\"exp3\",\"exp3\",\"exp3\",\"exp3\",\"exp3\",\"exp3\",\"exp3\",\"exp3\",\"exp3\",\"exp3\",\"exp3\",\"exp3\",\"exp3\",\"exp3\",\"exp3\",\"exp3\",\"exp3\",\"exp3\",\"exp3\",\"exp3\",\"exp3\",\"exp3\",\"exp3\",\"exp3\",\"exp3\",\"exp3\",\"exp3\",\"exp3\",\"exp3\",\"exp3\",\"exp3\",\"exp3\",\"exp3\",\"exp3\",\"exp3\",\"exp3\",\"exp3\",\"exp3\",\"exp3\",\"exp3\",\"exp3\",\"exp3\",\"exp3\",\"exp3\",\"exp3\",\"exp3\",\"exp3\",\"exp3\",\"exp3\",\"exp3\",\"exp3\",\"exp3\",\"exp3\",\"exp3\",\"exp3\",\"exp3\",\"exp3\",\"exp3\",\"exp3\",\"exp3\",\"exp3\",\"exp3\",\"exp3\",\"exp3\",\"exp3\",\"exp3\",\"exp3\",\"exp3\",\"exp3\",\"exp3\",\"exp3\",\"exp3\",\"exp3\",\"exp3\",\"exp3\",\"exp3\",\"exp3\",\"exp3\",\"exp3\",\"exp3\",\"exp3\",\"exp3\",\"exp3\",\"exp3\",\"exp3\",\"exp3\",\"exp3\",\"exp3\",\"exp3\",\"exp3\",\"exp3\",\"exp3\",\"exp3\",\"exp3\",\"exp3\",\"exp3\",\"exp3\",\"exp3\",\"exp3\",\"exp3\",\"exp3\",\"exp3\",\"exp3\",\"exp3\",\"exp3\",\"exp3\",\"exp3\",\"exp3\",\"exp3\",\"exp3\",\"exp3\",\"exp3\",\"exp3\",\"exp3\",\"exp3\",\"exp3\",\"exp3\",\"exp3\",\"exp3\",\"exp3\",\"exp3\",\"exp3\",\"exp3\",\"exp3\",\"exp3\",\"exp3\",\"exp3\",\"exp3\",\"exp3\",\"exp3\",\"exp3\",\"exp3\",\"exp3\",\"exp3\",\"exp3\",\"exp3\",\"exp3\",\"exp3\",\"exp3\",\"exp3\",\"exp3\",\"exp3\",\"exp3\",\"exp3\",\"exp3\",\"exp3\",\"exp3\",\"exp3\",\"exp3\",\"exp3\",\"exp3\",\"exp3\",\"exp3\",\"exp3\",\"exp3\",\"exp3\",\"exp3\",\"exp3\",\"exp3\",\"exp3\",\"exp3\",\"exp3\",\"exp3\",\"exp3\",\"exp3\",\"exp3\",\"exp3\",\"exp3\",\"exp3\",\"exp3\",\"exp3\",\"exp3\",\"exp3\",\"exp3\",\"exp3\",\"exp3\",\"exp3\",\"exp3\",\"exp3\",\"exp3\",\"exp3\",\"exp3\",\"exp3\",\"exp3\",\"exp3\",\"exp3\",\"exp3\",\"exp3\",\"exp3\",\"exp3\",\"exp3\",\"exp3\",\"exp3\",\"exp3\",\"exp3\",\"exp3\",\"exp3\",\"exp3\",\"exp3\",\"exp3\",\"exp3\",\"exp3\",\"exp3\",\"exp3\",\"exp3\",\"exp3\",\"exp3\",\"exp3\",\"exp3\",\"exp3\",\"exp3\",\"exp3\",\"exp3\",\"exp3\",\"exp3\",\"exp3\",\"exp3\",\"exp3\",\"exp3\",\"exp3\",\"exp3\",\"exp3\",\"exp3\",\"exp3\",\"exp3\",\"exp3\",\"exp3\",\"exp3\",\"exp3\",\"exp3\",\"exp3\",\"exp3\",\"exp3\",\"exp3\",\"exp3\",\"exp3\",\"exp3\",\"exp3\",\"exp3\",\"exp3\",\"exp3\",\"exp3\",\"exp3\",\"exp3\",\"exp3\",\"exp3\",\"exp3\",\"exp3\",\"exp3\",\"exp3\",\"exp3\",\"exp3\",\"exp3\",\"exp3\",\"exp3\",\"exp3\",\"exp3\",\"exp3\",\"exp3\",\"exp3\",\"exp3\",\"exp3\",\"exp3\",\"exp3\",\"exp3\",\"exp3\",\"exp3\",\"exp3\",\"exp3\",\"exp3\",\"exp3\",\"exp3\",\"exp3\",\"exp3\",\"exp3\",\"exp3\",\"exp3\",\"exp3\",\"exp3\",\"exp3\",\"exp3\",\"exp3\",\"exp3\",\"exp3\",\"exp3\",\"exp3\",\"exp3\",\"exp3\",\"exp3\",\"exp3\",\"exp3\",\"exp3\",\"exp3\",\"exp3\",\"exp3\",\"exp3\",\"exp3\",\"exp3\",\"exp3\",\"exp3\",\"exp3\",\"exp3\",\"exp3\",\"exp3\",\"exp3\",\"exp3\",\"exp3\",\"exp3\",\"exp3\",\"exp3\",\"exp3\",\"exp3\",\"exp3\",\"exp3\",\"exp3\",\"exp3\",\"exp3\",\"exp3\",\"exp3\",\"exp3\",\"exp3\",\"exp3\",\"exp3\",\"exp3\",\"exp3\",\"exp3\",\"exp3\",\"exp3\",\"exp3\",\"exp3\",\"exp3\",\"exp3\",\"exp3\",\"exp3\",\"exp3\",\"exp3\",\"exp3\",\"exp3\",\"exp3\",\"exp3\",\"exp3\",\"exp3\",\"exp3\",\"exp3\",\"exp3\",\"exp3\",\"exp3\",\"exp3\",\"exp3\",\"exp3\",\"exp3\",\"exp3\",\"exp3\",\"exp3\",\"exp3\",\"exp3\",\"exp3\",\"exp3\",\"exp3\",\"exp3\",\"exp3\",\"exp3\",\"exp3\",\"exp3\",\"exp3\",\"exp3\",\"exp3\",\"exp3\",\"exp3\",\"exp3\",\"exp3\",\"exp3\",\"exp3\",\"exp3\",\"exp3\",\"exp3\",\"exp3\",\"exp3\",\"exp3\",\"exp3\",\"exp3\",\"exp3\",\"exp3\",\"exp3\",\"exp3\",\"exp3\",\"exp3\",\"exp3\",\"exp3\",\"exp3\",\"exp3\",\"exp3\",\"exp3\",\"exp3\",\"exp3\",\"exp3\",\"exp3\",\"exp3\",\"exp3\",\"exp3\",\"exp3\",\"exp3\",\"exp3\",\"exp3\",\"exp3\",\"exp3\",\"exp3\",\"exp3\",\"exp3\",\"exp3\",\"exp3\",\"exp3\",\"exp3\",\"exp3\",\"exp3\",\"exp3\",\"exp3\",\"exp3\",\"exp3\",\"exp3\",\"exp3\",\"exp3\",\"exp3\",\"exp3\",\"exp3\",\"exp3\",\"exp3\",\"exp3\",\"exp3\",\"exp3\",\"exp3\",\"exp3\",\"exp3\",\"exp3\",\"exp3\",\"exp3\",\"exp3\",\"exp3\",\"exp3\",\"exp3\",\"exp3\",\"exp3\",\"exp3\",\"exp3\",\"exp3\",\"exp3\",\"exp3\",\"exp3\",\"exp3\",\"exp3\",\"exp3\",\"exp3\",\"exp3\",\"exp3\",\"exp3\",\"exp3\",\"exp3\",\"exp3\",\"exp3\",\"exp3\",\"exp3\",\"exp3\",\"exp3\",\"exp3\",\"exp3\",\"exp3\",\"exp3\",\"exp3\",\"exp3\",\"exp3\",\"exp3\",\"exp3\",\"exp3\",\"exp3\",\"exp3\",\"exp3\",\"exp3\",\"exp3\",\"exp3\",\"exp3\",\"exp3\",\"exp3\",\"exp3\",\"exp3\",\"exp3\",\"exp3\",\"exp3\",\"exp3\",\"exp3\",\"exp3\",\"exp3\",\"exp3\",\"exp3\",\"exp3\",\"exp3\",\"exp3\",\"exp3\",\"exp3\",\"exp3\",\"exp3\",\"exp3\",\"exp3\",\"exp3\",\"exp3\",\"exp3\",\"exp3\",\"exp3\",\"exp3\",\"exp3\",\"exp3\",\"exp3\",\"exp3\",\"exp3\",\"exp3\",\"exp3\",\"exp3\",\"exp3\",\"exp3\",\"exp3\",\"exp3\",\"exp3\",\"exp3\",\"exp3\",\"exp3\",\"exp3\",\"exp3\",\"exp3\",\"exp3\",\"exp3\",\"exp3\",\"exp3\",\"exp3\",\"exp3\",\"exp3\",\"exp3\",\"exp3\",\"exp3\",\"exp3\",\"exp3\",\"exp3\",\"exp3\",\"exp3\",\"exp3\",\"exp3\",\"exp3\",\"exp3\",\"exp3\",\"exp3\",\"exp3\",\"exp3\",\"exp3\",\"exp3\",\"exp3\",\"exp3\",\"exp3\",\"exp3\",\"exp3\",\"exp3\",\"exp3\",\"exp3\",\"exp3\",\"exp3\",\"exp3\",\"exp3\",\"exp3\",\"exp3\",\"exp3\",\"exp3\",\"exp3\",\"exp3\",\"exp3\",\"exp3\",\"exp3\",\"exp3\",\"exp3\",\"exp3\",\"exp3\",\"exp3\",\"exp3\",\"exp3\",\"exp3\",\"exp3\",\"exp3\",\"exp3\",\"exp3\",\"exp3\",\"exp3\",\"exp3\",\"exp3\",\"exp3\",\"exp3\",\"exp3\",\"exp3\",\"exp3\",\"exp3\",\"exp3\",\"exp3\",\"exp3\",\"exp3\",\"exp3\",\"exp3\",\"exp3\",\"exp3\",\"exp3\",\"exp3\",\"exp3\",\"exp3\",\"exp3\",\"exp3\",\"exp3\",\"exp3\"],\"value\":{\"__ndarray__\":\"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\",\"dtype\":\"float64\",\"order\":\"little\",\"shape\":[1260]}},\"selected\":{\"id\":\"2916\"},\"selection_policy\":{\"id\":\"2932\"}},\"id\":\"2915\",\"type\":\"ColumnDataSource\"},{\"attributes\":{\"line_color\":\"#30a2da\",\"line_width\":2,\"x\":{\"field\":\"Date\"},\"y\":{\"field\":\"value\"}},\"id\":\"2914\",\"type\":\"Line\"},{\"attributes\":{\"label\":{\"value\":\"macd\"},\"renderers\":[{\"id\":\"2888\"}]},\"id\":\"2913\",\"type\":\"LegendItem\"},{\"attributes\":{\"line_color\":\"#30a2da\",\"line_width\":2,\"x\":{\"field\":\"Date\"},\"y\":{\"field\":\"value\"}},\"id\":\"2885\",\"type\":\"Line\"},{\"attributes\":{\"days\":[1,2,3,4,5,6,7,8,9,10,11,12,13,14,15,16,17,18,19,20,21,22,23,24,25,26,27,28,29,30,31]},\"id\":\"2903\",\"type\":\"DaysTicker\"},{\"attributes\":{},\"id\":\"2851\",\"type\":\"LinearScale\"},{\"attributes\":{},\"id\":\"2877\",\"type\":\"DatetimeTickFormatter\"},{\"attributes\":{\"axis_label\":\"\",\"coordinates\":null,\"formatter\":{\"id\":\"2880\"},\"group\":null,\"major_label_policy\":{\"id\":\"2881\"},\"ticker\":{\"id\":\"2860\"}},\"id\":\"2859\",\"type\":\"LinearAxis\"},{\"attributes\":{\"line_alpha\":0.1,\"line_color\":\"#fc4f30\",\"line_width\":2,\"x\":{\"field\":\"Date\"},\"y\":{\"field\":\"value\"}},\"id\":\"2919\",\"type\":\"Line\"},{\"attributes\":{},\"id\":\"2878\",\"type\":\"AllLabels\"},{\"attributes\":{},\"id\":\"2916\",\"type\":\"Selection\"},{\"attributes\":{\"days\":[1,8,15,22]},\"id\":\"2905\",\"type\":\"DaysTicker\"},{\"attributes\":{\"axis\":{\"id\":\"2855\"},\"coordinates\":null,\"grid_line_color\":null,\"group\":null,\"ticker\":null},\"id\":\"2858\",\"type\":\"Grid\"},{\"attributes\":{\"mantissas\":[1,2,5],\"max_interval\":500.0,\"num_minor_ticks\":0},\"id\":\"2900\",\"type\":\"AdaptiveTicker\"},{\"attributes\":{\"axis_label\":\"Date\",\"coordinates\":null,\"formatter\":{\"id\":\"2877\"},\"group\":null,\"major_label_policy\":{\"id\":\"2878\"},\"ticker\":{\"id\":\"2856\"}},\"id\":\"2855\",\"type\":\"DatetimeAxis\"},{\"attributes\":{\"source\":{\"id\":\"2915\"}},\"id\":\"2922\",\"type\":\"CDSView\"},{\"attributes\":{},\"id\":\"2860\",\"type\":\"BasicTicker\"},{\"attributes\":{\"line_alpha\":0.2,\"line_color\":\"#fc4f30\",\"line_width\":2,\"x\":{\"field\":\"Date\"},\"y\":{\"field\":\"value\"}},\"id\":\"2920\",\"type\":\"Line\"},{\"attributes\":{\"base\":60,\"mantissas\":[1,2,5,10,15,20,30],\"max_interval\":1800000.0,\"min_interval\":1000.0,\"num_minor_ticks\":0},\"id\":\"2901\",\"type\":\"AdaptiveTicker\"},{\"attributes\":{},\"id\":\"2853\",\"type\":\"LinearScale\"},{\"attributes\":{\"base\":24,\"mantissas\":[1,2,4,6,8,12],\"max_interval\":43200000.0,\"min_interval\":3600000.0,\"num_minor_ticks\":0},\"id\":\"2902\",\"type\":\"AdaptiveTicker\"},{\"attributes\":{\"margin\":[5,5,5,5],\"name\":\"HSpacer04545\",\"sizing_mode\":\"stretch_width\"},\"id\":\"2841\",\"type\":\"Spacer\"},{\"attributes\":{\"days\":[1,4,7,10,13,16,19,22,25,28]},\"id\":\"2904\",\"type\":\"DaysTicker\"},{\"attributes\":{\"num_minor_ticks\":5,\"tickers\":[{\"id\":\"2900\"},{\"id\":\"2901\"},{\"id\":\"2902\"},{\"id\":\"2903\"},{\"id\":\"2904\"},{\"id\":\"2905\"},{\"id\":\"2906\"},{\"id\":\"2907\"},{\"id\":\"2908\"},{\"id\":\"2909\"},{\"id\":\"2910\"},{\"id\":\"2911\"}]},\"id\":\"2856\",\"type\":\"DatetimeTicker\"},{\"attributes\":{\"days\":[1,15]},\"id\":\"2906\",\"type\":\"DaysTicker\"},{\"attributes\":{\"axis\":{\"id\":\"2859\"},\"coordinates\":null,\"dimension\":1,\"grid_line_color\":null,\"group\":null,\"ticker\":null},\"id\":\"2862\",\"type\":\"Grid\"},{\"attributes\":{\"label\":{\"value\":\"exp3\"},\"renderers\":[{\"id\":\"2921\"}]},\"id\":\"2947\",\"type\":\"LegendItem\"},{\"attributes\":{\"coordinates\":null,\"data_source\":{\"id\":\"2915\"},\"glyph\":{\"id\":\"2918\"},\"group\":null,\"hover_glyph\":null,\"muted_glyph\":{\"id\":\"2920\"},\"nonselection_glyph\":{\"id\":\"2919\"},\"selection_glyph\":{\"id\":\"2948\"},\"view\":{\"id\":\"2922\"}},\"id\":\"2921\",\"type\":\"GlyphRenderer\"}],\"root_ids\":[\"2840\"]},\"title\":\"Bokeh Application\",\"version\":\"2.4.1\"}};\n",
       "    var render_items = [{\"docid\":\"ae67a892-c66c-4011-a244-117ee62a13c8\",\"root_ids\":[\"2840\"],\"roots\":{\"2840\":\"521f1fe4-7ef6-4d49-af44-6c8ce553e0ee\"}}];\n",
       "    root.Bokeh.embed.embed_items_notebook(docs_json, render_items);\n",
       "  }\n",
       "  if (root.Bokeh !== undefined && root.Bokeh.Panel !== undefined) {\n",
       "    embed_document(root);\n",
       "  } else {\n",
       "    var attempts = 0;\n",
       "    var timer = setInterval(function(root) {\n",
       "      if (root.Bokeh !== undefined && root.Bokeh.Panel !== undefined) {\n",
       "        clearInterval(timer);\n",
       "        embed_document(root);\n",
       "      } else if (document.readyState == \"complete\") {\n",
       "        attempts++;\n",
       "        if (attempts > 200) {\n",
       "          clearInterval(timer);\n",
       "          console.log(\"Bokeh: ERROR: Unable to run BokehJS code because BokehJS library is missing\");\n",
       "        }\n",
       "      }\n",
       "    }, 25, root)\n",
       "  }\n",
       "})(window);</script>"
      ],
      "text/plain": [
       ":NdOverlay   [Variable]\n",
       "   :Curve   [Date]   (value)"
      ]
     },
     "execution_count": 105,
     "metadata": {
      "application/vnd.holoviews_exec.v0+json": {
       "id": "2840"
      }
     },
     "output_type": "execute_result"
    }
   ],
   "source": [
    "goog_df.hvplot.line(y=['macd', 'exp3'])"
   ]
  },
  {
   "cell_type": "code",
   "execution_count": 106,
   "id": "13ad7515-2d73-4f80-a6a7-11618892bf08",
   "metadata": {},
   "outputs": [],
   "source": [
    "goog_df[\"Actual Returns\"] = goog_df[\"Close\"].pct_change()"
   ]
  },
  {
   "cell_type": "code",
   "execution_count": 107,
   "id": "f8e0546a-157f-4081-8751-6f947ee9c6ef",
   "metadata": {},
   "outputs": [
    {
     "data": {
      "text/html": [
       "<div>\n",
       "<style scoped>\n",
       "    .dataframe tbody tr th:only-of-type {\n",
       "        vertical-align: middle;\n",
       "    }\n",
       "\n",
       "    .dataframe tbody tr th {\n",
       "        vertical-align: top;\n",
       "    }\n",
       "\n",
       "    .dataframe thead th {\n",
       "        text-align: right;\n",
       "    }\n",
       "</style>\n",
       "<table border=\"1\" class=\"dataframe\">\n",
       "  <thead>\n",
       "    <tr style=\"text-align: right;\">\n",
       "      <th></th>\n",
       "      <th>Open</th>\n",
       "      <th>High</th>\n",
       "      <th>Low</th>\n",
       "      <th>Close</th>\n",
       "      <th>Adj Close</th>\n",
       "      <th>Volume</th>\n",
       "      <th>macd</th>\n",
       "      <th>exp3</th>\n",
       "      <th>Actual Returns</th>\n",
       "      <th>Signal</th>\n",
       "    </tr>\n",
       "    <tr>\n",
       "      <th>Date</th>\n",
       "      <th></th>\n",
       "      <th></th>\n",
       "      <th></th>\n",
       "      <th></th>\n",
       "      <th></th>\n",
       "      <th></th>\n",
       "      <th></th>\n",
       "      <th></th>\n",
       "      <th></th>\n",
       "      <th></th>\n",
       "    </tr>\n",
       "  </thead>\n",
       "  <tbody>\n",
       "    <tr>\n",
       "      <th>2017-03-17</th>\n",
       "      <td>851.609985</td>\n",
       "      <td>853.400024</td>\n",
       "      <td>847.109985</td>\n",
       "      <td>852.119995</td>\n",
       "      <td>852.119995</td>\n",
       "      <td>1712300</td>\n",
       "      <td>0.266436</td>\n",
       "      <td>0.053287</td>\n",
       "      <td>0.003935</td>\n",
       "      <td>1.0</td>\n",
       "    </tr>\n",
       "    <tr>\n",
       "      <th>2017-03-20</th>\n",
       "      <td>850.010010</td>\n",
       "      <td>850.219971</td>\n",
       "      <td>845.150024</td>\n",
       "      <td>848.400024</td>\n",
       "      <td>848.400024</td>\n",
       "      <td>1231500</td>\n",
       "      <td>0.175396</td>\n",
       "      <td>0.077709</td>\n",
       "      <td>-0.004366</td>\n",
       "      <td>-1.0</td>\n",
       "    </tr>\n",
       "    <tr>\n",
       "      <th>2017-03-21</th>\n",
       "      <td>851.400024</td>\n",
       "      <td>853.500000</td>\n",
       "      <td>829.020020</td>\n",
       "      <td>830.460022</td>\n",
       "      <td>830.460022</td>\n",
       "      <td>2463500</td>\n",
       "      <td>-1.329042</td>\n",
       "      <td>-0.203641</td>\n",
       "      <td>-0.021146</td>\n",
       "      <td>-1.0</td>\n",
       "    </tr>\n",
       "    <tr>\n",
       "      <th>2017-03-22</th>\n",
       "      <td>831.909973</td>\n",
       "      <td>835.549988</td>\n",
       "      <td>827.179993</td>\n",
       "      <td>829.590027</td>\n",
       "      <td>829.590027</td>\n",
       "      <td>1401500</td>\n",
       "      <td>-2.561988</td>\n",
       "      <td>-0.675310</td>\n",
       "      <td>-0.001048</td>\n",
       "      <td>-1.0</td>\n",
       "    </tr>\n",
       "    <tr>\n",
       "      <th>2017-03-23</th>\n",
       "      <td>821.000000</td>\n",
       "      <td>822.570007</td>\n",
       "      <td>812.257019</td>\n",
       "      <td>817.580017</td>\n",
       "      <td>817.580017</td>\n",
       "      <td>3487100</td>\n",
       "      <td>-4.456838</td>\n",
       "      <td>-1.431616</td>\n",
       "      <td>-0.014477</td>\n",
       "      <td>-1.0</td>\n",
       "    </tr>\n",
       "  </tbody>\n",
       "</table>\n",
       "</div>"
      ],
      "text/plain": [
       "                  Open        High         Low       Close   Adj Close  \\\n",
       "Date                                                                     \n",
       "2017-03-17  851.609985  853.400024  847.109985  852.119995  852.119995   \n",
       "2017-03-20  850.010010  850.219971  845.150024  848.400024  848.400024   \n",
       "2017-03-21  851.400024  853.500000  829.020020  830.460022  830.460022   \n",
       "2017-03-22  831.909973  835.549988  827.179993  829.590027  829.590027   \n",
       "2017-03-23  821.000000  822.570007  812.257019  817.580017  817.580017   \n",
       "\n",
       "             Volume      macd      exp3  Actual Returns  Signal  \n",
       "Date                                                             \n",
       "2017-03-17  1712300  0.266436  0.053287        0.003935     1.0  \n",
       "2017-03-20  1231500  0.175396  0.077709       -0.004366    -1.0  \n",
       "2017-03-21  2463500 -1.329042 -0.203641       -0.021146    -1.0  \n",
       "2017-03-22  1401500 -2.561988 -0.675310       -0.001048    -1.0  \n",
       "2017-03-23  3487100 -4.456838 -1.431616       -0.014477    -1.0  "
      ]
     },
     "metadata": {},
     "output_type": "display_data"
    },
    {
     "data": {
      "text/html": [
       "<div>\n",
       "<style scoped>\n",
       "    .dataframe tbody tr th:only-of-type {\n",
       "        vertical-align: middle;\n",
       "    }\n",
       "\n",
       "    .dataframe tbody tr th {\n",
       "        vertical-align: top;\n",
       "    }\n",
       "\n",
       "    .dataframe thead th {\n",
       "        text-align: right;\n",
       "    }\n",
       "</style>\n",
       "<table border=\"1\" class=\"dataframe\">\n",
       "  <thead>\n",
       "    <tr style=\"text-align: right;\">\n",
       "      <th></th>\n",
       "      <th>Open</th>\n",
       "      <th>High</th>\n",
       "      <th>Low</th>\n",
       "      <th>Close</th>\n",
       "      <th>Adj Close</th>\n",
       "      <th>Volume</th>\n",
       "      <th>macd</th>\n",
       "      <th>exp3</th>\n",
       "      <th>Actual Returns</th>\n",
       "      <th>Signal</th>\n",
       "    </tr>\n",
       "    <tr>\n",
       "      <th>Date</th>\n",
       "      <th></th>\n",
       "      <th></th>\n",
       "      <th></th>\n",
       "      <th></th>\n",
       "      <th></th>\n",
       "      <th></th>\n",
       "      <th></th>\n",
       "      <th></th>\n",
       "      <th></th>\n",
       "      <th></th>\n",
       "    </tr>\n",
       "  </thead>\n",
       "  <tbody>\n",
       "    <tr>\n",
       "      <th>2022-03-10</th>\n",
       "      <td>2629.250000</td>\n",
       "      <td>2670.770020</td>\n",
       "      <td>2628.020020</td>\n",
       "      <td>2653.639893</td>\n",
       "      <td>2653.639893</td>\n",
       "      <td>1213300</td>\n",
       "      <td>-31.123714</td>\n",
       "      <td>-31.849788</td>\n",
       "      <td>-0.008845</td>\n",
       "      <td>-1.0</td>\n",
       "    </tr>\n",
       "    <tr>\n",
       "      <th>2022-03-11</th>\n",
       "      <td>2679.989990</td>\n",
       "      <td>2684.000000</td>\n",
       "      <td>2605.929932</td>\n",
       "      <td>2609.510010</td>\n",
       "      <td>2609.510010</td>\n",
       "      <td>1328500</td>\n",
       "      <td>-31.604403</td>\n",
       "      <td>-31.800711</td>\n",
       "      <td>-0.016630</td>\n",
       "      <td>-1.0</td>\n",
       "    </tr>\n",
       "    <tr>\n",
       "      <th>2022-03-14</th>\n",
       "      <td>2611.459961</td>\n",
       "      <td>2620.520020</td>\n",
       "      <td>2528.260010</td>\n",
       "      <td>2534.820068</td>\n",
       "      <td>2534.820068</td>\n",
       "      <td>1512700</td>\n",
       "      <td>-37.579019</td>\n",
       "      <td>-32.956373</td>\n",
       "      <td>-0.028622</td>\n",
       "      <td>-1.0</td>\n",
       "    </tr>\n",
       "    <tr>\n",
       "      <th>2022-03-15</th>\n",
       "      <td>2554.830078</td>\n",
       "      <td>2610.344971</td>\n",
       "      <td>2531.360107</td>\n",
       "      <td>2593.209961</td>\n",
       "      <td>2593.209961</td>\n",
       "      <td>1513700</td>\n",
       "      <td>-37.173852</td>\n",
       "      <td>-33.799869</td>\n",
       "      <td>0.023035</td>\n",
       "      <td>1.0</td>\n",
       "    </tr>\n",
       "    <tr>\n",
       "      <th>2022-03-15</th>\n",
       "      <td>2554.830078</td>\n",
       "      <td>2610.344971</td>\n",
       "      <td>2531.360107</td>\n",
       "      <td>2593.209961</td>\n",
       "      <td>2593.209961</td>\n",
       "      <td>1514630</td>\n",
       "      <td>-36.432780</td>\n",
       "      <td>-34.326451</td>\n",
       "      <td>0.000000</td>\n",
       "      <td>1.0</td>\n",
       "    </tr>\n",
       "  </tbody>\n",
       "</table>\n",
       "</div>"
      ],
      "text/plain": [
       "                   Open         High          Low        Close    Adj Close  \\\n",
       "Date                                                                          \n",
       "2022-03-10  2629.250000  2670.770020  2628.020020  2653.639893  2653.639893   \n",
       "2022-03-11  2679.989990  2684.000000  2605.929932  2609.510010  2609.510010   \n",
       "2022-03-14  2611.459961  2620.520020  2528.260010  2534.820068  2534.820068   \n",
       "2022-03-15  2554.830078  2610.344971  2531.360107  2593.209961  2593.209961   \n",
       "2022-03-15  2554.830078  2610.344971  2531.360107  2593.209961  2593.209961   \n",
       "\n",
       "             Volume       macd       exp3  Actual Returns  Signal  \n",
       "Date                                                               \n",
       "2022-03-10  1213300 -31.123714 -31.849788       -0.008845    -1.0  \n",
       "2022-03-11  1328500 -31.604403 -31.800711       -0.016630    -1.0  \n",
       "2022-03-14  1512700 -37.579019 -32.956373       -0.028622    -1.0  \n",
       "2022-03-15  1513700 -37.173852 -33.799869        0.023035     1.0  \n",
       "2022-03-15  1514630 -36.432780 -34.326451        0.000000     1.0  "
      ]
     },
     "metadata": {},
     "output_type": "display_data"
    }
   ],
   "source": [
    "goog_df['Signal'] = 0.0\n",
    "goog_df.loc[(goog_df['Actual Returns'] >= 0), 'Signal'] = 1\n",
    "goog_df.loc[(goog_df['Actual Returns'] < 0), 'Signal'] = -1\n",
    "goog_df = goog_df.dropna()\n",
    "display(goog_df.head())\n",
    "display(goog_df.tail())"
   ]
  },
  {
   "cell_type": "code",
   "execution_count": 108,
   "id": "8360de0e-4bd3-4612-85aa-cd2b83aa50f5",
   "metadata": {},
   "outputs": [
    {
     "data": {
      "text/html": [
       "<div>\n",
       "<style scoped>\n",
       "    .dataframe tbody tr th:only-of-type {\n",
       "        vertical-align: middle;\n",
       "    }\n",
       "\n",
       "    .dataframe tbody tr th {\n",
       "        vertical-align: top;\n",
       "    }\n",
       "\n",
       "    .dataframe thead th {\n",
       "        text-align: right;\n",
       "    }\n",
       "</style>\n",
       "<table border=\"1\" class=\"dataframe\">\n",
       "  <thead>\n",
       "    <tr style=\"text-align: right;\">\n",
       "      <th></th>\n",
       "      <th>macd</th>\n",
       "      <th>exp3</th>\n",
       "    </tr>\n",
       "    <tr>\n",
       "      <th>Date</th>\n",
       "      <th></th>\n",
       "      <th></th>\n",
       "    </tr>\n",
       "  </thead>\n",
       "  <tbody>\n",
       "    <tr>\n",
       "      <th>2017-03-20</th>\n",
       "      <td>0.266436</td>\n",
       "      <td>0.053287</td>\n",
       "    </tr>\n",
       "    <tr>\n",
       "      <th>2017-03-21</th>\n",
       "      <td>0.175396</td>\n",
       "      <td>0.077709</td>\n",
       "    </tr>\n",
       "    <tr>\n",
       "      <th>2017-03-22</th>\n",
       "      <td>-1.329042</td>\n",
       "      <td>-0.203641</td>\n",
       "    </tr>\n",
       "    <tr>\n",
       "      <th>2017-03-23</th>\n",
       "      <td>-2.561988</td>\n",
       "      <td>-0.675310</td>\n",
       "    </tr>\n",
       "    <tr>\n",
       "      <th>2017-03-24</th>\n",
       "      <td>-4.456838</td>\n",
       "      <td>-1.431616</td>\n",
       "    </tr>\n",
       "  </tbody>\n",
       "</table>\n",
       "</div>"
      ],
      "text/plain": [
       "                macd      exp3\n",
       "Date                          \n",
       "2017-03-20  0.266436  0.053287\n",
       "2017-03-21  0.175396  0.077709\n",
       "2017-03-22 -1.329042 -0.203641\n",
       "2017-03-23 -2.561988 -0.675310\n",
       "2017-03-24 -4.456838 -1.431616"
      ]
     },
     "execution_count": 108,
     "metadata": {},
     "output_type": "execute_result"
    }
   ],
   "source": [
    "X = goog_df[['macd', 'exp3']].shift().dropna()\n",
    "X.head()"
   ]
  },
  {
   "cell_type": "code",
   "execution_count": 109,
   "id": "8d7d8212-1cd5-4a9d-b3fd-881fcb57d92e",
   "metadata": {},
   "outputs": [
    {
     "data": {
      "text/plain": [
       " 1.0    693\n",
       "-1.0    566\n",
       "Name: Signal, dtype: int64"
      ]
     },
     "execution_count": 109,
     "metadata": {},
     "output_type": "execute_result"
    }
   ],
   "source": [
    "y = goog_df['Signal']\n",
    "y.value_counts()"
   ]
  },
  {
   "cell_type": "code",
   "execution_count": 110,
   "id": "797fa4fa-06df-4237-9f40-f8cd29278bce",
   "metadata": {},
   "outputs": [
    {
     "name": "stdout",
     "output_type": "stream",
     "text": [
      "2017-03-20 00:00:00\n"
     ]
    }
   ],
   "source": [
    "training_begin = X.index.min()\n",
    "print(training_begin)"
   ]
  },
  {
   "cell_type": "code",
   "execution_count": 111,
   "id": "22cba522-5294-42c2-a63f-754f0e7462c1",
   "metadata": {},
   "outputs": [
    {
     "name": "stdout",
     "output_type": "stream",
     "text": [
      "2017-06-20 00:00:00\n"
     ]
    }
   ],
   "source": [
    "training_end = X.index.min() + DateOffset(months=3)\n",
    "print(training_end)"
   ]
  },
  {
   "cell_type": "code",
   "execution_count": 112,
   "id": "dfbc3932-29ec-46f5-92b5-90a57a6f68d9",
   "metadata": {},
   "outputs": [
    {
     "data": {
      "text/html": [
       "<div>\n",
       "<style scoped>\n",
       "    .dataframe tbody tr th:only-of-type {\n",
       "        vertical-align: middle;\n",
       "    }\n",
       "\n",
       "    .dataframe tbody tr th {\n",
       "        vertical-align: top;\n",
       "    }\n",
       "\n",
       "    .dataframe thead th {\n",
       "        text-align: right;\n",
       "    }\n",
       "</style>\n",
       "<table border=\"1\" class=\"dataframe\">\n",
       "  <thead>\n",
       "    <tr style=\"text-align: right;\">\n",
       "      <th></th>\n",
       "      <th>macd</th>\n",
       "      <th>exp3</th>\n",
       "    </tr>\n",
       "    <tr>\n",
       "      <th>Date</th>\n",
       "      <th></th>\n",
       "      <th></th>\n",
       "    </tr>\n",
       "  </thead>\n",
       "  <tbody>\n",
       "    <tr>\n",
       "      <th>2017-03-20</th>\n",
       "      <td>0.266436</td>\n",
       "      <td>0.053287</td>\n",
       "    </tr>\n",
       "    <tr>\n",
       "      <th>2017-03-21</th>\n",
       "      <td>0.175396</td>\n",
       "      <td>0.077709</td>\n",
       "    </tr>\n",
       "    <tr>\n",
       "      <th>2017-03-22</th>\n",
       "      <td>-1.329042</td>\n",
       "      <td>-0.203641</td>\n",
       "    </tr>\n",
       "    <tr>\n",
       "      <th>2017-03-23</th>\n",
       "      <td>-2.561988</td>\n",
       "      <td>-0.675310</td>\n",
       "    </tr>\n",
       "    <tr>\n",
       "      <th>2017-03-24</th>\n",
       "      <td>-4.456838</td>\n",
       "      <td>-1.431616</td>\n",
       "    </tr>\n",
       "  </tbody>\n",
       "</table>\n",
       "</div>"
      ],
      "text/plain": [
       "                macd      exp3\n",
       "Date                          \n",
       "2017-03-20  0.266436  0.053287\n",
       "2017-03-21  0.175396  0.077709\n",
       "2017-03-22 -1.329042 -0.203641\n",
       "2017-03-23 -2.561988 -0.675310\n",
       "2017-03-24 -4.456838 -1.431616"
      ]
     },
     "execution_count": 112,
     "metadata": {},
     "output_type": "execute_result"
    }
   ],
   "source": [
    "X_train = X.loc[training_begin:training_end]\n",
    "y_train = y.loc[training_begin:training_end]\n",
    "X_train.head()"
   ]
  },
  {
   "cell_type": "code",
   "execution_count": 113,
   "id": "30cb0b95-1d65-4355-b156-1f375d7667d3",
   "metadata": {},
   "outputs": [
    {
     "data": {
      "text/html": [
       "<div>\n",
       "<style scoped>\n",
       "    .dataframe tbody tr th:only-of-type {\n",
       "        vertical-align: middle;\n",
       "    }\n",
       "\n",
       "    .dataframe tbody tr th {\n",
       "        vertical-align: top;\n",
       "    }\n",
       "\n",
       "    .dataframe thead th {\n",
       "        text-align: right;\n",
       "    }\n",
       "</style>\n",
       "<table border=\"1\" class=\"dataframe\">\n",
       "  <thead>\n",
       "    <tr style=\"text-align: right;\">\n",
       "      <th></th>\n",
       "      <th>macd</th>\n",
       "      <th>exp3</th>\n",
       "    </tr>\n",
       "    <tr>\n",
       "      <th>Date</th>\n",
       "      <th></th>\n",
       "      <th></th>\n",
       "    </tr>\n",
       "  </thead>\n",
       "  <tbody>\n",
       "    <tr>\n",
       "      <th>2017-06-21</th>\n",
       "      <td>6.363105</td>\n",
       "      <td>11.642294</td>\n",
       "    </tr>\n",
       "    <tr>\n",
       "      <th>2017-06-22</th>\n",
       "      <td>6.316986</td>\n",
       "      <td>10.577233</td>\n",
       "    </tr>\n",
       "    <tr>\n",
       "      <th>2017-06-23</th>\n",
       "      <td>6.020603</td>\n",
       "      <td>9.665907</td>\n",
       "    </tr>\n",
       "    <tr>\n",
       "      <th>2017-06-26</th>\n",
       "      <td>6.397846</td>\n",
       "      <td>9.012294</td>\n",
       "    </tr>\n",
       "    <tr>\n",
       "      <th>2017-06-27</th>\n",
       "      <td>5.557932</td>\n",
       "      <td>8.321422</td>\n",
       "    </tr>\n",
       "  </tbody>\n",
       "</table>\n",
       "</div>"
      ],
      "text/plain": [
       "                macd       exp3\n",
       "Date                           \n",
       "2017-06-21  6.363105  11.642294\n",
       "2017-06-22  6.316986  10.577233\n",
       "2017-06-23  6.020603   9.665907\n",
       "2017-06-26  6.397846   9.012294\n",
       "2017-06-27  5.557932   8.321422"
      ]
     },
     "execution_count": 113,
     "metadata": {},
     "output_type": "execute_result"
    }
   ],
   "source": [
    "X_test = X.loc[training_end + DateOffset(hours=1):]\n",
    "y_test = y.loc[training_end + DateOffset(hours=1):]\n",
    "X_test.head()"
   ]
  },
  {
   "cell_type": "code",
   "execution_count": 114,
   "id": "a12938c9-0aa0-467b-9e66-b391e7b56aa3",
   "metadata": {},
   "outputs": [],
   "source": [
    "scaler = StandardScaler()\n",
    "X_scaler = scaler.fit(X_train)\n",
    "X_train_scaled = X_scaler.transform(X_train)\n",
    "X_test_scaled = X_scaler.transform(X_test)"
   ]
  },
  {
   "cell_type": "code",
   "execution_count": 115,
   "id": "111f5edc-f72a-4335-bc0d-73970085a33d",
   "metadata": {},
   "outputs": [
    {
     "data": {
      "text/plain": [
       "array([1., 1., 1., ..., 1., 1., 1.])"
      ]
     },
     "execution_count": 115,
     "metadata": {},
     "output_type": "execute_result"
    }
   ],
   "source": [
    "svm_model = svm.SVC()\n",
    "svm_model = svm_model.fit(X_train_scaled, y_train)\n",
    "svm_pred = svm_model.predict(X_test_scaled)\n",
    "svm_pred"
   ]
  },
  {
   "cell_type": "code",
   "execution_count": 116,
   "id": "2df2f60f-2dff-41e3-80c6-8e9da6acd644",
   "metadata": {},
   "outputs": [
    {
     "name": "stdout",
     "output_type": "stream",
     "text": [
      "              precision    recall  f1-score   support\n",
      "\n",
      "        -1.0       0.38      0.01      0.02       540\n",
      "         1.0       0.55      0.98      0.70       653\n",
      "\n",
      "    accuracy                           0.54      1193\n",
      "   macro avg       0.46      0.50      0.36      1193\n",
      "weighted avg       0.47      0.54      0.39      1193\n",
      "\n"
     ]
    }
   ],
   "source": [
    "svm_testing_report = classification_report(y_test, svm_pred)\n",
    "print(svm_testing_report)"
   ]
  },
  {
   "cell_type": "code",
   "execution_count": 117,
   "id": "7f291c48-6676-4df0-b3a8-bf7a211f175a",
   "metadata": {},
   "outputs": [
    {
     "data": {
      "text/plain": [
       "False"
      ]
     },
     "execution_count": 117,
     "metadata": {},
     "output_type": "execute_result"
    }
   ],
   "source": [
    "goog_df.index.is_unique"
   ]
  },
  {
   "cell_type": "code",
   "execution_count": 118,
   "id": "8c51bb78-2622-4dea-ac41-708dbf865bb6",
   "metadata": {},
   "outputs": [
    {
     "data": {
      "text/plain": [
       "array([False, False, False, ..., False, False,  True])"
      ]
     },
     "execution_count": 118,
     "metadata": {},
     "output_type": "execute_result"
    }
   ],
   "source": [
    "goog_df.index.duplicated()"
   ]
  },
  {
   "cell_type": "code",
   "execution_count": 124,
   "id": "a0a8d7bf-b3c4-420f-9703-6431895bbf11",
   "metadata": {},
   "outputs": [],
   "source": [
    "goog_df = goog_df.loc[~goog_df.index.duplicated(), :]"
   ]
  },
  {
   "cell_type": "code",
   "execution_count": 120,
   "id": "a9060c75-edcd-4ef3-8840-3b811fa9a929",
   "metadata": {},
   "outputs": [
    {
     "data": {
      "text/plain": [
       "False"
      ]
     },
     "execution_count": 120,
     "metadata": {},
     "output_type": "execute_result"
    }
   ],
   "source": [
    "predictions_df = pd.DataFrame(index = X_test.index)\n",
    "predictions_df['Predicted'] = svm_pred\n",
    "predictions_df.index.is_unique"
   ]
  },
  {
   "cell_type": "code",
   "execution_count": 121,
   "id": "676ade90-74d0-4afa-9df1-b0dd4cc80873",
   "metadata": {},
   "outputs": [
    {
     "data": {
      "text/plain": [
       "array([False, False, False, ..., False, False,  True])"
      ]
     },
     "execution_count": 121,
     "metadata": {},
     "output_type": "execute_result"
    }
   ],
   "source": [
    "predictions_df.index.duplicated()"
   ]
  },
  {
   "cell_type": "code",
   "execution_count": 125,
   "id": "00bfe27b-edb1-4ada-a8f4-68e97c9ab736",
   "metadata": {},
   "outputs": [],
   "source": [
    "predictions_df = predictions_df.loc[~predictions_df.index.duplicated(), :]"
   ]
  },
  {
   "cell_type": "code",
   "execution_count": 126,
   "id": "3dd2e148-bdbd-4c71-807b-f6e50cda48d0",
   "metadata": {},
   "outputs": [
    {
     "name": "stderr",
     "output_type": "stream",
     "text": [
      "/var/folders/b8/s7fb18b52b55x0vh8h1qdpm80000gq/T/ipykernel_45346/3790382374.py:1: SettingWithCopyWarning: \n",
      "A value is trying to be set on a copy of a slice from a DataFrame.\n",
      "Try using .loc[row_indexer,col_indexer] = value instead\n",
      "\n",
      "See the caveats in the documentation: https://pandas.pydata.org/pandas-docs/stable/user_guide/indexing.html#returning-a-view-versus-a-copy\n",
      "  predictions_df['Actual Returns'] = goog_df['Actual Returns']\n",
      "/var/folders/b8/s7fb18b52b55x0vh8h1qdpm80000gq/T/ipykernel_45346/3790382374.py:2: SettingWithCopyWarning: \n",
      "A value is trying to be set on a copy of a slice from a DataFrame.\n",
      "Try using .loc[row_indexer,col_indexer] = value instead\n",
      "\n",
      "See the caveats in the documentation: https://pandas.pydata.org/pandas-docs/stable/user_guide/indexing.html#returning-a-view-versus-a-copy\n",
      "  predictions_df['Strategy Returns'] = (\n"
     ]
    },
    {
     "data": {
      "text/html": [
       "<div>\n",
       "<style scoped>\n",
       "    .dataframe tbody tr th:only-of-type {\n",
       "        vertical-align: middle;\n",
       "    }\n",
       "\n",
       "    .dataframe tbody tr th {\n",
       "        vertical-align: top;\n",
       "    }\n",
       "\n",
       "    .dataframe thead th {\n",
       "        text-align: right;\n",
       "    }\n",
       "</style>\n",
       "<table border=\"1\" class=\"dataframe\">\n",
       "  <thead>\n",
       "    <tr style=\"text-align: right;\">\n",
       "      <th></th>\n",
       "      <th>Predicted</th>\n",
       "      <th>Actual Returns</th>\n",
       "      <th>Strategy Returns</th>\n",
       "    </tr>\n",
       "    <tr>\n",
       "      <th>Date</th>\n",
       "      <th></th>\n",
       "      <th></th>\n",
       "      <th></th>\n",
       "    </tr>\n",
       "  </thead>\n",
       "  <tbody>\n",
       "    <tr>\n",
       "      <th>2017-06-21</th>\n",
       "      <td>1.0</td>\n",
       "      <td>0.009278</td>\n",
       "      <td>0.009278</td>\n",
       "    </tr>\n",
       "    <tr>\n",
       "      <th>2017-06-22</th>\n",
       "      <td>1.0</td>\n",
       "      <td>-0.002460</td>\n",
       "      <td>-0.002460</td>\n",
       "    </tr>\n",
       "    <tr>\n",
       "      <th>2017-06-23</th>\n",
       "      <td>1.0</td>\n",
       "      <td>0.008881</td>\n",
       "      <td>0.008881</td>\n",
       "    </tr>\n",
       "    <tr>\n",
       "      <th>2017-06-26</th>\n",
       "      <td>1.0</td>\n",
       "      <td>-0.013795</td>\n",
       "      <td>-0.013795</td>\n",
       "    </tr>\n",
       "    <tr>\n",
       "      <th>2017-06-27</th>\n",
       "      <td>1.0</td>\n",
       "      <td>-0.026190</td>\n",
       "      <td>-0.026190</td>\n",
       "    </tr>\n",
       "  </tbody>\n",
       "</table>\n",
       "</div>"
      ],
      "text/plain": [
       "            Predicted  Actual Returns  Strategy Returns\n",
       "Date                                                   \n",
       "2017-06-21        1.0        0.009278          0.009278\n",
       "2017-06-22        1.0       -0.002460         -0.002460\n",
       "2017-06-23        1.0        0.008881          0.008881\n",
       "2017-06-26        1.0       -0.013795         -0.013795\n",
       "2017-06-27        1.0       -0.026190         -0.026190"
      ]
     },
     "metadata": {},
     "output_type": "display_data"
    },
    {
     "data": {
      "text/html": [
       "<div>\n",
       "<style scoped>\n",
       "    .dataframe tbody tr th:only-of-type {\n",
       "        vertical-align: middle;\n",
       "    }\n",
       "\n",
       "    .dataframe tbody tr th {\n",
       "        vertical-align: top;\n",
       "    }\n",
       "\n",
       "    .dataframe thead th {\n",
       "        text-align: right;\n",
       "    }\n",
       "</style>\n",
       "<table border=\"1\" class=\"dataframe\">\n",
       "  <thead>\n",
       "    <tr style=\"text-align: right;\">\n",
       "      <th></th>\n",
       "      <th>Predicted</th>\n",
       "      <th>Actual Returns</th>\n",
       "      <th>Strategy Returns</th>\n",
       "    </tr>\n",
       "    <tr>\n",
       "      <th>Date</th>\n",
       "      <th></th>\n",
       "      <th></th>\n",
       "      <th></th>\n",
       "    </tr>\n",
       "  </thead>\n",
       "  <tbody>\n",
       "    <tr>\n",
       "      <th>2022-03-09</th>\n",
       "      <td>1.0</td>\n",
       "      <td>0.051757</td>\n",
       "      <td>0.051757</td>\n",
       "    </tr>\n",
       "    <tr>\n",
       "      <th>2022-03-10</th>\n",
       "      <td>1.0</td>\n",
       "      <td>-0.008845</td>\n",
       "      <td>-0.008845</td>\n",
       "    </tr>\n",
       "    <tr>\n",
       "      <th>2022-03-11</th>\n",
       "      <td>1.0</td>\n",
       "      <td>-0.016630</td>\n",
       "      <td>-0.016630</td>\n",
       "    </tr>\n",
       "    <tr>\n",
       "      <th>2022-03-14</th>\n",
       "      <td>1.0</td>\n",
       "      <td>-0.028622</td>\n",
       "      <td>-0.028622</td>\n",
       "    </tr>\n",
       "    <tr>\n",
       "      <th>2022-03-15</th>\n",
       "      <td>1.0</td>\n",
       "      <td>0.023035</td>\n",
       "      <td>0.023035</td>\n",
       "    </tr>\n",
       "  </tbody>\n",
       "</table>\n",
       "</div>"
      ],
      "text/plain": [
       "            Predicted  Actual Returns  Strategy Returns\n",
       "Date                                                   \n",
       "2022-03-09        1.0        0.051757          0.051757\n",
       "2022-03-10        1.0       -0.008845         -0.008845\n",
       "2022-03-11        1.0       -0.016630         -0.016630\n",
       "2022-03-14        1.0       -0.028622         -0.028622\n",
       "2022-03-15        1.0        0.023035          0.023035"
      ]
     },
     "metadata": {},
     "output_type": "display_data"
    }
   ],
   "source": [
    "predictions_df['Actual Returns'] = goog_df['Actual Returns']\n",
    "predictions_df['Strategy Returns'] = (\n",
    "    predictions_df['Actual Returns'] * predictions_df['Predicted']\n",
    ")\n",
    "display(predictions_df.head())\n",
    "display(predictions_df.tail())"
   ]
  },
  {
   "cell_type": "code",
   "execution_count": 127,
   "id": "33c43ed1-b75c-4e21-b289-c74a1137f3ec",
   "metadata": {},
   "outputs": [
    {
     "data": {
      "text/plain": [
       "<AxesSubplot:xlabel='Date'>"
      ]
     },
     "execution_count": 127,
     "metadata": {},
     "output_type": "execute_result"
    },
    {
     "data": {
      "image/png": "[encoded data removed]",
      "text/plain": [
       "<Figure size 432x288 with 1 Axes>"
      ]
     },
     "metadata": {
      "needs_background": "light"
     },
     "output_type": "display_data"
    }
   ],
   "source": [
    "(1 + predictions_df[['Actual Returns', 'Strategy Returns']]).cumprod().plot()"
   ]
  },
  {
   "cell_type": "code",
   "execution_count": null,
   "id": "18315045-8129-4619-8e6b-74b68654a00c",
   "metadata": {},
   "outputs": [],
   "source": []
  }
 ],
 "metadata": {
  "kernelspec": {
   "display_name": "Python 3.9.7 64-bit ('dev': conda)",
   "language": "python",
   "name": "python397jvsc74a57bd039fd4f7935656d6ca2e81686471bb91fda69f889511528cd43d174a39a9c9681"
  },
  "language_info": {
   "codemirror_mode": {
    "name": "ipython",
    "version": 3
   },
   "file_extension": ".py",
   "mimetype": "text/x-python",
   "name": "python",
   "nbconvert_exporter": "python",
   "pygments_lexer": "ipython3",
   "version": "3.9.7"
  }
 },
 "nbformat": 4,
 "nbformat_minor": 5
}
