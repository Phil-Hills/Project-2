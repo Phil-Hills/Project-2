{
 "cells": [
  {
   "cell_type": "code",
   "execution_count": 391,
   "id": "be8ccae6-a582-49bb-94ef-e952759c8215",
   "metadata": {},
   "outputs": [],
   "source": [
    "# Imports\n",
    "import pandas as pd\n",
    "import numpy as np\n",
    "from pathlib import Path\n",
    "import hvplot.pandas\n",
    "import matplotlib.pyplot as plt\n",
    "from sklearn import svm\n",
    "from sklearn.preprocessing import StandardScaler\n",
    "from pandas.tseries.offsets import DateOffset\n",
    "from sklearn.metrics import classification_report"
   ]
  },
  {
   "cell_type": "code",
   "execution_count": 392,
   "id": "106b3dc7-3249-47a3-9701-278cfc8d69e8",
   "metadata": {},
   "outputs": [],
   "source": [
    "goog_df = pd.read_csv(Path(\"/Users/Hockenbery/fintech/Python_Project/Project-2/GOOG.csv\"),\n",
    "    index_col='Date', \n",
    "    infer_datetime_format=True, \n",
    "    parse_dates=True\n",
    ")"
   ]
  },
  {
   "cell_type": "code",
   "execution_count": 393,
   "id": "c843056d-ccef-4e83-8a4b-e3aa97efcb24",
   "metadata": {},
   "outputs": [
    {
     "data": {
      "text/html": [
       "<div>\n",
       "<style scoped>\n",
       "    .dataframe tbody tr th:only-of-type {\n",
       "        vertical-align: middle;\n",
       "    }\n",
       "\n",
       "    .dataframe tbody tr th {\n",
       "        vertical-align: top;\n",
       "    }\n",
       "\n",
       "    .dataframe thead th {\n",
       "        text-align: right;\n",
       "    }\n",
       "</style>\n",
       "<table border=\"1\" class=\"dataframe\">\n",
       "  <thead>\n",
       "    <tr style=\"text-align: right;\">\n",
       "      <th></th>\n",
       "      <th>Open</th>\n",
       "      <th>High</th>\n",
       "      <th>Low</th>\n",
       "      <th>Close</th>\n",
       "      <th>Adj Close</th>\n",
       "      <th>Volume</th>\n",
       "    </tr>\n",
       "    <tr>\n",
       "      <th>Date</th>\n",
       "      <th></th>\n",
       "      <th></th>\n",
       "      <th></th>\n",
       "      <th></th>\n",
       "      <th></th>\n",
       "      <th></th>\n",
       "    </tr>\n",
       "  </thead>\n",
       "  <tbody>\n",
       "    <tr>\n",
       "      <th>2017-03-16</th>\n",
       "      <td>849.030029</td>\n",
       "      <td>850.849976</td>\n",
       "      <td>846.130005</td>\n",
       "      <td>848.780029</td>\n",
       "      <td>848.780029</td>\n",
       "      <td>977600</td>\n",
       "    </tr>\n",
       "    <tr>\n",
       "      <th>2017-03-17</th>\n",
       "      <td>851.609985</td>\n",
       "      <td>853.400024</td>\n",
       "      <td>847.109985</td>\n",
       "      <td>852.119995</td>\n",
       "      <td>852.119995</td>\n",
       "      <td>1712300</td>\n",
       "    </tr>\n",
       "    <tr>\n",
       "      <th>2017-03-20</th>\n",
       "      <td>850.010010</td>\n",
       "      <td>850.219971</td>\n",
       "      <td>845.150024</td>\n",
       "      <td>848.400024</td>\n",
       "      <td>848.400024</td>\n",
       "      <td>1231500</td>\n",
       "    </tr>\n",
       "    <tr>\n",
       "      <th>2017-03-21</th>\n",
       "      <td>851.400024</td>\n",
       "      <td>853.500000</td>\n",
       "      <td>829.020020</td>\n",
       "      <td>830.460022</td>\n",
       "      <td>830.460022</td>\n",
       "      <td>2463500</td>\n",
       "    </tr>\n",
       "    <tr>\n",
       "      <th>2017-03-22</th>\n",
       "      <td>831.909973</td>\n",
       "      <td>835.549988</td>\n",
       "      <td>827.179993</td>\n",
       "      <td>829.590027</td>\n",
       "      <td>829.590027</td>\n",
       "      <td>1401500</td>\n",
       "    </tr>\n",
       "  </tbody>\n",
       "</table>\n",
       "</div>"
      ],
      "text/plain": [
       "                  Open        High         Low       Close   Adj Close  \\\n",
       "Date                                                                     \n",
       "2017-03-16  849.030029  850.849976  846.130005  848.780029  848.780029   \n",
       "2017-03-17  851.609985  853.400024  847.109985  852.119995  852.119995   \n",
       "2017-03-20  850.010010  850.219971  845.150024  848.400024  848.400024   \n",
       "2017-03-21  851.400024  853.500000  829.020020  830.460022  830.460022   \n",
       "2017-03-22  831.909973  835.549988  827.179993  829.590027  829.590027   \n",
       "\n",
       "             Volume  \n",
       "Date                 \n",
       "2017-03-16   977600  \n",
       "2017-03-17  1712300  \n",
       "2017-03-20  1231500  \n",
       "2017-03-21  2463500  \n",
       "2017-03-22  1401500  "
      ]
     },
     "execution_count": 393,
     "metadata": {},
     "output_type": "execute_result"
    }
   ],
   "source": [
    "goog_df.head()"
   ]
  },
  {
   "cell_type": "code",
   "execution_count": 394,
   "id": "0df8fc01-2de2-4f6e-a960-60bf3c603599",
   "metadata": {},
   "outputs": [
    {
     "data": {
      "text/plain": [
       "<AxesSubplot:xlabel='Date'>"
      ]
     },
     "execution_count": 394,
     "metadata": {},
     "output_type": "execute_result"
    },
    {
     "data": {
      "image/png": "[encoded data removed]",
      "text/plain": [
       "<Figure size 432x288 with 1 Axes>"
      ]
     },
     "metadata": {
      "needs_background": "light"
     },
     "output_type": "display_data"
    }
   ],
   "source": [
    "goog_df.plot(y='Adj Close')"
   ]
  },
  {
   "cell_type": "code",
   "execution_count": 395,
   "id": "7c886f47-925b-4132-83d6-a0e221936261",
   "metadata": {},
   "outputs": [],
   "source": [
    "exp1 = goog_df.Close.ewm(span=12, adjust=False).mean()\n",
    "exp2 = goog_df.Close.ewm(span=26, adjust=False).mean()"
   ]
  },
  {
   "cell_type": "code",
   "execution_count": 396,
   "id": "03d0907b-7e5b-429a-a473-a8db789e3477",
   "metadata": {},
   "outputs": [
    {
     "data": {
      "text/html": [
       "<div>\n",
       "<style scoped>\n",
       "    .dataframe tbody tr th:only-of-type {\n",
       "        vertical-align: middle;\n",
       "    }\n",
       "\n",
       "    .dataframe tbody tr th {\n",
       "        vertical-align: top;\n",
       "    }\n",
       "\n",
       "    .dataframe thead th {\n",
       "        text-align: right;\n",
       "    }\n",
       "</style>\n",
       "<table border=\"1\" class=\"dataframe\">\n",
       "  <thead>\n",
       "    <tr style=\"text-align: right;\">\n",
       "      <th></th>\n",
       "      <th>Open</th>\n",
       "      <th>High</th>\n",
       "      <th>Low</th>\n",
       "      <th>Close</th>\n",
       "      <th>Adj Close</th>\n",
       "      <th>Volume</th>\n",
       "      <th>macd</th>\n",
       "      <th>exp3</th>\n",
       "    </tr>\n",
       "    <tr>\n",
       "      <th>Date</th>\n",
       "      <th></th>\n",
       "      <th></th>\n",
       "      <th></th>\n",
       "      <th></th>\n",
       "      <th></th>\n",
       "      <th></th>\n",
       "      <th></th>\n",
       "      <th></th>\n",
       "    </tr>\n",
       "  </thead>\n",
       "  <tbody>\n",
       "    <tr>\n",
       "      <th>2017-03-16</th>\n",
       "      <td>849.030029</td>\n",
       "      <td>850.849976</td>\n",
       "      <td>846.130005</td>\n",
       "      <td>848.780029</td>\n",
       "      <td>848.780029</td>\n",
       "      <td>977600</td>\n",
       "      <td>0.000000</td>\n",
       "      <td>0.000000</td>\n",
       "    </tr>\n",
       "    <tr>\n",
       "      <th>2017-03-17</th>\n",
       "      <td>851.609985</td>\n",
       "      <td>853.400024</td>\n",
       "      <td>847.109985</td>\n",
       "      <td>852.119995</td>\n",
       "      <td>852.119995</td>\n",
       "      <td>1712300</td>\n",
       "      <td>0.266436</td>\n",
       "      <td>0.053287</td>\n",
       "    </tr>\n",
       "    <tr>\n",
       "      <th>2017-03-20</th>\n",
       "      <td>850.010010</td>\n",
       "      <td>850.219971</td>\n",
       "      <td>845.150024</td>\n",
       "      <td>848.400024</td>\n",
       "      <td>848.400024</td>\n",
       "      <td>1231500</td>\n",
       "      <td>0.175396</td>\n",
       "      <td>0.077709</td>\n",
       "    </tr>\n",
       "    <tr>\n",
       "      <th>2017-03-21</th>\n",
       "      <td>851.400024</td>\n",
       "      <td>853.500000</td>\n",
       "      <td>829.020020</td>\n",
       "      <td>830.460022</td>\n",
       "      <td>830.460022</td>\n",
       "      <td>2463500</td>\n",
       "      <td>-1.329042</td>\n",
       "      <td>-0.203641</td>\n",
       "    </tr>\n",
       "    <tr>\n",
       "      <th>2017-03-22</th>\n",
       "      <td>831.909973</td>\n",
       "      <td>835.549988</td>\n",
       "      <td>827.179993</td>\n",
       "      <td>829.590027</td>\n",
       "      <td>829.590027</td>\n",
       "      <td>1401500</td>\n",
       "      <td>-2.561988</td>\n",
       "      <td>-0.675310</td>\n",
       "    </tr>\n",
       "  </tbody>\n",
       "</table>\n",
       "</div>"
      ],
      "text/plain": [
       "                  Open        High         Low       Close   Adj Close  \\\n",
       "Date                                                                     \n",
       "2017-03-16  849.030029  850.849976  846.130005  848.780029  848.780029   \n",
       "2017-03-17  851.609985  853.400024  847.109985  852.119995  852.119995   \n",
       "2017-03-20  850.010010  850.219971  845.150024  848.400024  848.400024   \n",
       "2017-03-21  851.400024  853.500000  829.020020  830.460022  830.460022   \n",
       "2017-03-22  831.909973  835.549988  827.179993  829.590027  829.590027   \n",
       "\n",
       "             Volume      macd      exp3  \n",
       "Date                                     \n",
       "2017-03-16   977600  0.000000  0.000000  \n",
       "2017-03-17  1712300  0.266436  0.053287  \n",
       "2017-03-20  1231500  0.175396  0.077709  \n",
       "2017-03-21  2463500 -1.329042 -0.203641  \n",
       "2017-03-22  1401500 -2.561988 -0.675310  "
      ]
     },
     "execution_count": 396,
     "metadata": {},
     "output_type": "execute_result"
    }
   ],
   "source": [
    "macd = exp1-exp2\n",
    "exp3 = macd.ewm(span=9, adjust=False).mean()\n",
    "goog_df['macd'] = macd\n",
    "goog_df['exp3'] = exp3\n",
    "goog_df.head()"
   ]
  },
  {
   "cell_type": "code",
   "execution_count": 397,
   "id": "fda34ea4-b5f2-4d60-8dcb-470756d543a4",
   "metadata": {},
   "outputs": [
    {
     "data": {},
     "metadata": {},
     "output_type": "display_data"
    },
    {
     "data": {
      "application/vnd.holoviews_exec.v0+json": "",
      "text/html": [
       "<div id='7817'>\n",
       "\n",
       "\n",
       "\n",
       "\n",
       "\n",
       "  <div class=\"bk-root\" id=\"2d12caf7-3904-4984-9e47-c43fb3854077\" data-root-id=\"7817\"></div>\n",
       "</div>\n",
       "<script type=\"application/javascript\">(function(root) {\n",
       "  function embed_document(root) {\n",
       "    var docs_json = {\"b651553b-2a22-400a-9c1f-f8287c2ee341\":{\"defs\":[{\"extends\":null,\"module\":null,\"name\":\"ReactiveHTML1\",\"overrides\":[],\"properties\":[]},{\"extends\":null,\"module\":null,\"name\":\"FlexBox1\",\"overrides\":[],\"properties\":[{\"default\":\"flex-start\",\"kind\":null,\"name\":\"align_content\"},{\"default\":\"flex-start\",\"kind\":null,\"name\":\"align_items\"},{\"default\":\"row\",\"kind\":null,\"name\":\"flex_direction\"},{\"default\":\"wrap\",\"kind\":null,\"name\":\"flex_wrap\"},{\"default\":\"flex-start\",\"kind\":null,\"name\":\"justify_content\"}]},{\"extends\":null,\"module\":null,\"name\":\"TemplateActions1\",\"overrides\":[],\"properties\":[{\"default\":0,\"kind\":null,\"name\":\"open_modal\"},{\"default\":0,\"kind\":null,\"name\":\"close_modal\"}]},{\"extends\":null,\"module\":null,\"name\":\"MaterialTemplateActions1\",\"overrides\":[],\"properties\":[{\"default\":0,\"kind\":null,\"name\":\"open_modal\"},{\"default\":0,\"kind\":null,\"name\":\"close_modal\"}]}],\"roots\":{\"references\":[{\"attributes\":{\"axis_label\":\"\",\"coordinates\":null,\"formatter\":{\"id\":\"7857\"},\"group\":null,\"major_label_policy\":{\"id\":\"7858\"},\"ticker\":{\"id\":\"7837\"}},\"id\":\"7836\",\"type\":\"LinearAxis\"},{\"attributes\":{\"margin\":[5,5,5,5],\"name\":\"HSpacer10433\",\"sizing_mode\":\"stretch_width\"},\"id\":\"7818\",\"type\":\"Spacer\"},{\"attributes\":{\"axis\":{\"id\":\"7832\"},\"coordinates\":null,\"grid_line_color\":null,\"group\":null,\"ticker\":null},\"id\":\"7835\",\"type\":\"Grid\"},{\"attributes\":{\"line_color\":\"#fc4f30\",\"line_width\":2,\"x\":{\"field\":\"Date\"},\"y\":{\"field\":\"value\"}},\"id\":\"7925\",\"type\":\"Line\"},{\"attributes\":{\"line_alpha\":0.1,\"line_color\":\"#fc4f30\",\"line_width\":2,\"x\":{\"field\":\"Date\"},\"y\":{\"field\":\"value\"}},\"id\":\"7896\",\"type\":\"Line\"},{\"attributes\":{\"coordinates\":null,\"group\":null,\"text_color\":\"black\",\"text_font_size\":\"12pt\"},\"id\":\"7824\",\"type\":\"Title\"},{\"attributes\":{},\"id\":\"7893\",\"type\":\"Selection\"},{\"attributes\":{},\"id\":\"7837\",\"type\":\"BasicTicker\"},{\"attributes\":{\"mantissas\":[1,2,5],\"max_interval\":500.0,\"num_minor_ticks\":0},\"id\":\"7877\",\"type\":\"AdaptiveTicker\"},{\"attributes\":{},\"id\":\"7841\",\"type\":\"PanTool\"},{\"attributes\":{},\"id\":\"7830\",\"type\":\"LinearScale\"},{\"attributes\":{\"coordinates\":null,\"data_source\":{\"id\":\"7892\"},\"glyph\":{\"id\":\"7895\"},\"group\":null,\"hover_glyph\":null,\"muted_glyph\":{\"id\":\"7897\"},\"nonselection_glyph\":{\"id\":\"7896\"},\"selection_glyph\":{\"id\":\"7925\"},\"view\":{\"id\":\"7899\"}},\"id\":\"7898\",\"type\":\"GlyphRenderer\"},{\"attributes\":{\"axis_label\":\"Date\",\"coordinates\":null,\"formatter\":{\"id\":\"7854\"},\"group\":null,\"major_label_policy\":{\"id\":\"7855\"},\"ticker\":{\"id\":\"7833\"}},\"id\":\"7832\",\"type\":\"DatetimeAxis\"},{\"attributes\":{\"line_alpha\":0.2,\"line_color\":\"#fc4f30\",\"line_width\":2,\"x\":{\"field\":\"Date\"},\"y\":{\"field\":\"value\"}},\"id\":\"7897\",\"type\":\"Line\"},{\"attributes\":{\"base\":60,\"mantissas\":[1,2,5,10,15,20,30],\"max_interval\":1800000.0,\"min_interval\":1000.0,\"num_minor_ticks\":0},\"id\":\"7878\",\"type\":\"AdaptiveTicker\"},{\"attributes\":{},\"id\":\"7855\",\"type\":\"AllLabels\"},{\"attributes\":{\"base\":24,\"mantissas\":[1,2,4,6,8,12],\"max_interval\":43200000.0,\"min_interval\":3600000.0,\"num_minor_ticks\":0},\"id\":\"7879\",\"type\":\"AdaptiveTicker\"},{\"attributes\":{},\"id\":\"7888\",\"type\":\"YearsTicker\"},{\"attributes\":{\"num_minor_ticks\":5,\"tickers\":[{\"id\":\"7877\"},{\"id\":\"7878\"},{\"id\":\"7879\"},{\"id\":\"7880\"},{\"id\":\"7881\"},{\"id\":\"7882\"},{\"id\":\"7883\"},{\"id\":\"7884\"},{\"id\":\"7885\"},{\"id\":\"7886\"},{\"id\":\"7887\"},{\"id\":\"7888\"}]},\"id\":\"7833\",\"type\":\"DatetimeTicker\"},{\"attributes\":{\"months\":[0,1,2,3,4,5,6,7,8,9,10,11]},\"id\":\"7884\",\"type\":\"MonthsTicker\"},{\"attributes\":{\"axis\":{\"id\":\"7836\"},\"coordinates\":null,\"dimension\":1,\"grid_line_color\":null,\"group\":null,\"ticker\":null},\"id\":\"7839\",\"type\":\"Grid\"},{\"attributes\":{\"source\":{\"id\":\"7892\"}},\"id\":\"7899\",\"type\":\"CDSView\"},{\"attributes\":{\"days\":[1,15]},\"id\":\"7883\",\"type\":\"DaysTicker\"},{\"attributes\":{\"callback\":null,\"formatters\":{\"@{Date}\":\"datetime\"},\"renderers\":[{\"id\":\"7865\"},{\"id\":\"7898\"}],\"tags\":[\"hv_created\"],\"tooltips\":[[\"Variable\",\"@{Variable}\"],[\"Date\",\"@{Date}{%F %T}\"],[\"value\",\"@{value}\"]]},\"id\":\"7821\",\"type\":\"HoverTool\"},{\"attributes\":{\"days\":[1,2,3,4,5,6,7,8,9,10,11,12,13,14,15,16,17,18,19,20,21,22,23,24,25,26,27,28,29,30,31]},\"id\":\"7880\",\"type\":\"DaysTicker\"},{\"attributes\":{\"days\":[1,4,7,10,13,16,19,22,25,28]},\"id\":\"7881\",\"type\":\"DaysTicker\"},{\"attributes\":{\"label\":{\"value\":\"exp3\"},\"renderers\":[{\"id\":\"7898\"}]},\"id\":\"7924\",\"type\":\"LegendItem\"},{\"attributes\":{\"days\":[1,8,15,22]},\"id\":\"7882\",\"type\":\"DaysTicker\"},{\"attributes\":{},\"id\":\"7842\",\"type\":\"WheelZoomTool\"},{\"attributes\":{\"months\":[0,6]},\"id\":\"7887\",\"type\":\"MonthsTicker\"},{\"attributes\":{},\"id\":\"7840\",\"type\":\"SaveTool\"},{\"attributes\":{\"months\":[0,2,4,6,8,10]},\"id\":\"7885\",\"type\":\"MonthsTicker\"},{\"attributes\":{},\"id\":\"7860\",\"type\":\"Selection\"},{\"attributes\":{\"overlay\":{\"id\":\"7845\"}},\"id\":\"7843\",\"type\":\"BoxZoomTool\"},{\"attributes\":{},\"id\":\"7909\",\"type\":\"UnionRenderers\"},{\"attributes\":{},\"id\":\"7844\",\"type\":\"ResetTool\"},{\"attributes\":{\"months\":[0,4,8]},\"id\":\"7886\",\"type\":\"MonthsTicker\"},{\"attributes\":{\"children\":[{\"id\":\"7818\"},{\"id\":\"7823\"},{\"id\":\"8142\"}],\"margin\":[0,0,0,0],\"name\":\"Row10429\",\"tags\":[\"embedded\"]},\"id\":\"7817\",\"type\":\"Row\"},{\"attributes\":{},\"id\":\"7874\",\"type\":\"UnionRenderers\"},{\"attributes\":{\"bottom_units\":\"screen\",\"coordinates\":null,\"fill_alpha\":0.5,\"fill_color\":\"lightgrey\",\"group\":null,\"left_units\":\"screen\",\"level\":\"overlay\",\"line_alpha\":1.0,\"line_color\":\"black\",\"line_dash\":[4,4],\"line_width\":2,\"right_units\":\"screen\",\"syncable\":false,\"top_units\":\"screen\"},\"id\":\"7845\",\"type\":\"BoxAnnotation\"},{\"attributes\":{\"tools\":[{\"id\":\"7821\"},{\"id\":\"7840\"},{\"id\":\"7841\"},{\"id\":\"7842\"},{\"id\":\"7843\"},{\"id\":\"7844\"}]},\"id\":\"7846\",\"type\":\"Toolbar\"},{\"attributes\":{\"line_color\":\"#30a2da\",\"line_width\":2,\"x\":{\"field\":\"Date\"},\"y\":{\"field\":\"value\"}},\"id\":\"7862\",\"type\":\"Line\"},{\"attributes\":{\"end\":1647302400000.0,\"reset_end\":1647302400000.0,\"reset_start\":1489622400000.0,\"start\":1489622400000.0,\"tags\":[[[\"Date\",\"Date\",null]]]},\"id\":\"7819\",\"type\":\"Range1d\"},{\"attributes\":{},\"id\":\"7857\",\"type\":\"BasicTickFormatter\"},{\"attributes\":{},\"id\":\"7828\",\"type\":\"LinearScale\"},{\"attributes\":{\"line_alpha\":0.2,\"line_color\":\"#30a2da\",\"line_width\":2,\"x\":{\"field\":\"Date\"},\"y\":{\"field\":\"value\"}},\"id\":\"7864\",\"type\":\"Line\"},{\"attributes\":{\"margin\":[5,5,5,5],\"name\":\"HSpacer10434\",\"sizing_mode\":\"stretch_width\"},\"id\":\"8142\",\"type\":\"Spacer\"},{\"attributes\":{\"click_policy\":\"mute\",\"coordinates\":null,\"group\":null,\"items\":[{\"id\":\"7890\"},{\"id\":\"7924\"}],\"location\":[0,0],\"title\":\"Variable\"},\"id\":\"7889\",\"type\":\"Legend\"},{\"attributes\":{\"source\":{\"id\":\"7859\"}},\"id\":\"7866\",\"type\":\"CDSView\"},{\"attributes\":{\"data\":{\"Date\":{\"__ndarray__\":\"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\",\"dtype\":\"float64\",\"order\":\"little\",\"shape\":[1260]},\"Variable\":[\"macd\",\"macd\",\"macd\",\"macd\",\"macd\",\"macd\",\"macd\",\"macd\",\"macd\",\"macd\",\"macd\",\"macd\",\"macd\",\"macd\",\"macd\",\"macd\",\"macd\",\"macd\",\"macd\",\"macd\",\"macd\",\"macd\",\"macd\",\"macd\",\"macd\",\"macd\",\"macd\",\"macd\",\"macd\",\"macd\",\"macd\",\"macd\",\"macd\",\"macd\",\"macd\",\"macd\",\"macd\",\"macd\",\"macd\",\"macd\",\"macd\",\"macd\",\"macd\",\"macd\",\"macd\",\"macd\",\"macd\",\"macd\",\"macd\",\"macd\",\"macd\",\"macd\",\"macd\",\"macd\",\"macd\",\"macd\",\"macd\",\"macd\",\"macd\",\"macd\",\"macd\",\"macd\",\"macd\",\"macd\",\"macd\",\"macd\",\"macd\",\"macd\",\"macd\",\"macd\",\"macd\",\"macd\",\"macd\",\"macd\",\"macd\",\"macd\",\"macd\",\"macd\",\"macd\",\"macd\",\"macd\",\"macd\",\"macd\",\"macd\",\"macd\",\"macd\",\"macd\",\"macd\",\"macd\",\"macd\",\"macd\",\"macd\",\"macd\",\"macd\",\"macd\",\"macd\",\"macd\",\"macd\",\"macd\",\"macd\",\"macd\",\"macd\",\"macd\",\"macd\",\"macd\",\"macd\",\"macd\",\"macd\",\"macd\",\"macd\",\"macd\",\"macd\",\"macd\",\"macd\",\"macd\",\"macd\",\"macd\",\"macd\",\"macd\",\"macd\",\"macd\",\"macd\",\"macd\",\"macd\",\"macd\",\"macd\",\"macd\",\"macd\",\"macd\",\"macd\",\"macd\",\"macd\",\"macd\",\"macd\",\"macd\",\"macd\",\"macd\",\"macd\",\"macd\",\"macd\",\"macd\",\"macd\",\"macd\",\"macd\",\"macd\",\"macd\",\"macd\",\"macd\",\"macd\",\"macd\",\"macd\",\"macd\",\"macd\",\"macd\",\"macd\",\"macd\",\"macd\",\"macd\",\"macd\",\"macd\",\"macd\",\"macd\",\"macd\",\"macd\",\"macd\",\"macd\",\"macd\",\"macd\",\"macd\",\"macd\",\"macd\",\"macd\",\"macd\",\"macd\",\"macd\",\"macd\",\"macd\",\"macd\",\"macd\",\"macd\",\"macd\",\"macd\",\"macd\",\"macd\",\"macd\",\"macd\",\"macd\",\"macd\",\"macd\",\"macd\",\"macd\",\"macd\",\"macd\",\"macd\",\"macd\",\"macd\",\"macd\",\"macd\",\"macd\",\"macd\",\"macd\",\"macd\",\"macd\",\"macd\",\"macd\",\"macd\",\"macd\",\"macd\",\"macd\",\"macd\",\"macd\",\"macd\",\"macd\",\"macd\",\"macd\",\"macd\",\"macd\",\"macd\",\"macd\",\"macd\",\"macd\",\"macd\",\"macd\",\"macd\",\"macd\",\"macd\",\"macd\",\"macd\",\"macd\",\"macd\",\"macd\",\"macd\",\"macd\",\"macd\",\"macd\",\"macd\",\"macd\",\"macd\",\"macd\",\"macd\",\"macd\",\"macd\",\"macd\",\"macd\",\"macd\",\"macd\",\"macd\",\"macd\",\"macd\",\"macd\",\"macd\",\"macd\",\"macd\",\"macd\",\"macd\",\"macd\",\"macd\",\"macd\",\"macd\",\"macd\",\"macd\",\"macd\",\"macd\",\"macd\",\"macd\",\"macd\",\"macd\",\"macd\",\"macd\",\"macd\",\"macd\",\"macd\",\"macd\",\"macd\",\"macd\",\"macd\",\"macd\",\"macd\",\"macd\",\"macd\",\"macd\",\"macd\",\"macd\",\"macd\",\"macd\",\"macd\",\"macd\",\"macd\",\"macd\",\"macd\",\"macd\",\"macd\",\"macd\",\"macd\",\"macd\",\"macd\",\"macd\",\"macd\",\"macd\",\"macd\",\"macd\",\"macd\",\"macd\",\"macd\",\"macd\",\"macd\",\"macd\",\"macd\",\"macd\",\"macd\",\"macd\",\"macd\",\"macd\",\"macd\",\"macd\",\"macd\",\"macd\",\"macd\",\"macd\",\"macd\",\"macd\",\"macd\",\"macd\",\"macd\",\"macd\",\"macd\",\"macd\",\"macd\",\"macd\",\"macd\",\"macd\",\"macd\",\"macd\",\"macd\",\"macd\",\"macd\",\"macd\",\"macd\",\"macd\",\"macd\",\"macd\",\"macd\",\"macd\",\"macd\",\"macd\",\"macd\",\"macd\",\"macd\",\"macd\",\"macd\",\"macd\",\"macd\",\"macd\",\"macd\",\"macd\",\"macd\",\"macd\",\"macd\",\"macd\",\"macd\",\"macd\",\"macd\",\"macd\",\"macd\",\"macd\",\"macd\",\"macd\",\"macd\",\"macd\",\"macd\",\"macd\",\"macd\",\"macd\",\"macd\",\"macd\",\"macd\",\"macd\",\"macd\",\"macd\",\"macd\",\"macd\",\"macd\",\"macd\",\"macd\",\"macd\",\"macd\",\"macd\",\"macd\",\"macd\",\"macd\",\"macd\",\"macd\",\"macd\",\"macd\",\"macd\",\"macd\",\"macd\",\"macd\",\"macd\",\"macd\",\"macd\",\"macd\",\"macd\",\"macd\",\"macd\",\"macd\",\"macd\",\"macd\",\"macd\",\"macd\",\"macd\",\"macd\",\"macd\",\"macd\",\"macd\",\"macd\",\"macd\",\"macd\",\"macd\",\"macd\",\"macd\",\"macd\",\"macd\",\"macd\",\"macd\",\"macd\",\"macd\",\"macd\",\"macd\",\"macd\",\"macd\",\"macd\",\"macd\",\"macd\",\"macd\",\"macd\",\"macd\",\"macd\",\"macd\",\"macd\",\"macd\",\"macd\",\"macd\",\"macd\",\"macd\",\"macd\",\"macd\",\"macd\",\"macd\",\"macd\",\"macd\",\"macd\",\"macd\",\"macd\",\"macd\",\"macd\",\"macd\",\"macd\",\"macd\",\"macd\",\"macd\",\"macd\",\"macd\",\"macd\",\"macd\",\"macd\",\"macd\",\"macd\",\"macd\",\"macd\",\"macd\",\"macd\",\"macd\",\"macd\",\"macd\",\"macd\",\"macd\",\"macd\",\"macd\",\"macd\",\"macd\",\"macd\",\"macd\",\"macd\",\"macd\",\"macd\",\"macd\",\"macd\",\"macd\",\"macd\",\"macd\",\"macd\",\"macd\",\"macd\",\"macd\",\"macd\",\"macd\",\"macd\",\"macd\",\"macd\",\"macd\",\"macd\",\"macd\",\"macd\",\"macd\",\"macd\",\"macd\",\"macd\",\"macd\",\"macd\",\"macd\",\"macd\",\"macd\",\"macd\",\"macd\",\"macd\",\"macd\",\"macd\",\"macd\",\"macd\",\"macd\",\"macd\",\"macd\",\"macd\",\"macd\",\"macd\",\"macd\",\"macd\",\"macd\",\"macd\",\"macd\",\"macd\",\"macd\",\"macd\",\"macd\",\"macd\",\"macd\",\"macd\",\"macd\",\"macd\",\"macd\",\"macd\",\"macd\",\"macd\",\"macd\",\"macd\",\"macd\",\"macd\",\"macd\",\"macd\",\"macd\",\"macd\",\"macd\",\"macd\",\"macd\",\"macd\",\"macd\",\"macd\",\"macd\",\"macd\",\"macd\",\"macd\",\"macd\",\"macd\",\"macd\",\"macd\",\"macd\",\"macd\",\"macd\",\"macd\",\"macd\",\"macd\",\"macd\",\"macd\",\"macd\",\"macd\",\"macd\",\"macd\",\"macd\",\"macd\",\"macd\",\"macd\",\"macd\",\"macd\",\"macd\",\"macd\",\"macd\",\"macd\",\"macd\",\"macd\",\"macd\",\"macd\",\"macd\",\"macd\",\"macd\",\"macd\",\"macd\",\"macd\",\"macd\",\"macd\",\"macd\",\"macd\",\"macd\",\"macd\",\"macd\",\"macd\",\"macd\",\"macd\",\"macd\",\"macd\",\"macd\",\"macd\",\"macd\",\"macd\",\"macd\",\"macd\",\"macd\",\"macd\",\"macd\",\"macd\",\"macd\",\"macd\",\"macd\",\"macd\",\"macd\",\"macd\",\"macd\",\"macd\",\"macd\",\"macd\",\"macd\",\"macd\",\"macd\",\"macd\",\"macd\",\"macd\",\"macd\",\"macd\",\"macd\",\"macd\",\"macd\",\"macd\",\"macd\",\"macd\",\"macd\",\"macd\",\"macd\",\"macd\",\"macd\",\"macd\",\"macd\",\"macd\",\"macd\",\"macd\",\"macd\",\"macd\",\"macd\",\"macd\",\"macd\",\"macd\",\"macd\",\"macd\",\"macd\",\"macd\",\"macd\",\"macd\",\"macd\",\"macd\",\"macd\",\"macd\",\"macd\",\"macd\",\"macd\",\"macd\",\"macd\",\"macd\",\"macd\",\"macd\",\"macd\",\"macd\",\"macd\",\"macd\",\"macd\",\"macd\",\"macd\",\"macd\",\"macd\",\"macd\",\"macd\",\"macd\",\"macd\",\"macd\",\"macd\",\"macd\",\"macd\",\"macd\",\"macd\",\"macd\",\"macd\",\"macd\",\"macd\",\"macd\",\"macd\",\"macd\",\"macd\",\"macd\",\"macd\",\"macd\",\"macd\",\"macd\",\"macd\",\"macd\",\"macd\",\"macd\",\"macd\",\"macd\",\"macd\",\"macd\",\"macd\",\"macd\",\"macd\",\"macd\",\"macd\",\"macd\",\"macd\",\"macd\",\"macd\",\"macd\",\"macd\",\"macd\",\"macd\",\"macd\",\"macd\",\"macd\",\"macd\",\"macd\",\"macd\",\"macd\",\"macd\",\"macd\",\"macd\",\"macd\",\"macd\",\"macd\",\"macd\",\"macd\",\"macd\",\"macd\",\"macd\",\"macd\",\"macd\",\"macd\",\"macd\",\"macd\",\"macd\",\"macd\",\"macd\",\"macd\",\"macd\",\"macd\",\"macd\",\"macd\",\"macd\",\"macd\",\"macd\",\"macd\",\"macd\",\"macd\",\"macd\",\"macd\",\"macd\",\"macd\",\"macd\",\"macd\",\"macd\",\"macd\",\"macd\",\"macd\",\"macd\",\"macd\",\"macd\",\"macd\",\"macd\",\"macd\",\"macd\",\"macd\",\"macd\",\"macd\",\"macd\",\"macd\",\"macd\",\"macd\",\"macd\",\"macd\",\"macd\",\"macd\",\"macd\",\"macd\",\"macd\",\"macd\",\"macd\",\"macd\",\"macd\",\"macd\",\"macd\",\"macd\",\"macd\",\"macd\",\"macd\",\"macd\",\"macd\",\"macd\",\"macd\",\"macd\",\"macd\",\"macd\",\"macd\",\"macd\",\"macd\",\"macd\",\"macd\",\"macd\",\"macd\",\"macd\",\"macd\",\"macd\",\"macd\",\"macd\",\"macd\",\"macd\",\"macd\",\"macd\",\"macd\",\"macd\",\"macd\",\"macd\",\"macd\",\"macd\",\"macd\",\"macd\",\"macd\",\"macd\",\"macd\",\"macd\",\"macd\",\"macd\",\"macd\",\"macd\",\"macd\",\"macd\",\"macd\",\"macd\",\"macd\",\"macd\",\"macd\",\"macd\",\"macd\",\"macd\",\"macd\",\"macd\",\"macd\",\"macd\",\"macd\",\"macd\",\"macd\",\"macd\",\"macd\",\"macd\",\"macd\",\"macd\",\"macd\",\"macd\",\"macd\",\"macd\",\"macd\",\"macd\",\"macd\",\"macd\",\"macd\",\"macd\",\"macd\",\"macd\",\"macd\",\"macd\",\"macd\",\"macd\",\"macd\",\"macd\",\"macd\",\"macd\",\"macd\",\"macd\",\"macd\",\"macd\",\"macd\",\"macd\",\"macd\",\"macd\",\"macd\",\"macd\",\"macd\",\"macd\",\"macd\",\"macd\",\"macd\",\"macd\",\"macd\",\"macd\",\"macd\",\"macd\",\"macd\",\"macd\",\"macd\",\"macd\",\"macd\",\"macd\",\"macd\",\"macd\",\"macd\",\"macd\",\"macd\",\"macd\",\"macd\",\"macd\",\"macd\",\"macd\",\"macd\",\"macd\",\"macd\",\"macd\",\"macd\",\"macd\",\"macd\",\"macd\",\"macd\",\"macd\",\"macd\",\"macd\",\"macd\",\"macd\",\"macd\",\"macd\",\"macd\",\"macd\",\"macd\",\"macd\",\"macd\",\"macd\",\"macd\",\"macd\",\"macd\",\"macd\",\"macd\",\"macd\",\"macd\",\"macd\",\"macd\",\"macd\",\"macd\",\"macd\",\"macd\",\"macd\",\"macd\",\"macd\",\"macd\",\"macd\",\"macd\",\"macd\",\"macd\",\"macd\",\"macd\",\"macd\",\"macd\",\"macd\",\"macd\",\"macd\",\"macd\",\"macd\",\"macd\",\"macd\",\"macd\",\"macd\",\"macd\",\"macd\",\"macd\",\"macd\",\"macd\",\"macd\",\"macd\",\"macd\",\"macd\",\"macd\",\"macd\",\"macd\",\"macd\",\"macd\",\"macd\",\"macd\",\"macd\",\"macd\",\"macd\",\"macd\",\"macd\",\"macd\",\"macd\",\"macd\",\"macd\",\"macd\",\"macd\",\"macd\",\"macd\",\"macd\",\"macd\",\"macd\",\"macd\",\"macd\",\"macd\",\"macd\",\"macd\",\"macd\",\"macd\",\"macd\",\"macd\",\"macd\",\"macd\",\"macd\",\"macd\",\"macd\",\"macd\",\"macd\",\"macd\",\"macd\",\"macd\",\"macd\",\"macd\",\"macd\",\"macd\",\"macd\",\"macd\",\"macd\",\"macd\",\"macd\",\"macd\",\"macd\",\"macd\",\"macd\",\"macd\",\"macd\",\"macd\",\"macd\",\"macd\",\"macd\",\"macd\",\"macd\",\"macd\",\"macd\",\"macd\",\"macd\",\"macd\",\"macd\",\"macd\",\"macd\",\"macd\",\"macd\",\"macd\",\"macd\",\"macd\",\"macd\",\"macd\",\"macd\",\"macd\",\"macd\",\"macd\",\"macd\",\"macd\",\"macd\",\"macd\",\"macd\",\"macd\",\"macd\",\"macd\",\"macd\",\"macd\",\"macd\",\"macd\",\"macd\",\"macd\",\"macd\",\"macd\",\"macd\",\"macd\",\"macd\",\"macd\",\"macd\",\"macd\",\"macd\",\"macd\",\"macd\",\"macd\",\"macd\",\"macd\",\"macd\",\"macd\",\"macd\",\"macd\",\"macd\",\"macd\",\"macd\",\"macd\",\"macd\",\"macd\",\"macd\",\"macd\",\"macd\",\"macd\",\"macd\",\"macd\",\"macd\",\"macd\",\"macd\",\"macd\",\"macd\",\"macd\",\"macd\",\"macd\",\"macd\",\"macd\",\"macd\",\"macd\",\"macd\",\"macd\",\"macd\",\"macd\",\"macd\",\"macd\",\"macd\",\"macd\",\"macd\",\"macd\",\"macd\",\"macd\",\"macd\",\"macd\",\"macd\",\"macd\",\"macd\",\"macd\",\"macd\",\"macd\",\"macd\",\"macd\",\"macd\",\"macd\",\"macd\",\"macd\",\"macd\",\"macd\",\"macd\",\"macd\",\"macd\",\"macd\",\"macd\",\"macd\",\"macd\",\"macd\",\"macd\",\"macd\",\"macd\",\"macd\",\"macd\",\"macd\",\"macd\",\"macd\",\"macd\",\"macd\",\"macd\",\"macd\",\"macd\",\"macd\",\"macd\",\"macd\",\"macd\",\"macd\",\"macd\",\"macd\",\"macd\",\"macd\",\"macd\",\"macd\",\"macd\",\"macd\",\"macd\",\"macd\",\"macd\",\"macd\",\"macd\",\"macd\",\"macd\",\"macd\",\"macd\",\"macd\",\"macd\",\"macd\",\"macd\",\"macd\",\"macd\",\"macd\",\"macd\",\"macd\",\"macd\",\"macd\",\"macd\",\"macd\",\"macd\",\"macd\",\"macd\",\"macd\",\"macd\",\"macd\",\"macd\",\"macd\",\"macd\",\"macd\",\"macd\",\"macd\",\"macd\",\"macd\",\"macd\",\"macd\",\"macd\",\"macd\",\"macd\",\"macd\",\"macd\",\"macd\",\"macd\",\"macd\",\"macd\",\"macd\",\"macd\",\"macd\",\"macd\",\"macd\",\"macd\",\"macd\",\"macd\",\"macd\",\"macd\",\"macd\",\"macd\",\"macd\",\"macd\",\"macd\",\"macd\",\"macd\",\"macd\",\"macd\",\"macd\",\"macd\",\"macd\"],\"value\":{\"__ndarray__\":\"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\",\"dtype\":\"float64\",\"order\":\"little\",\"shape\":[1260]}},\"selected\":{\"id\":\"7860\"},\"selection_policy\":{\"id\":\"7874\"}},\"id\":\"7859\",\"type\":\"ColumnDataSource\"},{\"attributes\":{\"label\":{\"value\":\"macd\"},\"renderers\":[{\"id\":\"7865\"}]},\"id\":\"7890\",\"type\":\"LegendItem\"},{\"attributes\":{\"line_alpha\":0.1,\"line_color\":\"#30a2da\",\"line_width\":2,\"x\":{\"field\":\"Date\"},\"y\":{\"field\":\"value\"}},\"id\":\"7863\",\"type\":\"Line\"},{\"attributes\":{\"below\":[{\"id\":\"7832\"}],\"center\":[{\"id\":\"7835\"},{\"id\":\"7839\"}],\"height\":300,\"left\":[{\"id\":\"7836\"}],\"margin\":[5,5,5,5],\"min_border_bottom\":10,\"min_border_left\":10,\"min_border_right\":10,\"min_border_top\":10,\"renderers\":[{\"id\":\"7865\"},{\"id\":\"7898\"}],\"right\":[{\"id\":\"7889\"}],\"sizing_mode\":\"fixed\",\"title\":{\"id\":\"7824\"},\"toolbar\":{\"id\":\"7846\"},\"width\":700,\"x_range\":{\"id\":\"7819\"},\"x_scale\":{\"id\":\"7828\"},\"y_range\":{\"id\":\"7820\"},\"y_scale\":{\"id\":\"7830\"}},\"id\":\"7823\",\"subtype\":\"Figure\",\"type\":\"Plot\"},{\"attributes\":{\"data\":{\"Date\":{\"__ndarray__\":\"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\",\"dtype\":\"float64\",\"order\":\"little\",\"shape\":[1260]},\"Variable\":[\"exp3\",\"exp3\",\"exp3\",\"exp3\",\"exp3\",\"exp3\",\"exp3\",\"exp3\",\"exp3\",\"exp3\",\"exp3\",\"exp3\",\"exp3\",\"exp3\",\"exp3\",\"exp3\",\"exp3\",\"exp3\",\"exp3\",\"exp3\",\"exp3\",\"exp3\",\"exp3\",\"exp3\",\"exp3\",\"exp3\",\"exp3\",\"exp3\",\"exp3\",\"exp3\",\"exp3\",\"exp3\",\"exp3\",\"exp3\",\"exp3\",\"exp3\",\"exp3\",\"exp3\",\"exp3\",\"exp3\",\"exp3\",\"exp3\",\"exp3\",\"exp3\",\"exp3\",\"exp3\",\"exp3\",\"exp3\",\"exp3\",\"exp3\",\"exp3\",\"exp3\",\"exp3\",\"exp3\",\"exp3\",\"exp3\",\"exp3\",\"exp3\",\"exp3\",\"exp3\",\"exp3\",\"exp3\",\"exp3\",\"exp3\",\"exp3\",\"exp3\",\"exp3\",\"exp3\",\"exp3\",\"exp3\",\"exp3\",\"exp3\",\"exp3\",\"exp3\",\"exp3\",\"exp3\",\"exp3\",\"exp3\",\"exp3\",\"exp3\",\"exp3\",\"exp3\",\"exp3\",\"exp3\",\"exp3\",\"exp3\",\"exp3\",\"exp3\",\"exp3\",\"exp3\",\"exp3\",\"exp3\",\"exp3\",\"exp3\",\"exp3\",\"exp3\",\"exp3\",\"exp3\",\"exp3\",\"exp3\",\"exp3\",\"exp3\",\"exp3\",\"exp3\",\"exp3\",\"exp3\",\"exp3\",\"exp3\",\"exp3\",\"exp3\",\"exp3\",\"exp3\",\"exp3\",\"exp3\",\"exp3\",\"exp3\",\"exp3\",\"exp3\",\"exp3\",\"exp3\",\"exp3\",\"exp3\",\"exp3\",\"exp3\",\"exp3\",\"exp3\",\"exp3\",\"exp3\",\"exp3\",\"exp3\",\"exp3\",\"exp3\",\"exp3\",\"exp3\",\"exp3\",\"exp3\",\"exp3\",\"exp3\",\"exp3\",\"exp3\",\"exp3\",\"exp3\",\"exp3\",\"exp3\",\"exp3\",\"exp3\",\"exp3\",\"exp3\",\"exp3\",\"exp3\",\"exp3\",\"exp3\",\"exp3\",\"exp3\",\"exp3\",\"exp3\",\"exp3\",\"exp3\",\"exp3\",\"exp3\",\"exp3\",\"exp3\",\"exp3\",\"exp3\",\"exp3\",\"exp3\",\"exp3\",\"exp3\",\"exp3\",\"exp3\",\"exp3\",\"exp3\",\"exp3\",\"exp3\",\"exp3\",\"exp3\",\"exp3\",\"exp3\",\"exp3\",\"exp3\",\"exp3\",\"exp3\",\"exp3\",\"exp3\",\"exp3\",\"exp3\",\"exp3\",\"exp3\",\"exp3\",\"exp3\",\"exp3\",\"exp3\",\"exp3\",\"exp3\",\"exp3\",\"exp3\",\"exp3\",\"exp3\",\"exp3\",\"exp3\",\"exp3\",\"exp3\",\"exp3\",\"exp3\",\"exp3\",\"exp3\",\"exp3\",\"exp3\",\"exp3\",\"exp3\",\"exp3\",\"exp3\",\"exp3\",\"exp3\",\"exp3\",\"exp3\",\"exp3\",\"exp3\",\"exp3\",\"exp3\",\"exp3\",\"exp3\",\"exp3\",\"exp3\",\"exp3\",\"exp3\",\"exp3\",\"exp3\",\"exp3\",\"exp3\",\"exp3\",\"exp3\",\"exp3\",\"exp3\",\"exp3\",\"exp3\",\"exp3\",\"exp3\",\"exp3\",\"exp3\",\"exp3\",\"exp3\",\"exp3\",\"exp3\",\"exp3\",\"exp3\",\"exp3\",\"exp3\",\"exp3\",\"exp3\",\"exp3\",\"exp3\",\"exp3\",\"exp3\",\"exp3\",\"exp3\",\"exp3\",\"exp3\",\"exp3\",\"exp3\",\"exp3\",\"exp3\",\"exp3\",\"exp3\",\"exp3\",\"exp3\",\"exp3\",\"exp3\",\"exp3\",\"exp3\",\"exp3\",\"exp3\",\"exp3\",\"exp3\",\"exp3\",\"exp3\",\"exp3\",\"exp3\",\"exp3\",\"exp3\",\"exp3\",\"exp3\",\"exp3\",\"exp3\",\"exp3\",\"exp3\",\"exp3\",\"exp3\",\"exp3\",\"exp3\",\"exp3\",\"exp3\",\"exp3\",\"exp3\",\"exp3\",\"exp3\",\"exp3\",\"exp3\",\"exp3\",\"exp3\",\"exp3\",\"exp3\",\"exp3\",\"exp3\",\"exp3\",\"exp3\",\"exp3\",\"exp3\",\"exp3\",\"exp3\",\"exp3\",\"exp3\",\"exp3\",\"exp3\",\"exp3\",\"exp3\",\"exp3\",\"exp3\",\"exp3\",\"exp3\",\"exp3\",\"exp3\",\"exp3\",\"exp3\",\"exp3\",\"exp3\",\"exp3\",\"exp3\",\"exp3\",\"exp3\",\"exp3\",\"exp3\",\"exp3\",\"exp3\",\"exp3\",\"exp3\",\"exp3\",\"exp3\",\"exp3\",\"exp3\",\"exp3\",\"exp3\",\"exp3\",\"exp3\",\"exp3\",\"exp3\",\"exp3\",\"exp3\",\"exp3\",\"exp3\",\"exp3\",\"exp3\",\"exp3\",\"exp3\",\"exp3\",\"exp3\",\"exp3\",\"exp3\",\"exp3\",\"exp3\",\"exp3\",\"exp3\",\"exp3\",\"exp3\",\"exp3\",\"exp3\",\"exp3\",\"exp3\",\"exp3\",\"exp3\",\"exp3\",\"exp3\",\"exp3\",\"exp3\",\"exp3\",\"exp3\",\"exp3\",\"exp3\",\"exp3\",\"exp3\",\"exp3\",\"exp3\",\"exp3\",\"exp3\",\"exp3\",\"exp3\",\"exp3\",\"exp3\",\"exp3\",\"exp3\",\"exp3\",\"exp3\",\"exp3\",\"exp3\",\"exp3\",\"exp3\",\"exp3\",\"exp3\",\"exp3\",\"exp3\",\"exp3\",\"exp3\",\"exp3\",\"exp3\",\"exp3\",\"exp3\",\"exp3\",\"exp3\",\"exp3\",\"exp3\",\"exp3\",\"exp3\",\"exp3\",\"exp3\",\"exp3\",\"exp3\",\"exp3\",\"exp3\",\"exp3\",\"exp3\",\"exp3\",\"exp3\",\"exp3\",\"exp3\",\"exp3\",\"exp3\",\"exp3\",\"exp3\",\"exp3\",\"exp3\",\"exp3\",\"exp3\",\"exp3\",\"exp3\",\"exp3\",\"exp3\",\"exp3\",\"exp3\",\"exp3\",\"exp3\",\"exp3\",\"exp3\",\"exp3\",\"exp3\",\"exp3\",\"exp3\",\"exp3\",\"exp3\",\"exp3\",\"exp3\",\"exp3\",\"exp3\",\"exp3\",\"exp3\",\"exp3\",\"exp3\",\"exp3\",\"exp3\",\"exp3\",\"exp3\",\"exp3\",\"exp3\",\"exp3\",\"exp3\",\"exp3\",\"exp3\",\"exp3\",\"exp3\",\"exp3\",\"exp3\",\"exp3\",\"exp3\",\"exp3\",\"exp3\",\"exp3\",\"exp3\",\"exp3\",\"exp3\",\"exp3\",\"exp3\",\"exp3\",\"exp3\",\"exp3\",\"exp3\",\"exp3\",\"exp3\",\"exp3\",\"exp3\",\"exp3\",\"exp3\",\"exp3\",\"exp3\",\"exp3\",\"exp3\",\"exp3\",\"exp3\",\"exp3\",\"exp3\",\"exp3\",\"exp3\",\"exp3\",\"exp3\",\"exp3\",\"exp3\",\"exp3\",\"exp3\",\"exp3\",\"exp3\",\"exp3\",\"exp3\",\"exp3\",\"exp3\",\"exp3\",\"exp3\",\"exp3\",\"exp3\",\"exp3\",\"exp3\",\"exp3\",\"exp3\",\"exp3\",\"exp3\",\"exp3\",\"exp3\",\"exp3\",\"exp3\",\"exp3\",\"exp3\",\"exp3\",\"exp3\",\"exp3\",\"exp3\",\"exp3\",\"exp3\",\"exp3\",\"exp3\",\"exp3\",\"exp3\",\"exp3\",\"exp3\",\"exp3\",\"exp3\",\"exp3\",\"exp3\",\"exp3\",\"exp3\",\"exp3\",\"exp3\",\"exp3\",\"exp3\",\"exp3\",\"exp3\",\"exp3\",\"exp3\",\"exp3\",\"exp3\",\"exp3\",\"exp3\",\"exp3\",\"exp3\",\"exp3\",\"exp3\",\"exp3\",\"exp3\",\"exp3\",\"exp3\",\"exp3\",\"exp3\",\"exp3\",\"exp3\",\"exp3\",\"exp3\",\"exp3\",\"exp3\",\"exp3\",\"exp3\",\"exp3\",\"exp3\",\"exp3\",\"exp3\",\"exp3\",\"exp3\",\"exp3\",\"exp3\",\"exp3\",\"exp3\",\"exp3\",\"exp3\",\"exp3\",\"exp3\",\"exp3\",\"exp3\",\"exp3\",\"exp3\",\"exp3\",\"exp3\",\"exp3\",\"exp3\",\"exp3\",\"exp3\",\"exp3\",\"exp3\",\"exp3\",\"exp3\",\"exp3\",\"exp3\",\"exp3\",\"exp3\",\"exp3\",\"exp3\",\"exp3\",\"exp3\",\"exp3\",\"exp3\",\"exp3\",\"exp3\",\"exp3\",\"exp3\",\"exp3\",\"exp3\",\"exp3\",\"exp3\",\"exp3\",\"exp3\",\"exp3\",\"exp3\",\"exp3\",\"exp3\",\"exp3\",\"exp3\",\"exp3\",\"exp3\",\"exp3\",\"exp3\",\"exp3\",\"exp3\",\"exp3\",\"exp3\",\"exp3\",\"exp3\",\"exp3\",\"exp3\",\"exp3\",\"exp3\",\"exp3\",\"exp3\",\"exp3\",\"exp3\",\"exp3\",\"exp3\",\"exp3\",\"exp3\",\"exp3\",\"exp3\",\"exp3\",\"exp3\",\"exp3\",\"exp3\",\"exp3\",\"exp3\",\"exp3\",\"exp3\",\"exp3\",\"exp3\",\"exp3\",\"exp3\",\"exp3\",\"exp3\",\"exp3\",\"exp3\",\"exp3\",\"exp3\",\"exp3\",\"exp3\",\"exp3\",\"exp3\",\"exp3\",\"exp3\",\"exp3\",\"exp3\",\"exp3\",\"exp3\",\"exp3\",\"exp3\",\"exp3\",\"exp3\",\"exp3\",\"exp3\",\"exp3\",\"exp3\",\"exp3\",\"exp3\",\"exp3\",\"exp3\",\"exp3\",\"exp3\",\"exp3\",\"exp3\",\"exp3\",\"exp3\",\"exp3\",\"exp3\",\"exp3\",\"exp3\",\"exp3\",\"exp3\",\"exp3\",\"exp3\",\"exp3\",\"exp3\",\"exp3\",\"exp3\",\"exp3\",\"exp3\",\"exp3\",\"exp3\",\"exp3\",\"exp3\",\"exp3\",\"exp3\",\"exp3\",\"exp3\",\"exp3\",\"exp3\",\"exp3\",\"exp3\",\"exp3\",\"exp3\",\"exp3\",\"exp3\",\"exp3\",\"exp3\",\"exp3\",\"exp3\",\"exp3\",\"exp3\",\"exp3\",\"exp3\",\"exp3\",\"exp3\",\"exp3\",\"exp3\",\"exp3\",\"exp3\",\"exp3\",\"exp3\",\"exp3\",\"exp3\",\"exp3\",\"exp3\",\"exp3\",\"exp3\",\"exp3\",\"exp3\",\"exp3\",\"exp3\",\"exp3\",\"exp3\",\"exp3\",\"exp3\",\"exp3\",\"exp3\",\"exp3\",\"exp3\",\"exp3\",\"exp3\",\"exp3\",\"exp3\",\"exp3\",\"exp3\",\"exp3\",\"exp3\",\"exp3\",\"exp3\",\"exp3\",\"exp3\",\"exp3\",\"exp3\",\"exp3\",\"exp3\",\"exp3\",\"exp3\",\"exp3\",\"exp3\",\"exp3\",\"exp3\",\"exp3\",\"exp3\",\"exp3\",\"exp3\",\"exp3\",\"exp3\",\"exp3\",\"exp3\",\"exp3\",\"exp3\",\"exp3\",\"exp3\",\"exp3\",\"exp3\",\"exp3\",\"exp3\",\"exp3\",\"exp3\",\"exp3\",\"exp3\",\"exp3\",\"exp3\",\"exp3\",\"exp3\",\"exp3\",\"exp3\",\"exp3\",\"exp3\",\"exp3\",\"exp3\",\"exp3\",\"exp3\",\"exp3\",\"exp3\",\"exp3\",\"exp3\",\"exp3\",\"exp3\",\"exp3\",\"exp3\",\"exp3\",\"exp3\",\"exp3\",\"exp3\",\"exp3\",\"exp3\",\"exp3\",\"exp3\",\"exp3\",\"exp3\",\"exp3\",\"exp3\",\"exp3\",\"exp3\",\"exp3\",\"exp3\",\"exp3\",\"exp3\",\"exp3\",\"exp3\",\"exp3\",\"exp3\",\"exp3\",\"exp3\",\"exp3\",\"exp3\",\"exp3\",\"exp3\",\"exp3\",\"exp3\",\"exp3\",\"exp3\",\"exp3\",\"exp3\",\"exp3\",\"exp3\",\"exp3\",\"exp3\",\"exp3\",\"exp3\",\"exp3\",\"exp3\",\"exp3\",\"exp3\",\"exp3\",\"exp3\",\"exp3\",\"exp3\",\"exp3\",\"exp3\",\"exp3\",\"exp3\",\"exp3\",\"exp3\",\"exp3\",\"exp3\",\"exp3\",\"exp3\",\"exp3\",\"exp3\",\"exp3\",\"exp3\",\"exp3\",\"exp3\",\"exp3\",\"exp3\",\"exp3\",\"exp3\",\"exp3\",\"exp3\",\"exp3\",\"exp3\",\"exp3\",\"exp3\",\"exp3\",\"exp3\",\"exp3\",\"exp3\",\"exp3\",\"exp3\",\"exp3\",\"exp3\",\"exp3\",\"exp3\",\"exp3\",\"exp3\",\"exp3\",\"exp3\",\"exp3\",\"exp3\",\"exp3\",\"exp3\",\"exp3\",\"exp3\",\"exp3\",\"exp3\",\"exp3\",\"exp3\",\"exp3\",\"exp3\",\"exp3\",\"exp3\",\"exp3\",\"exp3\",\"exp3\",\"exp3\",\"exp3\",\"exp3\",\"exp3\",\"exp3\",\"exp3\",\"exp3\",\"exp3\",\"exp3\",\"exp3\",\"exp3\",\"exp3\",\"exp3\",\"exp3\",\"exp3\",\"exp3\",\"exp3\",\"exp3\",\"exp3\",\"exp3\",\"exp3\",\"exp3\",\"exp3\",\"exp3\",\"exp3\",\"exp3\",\"exp3\",\"exp3\",\"exp3\",\"exp3\",\"exp3\",\"exp3\",\"exp3\",\"exp3\",\"exp3\",\"exp3\",\"exp3\",\"exp3\",\"exp3\",\"exp3\",\"exp3\",\"exp3\",\"exp3\",\"exp3\",\"exp3\",\"exp3\",\"exp3\",\"exp3\",\"exp3\",\"exp3\",\"exp3\",\"exp3\",\"exp3\",\"exp3\",\"exp3\",\"exp3\",\"exp3\",\"exp3\",\"exp3\",\"exp3\",\"exp3\",\"exp3\",\"exp3\",\"exp3\",\"exp3\",\"exp3\",\"exp3\",\"exp3\",\"exp3\",\"exp3\",\"exp3\",\"exp3\",\"exp3\",\"exp3\",\"exp3\",\"exp3\",\"exp3\",\"exp3\",\"exp3\",\"exp3\",\"exp3\",\"exp3\",\"exp3\",\"exp3\",\"exp3\",\"exp3\",\"exp3\",\"exp3\",\"exp3\",\"exp3\",\"exp3\",\"exp3\",\"exp3\",\"exp3\",\"exp3\",\"exp3\",\"exp3\",\"exp3\",\"exp3\",\"exp3\",\"exp3\",\"exp3\",\"exp3\",\"exp3\",\"exp3\",\"exp3\",\"exp3\",\"exp3\",\"exp3\",\"exp3\",\"exp3\",\"exp3\",\"exp3\",\"exp3\",\"exp3\",\"exp3\",\"exp3\",\"exp3\",\"exp3\",\"exp3\",\"exp3\",\"exp3\",\"exp3\",\"exp3\",\"exp3\",\"exp3\",\"exp3\",\"exp3\",\"exp3\",\"exp3\",\"exp3\",\"exp3\",\"exp3\",\"exp3\",\"exp3\",\"exp3\",\"exp3\",\"exp3\",\"exp3\",\"exp3\",\"exp3\",\"exp3\",\"exp3\",\"exp3\",\"exp3\",\"exp3\",\"exp3\",\"exp3\",\"exp3\",\"exp3\",\"exp3\",\"exp3\",\"exp3\",\"exp3\",\"exp3\",\"exp3\",\"exp3\",\"exp3\",\"exp3\",\"exp3\",\"exp3\",\"exp3\",\"exp3\",\"exp3\",\"exp3\",\"exp3\",\"exp3\",\"exp3\",\"exp3\",\"exp3\",\"exp3\",\"exp3\",\"exp3\",\"exp3\",\"exp3\",\"exp3\",\"exp3\",\"exp3\",\"exp3\",\"exp3\",\"exp3\",\"exp3\",\"exp3\",\"exp3\",\"exp3\",\"exp3\",\"exp3\",\"exp3\",\"exp3\",\"exp3\",\"exp3\",\"exp3\",\"exp3\",\"exp3\",\"exp3\",\"exp3\",\"exp3\",\"exp3\",\"exp3\",\"exp3\",\"exp3\",\"exp3\",\"exp3\",\"exp3\",\"exp3\",\"exp3\",\"exp3\",\"exp3\",\"exp3\",\"exp3\",\"exp3\",\"exp3\",\"exp3\",\"exp3\",\"exp3\",\"exp3\",\"exp3\",\"exp3\",\"exp3\",\"exp3\",\"exp3\",\"exp3\",\"exp3\",\"exp3\",\"exp3\",\"exp3\",\"exp3\",\"exp3\",\"exp3\",\"exp3\",\"exp3\",\"exp3\",\"exp3\",\"exp3\",\"exp3\",\"exp3\",\"exp3\",\"exp3\",\"exp3\",\"exp3\",\"exp3\",\"exp3\",\"exp3\",\"exp3\",\"exp3\",\"exp3\",\"exp3\",\"exp3\",\"exp3\",\"exp3\",\"exp3\",\"exp3\",\"exp3\",\"exp3\",\"exp3\",\"exp3\",\"exp3\",\"exp3\",\"exp3\",\"exp3\",\"exp3\",\"exp3\",\"exp3\",\"exp3\",\"exp3\",\"exp3\",\"exp3\",\"exp3\",\"exp3\",\"exp3\",\"exp3\",\"exp3\",\"exp3\",\"exp3\",\"exp3\",\"exp3\",\"exp3\",\"exp3\",\"exp3\",\"exp3\",\"exp3\",\"exp3\",\"exp3\",\"exp3\",\"exp3\",\"exp3\",\"exp3\",\"exp3\",\"exp3\",\"exp3\",\"exp3\",\"exp3\",\"exp3\",\"exp3\",\"exp3\",\"exp3\",\"exp3\",\"exp3\",\"exp3\",\"exp3\",\"exp3\",\"exp3\",\"exp3\",\"exp3\",\"exp3\",\"exp3\",\"exp3\",\"exp3\",\"exp3\",\"exp3\",\"exp3\",\"exp3\",\"exp3\",\"exp3\",\"exp3\",\"exp3\",\"exp3\",\"exp3\",\"exp3\",\"exp3\",\"exp3\",\"exp3\",\"exp3\",\"exp3\",\"exp3\",\"exp3\",\"exp3\",\"exp3\",\"exp3\"],\"value\":{\"__ndarray__\":\"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\",\"dtype\":\"float64\",\"order\":\"little\",\"shape\":[1260]}},\"selected\":{\"id\":\"7893\"},\"selection_policy\":{\"id\":\"7909\"}},\"id\":\"7892\",\"type\":\"ColumnDataSource\"},{\"attributes\":{\"end\":103.63351408333787,\"reset_end\":103.63351408333787,\"reset_start\":-111.13634700379711,\"start\":-111.13634700379711,\"tags\":[[[\"value\",\"value\",null]]]},\"id\":\"7820\",\"type\":\"Range1d\"},{\"attributes\":{},\"id\":\"7854\",\"type\":\"DatetimeTickFormatter\"},{\"attributes\":{\"line_color\":\"#fc4f30\",\"line_width\":2,\"x\":{\"field\":\"Date\"},\"y\":{\"field\":\"value\"}},\"id\":\"7895\",\"type\":\"Line\"},{\"attributes\":{\"line_color\":\"#30a2da\",\"line_width\":2,\"x\":{\"field\":\"Date\"},\"y\":{\"field\":\"value\"}},\"id\":\"7891\",\"type\":\"Line\"},{\"attributes\":{},\"id\":\"7858\",\"type\":\"AllLabels\"},{\"attributes\":{\"coordinates\":null,\"data_source\":{\"id\":\"7859\"},\"glyph\":{\"id\":\"7862\"},\"group\":null,\"hover_glyph\":null,\"muted_glyph\":{\"id\":\"7864\"},\"nonselection_glyph\":{\"id\":\"7863\"},\"selection_glyph\":{\"id\":\"7891\"},\"view\":{\"id\":\"7866\"}},\"id\":\"7865\",\"type\":\"GlyphRenderer\"}],\"root_ids\":[\"7817\"]},\"title\":\"Bokeh Application\",\"version\":\"2.4.1\"}};\n",
       "    var render_items = [{\"docid\":\"b651553b-2a22-400a-9c1f-f8287c2ee341\",\"root_ids\":[\"7817\"],\"roots\":{\"7817\":\"2d12caf7-3904-4984-9e47-c43fb3854077\"}}];\n",
       "    root.Bokeh.embed.embed_items_notebook(docs_json, render_items);\n",
       "  }\n",
       "  if (root.Bokeh !== undefined && root.Bokeh.Panel !== undefined) {\n",
       "    embed_document(root);\n",
       "  } else {\n",
       "    var attempts = 0;\n",
       "    var timer = setInterval(function(root) {\n",
       "      if (root.Bokeh !== undefined && root.Bokeh.Panel !== undefined) {\n",
       "        clearInterval(timer);\n",
       "        embed_document(root);\n",
       "      } else if (document.readyState == \"complete\") {\n",
       "        attempts++;\n",
       "        if (attempts > 200) {\n",
       "          clearInterval(timer);\n",
       "          console.log(\"Bokeh: ERROR: Unable to run BokehJS code because BokehJS library is missing\");\n",
       "        }\n",
       "      }\n",
       "    }, 25, root)\n",
       "  }\n",
       "})(window);</script>"
      ],
      "text/plain": [
       ":NdOverlay   [Variable]\n",
       "   :Curve   [Date]   (value)"
      ]
     },
     "execution_count": 397,
     "metadata": {
      "application/vnd.holoviews_exec.v0+json": {
       "id": "7817"
      }
     },
     "output_type": "execute_result"
    }
   ],
   "source": [
    "goog_df.hvplot.line(y=['macd', 'exp3'])"
   ]
  },
  {
   "cell_type": "code",
   "execution_count": 398,
   "id": "13ad7515-2d73-4f80-a6a7-11618892bf08",
   "metadata": {},
   "outputs": [],
   "source": [
    "goog_df[\"Actual Returns\"] = goog_df[\"Close\"].pct_change()"
   ]
  },
  {
   "cell_type": "code",
   "execution_count": 399,
   "id": "f8e0546a-157f-4081-8751-6f947ee9c6ef",
   "metadata": {},
   "outputs": [
    {
     "data": {
      "text/html": [
       "<div>\n",
       "<style scoped>\n",
       "    .dataframe tbody tr th:only-of-type {\n",
       "        vertical-align: middle;\n",
       "    }\n",
       "\n",
       "    .dataframe tbody tr th {\n",
       "        vertical-align: top;\n",
       "    }\n",
       "\n",
       "    .dataframe thead th {\n",
       "        text-align: right;\n",
       "    }\n",
       "</style>\n",
       "<table border=\"1\" class=\"dataframe\">\n",
       "  <thead>\n",
       "    <tr style=\"text-align: right;\">\n",
       "      <th></th>\n",
       "      <th>Open</th>\n",
       "      <th>High</th>\n",
       "      <th>Low</th>\n",
       "      <th>Close</th>\n",
       "      <th>Adj Close</th>\n",
       "      <th>Volume</th>\n",
       "      <th>macd</th>\n",
       "      <th>exp3</th>\n",
       "      <th>Actual Returns</th>\n",
       "      <th>Signal</th>\n",
       "    </tr>\n",
       "    <tr>\n",
       "      <th>Date</th>\n",
       "      <th></th>\n",
       "      <th></th>\n",
       "      <th></th>\n",
       "      <th></th>\n",
       "      <th></th>\n",
       "      <th></th>\n",
       "      <th></th>\n",
       "      <th></th>\n",
       "      <th></th>\n",
       "      <th></th>\n",
       "    </tr>\n",
       "  </thead>\n",
       "  <tbody>\n",
       "    <tr>\n",
       "      <th>2017-03-17</th>\n",
       "      <td>851.609985</td>\n",
       "      <td>853.400024</td>\n",
       "      <td>847.109985</td>\n",
       "      <td>852.119995</td>\n",
       "      <td>852.119995</td>\n",
       "      <td>1712300</td>\n",
       "      <td>0.266436</td>\n",
       "      <td>0.053287</td>\n",
       "      <td>0.003935</td>\n",
       "      <td>1.0</td>\n",
       "    </tr>\n",
       "    <tr>\n",
       "      <th>2017-03-20</th>\n",
       "      <td>850.010010</td>\n",
       "      <td>850.219971</td>\n",
       "      <td>845.150024</td>\n",
       "      <td>848.400024</td>\n",
       "      <td>848.400024</td>\n",
       "      <td>1231500</td>\n",
       "      <td>0.175396</td>\n",
       "      <td>0.077709</td>\n",
       "      <td>-0.004366</td>\n",
       "      <td>-1.0</td>\n",
       "    </tr>\n",
       "    <tr>\n",
       "      <th>2017-03-21</th>\n",
       "      <td>851.400024</td>\n",
       "      <td>853.500000</td>\n",
       "      <td>829.020020</td>\n",
       "      <td>830.460022</td>\n",
       "      <td>830.460022</td>\n",
       "      <td>2463500</td>\n",
       "      <td>-1.329042</td>\n",
       "      <td>-0.203641</td>\n",
       "      <td>-0.021146</td>\n",
       "      <td>-1.0</td>\n",
       "    </tr>\n",
       "    <tr>\n",
       "      <th>2017-03-22</th>\n",
       "      <td>831.909973</td>\n",
       "      <td>835.549988</td>\n",
       "      <td>827.179993</td>\n",
       "      <td>829.590027</td>\n",
       "      <td>829.590027</td>\n",
       "      <td>1401500</td>\n",
       "      <td>-2.561988</td>\n",
       "      <td>-0.675310</td>\n",
       "      <td>-0.001048</td>\n",
       "      <td>-1.0</td>\n",
       "    </tr>\n",
       "    <tr>\n",
       "      <th>2017-03-23</th>\n",
       "      <td>821.000000</td>\n",
       "      <td>822.570007</td>\n",
       "      <td>812.257019</td>\n",
       "      <td>817.580017</td>\n",
       "      <td>817.580017</td>\n",
       "      <td>3487100</td>\n",
       "      <td>-4.456838</td>\n",
       "      <td>-1.431616</td>\n",
       "      <td>-0.014477</td>\n",
       "      <td>-1.0</td>\n",
       "    </tr>\n",
       "  </tbody>\n",
       "</table>\n",
       "</div>"
      ],
      "text/plain": [
       "                  Open        High         Low       Close   Adj Close  \\\n",
       "Date                                                                     \n",
       "2017-03-17  851.609985  853.400024  847.109985  852.119995  852.119995   \n",
       "2017-03-20  850.010010  850.219971  845.150024  848.400024  848.400024   \n",
       "2017-03-21  851.400024  853.500000  829.020020  830.460022  830.460022   \n",
       "2017-03-22  831.909973  835.549988  827.179993  829.590027  829.590027   \n",
       "2017-03-23  821.000000  822.570007  812.257019  817.580017  817.580017   \n",
       "\n",
       "             Volume      macd      exp3  Actual Returns  Signal  \n",
       "Date                                                             \n",
       "2017-03-17  1712300  0.266436  0.053287        0.003935     1.0  \n",
       "2017-03-20  1231500  0.175396  0.077709       -0.004366    -1.0  \n",
       "2017-03-21  2463500 -1.329042 -0.203641       -0.021146    -1.0  \n",
       "2017-03-22  1401500 -2.561988 -0.675310       -0.001048    -1.0  \n",
       "2017-03-23  3487100 -4.456838 -1.431616       -0.014477    -1.0  "
      ]
     },
     "metadata": {},
     "output_type": "display_data"
    },
    {
     "data": {
      "text/html": [
       "<div>\n",
       "<style scoped>\n",
       "    .dataframe tbody tr th:only-of-type {\n",
       "        vertical-align: middle;\n",
       "    }\n",
       "\n",
       "    .dataframe tbody tr th {\n",
       "        vertical-align: top;\n",
       "    }\n",
       "\n",
       "    .dataframe thead th {\n",
       "        text-align: right;\n",
       "    }\n",
       "</style>\n",
       "<table border=\"1\" class=\"dataframe\">\n",
       "  <thead>\n",
       "    <tr style=\"text-align: right;\">\n",
       "      <th></th>\n",
       "      <th>Open</th>\n",
       "      <th>High</th>\n",
       "      <th>Low</th>\n",
       "      <th>Close</th>\n",
       "      <th>Adj Close</th>\n",
       "      <th>Volume</th>\n",
       "      <th>macd</th>\n",
       "      <th>exp3</th>\n",
       "      <th>Actual Returns</th>\n",
       "      <th>Signal</th>\n",
       "    </tr>\n",
       "    <tr>\n",
       "      <th>Date</th>\n",
       "      <th></th>\n",
       "      <th></th>\n",
       "      <th></th>\n",
       "      <th></th>\n",
       "      <th></th>\n",
       "      <th></th>\n",
       "      <th></th>\n",
       "      <th></th>\n",
       "      <th></th>\n",
       "      <th></th>\n",
       "    </tr>\n",
       "  </thead>\n",
       "  <tbody>\n",
       "    <tr>\n",
       "      <th>2022-03-10</th>\n",
       "      <td>2629.250000</td>\n",
       "      <td>2670.770020</td>\n",
       "      <td>2628.020020</td>\n",
       "      <td>2653.639893</td>\n",
       "      <td>2653.639893</td>\n",
       "      <td>1213300</td>\n",
       "      <td>-31.123714</td>\n",
       "      <td>-31.849788</td>\n",
       "      <td>-0.008845</td>\n",
       "      <td>-1.0</td>\n",
       "    </tr>\n",
       "    <tr>\n",
       "      <th>2022-03-11</th>\n",
       "      <td>2679.989990</td>\n",
       "      <td>2684.000000</td>\n",
       "      <td>2605.929932</td>\n",
       "      <td>2609.510010</td>\n",
       "      <td>2609.510010</td>\n",
       "      <td>1328500</td>\n",
       "      <td>-31.604403</td>\n",
       "      <td>-31.800711</td>\n",
       "      <td>-0.016630</td>\n",
       "      <td>-1.0</td>\n",
       "    </tr>\n",
       "    <tr>\n",
       "      <th>2022-03-14</th>\n",
       "      <td>2611.459961</td>\n",
       "      <td>2620.520020</td>\n",
       "      <td>2528.260010</td>\n",
       "      <td>2534.820068</td>\n",
       "      <td>2534.820068</td>\n",
       "      <td>1512700</td>\n",
       "      <td>-37.579019</td>\n",
       "      <td>-32.956373</td>\n",
       "      <td>-0.028622</td>\n",
       "      <td>-1.0</td>\n",
       "    </tr>\n",
       "    <tr>\n",
       "      <th>2022-03-15</th>\n",
       "      <td>2554.830078</td>\n",
       "      <td>2610.344971</td>\n",
       "      <td>2531.360107</td>\n",
       "      <td>2593.209961</td>\n",
       "      <td>2593.209961</td>\n",
       "      <td>1513700</td>\n",
       "      <td>-37.173852</td>\n",
       "      <td>-33.799869</td>\n",
       "      <td>0.023035</td>\n",
       "      <td>1.0</td>\n",
       "    </tr>\n",
       "    <tr>\n",
       "      <th>2022-03-15</th>\n",
       "      <td>2554.830078</td>\n",
       "      <td>2610.344971</td>\n",
       "      <td>2531.360107</td>\n",
       "      <td>2593.209961</td>\n",
       "      <td>2593.209961</td>\n",
       "      <td>1514630</td>\n",
       "      <td>-36.432780</td>\n",
       "      <td>-34.326451</td>\n",
       "      <td>0.000000</td>\n",
       "      <td>1.0</td>\n",
       "    </tr>\n",
       "  </tbody>\n",
       "</table>\n",
       "</div>"
      ],
      "text/plain": [
       "                   Open         High          Low        Close    Adj Close  \\\n",
       "Date                                                                          \n",
       "2022-03-10  2629.250000  2670.770020  2628.020020  2653.639893  2653.639893   \n",
       "2022-03-11  2679.989990  2684.000000  2605.929932  2609.510010  2609.510010   \n",
       "2022-03-14  2611.459961  2620.520020  2528.260010  2534.820068  2534.820068   \n",
       "2022-03-15  2554.830078  2610.344971  2531.360107  2593.209961  2593.209961   \n",
       "2022-03-15  2554.830078  2610.344971  2531.360107  2593.209961  2593.209961   \n",
       "\n",
       "             Volume       macd       exp3  Actual Returns  Signal  \n",
       "Date                                                               \n",
       "2022-03-10  1213300 -31.123714 -31.849788       -0.008845    -1.0  \n",
       "2022-03-11  1328500 -31.604403 -31.800711       -0.016630    -1.0  \n",
       "2022-03-14  1512700 -37.579019 -32.956373       -0.028622    -1.0  \n",
       "2022-03-15  1513700 -37.173852 -33.799869        0.023035     1.0  \n",
       "2022-03-15  1514630 -36.432780 -34.326451        0.000000     1.0  "
      ]
     },
     "metadata": {},
     "output_type": "display_data"
    }
   ],
   "source": [
    "goog_df['Signal'] = 0.0\n",
    "goog_df.loc[(goog_df['Actual Returns'] >= 0), 'Signal'] = 1\n",
    "goog_df.loc[(goog_df['Actual Returns'] < 0), 'Signal'] = -1\n",
    "goog_df = goog_df.dropna()\n",
    "display(goog_df.head())\n",
    "display(goog_df.tail())"
   ]
  },
  {
   "cell_type": "code",
   "execution_count": 400,
   "id": "8360de0e-4bd3-4612-85aa-cd2b83aa50f5",
   "metadata": {},
   "outputs": [
    {
     "data": {
      "text/html": [
       "<div>\n",
       "<style scoped>\n",
       "    .dataframe tbody tr th:only-of-type {\n",
       "        vertical-align: middle;\n",
       "    }\n",
       "\n",
       "    .dataframe tbody tr th {\n",
       "        vertical-align: top;\n",
       "    }\n",
       "\n",
       "    .dataframe thead th {\n",
       "        text-align: right;\n",
       "    }\n",
       "</style>\n",
       "<table border=\"1\" class=\"dataframe\">\n",
       "  <thead>\n",
       "    <tr style=\"text-align: right;\">\n",
       "      <th></th>\n",
       "      <th>macd</th>\n",
       "      <th>exp3</th>\n",
       "    </tr>\n",
       "    <tr>\n",
       "      <th>Date</th>\n",
       "      <th></th>\n",
       "      <th></th>\n",
       "    </tr>\n",
       "  </thead>\n",
       "  <tbody>\n",
       "    <tr>\n",
       "      <th>2017-03-20</th>\n",
       "      <td>0.266436</td>\n",
       "      <td>0.053287</td>\n",
       "    </tr>\n",
       "    <tr>\n",
       "      <th>2017-03-21</th>\n",
       "      <td>0.175396</td>\n",
       "      <td>0.077709</td>\n",
       "    </tr>\n",
       "    <tr>\n",
       "      <th>2017-03-22</th>\n",
       "      <td>-1.329042</td>\n",
       "      <td>-0.203641</td>\n",
       "    </tr>\n",
       "    <tr>\n",
       "      <th>2017-03-23</th>\n",
       "      <td>-2.561988</td>\n",
       "      <td>-0.675310</td>\n",
       "    </tr>\n",
       "    <tr>\n",
       "      <th>2017-03-24</th>\n",
       "      <td>-4.456838</td>\n",
       "      <td>-1.431616</td>\n",
       "    </tr>\n",
       "  </tbody>\n",
       "</table>\n",
       "</div>"
      ],
      "text/plain": [
       "                macd      exp3\n",
       "Date                          \n",
       "2017-03-20  0.266436  0.053287\n",
       "2017-03-21  0.175396  0.077709\n",
       "2017-03-22 -1.329042 -0.203641\n",
       "2017-03-23 -2.561988 -0.675310\n",
       "2017-03-24 -4.456838 -1.431616"
      ]
     },
     "execution_count": 400,
     "metadata": {},
     "output_type": "execute_result"
    }
   ],
   "source": [
    "X = goog_df[['macd', 'exp3']].shift().dropna()\n",
    "X.head()"
   ]
  },
  {
   "cell_type": "code",
   "execution_count": 401,
   "id": "8d7d8212-1cd5-4a9d-b3fd-881fcb57d92e",
   "metadata": {},
   "outputs": [
    {
     "data": {
      "text/plain": [
       " 1.0    693\n",
       "-1.0    566\n",
       "Name: Signal, dtype: int64"
      ]
     },
     "execution_count": 401,
     "metadata": {},
     "output_type": "execute_result"
    }
   ],
   "source": [
    "y = goog_df['Signal']\n",
    "y.value_counts()"
   ]
  },
  {
   "cell_type": "code",
   "execution_count": 402,
   "id": "797fa4fa-06df-4237-9f40-f8cd29278bce",
   "metadata": {},
   "outputs": [
    {
     "name": "stdout",
     "output_type": "stream",
     "text": [
      "2017-03-20 00:00:00\n"
     ]
    }
   ],
   "source": [
    "training_begin = X.index.min()\n",
    "print(training_begin)"
   ]
  },
  {
   "cell_type": "code",
   "execution_count": 403,
   "id": "22cba522-5294-42c2-a63f-754f0e7462c1",
   "metadata": {},
   "outputs": [
    {
     "name": "stdout",
     "output_type": "stream",
     "text": [
      "2017-06-20 00:00:00\n"
     ]
    }
   ],
   "source": [
    "training_end = X.index.min() + DateOffset(months=3)\n",
    "print(training_end)"
   ]
  },
  {
   "cell_type": "code",
   "execution_count": 404,
   "id": "dfbc3932-29ec-46f5-92b5-90a57a6f68d9",
   "metadata": {},
   "outputs": [
    {
     "data": {
      "text/html": [
       "<div>\n",
       "<style scoped>\n",
       "    .dataframe tbody tr th:only-of-type {\n",
       "        vertical-align: middle;\n",
       "    }\n",
       "\n",
       "    .dataframe tbody tr th {\n",
       "        vertical-align: top;\n",
       "    }\n",
       "\n",
       "    .dataframe thead th {\n",
       "        text-align: right;\n",
       "    }\n",
       "</style>\n",
       "<table border=\"1\" class=\"dataframe\">\n",
       "  <thead>\n",
       "    <tr style=\"text-align: right;\">\n",
       "      <th></th>\n",
       "      <th>macd</th>\n",
       "      <th>exp3</th>\n",
       "    </tr>\n",
       "    <tr>\n",
       "      <th>Date</th>\n",
       "      <th></th>\n",
       "      <th></th>\n",
       "    </tr>\n",
       "  </thead>\n",
       "  <tbody>\n",
       "    <tr>\n",
       "      <th>2017-03-20</th>\n",
       "      <td>0.266436</td>\n",
       "      <td>0.053287</td>\n",
       "    </tr>\n",
       "    <tr>\n",
       "      <th>2017-03-21</th>\n",
       "      <td>0.175396</td>\n",
       "      <td>0.077709</td>\n",
       "    </tr>\n",
       "    <tr>\n",
       "      <th>2017-03-22</th>\n",
       "      <td>-1.329042</td>\n",
       "      <td>-0.203641</td>\n",
       "    </tr>\n",
       "    <tr>\n",
       "      <th>2017-03-23</th>\n",
       "      <td>-2.561988</td>\n",
       "      <td>-0.675310</td>\n",
       "    </tr>\n",
       "    <tr>\n",
       "      <th>2017-03-24</th>\n",
       "      <td>-4.456838</td>\n",
       "      <td>-1.431616</td>\n",
       "    </tr>\n",
       "  </tbody>\n",
       "</table>\n",
       "</div>"
      ],
      "text/plain": [
       "                macd      exp3\n",
       "Date                          \n",
       "2017-03-20  0.266436  0.053287\n",
       "2017-03-21  0.175396  0.077709\n",
       "2017-03-22 -1.329042 -0.203641\n",
       "2017-03-23 -2.561988 -0.675310\n",
       "2017-03-24 -4.456838 -1.431616"
      ]
     },
     "execution_count": 404,
     "metadata": {},
     "output_type": "execute_result"
    }
   ],
   "source": [
    "X_train = X.loc[training_begin:training_end]\n",
    "y_train = y.loc[training_begin:training_end]\n",
    "X_train.head()"
   ]
  },
  {
   "cell_type": "code",
   "execution_count": 405,
   "id": "30cb0b95-1d65-4355-b156-1f375d7667d3",
   "metadata": {},
   "outputs": [
    {
     "data": {
      "text/html": [
       "<div>\n",
       "<style scoped>\n",
       "    .dataframe tbody tr th:only-of-type {\n",
       "        vertical-align: middle;\n",
       "    }\n",
       "\n",
       "    .dataframe tbody tr th {\n",
       "        vertical-align: top;\n",
       "    }\n",
       "\n",
       "    .dataframe thead th {\n",
       "        text-align: right;\n",
       "    }\n",
       "</style>\n",
       "<table border=\"1\" class=\"dataframe\">\n",
       "  <thead>\n",
       "    <tr style=\"text-align: right;\">\n",
       "      <th></th>\n",
       "      <th>macd</th>\n",
       "      <th>exp3</th>\n",
       "    </tr>\n",
       "    <tr>\n",
       "      <th>Date</th>\n",
       "      <th></th>\n",
       "      <th></th>\n",
       "    </tr>\n",
       "  </thead>\n",
       "  <tbody>\n",
       "    <tr>\n",
       "      <th>2017-06-21</th>\n",
       "      <td>6.363105</td>\n",
       "      <td>11.642294</td>\n",
       "    </tr>\n",
       "    <tr>\n",
       "      <th>2017-06-22</th>\n",
       "      <td>6.316986</td>\n",
       "      <td>10.577233</td>\n",
       "    </tr>\n",
       "    <tr>\n",
       "      <th>2017-06-23</th>\n",
       "      <td>6.020603</td>\n",
       "      <td>9.665907</td>\n",
       "    </tr>\n",
       "    <tr>\n",
       "      <th>2017-06-26</th>\n",
       "      <td>6.397846</td>\n",
       "      <td>9.012294</td>\n",
       "    </tr>\n",
       "    <tr>\n",
       "      <th>2017-06-27</th>\n",
       "      <td>5.557932</td>\n",
       "      <td>8.321422</td>\n",
       "    </tr>\n",
       "  </tbody>\n",
       "</table>\n",
       "</div>"
      ],
      "text/plain": [
       "                macd       exp3\n",
       "Date                           \n",
       "2017-06-21  6.363105  11.642294\n",
       "2017-06-22  6.316986  10.577233\n",
       "2017-06-23  6.020603   9.665907\n",
       "2017-06-26  6.397846   9.012294\n",
       "2017-06-27  5.557932   8.321422"
      ]
     },
     "execution_count": 405,
     "metadata": {},
     "output_type": "execute_result"
    }
   ],
   "source": [
    "X_test = X.loc[training_end + DateOffset(hours=1):]\n",
    "y_test = y.loc[training_end + DateOffset(hours=1):]\n",
    "X_test.head()"
   ]
  },
  {
   "cell_type": "code",
   "execution_count": 406,
   "id": "a12938c9-0aa0-467b-9e66-b391e7b56aa3",
   "metadata": {},
   "outputs": [],
   "source": [
    "scaler = StandardScaler()\n",
    "X_scaler = scaler.fit(X_train)\n",
    "X_train_scaled = X_scaler.transform(X_train)\n",
    "X_test_scaled = X_scaler.transform(X_test)"
   ]
  },
  {
   "cell_type": "code",
   "execution_count": 407,
   "id": "111f5edc-f72a-4335-bc0d-73970085a33d",
   "metadata": {},
   "outputs": [
    {
     "data": {
      "text/plain": [
       "array([1., 1., 1., 1., 1., 1., 1., 1., 1., 1., 1., 1., 1., 1., 1., 1., 1.,\n",
       "       1., 1., 1., 1., 1., 1., 1., 1., 1., 1., 1., 1., 1., 1., 1., 1., 1.,\n",
       "       1., 1., 1., 1., 1., 1., 1., 1., 1., 1., 1., 1., 1., 1., 1., 1., 1.,\n",
       "       1., 1., 1., 1., 1., 1., 1., 1., 1., 1., 1., 1., 1., 1.])"
      ]
     },
     "execution_count": 407,
     "metadata": {},
     "output_type": "execute_result"
    }
   ],
   "source": [
    "svm_model = svm.SVC()\n",
    "svm_model = svm_model.fit(X_train_scaled, y_train)\n",
    "svm_pred_training = svm_model.predict(X_train_scaled)\n",
    "svm_pred_training"
   ]
  },
  {
   "cell_type": "code",
   "execution_count": 408,
   "id": "6d5a5316-4480-4c23-a427-b263ddf6aecc",
   "metadata": {},
   "outputs": [
    {
     "name": "stdout",
     "output_type": "stream",
     "text": [
      "              precision    recall  f1-score   support\n",
      "\n",
      "        -1.0       0.00      0.00      0.00        26\n",
      "         1.0       0.60      1.00      0.75        39\n",
      "\n",
      "    accuracy                           0.60        65\n",
      "   macro avg       0.30      0.50      0.37        65\n",
      "weighted avg       0.36      0.60      0.45        65\n",
      "\n"
     ]
    },
    {
     "name": "stderr",
     "output_type": "stream",
     "text": [
      "/Applications/anaconda3/envs/dev/lib/python3.9/site-packages/sklearn/metrics/_classification.py:1308: UndefinedMetricWarning: Precision and F-score are ill-defined and being set to 0.0 in labels with no predicted samples. Use `zero_division` parameter to control this behavior.\n",
      "  _warn_prf(average, modifier, msg_start, len(result))\n",
      "/Applications/anaconda3/envs/dev/lib/python3.9/site-packages/sklearn/metrics/_classification.py:1308: UndefinedMetricWarning: Precision and F-score are ill-defined and being set to 0.0 in labels with no predicted samples. Use `zero_division` parameter to control this behavior.\n",
      "  _warn_prf(average, modifier, msg_start, len(result))\n",
      "/Applications/anaconda3/envs/dev/lib/python3.9/site-packages/sklearn/metrics/_classification.py:1308: UndefinedMetricWarning: Precision and F-score are ill-defined and being set to 0.0 in labels with no predicted samples. Use `zero_division` parameter to control this behavior.\n",
      "  _warn_prf(average, modifier, msg_start, len(result))\n"
     ]
    }
   ],
   "source": [
    "svm_training_report = classification_report(y_train, svm_pred_training)\n",
    "print(svm_training_report)"
   ]
  },
  {
   "cell_type": "code",
   "execution_count": 409,
   "id": "45e98539-b5c2-4d95-8e6b-363c58fad4b0",
   "metadata": {},
   "outputs": [
    {
     "name": "stdout",
     "output_type": "stream",
     "text": [
      "              precision    recall  f1-score   support\n",
      "\n",
      "        -1.0       0.38      0.01      0.02       540\n",
      "         1.0       0.55      0.98      0.70       653\n",
      "\n",
      "    accuracy                           0.54      1193\n",
      "   macro avg       0.46      0.50      0.36      1193\n",
      "weighted avg       0.47      0.54      0.39      1193\n",
      "\n"
     ]
    }
   ],
   "source": [
    "svm_pred_testing = svm_model.predict(X_test_scaled)\n",
    "svm_testing_report = classification_report(y_test, svm_pred_testing)\n",
    "print(svm_testing_report)"
   ]
  },
  {
   "cell_type": "code",
   "execution_count": 410,
   "id": "7f291c48-6676-4df0-b3a8-bf7a211f175a",
   "metadata": {},
   "outputs": [
    {
     "data": {
      "text/plain": [
       "False"
      ]
     },
     "execution_count": 410,
     "metadata": {},
     "output_type": "execute_result"
    }
   ],
   "source": [
    "goog_df.index.is_unique"
   ]
  },
  {
   "cell_type": "code",
   "execution_count": 411,
   "id": "8c51bb78-2622-4dea-ac41-708dbf865bb6",
   "metadata": {},
   "outputs": [
    {
     "data": {
      "text/plain": [
       "array([False, False, False, ..., False, False,  True])"
      ]
     },
     "execution_count": 411,
     "metadata": {},
     "output_type": "execute_result"
    }
   ],
   "source": [
    "goog_df.index.duplicated()"
   ]
  },
  {
   "cell_type": "code",
   "execution_count": 412,
   "id": "a0a8d7bf-b3c4-420f-9703-6431895bbf11",
   "metadata": {},
   "outputs": [],
   "source": [
    "goog_df = goog_df.loc[~goog_df.index.duplicated(), :]"
   ]
  },
  {
   "cell_type": "code",
   "execution_count": 413,
   "id": "a9060c75-edcd-4ef3-8840-3b811fa9a929",
   "metadata": {},
   "outputs": [
    {
     "data": {
      "text/plain": [
       "False"
      ]
     },
     "execution_count": 413,
     "metadata": {},
     "output_type": "execute_result"
    }
   ],
   "source": [
    "predictions_df = pd.DataFrame(index = X_test.index)\n",
    "predictions_df['Predicted'] = svm_pred_testing\n",
    "predictions_df.index.is_unique"
   ]
  },
  {
   "cell_type": "code",
   "execution_count": 414,
   "id": "676ade90-74d0-4afa-9df1-b0dd4cc80873",
   "metadata": {},
   "outputs": [
    {
     "data": {
      "text/plain": [
       "array([False, False, False, ..., False, False,  True])"
      ]
     },
     "execution_count": 414,
     "metadata": {},
     "output_type": "execute_result"
    }
   ],
   "source": [
    "predictions_df.index.duplicated()"
   ]
  },
  {
   "cell_type": "code",
   "execution_count": 415,
   "id": "00bfe27b-edb1-4ada-a8f4-68e97c9ab736",
   "metadata": {},
   "outputs": [],
   "source": [
    "predictions_df = predictions_df.loc[~predictions_df.index.duplicated(), :]"
   ]
  },
  {
   "cell_type": "code",
   "execution_count": 416,
   "id": "3dd2e148-bdbd-4c71-807b-f6e50cda48d0",
   "metadata": {},
   "outputs": [
    {
     "data": {
      "text/html": [
       "<div>\n",
       "<style scoped>\n",
       "    .dataframe tbody tr th:only-of-type {\n",
       "        vertical-align: middle;\n",
       "    }\n",
       "\n",
       "    .dataframe tbody tr th {\n",
       "        vertical-align: top;\n",
       "    }\n",
       "\n",
       "    .dataframe thead th {\n",
       "        text-align: right;\n",
       "    }\n",
       "</style>\n",
       "<table border=\"1\" class=\"dataframe\">\n",
       "  <thead>\n",
       "    <tr style=\"text-align: right;\">\n",
       "      <th></th>\n",
       "      <th>Predicted</th>\n",
       "      <th>Actual Returns</th>\n",
       "      <th>Strategy Returns</th>\n",
       "    </tr>\n",
       "    <tr>\n",
       "      <th>Date</th>\n",
       "      <th></th>\n",
       "      <th></th>\n",
       "      <th></th>\n",
       "    </tr>\n",
       "  </thead>\n",
       "  <tbody>\n",
       "    <tr>\n",
       "      <th>2017-06-21</th>\n",
       "      <td>1.0</td>\n",
       "      <td>0.009278</td>\n",
       "      <td>0.009278</td>\n",
       "    </tr>\n",
       "    <tr>\n",
       "      <th>2017-06-22</th>\n",
       "      <td>1.0</td>\n",
       "      <td>-0.002460</td>\n",
       "      <td>-0.002460</td>\n",
       "    </tr>\n",
       "    <tr>\n",
       "      <th>2017-06-23</th>\n",
       "      <td>1.0</td>\n",
       "      <td>0.008881</td>\n",
       "      <td>0.008881</td>\n",
       "    </tr>\n",
       "    <tr>\n",
       "      <th>2017-06-26</th>\n",
       "      <td>1.0</td>\n",
       "      <td>-0.013795</td>\n",
       "      <td>-0.013795</td>\n",
       "    </tr>\n",
       "    <tr>\n",
       "      <th>2017-06-27</th>\n",
       "      <td>1.0</td>\n",
       "      <td>-0.026190</td>\n",
       "      <td>-0.026190</td>\n",
       "    </tr>\n",
       "  </tbody>\n",
       "</table>\n",
       "</div>"
      ],
      "text/plain": [
       "            Predicted  Actual Returns  Strategy Returns\n",
       "Date                                                   \n",
       "2017-06-21        1.0        0.009278          0.009278\n",
       "2017-06-22        1.0       -0.002460         -0.002460\n",
       "2017-06-23        1.0        0.008881          0.008881\n",
       "2017-06-26        1.0       -0.013795         -0.013795\n",
       "2017-06-27        1.0       -0.026190         -0.026190"
      ]
     },
     "metadata": {},
     "output_type": "display_data"
    },
    {
     "data": {
      "text/html": [
       "<div>\n",
       "<style scoped>\n",
       "    .dataframe tbody tr th:only-of-type {\n",
       "        vertical-align: middle;\n",
       "    }\n",
       "\n",
       "    .dataframe tbody tr th {\n",
       "        vertical-align: top;\n",
       "    }\n",
       "\n",
       "    .dataframe thead th {\n",
       "        text-align: right;\n",
       "    }\n",
       "</style>\n",
       "<table border=\"1\" class=\"dataframe\">\n",
       "  <thead>\n",
       "    <tr style=\"text-align: right;\">\n",
       "      <th></th>\n",
       "      <th>Predicted</th>\n",
       "      <th>Actual Returns</th>\n",
       "      <th>Strategy Returns</th>\n",
       "    </tr>\n",
       "    <tr>\n",
       "      <th>Date</th>\n",
       "      <th></th>\n",
       "      <th></th>\n",
       "      <th></th>\n",
       "    </tr>\n",
       "  </thead>\n",
       "  <tbody>\n",
       "    <tr>\n",
       "      <th>2022-03-09</th>\n",
       "      <td>1.0</td>\n",
       "      <td>0.051757</td>\n",
       "      <td>0.051757</td>\n",
       "    </tr>\n",
       "    <tr>\n",
       "      <th>2022-03-10</th>\n",
       "      <td>1.0</td>\n",
       "      <td>-0.008845</td>\n",
       "      <td>-0.008845</td>\n",
       "    </tr>\n",
       "    <tr>\n",
       "      <th>2022-03-11</th>\n",
       "      <td>1.0</td>\n",
       "      <td>-0.016630</td>\n",
       "      <td>-0.016630</td>\n",
       "    </tr>\n",
       "    <tr>\n",
       "      <th>2022-03-14</th>\n",
       "      <td>1.0</td>\n",
       "      <td>-0.028622</td>\n",
       "      <td>-0.028622</td>\n",
       "    </tr>\n",
       "    <tr>\n",
       "      <th>2022-03-15</th>\n",
       "      <td>1.0</td>\n",
       "      <td>0.023035</td>\n",
       "      <td>0.023035</td>\n",
       "    </tr>\n",
       "  </tbody>\n",
       "</table>\n",
       "</div>"
      ],
      "text/plain": [
       "            Predicted  Actual Returns  Strategy Returns\n",
       "Date                                                   \n",
       "2022-03-09        1.0        0.051757          0.051757\n",
       "2022-03-10        1.0       -0.008845         -0.008845\n",
       "2022-03-11        1.0       -0.016630         -0.016630\n",
       "2022-03-14        1.0       -0.028622         -0.028622\n",
       "2022-03-15        1.0        0.023035          0.023035"
      ]
     },
     "metadata": {},
     "output_type": "display_data"
    }
   ],
   "source": [
    "predictions_df['Actual Returns'] = goog_df['Actual Returns']\n",
    "predictions_df['Strategy Returns'] = (\n",
    "    predictions_df['Actual Returns'] * predictions_df['Predicted']\n",
    ")\n",
    "display(predictions_df.head())\n",
    "display(predictions_df.tail())"
   ]
  },
  {
   "cell_type": "code",
   "execution_count": 417,
   "id": "33c43ed1-b75c-4e21-b289-c74a1137f3ec",
   "metadata": {},
   "outputs": [
    {
     "data": {
      "text/plain": [
       "<AxesSubplot:xlabel='Date'>"
      ]
     },
     "execution_count": 417,
     "metadata": {},
     "output_type": "execute_result"
    },
    {
     "data": {
      "image/png": "[encoded data removed]",
      "text/plain": [
       "<Figure size 432x288 with 1 Axes>"
      ]
     },
     "metadata": {
      "needs_background": "light"
     },
     "output_type": "display_data"
    }
   ],
   "source": [
    "(1 + predictions_df[['Actual Returns', 'Strategy Returns']]).cumprod().plot()"
   ]
  },
  {
   "cell_type": "code",
   "execution_count": 418,
   "id": "18315045-8129-4619-8e6b-74b68654a00c",
   "metadata": {},
   "outputs": [
    {
     "data": {
      "text/html": [
       "<div>\n",
       "<style scoped>\n",
       "    .dataframe tbody tr th:only-of-type {\n",
       "        vertical-align: middle;\n",
       "    }\n",
       "\n",
       "    .dataframe tbody tr th {\n",
       "        vertical-align: top;\n",
       "    }\n",
       "\n",
       "    .dataframe thead th {\n",
       "        text-align: right;\n",
       "    }\n",
       "</style>\n",
       "<table border=\"1\" class=\"dataframe\">\n",
       "  <thead>\n",
       "    <tr style=\"text-align: right;\">\n",
       "      <th></th>\n",
       "      <th>Open</th>\n",
       "      <th>High</th>\n",
       "      <th>Low</th>\n",
       "      <th>Close</th>\n",
       "      <th>Adj Close</th>\n",
       "      <th>Volume</th>\n",
       "      <th>macd</th>\n",
       "      <th>exp3</th>\n",
       "      <th>Actual Returns</th>\n",
       "      <th>Signal</th>\n",
       "      <th>SMAB</th>\n",
       "    </tr>\n",
       "    <tr>\n",
       "      <th>Date</th>\n",
       "      <th></th>\n",
       "      <th></th>\n",
       "      <th></th>\n",
       "      <th></th>\n",
       "      <th></th>\n",
       "      <th></th>\n",
       "      <th></th>\n",
       "      <th></th>\n",
       "      <th></th>\n",
       "      <th></th>\n",
       "      <th></th>\n",
       "    </tr>\n",
       "  </thead>\n",
       "  <tbody>\n",
       "    <tr>\n",
       "      <th>2017-04-13</th>\n",
       "      <td>822.140015</td>\n",
       "      <td>826.380005</td>\n",
       "      <td>821.440002</td>\n",
       "      <td>823.559998</td>\n",
       "      <td>823.559998</td>\n",
       "      <td>1122400</td>\n",
       "      <td>-4.825748</td>\n",
       "      <td>-4.762498</td>\n",
       "      <td>-0.000922</td>\n",
       "      <td>-1.0</td>\n",
       "      <td>828.925998</td>\n",
       "    </tr>\n",
       "    <tr>\n",
       "      <th>2017-04-17</th>\n",
       "      <td>825.010010</td>\n",
       "      <td>837.750000</td>\n",
       "      <td>824.469971</td>\n",
       "      <td>837.169983</td>\n",
       "      <td>837.169983</td>\n",
       "      <td>895000</td>\n",
       "      <td>-3.687209</td>\n",
       "      <td>-4.547440</td>\n",
       "      <td>0.016526</td>\n",
       "      <td>1.0</td>\n",
       "      <td>828.178497</td>\n",
       "    </tr>\n",
       "    <tr>\n",
       "      <th>2017-04-18</th>\n",
       "      <td>834.219971</td>\n",
       "      <td>838.929993</td>\n",
       "      <td>832.710022</td>\n",
       "      <td>836.820007</td>\n",
       "      <td>836.820007</td>\n",
       "      <td>836700</td>\n",
       "      <td>-2.781089</td>\n",
       "      <td>-4.194170</td>\n",
       "      <td>-0.000418</td>\n",
       "      <td>-1.0</td>\n",
       "      <td>827.599496</td>\n",
       "    </tr>\n",
       "    <tr>\n",
       "      <th>2017-04-19</th>\n",
       "      <td>839.789978</td>\n",
       "      <td>842.219971</td>\n",
       "      <td>836.289978</td>\n",
       "      <td>838.210022</td>\n",
       "      <td>838.210022</td>\n",
       "      <td>954200</td>\n",
       "      <td>-1.928589</td>\n",
       "      <td>-3.741054</td>\n",
       "      <td>0.001661</td>\n",
       "      <td>1.0</td>\n",
       "      <td>827.986997</td>\n",
       "    </tr>\n",
       "    <tr>\n",
       "      <th>2017-04-20</th>\n",
       "      <td>841.440002</td>\n",
       "      <td>845.200012</td>\n",
       "      <td>839.320007</td>\n",
       "      <td>841.650024</td>\n",
       "      <td>841.650024</td>\n",
       "      <td>959000</td>\n",
       "      <td>-0.964282</td>\n",
       "      <td>-3.185699</td>\n",
       "      <td>0.004104</td>\n",
       "      <td>1.0</td>\n",
       "      <td>828.589996</td>\n",
       "    </tr>\n",
       "  </tbody>\n",
       "</table>\n",
       "</div>"
      ],
      "text/plain": [
       "                  Open        High         Low       Close   Adj Close  \\\n",
       "Date                                                                     \n",
       "2017-04-13  822.140015  826.380005  821.440002  823.559998  823.559998   \n",
       "2017-04-17  825.010010  837.750000  824.469971  837.169983  837.169983   \n",
       "2017-04-18  834.219971  838.929993  832.710022  836.820007  836.820007   \n",
       "2017-04-19  839.789978  842.219971  836.289978  838.210022  838.210022   \n",
       "2017-04-20  841.440002  845.200012  839.320007  841.650024  841.650024   \n",
       "\n",
       "             Volume      macd      exp3  Actual Returns  Signal        SMAB  \n",
       "Date                                                                         \n",
       "2017-04-13  1122400 -4.825748 -4.762498       -0.000922    -1.0  828.925998  \n",
       "2017-04-17   895000 -3.687209 -4.547440        0.016526     1.0  828.178497  \n",
       "2017-04-18   836700 -2.781089 -4.194170       -0.000418    -1.0  827.599496  \n",
       "2017-04-19   954200 -1.928589 -3.741054        0.001661     1.0  827.986997  \n",
       "2017-04-20   959000 -0.964282 -3.185699        0.004104     1.0  828.589996  "
      ]
     },
     "execution_count": 418,
     "metadata": {},
     "output_type": "execute_result"
    }
   ],
   "source": [
    "Bollinger_window = 20\n",
    "goog_df['SMAB'] = goog_df['Close'].rolling(window=Bollinger_window).mean()\n",
    "goog_df = goog_df.dropna()\n",
    "goog_df.head()"
   ]
  },
  {
   "cell_type": "code",
   "execution_count": 419,
   "id": "edee941e-9438-4bd1-b034-ad26e4f76ca3",
   "metadata": {},
   "outputs": [],
   "source": [
    "goog_df['SD'] = goog_df['Close'].rolling(window=Bollinger_window).std()\n",
    "goog_df['bollinger_up'] = goog_df['SMAB'] + (goog_df['SD'] * 2)\n",
    "goog_df['bollinger_down'] = goog_df['SMAB'] - (goog_df['SD'] * 2)\n",
    "goog_df.dropna(inplace=True)\n",
    "goog_df.reset_index(inplace=True)\n",
    "goog_df.set_index('Date', inplace=True)"
   ]
  },
  {
   "cell_type": "code",
   "execution_count": 420,
   "id": "8109e235-3c12-4d25-ab44-084a5641584b",
   "metadata": {},
   "outputs": [
    {
     "data": {
      "text/html": [
       "<div>\n",
       "<style scoped>\n",
       "    .dataframe tbody tr th:only-of-type {\n",
       "        vertical-align: middle;\n",
       "    }\n",
       "\n",
       "    .dataframe tbody tr th {\n",
       "        vertical-align: top;\n",
       "    }\n",
       "\n",
       "    .dataframe thead th {\n",
       "        text-align: right;\n",
       "    }\n",
       "</style>\n",
       "<table border=\"1\" class=\"dataframe\">\n",
       "  <thead>\n",
       "    <tr style=\"text-align: right;\">\n",
       "      <th></th>\n",
       "      <th>Open</th>\n",
       "      <th>High</th>\n",
       "      <th>Low</th>\n",
       "      <th>Close</th>\n",
       "      <th>Adj Close</th>\n",
       "      <th>Volume</th>\n",
       "      <th>macd</th>\n",
       "      <th>exp3</th>\n",
       "      <th>Actual Returns</th>\n",
       "      <th>Signal</th>\n",
       "      <th>SMAB</th>\n",
       "      <th>SD</th>\n",
       "      <th>bollinger_up</th>\n",
       "      <th>bollinger_down</th>\n",
       "    </tr>\n",
       "    <tr>\n",
       "      <th>Date</th>\n",
       "      <th></th>\n",
       "      <th></th>\n",
       "      <th></th>\n",
       "      <th></th>\n",
       "      <th></th>\n",
       "      <th></th>\n",
       "      <th></th>\n",
       "      <th></th>\n",
       "      <th></th>\n",
       "      <th></th>\n",
       "      <th></th>\n",
       "      <th></th>\n",
       "      <th></th>\n",
       "      <th></th>\n",
       "    </tr>\n",
       "  </thead>\n",
       "  <tbody>\n",
       "    <tr>\n",
       "      <th>2017-05-11</th>\n",
       "      <td>925.320007</td>\n",
       "      <td>932.530029</td>\n",
       "      <td>923.030029</td>\n",
       "      <td>930.599976</td>\n",
       "      <td>930.599976</td>\n",
       "      <td>835000</td>\n",
       "      <td>25.300699</td>\n",
       "      <td>21.415151</td>\n",
       "      <td>0.001960</td>\n",
       "      <td>1.0</td>\n",
       "      <td>887.414499</td>\n",
       "      <td>40.775611</td>\n",
       "      <td>968.965721</td>\n",
       "      <td>805.863277</td>\n",
       "    </tr>\n",
       "    <tr>\n",
       "      <th>2017-05-12</th>\n",
       "      <td>931.530029</td>\n",
       "      <td>933.440002</td>\n",
       "      <td>927.849976</td>\n",
       "      <td>932.219971</td>\n",
       "      <td>932.219971</td>\n",
       "      <td>1050600</td>\n",
       "      <td>24.920658</td>\n",
       "      <td>22.116253</td>\n",
       "      <td>0.001741</td>\n",
       "      <td>1.0</td>\n",
       "      <td>892.847498</td>\n",
       "      <td>39.021008</td>\n",
       "      <td>970.889513</td>\n",
       "      <td>814.805482</td>\n",
       "    </tr>\n",
       "    <tr>\n",
       "      <th>2017-05-15</th>\n",
       "      <td>932.950012</td>\n",
       "      <td>938.250000</td>\n",
       "      <td>929.340027</td>\n",
       "      <td>937.080017</td>\n",
       "      <td>937.080017</td>\n",
       "      <td>1108100</td>\n",
       "      <td>24.726605</td>\n",
       "      <td>22.638323</td>\n",
       "      <td>0.005213</td>\n",
       "      <td>1.0</td>\n",
       "      <td>897.842999</td>\n",
       "      <td>37.897071</td>\n",
       "      <td>973.637141</td>\n",
       "      <td>822.048858</td>\n",
       "    </tr>\n",
       "    <tr>\n",
       "      <th>2017-05-16</th>\n",
       "      <td>940.000000</td>\n",
       "      <td>943.109985</td>\n",
       "      <td>937.580017</td>\n",
       "      <td>943.000000</td>\n",
       "      <td>943.000000</td>\n",
       "      <td>969500</td>\n",
       "      <td>24.765034</td>\n",
       "      <td>23.063665</td>\n",
       "      <td>0.006317</td>\n",
       "      <td>1.0</td>\n",
       "      <td>903.151999</td>\n",
       "      <td>36.302248</td>\n",
       "      <td>975.756495</td>\n",
       "      <td>830.547503</td>\n",
       "    </tr>\n",
       "    <tr>\n",
       "      <th>2017-05-17</th>\n",
       "      <td>935.669983</td>\n",
       "      <td>939.333008</td>\n",
       "      <td>918.140015</td>\n",
       "      <td>919.619995</td>\n",
       "      <td>919.619995</td>\n",
       "      <td>2362100</td>\n",
       "      <td>22.647848</td>\n",
       "      <td>22.980502</td>\n",
       "      <td>-0.024793</td>\n",
       "      <td>-1.0</td>\n",
       "      <td>907.222497</td>\n",
       "      <td>33.056225</td>\n",
       "      <td>973.334948</td>\n",
       "      <td>841.110047</td>\n",
       "    </tr>\n",
       "  </tbody>\n",
       "</table>\n",
       "</div>"
      ],
      "text/plain": [
       "                  Open        High         Low       Close   Adj Close  \\\n",
       "Date                                                                     \n",
       "2017-05-11  925.320007  932.530029  923.030029  930.599976  930.599976   \n",
       "2017-05-12  931.530029  933.440002  927.849976  932.219971  932.219971   \n",
       "2017-05-15  932.950012  938.250000  929.340027  937.080017  937.080017   \n",
       "2017-05-16  940.000000  943.109985  937.580017  943.000000  943.000000   \n",
       "2017-05-17  935.669983  939.333008  918.140015  919.619995  919.619995   \n",
       "\n",
       "             Volume       macd       exp3  Actual Returns  Signal        SMAB  \\\n",
       "Date                                                                            \n",
       "2017-05-11   835000  25.300699  21.415151        0.001960     1.0  887.414499   \n",
       "2017-05-12  1050600  24.920658  22.116253        0.001741     1.0  892.847498   \n",
       "2017-05-15  1108100  24.726605  22.638323        0.005213     1.0  897.842999   \n",
       "2017-05-16   969500  24.765034  23.063665        0.006317     1.0  903.151999   \n",
       "2017-05-17  2362100  22.647848  22.980502       -0.024793    -1.0  907.222497   \n",
       "\n",
       "                   SD  bollinger_up  bollinger_down  \n",
       "Date                                                 \n",
       "2017-05-11  40.775611    968.965721      805.863277  \n",
       "2017-05-12  39.021008    970.889513      814.805482  \n",
       "2017-05-15  37.897071    973.637141      822.048858  \n",
       "2017-05-16  36.302248    975.756495      830.547503  \n",
       "2017-05-17  33.056225    973.334948      841.110047  "
      ]
     },
     "execution_count": 420,
     "metadata": {},
     "output_type": "execute_result"
    }
   ],
   "source": [
    "goog_df.head()"
   ]
  },
  {
   "cell_type": "code",
   "execution_count": 421,
   "id": "18b6775c-17b9-4bb8-add9-18678857c761",
   "metadata": {},
   "outputs": [
    {
     "data": {},
     "metadata": {},
     "output_type": "display_data"
    },
    {
     "data": {
      "application/vnd.holoviews_exec.v0+json": "",
      "text/html": [
       "<div id='8264'>\n",
       "\n",
       "\n",
       "\n",
       "\n",
       "\n",
       "  <div class=\"bk-root\" id=\"b31bca56-0d09-4874-a290-c949d9fad2b1\" data-root-id=\"8264\"></div>\n",
       "</div>\n",
       "<script type=\"application/javascript\">(function(root) {\n",
       "  function embed_document(root) {\n",
       "    var docs_json = {\"43770256-8a92-4e1f-ac62-ec20ef3004de\":{\"defs\":[{\"extends\":null,\"module\":null,\"name\":\"ReactiveHTML1\",\"overrides\":[],\"properties\":[]},{\"extends\":null,\"module\":null,\"name\":\"FlexBox1\",\"overrides\":[],\"properties\":[{\"default\":\"flex-start\",\"kind\":null,\"name\":\"align_content\"},{\"default\":\"flex-start\",\"kind\":null,\"name\":\"align_items\"},{\"default\":\"row\",\"kind\":null,\"name\":\"flex_direction\"},{\"default\":\"wrap\",\"kind\":null,\"name\":\"flex_wrap\"},{\"default\":\"flex-start\",\"kind\":null,\"name\":\"justify_content\"}]},{\"extends\":null,\"module\":null,\"name\":\"TemplateActions1\",\"overrides\":[],\"properties\":[{\"default\":0,\"kind\":null,\"name\":\"open_modal\"},{\"default\":0,\"kind\":null,\"name\":\"close_modal\"}]},{\"extends\":null,\"module\":null,\"name\":\"MaterialTemplateActions1\",\"overrides\":[],\"properties\":[{\"default\":0,\"kind\":null,\"name\":\"open_modal\"},{\"default\":0,\"kind\":null,\"name\":\"close_modal\"}]}],\"roots\":{\"references\":[{\"attributes\":{\"line_alpha\":0.1,\"line_color\":\"#e5ae38\",\"line_width\":2,\"x\":{\"field\":\"Date\"},\"y\":{\"field\":\"value\"}},\"id\":\"8378\",\"type\":\"Line\"},{\"attributes\":{},\"id\":\"8292\",\"type\":\"ResetTool\"},{\"attributes\":{\"coordinates\":null,\"data_source\":{\"id\":\"8374\"},\"glyph\":{\"id\":\"8377\"},\"group\":null,\"hover_glyph\":null,\"muted_glyph\":{\"id\":\"8379\"},\"nonselection_glyph\":{\"id\":\"8378\"},\"selection_glyph\":{\"id\":\"8409\"},\"view\":{\"id\":\"8381\"}},\"id\":\"8380\",\"type\":\"GlyphRenderer\"},{\"attributes\":{\"line_color\":\"#e5ae38\",\"line_width\":2,\"x\":{\"field\":\"Date\"},\"y\":{\"field\":\"value\"}},\"id\":\"8409\",\"type\":\"Line\"},{\"attributes\":{\"bottom_units\":\"screen\",\"coordinates\":null,\"fill_alpha\":0.5,\"fill_color\":\"lightgrey\",\"group\":null,\"left_units\":\"screen\",\"level\":\"overlay\",\"line_alpha\":1.0,\"line_color\":\"black\",\"line_dash\":[4,4],\"line_width\":2,\"right_units\":\"screen\",\"syncable\":false,\"top_units\":\"screen\"},\"id\":\"8293\",\"type\":\"BoxAnnotation\"},{\"attributes\":{\"line_color\":\"#e5ae38\",\"line_width\":2,\"x\":{\"field\":\"Date\"},\"y\":{\"field\":\"value\"}},\"id\":\"8377\",\"type\":\"Line\"},{\"attributes\":{\"source\":{\"id\":\"8374\"}},\"id\":\"8381\",\"type\":\"CDSView\"},{\"attributes\":{\"line_alpha\":0.2,\"line_color\":\"#e5ae38\",\"line_width\":2,\"x\":{\"field\":\"Date\"},\"y\":{\"field\":\"value\"}},\"id\":\"8379\",\"type\":\"Line\"},{\"attributes\":{\"data\":{\"Date\":{\"__ndarray__\":\"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\",\"dtype\":\"float64\",\"order\":\"little\",\"shape\":[1220]},\"Variable\":[\"Close\",\"Close\",\"Close\",\"Close\",\"Close\",\"Close\",\"Close\",\"Close\",\"Close\",\"Close\",\"Close\",\"Close\",\"Close\",\"Close\",\"Close\",\"Close\",\"Close\",\"Close\",\"Close\",\"Close\",\"Close\",\"Close\",\"Close\",\"Close\",\"Close\",\"Close\",\"Close\",\"Close\",\"Close\",\"Close\",\"Close\",\"Close\",\"Close\",\"Close\",\"Close\",\"Close\",\"Close\",\"Close\",\"Close\",\"Close\",\"Close\",\"Close\",\"Close\",\"Close\",\"Close\",\"Close\",\"Close\",\"Close\",\"Close\",\"Close\",\"Close\",\"Close\",\"Close\",\"Close\",\"Close\",\"Close\",\"Close\",\"Close\",\"Close\",\"Close\",\"Close\",\"Close\",\"Close\",\"Close\",\"Close\",\"Close\",\"Close\",\"Close\",\"Close\",\"Close\",\"Close\",\"Close\",\"Close\",\"Close\",\"Close\",\"Close\",\"Close\",\"Close\",\"Close\",\"Close\",\"Close\",\"Close\",\"Close\",\"Close\",\"Close\",\"Close\",\"Close\",\"Close\",\"Close\",\"Close\",\"Close\",\"Close\",\"Close\",\"Close\",\"Close\",\"Close\",\"Close\",\"Close\",\"Close\",\"Close\",\"Close\",\"Close\",\"Close\",\"Close\",\"Close\",\"Close\",\"Close\",\"Close\",\"Close\",\"Close\",\"Close\",\"Close\",\"Close\",\"Close\",\"Close\",\"Close\",\"Close\",\"Close\",\"Close\",\"Close\",\"Close\",\"Close\",\"Close\",\"Close\",\"Close\",\"Close\",\"Close\",\"Close\",\"Close\",\"Close\",\"Close\",\"Close\",\"Close\",\"Close\",\"Close\",\"Close\",\"Close\",\"Close\",\"Close\",\"Close\",\"Close\",\"Close\",\"Close\",\"Close\",\"Close\",\"Close\",\"Close\",\"Close\",\"Close\",\"Close\",\"Close\",\"Close\",\"Close\",\"Close\",\"Close\",\"Close\",\"Close\",\"Close\",\"Close\",\"Close\",\"Close\",\"Close\",\"Close\",\"Close\",\"Close\",\"Close\",\"Close\",\"Close\",\"Close\",\"Close\",\"Close\",\"Close\",\"Close\",\"Close\",\"Close\",\"Close\",\"Close\",\"Close\",\"Close\",\"Close\",\"Close\",\"Close\",\"Close\",\"Close\",\"Close\",\"Close\",\"Close\",\"Close\",\"Close\",\"Close\",\"Close\",\"Close\",\"Close\",\"Close\",\"Close\",\"Close\",\"Close\",\"Close\",\"Close\",\"Close\",\"Close\",\"Close\",\"Close\",\"Close\",\"Close\",\"Close\",\"Close\",\"Close\",\"Close\",\"Close\",\"Close\",\"Close\",\"Close\",\"Close\",\"Close\",\"Close\",\"Close\",\"Close\",\"Close\",\"Close\",\"Close\",\"Close\",\"Close\",\"Close\",\"Close\",\"Close\",\"Close\",\"Close\",\"Close\",\"Close\",\"Close\",\"Close\",\"Close\",\"Close\",\"Close\",\"Close\",\"Close\",\"Close\",\"Close\",\"Close\",\"Close\",\"Close\",\"Close\",\"Close\",\"Close\",\"Close\",\"Close\",\"Close\",\"Close\",\"Close\",\"Close\",\"Close\",\"Close\",\"Close\",\"Close\",\"Close\",\"Close\",\"Close\",\"Close\",\"Close\",\"Close\",\"Close\",\"Close\",\"Close\",\"Close\",\"Close\",\"Close\",\"Close\",\"Close\",\"Close\",\"Close\",\"Close\",\"Close\",\"Close\",\"Close\",\"Close\",\"Close\",\"Close\",\"Close\",\"Close\",\"Close\",\"Close\",\"Close\",\"Close\",\"Close\",\"Close\",\"Close\",\"Close\",\"Close\",\"Close\",\"Close\",\"Close\",\"Close\",\"Close\",\"Close\",\"Close\",\"Close\",\"Close\",\"Close\",\"Close\",\"Close\",\"Close\",\"Close\",\"Close\",\"Close\",\"Close\",\"Close\",\"Close\",\"Close\",\"Close\",\"Close\",\"Close\",\"Close\",\"Close\",\"Close\",\"Close\",\"Close\",\"Close\",\"Close\",\"Close\",\"Close\",\"Close\",\"Close\",\"Close\",\"Close\",\"Close\",\"Close\",\"Close\",\"Close\",\"Close\",\"Close\",\"Close\",\"Close\",\"Close\",\"Close\",\"Close\",\"Close\",\"Close\",\"Close\",\"Close\",\"Close\",\"Close\",\"Close\",\"Close\",\"Close\",\"Close\",\"Close\",\"Close\",\"Close\",\"Close\",\"Close\",\"Close\",\"Close\",\"Close\",\"Close\",\"Close\",\"Close\",\"Close\",\"Close\",\"Close\",\"Close\",\"Close\",\"Close\",\"Close\",\"Close\",\"Close\",\"Close\",\"Close\",\"Close\",\"Close\",\"Close\",\"Close\",\"Close\",\"Close\",\"Close\",\"Close\",\"Close\",\"Close\",\"Close\",\"Close\",\"Close\",\"Close\",\"Close\",\"Close\",\"Close\",\"Close\",\"Close\",\"Close\",\"Close\",\"Close\",\"Close\",\"Close\",\"Close\",\"Close\",\"Close\",\"Close\",\"Close\",\"Close\",\"Close\",\"Close\",\"Close\",\"Close\",\"Close\",\"Close\",\"Close\",\"Close\",\"Close\",\"Close\",\"Close\",\"Close\",\"Close\",\"Close\",\"Close\",\"Close\",\"Close\",\"Close\",\"Close\",\"Close\",\"Close\",\"Close\",\"Close\",\"Close\",\"Close\",\"Close\",\"Close\",\"Close\",\"Close\",\"Close\",\"Close\",\"Close\",\"Close\",\"Close\",\"Close\",\"Close\",\"Close\",\"Close\",\"Close\",\"Close\",\"Close\",\"Close\",\"Close\",\"Close\",\"Close\",\"Close\",\"Close\",\"Close\",\"Close\",\"Close\",\"Close\",\"Close\",\"Close\",\"Close\",\"Close\",\"Close\",\"Close\",\"Close\",\"Close\",\"Close\",\"Close\",\"Close\",\"Close\",\"Close\",\"Close\",\"Close\",\"Close\",\"Close\",\"Close\",\"Close\",\"Close\",\"Close\",\"Close\",\"Close\",\"Close\",\"Close\",\"Close\",\"Close\",\"Close\",\"Close\",\"Close\",\"Close\",\"Close\",\"Close\",\"Close\",\"Close\",\"Close\",\"Close\",\"Close\",\"Close\",\"Close\",\"Close\",\"Close\",\"Close\",\"Close\",\"Close\",\"Close\",\"Close\",\"Close\",\"Close\",\"Close\",\"Close\",\"Close\",\"Close\",\"Close\",\"Close\",\"Close\",\"Close\",\"Close\",\"Close\",\"Close\",\"Close\",\"Close\",\"Close\",\"Close\",\"Close\",\"Close\",\"Close\",\"Close\",\"Close\",\"Close\",\"Close\",\"Close\",\"Close\",\"Close\",\"Close\",\"Close\",\"Close\",\"Close\",\"Close\",\"Close\",\"Close\",\"Close\",\"Close\",\"Close\",\"Close\",\"Close\",\"Close\",\"Close\",\"Close\",\"Close\",\"Close\",\"Close\",\"Close\",\"Close\",\"Close\",\"Close\",\"Close\",\"Close\",\"Close\",\"Close\",\"Close\",\"Close\",\"Close\",\"Close\",\"Close\",\"Close\",\"Close\",\"Close\",\"Close\",\"Close\",\"Close\",\"Close\",\"Close\",\"Close\",\"Close\",\"Close\",\"Close\",\"Close\",\"Close\",\"Close\",\"Close\",\"Close\",\"Close\",\"Close\",\"Close\",\"Close\",\"Close\",\"Close\",\"Close\",\"Close\",\"Close\",\"Close\",\"Close\",\"Close\",\"Close\",\"Close\",\"Close\",\"Close\",\"Close\",\"Close\",\"Close\",\"Close\",\"Close\",\"Close\",\"Close\",\"Close\",\"Close\",\"Close\",\"Close\",\"Close\",\"Close\",\"Close\",\"Close\",\"Close\",\"Close\",\"Close\",\"Close\",\"Close\",\"Close\",\"Close\",\"Close\",\"Close\",\"Close\",\"Close\",\"Close\",\"Close\",\"Close\",\"Close\",\"Close\",\"Close\",\"Close\",\"Close\",\"Close\",\"Close\",\"Close\",\"Close\",\"Close\",\"Close\",\"Close\",\"Close\",\"Close\",\"Close\",\"Close\",\"Close\",\"Close\",\"Close\",\"Close\",\"Close\",\"Close\",\"Close\",\"Close\",\"Close\",\"Close\",\"Close\",\"Close\",\"Close\",\"Close\",\"Close\",\"Close\",\"Close\",\"Close\",\"Close\",\"Close\",\"Close\",\"Close\",\"Close\",\"Close\",\"Close\",\"Close\",\"Close\",\"Close\",\"Close\",\"Close\",\"Close\",\"Close\",\"Close\",\"Close\",\"Close\",\"Close\",\"Close\",\"Close\",\"Close\",\"Close\",\"Close\",\"Close\",\"Close\",\"Close\",\"Close\",\"Close\",\"Close\",\"Close\",\"Close\",\"Close\",\"Close\",\"Close\",\"Close\",\"Close\",\"Close\",\"Close\",\"Close\",\"Close\",\"Close\",\"Close\",\"Close\",\"Close\",\"Close\",\"Close\",\"Close\",\"Close\",\"Close\",\"Close\",\"Close\",\"Close\",\"Close\",\"Close\",\"Close\",\"Close\",\"Close\",\"Close\",\"Close\",\"Close\",\"Close\",\"Close\",\"Close\",\"Close\",\"Close\",\"Close\",\"Close\",\"Close\",\"Close\",\"Close\",\"Close\",\"Close\",\"Close\",\"Close\",\"Close\",\"Close\",\"Close\",\"Close\",\"Close\",\"Close\",\"Close\",\"Close\",\"Close\",\"Close\",\"Close\",\"Close\",\"Close\",\"Close\",\"Close\",\"Close\",\"Close\",\"Close\",\"Close\",\"Close\",\"Close\",\"Close\",\"Close\",\"Close\",\"Close\",\"Close\",\"Close\",\"Close\",\"Close\",\"Close\",\"Close\",\"Close\",\"Close\",\"Close\",\"Close\",\"Close\",\"Close\",\"Close\",\"Close\",\"Close\",\"Close\",\"Close\",\"Close\",\"Close\",\"Close\",\"Close\",\"Close\",\"Close\",\"Close\",\"Close\",\"Close\",\"Close\",\"Close\",\"Close\",\"Close\",\"Close\",\"Close\",\"Close\",\"Close\",\"Close\",\"Close\",\"Close\",\"Close\",\"Close\",\"Close\",\"Close\",\"Close\",\"Close\",\"Close\",\"Close\",\"Close\",\"Close\",\"Close\",\"Close\",\"Close\",\"Close\",\"Close\",\"Close\",\"Close\",\"Close\",\"Close\",\"Close\",\"Close\",\"Close\",\"Close\",\"Close\",\"Close\",\"Close\",\"Close\",\"Close\",\"Close\",\"Close\",\"Close\",\"Close\",\"Close\",\"Close\",\"Close\",\"Close\",\"Close\",\"Close\",\"Close\",\"Close\",\"Close\",\"Close\",\"Close\",\"Close\",\"Close\",\"Close\",\"Close\",\"Close\",\"Close\",\"Close\",\"Close\",\"Close\",\"Close\",\"Close\",\"Close\",\"Close\",\"Close\",\"Close\",\"Close\",\"Close\",\"Close\",\"Close\",\"Close\",\"Close\",\"Close\",\"Close\",\"Close\",\"Close\",\"Close\",\"Close\",\"Close\",\"Close\",\"Close\",\"Close\",\"Close\",\"Close\",\"Close\",\"Close\",\"Close\",\"Close\",\"Close\",\"Close\",\"Close\",\"Close\",\"Close\",\"Close\",\"Close\",\"Close\",\"Close\",\"Close\",\"Close\",\"Close\",\"Close\",\"Close\",\"Close\",\"Close\",\"Close\",\"Close\",\"Close\",\"Close\",\"Close\",\"Close\",\"Close\",\"Close\",\"Close\",\"Close\",\"Close\",\"Close\",\"Close\",\"Close\",\"Close\",\"Close\",\"Close\",\"Close\",\"Close\",\"Close\",\"Close\",\"Close\",\"Close\",\"Close\",\"Close\",\"Close\",\"Close\",\"Close\",\"Close\",\"Close\",\"Close\",\"Close\",\"Close\",\"Close\",\"Close\",\"Close\",\"Close\",\"Close\",\"Close\",\"Close\",\"Close\",\"Close\",\"Close\",\"Close\",\"Close\",\"Close\",\"Close\",\"Close\",\"Close\",\"Close\",\"Close\",\"Close\",\"Close\",\"Close\",\"Close\",\"Close\",\"Close\",\"Close\",\"Close\",\"Close\",\"Close\",\"Close\",\"Close\",\"Close\",\"Close\",\"Close\",\"Close\",\"Close\",\"Close\",\"Close\",\"Close\",\"Close\",\"Close\",\"Close\",\"Close\",\"Close\",\"Close\",\"Close\",\"Close\",\"Close\",\"Close\",\"Close\",\"Close\",\"Close\",\"Close\",\"Close\",\"Close\",\"Close\",\"Close\",\"Close\",\"Close\",\"Close\",\"Close\",\"Close\",\"Close\",\"Close\",\"Close\",\"Close\",\"Close\",\"Close\",\"Close\",\"Close\",\"Close\",\"Close\",\"Close\",\"Close\",\"Close\",\"Close\",\"Close\",\"Close\",\"Close\",\"Close\",\"Close\",\"Close\",\"Close\",\"Close\",\"Close\",\"Close\",\"Close\",\"Close\",\"Close\",\"Close\",\"Close\",\"Close\",\"Close\",\"Close\",\"Close\",\"Close\",\"Close\",\"Close\",\"Close\",\"Close\",\"Close\",\"Close\",\"Close\",\"Close\",\"Close\",\"Close\",\"Close\",\"Close\",\"Close\",\"Close\",\"Close\",\"Close\",\"Close\",\"Close\",\"Close\",\"Close\",\"Close\",\"Close\",\"Close\",\"Close\",\"Close\",\"Close\",\"Close\",\"Close\",\"Close\",\"Close\",\"Close\",\"Close\",\"Close\",\"Close\",\"Close\",\"Close\",\"Close\",\"Close\",\"Close\",\"Close\",\"Close\",\"Close\",\"Close\",\"Close\",\"Close\",\"Close\",\"Close\",\"Close\",\"Close\",\"Close\",\"Close\",\"Close\",\"Close\",\"Close\",\"Close\",\"Close\",\"Close\",\"Close\",\"Close\",\"Close\",\"Close\",\"Close\",\"Close\",\"Close\",\"Close\",\"Close\",\"Close\",\"Close\",\"Close\",\"Close\",\"Close\",\"Close\",\"Close\",\"Close\",\"Close\",\"Close\",\"Close\",\"Close\",\"Close\",\"Close\",\"Close\",\"Close\",\"Close\",\"Close\",\"Close\",\"Close\",\"Close\",\"Close\",\"Close\",\"Close\",\"Close\",\"Close\",\"Close\",\"Close\",\"Close\",\"Close\",\"Close\",\"Close\",\"Close\",\"Close\",\"Close\",\"Close\",\"Close\",\"Close\",\"Close\",\"Close\",\"Close\",\"Close\",\"Close\",\"Close\",\"Close\",\"Close\",\"Close\",\"Close\",\"Close\",\"Close\",\"Close\",\"Close\",\"Close\",\"Close\",\"Close\",\"Close\",\"Close\",\"Close\",\"Close\",\"Close\",\"Close\",\"Close\",\"Close\",\"Close\",\"Close\",\"Close\",\"Close\",\"Close\",\"Close\",\"Close\",\"Close\",\"Close\",\"Close\",\"Close\",\"Close\",\"Close\",\"Close\",\"Close\",\"Close\",\"Close\",\"Close\",\"Close\",\"Close\",\"Close\",\"Close\",\"Close\",\"Close\",\"Close\",\"Close\",\"Close\",\"Close\",\"Close\",\"Close\",\"Close\",\"Close\",\"Close\",\"Close\",\"Close\",\"Close\",\"Close\",\"Close\",\"Close\",\"Close\",\"Close\",\"Close\",\"Close\",\"Close\",\"Close\",\"Close\",\"Close\",\"Close\",\"Close\",\"Close\",\"Close\",\"Close\",\"Close\",\"Close\",\"Close\",\"Close\",\"Close\",\"Close\",\"Close\",\"Close\",\"Close\",\"Close\",\"Close\",\"Close\",\"Close\",\"Close\",\"Close\",\"Close\",\"Close\",\"Close\",\"Close\",\"Close\",\"Close\",\"Close\",\"Close\",\"Close\",\"Close\",\"Close\",\"Close\",\"Close\",\"Close\"],\"value\":{\"__ndarray__\":\"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\",\"dtype\":\"float64\",\"order\":\"little\",\"shape\":[1220]}},\"selected\":{\"id\":\"8308\"},\"selection_policy\":{\"id\":\"8322\"}},\"id\":\"8307\",\"type\":\"ColumnDataSource\"},{\"attributes\":{\"label\":{\"value\":\"bollinger_down\"},\"renderers\":[{\"id\":\"8380\"}]},\"id\":\"8408\",\"type\":\"LegendItem\"},{\"attributes\":{},\"id\":\"8322\",\"type\":\"UnionRenderers\"},{\"attributes\":{},\"id\":\"8393\",\"type\":\"UnionRenderers\"},{\"attributes\":{\"tools\":[{\"id\":\"8268\"},{\"id\":\"8288\"},{\"id\":\"8289\"},{\"id\":\"8290\"},{\"id\":\"8291\"},{\"id\":\"8292\"}]},\"id\":\"8294\",\"type\":\"Toolbar\"},{\"attributes\":{\"line_color\":\"#fc4f30\",\"line_width\":2,\"x\":{\"field\":\"Date\"},\"y\":{\"field\":\"value\"}},\"id\":\"8343\",\"type\":\"Line\"},{\"attributes\":{\"line_color\":\"#30a2da\",\"line_width\":2,\"x\":{\"field\":\"Date\"},\"y\":{\"field\":\"value\"}},\"id\":\"8339\",\"type\":\"Line\"},{\"attributes\":{},\"id\":\"8303\",\"type\":\"AllLabels\"},{\"attributes\":{},\"id\":\"8306\",\"type\":\"AllLabels\"},{\"attributes\":{},\"id\":\"8305\",\"type\":\"BasicTickFormatter\"},{\"attributes\":{\"line_color\":\"#30a2da\",\"line_width\":2,\"x\":{\"field\":\"Date\"},\"y\":{\"field\":\"value\"}},\"id\":\"8310\",\"type\":\"Line\"},{\"attributes\":{\"line_alpha\":0.1,\"line_color\":\"#fc4f30\",\"line_width\":2,\"x\":{\"field\":\"Date\"},\"y\":{\"field\":\"value\"}},\"id\":\"8344\",\"type\":\"Line\"},{\"attributes\":{},\"id\":\"8341\",\"type\":\"Selection\"},{\"attributes\":{\"line_alpha\":0.2,\"line_color\":\"#30a2da\",\"line_width\":2,\"x\":{\"field\":\"Date\"},\"y\":{\"field\":\"value\"}},\"id\":\"8312\",\"type\":\"Line\"},{\"attributes\":{\"coordinates\":null,\"data_source\":{\"id\":\"8340\"},\"glyph\":{\"id\":\"8343\"},\"group\":null,\"hover_glyph\":null,\"muted_glyph\":{\"id\":\"8345\"},\"nonselection_glyph\":{\"id\":\"8344\"},\"selection_glyph\":{\"id\":\"8373\"},\"view\":{\"id\":\"8347\"}},\"id\":\"8346\",\"type\":\"GlyphRenderer\"},{\"attributes\":{\"line_alpha\":0.2,\"line_color\":\"#fc4f30\",\"line_width\":2,\"x\":{\"field\":\"Date\"},\"y\":{\"field\":\"value\"}},\"id\":\"8345\",\"type\":\"Line\"},{\"attributes\":{\"line_color\":\"#fc4f30\",\"line_width\":2,\"x\":{\"field\":\"Date\"},\"y\":{\"field\":\"value\"}},\"id\":\"8373\",\"type\":\"Line\"},{\"attributes\":{\"source\":{\"id\":\"8340\"}},\"id\":\"8347\",\"type\":\"CDSView\"},{\"attributes\":{\"mantissas\":[1,2,5],\"max_interval\":500.0,\"num_minor_ticks\":0},\"id\":\"8325\",\"type\":\"AdaptiveTicker\"},{\"attributes\":{\"base\":60,\"mantissas\":[1,2,5,10,15,20,30],\"max_interval\":1800000.0,\"min_interval\":1000.0,\"num_minor_ticks\":0},\"id\":\"8326\",\"type\":\"AdaptiveTicker\"},{\"attributes\":{\"label\":{\"value\":\"bollinger_up\"},\"renderers\":[{\"id\":\"8346\"}]},\"id\":\"8372\",\"type\":\"LegendItem\"},{\"attributes\":{\"base\":24,\"mantissas\":[1,2,4,6,8,12],\"max_interval\":43200000.0,\"min_interval\":3600000.0,\"num_minor_ticks\":0},\"id\":\"8327\",\"type\":\"AdaptiveTicker\"},{\"attributes\":{},\"id\":\"8336\",\"type\":\"YearsTicker\"},{\"attributes\":{\"months\":[0,1,2,3,4,5,6,7,8,9,10,11]},\"id\":\"8332\",\"type\":\"MonthsTicker\"},{\"attributes\":{},\"id\":\"8357\",\"type\":\"UnionRenderers\"},{\"attributes\":{\"days\":[1,15]},\"id\":\"8331\",\"type\":\"DaysTicker\"},{\"attributes\":{\"days\":[1,2,3,4,5,6,7,8,9,10,11,12,13,14,15,16,17,18,19,20,21,22,23,24,25,26,27,28,29,30,31]},\"id\":\"8328\",\"type\":\"DaysTicker\"},{\"attributes\":{\"days\":[1,4,7,10,13,16,19,22,25,28]},\"id\":\"8329\",\"type\":\"DaysTicker\"},{\"attributes\":{\"days\":[1,8,15,22]},\"id\":\"8330\",\"type\":\"DaysTicker\"},{\"attributes\":{\"end\":3306.396674716463,\"reset_end\":3306.396674716463,\"reset_start\":578.5420592270782,\"start\":578.5420592270782,\"tags\":[[[\"value\",\"value\",null]]]},\"id\":\"8267\",\"type\":\"Range1d\"},{\"attributes\":{\"months\":[0,6]},\"id\":\"8335\",\"type\":\"MonthsTicker\"},{\"attributes\":{\"coordinates\":null,\"data_source\":{\"id\":\"8307\"},\"glyph\":{\"id\":\"8310\"},\"group\":null,\"hover_glyph\":null,\"muted_glyph\":{\"id\":\"8312\"},\"nonselection_glyph\":{\"id\":\"8311\"},\"selection_glyph\":{\"id\":\"8339\"},\"view\":{\"id\":\"8314\"}},\"id\":\"8313\",\"type\":\"GlyphRenderer\"},{\"attributes\":{\"months\":[0,2,4,6,8,10]},\"id\":\"8333\",\"type\":\"MonthsTicker\"},{\"attributes\":{\"end\":1647302400000.0,\"reset_end\":1647302400000.0,\"reset_start\":1494460800000.0,\"start\":1494460800000.0,\"tags\":[[[\"Date\",\"Date\",null]]]},\"id\":\"8266\",\"type\":\"Range1d\"},{\"attributes\":{},\"id\":\"8276\",\"type\":\"LinearScale\"},{\"attributes\":{\"months\":[0,4,8]},\"id\":\"8334\",\"type\":\"MonthsTicker\"},{\"attributes\":{\"num_minor_ticks\":5,\"tickers\":[{\"id\":\"8325\"},{\"id\":\"8326\"},{\"id\":\"8327\"},{\"id\":\"8328\"},{\"id\":\"8329\"},{\"id\":\"8330\"},{\"id\":\"8331\"},{\"id\":\"8332\"},{\"id\":\"8333\"},{\"id\":\"8334\"},{\"id\":\"8335\"},{\"id\":\"8336\"}]},\"id\":\"8281\",\"type\":\"DatetimeTicker\"},{\"attributes\":{\"below\":[{\"id\":\"8280\"}],\"center\":[{\"id\":\"8283\"},{\"id\":\"8287\"}],\"height\":300,\"left\":[{\"id\":\"8284\"}],\"margin\":[5,5,5,5],\"min_border_bottom\":10,\"min_border_left\":10,\"min_border_right\":10,\"min_border_top\":10,\"renderers\":[{\"id\":\"8313\"},{\"id\":\"8346\"},{\"id\":\"8380\"}],\"right\":[{\"id\":\"8337\"}],\"sizing_mode\":\"fixed\",\"title\":{\"id\":\"8272\"},\"toolbar\":{\"id\":\"8294\"},\"width\":700,\"x_range\":{\"id\":\"8266\"},\"x_scale\":{\"id\":\"8276\"},\"y_range\":{\"id\":\"8267\"},\"y_scale\":{\"id\":\"8278\"}},\"id\":\"8271\",\"subtype\":\"Figure\",\"type\":\"Plot\"},{\"attributes\":{\"axis_label\":\"Date\",\"coordinates\":null,\"formatter\":{\"id\":\"8302\"},\"group\":null,\"major_label_policy\":{\"id\":\"8303\"},\"ticker\":{\"id\":\"8281\"}},\"id\":\"8280\",\"type\":\"DatetimeAxis\"},{\"attributes\":{\"data\":{\"Date\":{\"__ndarray__\":\"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\",\"dtype\":\"float64\",\"order\":\"little\",\"shape\":[1220]},\"Variable\":[\"bollinger_up\",\"bollinger_up\",\"bollinger_up\",\"bollinger_up\",\"bollinger_up\",\"bollinger_up\",\"bollinger_up\",\"bollinger_up\",\"bollinger_up\",\"bollinger_up\",\"bollinger_up\",\"bollinger_up\",\"bollinger_up\",\"bollinger_up\",\"bollinger_up\",\"bollinger_up\",\"bollinger_up\",\"bollinger_up\",\"bollinger_up\",\"bollinger_up\",\"bollinger_up\",\"bollinger_up\",\"bollinger_up\",\"bollinger_up\",\"bollinger_up\",\"bollinger_up\",\"bollinger_up\",\"bollinger_up\",\"bollinger_up\",\"bollinger_up\",\"bollinger_up\",\"bollinger_up\",\"bollinger_up\",\"bollinger_up\",\"bollinger_up\",\"bollinger_up\",\"bollinger_up\",\"bollinger_up\",\"bollinger_up\",\"bollinger_up\",\"bollinger_up\",\"bollinger_up\",\"bollinger_up\",\"bollinger_up\",\"bollinger_up\",\"bollinger_up\",\"bollinger_up\",\"bollinger_up\",\"bollinger_up\",\"bollinger_up\",\"bollinger_up\",\"bollinger_up\",\"bollinger_up\",\"bollinger_up\",\"bollinger_up\",\"bollinger_up\",\"bollinger_up\",\"bollinger_up\",\"bollinger_up\",\"bollinger_up\",\"bollinger_up\",\"bollinger_up\",\"bollinger_up\",\"bollinger_up\",\"bollinger_up\",\"bollinger_up\",\"bollinger_up\",\"bollinger_up\",\"bollinger_up\",\"bollinger_up\",\"bollinger_up\",\"bollinger_up\",\"bollinger_up\",\"bollinger_up\",\"bollinger_up\",\"bollinger_up\",\"bollinger_up\",\"bollinger_up\",\"bollinger_up\",\"bollinger_up\",\"bollinger_up\",\"bollinger_up\",\"bollinger_up\",\"bollinger_up\",\"bollinger_up\",\"bollinger_up\",\"bollinger_up\",\"bollinger_up\",\"bollinger_up\",\"bollinger_up\",\"bollinger_up\",\"bollinger_up\",\"bollinger_up\",\"bollinger_up\",\"bollinger_up\",\"bollinger_up\",\"bollinger_up\",\"bollinger_up\",\"bollinger_up\",\"bollinger_up\",\"bollinger_up\",\"bollinger_up\",\"bollinger_up\",\"bollinger_up\",\"bollinger_up\",\"bollinger_up\",\"bollinger_up\",\"bollinger_up\",\"bollinger_up\",\"bollinger_up\",\"bollinger_up\",\"bollinger_up\",\"bollinger_up\",\"bollinger_up\",\"bollinger_up\",\"bollinger_up\",\"bollinger_up\",\"bollinger_up\",\"bollinger_up\",\"bollinger_up\",\"bollinger_up\",\"bollinger_up\",\"bollinger_up\",\"bollinger_up\",\"bollinger_up\",\"bollinger_up\",\"bollinger_up\",\"bollinger_up\",\"bollinger_up\",\"bollinger_up\",\"bollinger_up\",\"bollinger_up\",\"bollinger_up\",\"bollinger_up\",\"bollinger_up\",\"bollinger_up\",\"bollinger_up\",\"bollinger_up\",\"bollinger_up\",\"bollinger_up\",\"bollinger_up\",\"bollinger_up\",\"bollinger_up\",\"bollinger_up\",\"bollinger_up\",\"bollinger_up\",\"bollinger_up\",\"bollinger_up\",\"bollinger_up\",\"bollinger_up\",\"bollinger_up\",\"bollinger_up\",\"bollinger_up\",\"bollinger_up\",\"bollinger_up\",\"bollinger_up\",\"bollinger_up\",\"bollinger_up\",\"bollinger_up\",\"bollinger_up\",\"bollinger_up\",\"bollinger_up\",\"bollinger_up\",\"bollinger_up\",\"bollinger_up\",\"bollinger_up\",\"bollinger_up\",\"bollinger_up\",\"bollinger_up\",\"bollinger_up\",\"bollinger_up\",\"bollinger_up\",\"bollinger_up\",\"bollinger_up\",\"bollinger_up\",\"bollinger_up\",\"bollinger_up\",\"bollinger_up\",\"bollinger_up\",\"bollinger_up\",\"bollinger_up\",\"bollinger_up\",\"bollinger_up\",\"bollinger_up\",\"bollinger_up\",\"bollinger_up\",\"bollinger_up\",\"bollinger_up\",\"bollinger_up\",\"bollinger_up\",\"bollinger_up\",\"bollinger_up\",\"bollinger_up\",\"bollinger_up\",\"bollinger_up\",\"bollinger_up\",\"bollinger_up\",\"bollinger_up\",\"bollinger_up\",\"bollinger_up\",\"bollinger_up\",\"bollinger_up\",\"bollinger_up\",\"bollinger_up\",\"bollinger_up\",\"bollinger_up\",\"bollinger_up\",\"bollinger_up\",\"bollinger_up\",\"bollinger_up\",\"bollinger_up\",\"bollinger_up\",\"bollinger_up\",\"bollinger_up\",\"bollinger_up\",\"bollinger_up\",\"bollinger_up\",\"bollinger_up\",\"bollinger_up\",\"bollinger_up\",\"bollinger_up\",\"bollinger_up\",\"bollinger_up\",\"bollinger_up\",\"bollinger_up\",\"bollinger_up\",\"bollinger_up\",\"bollinger_up\",\"bollinger_up\",\"bollinger_up\",\"bollinger_up\",\"bollinger_up\",\"bollinger_up\",\"bollinger_up\",\"bollinger_up\",\"bollinger_up\",\"bollinger_up\",\"bollinger_up\",\"bollinger_up\",\"bollinger_up\",\"bollinger_up\",\"bollinger_up\",\"bollinger_up\",\"bollinger_up\",\"bollinger_up\",\"bollinger_up\",\"bollinger_up\",\"bollinger_up\",\"bollinger_up\",\"bollinger_up\",\"bollinger_up\",\"bollinger_up\",\"bollinger_up\",\"bollinger_up\",\"bollinger_up\",\"bollinger_up\",\"bollinger_up\",\"bollinger_up\",\"bollinger_up\",\"bollinger_up\",\"bollinger_up\",\"bollinger_up\",\"bollinger_up\",\"bollinger_up\",\"bollinger_up\",\"bollinger_up\",\"bollinger_up\",\"bollinger_up\",\"bollinger_up\",\"bollinger_up\",\"bollinger_up\",\"bollinger_up\",\"bollinger_up\",\"bollinger_up\",\"bollinger_up\",\"bollinger_up\",\"bollinger_up\",\"bollinger_up\",\"bollinger_up\",\"bollinger_up\",\"bollinger_up\",\"bollinger_up\",\"bollinger_up\",\"bollinger_up\",\"bollinger_up\",\"bollinger_up\",\"bollinger_up\",\"bollinger_up\",\"bollinger_up\",\"bollinger_up\",\"bollinger_up\",\"bollinger_up\",\"bollinger_up\",\"bollinger_up\",\"bollinger_up\",\"bollinger_up\",\"bollinger_up\",\"bollinger_up\",\"bollinger_up\",\"bollinger_up\",\"bollinger_up\",\"bollinger_up\",\"bollinger_up\",\"bollinger_up\",\"bollinger_up\",\"bollinger_up\",\"bollinger_up\",\"bollinger_up\",\"bollinger_up\",\"bollinger_up\",\"bollinger_up\",\"bollinger_up\",\"bollinger_up\",\"bollinger_up\",\"bollinger_up\",\"bollinger_up\",\"bollinger_up\",\"bollinger_up\",\"bollinger_up\",\"bollinger_up\",\"bollinger_up\",\"bollinger_up\",\"bollinger_up\",\"bollinger_up\",\"bollinger_up\",\"bollinger_up\",\"bollinger_up\",\"bollinger_up\",\"bollinger_up\",\"bollinger_up\",\"bollinger_up\",\"bollinger_up\",\"bollinger_up\",\"bollinger_up\",\"bollinger_up\",\"bollinger_up\",\"bollinger_up\",\"bollinger_up\",\"bollinger_up\",\"bollinger_up\",\"bollinger_up\",\"bollinger_up\",\"bollinger_up\",\"bollinger_up\",\"bollinger_up\",\"bollinger_up\",\"bollinger_up\",\"bollinger_up\",\"bollinger_up\",\"bollinger_up\",\"bollinger_up\",\"bollinger_up\",\"bollinger_up\",\"bollinger_up\",\"bollinger_up\",\"bollinger_up\",\"bollinger_up\",\"bollinger_up\",\"bollinger_up\",\"bollinger_up\",\"bollinger_up\",\"bollinger_up\",\"bollinger_up\",\"bollinger_up\",\"bollinger_up\",\"bollinger_up\",\"bollinger_up\",\"bollinger_up\",\"bollinger_up\",\"bollinger_up\",\"bollinger_up\",\"bollinger_up\",\"bollinger_up\",\"bollinger_up\",\"bollinger_up\",\"bollinger_up\",\"bollinger_up\",\"bollinger_up\",\"bollinger_up\",\"bollinger_up\",\"bollinger_up\",\"bollinger_up\",\"bollinger_up\",\"bollinger_up\",\"bollinger_up\",\"bollinger_up\",\"bollinger_up\",\"bollinger_up\",\"bollinger_up\",\"bollinger_up\",\"bollinger_up\",\"bollinger_up\",\"bollinger_up\",\"bollinger_up\",\"bollinger_up\",\"bollinger_up\",\"bollinger_up\",\"bollinger_up\",\"bollinger_up\",\"bollinger_up\",\"bollinger_up\",\"bollinger_up\",\"bollinger_up\",\"bollinger_up\",\"bollinger_up\",\"bollinger_up\",\"bollinger_up\",\"bollinger_up\",\"bollinger_up\",\"bollinger_up\",\"bollinger_up\",\"bollinger_up\",\"bollinger_up\",\"bollinger_up\",\"bollinger_up\",\"bollinger_up\",\"bollinger_up\",\"bollinger_up\",\"bollinger_up\",\"bollinger_up\",\"bollinger_up\",\"bollinger_up\",\"bollinger_up\",\"bollinger_up\",\"bollinger_up\",\"bollinger_up\",\"bollinger_up\",\"bollinger_up\",\"bollinger_up\",\"bollinger_up\",\"bollinger_up\",\"bollinger_up\",\"bollinger_up\",\"bollinger_up\",\"bollinger_up\",\"bollinger_up\",\"bollinger_up\",\"bollinger_up\",\"bollinger_up\",\"bollinger_up\",\"bollinger_up\",\"bollinger_up\",\"bollinger_up\",\"bollinger_up\",\"bollinger_up\",\"bollinger_up\",\"bollinger_up\",\"bollinger_up\",\"bollinger_up\",\"bollinger_up\",\"bollinger_up\",\"bollinger_up\",\"bollinger_up\",\"bollinger_up\",\"bollinger_up\",\"bollinger_up\",\"bollinger_up\",\"bollinger_up\",\"bollinger_up\",\"bollinger_up\",\"bollinger_up\",\"bollinger_up\",\"bollinger_up\",\"bollinger_up\",\"bollinger_up\",\"bollinger_up\",\"bollinger_up\",\"bollinger_up\",\"bollinger_up\",\"bollinger_up\",\"bollinger_up\",\"bollinger_up\",\"bollinger_up\",\"bollinger_up\",\"bollinger_up\",\"bollinger_up\",\"bollinger_up\",\"bollinger_up\",\"bollinger_up\",\"bollinger_up\",\"bollinger_up\",\"bollinger_up\",\"bollinger_up\",\"bollinger_up\",\"bollinger_up\",\"bollinger_up\",\"bollinger_up\",\"bollinger_up\",\"bollinger_up\",\"bollinger_up\",\"bollinger_up\",\"bollinger_up\",\"bollinger_up\",\"bollinger_up\",\"bollinger_up\",\"bollinger_up\",\"bollinger_up\",\"bollinger_up\",\"bollinger_up\",\"bollinger_up\",\"bollinger_up\",\"bollinger_up\",\"bollinger_up\",\"bollinger_up\",\"bollinger_up\",\"bollinger_up\",\"bollinger_up\",\"bollinger_up\",\"bollinger_up\",\"bollinger_up\",\"bollinger_up\",\"bollinger_up\",\"bollinger_up\",\"bollinger_up\",\"bollinger_up\",\"bollinger_up\",\"bollinger_up\",\"bollinger_up\",\"bollinger_up\",\"bollinger_up\",\"bollinger_up\",\"bollinger_up\",\"bollinger_up\",\"bollinger_up\",\"bollinger_up\",\"bollinger_up\",\"bollinger_up\",\"bollinger_up\",\"bollinger_up\",\"bollinger_up\",\"bollinger_up\",\"bollinger_up\",\"bollinger_up\",\"bollinger_up\",\"bollinger_up\",\"bollinger_up\",\"bollinger_up\",\"bollinger_up\",\"bollinger_up\",\"bollinger_up\",\"bollinger_up\",\"bollinger_up\",\"bollinger_up\",\"bollinger_up\",\"bollinger_up\",\"bollinger_up\",\"bollinger_up\",\"bollinger_up\",\"bollinger_up\",\"bollinger_up\",\"bollinger_up\",\"bollinger_up\",\"bollinger_up\",\"bollinger_up\",\"bollinger_up\",\"bollinger_up\",\"bollinger_up\",\"bollinger_up\",\"bollinger_up\",\"bollinger_up\",\"bollinger_up\",\"bollinger_up\",\"bollinger_up\",\"bollinger_up\",\"bollinger_up\",\"bollinger_up\",\"bollinger_up\",\"bollinger_up\",\"bollinger_up\",\"bollinger_up\",\"bollinger_up\",\"bollinger_up\",\"bollinger_up\",\"bollinger_up\",\"bollinger_up\",\"bollinger_up\",\"bollinger_up\",\"bollinger_up\",\"bollinger_up\",\"bollinger_up\",\"bollinger_up\",\"bollinger_up\",\"bollinger_up\",\"bollinger_up\",\"bollinger_up\",\"bollinger_up\",\"bollinger_up\",\"bollinger_up\",\"bollinger_up\",\"bollinger_up\",\"bollinger_up\",\"bollinger_up\",\"bollinger_up\",\"bollinger_up\",\"bollinger_up\",\"bollinger_up\",\"bollinger_up\",\"bollinger_up\",\"bollinger_up\",\"bollinger_up\",\"bollinger_up\",\"bollinger_up\",\"bollinger_up\",\"bollinger_up\",\"bollinger_up\",\"bollinger_up\",\"bollinger_up\",\"bollinger_up\",\"bollinger_up\",\"bollinger_up\",\"bollinger_up\",\"bollinger_up\",\"bollinger_up\",\"bollinger_up\",\"bollinger_up\",\"bollinger_up\",\"bollinger_up\",\"bollinger_up\",\"bollinger_up\",\"bollinger_up\",\"bollinger_up\",\"bollinger_up\",\"bollinger_up\",\"bollinger_up\",\"bollinger_up\",\"bollinger_up\",\"bollinger_up\",\"bollinger_up\",\"bollinger_up\",\"bollinger_up\",\"bollinger_up\",\"bollinger_up\",\"bollinger_up\",\"bollinger_up\",\"bollinger_up\",\"bollinger_up\",\"bollinger_up\",\"bollinger_up\",\"bollinger_up\",\"bollinger_up\",\"bollinger_up\",\"bollinger_up\",\"bollinger_up\",\"bollinger_up\",\"bollinger_up\",\"bollinger_up\",\"bollinger_up\",\"bollinger_up\",\"bollinger_up\",\"bollinger_up\",\"bollinger_up\",\"bollinger_up\",\"bollinger_up\",\"bollinger_up\",\"bollinger_up\",\"bollinger_up\",\"bollinger_up\",\"bollinger_up\",\"bollinger_up\",\"bollinger_up\",\"bollinger_up\",\"bollinger_up\",\"bollinger_up\",\"bollinger_up\",\"bollinger_up\",\"bollinger_up\",\"bollinger_up\",\"bollinger_up\",\"bollinger_up\",\"bollinger_up\",\"bollinger_up\",\"bollinger_up\",\"bollinger_up\",\"bollinger_up\",\"bollinger_up\",\"bollinger_up\",\"bollinger_up\",\"bollinger_up\",\"bollinger_up\",\"bollinger_up\",\"bollinger_up\",\"bollinger_up\",\"bollinger_up\",\"bollinger_up\",\"bollinger_up\",\"bollinger_up\",\"bollinger_up\",\"bollinger_up\",\"bollinger_up\",\"bollinger_up\",\"bollinger_up\",\"bollinger_up\",\"bollinger_up\",\"bollinger_up\",\"bollinger_up\",\"bollinger_up\",\"bollinger_up\",\"bollinger_up\",\"bollinger_up\",\"bollinger_up\",\"bollinger_up\",\"bollinger_up\",\"bollinger_up\",\"bollinger_up\",\"bollinger_up\",\"bollinger_up\",\"bollinger_up\",\"bollinger_up\",\"bollinger_up\",\"bollinger_up\",\"bollinger_up\",\"bollinger_up\",\"bollinger_up\",\"bollinger_up\",\"bollinger_up\",\"bollinger_up\",\"bollinger_up\",\"bollinger_up\",\"bollinger_up\",\"bollinger_up\",\"bollinger_up\",\"bollinger_up\",\"bollinger_up\",\"bollinger_up\",\"bollinger_up\",\"bollinger_up\",\"bollinger_up\",\"bollinger_up\",\"bollinger_up\",\"bollinger_up\",\"bollinger_up\",\"bollinger_up\",\"bollinger_up\",\"bollinger_up\",\"bollinger_up\",\"bollinger_up\",\"bollinger_up\",\"bollinger_up\",\"bollinger_up\",\"bollinger_up\",\"bollinger_up\",\"bollinger_up\",\"bollinger_up\",\"bollinger_up\",\"bollinger_up\",\"bollinger_up\",\"bollinger_up\",\"bollinger_up\",\"bollinger_up\",\"bollinger_up\",\"bollinger_up\",\"bollinger_up\",\"bollinger_up\",\"bollinger_up\",\"bollinger_up\",\"bollinger_up\",\"bollinger_up\",\"bollinger_up\",\"bollinger_up\",\"bollinger_up\",\"bollinger_up\",\"bollinger_up\",\"bollinger_up\",\"bollinger_up\",\"bollinger_up\",\"bollinger_up\",\"bollinger_up\",\"bollinger_up\",\"bollinger_up\",\"bollinger_up\",\"bollinger_up\",\"bollinger_up\",\"bollinger_up\",\"bollinger_up\",\"bollinger_up\",\"bollinger_up\",\"bollinger_up\",\"bollinger_up\",\"bollinger_up\",\"bollinger_up\",\"bollinger_up\",\"bollinger_up\",\"bollinger_up\",\"bollinger_up\",\"bollinger_up\",\"bollinger_up\",\"bollinger_up\",\"bollinger_up\",\"bollinger_up\",\"bollinger_up\",\"bollinger_up\",\"bollinger_up\",\"bollinger_up\",\"bollinger_up\",\"bollinger_up\",\"bollinger_up\",\"bollinger_up\",\"bollinger_up\",\"bollinger_up\",\"bollinger_up\",\"bollinger_up\",\"bollinger_up\",\"bollinger_up\",\"bollinger_up\",\"bollinger_up\",\"bollinger_up\",\"bollinger_up\",\"bollinger_up\",\"bollinger_up\",\"bollinger_up\",\"bollinger_up\",\"bollinger_up\",\"bollinger_up\",\"bollinger_up\",\"bollinger_up\",\"bollinger_up\",\"bollinger_up\",\"bollinger_up\",\"bollinger_up\",\"bollinger_up\",\"bollinger_up\",\"bollinger_up\",\"bollinger_up\",\"bollinger_up\",\"bollinger_up\",\"bollinger_up\",\"bollinger_up\",\"bollinger_up\",\"bollinger_up\",\"bollinger_up\",\"bollinger_up\",\"bollinger_up\",\"bollinger_up\",\"bollinger_up\",\"bollinger_up\",\"bollinger_up\",\"bollinger_up\",\"bollinger_up\",\"bollinger_up\",\"bollinger_up\",\"bollinger_up\",\"bollinger_up\",\"bollinger_up\",\"bollinger_up\",\"bollinger_up\",\"bollinger_up\",\"bollinger_up\",\"bollinger_up\",\"bollinger_up\",\"bollinger_up\",\"bollinger_up\",\"bollinger_up\",\"bollinger_up\",\"bollinger_up\",\"bollinger_up\",\"bollinger_up\",\"bollinger_up\",\"bollinger_up\",\"bollinger_up\",\"bollinger_up\",\"bollinger_up\",\"bollinger_up\",\"bollinger_up\",\"bollinger_up\",\"bollinger_up\",\"bollinger_up\",\"bollinger_up\",\"bollinger_up\",\"bollinger_up\",\"bollinger_up\",\"bollinger_up\",\"bollinger_up\",\"bollinger_up\",\"bollinger_up\",\"bollinger_up\",\"bollinger_up\",\"bollinger_up\",\"bollinger_up\",\"bollinger_up\",\"bollinger_up\",\"bollinger_up\",\"bollinger_up\",\"bollinger_up\",\"bollinger_up\",\"bollinger_up\",\"bollinger_up\",\"bollinger_up\",\"bollinger_up\",\"bollinger_up\",\"bollinger_up\",\"bollinger_up\",\"bollinger_up\",\"bollinger_up\",\"bollinger_up\",\"bollinger_up\",\"bollinger_up\",\"bollinger_up\",\"bollinger_up\",\"bollinger_up\",\"bollinger_up\",\"bollinger_up\",\"bollinger_up\",\"bollinger_up\",\"bollinger_up\",\"bollinger_up\",\"bollinger_up\",\"bollinger_up\",\"bollinger_up\",\"bollinger_up\",\"bollinger_up\",\"bollinger_up\",\"bollinger_up\",\"bollinger_up\",\"bollinger_up\",\"bollinger_up\",\"bollinger_up\",\"bollinger_up\",\"bollinger_up\",\"bollinger_up\",\"bollinger_up\",\"bollinger_up\",\"bollinger_up\",\"bollinger_up\",\"bollinger_up\",\"bollinger_up\",\"bollinger_up\",\"bollinger_up\",\"bollinger_up\",\"bollinger_up\",\"bollinger_up\",\"bollinger_up\",\"bollinger_up\",\"bollinger_up\",\"bollinger_up\",\"bollinger_up\",\"bollinger_up\",\"bollinger_up\",\"bollinger_up\",\"bollinger_up\",\"bollinger_up\",\"bollinger_up\",\"bollinger_up\",\"bollinger_up\",\"bollinger_up\",\"bollinger_up\",\"bollinger_up\",\"bollinger_up\",\"bollinger_up\",\"bollinger_up\",\"bollinger_up\",\"bollinger_up\",\"bollinger_up\",\"bollinger_up\",\"bollinger_up\",\"bollinger_up\",\"bollinger_up\",\"bollinger_up\",\"bollinger_up\",\"bollinger_up\",\"bollinger_up\",\"bollinger_up\",\"bollinger_up\",\"bollinger_up\",\"bollinger_up\",\"bollinger_up\",\"bollinger_up\",\"bollinger_up\",\"bollinger_up\",\"bollinger_up\",\"bollinger_up\",\"bollinger_up\",\"bollinger_up\",\"bollinger_up\",\"bollinger_up\",\"bollinger_up\",\"bollinger_up\",\"bollinger_up\",\"bollinger_up\",\"bollinger_up\",\"bollinger_up\",\"bollinger_up\",\"bollinger_up\",\"bollinger_up\",\"bollinger_up\",\"bollinger_up\",\"bollinger_up\",\"bollinger_up\",\"bollinger_up\",\"bollinger_up\",\"bollinger_up\",\"bollinger_up\",\"bollinger_up\",\"bollinger_up\",\"bollinger_up\",\"bollinger_up\",\"bollinger_up\",\"bollinger_up\",\"bollinger_up\",\"bollinger_up\",\"bollinger_up\",\"bollinger_up\",\"bollinger_up\",\"bollinger_up\",\"bollinger_up\",\"bollinger_up\",\"bollinger_up\",\"bollinger_up\",\"bollinger_up\",\"bollinger_up\",\"bollinger_up\",\"bollinger_up\",\"bollinger_up\",\"bollinger_up\",\"bollinger_up\",\"bollinger_up\",\"bollinger_up\",\"bollinger_up\",\"bollinger_up\",\"bollinger_up\",\"bollinger_up\",\"bollinger_up\",\"bollinger_up\",\"bollinger_up\",\"bollinger_up\",\"bollinger_up\",\"bollinger_up\",\"bollinger_up\",\"bollinger_up\",\"bollinger_up\",\"bollinger_up\",\"bollinger_up\",\"bollinger_up\",\"bollinger_up\",\"bollinger_up\",\"bollinger_up\",\"bollinger_up\",\"bollinger_up\",\"bollinger_up\",\"bollinger_up\",\"bollinger_up\",\"bollinger_up\",\"bollinger_up\",\"bollinger_up\",\"bollinger_up\",\"bollinger_up\",\"bollinger_up\",\"bollinger_up\",\"bollinger_up\",\"bollinger_up\",\"bollinger_up\",\"bollinger_up\",\"bollinger_up\",\"bollinger_up\",\"bollinger_up\",\"bollinger_up\",\"bollinger_up\",\"bollinger_up\",\"bollinger_up\",\"bollinger_up\",\"bollinger_up\",\"bollinger_up\",\"bollinger_up\",\"bollinger_up\",\"bollinger_up\",\"bollinger_up\",\"bollinger_up\",\"bollinger_up\",\"bollinger_up\",\"bollinger_up\",\"bollinger_up\",\"bollinger_up\",\"bollinger_up\",\"bollinger_up\",\"bollinger_up\",\"bollinger_up\",\"bollinger_up\",\"bollinger_up\",\"bollinger_up\",\"bollinger_up\",\"bollinger_up\",\"bollinger_up\",\"bollinger_up\",\"bollinger_up\",\"bollinger_up\",\"bollinger_up\",\"bollinger_up\",\"bollinger_up\",\"bollinger_up\",\"bollinger_up\",\"bollinger_up\",\"bollinger_up\",\"bollinger_up\",\"bollinger_up\",\"bollinger_up\",\"bollinger_up\",\"bollinger_up\",\"bollinger_up\",\"bollinger_up\",\"bollinger_up\",\"bollinger_up\",\"bollinger_up\",\"bollinger_up\",\"bollinger_up\",\"bollinger_up\",\"bollinger_up\",\"bollinger_up\",\"bollinger_up\",\"bollinger_up\",\"bollinger_up\",\"bollinger_up\",\"bollinger_up\",\"bollinger_up\",\"bollinger_up\",\"bollinger_up\",\"bollinger_up\",\"bollinger_up\",\"bollinger_up\",\"bollinger_up\",\"bollinger_up\",\"bollinger_up\",\"bollinger_up\",\"bollinger_up\",\"bollinger_up\",\"bollinger_up\",\"bollinger_up\",\"bollinger_up\",\"bollinger_up\",\"bollinger_up\",\"bollinger_up\",\"bollinger_up\",\"bollinger_up\",\"bollinger_up\",\"bollinger_up\",\"bollinger_up\",\"bollinger_up\",\"bollinger_up\",\"bollinger_up\",\"bollinger_up\",\"bollinger_up\",\"bollinger_up\",\"bollinger_up\",\"bollinger_up\",\"bollinger_up\",\"bollinger_up\",\"bollinger_up\",\"bollinger_up\",\"bollinger_up\",\"bollinger_up\",\"bollinger_up\",\"bollinger_up\",\"bollinger_up\",\"bollinger_up\",\"bollinger_up\",\"bollinger_up\",\"bollinger_up\",\"bollinger_up\",\"bollinger_up\",\"bollinger_up\",\"bollinger_up\",\"bollinger_up\",\"bollinger_up\",\"bollinger_up\",\"bollinger_up\",\"bollinger_up\",\"bollinger_up\",\"bollinger_up\",\"bollinger_up\",\"bollinger_up\",\"bollinger_up\",\"bollinger_up\",\"bollinger_up\",\"bollinger_up\",\"bollinger_up\",\"bollinger_up\",\"bollinger_up\",\"bollinger_up\",\"bollinger_up\",\"bollinger_up\",\"bollinger_up\",\"bollinger_up\",\"bollinger_up\",\"bollinger_up\",\"bollinger_up\",\"bollinger_up\",\"bollinger_up\",\"bollinger_up\",\"bollinger_up\",\"bollinger_up\",\"bollinger_up\",\"bollinger_up\",\"bollinger_up\",\"bollinger_up\",\"bollinger_up\",\"bollinger_up\",\"bollinger_up\",\"bollinger_up\",\"bollinger_up\",\"bollinger_up\",\"bollinger_up\",\"bollinger_up\",\"bollinger_up\",\"bollinger_up\",\"bollinger_up\",\"bollinger_up\",\"bollinger_up\",\"bollinger_up\",\"bollinger_up\",\"bollinger_up\",\"bollinger_up\",\"bollinger_up\",\"bollinger_up\",\"bollinger_up\",\"bollinger_up\",\"bollinger_up\",\"bollinger_up\",\"bollinger_up\",\"bollinger_up\",\"bollinger_up\",\"bollinger_up\",\"bollinger_up\"],\"value\":{\"__ndarray__\":\"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\",\"dtype\":\"float64\",\"order\":\"little\",\"shape\":[1220]}},\"selected\":{\"id\":\"8341\"},\"selection_policy\":{\"id\":\"8357\"}},\"id\":\"8340\",\"type\":\"ColumnDataSource\"},{\"attributes\":{\"callback\":null,\"formatters\":{\"@{Date}\":\"datetime\"},\"renderers\":[{\"id\":\"8313\"},{\"id\":\"8346\"},{\"id\":\"8380\"}],\"tags\":[\"hv_created\"],\"tooltips\":[[\"Variable\",\"@{Variable}\"],[\"Date\",\"@{Date}{%F %T}\"],[\"value\",\"@{value}\"]]},\"id\":\"8268\",\"type\":\"HoverTool\"},{\"attributes\":{\"margin\":[5,5,5,5],\"name\":\"HSpacer10913\",\"sizing_mode\":\"stretch_width\"},\"id\":\"8265\",\"type\":\"Spacer\"},{\"attributes\":{\"overlay\":{\"id\":\"8293\"}},\"id\":\"8291\",\"type\":\"BoxZoomTool\"},{\"attributes\":{\"margin\":[5,5,5,5],\"name\":\"HSpacer10914\",\"sizing_mode\":\"stretch_width\"},\"id\":\"8644\",\"type\":\"Spacer\"},{\"attributes\":{\"axis\":{\"id\":\"8280\"},\"coordinates\":null,\"grid_line_color\":null,\"group\":null,\"ticker\":null},\"id\":\"8283\",\"type\":\"Grid\"},{\"attributes\":{},\"id\":\"8308\",\"type\":\"Selection\"},{\"attributes\":{\"line_alpha\":0.1,\"line_color\":\"#30a2da\",\"line_width\":2,\"x\":{\"field\":\"Date\"},\"y\":{\"field\":\"value\"}},\"id\":\"8311\",\"type\":\"Line\"},{\"attributes\":{\"children\":[{\"id\":\"8265\"},{\"id\":\"8271\"},{\"id\":\"8644\"}],\"margin\":[0,0,0,0],\"name\":\"Row10909\",\"tags\":[\"embedded\"]},\"id\":\"8264\",\"type\":\"Row\"},{\"attributes\":{\"label\":{\"value\":\"Close\"},\"renderers\":[{\"id\":\"8313\"}]},\"id\":\"8338\",\"type\":\"LegendItem\"},{\"attributes\":{\"coordinates\":null,\"group\":null,\"text_color\":\"black\",\"text_font_size\":\"12pt\"},\"id\":\"8272\",\"type\":\"Title\"},{\"attributes\":{\"source\":{\"id\":\"8307\"}},\"id\":\"8314\",\"type\":\"CDSView\"},{\"attributes\":{},\"id\":\"8375\",\"type\":\"Selection\"},{\"attributes\":{\"click_policy\":\"mute\",\"coordinates\":null,\"group\":null,\"items\":[{\"id\":\"8338\"},{\"id\":\"8372\"},{\"id\":\"8408\"}],\"location\":[0,0],\"title\":\"Variable\"},\"id\":\"8337\",\"type\":\"Legend\"},{\"attributes\":{},\"id\":\"8278\",\"type\":\"LinearScale\"},{\"attributes\":{\"axis_label\":\"\",\"coordinates\":null,\"formatter\":{\"id\":\"8305\"},\"group\":null,\"major_label_policy\":{\"id\":\"8306\"},\"ticker\":{\"id\":\"8285\"}},\"id\":\"8284\",\"type\":\"LinearAxis\"},{\"attributes\":{\"data\":{\"Date\":{\"__ndarray__\":\"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\",\"dtype\":\"float64\",\"order\":\"little\",\"shape\":[1220]},\"Variable\":[\"bollinger_down\",\"bollinger_down\",\"bollinger_down\",\"bollinger_down\",\"bollinger_down\",\"bollinger_down\",\"bollinger_down\",\"bollinger_down\",\"bollinger_down\",\"bollinger_down\",\"bollinger_down\",\"bollinger_down\",\"bollinger_down\",\"bollinger_down\",\"bollinger_down\",\"bollinger_down\",\"bollinger_down\",\"bollinger_down\",\"bollinger_down\",\"bollinger_down\",\"bollinger_down\",\"bollinger_down\",\"bollinger_down\",\"bollinger_down\",\"bollinger_down\",\"bollinger_down\",\"bollinger_down\",\"bollinger_down\",\"bollinger_down\",\"bollinger_down\",\"bollinger_down\",\"bollinger_down\",\"bollinger_down\",\"bollinger_down\",\"bollinger_down\",\"bollinger_down\",\"bollinger_down\",\"bollinger_down\",\"bollinger_down\",\"bollinger_down\",\"bollinger_down\",\"bollinger_down\",\"bollinger_down\",\"bollinger_down\",\"bollinger_down\",\"bollinger_down\",\"bollinger_down\",\"bollinger_down\",\"bollinger_down\",\"bollinger_down\",\"bollinger_down\",\"bollinger_down\",\"bollinger_down\",\"bollinger_down\",\"bollinger_down\",\"bollinger_down\",\"bollinger_down\",\"bollinger_down\",\"bollinger_down\",\"bollinger_down\",\"bollinger_down\",\"bollinger_down\",\"bollinger_down\",\"bollinger_down\",\"bollinger_down\",\"bollinger_down\",\"bollinger_down\",\"bollinger_down\",\"bollinger_down\",\"bollinger_down\",\"bollinger_down\",\"bollinger_down\",\"bollinger_down\",\"bollinger_down\",\"bollinger_down\",\"bollinger_down\",\"bollinger_down\",\"bollinger_down\",\"bollinger_down\",\"bollinger_down\",\"bollinger_down\",\"bollinger_down\",\"bollinger_down\",\"bollinger_down\",\"bollinger_down\",\"bollinger_down\",\"bollinger_down\",\"bollinger_down\",\"bollinger_down\",\"bollinger_down\",\"bollinger_down\",\"bollinger_down\",\"bollinger_down\",\"bollinger_down\",\"bollinger_down\",\"bollinger_down\",\"bollinger_down\",\"bollinger_down\",\"bollinger_down\",\"bollinger_down\",\"bollinger_down\",\"bollinger_down\",\"bollinger_down\",\"bollinger_down\",\"bollinger_down\",\"bollinger_down\",\"bollinger_down\",\"bollinger_down\",\"bollinger_down\",\"bollinger_down\",\"bollinger_down\",\"bollinger_down\",\"bollinger_down\",\"bollinger_down\",\"bollinger_down\",\"bollinger_down\",\"bollinger_down\",\"bollinger_down\",\"bollinger_down\",\"bollinger_down\",\"bollinger_down\",\"bollinger_down\",\"bollinger_down\",\"bollinger_down\",\"bollinger_down\",\"bollinger_down\",\"bollinger_down\",\"bollinger_down\",\"bollinger_down\",\"bollinger_down\",\"bollinger_down\",\"bollinger_down\",\"bollinger_down\",\"bollinger_down\",\"bollinger_down\",\"bollinger_down\",\"bollinger_down\",\"bollinger_down\",\"bollinger_down\",\"bollinger_down\",\"bollinger_down\",\"bollinger_down\",\"bollinger_down\",\"bollinger_down\",\"bollinger_down\",\"bollinger_down\",\"bollinger_down\",\"bollinger_down\",\"bollinger_down\",\"bollinger_down\",\"bollinger_down\",\"bollinger_down\",\"bollinger_down\",\"bollinger_down\",\"bollinger_down\",\"bollinger_down\",\"bollinger_down\",\"bollinger_down\",\"bollinger_down\",\"bollinger_down\",\"bollinger_down\",\"bollinger_down\",\"bollinger_down\",\"bollinger_down\",\"bollinger_down\",\"bollinger_down\",\"bollinger_down\",\"bollinger_down\",\"bollinger_down\",\"bollinger_down\",\"bollinger_down\",\"bollinger_down\",\"bollinger_down\",\"bollinger_down\",\"bollinger_down\",\"bollinger_down\",\"bollinger_down\",\"bollinger_down\",\"bollinger_down\",\"bollinger_down\",\"bollinger_down\",\"bollinger_down\",\"bollinger_down\",\"bollinger_down\",\"bollinger_down\",\"bollinger_down\",\"bollinger_down\",\"bollinger_down\",\"bollinger_down\",\"bollinger_down\",\"bollinger_down\",\"bollinger_down\",\"bollinger_down\",\"bollinger_down\",\"bollinger_down\",\"bollinger_down\",\"bollinger_down\",\"bollinger_down\",\"bollinger_down\",\"bollinger_down\",\"bollinger_down\",\"bollinger_down\",\"bollinger_down\",\"bollinger_down\",\"bollinger_down\",\"bollinger_down\",\"bollinger_down\",\"bollinger_down\",\"bollinger_down\",\"bollinger_down\",\"bollinger_down\",\"bollinger_down\",\"bollinger_down\",\"bollinger_down\",\"bollinger_down\",\"bollinger_down\",\"bollinger_down\",\"bollinger_down\",\"bollinger_down\",\"bollinger_down\",\"bollinger_down\",\"bollinger_down\",\"bollinger_down\",\"bollinger_down\",\"bollinger_down\",\"bollinger_down\",\"bollinger_down\",\"bollinger_down\",\"bollinger_down\",\"bollinger_down\",\"bollinger_down\",\"bollinger_down\",\"bollinger_down\",\"bollinger_down\",\"bollinger_down\",\"bollinger_down\",\"bollinger_down\",\"bollinger_down\",\"bollinger_down\",\"bollinger_down\",\"bollinger_down\",\"bollinger_down\",\"bollinger_down\",\"bollinger_down\",\"bollinger_down\",\"bollinger_down\",\"bollinger_down\",\"bollinger_down\",\"bollinger_down\",\"bollinger_down\",\"bollinger_down\",\"bollinger_down\",\"bollinger_down\",\"bollinger_down\",\"bollinger_down\",\"bollinger_down\",\"bollinger_down\",\"bollinger_down\",\"bollinger_down\",\"bollinger_down\",\"bollinger_down\",\"bollinger_down\",\"bollinger_down\",\"bollinger_down\",\"bollinger_down\",\"bollinger_down\",\"bollinger_down\",\"bollinger_down\",\"bollinger_down\",\"bollinger_down\",\"bollinger_down\",\"bollinger_down\",\"bollinger_down\",\"bollinger_down\",\"bollinger_down\",\"bollinger_down\",\"bollinger_down\",\"bollinger_down\",\"bollinger_down\",\"bollinger_down\",\"bollinger_down\",\"bollinger_down\",\"bollinger_down\",\"bollinger_down\",\"bollinger_down\",\"bollinger_down\",\"bollinger_down\",\"bollinger_down\",\"bollinger_down\",\"bollinger_down\",\"bollinger_down\",\"bollinger_down\",\"bollinger_down\",\"bollinger_down\",\"bollinger_down\",\"bollinger_down\",\"bollinger_down\",\"bollinger_down\",\"bollinger_down\",\"bollinger_down\",\"bollinger_down\",\"bollinger_down\",\"bollinger_down\",\"bollinger_down\",\"bollinger_down\",\"bollinger_down\",\"bollinger_down\",\"bollinger_down\",\"bollinger_down\",\"bollinger_down\",\"bollinger_down\",\"bollinger_down\",\"bollinger_down\",\"bollinger_down\",\"bollinger_down\",\"bollinger_down\",\"bollinger_down\",\"bollinger_down\",\"bollinger_down\",\"bollinger_down\",\"bollinger_down\",\"bollinger_down\",\"bollinger_down\",\"bollinger_down\",\"bollinger_down\",\"bollinger_down\",\"bollinger_down\",\"bollinger_down\",\"bollinger_down\",\"bollinger_down\",\"bollinger_down\",\"bollinger_down\",\"bollinger_down\",\"bollinger_down\",\"bollinger_down\",\"bollinger_down\",\"bollinger_down\",\"bollinger_down\",\"bollinger_down\",\"bollinger_down\",\"bollinger_down\",\"bollinger_down\",\"bollinger_down\",\"bollinger_down\",\"bollinger_down\",\"bollinger_down\",\"bollinger_down\",\"bollinger_down\",\"bollinger_down\",\"bollinger_down\",\"bollinger_down\",\"bollinger_down\",\"bollinger_down\",\"bollinger_down\",\"bollinger_down\",\"bollinger_down\",\"bollinger_down\",\"bollinger_down\",\"bollinger_down\",\"bollinger_down\",\"bollinger_down\",\"bollinger_down\",\"bollinger_down\",\"bollinger_down\",\"bollinger_down\",\"bollinger_down\",\"bollinger_down\",\"bollinger_down\",\"bollinger_down\",\"bollinger_down\",\"bollinger_down\",\"bollinger_down\",\"bollinger_down\",\"bollinger_down\",\"bollinger_down\",\"bollinger_down\",\"bollinger_down\",\"bollinger_down\",\"bollinger_down\",\"bollinger_down\",\"bollinger_down\",\"bollinger_down\",\"bollinger_down\",\"bollinger_down\",\"bollinger_down\",\"bollinger_down\",\"bollinger_down\",\"bollinger_down\",\"bollinger_down\",\"bollinger_down\",\"bollinger_down\",\"bollinger_down\",\"bollinger_down\",\"bollinger_down\",\"bollinger_down\",\"bollinger_down\",\"bollinger_down\",\"bollinger_down\",\"bollinger_down\",\"bollinger_down\",\"bollinger_down\",\"bollinger_down\",\"bollinger_down\",\"bollinger_down\",\"bollinger_down\",\"bollinger_down\",\"bollinger_down\",\"bollinger_down\",\"bollinger_down\",\"bollinger_down\",\"bollinger_down\",\"bollinger_down\",\"bollinger_down\",\"bollinger_down\",\"bollinger_down\",\"bollinger_down\",\"bollinger_down\",\"bollinger_down\",\"bollinger_down\",\"bollinger_down\",\"bollinger_down\",\"bollinger_down\",\"bollinger_down\",\"bollinger_down\",\"bollinger_down\",\"bollinger_down\",\"bollinger_down\",\"bollinger_down\",\"bollinger_down\",\"bollinger_down\",\"bollinger_down\",\"bollinger_down\",\"bollinger_down\",\"bollinger_down\",\"bollinger_down\",\"bollinger_down\",\"bollinger_down\",\"bollinger_down\",\"bollinger_down\",\"bollinger_down\",\"bollinger_down\",\"bollinger_down\",\"bollinger_down\",\"bollinger_down\",\"bollinger_down\",\"bollinger_down\",\"bollinger_down\",\"bollinger_down\",\"bollinger_down\",\"bollinger_down\",\"bollinger_down\",\"bollinger_down\",\"bollinger_down\",\"bollinger_down\",\"bollinger_down\",\"bollinger_down\",\"bollinger_down\",\"bollinger_down\",\"bollinger_down\",\"bollinger_down\",\"bollinger_down\",\"bollinger_down\",\"bollinger_down\",\"bollinger_down\",\"bollinger_down\",\"bollinger_down\",\"bollinger_down\",\"bollinger_down\",\"bollinger_down\",\"bollinger_down\",\"bollinger_down\",\"bollinger_down\",\"bollinger_down\",\"bollinger_down\",\"bollinger_down\",\"bollinger_down\",\"bollinger_down\",\"bollinger_down\",\"bollinger_down\",\"bollinger_down\",\"bollinger_down\",\"bollinger_down\",\"bollinger_down\",\"bollinger_down\",\"bollinger_down\",\"bollinger_down\",\"bollinger_down\",\"bollinger_down\",\"bollinger_down\",\"bollinger_down\",\"bollinger_down\",\"bollinger_down\",\"bollinger_down\",\"bollinger_down\",\"bollinger_down\",\"bollinger_down\",\"bollinger_down\",\"bollinger_down\",\"bollinger_down\",\"bollinger_down\",\"bollinger_down\",\"bollinger_down\",\"bollinger_down\",\"bollinger_down\",\"bollinger_down\",\"bollinger_down\",\"bollinger_down\",\"bollinger_down\",\"bollinger_down\",\"bollinger_down\",\"bollinger_down\",\"bollinger_down\",\"bollinger_down\",\"bollinger_down\",\"bollinger_down\",\"bollinger_down\",\"bollinger_down\",\"bollinger_down\",\"bollinger_down\",\"bollinger_down\",\"bollinger_down\",\"bollinger_down\",\"bollinger_down\",\"bollinger_down\",\"bollinger_down\",\"bollinger_down\",\"bollinger_down\",\"bollinger_down\",\"bollinger_down\",\"bollinger_down\",\"bollinger_down\",\"bollinger_down\",\"bollinger_down\",\"bollinger_down\",\"bollinger_down\",\"bollinger_down\",\"bollinger_down\",\"bollinger_down\",\"bollinger_down\",\"bollinger_down\",\"bollinger_down\",\"bollinger_down\",\"bollinger_down\",\"bollinger_down\",\"bollinger_down\",\"bollinger_down\",\"bollinger_down\",\"bollinger_down\",\"bollinger_down\",\"bollinger_down\",\"bollinger_down\",\"bollinger_down\",\"bollinger_down\",\"bollinger_down\",\"bollinger_down\",\"bollinger_down\",\"bollinger_down\",\"bollinger_down\",\"bollinger_down\",\"bollinger_down\",\"bollinger_down\",\"bollinger_down\",\"bollinger_down\",\"bollinger_down\",\"bollinger_down\",\"bollinger_down\",\"bollinger_down\",\"bollinger_down\",\"bollinger_down\",\"bollinger_down\",\"bollinger_down\",\"bollinger_down\",\"bollinger_down\",\"bollinger_down\",\"bollinger_down\",\"bollinger_down\",\"bollinger_down\",\"bollinger_down\",\"bollinger_down\",\"bollinger_down\",\"bollinger_down\",\"bollinger_down\",\"bollinger_down\",\"bollinger_down\",\"bollinger_down\",\"bollinger_down\",\"bollinger_down\",\"bollinger_down\",\"bollinger_down\",\"bollinger_down\",\"bollinger_down\",\"bollinger_down\",\"bollinger_down\",\"bollinger_down\",\"bollinger_down\",\"bollinger_down\",\"bollinger_down\",\"bollinger_down\",\"bollinger_down\",\"bollinger_down\",\"bollinger_down\",\"bollinger_down\",\"bollinger_down\",\"bollinger_down\",\"bollinger_down\",\"bollinger_down\",\"bollinger_down\",\"bollinger_down\",\"bollinger_down\",\"bollinger_down\",\"bollinger_down\",\"bollinger_down\",\"bollinger_down\",\"bollinger_down\",\"bollinger_down\",\"bollinger_down\",\"bollinger_down\",\"bollinger_down\",\"bollinger_down\",\"bollinger_down\",\"bollinger_down\",\"bollinger_down\",\"bollinger_down\",\"bollinger_down\",\"bollinger_down\",\"bollinger_down\",\"bollinger_down\",\"bollinger_down\",\"bollinger_down\",\"bollinger_down\",\"bollinger_down\",\"bollinger_down\",\"bollinger_down\",\"bollinger_down\",\"bollinger_down\",\"bollinger_down\",\"bollinger_down\",\"bollinger_down\",\"bollinger_down\",\"bollinger_down\",\"bollinger_down\",\"bollinger_down\",\"bollinger_down\",\"bollinger_down\",\"bollinger_down\",\"bollinger_down\",\"bollinger_down\",\"bollinger_down\",\"bollinger_down\",\"bollinger_down\",\"bollinger_down\",\"bollinger_down\",\"bollinger_down\",\"bollinger_down\",\"bollinger_down\",\"bollinger_down\",\"bollinger_down\",\"bollinger_down\",\"bollinger_down\",\"bollinger_down\",\"bollinger_down\",\"bollinger_down\",\"bollinger_down\",\"bollinger_down\",\"bollinger_down\",\"bollinger_down\",\"bollinger_down\",\"bollinger_down\",\"bollinger_down\",\"bollinger_down\",\"bollinger_down\",\"bollinger_down\",\"bollinger_down\",\"bollinger_down\",\"bollinger_down\",\"bollinger_down\",\"bollinger_down\",\"bollinger_down\",\"bollinger_down\",\"bollinger_down\",\"bollinger_down\",\"bollinger_down\",\"bollinger_down\",\"bollinger_down\",\"bollinger_down\",\"bollinger_down\",\"bollinger_down\",\"bollinger_down\",\"bollinger_down\",\"bollinger_down\",\"bollinger_down\",\"bollinger_down\",\"bollinger_down\",\"bollinger_down\",\"bollinger_down\",\"bollinger_down\",\"bollinger_down\",\"bollinger_down\",\"bollinger_down\",\"bollinger_down\",\"bollinger_down\",\"bollinger_down\",\"bollinger_down\",\"bollinger_down\",\"bollinger_down\",\"bollinger_down\",\"bollinger_down\",\"bollinger_down\",\"bollinger_down\",\"bollinger_down\",\"bollinger_down\",\"bollinger_down\",\"bollinger_down\",\"bollinger_down\",\"bollinger_down\",\"bollinger_down\",\"bollinger_down\",\"bollinger_down\",\"bollinger_down\",\"bollinger_down\",\"bollinger_down\",\"bollinger_down\",\"bollinger_down\",\"bollinger_down\",\"bollinger_down\",\"bollinger_down\",\"bollinger_down\",\"bollinger_down\",\"bollinger_down\",\"bollinger_down\",\"bollinger_down\",\"bollinger_down\",\"bollinger_down\",\"bollinger_down\",\"bollinger_down\",\"bollinger_down\",\"bollinger_down\",\"bollinger_down\",\"bollinger_down\",\"bollinger_down\",\"bollinger_down\",\"bollinger_down\",\"bollinger_down\",\"bollinger_down\",\"bollinger_down\",\"bollinger_down\",\"bollinger_down\",\"bollinger_down\",\"bollinger_down\",\"bollinger_down\",\"bollinger_down\",\"bollinger_down\",\"bollinger_down\",\"bollinger_down\",\"bollinger_down\",\"bollinger_down\",\"bollinger_down\",\"bollinger_down\",\"bollinger_down\",\"bollinger_down\",\"bollinger_down\",\"bollinger_down\",\"bollinger_down\",\"bollinger_down\",\"bollinger_down\",\"bollinger_down\",\"bollinger_down\",\"bollinger_down\",\"bollinger_down\",\"bollinger_down\",\"bollinger_down\",\"bollinger_down\",\"bollinger_down\",\"bollinger_down\",\"bollinger_down\",\"bollinger_down\",\"bollinger_down\",\"bollinger_down\",\"bollinger_down\",\"bollinger_down\",\"bollinger_down\",\"bollinger_down\",\"bollinger_down\",\"bollinger_down\",\"bollinger_down\",\"bollinger_down\",\"bollinger_down\",\"bollinger_down\",\"bollinger_down\",\"bollinger_down\",\"bollinger_down\",\"bollinger_down\",\"bollinger_down\",\"bollinger_down\",\"bollinger_down\",\"bollinger_down\",\"bollinger_down\",\"bollinger_down\",\"bollinger_down\",\"bollinger_down\",\"bollinger_down\",\"bollinger_down\",\"bollinger_down\",\"bollinger_down\",\"bollinger_down\",\"bollinger_down\",\"bollinger_down\",\"bollinger_down\",\"bollinger_down\",\"bollinger_down\",\"bollinger_down\",\"bollinger_down\",\"bollinger_down\",\"bollinger_down\",\"bollinger_down\",\"bollinger_down\",\"bollinger_down\",\"bollinger_down\",\"bollinger_down\",\"bollinger_down\",\"bollinger_down\",\"bollinger_down\",\"bollinger_down\",\"bollinger_down\",\"bollinger_down\",\"bollinger_down\",\"bollinger_down\",\"bollinger_down\",\"bollinger_down\",\"bollinger_down\",\"bollinger_down\",\"bollinger_down\",\"bollinger_down\",\"bollinger_down\",\"bollinger_down\",\"bollinger_down\",\"bollinger_down\",\"bollinger_down\",\"bollinger_down\",\"bollinger_down\",\"bollinger_down\",\"bollinger_down\",\"bollinger_down\",\"bollinger_down\",\"bollinger_down\",\"bollinger_down\",\"bollinger_down\",\"bollinger_down\",\"bollinger_down\",\"bollinger_down\",\"bollinger_down\",\"bollinger_down\",\"bollinger_down\",\"bollinger_down\",\"bollinger_down\",\"bollinger_down\",\"bollinger_down\",\"bollinger_down\",\"bollinger_down\",\"bollinger_down\",\"bollinger_down\",\"bollinger_down\",\"bollinger_down\",\"bollinger_down\",\"bollinger_down\",\"bollinger_down\",\"bollinger_down\",\"bollinger_down\",\"bollinger_down\",\"bollinger_down\",\"bollinger_down\",\"bollinger_down\",\"bollinger_down\",\"bollinger_down\",\"bollinger_down\",\"bollinger_down\",\"bollinger_down\",\"bollinger_down\",\"bollinger_down\",\"bollinger_down\",\"bollinger_down\",\"bollinger_down\",\"bollinger_down\",\"bollinger_down\",\"bollinger_down\",\"bollinger_down\",\"bollinger_down\",\"bollinger_down\",\"bollinger_down\",\"bollinger_down\",\"bollinger_down\",\"bollinger_down\",\"bollinger_down\",\"bollinger_down\",\"bollinger_down\",\"bollinger_down\",\"bollinger_down\",\"bollinger_down\",\"bollinger_down\",\"bollinger_down\",\"bollinger_down\",\"bollinger_down\",\"bollinger_down\",\"bollinger_down\",\"bollinger_down\",\"bollinger_down\",\"bollinger_down\",\"bollinger_down\",\"bollinger_down\",\"bollinger_down\",\"bollinger_down\",\"bollinger_down\",\"bollinger_down\",\"bollinger_down\",\"bollinger_down\",\"bollinger_down\",\"bollinger_down\",\"bollinger_down\",\"bollinger_down\",\"bollinger_down\",\"bollinger_down\",\"bollinger_down\",\"bollinger_down\",\"bollinger_down\",\"bollinger_down\",\"bollinger_down\",\"bollinger_down\",\"bollinger_down\",\"bollinger_down\",\"bollinger_down\",\"bollinger_down\",\"bollinger_down\",\"bollinger_down\",\"bollinger_down\",\"bollinger_down\",\"bollinger_down\",\"bollinger_down\",\"bollinger_down\",\"bollinger_down\",\"bollinger_down\",\"bollinger_down\",\"bollinger_down\",\"bollinger_down\",\"bollinger_down\",\"bollinger_down\",\"bollinger_down\",\"bollinger_down\",\"bollinger_down\",\"bollinger_down\",\"bollinger_down\",\"bollinger_down\",\"bollinger_down\",\"bollinger_down\",\"bollinger_down\",\"bollinger_down\",\"bollinger_down\",\"bollinger_down\",\"bollinger_down\",\"bollinger_down\",\"bollinger_down\",\"bollinger_down\",\"bollinger_down\",\"bollinger_down\",\"bollinger_down\",\"bollinger_down\",\"bollinger_down\",\"bollinger_down\",\"bollinger_down\",\"bollinger_down\",\"bollinger_down\",\"bollinger_down\",\"bollinger_down\",\"bollinger_down\",\"bollinger_down\",\"bollinger_down\",\"bollinger_down\",\"bollinger_down\",\"bollinger_down\",\"bollinger_down\",\"bollinger_down\",\"bollinger_down\",\"bollinger_down\",\"bollinger_down\",\"bollinger_down\",\"bollinger_down\",\"bollinger_down\",\"bollinger_down\",\"bollinger_down\",\"bollinger_down\",\"bollinger_down\",\"bollinger_down\",\"bollinger_down\",\"bollinger_down\",\"bollinger_down\",\"bollinger_down\",\"bollinger_down\",\"bollinger_down\",\"bollinger_down\",\"bollinger_down\",\"bollinger_down\",\"bollinger_down\",\"bollinger_down\",\"bollinger_down\",\"bollinger_down\",\"bollinger_down\",\"bollinger_down\",\"bollinger_down\",\"bollinger_down\",\"bollinger_down\",\"bollinger_down\",\"bollinger_down\",\"bollinger_down\",\"bollinger_down\",\"bollinger_down\",\"bollinger_down\",\"bollinger_down\",\"bollinger_down\",\"bollinger_down\",\"bollinger_down\",\"bollinger_down\",\"bollinger_down\",\"bollinger_down\",\"bollinger_down\",\"bollinger_down\",\"bollinger_down\",\"bollinger_down\",\"bollinger_down\",\"bollinger_down\",\"bollinger_down\",\"bollinger_down\",\"bollinger_down\",\"bollinger_down\",\"bollinger_down\",\"bollinger_down\",\"bollinger_down\",\"bollinger_down\",\"bollinger_down\",\"bollinger_down\",\"bollinger_down\",\"bollinger_down\",\"bollinger_down\",\"bollinger_down\",\"bollinger_down\",\"bollinger_down\",\"bollinger_down\",\"bollinger_down\",\"bollinger_down\",\"bollinger_down\",\"bollinger_down\",\"bollinger_down\",\"bollinger_down\",\"bollinger_down\",\"bollinger_down\",\"bollinger_down\",\"bollinger_down\",\"bollinger_down\",\"bollinger_down\",\"bollinger_down\",\"bollinger_down\",\"bollinger_down\",\"bollinger_down\",\"bollinger_down\",\"bollinger_down\",\"bollinger_down\",\"bollinger_down\",\"bollinger_down\",\"bollinger_down\",\"bollinger_down\",\"bollinger_down\",\"bollinger_down\",\"bollinger_down\",\"bollinger_down\",\"bollinger_down\",\"bollinger_down\",\"bollinger_down\",\"bollinger_down\",\"bollinger_down\",\"bollinger_down\",\"bollinger_down\",\"bollinger_down\",\"bollinger_down\",\"bollinger_down\",\"bollinger_down\",\"bollinger_down\",\"bollinger_down\",\"bollinger_down\",\"bollinger_down\",\"bollinger_down\",\"bollinger_down\",\"bollinger_down\",\"bollinger_down\",\"bollinger_down\",\"bollinger_down\",\"bollinger_down\",\"bollinger_down\",\"bollinger_down\",\"bollinger_down\",\"bollinger_down\",\"bollinger_down\",\"bollinger_down\",\"bollinger_down\",\"bollinger_down\",\"bollinger_down\",\"bollinger_down\",\"bollinger_down\",\"bollinger_down\",\"bollinger_down\",\"bollinger_down\",\"bollinger_down\",\"bollinger_down\",\"bollinger_down\",\"bollinger_down\",\"bollinger_down\",\"bollinger_down\",\"bollinger_down\",\"bollinger_down\",\"bollinger_down\",\"bollinger_down\",\"bollinger_down\",\"bollinger_down\",\"bollinger_down\",\"bollinger_down\",\"bollinger_down\",\"bollinger_down\",\"bollinger_down\",\"bollinger_down\",\"bollinger_down\",\"bollinger_down\",\"bollinger_down\",\"bollinger_down\",\"bollinger_down\",\"bollinger_down\",\"bollinger_down\",\"bollinger_down\",\"bollinger_down\",\"bollinger_down\",\"bollinger_down\",\"bollinger_down\",\"bollinger_down\",\"bollinger_down\",\"bollinger_down\",\"bollinger_down\",\"bollinger_down\",\"bollinger_down\",\"bollinger_down\",\"bollinger_down\",\"bollinger_down\",\"bollinger_down\",\"bollinger_down\",\"bollinger_down\",\"bollinger_down\",\"bollinger_down\",\"bollinger_down\",\"bollinger_down\",\"bollinger_down\",\"bollinger_down\",\"bollinger_down\",\"bollinger_down\",\"bollinger_down\",\"bollinger_down\",\"bollinger_down\",\"bollinger_down\",\"bollinger_down\",\"bollinger_down\",\"bollinger_down\",\"bollinger_down\",\"bollinger_down\",\"bollinger_down\",\"bollinger_down\",\"bollinger_down\",\"bollinger_down\",\"bollinger_down\",\"bollinger_down\",\"bollinger_down\",\"bollinger_down\",\"bollinger_down\",\"bollinger_down\",\"bollinger_down\",\"bollinger_down\",\"bollinger_down\",\"bollinger_down\",\"bollinger_down\",\"bollinger_down\",\"bollinger_down\",\"bollinger_down\",\"bollinger_down\",\"bollinger_down\",\"bollinger_down\",\"bollinger_down\",\"bollinger_down\",\"bollinger_down\",\"bollinger_down\",\"bollinger_down\",\"bollinger_down\",\"bollinger_down\",\"bollinger_down\",\"bollinger_down\",\"bollinger_down\",\"bollinger_down\",\"bollinger_down\",\"bollinger_down\",\"bollinger_down\",\"bollinger_down\",\"bollinger_down\",\"bollinger_down\",\"bollinger_down\",\"bollinger_down\",\"bollinger_down\",\"bollinger_down\",\"bollinger_down\",\"bollinger_down\",\"bollinger_down\",\"bollinger_down\",\"bollinger_down\",\"bollinger_down\",\"bollinger_down\",\"bollinger_down\",\"bollinger_down\",\"bollinger_down\",\"bollinger_down\"],\"value\":{\"__ndarray__\":\"aVfe/ecuiUDSlYWgcXaJQDe7mg9ksIlARp85SWH0iUCLT4hg4UiKQJaiGvpLpIpAMEyfSHMPi0A+KpKHl1uLQDxQpvwOnYtAzCl9Xwnui0DwyRoD4T+MQCZH222oSoxAbAmiXI5OjEAvMl1Ar2GMQAODWjFLaYxAcRRcobJojEAh4xM/PWuMQBmUEN8vcoxAOF5dYdZ8jEBJzY+HoI+MQJIVU1IfpIxAKtP2NEexjEDwpmuL0MCMQP3ineDvx4xAYkJU3DjvjECOek9wL/+MQFjkrMm8G41AplP3vf0mjUB5xGG/STCNQFmoSzv3MY1AthyENZIxjUDGN2CUzimNQGSAJByb/oxAjRHIsWftjEAe8103aLeMQHzPuTf8eoxA1k/pPaw7jED6jWmF0RyMQBV+EZJTAoxAiIZks6MGjEAGAEkINQCMQFzyULU9+4tAnpBQUp/8i0AMbL14RP2LQDlAgC7s+otAPTRWDpD6i0AIeoEgz/WLQJZlwWmf64tANrt3Csnmi0De0gtTHt6LQBWIgdrv0otAXbaU+uzSi0BA12Y8F92LQAxdpVPG2YtAhFJCXLfsi0CDxYtFGweMQEmTDxK3N4xAQ1bI/tBRjEAbsxov0G+MQKL9/FnXfYxAQh6OoIp+jEDFIFIVVnqMQM2JFDSOZYxAzK4wUXs3jEBLf4b1dRqMQEflYxPsCoxAEEpq3T0CjEDLJbcmTQeMQCnW8A5B/otAj9M5n0kFjEB5fRcr7yuMQDXDeeFEOYxAsGTs1UFIjEDsSMTTYUiMQAjUZ5mQToxAXw+kz4hJjEBoTsj6fEuMQAAyeQsPTIxAQfmfbmhAjECQZSmDBjqMQHh09s5HOoxAiJ9PTSU6jEBT9mROkTaMQHsirm1WSIxACB5ow7JQjEBLdbCGnlGMQEyQC60fUoxAt/GnWY9RjEAXB6lPe12MQBJGg6qHZIxAOP6BVH99jECsGXXh/36MQBBt4NBpf4xAT8D0PSmEjEAQzQQ5iIuMQL723KXMm4xAESNu8P2YjEBdihuI6ouMQMTRZYdKc4xAMFPExwNpjEBDf9FUzl+MQIfK8U7CYIxAJ3MGIeFLjEBoSA1KcDmMQC0W5VU2MYxAvLvBW8QwjEBxwzA7QSKMQDEZ5RrcJ4xAejyHPkk6jEDn8cr+VlyMQAXn9Q7ye4xAqrQZUWqTjECQObuXTbOMQMuBe1Gt3oxAS8/Gh94hjUBOAWELVWmNQEBt+BT7jI1AwgQOGz6qjUA8BrV/LZqNQPMCZZTppI1Ahy59EnCyjUBxj64wmMqNQBNuq7PSzY1AtNI4HIrGjUA25Vk6sc6NQKtmZvIj3I1AtCk8K3HXjUCF8DcvkN+NQJXwIvt56o1AZIjyki72jUAu9O2unQOOQCH6nsNpEo5AnIYB7kYsjkC4HAxZekSOQIQatnuYhI5Az8gjh4vNjkBpII9CUiKPQGqHxbKOpI9AxTeTldqUj0Ab73gYupqPQMEwu4jroY9ALvDbU5adj0CvucbERIePQKpkpiVuWI9AtNFMydU/j0AZisFJ6ziPQHkFNjhpOo9AqzfFSNg5j0Au1GYevTiPQIj0ACuSOY9AxKQp0vY6j0CI6eY33DyPQImLQD8jLI9AS8X8yZoaj0CiqtRzHxyPQOWdiA/LGY9AqnUbwZ4Zj0CfYH4nJRqPQArq9IzMGY9AzuQubg0aj0A6d0tcXSuPQL+RiCoAPo9ASVyXvfFjj0D3wloZQqGPQM1A4DAr249AgUD6mMjuj0Cs5B6dEfKPQJpKNipe+Y9AD9OXp/gDkEB/Ow56Rg6QQP8kvIQ6FJBAAE+2w8YZkEBvw7y/eBWQQAwqjSlDEZBA+rxJo1APkED5u59yZQuQQFlY6SwaB5BAF3bY9f8PkEC2SSpdJB+QQETuWiOJOZBATuSlNhBekEDhWWBmKZKQQPzf9z7euZBAxeKJPsPXkECCSyUVduuQQBbfNSVfvJBAT93fCh2pkEAOIlH2RXiQQDOBtt6EGJBAYEnsvZ7Yj0BJcKjRQ5WPQIIb0X2WV49ABZfUgNgwj0BZDK5lfh6PQPFq2KFSEI9AaaR2vaMKj0D+beM0ZxGPQMbXcTb9Fo9AYtDk2/omj0AUbOJhyjqPQCOECDWcVo9AD+opF9drj0A7XhD8sYCPQEjrb2sXqo9AxtHKCn2rj0B6M/MnVsKPQLCkrLtJxo9AyXp7Mvbkj0Br9WY2OiuQQEG1pGrnQpBA4VUgHo9gkEBqwV1rMoGQQGkgBE0Ul5BAepszzO6jkEAkYkttpKaQQPPBZLRIpJBADaCCzb6akEA3qOUjo2+QQMAIlm27KZBASV7ArbUOkED+qUAOKZOPQE7aNJX8Ho9A3mzWzrr0jkBU8kGuH6COQDQpMJdMWI5Azvg/DaQkjkAPhi8TP/eNQA7p0DU6uo1A+uFrmVypjUBLJURuTb+NQANF4Kkmv41AeNh4QlrojUA30JLRnyuOQKwnjDcnfo5AoZkYufSbjkDIX5oQGL2OQCszDtkdwo5ADglyacy0jkAkeedobbiOQDbdNmDhrI5A0wffbn2+jkDGob1ZzNyOQHM8mYvC245AIKfHEoTpjkDBkitKn/2OQLYyzCry/I5AGb+6bHr5jkDLXptFXRuPQGr9il8lNI9A3RxNmvs8j0C+22Bgk0aPQC0mW0e7OY9AAvkv/7M5j0DqB/byWzePQJ6VZ3hcNo9AEn3YF4w0j0DxfBZU5zePQBQqKZrZN49AK2jNqKU2j0CUeZNV+V2PQK4+3bgDiI9A8HnsihScj0DtjVls3MCPQJK39fys/Y9AN/sWw84OkEC7rF49szCQQJp3pK+jTJBA8FD/k5ZDkEBJiMo0FkCQQHKXVYUHR5BAwhVuCFpHkED7etpGDkaQQD3gaWDUQpBA0Tq/STQ9kEDmWOfr+kGQQKuuOI3XQZBAGz4/Q0pHkEB1IoHSz0+QQDqlWdhPWJBAvSn1aXFskEDWcvdwS4GQQMvo7PKompBApcPRcEy4kEDj7zlCwOmQQH9WeGJNEJFAC3T09m4skUCT53Ai8ymRQD+N3fBgJpFA+dOOZVwTkUBUi+hrkA+RQBhQzG8MFJFA4kF2rXYakUDb7tyAwB2RQCEwBauqHpFAjzT1C1QYkUCCaEB34g6RQNUNeAe9CZFAkIqnouv/kEDOCvJRNviQQD53VWjd9JBAhD15873ykEDgpGXV/eqQQOdKMSD32ZBA+prlMLzOkECY4GdAl9iQQIXqhJQB85BAfSmbf4QWkUBKIb5YyzWRQJNdiaercpFApjlJqb6hkUBV1HbkIciRQAa3B4Ku5pFAusEraakJkkADXYF4OTKSQAMWIz8mQ5JAxsNpf4NUkkBE0d6Cp2ySQLBb+9/zepJAmRCYOP+GkkA9Vz5+55eSQDCW4dRQqJJAJIBOMgyqkkDuYVuj/pqSQPY+kUJ9mZJAT1q8MsSfkkDi6l8WeJ+SQGvFlO0zn5JAcc1TFNmhkkC3Em3KWqCSQAm+9frMoJJAnVu/yvyekkCe/wZW6I+SQBd4pLLHeZJA061oELRZkkA4gUnTsTqSQOjZ0KBSHpJA+0DOwkMQkkAkVfCtmPyRQO7E1YsO8JFA9LBgMGXjkUDOulDl8syRQNfeWVDIu5FAVZutaT+ykUCFvp+7Q6+RQDjekcYxpJFAlhDhP6CfkUCdaTXVKqqRQJ1gbB+DsZFAIg97fnzPkUCUV7AQ7+6RQHojMnPa/pFARgTX9jv9kUDNWHUGh/eRQL1iSJ4b9pFA6nVO1wHxkUBk5DeYFeWRQIYxnnJszJFAAOGKOh1vkUAtzw2mRSaRQIa3UYK5CJFAj9wSkdXhkECgxfOGpdKQQIFNCDNjwJBAje+umR2ekECmD221EIWQQGNARznTcZBAChrgBG1kkEAip+w1OTOQQFomrp9WLZBA1KbFSJQekECYzRNXYdqPQE7Tbq1xt49AzEaayjTpj0BbRaoW8fePQHzW701k+49ALl1smJfrj0D+xWzuRvOPQJNg2VXq9I9AKFAznvb1j0AUjUMiH/KPQLOu44h0zI9AK8YAXsu7j0A56G0C4LmPQDMywe3kuI9AEShxfsa8j0BhcoNBXJqPQM9tLBohkI9AcrP9PKWFj0B7fuZwYXuPQAptxDG7eo9AhE9e4I6Wj0DC/KFnsZiPQHTkaeuDkI9AHH2NvauBj0DD2walXWuPQDqa9TUPdI9Aur70lMJ3j0CKXfYPs26PQGrUwwv0ZY9A7CEfu8Jij0ByrDxEPm+PQPJTACNCf49A1ovUWOx9j0CCUHpzrlOPQBpirTyBPo9AH2z1WK5Cj0AfWbbcZyqPQMc2xWYLzo5AhXXF3t6BjkB5GBJb232OQMxioAqhfY5A4ty7nTF/jkD7+LVXzoWOQBqo7wUcnI5A4ycEE5PAjkBt6jCTnLaOQKnul07bto5AD/J/EiCsjkAIzwboJKWOQMlbSX1zoI5ABeWShuKhjkDGHIZri6KOQPgz20KDm45AcYgCu8CnjkC0SR4/yqeOQA8/eMwyrY5A0QtZX8zWjkDYfNV4x0WPQFZY4MOf4I9AEGHW3O/xj0Akp2jZswKQQNRQhbI1EJBA38YhNGMikEA2p5GUbSKQQJujrV3vT5BASB+GcFA+kEAjAhbaCSyQQBjknmu9LZBAK654vwEzkEAIpYaniTqQQNUbH0ZhS5BAoH8OPB5pkEBYSXje/W+QQFt/k74VdpBAprfceyZ6kEAq1AxvmXuQQG2uCYvIjJBAiWkqHY+YkEAeKYu0C6qQQN7Po0p9sJBAXsD9ZfLJkEArlLTrh/eQQDa8QSPdBpFAB94kuNkAkUD6pH9ej/qQQPVEaFbm6pBAe0VtUH7kkEBMETUIneSQQKMumCay7pBAKeO6E/DtkEBJwAF35eeQQPYFgd6T25BAwjqGYvrZkEDPtv7eu9uQQEPyogcI5ZBA9CWn3p/pkEAXdINMremQQCQjY36o+5BAjN+gcXEVkUBGDzr3dDeRQNnxnmBHWZFAleSCRTR9kUCz1b/BdKCRQO0BubKSs5FAs3OnOjbGkUAhB4pjItCRQLHzFPn33ZFAMZbsUh/7kUCOHKIC1SKSQNV49IJWLJJA57jFBT0tkkAj2PI0tS6SQOiZuv+DM5JApSnCnt03kkABfRD47TySQD+HRY/xOpJAfRU5PKw1kkBIVZVRXTOSQJ2Gl9nZJ5JARxOAKLAakkD7SHQdDx6SQEree6F/K5JA+onFFmQ/kkBo8ZsER02SQAoRfI7jSJJAykbWNPsukkA6vklngQ+SQC/jnnxEAZJA+Zr1T6/4kUDzM3dyweeRQJjo/DGd1JFA5xHLO7q9kUCt+h+G3KiRQPO/4dL0eJFACZGf5ixEkUAiABC4WzORQLCjaCI2K5FARcZ7JZUdkUDoBd3ShgiRQEEFZOJIBZFAib3TMVUFkUDRfiPZLAyRQN7jYU4BJJFADCfQ6WF4kUB0aiId7mORQBecH2GeT5FAePo1OQoxkUBunpU/bciQQL8doeRlkZBA+drCK9BVkEBdP2XdcSWQQDx1Wab/DJBA2skfW6kBkEC4gw1uWOePQNXTCeQzzY9A0bQnYmTLj0C1v2MW/92PQIzPXQo27o9AJFBEu8L0j0BZcoLOXwOQQFBc04EbEJBABwX+hhwXkEB3cR5yrRyQQDibr8bAI5BAuLq/twIkkEDKCY18QCWQQOZaUlXjJJBAfg65o/NCkEDafQ1gmVKQQGNGz/Y1bpBAThA3CtiJkEAbbhAeXJqQQEyqJTqQn5BAxtGZ+wuhkEBdMRcQeaaQQLcAbf/ap5BACDVL04SskEBkk99FCK+QQAs2fLONsZBAQt6onWO2kED47I0oD7qQQFoqRDAAu5BALmnFo/68kEDm2D0rA9KQQFYM/zh08JBAQwAPotvBkED8ao9ZIb2QQGR8OVUPxJBAP6XrOkjOkEDyOj9cH9qQQBtjA7aU5pBAzIxgNkr5kEBGeUJk6QuRQAC3lLcCF5FACQmedyohkUAgzb0Lcy2RQHQv913yNZFAN6souLk/kUAnjiGJKEiRQCzQKf75UZFAct/7MmhrkUA2qy583IORQLhMou37lZFA4RpqUyCzkUBKtnJOUdqRQLGIHWql15FAO63d1XzhkUD/lqCybuaRQOuGlgXC65FAkcdFddbxkUBqeP/rrfKRQO4coiil/pFARWUDuFcCkkBi03BtCv2RQKaqhwL8/JFABLXR0yD6kUBxK2aQ2vqRQIlcc01T8pFADeE3EQjukUCpgb1ru+qRQDvqQkdJ65FAhrTVTBzokUB6fVgWSeqRQBWNXnv66JFAC9QQBLbskUC9hlNn8A2SQLCCPzZ5JJJAotI5Sxk7kkAawnHtvVWSQPJLQkshYpJAlL5mw6xykkAj+Ob1s5eSQC9Y/T6AkZJAAqS7V2eAkkBAuO8qjYKSQAlMiHhehJJA5YrUORN4kkAzw0lsA3GSQO96XHMabZJAs0ATPENtkkDDGisisWySQH3fAKqnaZJAIZ06vAlnkkDIzEDQ0GGSQJQLpfg7X5JAVsad1PZckkA+n5YsQV2SQPtUmWKwWJJAEtJ1i+NSkkBAN3djFk2SQFOAzJAvPpJAPfxlGoZGkkChLoswxWiSQH5SALXhhZJAaa6EvTWSkkAlEBhzbZySQCg43bbNvpJADvxCq+/akkDTGswA1+6SQDr3kvtQApNA1sD4iw0hk0D4mvlCziyTQEaZbMciO5NAxwe2ATBBk0CeW8BcTESTQA9ToQICVZNAN5RX+odvk0DTY+OWv4CTQEppEF6TkpNAWOfU4giik0BqzpfatqSTQMAEMNMyupNA/qzZOpLVk0AbiCxrGvmTQJr1IrEYCZRAo7xQTZsLlEAeYUnZ/xCUQIWvUkwfFZRAhM+VmCkLlEAhKC6+QgKUQMuqwAysAJRAjFdcFVoClEAtohII/ASUQE001f96BJRA9+T0gX/7k0AhY0sEmPiTQNubOFS7+ZNAdSjxXOYBlEDyEHVy/g6UQL1WKK59I5RATLQwZGExlEDZKppCNTqUQNH1M7CwRpRA5ckztc5ZlEDz1oQUVISUQH5uJDbHspRA+kZf5NjGlECULNbcK7qUQC/58j7er5RAEQQW6/KhlEB+D9aqFI+UQFf5+UWdfpRAVSw/xHtulEBrzoRrAW2UQJ+UEel1ZpRAOyARmathlEDFOTDdsVSUQPMEIFZ7TpRAxQt3bqVUlEAhivGheGOUQNwDr7Ddg5RAownR6i+flEACYC4TpcSUQGEvGIV9/5RAHfHaa05FlUBm1WSxN3CVQLA7RXcvqpVAZG3FQNHJlUAtoH5ag++VQPv9ITeDD5ZA5pmA2QYklkCuno2TEyaWQAUKRd1cJ5ZAlEhci+oulkBACoDY5zeWQOftJREtOpZAJM2DRE81lkD/SL51yy6WQFAmnFyuLJZAipUIdW4slkCwFBek4w2WQOBcFLRE4ZVAq9oYP4G0lUDAkpVsUDSVQKWp77e15JRA6GJS59DMlEAkkoG0yIiUQNg3bowJcJRAben1L68nlECcQY1kgdOTQIMZ4SFFOpNAsC2OD3D3kkAmC1+xFIuSQJRAm8wQ0ZFAsCJRH0mVkUBGHPFQDveQQDkFeRslm5BAO5G1r3VKkEBrAySTAyKQQG8R2hsRwY9AxMqF/hUaj0Asa3KSROmOQD+E8QNCs45AbYLGcO+ajkACmQUziG+OQN4w/Mc+sI5ATlY7BJfijkAwuXeKZlqPQG8NVIroqY9AElrJ2XDzj0DRIHla+AGQQIH1D0vjPZBAQblas8lAkECDQLzAoTmQQPzqMEjHOpBAEFdf6t8nkEAtNT3IlBeQQDRtz5RfHZBAWeamknYZkECr8PcJkkSQQOcXi6gok5BA6PY5t4ikkECIglE3uM+QQF0Q8tRE2pBA0JUD3uAOkUA6nZpbjjCRQADnO2H5MZFAzx26FXtukUBZaEfzErmRQNhPq4aENpJAhOzIPjRTkkCrjRxXrn2SQIKkXmc5kZJAjFmg2vumkkAs/sd+KrySQIOvQoOgxJJAK2bGiR7akkB+o3GEhfGSQIvwSudu/pJAHwPr/MUWk0Bk3OnfG2iTQDH+nzIOjJNApYx9GWGuk0A6bzOanNOTQLRbfzV2A5RAqUY/QlmFlEChkC5iVJCUQFSB/drhlZRAgP8/u6+3lEC0Q2B+etiUQHtOpDVg6pRAG0vuXHAJlUDNWnTfdxKVQPV5kkPDEpVAjwdPv48MlUCFFxKIqxKVQJPghlQoOpVA22dhJ8lilUC1T5hQaH+VQD74iWeKlZVAEpKwN3i7lUBiGdy7PcaVQD8vuPMG1ZVAXbF5nwnelUAZ1ClYxd+VQOrZGCY/5pVApsFs18fvlUBRtYh0MaeVQMxGotSkk5VAfAAveX2MlUDHGKfTpIyVQDKy+GCwkZVAbUA/sHuBlUCxNnEID3qVQAIb8jA2b5VAtS4V0B9flUBqyw+PR1OVQL6rCjy6XJVA5KvKh+hjlUBlMnzZ3maVQCC4q349aJVAD+kUDtVylUAzegx3U3GVQNJ1ovAYcZVAiurIEEJtlUDLt6qFjoeVQIVDx/ZznpVAPzcOE9kMlkBQkqOkP1+WQHHZmNIIrpZAXGheGmvslkAvbQnLDv6WQKXBWdWG7ZZAQWVBIqbblkBSRJQpT8yWQMtuah5ryJZAi8OQHzTBlkDa5q47BbyWQNMW/sFYrZZAJxOlwOGrlkDt6OFY7KuWQIwlVi5/qpZAU8YZbkC4lkCrzC0SJbiWQKk44zZLxZZAxszwlHCplkCcm3Sa+ZeWQPHaVP9DhZZAG1Zsle5ylkASseEjh0SWQLFMCiCJL5ZABiLPVH0xlkCrOM9ZxkeWQLhrPKzOY5ZAFuRa5g1elkAP8NysVX6WQMACydW2qJZA6kEz1VrAlkDRT5/xQ/OWQFSojEUSBZdAIujsu68Gl0AJu8Y2fQ+XQJfr4Rv4HpdA2E33PAkJl0CiKEu6wOWWQHdu3TlXmpZAtCnLBeA8lkDDQa8gfgaWQB1eI7m/rJVA/76VjNFxlUA0NYxH7EiVQIJuRWsDN5VA9F1fsfMrlUAksSDM/TaVQKIkLYcropVANKKbd8nOlUDgR2xlpeyVQDdryjni5JVAPkJ41pLxlUDy19KDNPuVQH+/csIo/ZVAx4i8GIHelUDx8RzAKcuVQO70ummRtpVAW1JEkTiplUDHKsBGFaOVQM8e3yQSv5VAQW19zqXGlUBvAS5mnOiVQEEJjr7u/5VA4oI9eyUIlkAdFHlVfSOWQLyB/WkQPpZA7N10Ug1YlkCGv3AMenCWQJI2PPIInpZARBivXcS7lkBZ0EH83fmWQECRcT/G95ZAIWa6Od7xlkC5j0buDfGWQHrD5MzL4ZZABRVYlG/olkBGQcViBfWWQLH1ZugFEZdARpGvWL4kl0DLS2xiJV6XQD70gKPQlpdAgly5rkHBl0BwjRzQjOGXQL4sGSq4+ZdAYp9BunY2mECAFcDY+m6YQF0SbYe5HZlAd8CgIEyqmUCI6j0B2QyaQHuvKFljgppAEgYCXrLlmkAOIaGRq9maQEszDIc4zppAFFIGu2rMmkBhM+WbTs2aQBUZgzts4JpAaQ5dI3TqmkB+/p/9o/iaQKODqYqm8ZpAiMuF4mftmkCVBZVkauqaQFjdnE0w65pAReG212DVmkCmqOGGVdOaQDDsBBqGyZpAuyol5GK1mkBWlkI1U6aaQNT7cWDKpJpAVQ6U4gOkmkBj9vCwB5WaQP9tTChcmJpAJ5SzD9uTmkAs24zBoZ+aQEp3xLgeq5pAlAPNVwDCmkDNVwWnqrOaQBzSzLqrtJpAX8zFQzK1mkBWVJikprSaQGAJ3TuvsJpAPIcPcTmrmkCcGTJPIKSaQGFBDDsOT5pAvxbW6J4emkBAdV2xCwaaQHRipXxi+5lAwerctw3wmUCUaQi7yPeZQNh1SJ9RBJpAlj04HOogmkB+dil8sy6aQJWXAxejSppA4a7oFyMJmkBzRBljaf2ZQG8mcpmv1plAyuR2nQTEmUCtu7ASb+CZQCr6TRliGZpAYK7vUVlgmkDG0/z76MWaQCe8sNcvQ5tA7mBvctiim0CIOkQltsubQHdpIx9h/ptAYUGbnlI0nEAPW6gOpHGcQLdo0ZkaqZxAgcJCAQQ0nUB6fDCwArCdQPfgM2qYfp5Av4MFO30bn0DDlYqJJKefQIBTqqUJnJ9AVhmpSIWjn0D8o8Ehk3+fQJOxs5ModJ9ApNq36W9rn0CH7N5BiGifQM44PZWQYp9A4E46Bdhfn0C0/jmO32afQCAIg3sGc59AnwAN2Ddsn0DTnwr7omafQG8toIa3XJ9ArODs+Q9Zn0CdGRUDflafQLsEk86RXZ9AeZFir89cn0C9XyoHpVufQO0G7gcjWp9AtBEidTZqn0C5HWkeqFCfQL7lBGh35p5AHYip3e68nkAyrNIfdIueQCzNvvLNZZ5A1awcKI40nkAFvj79+jKeQPmFIQyqNJ5A/peu/+Q4nkBmArXzojaeQBuvct4YXZ5AKy9LJpuKnkD6d8Pnu8qeQNq86yF+DJ9AX14FRd9jn0AlFDTFDMSfQILlL+kAIKBAcyTzIy5hoED2CUlyoqegQBISd9eG6qBANccUwoIWoUCS8mr26yGhQCkVim2SOKFA2QIL6EhIoUCzXFbinFKhQAa1yBHlVqFAqqEDYOtqoUDZyTwpCXehQLndORmxb6FA1X+h+ZxkoUClvoEXZGihQE9hs8ABbKFA9nkaBG9uoUD/ZWEnKHKhQE1Oy3O2hKFAYq3Z2h+JoUAar5BqeYmhQPi4dsG2j6FAuml6XpCJoUCjs9gUlo2hQFzU13RljaFAAIzgb+GIoUBDb0pwkoehQH+Hx4aIiKFAHnXEGPeBoUDGaviBonmhQGE+jlxUdaFA8Z2d5Pl7oUAQJPIvcKChQOQ0zfmkxaFAbZdfa4bWoUCRxHqtIu2hQKaiVu5kFKJAzLXHosA/okA8OlHjCFyiQA1aOcyEgqJADD6chS6PokAO7uvm+p+iQOrfrkekqKJAN9ljDgrCokCRb+0rFdyiQBby5TW28aJA4c5DWdkOo0CLQYonGEOjQH1E+iLVVKNAEwBpB7xao0AKz/RQwVujQBLIsTrrY6NA00i/9pFio0DKeDdhZ2CjQN+bYjv2W6NArkd543BWo0DmnKZ3OFyjQC5x18ZlXqNA57Q/y5hto0CjvFv6VnajQK6yZFeqeKNAvrl7B7x+o0AqFNXNUWSjQFKx/6AbTKNAtYz7tSZVo0AysSxe82ujQKCW78Rlj6NAgG88/+myo0Bz8qTQ1MWjQH78qFMH1KNAZ+RSWD/jo0BB3YbeuvqjQPzVJ0X4EqRANg0PSewkpEBZLMGYJzekQCkfHLZoRaRAQSVKpaxbpEDAPebK6nCkQAuFIn5FqqRAcoM6Yn3YpEBo4aG8zfmkQI6UWZNlGaVAaQsGRZ8YpUA0N21mRQylQKuBLIbs9qRAVyGQQdbopEArPENWjuakQKib6Sbs4aRAOKCDq2napEC6iYaozdmkQD5ZM4DI36RAKII+AdfrpEBEmDwUK/mkQGgtw+6xAaVA8Rngl7sOpUC+OB3GcSGlQKu4USIBMaVARrYw7vBDpUBeUbD+GFWlQKpu2cCRdqVAG5Ihm5eopUCKutPSMtilQF6JY1fG36VA2Ys6QmXSpUBickpxs8mlQDo4BTLvxKVA/xvQhBbHpUBwNsnEqL6lQDLVG0nghaVAN/99AqBFpUCHH1F9lgWlQCFEqgXB66RA6Ihyro/ApEAbNMcxOrGkQCU5DVmXqqRAdkV8fPatpEDOVh83Ua2kQFb44160raRANJ8s/AKopEA3pzqGA7SkQG3s8Va3wKRAwzidQyfApEBmF30tJrqkQN+GwUShsaRAwbne+UCvpEBzyU1ZF62kQMgACrcXrqRAcRdC4satpEAkInJxh7ikQKU3pjFNu6RAmA8iKKfVpECFrXTR8tCkQNUmers0/qRAwpwvlBAWpUAvwjNwhyalQOlVRadAJ6VA/4RRAX4mpUDwHuWhbzKlQIENTsW3V6VA0OLwTa9+pUBulF6IuI2lQA0c+rk8mKVAkpzwraKfpUA/LoLb3KWlQKuT09l8taVAL4/vUELCpUDhfGXk2vylQI9x1CRkQ6ZAHtLs+3OQpkCKMnT4/JGmQGJIS5BicqZA91kWSrNrpkBXBT5saF2mQFBsfMYEOaZAkr33ujMppkDe3hxE/w6mQC9RaI/RAaZAipc7eCADpkDWejA+7wOmQD4Ap+tBBaZA7mceY0QGpkCmIfBa4QamQNQ1yjqgAqZA29hbViwEpkB8beUxygCmQC6C5/U//KVACT4xtfT1pUCrscXOT/KlQJScePEe8qVAdGXGgajxpUCM22X5OPulQLiiV2Rq+6VACm1h94oLpkDaPFRdACWmQE7Ab/fsKaZAQJDFohc7pkB7S5jJFT+mQEOc2qGG76VAG+7+GAi1pUB1x05QPH+lQHCVh2TEY6VA9KYLxuhSpUBGwDMfUkulQOyO/Ou5OqVAdOcKtP0spUAKvpD1hAmlQHahvj8Q5aRAO3R/P8iwpEBOghQg/mekQJnZID38MKRA83AT5h/mo0DBH5HKbLyjQLbPnDrPnKNAd4gIh1Oeo0B2je65Y6ijQFohsn22vKNAfWiNqFijo0C7LNoie5yjQIAYJj1AlqNAEEWOTduXo0CZndBv+ZejQOkaI55RlqNAA0dTDY+Yo0Du2G9gyI+jQInbqLnki6NAqj8cSx+Mo0BDavqgAI+jQCMbmfC4iaNAiDRPSCGMo0CJOzOgpYWjQJUXhpgcjaNAjbD3eduho0DNfAfrh8CjQEPOq7f5xqNAVrVD1eXBo0BV2MSdebujQICLNDiV4aNAhM+TN8/io0BtVoRB4sKjQKH7kkvloKNA50Ul72eno0A2QVNTEL6jQJufRybLwKNApaBGhQ2fo0CCuR7g15ajQA==\",\"dtype\":\"float64\",\"order\":\"little\",\"shape\":[1220]}},\"selected\":{\"id\":\"8375\"},\"selection_policy\":{\"id\":\"8393\"}},\"id\":\"8374\",\"type\":\"ColumnDataSource\"},{\"attributes\":{},\"id\":\"8285\",\"type\":\"BasicTicker\"},{\"attributes\":{},\"id\":\"8289\",\"type\":\"PanTool\"},{\"attributes\":{},\"id\":\"8290\",\"type\":\"WheelZoomTool\"},{\"attributes\":{},\"id\":\"8302\",\"type\":\"DatetimeTickFormatter\"},{\"attributes\":{\"axis\":{\"id\":\"8284\"},\"coordinates\":null,\"dimension\":1,\"grid_line_color\":null,\"group\":null,\"ticker\":null},\"id\":\"8287\",\"type\":\"Grid\"},{\"attributes\":{},\"id\":\"8288\",\"type\":\"SaveTool\"}],\"root_ids\":[\"8264\"]},\"title\":\"Bokeh Application\",\"version\":\"2.4.1\"}};\n",
       "    var render_items = [{\"docid\":\"43770256-8a92-4e1f-ac62-ec20ef3004de\",\"root_ids\":[\"8264\"],\"roots\":{\"8264\":\"b31bca56-0d09-4874-a290-c949d9fad2b1\"}}];\n",
       "    root.Bokeh.embed.embed_items_notebook(docs_json, render_items);\n",
       "  }\n",
       "  if (root.Bokeh !== undefined && root.Bokeh.Panel !== undefined) {\n",
       "    embed_document(root);\n",
       "  } else {\n",
       "    var attempts = 0;\n",
       "    var timer = setInterval(function(root) {\n",
       "      if (root.Bokeh !== undefined && root.Bokeh.Panel !== undefined) {\n",
       "        clearInterval(timer);\n",
       "        embed_document(root);\n",
       "      } else if (document.readyState == \"complete\") {\n",
       "        attempts++;\n",
       "        if (attempts > 200) {\n",
       "          clearInterval(timer);\n",
       "          console.log(\"Bokeh: ERROR: Unable to run BokehJS code because BokehJS library is missing\");\n",
       "        }\n",
       "      }\n",
       "    }, 25, root)\n",
       "  }\n",
       "})(window);</script>"
      ],
      "text/plain": [
       ":NdOverlay   [Variable]\n",
       "   :Curve   [Date]   (value)"
      ]
     },
     "execution_count": 421,
     "metadata": {
      "application/vnd.holoviews_exec.v0+json": {
       "id": "8264"
      }
     },
     "output_type": "execute_result"
    }
   ],
   "source": [
    "f1 = goog_df.hvplot.line(x='Date', y=['Close','bollinger_up','bollinger_down'])\n",
    "f1                       "
   ]
  },
  {
   "cell_type": "code",
   "execution_count": 422,
   "id": "cd126d46-1f63-48e5-abce-c2c2124b232c",
   "metadata": {},
   "outputs": [
    {
     "data": {
      "text/html": [
       "<div>\n",
       "<style scoped>\n",
       "    .dataframe tbody tr th:only-of-type {\n",
       "        vertical-align: middle;\n",
       "    }\n",
       "\n",
       "    .dataframe tbody tr th {\n",
       "        vertical-align: top;\n",
       "    }\n",
       "\n",
       "    .dataframe thead th {\n",
       "        text-align: right;\n",
       "    }\n",
       "</style>\n",
       "<table border=\"1\" class=\"dataframe\">\n",
       "  <thead>\n",
       "    <tr style=\"text-align: right;\">\n",
       "      <th></th>\n",
       "      <th>bollinger_up</th>\n",
       "      <th>bollinger_down</th>\n",
       "    </tr>\n",
       "    <tr>\n",
       "      <th>Date</th>\n",
       "      <th></th>\n",
       "      <th></th>\n",
       "    </tr>\n",
       "  </thead>\n",
       "  <tbody>\n",
       "    <tr>\n",
       "      <th>2017-05-12</th>\n",
       "      <td>968.965721</td>\n",
       "      <td>805.863277</td>\n",
       "    </tr>\n",
       "    <tr>\n",
       "      <th>2017-05-15</th>\n",
       "      <td>970.889513</td>\n",
       "      <td>814.805482</td>\n",
       "    </tr>\n",
       "    <tr>\n",
       "      <th>2017-05-16</th>\n",
       "      <td>973.637141</td>\n",
       "      <td>822.048858</td>\n",
       "    </tr>\n",
       "    <tr>\n",
       "      <th>2017-05-17</th>\n",
       "      <td>975.756495</td>\n",
       "      <td>830.547503</td>\n",
       "    </tr>\n",
       "    <tr>\n",
       "      <th>2017-05-18</th>\n",
       "      <td>973.334948</td>\n",
       "      <td>841.110047</td>\n",
       "    </tr>\n",
       "  </tbody>\n",
       "</table>\n",
       "</div>"
      ],
      "text/plain": [
       "            bollinger_up  bollinger_down\n",
       "Date                                    \n",
       "2017-05-12    968.965721      805.863277\n",
       "2017-05-15    970.889513      814.805482\n",
       "2017-05-16    973.637141      822.048858\n",
       "2017-05-17    975.756495      830.547503\n",
       "2017-05-18    973.334948      841.110047"
      ]
     },
     "execution_count": 422,
     "metadata": {},
     "output_type": "execute_result"
    }
   ],
   "source": [
    "X = goog_df[['bollinger_up', 'bollinger_down']].shift().dropna()\n",
    "X.head()"
   ]
  },
  {
   "cell_type": "code",
   "execution_count": 423,
   "id": "6f488926-f23e-4603-9369-a10c1353807f",
   "metadata": {},
   "outputs": [
    {
     "data": {
      "text/plain": [
       " 1.0    671\n",
       "-1.0    549\n",
       "Name: Signal, dtype: int64"
      ]
     },
     "execution_count": 423,
     "metadata": {},
     "output_type": "execute_result"
    }
   ],
   "source": [
    "y = goog_df['Signal']\n",
    "y.value_counts()"
   ]
  },
  {
   "cell_type": "code",
   "execution_count": 424,
   "id": "117ec64d-75fa-4f1d-a370-5f08890d3c37",
   "metadata": {},
   "outputs": [
    {
     "name": "stdout",
     "output_type": "stream",
     "text": [
      "2017-05-12 00:00:00\n"
     ]
    }
   ],
   "source": [
    "training_begin = X.index.min()\n",
    "print(training_begin)"
   ]
  },
  {
   "cell_type": "code",
   "execution_count": 425,
   "id": "c0d1e6b5-525c-4cce-8ee6-f247fa8aa6e7",
   "metadata": {},
   "outputs": [
    {
     "name": "stdout",
     "output_type": "stream",
     "text": [
      "2017-08-12 00:00:00\n"
     ]
    }
   ],
   "source": [
    "training_end = X.index.min() + DateOffset(months=3)\n",
    "print(training_end)"
   ]
  },
  {
   "cell_type": "code",
   "execution_count": 426,
   "id": "42781ade-5ebf-4b7a-9400-79800db35850",
   "metadata": {},
   "outputs": [
    {
     "data": {
      "text/html": [
       "<div>\n",
       "<style scoped>\n",
       "    .dataframe tbody tr th:only-of-type {\n",
       "        vertical-align: middle;\n",
       "    }\n",
       "\n",
       "    .dataframe tbody tr th {\n",
       "        vertical-align: top;\n",
       "    }\n",
       "\n",
       "    .dataframe thead th {\n",
       "        text-align: right;\n",
       "    }\n",
       "</style>\n",
       "<table border=\"1\" class=\"dataframe\">\n",
       "  <thead>\n",
       "    <tr style=\"text-align: right;\">\n",
       "      <th></th>\n",
       "      <th>bollinger_up</th>\n",
       "      <th>bollinger_down</th>\n",
       "    </tr>\n",
       "    <tr>\n",
       "      <th>Date</th>\n",
       "      <th></th>\n",
       "      <th></th>\n",
       "    </tr>\n",
       "  </thead>\n",
       "  <tbody>\n",
       "    <tr>\n",
       "      <th>2017-05-12</th>\n",
       "      <td>968.965721</td>\n",
       "      <td>805.863277</td>\n",
       "    </tr>\n",
       "    <tr>\n",
       "      <th>2017-05-15</th>\n",
       "      <td>970.889513</td>\n",
       "      <td>814.805482</td>\n",
       "    </tr>\n",
       "    <tr>\n",
       "      <th>2017-05-16</th>\n",
       "      <td>973.637141</td>\n",
       "      <td>822.048858</td>\n",
       "    </tr>\n",
       "    <tr>\n",
       "      <th>2017-05-17</th>\n",
       "      <td>975.756495</td>\n",
       "      <td>830.547503</td>\n",
       "    </tr>\n",
       "    <tr>\n",
       "      <th>2017-05-18</th>\n",
       "      <td>973.334948</td>\n",
       "      <td>841.110047</td>\n",
       "    </tr>\n",
       "  </tbody>\n",
       "</table>\n",
       "</div>"
      ],
      "text/plain": [
       "            bollinger_up  bollinger_down\n",
       "Date                                    \n",
       "2017-05-12    968.965721      805.863277\n",
       "2017-05-15    970.889513      814.805482\n",
       "2017-05-16    973.637141      822.048858\n",
       "2017-05-17    975.756495      830.547503\n",
       "2017-05-18    973.334948      841.110047"
      ]
     },
     "execution_count": 426,
     "metadata": {},
     "output_type": "execute_result"
    }
   ],
   "source": [
    "X_train1 = X.loc[training_begin:training_end]\n",
    "y_train1 = y.loc[training_begin:training_end]\n",
    "X_train1.head()"
   ]
  },
  {
   "cell_type": "code",
   "execution_count": 427,
   "id": "0a78286c-e709-4df3-873b-5628f607ec34",
   "metadata": {},
   "outputs": [
    {
     "data": {
      "text/html": [
       "<div>\n",
       "<style scoped>\n",
       "    .dataframe tbody tr th:only-of-type {\n",
       "        vertical-align: middle;\n",
       "    }\n",
       "\n",
       "    .dataframe tbody tr th {\n",
       "        vertical-align: top;\n",
       "    }\n",
       "\n",
       "    .dataframe thead th {\n",
       "        text-align: right;\n",
       "    }\n",
       "</style>\n",
       "<table border=\"1\" class=\"dataframe\">\n",
       "  <thead>\n",
       "    <tr style=\"text-align: right;\">\n",
       "      <th></th>\n",
       "      <th>bollinger_up</th>\n",
       "      <th>bollinger_down</th>\n",
       "    </tr>\n",
       "    <tr>\n",
       "      <th>Date</th>\n",
       "      <th></th>\n",
       "      <th></th>\n",
       "    </tr>\n",
       "  </thead>\n",
       "  <tbody>\n",
       "    <tr>\n",
       "      <th>2017-08-14</th>\n",
       "      <td>983.617421</td>\n",
       "      <td>899.307597</td>\n",
       "    </tr>\n",
       "    <tr>\n",
       "      <th>2017-08-15</th>\n",
       "      <td>982.484747</td>\n",
       "      <td>897.365271</td>\n",
       "    </tr>\n",
       "    <tr>\n",
       "      <th>2017-08-16</th>\n",
       "      <td>979.251805</td>\n",
       "      <td>896.280207</td>\n",
       "    </tr>\n",
       "    <tr>\n",
       "      <th>2017-08-17</th>\n",
       "      <td>974.226342</td>\n",
       "      <td>896.912672</td>\n",
       "    </tr>\n",
       "    <tr>\n",
       "      <th>2017-08-18</th>\n",
       "      <td>969.640242</td>\n",
       "      <td>895.781767</td>\n",
       "    </tr>\n",
       "  </tbody>\n",
       "</table>\n",
       "</div>"
      ],
      "text/plain": [
       "            bollinger_up  bollinger_down\n",
       "Date                                    \n",
       "2017-08-14    983.617421      899.307597\n",
       "2017-08-15    982.484747      897.365271\n",
       "2017-08-16    979.251805      896.280207\n",
       "2017-08-17    974.226342      896.912672\n",
       "2017-08-18    969.640242      895.781767"
      ]
     },
     "execution_count": 427,
     "metadata": {},
     "output_type": "execute_result"
    }
   ],
   "source": [
    "X_test1 = X.loc[training_end:]\n",
    "y_test1 = y.loc[training_end:]\n",
    "X_test1.head()"
   ]
  },
  {
   "cell_type": "code",
   "execution_count": 428,
   "id": "8c3ba3fa-5501-4b16-924d-8113c370b463",
   "metadata": {},
   "outputs": [],
   "source": [
    "scaler = StandardScaler()\n",
    "X_scaler = scaler.fit(X_train1)\n",
    "X_train1_scaled = X_scaler.transform(X_train1)\n",
    "X_test1_scaled = X_scaler.transform(X_test1)"
   ]
  },
  {
   "cell_type": "code",
   "execution_count": 429,
   "id": "764ce755-26b8-4273-b16b-abf53efb52dc",
   "metadata": {},
   "outputs": [
    {
     "data": {
      "text/plain": [
       "array([ 1.,  1.,  1.,  1.,  1.,  1.,  1.,  1.,  1.,  1.,  1.,  1.,  1.,\n",
       "        1.,  1.,  1., -1., -1., -1., -1., -1., -1., -1., -1., -1., -1.,\n",
       "       -1., -1., -1., -1., -1., -1., -1., -1., -1., -1., -1., -1.,  1.,\n",
       "        1.,  1.,  1.,  1.,  1.,  1.,  1.,  1.,  1.,  1., -1., -1., -1.,\n",
       "       -1., -1., -1., -1., -1.,  1.,  1.,  1.,  1.,  1.,  1.,  1.])"
      ]
     },
     "execution_count": 429,
     "metadata": {},
     "output_type": "execute_result"
    }
   ],
   "source": [
    "svm1_model = svm.SVC()\n",
    "svm1_model = svm1_model.fit(X_train1_scaled, y_train1)\n",
    "svm1_pred_training = svm1_model.predict(X_train1_scaled)\n",
    "svm1_pred_training"
   ]
  },
  {
   "cell_type": "code",
   "execution_count": 430,
   "id": "57e50400-9fa4-447e-bae1-fcc28c93cc9c",
   "metadata": {},
   "outputs": [
    {
     "name": "stdout",
     "output_type": "stream",
     "text": [
      "              precision    recall  f1-score   support\n",
      "\n",
      "        -1.0       0.63      0.70      0.67        27\n",
      "         1.0       0.76      0.70      0.73        37\n",
      "\n",
      "    accuracy                           0.70        64\n",
      "   macro avg       0.70      0.70      0.70        64\n",
      "weighted avg       0.71      0.70      0.70        64\n",
      "\n"
     ]
    }
   ],
   "source": [
    "svm1_training_report = classification_report(y_train1, svm1_pred_training)\n",
    "print(svm1_training_report)"
   ]
  },
  {
   "cell_type": "code",
   "execution_count": 431,
   "id": "2050c699-014a-42f0-ade6-6e035cc0db46",
   "metadata": {},
   "outputs": [
    {
     "name": "stdout",
     "output_type": "stream",
     "text": [
      "              precision    recall  f1-score   support\n",
      "\n",
      "        -1.0       0.25      0.00      0.01       522\n",
      "         1.0       0.55      0.99      0.70       633\n",
      "\n",
      "    accuracy                           0.54      1155\n",
      "   macro avg       0.40      0.50      0.36      1155\n",
      "weighted avg       0.41      0.54      0.39      1155\n",
      "\n"
     ]
    }
   ],
   "source": [
    "svm1_pred_testing = svm1_model.predict(X_test1_scaled)\n",
    "svm1_testing_report = classification_report(y_test1, svm1_pred_testing)\n",
    "print(svm1_testing_report)"
   ]
  },
  {
   "cell_type": "code",
   "execution_count": 432,
   "id": "3134fab8-bee6-4e08-a312-41497928ae7f",
   "metadata": {},
   "outputs": [],
   "source": [
    "predictions1_df = pd.DataFrame(index = X_test1.index)\n",
    "predictions1_df['Predicted'] = svm1_pred_testing"
   ]
  },
  {
   "cell_type": "code",
   "execution_count": 433,
   "id": "53defd55-fdc4-4aa8-bc81-71df16529585",
   "metadata": {},
   "outputs": [
    {
     "data": {
      "text/html": [
       "<div>\n",
       "<style scoped>\n",
       "    .dataframe tbody tr th:only-of-type {\n",
       "        vertical-align: middle;\n",
       "    }\n",
       "\n",
       "    .dataframe tbody tr th {\n",
       "        vertical-align: top;\n",
       "    }\n",
       "\n",
       "    .dataframe thead th {\n",
       "        text-align: right;\n",
       "    }\n",
       "</style>\n",
       "<table border=\"1\" class=\"dataframe\">\n",
       "  <thead>\n",
       "    <tr style=\"text-align: right;\">\n",
       "      <th></th>\n",
       "      <th>Predicted</th>\n",
       "      <th>Actual Returns</th>\n",
       "      <th>Strategy Returns</th>\n",
       "    </tr>\n",
       "    <tr>\n",
       "      <th>Date</th>\n",
       "      <th></th>\n",
       "      <th></th>\n",
       "      <th></th>\n",
       "    </tr>\n",
       "  </thead>\n",
       "  <tbody>\n",
       "    <tr>\n",
       "      <th>2017-08-14</th>\n",
       "      <td>1.0</td>\n",
       "      <td>0.009055</td>\n",
       "      <td>0.009055</td>\n",
       "    </tr>\n",
       "    <tr>\n",
       "      <th>2017-08-15</th>\n",
       "      <td>1.0</td>\n",
       "      <td>-0.000488</td>\n",
       "      <td>-0.000488</td>\n",
       "    </tr>\n",
       "    <tr>\n",
       "      <th>2017-08-16</th>\n",
       "      <td>1.0</td>\n",
       "      <td>0.005140</td>\n",
       "      <td>0.005140</td>\n",
       "    </tr>\n",
       "    <tr>\n",
       "      <th>2017-08-17</th>\n",
       "      <td>1.0</td>\n",
       "      <td>-0.017239</td>\n",
       "      <td>-0.017239</td>\n",
       "    </tr>\n",
       "    <tr>\n",
       "      <th>2017-08-18</th>\n",
       "      <td>1.0</td>\n",
       "      <td>-0.000340</td>\n",
       "      <td>-0.000340</td>\n",
       "    </tr>\n",
       "  </tbody>\n",
       "</table>\n",
       "</div>"
      ],
      "text/plain": [
       "            Predicted  Actual Returns  Strategy Returns\n",
       "Date                                                   \n",
       "2017-08-14        1.0        0.009055          0.009055\n",
       "2017-08-15        1.0       -0.000488         -0.000488\n",
       "2017-08-16        1.0        0.005140          0.005140\n",
       "2017-08-17        1.0       -0.017239         -0.017239\n",
       "2017-08-18        1.0       -0.000340         -0.000340"
      ]
     },
     "metadata": {},
     "output_type": "display_data"
    },
    {
     "data": {
      "text/html": [
       "<div>\n",
       "<style scoped>\n",
       "    .dataframe tbody tr th:only-of-type {\n",
       "        vertical-align: middle;\n",
       "    }\n",
       "\n",
       "    .dataframe tbody tr th {\n",
       "        vertical-align: top;\n",
       "    }\n",
       "\n",
       "    .dataframe thead th {\n",
       "        text-align: right;\n",
       "    }\n",
       "</style>\n",
       "<table border=\"1\" class=\"dataframe\">\n",
       "  <thead>\n",
       "    <tr style=\"text-align: right;\">\n",
       "      <th></th>\n",
       "      <th>Predicted</th>\n",
       "      <th>Actual Returns</th>\n",
       "      <th>Strategy Returns</th>\n",
       "    </tr>\n",
       "    <tr>\n",
       "      <th>Date</th>\n",
       "      <th></th>\n",
       "      <th></th>\n",
       "      <th></th>\n",
       "    </tr>\n",
       "  </thead>\n",
       "  <tbody>\n",
       "    <tr>\n",
       "      <th>2022-03-09</th>\n",
       "      <td>1.0</td>\n",
       "      <td>0.051757</td>\n",
       "      <td>0.051757</td>\n",
       "    </tr>\n",
       "    <tr>\n",
       "      <th>2022-03-10</th>\n",
       "      <td>1.0</td>\n",
       "      <td>-0.008845</td>\n",
       "      <td>-0.008845</td>\n",
       "    </tr>\n",
       "    <tr>\n",
       "      <th>2022-03-11</th>\n",
       "      <td>1.0</td>\n",
       "      <td>-0.016630</td>\n",
       "      <td>-0.016630</td>\n",
       "    </tr>\n",
       "    <tr>\n",
       "      <th>2022-03-14</th>\n",
       "      <td>1.0</td>\n",
       "      <td>-0.028622</td>\n",
       "      <td>-0.028622</td>\n",
       "    </tr>\n",
       "    <tr>\n",
       "      <th>2022-03-15</th>\n",
       "      <td>1.0</td>\n",
       "      <td>0.023035</td>\n",
       "      <td>0.023035</td>\n",
       "    </tr>\n",
       "  </tbody>\n",
       "</table>\n",
       "</div>"
      ],
      "text/plain": [
       "            Predicted  Actual Returns  Strategy Returns\n",
       "Date                                                   \n",
       "2022-03-09        1.0        0.051757          0.051757\n",
       "2022-03-10        1.0       -0.008845         -0.008845\n",
       "2022-03-11        1.0       -0.016630         -0.016630\n",
       "2022-03-14        1.0       -0.028622         -0.028622\n",
       "2022-03-15        1.0        0.023035          0.023035"
      ]
     },
     "metadata": {},
     "output_type": "display_data"
    }
   ],
   "source": [
    "predictions1_df['Actual Returns'] = goog_df['Actual Returns']\n",
    "predictions1_df['Strategy Returns'] = (\n",
    "    predictions1_df['Actual Returns'] * predictions1_df['Predicted']\n",
    ")\n",
    "display(predictions1_df.head())\n",
    "display(predictions1_df.tail())"
   ]
  },
  {
   "cell_type": "code",
   "execution_count": 434,
   "id": "2e6c0f17-9a1f-4d56-9518-bb9029620a0f",
   "metadata": {},
   "outputs": [
    {
     "data": {
      "text/plain": [
       "<AxesSubplot:xlabel='Date'>"
      ]
     },
     "execution_count": 434,
     "metadata": {},
     "output_type": "execute_result"
    },
    {
     "data": {
      "image/png": "[encoded data removed]",
      "text/plain": [
       "<Figure size 432x288 with 1 Axes>"
      ]
     },
     "metadata": {
      "needs_background": "light"
     },
     "output_type": "display_data"
    }
   ],
   "source": [
    "(1 + predictions1_df[['Actual Returns', 'Strategy Returns']]).cumprod().plot()"
   ]
  },
  {
   "cell_type": "code",
   "execution_count": 436,
   "id": "03c7691c-4347-40c7-a6e5-498e85edd7c4",
   "metadata": {},
   "outputs": [],
   "source": [
    "zillow_df = pd.read_csv(Path(\"/Users/Hockenbery/fintech/Python_Project/Project-2/z.csv\"),\n",
    "    #index_col='Date', \n",
    "    infer_datetime_format=True, \n",
    "    parse_dates=True\n",
    ")"
   ]
  },
  {
   "cell_type": "code",
   "execution_count": 437,
   "id": "364b272e-3960-49ba-86f1-1ef0ff7f2b26",
   "metadata": {},
   "outputs": [
    {
     "data": {
      "text/html": [
       "<div>\n",
       "<style scoped>\n",
       "    .dataframe tbody tr th:only-of-type {\n",
       "        vertical-align: middle;\n",
       "    }\n",
       "\n",
       "    .dataframe tbody tr th {\n",
       "        vertical-align: top;\n",
       "    }\n",
       "\n",
       "    .dataframe thead th {\n",
       "        text-align: right;\n",
       "    }\n",
       "</style>\n",
       "<table border=\"1\" class=\"dataframe\">\n",
       "  <thead>\n",
       "    <tr style=\"text-align: right;\">\n",
       "      <th></th>\n",
       "      <th>Date</th>\n",
       "      <th>Open</th>\n",
       "      <th>High</th>\n",
       "      <th>Low</th>\n",
       "      <th>Close</th>\n",
       "      <th>Volume</th>\n",
       "    </tr>\n",
       "  </thead>\n",
       "  <tbody>\n",
       "    <tr>\n",
       "      <th>2017-03-16</th>\n",
       "      <td>36.770000</td>\n",
       "      <td>36.970001</td>\n",
       "      <td>36.450001</td>\n",
       "      <td>36.689999</td>\n",
       "      <td>36.689999</td>\n",
       "      <td>739000</td>\n",
       "    </tr>\n",
       "    <tr>\n",
       "      <th>2017-03-17</th>\n",
       "      <td>36.650002</td>\n",
       "      <td>36.650002</td>\n",
       "      <td>36.244999</td>\n",
       "      <td>36.360001</td>\n",
       "      <td>36.360001</td>\n",
       "      <td>617100</td>\n",
       "    </tr>\n",
       "    <tr>\n",
       "      <th>2017-03-20</th>\n",
       "      <td>36.349998</td>\n",
       "      <td>36.509998</td>\n",
       "      <td>36.080002</td>\n",
       "      <td>36.240002</td>\n",
       "      <td>36.240002</td>\n",
       "      <td>603400</td>\n",
       "    </tr>\n",
       "    <tr>\n",
       "      <th>2017-03-21</th>\n",
       "      <td>36.310001</td>\n",
       "      <td>36.480000</td>\n",
       "      <td>35.160000</td>\n",
       "      <td>35.169998</td>\n",
       "      <td>35.169998</td>\n",
       "      <td>1528900</td>\n",
       "    </tr>\n",
       "    <tr>\n",
       "      <th>2017-03-22</th>\n",
       "      <td>35.110001</td>\n",
       "      <td>35.639999</td>\n",
       "      <td>35.029999</td>\n",
       "      <td>35.290001</td>\n",
       "      <td>35.290001</td>\n",
       "      <td>1100600</td>\n",
       "    </tr>\n",
       "  </tbody>\n",
       "</table>\n",
       "</div>"
      ],
      "text/plain": [
       "                 Date       Open       High        Low      Close   Volume\n",
       "2017-03-16  36.770000  36.970001  36.450001  36.689999  36.689999   739000\n",
       "2017-03-17  36.650002  36.650002  36.244999  36.360001  36.360001   617100\n",
       "2017-03-20  36.349998  36.509998  36.080002  36.240002  36.240002   603400\n",
       "2017-03-21  36.310001  36.480000  35.160000  35.169998  35.169998  1528900\n",
       "2017-03-22  35.110001  35.639999  35.029999  35.290001  35.290001  1100600"
      ]
     },
     "execution_count": 437,
     "metadata": {},
     "output_type": "execute_result"
    }
   ],
   "source": [
    "zillow_df.head()"
   ]
  },
  {
   "cell_type": "code",
   "execution_count": 441,
   "id": "013857c7-dd54-4df8-920a-9380b1f5c70d",
   "metadata": {},
   "outputs": [],
   "source": [
    "zillow_df.drop(columns=['Close'], inplace=True)"
   ]
  },
  {
   "cell_type": "code",
   "execution_count": 442,
   "id": "ca5535da-26ba-46a5-a58e-d006a0a7356e",
   "metadata": {},
   "outputs": [
    {
     "data": {
      "text/html": [
       "<div>\n",
       "<style scoped>\n",
       "    .dataframe tbody tr th:only-of-type {\n",
       "        vertical-align: middle;\n",
       "    }\n",
       "\n",
       "    .dataframe tbody tr th {\n",
       "        vertical-align: top;\n",
       "    }\n",
       "\n",
       "    .dataframe thead th {\n",
       "        text-align: right;\n",
       "    }\n",
       "</style>\n",
       "<table border=\"1\" class=\"dataframe\">\n",
       "  <thead>\n",
       "    <tr style=\"text-align: right;\">\n",
       "      <th></th>\n",
       "      <th>Date</th>\n",
       "      <th>Open</th>\n",
       "      <th>High</th>\n",
       "      <th>Low</th>\n",
       "      <th>Volume</th>\n",
       "    </tr>\n",
       "  </thead>\n",
       "  <tbody>\n",
       "    <tr>\n",
       "      <th>2017-03-16</th>\n",
       "      <td>36.770000</td>\n",
       "      <td>36.970001</td>\n",
       "      <td>36.450001</td>\n",
       "      <td>36.689999</td>\n",
       "      <td>739000</td>\n",
       "    </tr>\n",
       "    <tr>\n",
       "      <th>2017-03-17</th>\n",
       "      <td>36.650002</td>\n",
       "      <td>36.650002</td>\n",
       "      <td>36.244999</td>\n",
       "      <td>36.360001</td>\n",
       "      <td>617100</td>\n",
       "    </tr>\n",
       "    <tr>\n",
       "      <th>2017-03-20</th>\n",
       "      <td>36.349998</td>\n",
       "      <td>36.509998</td>\n",
       "      <td>36.080002</td>\n",
       "      <td>36.240002</td>\n",
       "      <td>603400</td>\n",
       "    </tr>\n",
       "    <tr>\n",
       "      <th>2017-03-21</th>\n",
       "      <td>36.310001</td>\n",
       "      <td>36.480000</td>\n",
       "      <td>35.160000</td>\n",
       "      <td>35.169998</td>\n",
       "      <td>1528900</td>\n",
       "    </tr>\n",
       "    <tr>\n",
       "      <th>2017-03-22</th>\n",
       "      <td>35.110001</td>\n",
       "      <td>35.639999</td>\n",
       "      <td>35.029999</td>\n",
       "      <td>35.290001</td>\n",
       "      <td>1100600</td>\n",
       "    </tr>\n",
       "  </tbody>\n",
       "</table>\n",
       "</div>"
      ],
      "text/plain": [
       "                 Date       Open       High        Low   Volume\n",
       "2017-03-16  36.770000  36.970001  36.450001  36.689999   739000\n",
       "2017-03-17  36.650002  36.650002  36.244999  36.360001   617100\n",
       "2017-03-20  36.349998  36.509998  36.080002  36.240002   603400\n",
       "2017-03-21  36.310001  36.480000  35.160000  35.169998  1528900\n",
       "2017-03-22  35.110001  35.639999  35.029999  35.290001  1100600"
      ]
     },
     "execution_count": 442,
     "metadata": {},
     "output_type": "execute_result"
    }
   ],
   "source": [
    "zillow_df.head()"
   ]
  },
  {
   "cell_type": "code",
   "execution_count": 452,
   "id": "5cf0e076-24d3-43c5-964b-13b98cce8ced",
   "metadata": {},
   "outputs": [],
   "source": [
    "zillow_df.index.name = 'Date'"
   ]
  },
  {
   "cell_type": "code",
   "execution_count": 453,
   "id": "4dc2e63d-3ab5-4331-8737-02dd4a1c172b",
   "metadata": {},
   "outputs": [
    {
     "data": {
      "text/html": [
       "<div>\n",
       "<style scoped>\n",
       "    .dataframe tbody tr th:only-of-type {\n",
       "        vertical-align: middle;\n",
       "    }\n",
       "\n",
       "    .dataframe tbody tr th {\n",
       "        vertical-align: top;\n",
       "    }\n",
       "\n",
       "    .dataframe thead th {\n",
       "        text-align: right;\n",
       "    }\n",
       "</style>\n",
       "<table border=\"1\" class=\"dataframe\">\n",
       "  <thead>\n",
       "    <tr style=\"text-align: right;\">\n",
       "      <th></th>\n",
       "      <th>Open</th>\n",
       "      <th>High</th>\n",
       "      <th>Low</th>\n",
       "      <th>Close</th>\n",
       "      <th>Volume</th>\n",
       "    </tr>\n",
       "    <tr>\n",
       "      <th>Date</th>\n",
       "      <th></th>\n",
       "      <th></th>\n",
       "      <th></th>\n",
       "      <th></th>\n",
       "      <th></th>\n",
       "    </tr>\n",
       "  </thead>\n",
       "  <tbody>\n",
       "    <tr>\n",
       "      <th>2017-03-16</th>\n",
       "      <td>36.770000</td>\n",
       "      <td>36.970001</td>\n",
       "      <td>36.450001</td>\n",
       "      <td>36.689999</td>\n",
       "      <td>739000</td>\n",
       "    </tr>\n",
       "    <tr>\n",
       "      <th>2017-03-17</th>\n",
       "      <td>36.650002</td>\n",
       "      <td>36.650002</td>\n",
       "      <td>36.244999</td>\n",
       "      <td>36.360001</td>\n",
       "      <td>617100</td>\n",
       "    </tr>\n",
       "    <tr>\n",
       "      <th>2017-03-20</th>\n",
       "      <td>36.349998</td>\n",
       "      <td>36.509998</td>\n",
       "      <td>36.080002</td>\n",
       "      <td>36.240002</td>\n",
       "      <td>603400</td>\n",
       "    </tr>\n",
       "    <tr>\n",
       "      <th>2017-03-21</th>\n",
       "      <td>36.310001</td>\n",
       "      <td>36.480000</td>\n",
       "      <td>35.160000</td>\n",
       "      <td>35.169998</td>\n",
       "      <td>1528900</td>\n",
       "    </tr>\n",
       "    <tr>\n",
       "      <th>2017-03-22</th>\n",
       "      <td>35.110001</td>\n",
       "      <td>35.639999</td>\n",
       "      <td>35.029999</td>\n",
       "      <td>35.290001</td>\n",
       "      <td>1100600</td>\n",
       "    </tr>\n",
       "  </tbody>\n",
       "</table>\n",
       "</div>"
      ],
      "text/plain": [
       "                 Open       High        Low      Close   Volume\n",
       "Date                                                           \n",
       "2017-03-16  36.770000  36.970001  36.450001  36.689999   739000\n",
       "2017-03-17  36.650002  36.650002  36.244999  36.360001   617100\n",
       "2017-03-20  36.349998  36.509998  36.080002  36.240002   603400\n",
       "2017-03-21  36.310001  36.480000  35.160000  35.169998  1528900\n",
       "2017-03-22  35.110001  35.639999  35.029999  35.290001  1100600"
      ]
     },
     "execution_count": 453,
     "metadata": {},
     "output_type": "execute_result"
    }
   ],
   "source": [
    "zillow_df.head()"
   ]
  },
  {
   "cell_type": "code",
   "execution_count": 454,
   "id": "c94d3757-b812-4950-8160-fd01c748fc44",
   "metadata": {},
   "outputs": [
    {
     "data": {
      "text/plain": [
       "<AxesSubplot:xlabel='Date'>"
      ]
     },
     "execution_count": 454,
     "metadata": {},
     "output_type": "execute_result"
    },
    {
     "data": {
      "image/png": "[encoded data removed]",
      "text/plain": [
       "<Figure size 432x288 with 1 Axes>"
      ]
     },
     "metadata": {
      "needs_background": "light"
     },
     "output_type": "display_data"
    }
   ],
   "source": [
    "zillow_df.plot(y='Close')"
   ]
  },
  {
   "cell_type": "code",
   "execution_count": 455,
   "id": "11a01b92-041f-4104-9da4-14ef81196173",
   "metadata": {},
   "outputs": [],
   "source": [
    "exp1 = zillow_df.Close.ewm(span=12, adjust=False).mean()\n",
    "exp2 = zillow_df.Close.ewm(span=26, adjust=False).mean()"
   ]
  },
  {
   "cell_type": "code",
   "execution_count": 456,
   "id": "a31d3e35-6e7c-44c5-84e7-8137285ba3d9",
   "metadata": {},
   "outputs": [
    {
     "data": {
      "text/html": [
       "<div>\n",
       "<style scoped>\n",
       "    .dataframe tbody tr th:only-of-type {\n",
       "        vertical-align: middle;\n",
       "    }\n",
       "\n",
       "    .dataframe tbody tr th {\n",
       "        vertical-align: top;\n",
       "    }\n",
       "\n",
       "    .dataframe thead th {\n",
       "        text-align: right;\n",
       "    }\n",
       "</style>\n",
       "<table border=\"1\" class=\"dataframe\">\n",
       "  <thead>\n",
       "    <tr style=\"text-align: right;\">\n",
       "      <th></th>\n",
       "      <th>Open</th>\n",
       "      <th>High</th>\n",
       "      <th>Low</th>\n",
       "      <th>Close</th>\n",
       "      <th>Volume</th>\n",
       "      <th>macd</th>\n",
       "      <th>exp3</th>\n",
       "    </tr>\n",
       "    <tr>\n",
       "      <th>Date</th>\n",
       "      <th></th>\n",
       "      <th></th>\n",
       "      <th></th>\n",
       "      <th></th>\n",
       "      <th></th>\n",
       "      <th></th>\n",
       "      <th></th>\n",
       "    </tr>\n",
       "  </thead>\n",
       "  <tbody>\n",
       "    <tr>\n",
       "      <th>2017-03-16</th>\n",
       "      <td>36.770000</td>\n",
       "      <td>36.970001</td>\n",
       "      <td>36.450001</td>\n",
       "      <td>36.689999</td>\n",
       "      <td>739000</td>\n",
       "      <td>0.000000</td>\n",
       "      <td>0.000000</td>\n",
       "    </tr>\n",
       "    <tr>\n",
       "      <th>2017-03-17</th>\n",
       "      <td>36.650002</td>\n",
       "      <td>36.650002</td>\n",
       "      <td>36.244999</td>\n",
       "      <td>36.360001</td>\n",
       "      <td>617100</td>\n",
       "      <td>-0.026325</td>\n",
       "      <td>-0.005265</td>\n",
       "    </tr>\n",
       "    <tr>\n",
       "      <th>2017-03-20</th>\n",
       "      <td>36.349998</td>\n",
       "      <td>36.509998</td>\n",
       "      <td>36.080002</td>\n",
       "      <td>36.240002</td>\n",
       "      <td>603400</td>\n",
       "      <td>-0.056222</td>\n",
       "      <td>-0.015456</td>\n",
       "    </tr>\n",
       "    <tr>\n",
       "      <th>2017-03-21</th>\n",
       "      <td>36.310001</td>\n",
       "      <td>36.480000</td>\n",
       "      <td>35.160000</td>\n",
       "      <td>35.169998</td>\n",
       "      <td>1528900</td>\n",
       "      <td>-0.164361</td>\n",
       "      <td>-0.045237</td>\n",
       "    </tr>\n",
       "    <tr>\n",
       "      <th>2017-03-22</th>\n",
       "      <td>35.110001</td>\n",
       "      <td>35.639999</td>\n",
       "      <td>35.029999</td>\n",
       "      <td>35.290001</td>\n",
       "      <td>1100600</td>\n",
       "      <td>-0.237640</td>\n",
       "      <td>-0.083718</td>\n",
       "    </tr>\n",
       "  </tbody>\n",
       "</table>\n",
       "</div>"
      ],
      "text/plain": [
       "                 Open       High        Low      Close   Volume      macd  \\\n",
       "Date                                                                        \n",
       "2017-03-16  36.770000  36.970001  36.450001  36.689999   739000  0.000000   \n",
       "2017-03-17  36.650002  36.650002  36.244999  36.360001   617100 -0.026325   \n",
       "2017-03-20  36.349998  36.509998  36.080002  36.240002   603400 -0.056222   \n",
       "2017-03-21  36.310001  36.480000  35.160000  35.169998  1528900 -0.164361   \n",
       "2017-03-22  35.110001  35.639999  35.029999  35.290001  1100600 -0.237640   \n",
       "\n",
       "                exp3  \n",
       "Date                  \n",
       "2017-03-16  0.000000  \n",
       "2017-03-17 -0.005265  \n",
       "2017-03-20 -0.015456  \n",
       "2017-03-21 -0.045237  \n",
       "2017-03-22 -0.083718  "
      ]
     },
     "execution_count": 456,
     "metadata": {},
     "output_type": "execute_result"
    }
   ],
   "source": [
    "macd = exp1-exp2\n",
    "exp3 = macd.ewm(span=9, adjust=False).mean()\n",
    "zillow_df['macd'] = macd\n",
    "zillow_df['exp3'] = exp3\n",
    "zillow_df.head()"
   ]
  },
  {
   "cell_type": "code",
   "execution_count": 457,
   "id": "5e12ffbc-11d1-4879-bf7b-9340600a5f88",
   "metadata": {},
   "outputs": [
    {
     "data": {},
     "metadata": {},
     "output_type": "display_data"
    },
    {
     "data": {
      "application/vnd.holoviews_exec.v0+json": "",
      "text/html": [
       "<div id='8776'>\n",
       "\n",
       "\n",
       "\n",
       "\n",
       "\n",
       "  <div class=\"bk-root\" id=\"9061d7f6-d6d9-4b6f-8ad5-63093da524e8\" data-root-id=\"8776\"></div>\n",
       "</div>\n",
       "<script type=\"application/javascript\">(function(root) {\n",
       "  function embed_document(root) {\n",
       "    var docs_json = {\"0574d5b8-9ff6-4f03-a581-1dc2501d987a\":{\"defs\":[{\"extends\":null,\"module\":null,\"name\":\"ReactiveHTML1\",\"overrides\":[],\"properties\":[]},{\"extends\":null,\"module\":null,\"name\":\"FlexBox1\",\"overrides\":[],\"properties\":[{\"default\":\"flex-start\",\"kind\":null,\"name\":\"align_content\"},{\"default\":\"flex-start\",\"kind\":null,\"name\":\"align_items\"},{\"default\":\"row\",\"kind\":null,\"name\":\"flex_direction\"},{\"default\":\"wrap\",\"kind\":null,\"name\":\"flex_wrap\"},{\"default\":\"flex-start\",\"kind\":null,\"name\":\"justify_content\"}]},{\"extends\":null,\"module\":null,\"name\":\"TemplateActions1\",\"overrides\":[],\"properties\":[{\"default\":0,\"kind\":null,\"name\":\"open_modal\"},{\"default\":0,\"kind\":null,\"name\":\"close_modal\"}]},{\"extends\":null,\"module\":null,\"name\":\"MaterialTemplateActions1\",\"overrides\":[],\"properties\":[{\"default\":0,\"kind\":null,\"name\":\"open_modal\"},{\"default\":0,\"kind\":null,\"name\":\"close_modal\"}]}],\"roots\":{\"references\":[{\"attributes\":{\"source\":{\"id\":\"8851\"}},\"id\":\"8858\",\"type\":\"CDSView\"},{\"attributes\":{\"mantissas\":[1,2,5],\"max_interval\":500.0,\"num_minor_ticks\":0},\"id\":\"8836\",\"type\":\"AdaptiveTicker\"},{\"attributes\":{},\"id\":\"8801\",\"type\":\"WheelZoomTool\"},{\"attributes\":{},\"id\":\"8814\",\"type\":\"AllLabels\"},{\"attributes\":{\"callback\":null,\"formatters\":{\"@{Date}\":\"datetime\"},\"renderers\":[{\"id\":\"8824\"},{\"id\":\"8857\"}],\"tags\":[\"hv_created\"],\"tooltips\":[[\"Variable\",\"@{Variable}\"],[\"Date\",\"@{Date}{%F %T}\"],[\"value\",\"@{value}\"]]},\"id\":\"8780\",\"type\":\"HoverTool\"},{\"attributes\":{\"label\":{\"value\":\"exp3\"},\"renderers\":[{\"id\":\"8857\"}]},\"id\":\"8883\",\"type\":\"LegendItem\"},{\"attributes\":{},\"id\":\"8800\",\"type\":\"PanTool\"},{\"attributes\":{\"base\":60,\"mantissas\":[1,2,5,10,15,20,30],\"max_interval\":1800000.0,\"min_interval\":1000.0,\"num_minor_ticks\":0},\"id\":\"8837\",\"type\":\"AdaptiveTicker\"},{\"attributes\":{\"base\":24,\"mantissas\":[1,2,4,6,8,12],\"max_interval\":43200000.0,\"min_interval\":3600000.0,\"num_minor_ticks\":0},\"id\":\"8838\",\"type\":\"AdaptiveTicker\"},{\"attributes\":{},\"id\":\"8789\",\"type\":\"LinearScale\"},{\"attributes\":{},\"id\":\"8799\",\"type\":\"SaveTool\"},{\"attributes\":{},\"id\":\"8847\",\"type\":\"YearsTicker\"},{\"attributes\":{\"data\":{\"Date\":{\"__ndarray__\":\"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\",\"dtype\":\"float64\",\"order\":\"little\",\"shape\":[1258]},\"Variable\":[\"macd\",\"macd\",\"macd\",\"macd\",\"macd\",\"macd\",\"macd\",\"macd\",\"macd\",\"macd\",\"macd\",\"macd\",\"macd\",\"macd\",\"macd\",\"macd\",\"macd\",\"macd\",\"macd\",\"macd\",\"macd\",\"macd\",\"macd\",\"macd\",\"macd\",\"macd\",\"macd\",\"macd\",\"macd\",\"macd\",\"macd\",\"macd\",\"macd\",\"macd\",\"macd\",\"macd\",\"macd\",\"macd\",\"macd\",\"macd\",\"macd\",\"macd\",\"macd\",\"macd\",\"macd\",\"macd\",\"macd\",\"macd\",\"macd\",\"macd\",\"macd\",\"macd\",\"macd\",\"macd\",\"macd\",\"macd\",\"macd\",\"macd\",\"macd\",\"macd\",\"macd\",\"macd\",\"macd\",\"macd\",\"macd\",\"macd\",\"macd\",\"macd\",\"macd\",\"macd\",\"macd\",\"macd\",\"macd\",\"macd\",\"macd\",\"macd\",\"macd\",\"macd\",\"macd\",\"macd\",\"macd\",\"macd\",\"macd\",\"macd\",\"macd\",\"macd\",\"macd\",\"macd\",\"macd\",\"macd\",\"macd\",\"macd\",\"macd\",\"macd\",\"macd\",\"macd\",\"macd\",\"macd\",\"macd\",\"macd\",\"macd\",\"macd\",\"macd\",\"macd\",\"macd\",\"macd\",\"macd\",\"macd\",\"macd\",\"macd\",\"macd\",\"macd\",\"macd\",\"macd\",\"macd\",\"macd\",\"macd\",\"macd\",\"macd\",\"macd\",\"macd\",\"macd\",\"macd\",\"macd\",\"macd\",\"macd\",\"macd\",\"macd\",\"macd\",\"macd\",\"macd\",\"macd\",\"macd\",\"macd\",\"macd\",\"macd\",\"macd\",\"macd\",\"macd\",\"macd\",\"macd\",\"macd\",\"macd\",\"macd\",\"macd\",\"macd\",\"macd\",\"macd\",\"macd\",\"macd\",\"macd\",\"macd\",\"macd\",\"macd\",\"macd\",\"macd\",\"macd\",\"macd\",\"macd\",\"macd\",\"macd\",\"macd\",\"macd\",\"macd\",\"macd\",\"macd\",\"macd\",\"macd\",\"macd\",\"macd\",\"macd\",\"macd\",\"macd\",\"macd\",\"macd\",\"macd\",\"macd\",\"macd\",\"macd\",\"macd\",\"macd\",\"macd\",\"macd\",\"macd\",\"macd\",\"macd\",\"macd\",\"macd\",\"macd\",\"macd\",\"macd\",\"macd\",\"macd\",\"macd\",\"macd\",\"macd\",\"macd\",\"macd\",\"macd\",\"macd\",\"macd\",\"macd\",\"macd\",\"macd\",\"macd\",\"macd\",\"macd\",\"macd\",\"macd\",\"macd\",\"macd\",\"macd\",\"macd\",\"macd\",\"macd\",\"macd\",\"macd\",\"macd\",\"macd\",\"macd\",\"macd\",\"macd\",\"macd\",\"macd\",\"macd\",\"macd\",\"macd\",\"macd\",\"macd\",\"macd\",\"macd\",\"macd\",\"macd\",\"macd\",\"macd\",\"macd\",\"macd\",\"macd\",\"macd\",\"macd\",\"macd\",\"macd\",\"macd\",\"macd\",\"macd\",\"macd\",\"macd\",\"macd\",\"macd\",\"macd\",\"macd\",\"macd\",\"macd\",\"macd\",\"macd\",\"macd\",\"macd\",\"macd\",\"macd\",\"macd\",\"macd\",\"macd\",\"macd\",\"macd\",\"macd\",\"macd\",\"macd\",\"macd\",\"macd\",\"macd\",\"macd\",\"macd\",\"macd\",\"macd\",\"macd\",\"macd\",\"macd\",\"macd\",\"macd\",\"macd\",\"macd\",\"macd\",\"macd\",\"macd\",\"macd\",\"macd\",\"macd\",\"macd\",\"macd\",\"macd\",\"macd\",\"macd\",\"macd\",\"macd\",\"macd\",\"macd\",\"macd\",\"macd\",\"macd\",\"macd\",\"macd\",\"macd\",\"macd\",\"macd\",\"macd\",\"macd\",\"macd\",\"macd\",\"macd\",\"macd\",\"macd\",\"macd\",\"macd\",\"macd\",\"macd\",\"macd\",\"macd\",\"macd\",\"macd\",\"macd\",\"macd\",\"macd\",\"macd\",\"macd\",\"macd\",\"macd\",\"macd\",\"macd\",\"macd\",\"macd\",\"macd\",\"macd\",\"macd\",\"macd\",\"macd\",\"macd\",\"macd\",\"macd\",\"macd\",\"macd\",\"macd\",\"macd\",\"macd\",\"macd\",\"macd\",\"macd\",\"macd\",\"macd\",\"macd\",\"macd\",\"macd\",\"macd\",\"macd\",\"macd\",\"macd\",\"macd\",\"macd\",\"macd\",\"macd\",\"macd\",\"macd\",\"macd\",\"macd\",\"macd\",\"macd\",\"macd\",\"macd\",\"macd\",\"macd\",\"macd\",\"macd\",\"macd\",\"macd\",\"macd\",\"macd\",\"macd\",\"macd\",\"macd\",\"macd\",\"macd\",\"macd\",\"macd\",\"macd\",\"macd\",\"macd\",\"macd\",\"macd\",\"macd\",\"macd\",\"macd\",\"macd\",\"macd\",\"macd\",\"macd\",\"macd\",\"macd\",\"macd\",\"macd\",\"macd\",\"macd\",\"macd\",\"macd\",\"macd\",\"macd\",\"macd\",\"macd\",\"macd\",\"macd\",\"macd\",\"macd\",\"macd\",\"macd\",\"macd\",\"macd\",\"macd\",\"macd\",\"macd\",\"macd\",\"macd\",\"macd\",\"macd\",\"macd\",\"macd\",\"macd\",\"macd\",\"macd\",\"macd\",\"macd\",\"macd\",\"macd\",\"macd\",\"macd\",\"macd\",\"macd\",\"macd\",\"macd\",\"macd\",\"macd\",\"macd\",\"macd\",\"macd\",\"macd\",\"macd\",\"macd\",\"macd\",\"macd\",\"macd\",\"macd\",\"macd\",\"macd\",\"macd\",\"macd\",\"macd\",\"macd\",\"macd\",\"macd\",\"macd\",\"macd\",\"macd\",\"macd\",\"macd\",\"macd\",\"macd\",\"macd\",\"macd\",\"macd\",\"macd\",\"macd\",\"macd\",\"macd\",\"macd\",\"macd\",\"macd\",\"macd\",\"macd\",\"macd\",\"macd\",\"macd\",\"macd\",\"macd\",\"macd\",\"macd\",\"macd\",\"macd\",\"macd\",\"macd\",\"macd\",\"macd\",\"macd\",\"macd\",\"macd\",\"macd\",\"macd\",\"macd\",\"macd\",\"macd\",\"macd\",\"macd\",\"macd\",\"macd\",\"macd\",\"macd\",\"macd\",\"macd\",\"macd\",\"macd\",\"macd\",\"macd\",\"macd\",\"macd\",\"macd\",\"macd\",\"macd\",\"macd\",\"macd\",\"macd\",\"macd\",\"macd\",\"macd\",\"macd\",\"macd\",\"macd\",\"macd\",\"macd\",\"macd\",\"macd\",\"macd\",\"macd\",\"macd\",\"macd\",\"macd\",\"macd\",\"macd\",\"macd\",\"macd\",\"macd\",\"macd\",\"macd\",\"macd\",\"macd\",\"macd\",\"macd\",\"macd\",\"macd\",\"macd\",\"macd\",\"macd\",\"macd\",\"macd\",\"macd\",\"macd\",\"macd\",\"macd\",\"macd\",\"macd\",\"macd\",\"macd\",\"macd\",\"macd\",\"macd\",\"macd\",\"macd\",\"macd\",\"macd\",\"macd\",\"macd\",\"macd\",\"macd\",\"macd\",\"macd\",\"macd\",\"macd\",\"macd\",\"macd\",\"macd\",\"macd\",\"macd\",\"macd\",\"macd\",\"macd\",\"macd\",\"macd\",\"macd\",\"macd\",\"macd\",\"macd\",\"macd\",\"macd\",\"macd\",\"macd\",\"macd\",\"macd\",\"macd\",\"macd\",\"macd\",\"macd\",\"macd\",\"macd\",\"macd\",\"macd\",\"macd\",\"macd\",\"macd\",\"macd\",\"macd\",\"macd\",\"macd\",\"macd\",\"macd\",\"macd\",\"macd\",\"macd\",\"macd\",\"macd\",\"macd\",\"macd\",\"macd\",\"macd\",\"macd\",\"macd\",\"macd\",\"macd\",\"macd\",\"macd\",\"macd\",\"macd\",\"macd\",\"macd\",\"macd\",\"macd\",\"macd\",\"macd\",\"macd\",\"macd\",\"macd\",\"macd\",\"macd\",\"macd\",\"macd\",\"macd\",\"macd\",\"macd\",\"macd\",\"macd\",\"macd\",\"macd\",\"macd\",\"macd\",\"macd\",\"macd\",\"macd\",\"macd\",\"macd\",\"macd\",\"macd\",\"macd\",\"macd\",\"macd\",\"macd\",\"macd\",\"macd\",\"macd\",\"macd\",\"macd\",\"macd\",\"macd\",\"macd\",\"macd\",\"macd\",\"macd\",\"macd\",\"macd\",\"macd\",\"macd\",\"macd\",\"macd\",\"macd\",\"macd\",\"macd\",\"macd\",\"macd\",\"macd\",\"macd\",\"macd\",\"macd\",\"macd\",\"macd\",\"macd\",\"macd\",\"macd\",\"macd\",\"macd\",\"macd\",\"macd\",\"macd\",\"macd\",\"macd\",\"macd\",\"macd\",\"macd\",\"macd\",\"macd\",\"macd\",\"macd\",\"macd\",\"macd\",\"macd\",\"macd\",\"macd\",\"macd\",\"macd\",\"macd\",\"macd\",\"macd\",\"macd\",\"macd\",\"macd\",\"macd\",\"macd\",\"macd\",\"macd\",\"macd\",\"macd\",\"macd\",\"macd\",\"macd\",\"macd\",\"macd\",\"macd\",\"macd\",\"macd\",\"macd\",\"macd\",\"macd\",\"macd\",\"macd\",\"macd\",\"macd\",\"macd\",\"macd\",\"macd\",\"macd\",\"macd\",\"macd\",\"macd\",\"macd\",\"macd\",\"macd\",\"macd\",\"macd\",\"macd\",\"macd\",\"macd\",\"macd\",\"macd\",\"macd\",\"macd\",\"macd\",\"macd\",\"macd\",\"macd\",\"macd\",\"macd\",\"macd\",\"macd\",\"macd\",\"macd\",\"macd\",\"macd\",\"macd\",\"macd\",\"macd\",\"macd\",\"macd\",\"macd\",\"macd\",\"macd\",\"macd\",\"macd\",\"macd\",\"macd\",\"macd\",\"macd\",\"macd\",\"macd\",\"macd\",\"macd\",\"macd\",\"macd\",\"macd\",\"macd\",\"macd\",\"macd\",\"macd\",\"macd\",\"macd\",\"macd\",\"macd\",\"macd\",\"macd\",\"macd\",\"macd\",\"macd\",\"macd\",\"macd\",\"macd\",\"macd\",\"macd\",\"macd\",\"macd\",\"macd\",\"macd\",\"macd\",\"macd\",\"macd\",\"macd\",\"macd\",\"macd\",\"macd\",\"macd\",\"macd\",\"macd\",\"macd\",\"macd\",\"macd\",\"macd\",\"macd\",\"macd\",\"macd\",\"macd\",\"macd\",\"macd\",\"macd\",\"macd\",\"macd\",\"macd\",\"macd\",\"macd\",\"macd\",\"macd\",\"macd\",\"macd\",\"macd\",\"macd\",\"macd\",\"macd\",\"macd\",\"macd\",\"macd\",\"macd\",\"macd\",\"macd\",\"macd\",\"macd\",\"macd\",\"macd\",\"macd\",\"macd\",\"macd\",\"macd\",\"macd\",\"macd\",\"macd\",\"macd\",\"macd\",\"macd\",\"macd\",\"macd\",\"macd\",\"macd\",\"macd\",\"macd\",\"macd\",\"macd\",\"macd\",\"macd\",\"macd\",\"macd\",\"macd\",\"macd\",\"macd\",\"macd\",\"macd\",\"macd\",\"macd\",\"macd\",\"macd\",\"macd\",\"macd\",\"macd\",\"macd\",\"macd\",\"macd\",\"macd\",\"macd\",\"macd\",\"macd\",\"macd\",\"macd\",\"macd\",\"macd\",\"macd\",\"macd\",\"macd\",\"macd\",\"macd\",\"macd\",\"macd\",\"macd\",\"macd\",\"macd\",\"macd\",\"macd\",\"macd\",\"macd\",\"macd\",\"macd\",\"macd\",\"macd\",\"macd\",\"macd\",\"macd\",\"macd\",\"macd\",\"macd\",\"macd\",\"macd\",\"macd\",\"macd\",\"macd\",\"macd\",\"macd\",\"macd\",\"macd\",\"macd\",\"macd\",\"macd\",\"macd\",\"macd\",\"macd\",\"macd\",\"macd\",\"macd\",\"macd\",\"macd\",\"macd\",\"macd\",\"macd\",\"macd\",\"macd\",\"macd\",\"macd\",\"macd\",\"macd\",\"macd\",\"macd\",\"macd\",\"macd\",\"macd\",\"macd\",\"macd\",\"macd\",\"macd\",\"macd\",\"macd\",\"macd\",\"macd\",\"macd\",\"macd\",\"macd\",\"macd\",\"macd\",\"macd\",\"macd\",\"macd\",\"macd\",\"macd\",\"macd\",\"macd\",\"macd\",\"macd\",\"macd\",\"macd\",\"macd\",\"macd\",\"macd\",\"macd\",\"macd\",\"macd\",\"macd\",\"macd\",\"macd\",\"macd\",\"macd\",\"macd\",\"macd\",\"macd\",\"macd\",\"macd\",\"macd\",\"macd\",\"macd\",\"macd\",\"macd\",\"macd\",\"macd\",\"macd\",\"macd\",\"macd\",\"macd\",\"macd\",\"macd\",\"macd\",\"macd\",\"macd\",\"macd\",\"macd\",\"macd\",\"macd\",\"macd\",\"macd\",\"macd\",\"macd\",\"macd\",\"macd\",\"macd\",\"macd\",\"macd\",\"macd\",\"macd\",\"macd\",\"macd\",\"macd\",\"macd\",\"macd\",\"macd\",\"macd\",\"macd\",\"macd\",\"macd\",\"macd\",\"macd\",\"macd\",\"macd\",\"macd\",\"macd\",\"macd\",\"macd\",\"macd\",\"macd\",\"macd\",\"macd\",\"macd\",\"macd\",\"macd\",\"macd\",\"macd\",\"macd\",\"macd\",\"macd\",\"macd\",\"macd\",\"macd\",\"macd\",\"macd\",\"macd\",\"macd\",\"macd\",\"macd\",\"macd\",\"macd\",\"macd\",\"macd\",\"macd\",\"macd\",\"macd\",\"macd\",\"macd\",\"macd\",\"macd\",\"macd\",\"macd\",\"macd\",\"macd\",\"macd\",\"macd\",\"macd\",\"macd\",\"macd\",\"macd\",\"macd\",\"macd\",\"macd\",\"macd\",\"macd\",\"macd\",\"macd\",\"macd\",\"macd\",\"macd\",\"macd\",\"macd\",\"macd\",\"macd\",\"macd\",\"macd\",\"macd\",\"macd\",\"macd\",\"macd\",\"macd\",\"macd\",\"macd\",\"macd\",\"macd\",\"macd\",\"macd\",\"macd\",\"macd\",\"macd\",\"macd\",\"macd\",\"macd\",\"macd\",\"macd\",\"macd\",\"macd\",\"macd\",\"macd\",\"macd\",\"macd\",\"macd\",\"macd\",\"macd\",\"macd\",\"macd\",\"macd\",\"macd\",\"macd\",\"macd\",\"macd\",\"macd\",\"macd\",\"macd\",\"macd\",\"macd\",\"macd\",\"macd\",\"macd\",\"macd\",\"macd\",\"macd\",\"macd\",\"macd\",\"macd\",\"macd\",\"macd\",\"macd\",\"macd\",\"macd\",\"macd\",\"macd\",\"macd\",\"macd\",\"macd\",\"macd\",\"macd\",\"macd\",\"macd\",\"macd\",\"macd\",\"macd\",\"macd\",\"macd\",\"macd\",\"macd\",\"macd\",\"macd\",\"macd\",\"macd\",\"macd\",\"macd\",\"macd\",\"macd\",\"macd\",\"macd\",\"macd\",\"macd\",\"macd\",\"macd\",\"macd\",\"macd\",\"macd\",\"macd\",\"macd\",\"macd\",\"macd\",\"macd\",\"macd\",\"macd\",\"macd\",\"macd\",\"macd\",\"macd\",\"macd\",\"macd\",\"macd\",\"macd\",\"macd\",\"macd\",\"macd\",\"macd\",\"macd\",\"macd\",\"macd\",\"macd\",\"macd\",\"macd\",\"macd\",\"macd\",\"macd\",\"macd\",\"macd\",\"macd\",\"macd\",\"macd\",\"macd\",\"macd\",\"macd\",\"macd\",\"macd\",\"macd\",\"macd\",\"macd\",\"macd\",\"macd\",\"macd\",\"macd\",\"macd\",\"macd\",\"macd\",\"macd\",\"macd\",\"macd\",\"macd\",\"macd\",\"macd\",\"macd\",\"macd\",\"macd\",\"macd\",\"macd\",\"macd\",\"macd\",\"macd\",\"macd\",\"macd\",\"macd\"],\"value\":{\"__ndarray__\":\"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\",\"dtype\":\"float64\",\"order\":\"little\",\"shape\":[1258]}},\"selected\":{\"id\":\"8819\"},\"selection_policy\":{\"id\":\"8833\"}},\"id\":\"8818\",\"type\":\"ColumnDataSource\"},{\"attributes\":{\"months\":[0,1,2,3,4,5,6,7,8,9,10,11]},\"id\":\"8843\",\"type\":\"MonthsTicker\"},{\"attributes\":{\"overlay\":{\"id\":\"8804\"}},\"id\":\"8802\",\"type\":\"BoxZoomTool\"},{\"attributes\":{},\"id\":\"8868\",\"type\":\"UnionRenderers\"},{\"attributes\":{\"days\":[1,15]},\"id\":\"8842\",\"type\":\"DaysTicker\"},{\"attributes\":{},\"id\":\"8803\",\"type\":\"ResetTool\"},{\"attributes\":{\"label\":{\"value\":\"macd\"},\"renderers\":[{\"id\":\"8824\"}]},\"id\":\"8849\",\"type\":\"LegendItem\"},{\"attributes\":{\"days\":[1,2,3,4,5,6,7,8,9,10,11,12,13,14,15,16,17,18,19,20,21,22,23,24,25,26,27,28,29,30,31]},\"id\":\"8839\",\"type\":\"DaysTicker\"},{\"attributes\":{\"days\":[1,4,7,10,13,16,19,22,25,28]},\"id\":\"8840\",\"type\":\"DaysTicker\"},{\"attributes\":{},\"id\":\"8796\",\"type\":\"BasicTicker\"},{\"attributes\":{\"bottom_units\":\"screen\",\"coordinates\":null,\"fill_alpha\":0.5,\"fill_color\":\"lightgrey\",\"group\":null,\"left_units\":\"screen\",\"level\":\"overlay\",\"line_alpha\":1.0,\"line_color\":\"black\",\"line_dash\":[4,4],\"line_width\":2,\"right_units\":\"screen\",\"syncable\":false,\"top_units\":\"screen\"},\"id\":\"8804\",\"type\":\"BoxAnnotation\"},{\"attributes\":{\"days\":[1,8,15,22]},\"id\":\"8841\",\"type\":\"DaysTicker\"},{\"attributes\":{},\"id\":\"8816\",\"type\":\"BasicTickFormatter\"},{\"attributes\":{\"months\":[0,6]},\"id\":\"8846\",\"type\":\"MonthsTicker\"},{\"attributes\":{\"months\":[0,2,4,6,8,10]},\"id\":\"8844\",\"type\":\"MonthsTicker\"},{\"attributes\":{},\"id\":\"8819\",\"type\":\"Selection\"},{\"attributes\":{\"coordinates\":null,\"group\":null,\"text_color\":\"black\",\"text_font_size\":\"12pt\"},\"id\":\"8783\",\"type\":\"Title\"},{\"attributes\":{\"months\":[0,4,8]},\"id\":\"8845\",\"type\":\"MonthsTicker\"},{\"attributes\":{\"click_policy\":\"mute\",\"coordinates\":null,\"group\":null,\"items\":[{\"id\":\"8849\"},{\"id\":\"8883\"}],\"location\":[0,0],\"title\":\"Variable\"},\"id\":\"8848\",\"type\":\"Legend\"},{\"attributes\":{},\"id\":\"8833\",\"type\":\"UnionRenderers\"},{\"attributes\":{\"line_alpha\":0.2,\"line_color\":\"#30a2da\",\"line_width\":2,\"x\":{\"field\":\"Date\"},\"y\":{\"field\":\"value\"}},\"id\":\"8823\",\"type\":\"Line\"},{\"attributes\":{\"end\":1647216000000.0,\"reset_end\":1647216000000.0,\"reset_start\":1489622400000.0,\"start\":1489622400000.0,\"tags\":[[[\"Date\",\"Date\",null]]]},\"id\":\"8778\",\"type\":\"Range1d\"},{\"attributes\":{\"children\":[{\"id\":\"8777\"},{\"id\":\"8782\"},{\"id\":\"9101\"}],\"margin\":[0,0,0,0],\"name\":\"Row11492\",\"tags\":[\"embedded\"]},\"id\":\"8776\",\"type\":\"Row\"},{\"attributes\":{\"below\":[{\"id\":\"8791\"}],\"center\":[{\"id\":\"8794\"},{\"id\":\"8798\"}],\"height\":300,\"left\":[{\"id\":\"8795\"}],\"margin\":[5,5,5,5],\"min_border_bottom\":10,\"min_border_left\":10,\"min_border_right\":10,\"min_border_top\":10,\"renderers\":[{\"id\":\"8824\"},{\"id\":\"8857\"}],\"right\":[{\"id\":\"8848\"}],\"sizing_mode\":\"fixed\",\"title\":{\"id\":\"8783\"},\"toolbar\":{\"id\":\"8805\"},\"width\":700,\"x_range\":{\"id\":\"8778\"},\"x_scale\":{\"id\":\"8787\"},\"y_range\":{\"id\":\"8779\"},\"y_scale\":{\"id\":\"8789\"}},\"id\":\"8782\",\"subtype\":\"Figure\",\"type\":\"Plot\"},{\"attributes\":{\"end\":17.158192076908843,\"reset_end\":17.158192076908843,\"reset_start\":-11.43585452371565,\"start\":-11.43585452371565,\"tags\":[[[\"value\",\"value\",null]]]},\"id\":\"8779\",\"type\":\"Range1d\"},{\"attributes\":{\"tools\":[{\"id\":\"8780\"},{\"id\":\"8799\"},{\"id\":\"8800\"},{\"id\":\"8801\"},{\"id\":\"8802\"},{\"id\":\"8803\"}]},\"id\":\"8805\",\"type\":\"Toolbar\"},{\"attributes\":{\"data\":{\"Date\":{\"__ndarray__\":\"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\",\"dtype\":\"float64\",\"order\":\"little\",\"shape\":[1258]},\"Variable\":[\"exp3\",\"exp3\",\"exp3\",\"exp3\",\"exp3\",\"exp3\",\"exp3\",\"exp3\",\"exp3\",\"exp3\",\"exp3\",\"exp3\",\"exp3\",\"exp3\",\"exp3\",\"exp3\",\"exp3\",\"exp3\",\"exp3\",\"exp3\",\"exp3\",\"exp3\",\"exp3\",\"exp3\",\"exp3\",\"exp3\",\"exp3\",\"exp3\",\"exp3\",\"exp3\",\"exp3\",\"exp3\",\"exp3\",\"exp3\",\"exp3\",\"exp3\",\"exp3\",\"exp3\",\"exp3\",\"exp3\",\"exp3\",\"exp3\",\"exp3\",\"exp3\",\"exp3\",\"exp3\",\"exp3\",\"exp3\",\"exp3\",\"exp3\",\"exp3\",\"exp3\",\"exp3\",\"exp3\",\"exp3\",\"exp3\",\"exp3\",\"exp3\",\"exp3\",\"exp3\",\"exp3\",\"exp3\",\"exp3\",\"exp3\",\"exp3\",\"exp3\",\"exp3\",\"exp3\",\"exp3\",\"exp3\",\"exp3\",\"exp3\",\"exp3\",\"exp3\",\"exp3\",\"exp3\",\"exp3\",\"exp3\",\"exp3\",\"exp3\",\"exp3\",\"exp3\",\"exp3\",\"exp3\",\"exp3\",\"exp3\",\"exp3\",\"exp3\",\"exp3\",\"exp3\",\"exp3\",\"exp3\",\"exp3\",\"exp3\",\"exp3\",\"exp3\",\"exp3\",\"exp3\",\"exp3\",\"exp3\",\"exp3\",\"exp3\",\"exp3\",\"exp3\",\"exp3\",\"exp3\",\"exp3\",\"exp3\",\"exp3\",\"exp3\",\"exp3\",\"exp3\",\"exp3\",\"exp3\",\"exp3\",\"exp3\",\"exp3\",\"exp3\",\"exp3\",\"exp3\",\"exp3\",\"exp3\",\"exp3\",\"exp3\",\"exp3\",\"exp3\",\"exp3\",\"exp3\",\"exp3\",\"exp3\",\"exp3\",\"exp3\",\"exp3\",\"exp3\",\"exp3\",\"exp3\",\"exp3\",\"exp3\",\"exp3\",\"exp3\",\"exp3\",\"exp3\",\"exp3\",\"exp3\",\"exp3\",\"exp3\",\"exp3\",\"exp3\",\"exp3\",\"exp3\",\"exp3\",\"exp3\",\"exp3\",\"exp3\",\"exp3\",\"exp3\",\"exp3\",\"exp3\",\"exp3\",\"exp3\",\"exp3\",\"exp3\",\"exp3\",\"exp3\",\"exp3\",\"exp3\",\"exp3\",\"exp3\",\"exp3\",\"exp3\",\"exp3\",\"exp3\",\"exp3\",\"exp3\",\"exp3\",\"exp3\",\"exp3\",\"exp3\",\"exp3\",\"exp3\",\"exp3\",\"exp3\",\"exp3\",\"exp3\",\"exp3\",\"exp3\",\"exp3\",\"exp3\",\"exp3\",\"exp3\",\"exp3\",\"exp3\",\"exp3\",\"exp3\",\"exp3\",\"exp3\",\"exp3\",\"exp3\",\"exp3\",\"exp3\",\"exp3\",\"exp3\",\"exp3\",\"exp3\",\"exp3\",\"exp3\",\"exp3\",\"exp3\",\"exp3\",\"exp3\",\"exp3\",\"exp3\",\"exp3\",\"exp3\",\"exp3\",\"exp3\",\"exp3\",\"exp3\",\"exp3\",\"exp3\",\"exp3\",\"exp3\",\"exp3\",\"exp3\",\"exp3\",\"exp3\",\"exp3\",\"exp3\",\"exp3\",\"exp3\",\"exp3\",\"exp3\",\"exp3\",\"exp3\",\"exp3\",\"exp3\",\"exp3\",\"exp3\",\"exp3\",\"exp3\",\"exp3\",\"exp3\",\"exp3\",\"exp3\",\"exp3\",\"exp3\",\"exp3\",\"exp3\",\"exp3\",\"exp3\",\"exp3\",\"exp3\",\"exp3\",\"exp3\",\"exp3\",\"exp3\",\"exp3\",\"exp3\",\"exp3\",\"exp3\",\"exp3\",\"exp3\",\"exp3\",\"exp3\",\"exp3\",\"exp3\",\"exp3\",\"exp3\",\"exp3\",\"exp3\",\"exp3\",\"exp3\",\"exp3\",\"exp3\",\"exp3\",\"exp3\",\"exp3\",\"exp3\",\"exp3\",\"exp3\",\"exp3\",\"exp3\",\"exp3\",\"exp3\",\"exp3\",\"exp3\",\"exp3\",\"exp3\",\"exp3\",\"exp3\",\"exp3\",\"exp3\",\"exp3\",\"exp3\",\"exp3\",\"exp3\",\"exp3\",\"exp3\",\"exp3\",\"exp3\",\"exp3\",\"exp3\",\"exp3\",\"exp3\",\"exp3\",\"exp3\",\"exp3\",\"exp3\",\"exp3\",\"exp3\",\"exp3\",\"exp3\",\"exp3\",\"exp3\",\"exp3\",\"exp3\",\"exp3\",\"exp3\",\"exp3\",\"exp3\",\"exp3\",\"exp3\",\"exp3\",\"exp3\",\"exp3\",\"exp3\",\"exp3\",\"exp3\",\"exp3\",\"exp3\",\"exp3\",\"exp3\",\"exp3\",\"exp3\",\"exp3\",\"exp3\",\"exp3\",\"exp3\",\"exp3\",\"exp3\",\"exp3\",\"exp3\",\"exp3\",\"exp3\",\"exp3\",\"exp3\",\"exp3\",\"exp3\",\"exp3\",\"exp3\",\"exp3\",\"exp3\",\"exp3\",\"exp3\",\"exp3\",\"exp3\",\"exp3\",\"exp3\",\"exp3\",\"exp3\",\"exp3\",\"exp3\",\"exp3\",\"exp3\",\"exp3\",\"exp3\",\"exp3\",\"exp3\",\"exp3\",\"exp3\",\"exp3\",\"exp3\",\"exp3\",\"exp3\",\"exp3\",\"exp3\",\"exp3\",\"exp3\",\"exp3\",\"exp3\",\"exp3\",\"exp3\",\"exp3\",\"exp3\",\"exp3\",\"exp3\",\"exp3\",\"exp3\",\"exp3\",\"exp3\",\"exp3\",\"exp3\",\"exp3\",\"exp3\",\"exp3\",\"exp3\",\"exp3\",\"exp3\",\"exp3\",\"exp3\",\"exp3\",\"exp3\",\"exp3\",\"exp3\",\"exp3\",\"exp3\",\"exp3\",\"exp3\",\"exp3\",\"exp3\",\"exp3\",\"exp3\",\"exp3\",\"exp3\",\"exp3\",\"exp3\",\"exp3\",\"exp3\",\"exp3\",\"exp3\",\"exp3\",\"exp3\",\"exp3\",\"exp3\",\"exp3\",\"exp3\",\"exp3\",\"exp3\",\"exp3\",\"exp3\",\"exp3\",\"exp3\",\"exp3\",\"exp3\",\"exp3\",\"exp3\",\"exp3\",\"exp3\",\"exp3\",\"exp3\",\"exp3\",\"exp3\",\"exp3\",\"exp3\",\"exp3\",\"exp3\",\"exp3\",\"exp3\",\"exp3\",\"exp3\",\"exp3\",\"exp3\",\"exp3\",\"exp3\",\"exp3\",\"exp3\",\"exp3\",\"exp3\",\"exp3\",\"exp3\",\"exp3\",\"exp3\",\"exp3\",\"exp3\",\"exp3\",\"exp3\",\"exp3\",\"exp3\",\"exp3\",\"exp3\",\"exp3\",\"exp3\",\"exp3\",\"exp3\",\"exp3\",\"exp3\",\"exp3\",\"exp3\",\"exp3\",\"exp3\",\"exp3\",\"exp3\",\"exp3\",\"exp3\",\"exp3\",\"exp3\",\"exp3\",\"exp3\",\"exp3\",\"exp3\",\"exp3\",\"exp3\",\"exp3\",\"exp3\",\"exp3\",\"exp3\",\"exp3\",\"exp3\",\"exp3\",\"exp3\",\"exp3\",\"exp3\",\"exp3\",\"exp3\",\"exp3\",\"exp3\",\"exp3\",\"exp3\",\"exp3\",\"exp3\",\"exp3\",\"exp3\",\"exp3\",\"exp3\",\"exp3\",\"exp3\",\"exp3\",\"exp3\",\"exp3\",\"exp3\",\"exp3\",\"exp3\",\"exp3\",\"exp3\",\"exp3\",\"exp3\",\"exp3\",\"exp3\",\"exp3\",\"exp3\",\"exp3\",\"exp3\",\"exp3\",\"exp3\",\"exp3\",\"exp3\",\"exp3\",\"exp3\",\"exp3\",\"exp3\",\"exp3\",\"exp3\",\"exp3\",\"exp3\",\"exp3\",\"exp3\",\"exp3\",\"exp3\",\"exp3\",\"exp3\",\"exp3\",\"exp3\",\"exp3\",\"exp3\",\"exp3\",\"exp3\",\"exp3\",\"exp3\",\"exp3\",\"exp3\",\"exp3\",\"exp3\",\"exp3\",\"exp3\",\"exp3\",\"exp3\",\"exp3\",\"exp3\",\"exp3\",\"exp3\",\"exp3\",\"exp3\",\"exp3\",\"exp3\",\"exp3\",\"exp3\",\"exp3\",\"exp3\",\"exp3\",\"exp3\",\"exp3\",\"exp3\",\"exp3\",\"exp3\",\"exp3\",\"exp3\",\"exp3\",\"exp3\",\"exp3\",\"exp3\",\"exp3\",\"exp3\",\"exp3\",\"exp3\",\"exp3\",\"exp3\",\"exp3\",\"exp3\",\"exp3\",\"exp3\",\"exp3\",\"exp3\",\"exp3\",\"exp3\",\"exp3\",\"exp3\",\"exp3\",\"exp3\",\"exp3\",\"exp3\",\"exp3\",\"exp3\",\"exp3\",\"exp3\",\"exp3\",\"exp3\",\"exp3\",\"exp3\",\"exp3\",\"exp3\",\"exp3\",\"exp3\",\"exp3\",\"exp3\",\"exp3\",\"exp3\",\"exp3\",\"exp3\",\"exp3\",\"exp3\",\"exp3\",\"exp3\",\"exp3\",\"exp3\",\"exp3\",\"exp3\",\"exp3\",\"exp3\",\"exp3\",\"exp3\",\"exp3\",\"exp3\",\"exp3\",\"exp3\",\"exp3\",\"exp3\",\"exp3\",\"exp3\",\"exp3\",\"exp3\",\"exp3\",\"exp3\",\"exp3\",\"exp3\",\"exp3\",\"exp3\",\"exp3\",\"exp3\",\"exp3\",\"exp3\",\"exp3\",\"exp3\",\"exp3\",\"exp3\",\"exp3\",\"exp3\",\"exp3\",\"exp3\",\"exp3\",\"exp3\",\"exp3\",\"exp3\",\"exp3\",\"exp3\",\"exp3\",\"exp3\",\"exp3\",\"exp3\",\"exp3\",\"exp3\",\"exp3\",\"exp3\",\"exp3\",\"exp3\",\"exp3\",\"exp3\",\"exp3\",\"exp3\",\"exp3\",\"exp3\",\"exp3\",\"exp3\",\"exp3\",\"exp3\",\"exp3\",\"exp3\",\"exp3\",\"exp3\",\"exp3\",\"exp3\",\"exp3\",\"exp3\",\"exp3\",\"exp3\",\"exp3\",\"exp3\",\"exp3\",\"exp3\",\"exp3\",\"exp3\",\"exp3\",\"exp3\",\"exp3\",\"exp3\",\"exp3\",\"exp3\",\"exp3\",\"exp3\",\"exp3\",\"exp3\",\"exp3\",\"exp3\",\"exp3\",\"exp3\",\"exp3\",\"exp3\",\"exp3\",\"exp3\",\"exp3\",\"exp3\",\"exp3\",\"exp3\",\"exp3\",\"exp3\",\"exp3\",\"exp3\",\"exp3\",\"exp3\",\"exp3\",\"exp3\",\"exp3\",\"exp3\",\"exp3\",\"exp3\",\"exp3\",\"exp3\",\"exp3\",\"exp3\",\"exp3\",\"exp3\",\"exp3\",\"exp3\",\"exp3\",\"exp3\",\"exp3\",\"exp3\",\"exp3\",\"exp3\",\"exp3\",\"exp3\",\"exp3\",\"exp3\",\"exp3\",\"exp3\",\"exp3\",\"exp3\",\"exp3\",\"exp3\",\"exp3\",\"exp3\",\"exp3\",\"exp3\",\"exp3\",\"exp3\",\"exp3\",\"exp3\",\"exp3\",\"exp3\",\"exp3\",\"exp3\",\"exp3\",\"exp3\",\"exp3\",\"exp3\",\"exp3\",\"exp3\",\"exp3\",\"exp3\",\"exp3\",\"exp3\",\"exp3\",\"exp3\",\"exp3\",\"exp3\",\"exp3\",\"exp3\",\"exp3\",\"exp3\",\"exp3\",\"exp3\",\"exp3\",\"exp3\",\"exp3\",\"exp3\",\"exp3\",\"exp3\",\"exp3\",\"exp3\",\"exp3\",\"exp3\",\"exp3\",\"exp3\",\"exp3\",\"exp3\",\"exp3\",\"exp3\",\"exp3\",\"exp3\",\"exp3\",\"exp3\",\"exp3\",\"exp3\",\"exp3\",\"exp3\",\"exp3\",\"exp3\",\"exp3\",\"exp3\",\"exp3\",\"exp3\",\"exp3\",\"exp3\",\"exp3\",\"exp3\",\"exp3\",\"exp3\",\"exp3\",\"exp3\",\"exp3\",\"exp3\",\"exp3\",\"exp3\",\"exp3\",\"exp3\",\"exp3\",\"exp3\",\"exp3\",\"exp3\",\"exp3\",\"exp3\",\"exp3\",\"exp3\",\"exp3\",\"exp3\",\"exp3\",\"exp3\",\"exp3\",\"exp3\",\"exp3\",\"exp3\",\"exp3\",\"exp3\",\"exp3\",\"exp3\",\"exp3\",\"exp3\",\"exp3\",\"exp3\",\"exp3\",\"exp3\",\"exp3\",\"exp3\",\"exp3\",\"exp3\",\"exp3\",\"exp3\",\"exp3\",\"exp3\",\"exp3\",\"exp3\",\"exp3\",\"exp3\",\"exp3\",\"exp3\",\"exp3\",\"exp3\",\"exp3\",\"exp3\",\"exp3\",\"exp3\",\"exp3\",\"exp3\",\"exp3\",\"exp3\",\"exp3\",\"exp3\",\"exp3\",\"exp3\",\"exp3\",\"exp3\",\"exp3\",\"exp3\",\"exp3\",\"exp3\",\"exp3\",\"exp3\",\"exp3\",\"exp3\",\"exp3\",\"exp3\",\"exp3\",\"exp3\",\"exp3\",\"exp3\",\"exp3\",\"exp3\",\"exp3\",\"exp3\",\"exp3\",\"exp3\",\"exp3\",\"exp3\",\"exp3\",\"exp3\",\"exp3\",\"exp3\",\"exp3\",\"exp3\",\"exp3\",\"exp3\",\"exp3\",\"exp3\",\"exp3\",\"exp3\",\"exp3\",\"exp3\",\"exp3\",\"exp3\",\"exp3\",\"exp3\",\"exp3\",\"exp3\",\"exp3\",\"exp3\",\"exp3\",\"exp3\",\"exp3\",\"exp3\",\"exp3\",\"exp3\",\"exp3\",\"exp3\",\"exp3\",\"exp3\",\"exp3\",\"exp3\",\"exp3\",\"exp3\",\"exp3\",\"exp3\",\"exp3\",\"exp3\",\"exp3\",\"exp3\",\"exp3\",\"exp3\",\"exp3\",\"exp3\",\"exp3\",\"exp3\",\"exp3\",\"exp3\",\"exp3\",\"exp3\",\"exp3\",\"exp3\",\"exp3\",\"exp3\",\"exp3\",\"exp3\",\"exp3\",\"exp3\",\"exp3\",\"exp3\",\"exp3\",\"exp3\",\"exp3\",\"exp3\",\"exp3\",\"exp3\",\"exp3\",\"exp3\",\"exp3\",\"exp3\",\"exp3\",\"exp3\",\"exp3\",\"exp3\",\"exp3\",\"exp3\",\"exp3\",\"exp3\",\"exp3\",\"exp3\",\"exp3\",\"exp3\",\"exp3\",\"exp3\",\"exp3\",\"exp3\",\"exp3\",\"exp3\",\"exp3\",\"exp3\",\"exp3\",\"exp3\",\"exp3\",\"exp3\",\"exp3\",\"exp3\",\"exp3\",\"exp3\",\"exp3\",\"exp3\",\"exp3\",\"exp3\",\"exp3\",\"exp3\",\"exp3\",\"exp3\",\"exp3\",\"exp3\",\"exp3\",\"exp3\",\"exp3\",\"exp3\",\"exp3\",\"exp3\",\"exp3\",\"exp3\",\"exp3\",\"exp3\",\"exp3\",\"exp3\",\"exp3\",\"exp3\",\"exp3\",\"exp3\",\"exp3\",\"exp3\",\"exp3\",\"exp3\",\"exp3\",\"exp3\",\"exp3\",\"exp3\",\"exp3\",\"exp3\",\"exp3\",\"exp3\",\"exp3\",\"exp3\",\"exp3\",\"exp3\",\"exp3\",\"exp3\",\"exp3\",\"exp3\",\"exp3\",\"exp3\",\"exp3\",\"exp3\",\"exp3\",\"exp3\",\"exp3\",\"exp3\",\"exp3\",\"exp3\",\"exp3\",\"exp3\",\"exp3\",\"exp3\",\"exp3\",\"exp3\",\"exp3\",\"exp3\",\"exp3\",\"exp3\",\"exp3\",\"exp3\",\"exp3\",\"exp3\",\"exp3\",\"exp3\",\"exp3\",\"exp3\",\"exp3\",\"exp3\",\"exp3\",\"exp3\",\"exp3\",\"exp3\",\"exp3\",\"exp3\",\"exp3\",\"exp3\",\"exp3\",\"exp3\",\"exp3\",\"exp3\",\"exp3\",\"exp3\",\"exp3\",\"exp3\",\"exp3\",\"exp3\",\"exp3\",\"exp3\",\"exp3\",\"exp3\",\"exp3\",\"exp3\",\"exp3\",\"exp3\",\"exp3\",\"exp3\",\"exp3\",\"exp3\",\"exp3\",\"exp3\",\"exp3\",\"exp3\",\"exp3\",\"exp3\",\"exp3\",\"exp3\",\"exp3\",\"exp3\",\"exp3\",\"exp3\",\"exp3\",\"exp3\",\"exp3\",\"exp3\",\"exp3\",\"exp3\",\"exp3\",\"exp3\",\"exp3\",\"exp3\",\"exp3\",\"exp3\",\"exp3\",\"exp3\",\"exp3\",\"exp3\",\"exp3\",\"exp3\",\"exp3\",\"exp3\",\"exp3\",\"exp3\",\"exp3\",\"exp3\",\"exp3\",\"exp3\",\"exp3\",\"exp3\",\"exp3\",\"exp3\",\"exp3\",\"exp3\",\"exp3\",\"exp3\",\"exp3\",\"exp3\",\"exp3\",\"exp3\",\"exp3\",\"exp3\",\"exp3\",\"exp3\",\"exp3\",\"exp3\",\"exp3\",\"exp3\",\"exp3\",\"exp3\",\"exp3\",\"exp3\",\"exp3\",\"exp3\",\"exp3\",\"exp3\",\"exp3\",\"exp3\",\"exp3\",\"exp3\",\"exp3\",\"exp3\",\"exp3\",\"exp3\",\"exp3\",\"exp3\",\"exp3\",\"exp3\",\"exp3\",\"exp3\",\"exp3\",\"exp3\",\"exp3\",\"exp3\",\"exp3\",\"exp3\",\"exp3\",\"exp3\",\"exp3\",\"exp3\",\"exp3\",\"exp3\",\"exp3\",\"exp3\",\"exp3\",\"exp3\",\"exp3\",\"exp3\",\"exp3\",\"exp3\",\"exp3\",\"exp3\",\"exp3\",\"exp3\",\"exp3\",\"exp3\",\"exp3\",\"exp3\",\"exp3\",\"exp3\",\"exp3\",\"exp3\",\"exp3\",\"exp3\",\"exp3\",\"exp3\",\"exp3\",\"exp3\",\"exp3\",\"exp3\",\"exp3\",\"exp3\",\"exp3\",\"exp3\",\"exp3\",\"exp3\",\"exp3\",\"exp3\",\"exp3\",\"exp3\"],\"value\":{\"__ndarray__\":\"AAAAAAAAAADN7IajrJB1v+xRBmuQp4+/YmiqdVkpp7+ObOeQiW61v6CjHQikpsO/tBfkq+M3zr/IvsyeNXPUvzplJlbqbdq/Lwv2qo/S37/GAHIZFmHiv8WYXe1lVeS/6hQ0o77G5b+WHJtFaa7mv4ZNBIeGYue/hcSP87ul57+32DqMaHXnv7lyvOk7vea/4UWSTJut5b9Bk+2/+23kv8FFYPyBAeO/2z2jT5Y/4b9f6PB1uSDev39zTyc54ti/ZiPuW3sd07/XEwU9V/vJv8AHYrqwrbq/wCxugyXaaD/2RLagyC3APzBUD1EDJtE/QC/o5obc2T+a6d9l/GPhP8iVFXgUjuU/oTmEVAcQ6T8bQ7Ac6F3sP8uqvZOIm/A/o1bU5Pk+8z9pVRjyC5r1P8g7cymZufc/bYJp2gCS+T++STT4mv76PxjMh704IPw/TmyIJiE7/T+/opZ6l2z9P6b4E+9tAv0/LNlyslcL/D+kKwX1i8f6PyqhpBzlrfk/PFJFWejp+D/khZyVF0P4P2ohTXxWsPc/W8TwztQt9z8wOTYrybD2P/qKwVaXffY/FbdBgsWF9j9eLjwNCJD2PyXtZoRCrfY/Cu+32S3d9j/c3mLKWAb3Pwpc1Idr1vY/lRSIdtZj9j8r190Ds/T1P6nPQE+3ovU/x7pJrkNO9T+TymNEffX0P9yIsHP32vQ/yieNa08Q9T/OPjOiZqX1P8UeFd8HlfY/Uag5Jv4X+D+UQzao56X5Pyp3aTcCi/o/wt55GhkO+z8ppP37WQ/7P3puCkER8Po/CDsHd4Kk+j+B+7b3dyj6PxsReWHUJ/k/ispKAjuf9z/1giEHV7H1PzdTpPwxkfM/2XuKJxLr8D+opFvftmPsPyAPHjsC4+c/jY1dnRp05D99KmSaJYfhP0glmOOzKN0/Ot6TLzhi1j/22v0qUnXOPyzkSxqb98A/jWAdxNZoqT8gB3bTWE2Rv9PPGDjr8bO/Vbml5phLwL8Rb89dqHDFv0FBX4ET5ci/m1TD9qkSy799IVZkSVvMv/4d6Cm6UM2/MlckoYtWyb/2HnKFI4rBv5IxOKzyk8C/3BncAm05yr+mMkcRSH/Uvwbbdn9kbty/Ke585ax84r/6HZ8CU9vmv4hU379uyOu/8DrS2SB18L8T8kQ01Ovyv/z8qeFxQfW/6v1dfsBO97/Vkr35JPv4vz7XeQpbavq/zDr/CJt9+793aiMFXuj7vya0b+VB1vu/Bp9YBTZY+79yKwG65Yn6v0IWBzXGrfm/iT5ZXzzV+L+uNuIrMfn3v580ijN2XPe/DdYJhmSM9r/ewCtZ3zf1vwsQb+6/+/O/ifQ+tL+V8r8BoOYyNAfxv8ILw/I0nO6/6Ldn5xFz67+uxrKZJXDov/JtqJNhzuW/aDuF+Ufr478tXVv6FIziv1iYFj/okuG/utdjbpPH4L8qY7bfrcDfv6LAluO3Ot2/TyC1Fp3s2b/AoHAIzeLVv4AXA9fRkdC/Z2gjl+vVxb/YMRfRZY2zv06VKTM3V5E/RJ7HtOvAuT+C8QHfNkjFP2hGhXnpXcw/qscLOTnu0D/VP5Tt+JPSPyuXrPXK5dM/ViAfBNpI1D/5Zc4LqzHUP3tEZHX70tM/lkJlyTrt0j/FWHHuQeDRP4Rb+bOsO9A/1OUzyjM7zj9EPPT8aRzMP53gaEknlMk/sXmDvvWtxz/BF8bZrTjEP2gqa+63nbw/utyaHWg6sj+QzyKPc0SlPzTdc8nPE3s/USSKuagQir+qDci7lkWgv0Qo/kDuH7C/N9qbIMhSu7+wUnD4WwvEv/SkLDlw58i/xGc8vZl0yr+emoo8OMDJvxlz8hwjgse/SLwt3heCw7+nuXyyJMG7v6V2swdUQau/8P0l11n7jj9lL2rTMZ+1P1z/psoTO8A/sBjiPuaCwz/A48vkzsPEPwAccc3X9cI/mn1g8S74vz8V/HMg+b+6P0QRYlIugrc/0Es4IUa+sT+BAA5M6MmqPwFuFQzNkKE/AUwuy+iqoj/O8IOkUZChPwxPFs7wLaM/1rDePQgHqz/w9WNoQfS4P2Dg0SFJ8MM/gOfjkiGgyj+AIidkXC3QP+dw0IkKNdI/oG6f+Mol0z9NGrCYfCPTP4sId40X+9E/otZcyjG30T8C5r930nvSP5uyrUWV9dI/Sf2TyXGs0z+62H8Kv5vUP0hfNF+h+9Q/1Dl9fZ1G1T+qvDu+yobXP26uisEs1do/2LhTaelu3j8KMzEBMw3hPy+evuBue+I/zHgJyiLV4j/jTppfkZ/iP3ZS2fNkb+I/eGUt8l464j8GhgjWLzniPyxKPMpoPuM/iiiDShZg5D9IbDECokHlPzrXijs9uuU/Se2tiXD95T+u1PxGPMjlPxj/3USVH+U/BhRLQDH04z/4AzcH1gLjP1NAZp/6I+M/kDSiaTNC4z9aO99JreLiP/wwkAokaeI/MI1LXgAB4z8NiM1gAUrkP7FooPdvvOU/6O7Ykjtz5z8gdHcFzEPpPxpafmBmH+s/SUz36SpE7D97Yg+9mp/sP3wiEOpRq+w/5Cdee73m7D/37ww8/FHtP5+Q2InZZ+4/0zYiWIR48D9PKEMnYXDyP+bKFFRR+/Q/5jhRwE+o9z/+utsRvJX6P9Ijf6QQ6f0/a46YouqnAEB/xh0+mG4CQCb10U5mEARArNuLf+GGBUCt8nWeSpMGQCWa1T8vSAdAN8S0hOOrB0DmunRjcpIHQLUw+0y18QZArru0OdUqBkD7ol7L7QQFQKMWRhkXnwNA88vvYEUjAkCco5dGiYgAQLrXVKZA7/0/ds4o0T7l+j9rwuofbOr3P4Pw4vAoAvU/T9aeOdwC8j8Lt8gTPBLvP2MykBsMyuo/T8KkJwhK5z+zJnHPap/iP2upeHu5Wto/q6k+Oa4Tzj+8j7WuUEKpPw6OwhjXs8S/BrvtZXPs179QeHKeOf/hv03KFqU0Vue/co7Qctv/67+uL9JeZQPwv6WgsqnFsvG/RDcvIx+88r/QRCMbMPTyv9OM0yWLUvK/zwEZv8n58L9YqFU7ub3tv+3jJXutK+e/FhRtJ+qm378jwowqPsTOvwAMxjwJoi2/MYsqt5Qcyz+uye5at/3YPz+SXxH1098/Dd9UMaYi4j8xHDrCLv/iP4FeEEm0sOI/DgEA1Ci64T++a1hVjFvgP9jha3VuJeA/LVgNDcZe4T+kgxzWeXfjP93Qd+QCP+U/PiGCwTEl6D8yvgko2ObrP6gJ5rZsJfA/c2NI1Qd38j/2oTLFkxT1P9gcElWBDPg/Oj1Mdx/a+j8CM9YqZ5P9P04IZ3JADABAKLXCr2VbAUA3y6oOTosCQJDD3+nSsANAs9eSuaPEBEDv1Lg/+JgFQBIPCLI69gVAG+K12ccqBkBWNrRL/NkFQMJW2zmuIAVA/C0j9Q4MBEAeHM5co8ICQIVGwx4uWwFAYq+07EtL/z/i+dOrurb7P6+lHpXKdfg/Bkxo6UaJ9T94XpCcrQ3zP3RIRAQKU/E/oGtS1Z3m7z+au6Sb90vtP1U8xq27Nes/RXZrNjc46j8EEDFw9sfpP8QvcTTbsuk/6q2Dl1Qb6j+i1u/5TnPqP5w1yIWsp+o/JLNoLPM16j9qtyRfzNbpP1ayDT6VXeg/3twCbuTZ5j8MU9dlF1DlP4pmGxe8peE/3ceIZm5/1z8vjrT+T+TCP+nUp4e/NrG/SAjX0ZGx0L8H/dxbGRPbv6oE/sPCf+G/7z5Z2iPU6L/TAqm+MY/wv0+wHXQVwPS/0yunVrw0+b8cdgXYh/T9v8tiCmOKMwHAFo7GzTRXA8Cr14nRnkcFwPxpeR48/QbAKoRiXcQxCMBpjzZ/F+cIwPFGPj5GRwnAYedSrFlsCcByLaRr8GsJwMzTipwPLAnAoUOlKNuyCMB+Kxq6swsIwPJAiRv3OgfAmfmHyIA/BsD08cZ71EgFwAdmP1n/VQTA6UCOBRjKA8ABVxsPBHEDwL6Ju8o8CgPAbp7gJyZ0AsAV7aqRHLABwJ7m8CWe7QDAqCBkzV4uAMDnHqE2Inn/v6AqFV2w1v6/2gi8YD52/r/IKxYs2g3+v5MKyF/3Df6/MPyZ0qQw/r+tX44Peyf+v4vELCTCQv6/4lN2yhUy/r+OhT0WKLH9vywszt67Xv2/l1bPFUIf/b8A6h1Vxsf8v8eSjipiVPy/muUaO6X4+782mURssNv7vwtyeqvBNvy/Kk0bqVoQ/b9IbMMMqCj+vwBQ4YfULf+/LlAJcEzu/7/fVmD+Gsz/v3meeiCr/v6/wprLIc4W/r98ZdpzwFX9vzEs1oa/cfy/ewPnrkpN+79qzfkpclX6v4gFyT+j3Pi/LX9o4X3z97+xzm+jq7P3v6GldgG6Q/e/yAp/qJBs9r/A3Gn5HeX0v0ZzIcQHD/O/OMk4ggVf8b/mUzUNq1nvv1xhtG4B2fC/yrWPw8vd87/PvvaY0Z/3v3kCiJObZPu/zrgMZ3kO/78WQirQEnUBwB6wOzo1WgPARb/EkRD5BMDUbUufEYMGwPCxaGBAuwfAem4tsOWCCMCgUMu7YOQIwI6dbv/TfwjAVUQjfi6DB8DvdSrp1e8FwBzdmyR30APAgF6bMWxyAcDN70hNqeb9vwvEGOe3Pfm/PMDlK+as9L/dp1GJh5jwv6LR5BB0/um/gjVB6k7D47+EXbY/4dbdv1E71JiLkdi/jt740F3B1r+/pgJeYpLYv4BqHPjprNy/tFKRR+Q94b8QKAyY4Bnlv5RSrSq/wOm/5HPWm0GM7r/fBLQF6Orwv/xXKZono/G/M4ZX08HZ8b+v1ZVwP63xvzxYLx4Ei/G/7ZHAiOKC8b/h8WmH0Efxv9tXmhWQ4vC/1paITNwi8L8Keqqae/Xtv5bB8B8/euq/eK6ZFF4p5r8G1xC/lfLhvyT7Ij969Nu/UDUjmouP1L8ZvK78HrjLv1vN61sJ0L2/4zvBzZ2ysL8FAxSml/esv896N/QcALK/ptSEg5EVs79SW0XKBAOyvx2mmp4cAK2/Y0NGXwjTm78/nNOHqqShP7SVg83qcLk/SFJLf5gixD8HkEoXUDXMP2oTJ2XEddE/ou8hW31b1D815oD0UvnXPyphHZFtn9o/b9NKvY0z3j9tMPxgePPgPz7ZGJTDy+I/ZXurppkd5T8EwJi+ABTnP7cZIRpR8uc/UxKJkOUi6D+do/DKm43sP0a5Xy8ngPE/bG2zyZzF9D+wPqK8lLz3P+ARt21AU/o/umXTCl0d/D9cHoeaDCT9P8RIqVTyef0/CpXJivT6/D9IOJ3TsLb7Pyd8+nsnL/o/AMVDhHLy+D/UOSk+eND3Pxcsgl7yrPY/kz0isaEx9T9cJ3Ywq2zzP5DcyErMjfE/M9HgdFg+7z823SvkMGzqP8VDXPM7gOU/+M3bxvN24D+Oxqa/v1HXP7AKIRKJBcw/Tbhk5lC8tD+6nmzNS1+vv1laXYtHc8i/pE3HJyb70r8EkLePKXvXv539dUIcP9m/S71xI4g12b8j0MkH4NfXv4MA+KnVVdW/aVktJuqc0r/baDTl0erPv0ltWXHO28q/B/5pVtOBxb/TyTuo+xnAv4VaXvFK9bK/O8N7yyVmo7/40bxr1wuZv5cxgj2aYqi/1hk0IAyYtL/wDrI6R0bBv1qQZuHdhsq/WMvy+84v0r9gJRKZ1VLXvzR+aQ0c0Ny/YjvvEKyM4b/1Ctt6s9HkvzfNNZlbLOe/n+65HzJ76L8/r3XAXVPpv01lQYEfP+m/ZHSQ9tXU6L8QIPqpl0nnvwCKVpOqIuW/Daamdcgi4r9JxU5WQb/bvyEFMMfqcNG/Nt0mvXWAtb/VH4uxcy69P8QlM7tH7tQ/gkyg0uiH4T+oGtWkrPbnP5SHk6xVye0/zyyiM41h8T+AZ+qee6bzP00xSEri6vU/5SLwFk3X9z/EUtRnayf5P0pyzspFivo/SQ7UOTZW/D9odsG1nHH+P2OfubzINABAlt9IIUkAAUBbi6S/tI0BQAbUgmDTxAFAaP6te9jdAUDww3Y8/MQBQKZ+MGpSmwFADrm8SXlqAUAoiCaDNgsBQLrLk3QFtgBAaHuoZ3oyAEAn96FdZkz/PzpIBNTxYf0/CbH//ac2+z/u/1b5Yy35P+zCJAy5qvc/t3jiJ6XQ9j9gmt2jRHP2P1OKyKYGdPY/fI4Th3Ks9j+3F85nBBP3Pwy8EyVexPc/UIUNa8Hw+D8z3m5cC7P5Pzxe7enNZPo/dgvW1TS/+j/l51g+Lq36Pz7Jp5DeGPo/0m5kaKww+T8W+aBW4Mb3P5/HcMQoJ/Y/GZfM7T0A9T8ahsM8dvzzP5WAIa/ZF/M/5CY103VP8j8XXC+yTabxPxl3JC6e7vA/B0eWdthy8D9scU6ohgjwP21KVoUmBO8/PurOiSHA7D/yfq0d3wrrP+iAEC8Rz+k/VJxrqkT+5D9TC+XqjJ7ZPxC2atY0oKo/y83+v3rX1b84KaE4Drjov4SsrF3lV/O/6s6f9v2W+b9vzQTPb/j+v6qrUcW+1wHA/4gq5BnGA8AgRr8wLE4FwDo4AkjikgbAZf9QLEOsB8DODoxRXakIwM9ZLrzgcgnAetDPq0HkCcBPM+ujBvgJwHMVVVv87wnAENHMr6LgCcDwhoxIQMYJwNQlz3vwqAnAmrrZWvaPCcBvWLrwoDAJwJCcZW6YlgjAavj5QpntB8BceFjUGTcHwL3z/ktrZwbAq+B9klyJBcAMDfG59sUEwMOVFo7VHATAhz8KxWiMA8DyTFLKfg4DwCI3rVZ1sgLA2oq0iodGAsAyO7eLItwBwPXaGcUrdwHAxlDwtTwHAcAoQ6JpA40AwFduasY1JADA35KX4rNo/7/89lOGeEv+v10qY0Ib7fy/EbV1nJ7Q+7/FjLZnNLb6v0ivCHYXyPm/t0MDDg7I+L+SezTFp473v6vogS+37vW/cBN1nKER9L9NCVhsSOXxvwIP20/LO++/byfPiMYO6r/m96sXkuLkv77OyW8uj9+/cgr9HhSk1b+EGuOvmAnHv+BcYKB+kZK/oSwlHEdxvj8OCywcuY3MP7nYQl9ontI/FNTMXqdg1j/DIjWsoNHZP9BugE1ZMNw/jk8Tin/53T9yhJ9jxwnfP675oLgS3OE/DDATqs645T+kVLLdo+DpP54oigWAGu4/5tAjBkw/8T9F+XlPbobzP/gghQB3wvU/1IBQM7Q/9z9whWZtCWv4P7p9Jr+PgPk/NU3yq5jA+j+FJTCaKu37PyvBq7K9v/w/fRbftgDw/D+R+Oa9PrH8P0holFjZTfw/QVRenhjd+z+VLlZXHHP7P0WuEDRGIvs/kdlcz+nW+j9o3FrIUnD6P2EVyxT6Hvo/lI+W6rEf+j/3xpTZfzf6P1rlLrWVO/o/7ik1zH5T+j//qV5IK3r6PwCa+zQC2Po/9DPv2Udw+z93HReoLtP7P7o5yULtHfw/iUFdM8Nr/D+IsIMaH8z8P1rSB22GRf0/HAp3AXiY/T9RWPjD8tH9Py6+lJVZt/0/bFoLehY4/T/EC9JKIGr8P+q4SEnmrvs/fErF9xP5+j9QKdtIF0H6PwfKvRCodfk/Bga9vIna+D9yjm+qWnf4PwIINK6qFPg/7mBcgRbK9z8yPgUOn7f3P1UznvPex/c/XpXzRTvb9z/lQhuower3P35v1+rU9vc/suyQB8qf9z8ul1/lFwD3P7jKxG4PU/Y/7VSO9DmA9T++h3umXEr0P6uOKtMC8/I/vO3Gx3Mq8j8kkmV3zcPxP2QY995/2fE/PeKbkOMy8j8x3URCs7nyP9SZeC/SY/M/o1RYrGIF9D8JKcYfZtH0P5RLR3RTqvU/ijBBN2+P9j+1PkePHvL3P4skJDmM2fs/TsV66vy0AEDyVc6QziUDQF+B/XCD9QRAgiThDtQkBkC1Gi2ZaYIGQHRNnYJicQZA+n05GMHgBUDScOcOFNQEQMXYFf+QnQNALtpnd3H5AUC2kp0Eiqj/P3/Qs3JLxfk/LAHTCy898z8gbOgmnDbnP85c7n/tF8E/euJZvqMl37+G7n7dFWrzv9IavgfImP+/Wq/fMOcaBsDCSCKOp/8LwCxhbpEhkxDABzbID8Z8EsAz+4HIIXwTwIYy6Q28nRPAvzdQCJkYE8BnaXLkL1USwDyEXwureBHAeKCZvsSeEMDCLF+ODxMQwJ0FMdxqlw/ArjgsYJFND8DfS66s90EOwKMtNR0VowzAM3IyKIF/CsBWct8Y8+YHwFUd2SiGYQXAcaIOX0f1AsA3qt64kQIBwCtRuAE4jP+/fCVqt3FE/b+q207VgCD7vzWjcaroMPm/peDMvbnI9r8dOPG1zED0v55FHzaTIPG/MGMO3G9U6r/0COEfYCXiv1SR6wiA19C/ANc/vPbTnT/BfyjfX5bRP87tgjiYtd4/IBY8irc85T+a0WPYN0DqP2Q2MQkZgvA/6uds2stZ9T8i4QXFm4T7P67kvRfiOgBA/Egn8KPOAUCEwcPsztECQLQxsQnqjANA4NwcihUhBEBgRLSIXrkEQOAfpSfgoAVAsMud+N+kBkCqdAmOWewHQB5Xfj9ujAlAzMdb9TVFC0BHAL99j68MQKoFnw1H2Q1AbxIq8/nADkB5FLzSG4cPQCTc9kuoORBAJXM2O2qhEECa7dnjus4QQP4LYo9D+xBA6OnSmZUJEUCgE3vnIuAQQF/5BGlPVhBA0vTiYIwrD0DSgtpgx9ANQFUh/hFkcQxAaj4L9oRGC0DiY4Tu608KQO6MIH9llQlA+LP/62vHCEA6jKIApjkIQGhSzybsUAdA8xXRnpgmBkCKG8Qm1WMEQOuNQ84/fwJATOLSxRakAEAnDTWeBRH+PzIJvovLh/s/qbE6ntDT+T+0TBTWawn5P9c2UdeOCfk/7IOxJ4FR+T9x0S2mjoP5P/Qn3lC2jfg/XQocxxfG9j9y19Kn99X0P6JCpECKpfM/6PxOAbp38z9AFuGhv2X0P9PhQWeRnfU/AwE1MzeC9z/c3+Tw5i/5Pzdu8cRLpPo/INt3vHof/D9upqKJ0P38P2bxx7yjvv0/UqUElVgw/z/r3kDAVEQAQKm3UPdPxwBA9DkziqEpAUAQeVrna7UBQIaE75pWZAJAeAHxqOAlBED6hHj6f2IGQC5/+hcqPghA7Cd9j97LCUB+aMGn1tEKQJ/4HNE7rQtAAKFBQTi5DEDNANNPhRcOQEvG7yrVtg9ApCRnLUybEEB9ymrgQkMRQNE+MTfkzxFA8c04gwstEkBISpHSnW0SQC2XWUzYpBJABFgm7GzqEkBweRbD1BATQDSuvtxXQhNAQHTzCrV6E0BGSd5kT2oTQGK8zU5aCBNAnBre7LI4EkAnZUDCqT8RQAbX0XjeNhBAvkVSB9imDkBSSQLpik8NQAi7FKdzwQxAwfaV+6IkDUAbKjBU4DgOQDy+PUMGiQ9AqNOwfbxqEEC2HUiyXDYRQCyTPzbT1RFAtwcnNS9fEkDjzSbySwETQAx49hSKnRNAneiAFrcmFEAumq3PxJMUQEY1s0CEPhVAIhixwTQFFkBM+vcIreUWQDPvHr2HaRdA5kA5BkKnF0BJHpfkUKAXQG6WoDQrVBdARSZtv+2dFkALhAsRp6QVQO3S8A0VnRRArkPKTtd9E0BoRP+P2AUSQA02zdZOdRBAvHsfiOjADUA3z+aWELIKQAzirlFrkAdA/U56VgFrBEB+fvuCPtsAQHB7ufdJfPo/piUmywHI8j/WL/XYanrnP4rzWNsLW9I/i4fxnJcDwb/SyDow9kTevyGJP7RzmOO/tBG0kTfD4b9AdHnMQmjCv84l35Yct84/qgmRIZzX4D/vLUPBsW3rP/qIMDHM/fI/SNuuqXKV9z9GnfkT1rX7P+xCkx6bz/4/nrsp/ukhAECMklJgozEBQFAODQ5iogJAAMrln7WFBEAg//iBkqIFQJTZjhFtKgZAhAGXZDJgBkBdmi+XzUoGQNhmfG4n5gVANN3VFmNFBUCKwL+zgoAEQFb++qOOmQNAUnNPyqc/A0B80GavepIDQDeOfi94lARAZuMjpNdoBkBY/5yMPUsJQE05xWcDnQ1AT0nnhds+EUAjMSpT0MQTQKZ8tPyVZBZAwo/pvNqtGEBM9ti2bacaQKofPAuYihxAguwYZAs/HkCfHPzFX4MfQF3F0Tur/B9AXoI8Vgy7H0BFCV65ZvMeQCsLm3OJxR1A46d4tOdlHECjKOyEljgbQCCLBkL0GhpA1AndYVF+GUAqlRnHrFYZQHyvNKx0VBlAnrTIfCqOGUASts4iBakZQIIL0jTVpxlAwjgpD98gGUC8xoeiLagYQGr++q4HexhAPPRx0YJGGEDDIvXbUwAYQGLHV/S8tRdAVZt8dXbiFkD+Zl4mdfYUQMsW5IHItxJAPHHsqJ45EEAHn8PLny4MQLkDNIIthQlAYh6hGP3vB0D2pB+Et4sHQF8oIfgH6QhAGb+IHq0TDECepLI+VmsQQF8mXiGa4RJA854CsYIXF0AcpzBMQl4cQGVbPrtmDSFAMZxhP1GNI0BYYkfPn18lQJAWOaj0nyZA5IF/7QoIJ0C6qp8Xks8mQHmS/7ueAiZAWwnEWMp1JEB9mtO4LcIiQISQAyx3MCFANMduPxUqH0A3i8d3hzAbQEZ8q5iVExZAJWxcZ9hhEEDi8OK1UtQDQB0lEfETl/A/kM56oy5Ttb91kF+52Orov+J8O8R5YvS/zun554zl+b+/6DGeK6f+v+b3JE28mQHAOB1et8AxBcCsUkBUeQQJwD6kB4ZCTgzAJvx2OFJ1D8Dw0XV2dpkRwFRvvDLwqxPAtum93ZyRFcAfpAU3fbEXwDnM+2QJiBnANCRF+P6oGsDRa7Ub2PsawPSvHWlGuBrAavgxMR+bGcBWDCtIexwYwMYpVcn11hXAUha9OqpAE8BPqiOY38EQwAv/zpNtjgzAfcKIuCDKCMDLtnBdrkcFwGNaNGsN7wLA6XzXkCKaAcB73LCyw2sBwGMw3ILNLgHAdvE7LX42AcD4mZMDwMoAwNq5+AEzE/+/4q0Xo68k/L8cgSABKdX5vxd9Zzde2fi/YPPSZNNI+b/ndQKiNaj7v5BaAPgXEgDAABxLdP7LA8BtJWnfFzgIwJhYtke7LQzA2mLRQAUtEMC7SVhHIQkSwAyS/VBhABTACoc9dA79FcB+6AfHi4cXwMzaDl7+wxjAV2S62Nu2GcAWBUwA83wawAhnhp+azBrAdPU/KdngGsDw3P4pd4wawAaXwUKl8RnA5Zwp//UDGcCyxj3xJtIXwC6wBoiXVxbA1cKIaKvzFMCbwdA7RMITwKwk5hPs6hLA8JT2DjtGEsDWfT6kqoERwDK3rf/hoBDA9yzjAeGXD8BgiJT45UoOwHQ012UOAA3A10OEvHJdC8Cmh/P4ThYKwNKbCqQrFwnAaEn+cxnGB8DUhtCkQtwFwMO9CNWiAATA9l05BckMAsAk4D7donb/vxEIKpsAjPm/aLkc/2m887+N/DEXf6jpv651fwZAO9a/CPnJV8MAsT/OwqMwrAzaP9JFF35GLuQ/da7WsTXG6T/EA9ZABO/sP+qrA8bba+w/bi7f1IBY6j+/ySqzfcDmP+YEaSq4XOA/er4jOdxEyT8412NbTTvIv6WrcRBCmeO/KaTXNkRm8L+h3YzABbD1v04jsUrN4/i/PgbuZ7XS+r8M4LLdZIr7v9aq/brdIPy/xlG2GWoV/b/sWoBJOjv9vxe+afFrYf2/04+W2XTk/b/DV9IfCDf+v1xDu6O/FP+/isJ3nrL8/r8iTiNUyPf9v48nnUefrP6/YG+66NYbAMCndm5q2U0BwHNQ2PPItgLAaaId0vAlBMCVws2EtdoFwNf+NQF82AfAbMeJzDkECsCWS1FrKB8MwDhh/3bWRw7ABxsLdGipD8BZcWi4LRcQwF56yxHeDBDAd/edyidDD8C52Nm8LzYOwJTNoCX00AzAQ7UdEemcC8DvCtd5hJIKwGYtrmWWQgnA+QF1Dn2/B8Ah2ow601AGwEhC7oVW3ATAhu6YA7PoA8Cy+vl6wnIDwEiIDUeScQPAzTlaEF1XA8ARYVCVMHgDwCF27S1izAPAlESyElf1A8AqSDmoeo4DwGL47/ncwwLA9Vk3+4jUAcCk5MHDHOwAwL2au8HSEgDAPEMkobKD/79KZeAMz37/vypPZqrONgDAz3JrG1c2AcA5Vpq/uSICwA55ryuZowLAMqBfRyxyA8AuRoK/rTYEwMusSi2oogTA3KlBK54XBMBkWe0R7UIDwOPMpStKYgLA6X431Uo1AcAo7K8WCib/v1R3TgltKfu/6gfD5Yr69r97ex5uECH1v7Cp312dYvS/p/Aivv4Q9L+GDS3yqRzzv+vFavw9uPG/LA3bKviG7r893nky8nLov0uZTl5tEuO/RU6pkSA2179A4KKiZQ+UvzGa5hWjV9E/9L+MNEWo1j8YRY/1rfamv9x+gPSVKua/2D+3RPO9979QSmnFfFoCwG0BwEVatgjAeOWakDngDsA6lnkHT00SwOgJ+rxj0RTAnT/CB2f2FsCYvMRsvcEYwM1xnzaEVxrAmKLoXDLbG8D3sx4K+D4dwPZLiYHAmR7A+vkTPQ+5H8AR0X9OMjcgwLeFmGGLaSDAcnLu54OBIMAtuYn5+30gwEJ5J/omaiDAyAyRs1o5IMDaYoqprHofwLrAShNOFx7AL8EobARTHMCrP1An0DAawDk2yejRDxjA8PWVPMAgFsBLKxw0nWkUwLKpawyN7RLAkIgzTj51EcDgXJduXCgQwLZYFRnNmA3AL5+m2JlAC8A5UWyGo+AIwHgYQWSIiwbAkOD8NxkbBMCA4lwcptoBwLoWc1lIw/+/VQaiWud+/L+rX7JUBkn5v/BSTK3o9fW/YKs7hhDL8r8ASMSAxCbwv3Q1Xn+x4O2/nRUejk/Q7b9LB3QLhIDvv4vAEdCSGfG/6VxHE4Qx8r+unlkY11rzv9LwVuTkkvS/tvFpD4EJ9r+mbslredr3v8yVSk/8s/m/8AphgY6C+79z8WGvVdb9vxYypCLZvf+/CQc1EJwTAcAERTInRpQCwLQ1HlXxQwTASh3FNLXZBcCSZ8OKO9kGwIXThV7NQQfAus7Y1y6EB8AbF3gvZtAHwEwAcoXR4gfALbc0oRnTB8AXgsSY25IHwG8YNBxZDwfAFgZ/24p3BsDMMGWa4vUEwCf4jWBmkgLACzxb29md/b9KTzTm5Pv0vzYTu0h0z+i/JOU5ES4J079a3g8QjAG1P/nDWWxrUNQ/lciPtE/83z/iTC0a2HbkP5yu+aZjqec/vUBpwY/i6T+kdpRe1IvqP+o9dnnI9ug/1jdEVUbv5D9wtSM/jeLcP+ZihCtr78Y/kEBc0PyEsb9QbZSCh5vTvzocBr5Ps+G/CIWNe2pT6r8=\",\"dtype\":\"float64\",\"order\":\"little\",\"shape\":[1258]}},\"selected\":{\"id\":\"8852\"},\"selection_policy\":{\"id\":\"8868\"}},\"id\":\"8851\",\"type\":\"ColumnDataSource\"},{\"attributes\":{\"line_color\":\"#fc4f30\",\"line_width\":2,\"x\":{\"field\":\"Date\"},\"y\":{\"field\":\"value\"}},\"id\":\"8854\",\"type\":\"Line\"},{\"attributes\":{\"line_color\":\"#30a2da\",\"line_width\":2,\"x\":{\"field\":\"Date\"},\"y\":{\"field\":\"value\"}},\"id\":\"8850\",\"type\":\"Line\"},{\"attributes\":{\"line_color\":\"#fc4f30\",\"line_width\":2,\"x\":{\"field\":\"Date\"},\"y\":{\"field\":\"value\"}},\"id\":\"8884\",\"type\":\"Line\"},{\"attributes\":{},\"id\":\"8787\",\"type\":\"LinearScale\"},{\"attributes\":{},\"id\":\"8817\",\"type\":\"AllLabels\"},{\"attributes\":{\"axis\":{\"id\":\"8795\"},\"coordinates\":null,\"dimension\":1,\"grid_line_color\":null,\"group\":null,\"ticker\":null},\"id\":\"8798\",\"type\":\"Grid\"},{\"attributes\":{\"margin\":[5,5,5,5],\"name\":\"HSpacer11497\",\"sizing_mode\":\"stretch_width\"},\"id\":\"9101\",\"type\":\"Spacer\"},{\"attributes\":{\"axis_label\":\"\",\"coordinates\":null,\"formatter\":{\"id\":\"8816\"},\"group\":null,\"major_label_policy\":{\"id\":\"8817\"},\"ticker\":{\"id\":\"8796\"}},\"id\":\"8795\",\"type\":\"LinearAxis\"},{\"attributes\":{\"line_alpha\":0.1,\"line_color\":\"#fc4f30\",\"line_width\":2,\"x\":{\"field\":\"Date\"},\"y\":{\"field\":\"value\"}},\"id\":\"8855\",\"type\":\"Line\"},{\"attributes\":{\"axis\":{\"id\":\"8791\"},\"coordinates\":null,\"grid_line_color\":null,\"group\":null,\"ticker\":null},\"id\":\"8794\",\"type\":\"Grid\"},{\"attributes\":{},\"id\":\"8852\",\"type\":\"Selection\"},{\"attributes\":{\"coordinates\":null,\"data_source\":{\"id\":\"8818\"},\"glyph\":{\"id\":\"8821\"},\"group\":null,\"hover_glyph\":null,\"muted_glyph\":{\"id\":\"8823\"},\"nonselection_glyph\":{\"id\":\"8822\"},\"selection_glyph\":{\"id\":\"8850\"},\"view\":{\"id\":\"8825\"}},\"id\":\"8824\",\"type\":\"GlyphRenderer\"},{\"attributes\":{\"axis_label\":\"Date\",\"coordinates\":null,\"formatter\":{\"id\":\"8813\"},\"group\":null,\"major_label_policy\":{\"id\":\"8814\"},\"ticker\":{\"id\":\"8792\"}},\"id\":\"8791\",\"type\":\"DatetimeAxis\"},{\"attributes\":{\"line_color\":\"#30a2da\",\"line_width\":2,\"x\":{\"field\":\"Date\"},\"y\":{\"field\":\"value\"}},\"id\":\"8821\",\"type\":\"Line\"},{\"attributes\":{},\"id\":\"8813\",\"type\":\"DatetimeTickFormatter\"},{\"attributes\":{\"coordinates\":null,\"data_source\":{\"id\":\"8851\"},\"glyph\":{\"id\":\"8854\"},\"group\":null,\"hover_glyph\":null,\"muted_glyph\":{\"id\":\"8856\"},\"nonselection_glyph\":{\"id\":\"8855\"},\"selection_glyph\":{\"id\":\"8884\"},\"view\":{\"id\":\"8858\"}},\"id\":\"8857\",\"type\":\"GlyphRenderer\"},{\"attributes\":{\"source\":{\"id\":\"8818\"}},\"id\":\"8825\",\"type\":\"CDSView\"},{\"attributes\":{\"line_alpha\":0.2,\"line_color\":\"#fc4f30\",\"line_width\":2,\"x\":{\"field\":\"Date\"},\"y\":{\"field\":\"value\"}},\"id\":\"8856\",\"type\":\"Line\"},{\"attributes\":{\"line_alpha\":0.1,\"line_color\":\"#30a2da\",\"line_width\":2,\"x\":{\"field\":\"Date\"},\"y\":{\"field\":\"value\"}},\"id\":\"8822\",\"type\":\"Line\"},{\"attributes\":{\"margin\":[5,5,5,5],\"name\":\"HSpacer11496\",\"sizing_mode\":\"stretch_width\"},\"id\":\"8777\",\"type\":\"Spacer\"},{\"attributes\":{\"num_minor_ticks\":5,\"tickers\":[{\"id\":\"8836\"},{\"id\":\"8837\"},{\"id\":\"8838\"},{\"id\":\"8839\"},{\"id\":\"8840\"},{\"id\":\"8841\"},{\"id\":\"8842\"},{\"id\":\"8843\"},{\"id\":\"8844\"},{\"id\":\"8845\"},{\"id\":\"8846\"},{\"id\":\"8847\"}]},\"id\":\"8792\",\"type\":\"DatetimeTicker\"}],\"root_ids\":[\"8776\"]},\"title\":\"Bokeh Application\",\"version\":\"2.4.1\"}};\n",
       "    var render_items = [{\"docid\":\"0574d5b8-9ff6-4f03-a581-1dc2501d987a\",\"root_ids\":[\"8776\"],\"roots\":{\"8776\":\"9061d7f6-d6d9-4b6f-8ad5-63093da524e8\"}}];\n",
       "    root.Bokeh.embed.embed_items_notebook(docs_json, render_items);\n",
       "  }\n",
       "  if (root.Bokeh !== undefined && root.Bokeh.Panel !== undefined) {\n",
       "    embed_document(root);\n",
       "  } else {\n",
       "    var attempts = 0;\n",
       "    var timer = setInterval(function(root) {\n",
       "      if (root.Bokeh !== undefined && root.Bokeh.Panel !== undefined) {\n",
       "        clearInterval(timer);\n",
       "        embed_document(root);\n",
       "      } else if (document.readyState == \"complete\") {\n",
       "        attempts++;\n",
       "        if (attempts > 200) {\n",
       "          clearInterval(timer);\n",
       "          console.log(\"Bokeh: ERROR: Unable to run BokehJS code because BokehJS library is missing\");\n",
       "        }\n",
       "      }\n",
       "    }, 25, root)\n",
       "  }\n",
       "})(window);</script>"
      ],
      "text/plain": [
       ":NdOverlay   [Variable]\n",
       "   :Curve   [Date]   (value)"
      ]
     },
     "execution_count": 457,
     "metadata": {
      "application/vnd.holoviews_exec.v0+json": {
       "id": "8776"
      }
     },
     "output_type": "execute_result"
    }
   ],
   "source": [
    "zillow_df.hvplot.line(y=['macd', 'exp3'])"
   ]
  },
  {
   "cell_type": "code",
   "execution_count": 458,
   "id": "ddcae348-3e90-4eab-bbe9-39c29c8b7ed9",
   "metadata": {},
   "outputs": [],
   "source": [
    "zillow_df[\"Actual Returns\"] = zillow_df[\"Close\"].pct_change()"
   ]
  },
  {
   "cell_type": "code",
   "execution_count": 459,
   "id": "ba377c1f-dfb4-49ca-a37f-a16f2a6c361d",
   "metadata": {},
   "outputs": [
    {
     "data": {
      "text/html": [
       "<div>\n",
       "<style scoped>\n",
       "    .dataframe tbody tr th:only-of-type {\n",
       "        vertical-align: middle;\n",
       "    }\n",
       "\n",
       "    .dataframe tbody tr th {\n",
       "        vertical-align: top;\n",
       "    }\n",
       "\n",
       "    .dataframe thead th {\n",
       "        text-align: right;\n",
       "    }\n",
       "</style>\n",
       "<table border=\"1\" class=\"dataframe\">\n",
       "  <thead>\n",
       "    <tr style=\"text-align: right;\">\n",
       "      <th></th>\n",
       "      <th>Open</th>\n",
       "      <th>High</th>\n",
       "      <th>Low</th>\n",
       "      <th>Close</th>\n",
       "      <th>Volume</th>\n",
       "      <th>macd</th>\n",
       "      <th>exp3</th>\n",
       "      <th>Actual Returns</th>\n",
       "      <th>Signal</th>\n",
       "    </tr>\n",
       "    <tr>\n",
       "      <th>Date</th>\n",
       "      <th></th>\n",
       "      <th></th>\n",
       "      <th></th>\n",
       "      <th></th>\n",
       "      <th></th>\n",
       "      <th></th>\n",
       "      <th></th>\n",
       "      <th></th>\n",
       "      <th></th>\n",
       "    </tr>\n",
       "  </thead>\n",
       "  <tbody>\n",
       "    <tr>\n",
       "      <th>2017-03-17</th>\n",
       "      <td>36.650002</td>\n",
       "      <td>36.650002</td>\n",
       "      <td>36.244999</td>\n",
       "      <td>36.360001</td>\n",
       "      <td>617100</td>\n",
       "      <td>-0.026325</td>\n",
       "      <td>-0.005265</td>\n",
       "      <td>-0.008994</td>\n",
       "      <td>-1.0</td>\n",
       "    </tr>\n",
       "    <tr>\n",
       "      <th>2017-03-20</th>\n",
       "      <td>36.349998</td>\n",
       "      <td>36.509998</td>\n",
       "      <td>36.080002</td>\n",
       "      <td>36.240002</td>\n",
       "      <td>603400</td>\n",
       "      <td>-0.056222</td>\n",
       "      <td>-0.015456</td>\n",
       "      <td>-0.003300</td>\n",
       "      <td>-1.0</td>\n",
       "    </tr>\n",
       "    <tr>\n",
       "      <th>2017-03-21</th>\n",
       "      <td>36.310001</td>\n",
       "      <td>36.480000</td>\n",
       "      <td>35.160000</td>\n",
       "      <td>35.169998</td>\n",
       "      <td>1528900</td>\n",
       "      <td>-0.164361</td>\n",
       "      <td>-0.045237</td>\n",
       "      <td>-0.029525</td>\n",
       "      <td>-1.0</td>\n",
       "    </tr>\n",
       "    <tr>\n",
       "      <th>2017-03-22</th>\n",
       "      <td>35.110001</td>\n",
       "      <td>35.639999</td>\n",
       "      <td>35.029999</td>\n",
       "      <td>35.290001</td>\n",
       "      <td>1100600</td>\n",
       "      <td>-0.237640</td>\n",
       "      <td>-0.083718</td>\n",
       "      <td>0.003412</td>\n",
       "      <td>1.0</td>\n",
       "    </tr>\n",
       "    <tr>\n",
       "      <th>2017-03-23</th>\n",
       "      <td>35.189999</td>\n",
       "      <td>35.189999</td>\n",
       "      <td>33.430000</td>\n",
       "      <td>33.529999</td>\n",
       "      <td>3454500</td>\n",
       "      <td>-0.432743</td>\n",
       "      <td>-0.153523</td>\n",
       "      <td>-0.049873</td>\n",
       "      <td>-1.0</td>\n",
       "    </tr>\n",
       "  </tbody>\n",
       "</table>\n",
       "</div>"
      ],
      "text/plain": [
       "                 Open       High        Low      Close   Volume      macd  \\\n",
       "Date                                                                        \n",
       "2017-03-17  36.650002  36.650002  36.244999  36.360001   617100 -0.026325   \n",
       "2017-03-20  36.349998  36.509998  36.080002  36.240002   603400 -0.056222   \n",
       "2017-03-21  36.310001  36.480000  35.160000  35.169998  1528900 -0.164361   \n",
       "2017-03-22  35.110001  35.639999  35.029999  35.290001  1100600 -0.237640   \n",
       "2017-03-23  35.189999  35.189999  33.430000  33.529999  3454500 -0.432743   \n",
       "\n",
       "                exp3  Actual Returns  Signal  \n",
       "Date                                          \n",
       "2017-03-17 -0.005265       -0.008994    -1.0  \n",
       "2017-03-20 -0.015456       -0.003300    -1.0  \n",
       "2017-03-21 -0.045237       -0.029525    -1.0  \n",
       "2017-03-22 -0.083718        0.003412     1.0  \n",
       "2017-03-23 -0.153523       -0.049873    -1.0  "
      ]
     },
     "metadata": {},
     "output_type": "display_data"
    },
    {
     "data": {
      "text/html": [
       "<div>\n",
       "<style scoped>\n",
       "    .dataframe tbody tr th:only-of-type {\n",
       "        vertical-align: middle;\n",
       "    }\n",
       "\n",
       "    .dataframe tbody tr th {\n",
       "        vertical-align: top;\n",
       "    }\n",
       "\n",
       "    .dataframe thead th {\n",
       "        text-align: right;\n",
       "    }\n",
       "</style>\n",
       "<table border=\"1\" class=\"dataframe\">\n",
       "  <thead>\n",
       "    <tr style=\"text-align: right;\">\n",
       "      <th></th>\n",
       "      <th>Open</th>\n",
       "      <th>High</th>\n",
       "      <th>Low</th>\n",
       "      <th>Close</th>\n",
       "      <th>Volume</th>\n",
       "      <th>macd</th>\n",
       "      <th>exp3</th>\n",
       "      <th>Actual Returns</th>\n",
       "      <th>Signal</th>\n",
       "    </tr>\n",
       "    <tr>\n",
       "      <th>Date</th>\n",
       "      <th></th>\n",
       "      <th></th>\n",
       "      <th></th>\n",
       "      <th></th>\n",
       "      <th></th>\n",
       "      <th></th>\n",
       "      <th></th>\n",
       "      <th></th>\n",
       "      <th></th>\n",
       "    </tr>\n",
       "  </thead>\n",
       "  <tbody>\n",
       "    <tr>\n",
       "      <th>2022-03-08</th>\n",
       "      <td>48.150002</td>\n",
       "      <td>50.188000</td>\n",
       "      <td>46.970001</td>\n",
       "      <td>47.650002</td>\n",
       "      <td>5412100</td>\n",
       "      <td>-0.909403</td>\n",
       "      <td>0.179181</td>\n",
       "      <td>-0.038733</td>\n",
       "      <td>-1.0</td>\n",
       "    </tr>\n",
       "    <tr>\n",
       "      <th>2022-03-09</th>\n",
       "      <td>48.680000</td>\n",
       "      <td>51.090000</td>\n",
       "      <td>48.320000</td>\n",
       "      <td>51.040001</td>\n",
       "      <td>3540700</td>\n",
       "      <td>-1.058903</td>\n",
       "      <td>-0.068435</td>\n",
       "      <td>0.071144</td>\n",
       "      <td>1.0</td>\n",
       "    </tr>\n",
       "    <tr>\n",
       "      <th>2022-03-10</th>\n",
       "      <td>50.169998</td>\n",
       "      <td>50.419998</td>\n",
       "      <td>48.919998</td>\n",
       "      <td>49.860001</td>\n",
       "      <td>2529900</td>\n",
       "      <td>-1.258097</td>\n",
       "      <td>-0.306368</td>\n",
       "      <td>-0.023119</td>\n",
       "      <td>-1.0</td>\n",
       "    </tr>\n",
       "    <tr>\n",
       "      <th>2022-03-11</th>\n",
       "      <td>50.299999</td>\n",
       "      <td>50.639999</td>\n",
       "      <td>48.029999</td>\n",
       "      <td>48.099998</td>\n",
       "      <td>2699700</td>\n",
       "      <td>-1.540222</td>\n",
       "      <td>-0.553139</td>\n",
       "      <td>-0.035299</td>\n",
       "      <td>-1.0</td>\n",
       "    </tr>\n",
       "    <tr>\n",
       "      <th>2022-03-14</th>\n",
       "      <td>48.000000</td>\n",
       "      <td>48.580002</td>\n",
       "      <td>45.340000</td>\n",
       "      <td>46.130001</td>\n",
       "      <td>3427300</td>\n",
       "      <td>-1.900859</td>\n",
       "      <td>-0.822683</td>\n",
       "      <td>-0.040956</td>\n",
       "      <td>-1.0</td>\n",
       "    </tr>\n",
       "  </tbody>\n",
       "</table>\n",
       "</div>"
      ],
      "text/plain": [
       "                 Open       High        Low      Close   Volume      macd  \\\n",
       "Date                                                                        \n",
       "2022-03-08  48.150002  50.188000  46.970001  47.650002  5412100 -0.909403   \n",
       "2022-03-09  48.680000  51.090000  48.320000  51.040001  3540700 -1.058903   \n",
       "2022-03-10  50.169998  50.419998  48.919998  49.860001  2529900 -1.258097   \n",
       "2022-03-11  50.299999  50.639999  48.029999  48.099998  2699700 -1.540222   \n",
       "2022-03-14  48.000000  48.580002  45.340000  46.130001  3427300 -1.900859   \n",
       "\n",
       "                exp3  Actual Returns  Signal  \n",
       "Date                                          \n",
       "2022-03-08  0.179181       -0.038733    -1.0  \n",
       "2022-03-09 -0.068435        0.071144     1.0  \n",
       "2022-03-10 -0.306368       -0.023119    -1.0  \n",
       "2022-03-11 -0.553139       -0.035299    -1.0  \n",
       "2022-03-14 -0.822683       -0.040956    -1.0  "
      ]
     },
     "metadata": {},
     "output_type": "display_data"
    }
   ],
   "source": [
    "zillow_df['Signal'] = 0.0\n",
    "zillow_df.loc[(zillow_df['Actual Returns'] >= 0), 'Signal'] = 1\n",
    "zillow_df.loc[(zillow_df['Actual Returns'] < 0), 'Signal'] = -1\n",
    "zillow_df = zillow_df.dropna()\n",
    "display(zillow_df.head())\n",
    "display(zillow_df.tail())"
   ]
  },
  {
   "cell_type": "code",
   "execution_count": 460,
   "id": "17252e8b-de95-40fe-841b-88cb5bdd9099",
   "metadata": {},
   "outputs": [
    {
     "data": {
      "text/html": [
       "<div>\n",
       "<style scoped>\n",
       "    .dataframe tbody tr th:only-of-type {\n",
       "        vertical-align: middle;\n",
       "    }\n",
       "\n",
       "    .dataframe tbody tr th {\n",
       "        vertical-align: top;\n",
       "    }\n",
       "\n",
       "    .dataframe thead th {\n",
       "        text-align: right;\n",
       "    }\n",
       "</style>\n",
       "<table border=\"1\" class=\"dataframe\">\n",
       "  <thead>\n",
       "    <tr style=\"text-align: right;\">\n",
       "      <th></th>\n",
       "      <th>macd</th>\n",
       "      <th>exp3</th>\n",
       "    </tr>\n",
       "    <tr>\n",
       "      <th>Date</th>\n",
       "      <th></th>\n",
       "      <th></th>\n",
       "    </tr>\n",
       "  </thead>\n",
       "  <tbody>\n",
       "    <tr>\n",
       "      <th>2017-03-20</th>\n",
       "      <td>-0.026325</td>\n",
       "      <td>-0.005265</td>\n",
       "    </tr>\n",
       "    <tr>\n",
       "      <th>2017-03-21</th>\n",
       "      <td>-0.056222</td>\n",
       "      <td>-0.015456</td>\n",
       "    </tr>\n",
       "    <tr>\n",
       "      <th>2017-03-22</th>\n",
       "      <td>-0.164361</td>\n",
       "      <td>-0.045237</td>\n",
       "    </tr>\n",
       "    <tr>\n",
       "      <th>2017-03-23</th>\n",
       "      <td>-0.237640</td>\n",
       "      <td>-0.083718</td>\n",
       "    </tr>\n",
       "    <tr>\n",
       "      <th>2017-03-24</th>\n",
       "      <td>-0.432743</td>\n",
       "      <td>-0.153523</td>\n",
       "    </tr>\n",
       "  </tbody>\n",
       "</table>\n",
       "</div>"
      ],
      "text/plain": [
       "                macd      exp3\n",
       "Date                          \n",
       "2017-03-20 -0.026325 -0.005265\n",
       "2017-03-21 -0.056222 -0.015456\n",
       "2017-03-22 -0.164361 -0.045237\n",
       "2017-03-23 -0.237640 -0.083718\n",
       "2017-03-24 -0.432743 -0.153523"
      ]
     },
     "execution_count": 460,
     "metadata": {},
     "output_type": "execute_result"
    }
   ],
   "source": [
    "X = zillow_df[['macd', 'exp3']].shift().dropna()\n",
    "X.head()"
   ]
  },
  {
   "cell_type": "code",
   "execution_count": 461,
   "id": "ab9db6b9-2f38-43b6-98e3-c354797aabed",
   "metadata": {},
   "outputs": [
    {
     "data": {
      "text/plain": [
       " 1.0    661\n",
       "-1.0    596\n",
       "Name: Signal, dtype: int64"
      ]
     },
     "execution_count": 461,
     "metadata": {},
     "output_type": "execute_result"
    }
   ],
   "source": [
    "y = zillow_df['Signal']\n",
    "y.value_counts()"
   ]
  },
  {
   "cell_type": "code",
   "execution_count": 462,
   "id": "108bf22b-e423-4bb5-9957-e2c95ac31823",
   "metadata": {},
   "outputs": [
    {
     "name": "stdout",
     "output_type": "stream",
     "text": [
      "2017-03-20 00:00:00\n"
     ]
    }
   ],
   "source": [
    "training_begin = X.index.min()\n",
    "print(training_begin)"
   ]
  },
  {
   "cell_type": "code",
   "execution_count": 463,
   "id": "c7215259-1cd5-4314-b771-791cf9f6e721",
   "metadata": {},
   "outputs": [
    {
     "name": "stdout",
     "output_type": "stream",
     "text": [
      "2017-06-20 00:00:00\n"
     ]
    }
   ],
   "source": [
    "training_end = X.index.min() + DateOffset(months=3)\n",
    "print(training_end)"
   ]
  },
  {
   "cell_type": "code",
   "execution_count": 464,
   "id": "b85288ef-c39f-4b0b-8f0a-3fcb136c97f3",
   "metadata": {},
   "outputs": [
    {
     "data": {
      "text/html": [
       "<div>\n",
       "<style scoped>\n",
       "    .dataframe tbody tr th:only-of-type {\n",
       "        vertical-align: middle;\n",
       "    }\n",
       "\n",
       "    .dataframe tbody tr th {\n",
       "        vertical-align: top;\n",
       "    }\n",
       "\n",
       "    .dataframe thead th {\n",
       "        text-align: right;\n",
       "    }\n",
       "</style>\n",
       "<table border=\"1\" class=\"dataframe\">\n",
       "  <thead>\n",
       "    <tr style=\"text-align: right;\">\n",
       "      <th></th>\n",
       "      <th>macd</th>\n",
       "      <th>exp3</th>\n",
       "    </tr>\n",
       "    <tr>\n",
       "      <th>Date</th>\n",
       "      <th></th>\n",
       "      <th></th>\n",
       "    </tr>\n",
       "  </thead>\n",
       "  <tbody>\n",
       "    <tr>\n",
       "      <th>2017-03-20</th>\n",
       "      <td>-0.026325</td>\n",
       "      <td>-0.005265</td>\n",
       "    </tr>\n",
       "    <tr>\n",
       "      <th>2017-03-21</th>\n",
       "      <td>-0.056222</td>\n",
       "      <td>-0.015456</td>\n",
       "    </tr>\n",
       "    <tr>\n",
       "      <th>2017-03-22</th>\n",
       "      <td>-0.164361</td>\n",
       "      <td>-0.045237</td>\n",
       "    </tr>\n",
       "    <tr>\n",
       "      <th>2017-03-23</th>\n",
       "      <td>-0.237640</td>\n",
       "      <td>-0.083718</td>\n",
       "    </tr>\n",
       "    <tr>\n",
       "      <th>2017-03-24</th>\n",
       "      <td>-0.432743</td>\n",
       "      <td>-0.153523</td>\n",
       "    </tr>\n",
       "  </tbody>\n",
       "</table>\n",
       "</div>"
      ],
      "text/plain": [
       "                macd      exp3\n",
       "Date                          \n",
       "2017-03-20 -0.026325 -0.005265\n",
       "2017-03-21 -0.056222 -0.015456\n",
       "2017-03-22 -0.164361 -0.045237\n",
       "2017-03-23 -0.237640 -0.083718\n",
       "2017-03-24 -0.432743 -0.153523"
      ]
     },
     "execution_count": 464,
     "metadata": {},
     "output_type": "execute_result"
    }
   ],
   "source": [
    "X_train = X.loc[training_begin:training_end]\n",
    "y_train = y.loc[training_begin:training_end]\n",
    "X_train.head()"
   ]
  },
  {
   "cell_type": "code",
   "execution_count": 465,
   "id": "c768d76f-468f-4916-9859-f03b9b9ea51b",
   "metadata": {},
   "outputs": [
    {
     "data": {
      "text/html": [
       "<div>\n",
       "<style scoped>\n",
       "    .dataframe tbody tr th:only-of-type {\n",
       "        vertical-align: middle;\n",
       "    }\n",
       "\n",
       "    .dataframe tbody tr th {\n",
       "        vertical-align: top;\n",
       "    }\n",
       "\n",
       "    .dataframe thead th {\n",
       "        text-align: right;\n",
       "    }\n",
       "</style>\n",
       "<table border=\"1\" class=\"dataframe\">\n",
       "  <thead>\n",
       "    <tr style=\"text-align: right;\">\n",
       "      <th></th>\n",
       "      <th>macd</th>\n",
       "      <th>exp3</th>\n",
       "    </tr>\n",
       "    <tr>\n",
       "      <th>Date</th>\n",
       "      <th></th>\n",
       "      <th></th>\n",
       "    </tr>\n",
       "  </thead>\n",
       "  <tbody>\n",
       "    <tr>\n",
       "      <th>2017-06-21</th>\n",
       "      <td>1.368575</td>\n",
       "      <td>1.316482</td>\n",
       "    </tr>\n",
       "    <tr>\n",
       "      <th>2017-06-22</th>\n",
       "      <td>1.498477</td>\n",
       "      <td>1.352881</td>\n",
       "    </tr>\n",
       "    <tr>\n",
       "      <th>2017-06-23</th>\n",
       "      <td>1.645398</td>\n",
       "      <td>1.411384</td>\n",
       "    </tr>\n",
       "    <tr>\n",
       "      <th>2017-06-26</th>\n",
       "      <td>1.883750</td>\n",
       "      <td>1.505858</td>\n",
       "    </tr>\n",
       "    <tr>\n",
       "      <th>2017-06-27</th>\n",
       "      <td>1.991590</td>\n",
       "      <td>1.603004</td>\n",
       "    </tr>\n",
       "  </tbody>\n",
       "</table>\n",
       "</div>"
      ],
      "text/plain": [
       "                macd      exp3\n",
       "Date                          \n",
       "2017-06-21  1.368575  1.316482\n",
       "2017-06-22  1.498477  1.352881\n",
       "2017-06-23  1.645398  1.411384\n",
       "2017-06-26  1.883750  1.505858\n",
       "2017-06-27  1.991590  1.603004"
      ]
     },
     "execution_count": 465,
     "metadata": {},
     "output_type": "execute_result"
    }
   ],
   "source": [
    "X_test = X.loc[training_end + DateOffset(hours=1):]\n",
    "y_test = y.loc[training_end + DateOffset(hours=1):]\n",
    "X_test.head()"
   ]
  },
  {
   "cell_type": "code",
   "execution_count": 466,
   "id": "b27d2a80-a649-45c3-af67-1cc8273d3c26",
   "metadata": {},
   "outputs": [],
   "source": [
    "scaler = StandardScaler()\n",
    "X_scaler = scaler.fit(X_train)\n",
    "X_train_scaled = X_scaler.transform(X_train)\n",
    "X_test_scaled = X_scaler.transform(X_test)"
   ]
  },
  {
   "cell_type": "code",
   "execution_count": 467,
   "id": "c9b1e22b-b68b-454b-b1a1-99d05d2d3775",
   "metadata": {},
   "outputs": [
    {
     "data": {
      "text/plain": [
       "array([1., 1., 1., 1., 1., 1., 1., 1., 1., 1., 1., 1., 1., 1., 1., 1., 1.,\n",
       "       1., 1., 1., 1., 1., 1., 1., 1., 1., 1., 1., 1., 1., 1., 1., 1., 1.,\n",
       "       1., 1., 1., 1., 1., 1., 1., 1., 1., 1., 1., 1., 1., 1., 1., 1., 1.,\n",
       "       1., 1., 1., 1., 1., 1., 1., 1., 1., 1., 1., 1., 1., 1.])"
      ]
     },
     "execution_count": 467,
     "metadata": {},
     "output_type": "execute_result"
    }
   ],
   "source": [
    "svm_model = svm.SVC()\n",
    "svm_model = svm_model.fit(X_train_scaled, y_train)\n",
    "svm_pred_training = svm_model.predict(X_train_scaled)\n",
    "svm_pred_training"
   ]
  },
  {
   "cell_type": "code",
   "execution_count": 468,
   "id": "7db9d582-cb8d-465e-a2ce-a4de8d3ac849",
   "metadata": {},
   "outputs": [
    {
     "name": "stdout",
     "output_type": "stream",
     "text": [
      "              precision    recall  f1-score   support\n",
      "\n",
      "        -1.0       0.00      0.00      0.00        21\n",
      "         1.0       0.68      1.00      0.81        44\n",
      "\n",
      "    accuracy                           0.68        65\n",
      "   macro avg       0.34      0.50      0.40        65\n",
      "weighted avg       0.46      0.68      0.55        65\n",
      "\n"
     ]
    },
    {
     "name": "stderr",
     "output_type": "stream",
     "text": [
      "/Applications/anaconda3/envs/dev/lib/python3.9/site-packages/sklearn/metrics/_classification.py:1308: UndefinedMetricWarning: Precision and F-score are ill-defined and being set to 0.0 in labels with no predicted samples. Use `zero_division` parameter to control this behavior.\n",
      "  _warn_prf(average, modifier, msg_start, len(result))\n",
      "/Applications/anaconda3/envs/dev/lib/python3.9/site-packages/sklearn/metrics/_classification.py:1308: UndefinedMetricWarning: Precision and F-score are ill-defined and being set to 0.0 in labels with no predicted samples. Use `zero_division` parameter to control this behavior.\n",
      "  _warn_prf(average, modifier, msg_start, len(result))\n",
      "/Applications/anaconda3/envs/dev/lib/python3.9/site-packages/sklearn/metrics/_classification.py:1308: UndefinedMetricWarning: Precision and F-score are ill-defined and being set to 0.0 in labels with no predicted samples. Use `zero_division` parameter to control this behavior.\n",
      "  _warn_prf(average, modifier, msg_start, len(result))\n"
     ]
    }
   ],
   "source": [
    "svm_training_report = classification_report(y_train, svm_pred_training)\n",
    "print(svm_training_report)"
   ]
  },
  {
   "cell_type": "code",
   "execution_count": 469,
   "id": "461105fa-568a-4f92-9f72-e5cc91f35f58",
   "metadata": {},
   "outputs": [
    {
     "name": "stdout",
     "output_type": "stream",
     "text": [
      "              precision    recall  f1-score   support\n",
      "\n",
      "        -1.0       0.00      0.00      0.00       574\n",
      "         1.0       0.52      1.00      0.68       617\n",
      "\n",
      "    accuracy                           0.52      1191\n",
      "   macro avg       0.26      0.50      0.34      1191\n",
      "weighted avg       0.27      0.52      0.35      1191\n",
      "\n"
     ]
    },
    {
     "name": "stderr",
     "output_type": "stream",
     "text": [
      "/Applications/anaconda3/envs/dev/lib/python3.9/site-packages/sklearn/metrics/_classification.py:1308: UndefinedMetricWarning: Precision and F-score are ill-defined and being set to 0.0 in labels with no predicted samples. Use `zero_division` parameter to control this behavior.\n",
      "  _warn_prf(average, modifier, msg_start, len(result))\n",
      "/Applications/anaconda3/envs/dev/lib/python3.9/site-packages/sklearn/metrics/_classification.py:1308: UndefinedMetricWarning: Precision and F-score are ill-defined and being set to 0.0 in labels with no predicted samples. Use `zero_division` parameter to control this behavior.\n",
      "  _warn_prf(average, modifier, msg_start, len(result))\n",
      "/Applications/anaconda3/envs/dev/lib/python3.9/site-packages/sklearn/metrics/_classification.py:1308: UndefinedMetricWarning: Precision and F-score are ill-defined and being set to 0.0 in labels with no predicted samples. Use `zero_division` parameter to control this behavior.\n",
      "  _warn_prf(average, modifier, msg_start, len(result))\n"
     ]
    }
   ],
   "source": [
    "svm_pred_testing = svm_model.predict(X_test_scaled)\n",
    "svm_testing_report = classification_report(y_test, svm_pred_testing)\n",
    "print(svm_testing_report)"
   ]
  },
  {
   "cell_type": "code",
   "execution_count": 470,
   "id": "2576b5ec-0dd6-4aae-ae88-b73826dfcf12",
   "metadata": {},
   "outputs": [],
   "source": [
    "predictions_df = pd.DataFrame(index = X_test.index)\n",
    "predictions_df['Predicted'] = svm_pred_testing"
   ]
  },
  {
   "cell_type": "code",
   "execution_count": 471,
   "id": "e65f9e09-f457-426c-96e4-8c55fd86d255",
   "metadata": {},
   "outputs": [
    {
     "data": {
      "text/html": [
       "<div>\n",
       "<style scoped>\n",
       "    .dataframe tbody tr th:only-of-type {\n",
       "        vertical-align: middle;\n",
       "    }\n",
       "\n",
       "    .dataframe tbody tr th {\n",
       "        vertical-align: top;\n",
       "    }\n",
       "\n",
       "    .dataframe thead th {\n",
       "        text-align: right;\n",
       "    }\n",
       "</style>\n",
       "<table border=\"1\" class=\"dataframe\">\n",
       "  <thead>\n",
       "    <tr style=\"text-align: right;\">\n",
       "      <th></th>\n",
       "      <th>Predicted</th>\n",
       "      <th>Actual Returns</th>\n",
       "      <th>Strategy Returns</th>\n",
       "    </tr>\n",
       "    <tr>\n",
       "      <th>Date</th>\n",
       "      <th></th>\n",
       "      <th></th>\n",
       "      <th></th>\n",
       "    </tr>\n",
       "  </thead>\n",
       "  <tbody>\n",
       "    <tr>\n",
       "      <th>2017-06-21</th>\n",
       "      <td>1.0</td>\n",
       "      <td>0.009278</td>\n",
       "      <td>0.009278</td>\n",
       "    </tr>\n",
       "    <tr>\n",
       "      <th>2017-06-22</th>\n",
       "      <td>1.0</td>\n",
       "      <td>-0.002460</td>\n",
       "      <td>-0.002460</td>\n",
       "    </tr>\n",
       "    <tr>\n",
       "      <th>2017-06-23</th>\n",
       "      <td>1.0</td>\n",
       "      <td>0.008881</td>\n",
       "      <td>0.008881</td>\n",
       "    </tr>\n",
       "    <tr>\n",
       "      <th>2017-06-26</th>\n",
       "      <td>1.0</td>\n",
       "      <td>-0.013795</td>\n",
       "      <td>-0.013795</td>\n",
       "    </tr>\n",
       "    <tr>\n",
       "      <th>2017-06-27</th>\n",
       "      <td>1.0</td>\n",
       "      <td>-0.026190</td>\n",
       "      <td>-0.026190</td>\n",
       "    </tr>\n",
       "  </tbody>\n",
       "</table>\n",
       "</div>"
      ],
      "text/plain": [
       "            Predicted  Actual Returns  Strategy Returns\n",
       "Date                                                   \n",
       "2017-06-21        1.0        0.009278          0.009278\n",
       "2017-06-22        1.0       -0.002460         -0.002460\n",
       "2017-06-23        1.0        0.008881          0.008881\n",
       "2017-06-26        1.0       -0.013795         -0.013795\n",
       "2017-06-27        1.0       -0.026190         -0.026190"
      ]
     },
     "metadata": {},
     "output_type": "display_data"
    },
    {
     "data": {
      "text/html": [
       "<div>\n",
       "<style scoped>\n",
       "    .dataframe tbody tr th:only-of-type {\n",
       "        vertical-align: middle;\n",
       "    }\n",
       "\n",
       "    .dataframe tbody tr th {\n",
       "        vertical-align: top;\n",
       "    }\n",
       "\n",
       "    .dataframe thead th {\n",
       "        text-align: right;\n",
       "    }\n",
       "</style>\n",
       "<table border=\"1\" class=\"dataframe\">\n",
       "  <thead>\n",
       "    <tr style=\"text-align: right;\">\n",
       "      <th></th>\n",
       "      <th>Predicted</th>\n",
       "      <th>Actual Returns</th>\n",
       "      <th>Strategy Returns</th>\n",
       "    </tr>\n",
       "    <tr>\n",
       "      <th>Date</th>\n",
       "      <th></th>\n",
       "      <th></th>\n",
       "      <th></th>\n",
       "    </tr>\n",
       "  </thead>\n",
       "  <tbody>\n",
       "    <tr>\n",
       "      <th>2022-03-08</th>\n",
       "      <td>1.0</td>\n",
       "      <td>0.006437</td>\n",
       "      <td>0.006437</td>\n",
       "    </tr>\n",
       "    <tr>\n",
       "      <th>2022-03-09</th>\n",
       "      <td>1.0</td>\n",
       "      <td>0.051757</td>\n",
       "      <td>0.051757</td>\n",
       "    </tr>\n",
       "    <tr>\n",
       "      <th>2022-03-10</th>\n",
       "      <td>1.0</td>\n",
       "      <td>-0.008845</td>\n",
       "      <td>-0.008845</td>\n",
       "    </tr>\n",
       "    <tr>\n",
       "      <th>2022-03-11</th>\n",
       "      <td>1.0</td>\n",
       "      <td>-0.016630</td>\n",
       "      <td>-0.016630</td>\n",
       "    </tr>\n",
       "    <tr>\n",
       "      <th>2022-03-14</th>\n",
       "      <td>1.0</td>\n",
       "      <td>-0.028622</td>\n",
       "      <td>-0.028622</td>\n",
       "    </tr>\n",
       "  </tbody>\n",
       "</table>\n",
       "</div>"
      ],
      "text/plain": [
       "            Predicted  Actual Returns  Strategy Returns\n",
       "Date                                                   \n",
       "2022-03-08        1.0        0.006437          0.006437\n",
       "2022-03-09        1.0        0.051757          0.051757\n",
       "2022-03-10        1.0       -0.008845         -0.008845\n",
       "2022-03-11        1.0       -0.016630         -0.016630\n",
       "2022-03-14        1.0       -0.028622         -0.028622"
      ]
     },
     "metadata": {},
     "output_type": "display_data"
    }
   ],
   "source": [
    "predictions_df['Actual Returns'] = goog_df['Actual Returns']\n",
    "predictions_df['Strategy Returns'] = (\n",
    "    predictions_df['Actual Returns'] * predictions_df['Predicted']\n",
    ")\n",
    "display(predictions_df.head())\n",
    "display(predictions_df.tail())"
   ]
  },
  {
   "cell_type": "code",
   "execution_count": 473,
   "id": "ad06ea74-8f82-4cc7-9079-75db75000a95",
   "metadata": {},
   "outputs": [
    {
     "data": {},
     "metadata": {},
     "output_type": "display_data"
    },
    {
     "data": {
      "application/vnd.holoviews_exec.v0+json": "",
      "text/html": [
       "<div id='9223'>\n",
       "\n",
       "\n",
       "\n",
       "\n",
       "\n",
       "  <div class=\"bk-root\" id=\"bd1f8b6a-9e8e-4bcb-90d0-9ba356e97d39\" data-root-id=\"9223\"></div>\n",
       "</div>\n",
       "<script type=\"application/javascript\">(function(root) {\n",
       "  function embed_document(root) {\n",
       "    var docs_json = {\"d32baa86-dcd7-46c6-ba8f-a34bc08181bf\":{\"defs\":[{\"extends\":null,\"module\":null,\"name\":\"ReactiveHTML1\",\"overrides\":[],\"properties\":[]},{\"extends\":null,\"module\":null,\"name\":\"FlexBox1\",\"overrides\":[],\"properties\":[{\"default\":\"flex-start\",\"kind\":null,\"name\":\"align_content\"},{\"default\":\"flex-start\",\"kind\":null,\"name\":\"align_items\"},{\"default\":\"row\",\"kind\":null,\"name\":\"flex_direction\"},{\"default\":\"wrap\",\"kind\":null,\"name\":\"flex_wrap\"},{\"default\":\"flex-start\",\"kind\":null,\"name\":\"justify_content\"}]},{\"extends\":null,\"module\":null,\"name\":\"TemplateActions1\",\"overrides\":[],\"properties\":[{\"default\":0,\"kind\":null,\"name\":\"open_modal\"},{\"default\":0,\"kind\":null,\"name\":\"close_modal\"}]},{\"extends\":null,\"module\":null,\"name\":\"MaterialTemplateActions1\",\"overrides\":[],\"properties\":[{\"default\":0,\"kind\":null,\"name\":\"open_modal\"},{\"default\":0,\"kind\":null,\"name\":\"close_modal\"}]}],\"roots\":{\"references\":[{\"attributes\":{\"bottom_units\":\"screen\",\"coordinates\":null,\"fill_alpha\":0.5,\"fill_color\":\"lightgrey\",\"group\":null,\"left_units\":\"screen\",\"level\":\"overlay\",\"line_alpha\":1.0,\"line_color\":\"black\",\"line_dash\":[4,4],\"line_width\":2,\"right_units\":\"screen\",\"syncable\":false,\"top_units\":\"screen\"},\"id\":\"9251\",\"type\":\"BoxAnnotation\"},{\"attributes\":{\"line_color\":\"#fc4f30\",\"line_width\":2,\"x\":{\"field\":\"Date\"},\"y\":{\"field\":\"value\"}},\"id\":\"9301\",\"type\":\"Line\"},{\"attributes\":{\"source\":{\"id\":\"9265\"}},\"id\":\"9272\",\"type\":\"CDSView\"},{\"attributes\":{},\"id\":\"9243\",\"type\":\"BasicTicker\"},{\"attributes\":{},\"id\":\"9299\",\"type\":\"Selection\"},{\"attributes\":{\"label\":{\"value\":\"Strategy Returns\"},\"renderers\":[{\"id\":\"9304\"}]},\"id\":\"9330\",\"type\":\"LegendItem\"},{\"attributes\":{\"axis_label\":\"Date\",\"coordinates\":null,\"formatter\":{\"id\":\"9260\"},\"group\":null,\"major_label_policy\":{\"id\":\"9261\"},\"ticker\":{\"id\":\"9239\"}},\"id\":\"9238\",\"type\":\"DatetimeAxis\"},{\"attributes\":{},\"id\":\"9234\",\"type\":\"LinearScale\"},{\"attributes\":{},\"id\":\"9236\",\"type\":\"LinearScale\"},{\"attributes\":{\"days\":[1,4,7,10,13,16,19,22,25,28]},\"id\":\"9287\",\"type\":\"DaysTicker\"},{\"attributes\":{\"margin\":[5,5,5,5],\"name\":\"HSpacer11941\",\"sizing_mode\":\"stretch_width\"},\"id\":\"9224\",\"type\":\"Spacer\"},{\"attributes\":{\"end\":3.3932527976538935,\"reset_end\":3.3932527976538935,\"reset_start\":0.7228385558901026,\"start\":0.7228385558901026,\"tags\":[[[\"value\",\"value\",null]]]},\"id\":\"9226\",\"type\":\"Range1d\"},{\"attributes\":{},\"id\":\"9260\",\"type\":\"DatetimeTickFormatter\"},{\"attributes\":{\"months\":[0,6]},\"id\":\"9293\",\"type\":\"MonthsTicker\"},{\"attributes\":{\"data\":{\"Date\":{\"__ndarray__\":\"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\",\"dtype\":\"float64\",\"order\":\"little\",\"shape\":[1191]},\"Variable\":[\"Strategy Returns\",\"Strategy Returns\",\"Strategy Returns\",\"Strategy Returns\",\"Strategy Returns\",\"Strategy Returns\",\"Strategy Returns\",\"Strategy Returns\",\"Strategy Returns\",\"Strategy Returns\",\"Strategy Returns\",\"Strategy Returns\",\"Strategy Returns\",\"Strategy Returns\",\"Strategy Returns\",\"Strategy Returns\",\"Strategy Returns\",\"Strategy Returns\",\"Strategy Returns\",\"Strategy Returns\",\"Strategy Returns\",\"Strategy Returns\",\"Strategy Returns\",\"Strategy Returns\",\"Strategy Returns\",\"Strategy Returns\",\"Strategy Returns\",\"Strategy Returns\",\"Strategy Returns\",\"Strategy Returns\",\"Strategy Returns\",\"Strategy Returns\",\"Strategy Returns\",\"Strategy Returns\",\"Strategy Returns\",\"Strategy Returns\",\"Strategy Returns\",\"Strategy Returns\",\"Strategy Returns\",\"Strategy Returns\",\"Strategy Returns\",\"Strategy Returns\",\"Strategy Returns\",\"Strategy Returns\",\"Strategy Returns\",\"Strategy Returns\",\"Strategy Returns\",\"Strategy Returns\",\"Strategy Returns\",\"Strategy Returns\",\"Strategy Returns\",\"Strategy Returns\",\"Strategy Returns\",\"Strategy Returns\",\"Strategy Returns\",\"Strategy Returns\",\"Strategy Returns\",\"Strategy Returns\",\"Strategy Returns\",\"Strategy Returns\",\"Strategy Returns\",\"Strategy Returns\",\"Strategy Returns\",\"Strategy Returns\",\"Strategy Returns\",\"Strategy Returns\",\"Strategy Returns\",\"Strategy Returns\",\"Strategy Returns\",\"Strategy Returns\",\"Strategy Returns\",\"Strategy Returns\",\"Strategy Returns\",\"Strategy Returns\",\"Strategy Returns\",\"Strategy Returns\",\"Strategy Returns\",\"Strategy Returns\",\"Strategy Returns\",\"Strategy Returns\",\"Strategy Returns\",\"Strategy Returns\",\"Strategy Returns\",\"Strategy Returns\",\"Strategy Returns\",\"Strategy Returns\",\"Strategy Returns\",\"Strategy Returns\",\"Strategy Returns\",\"Strategy Returns\",\"Strategy Returns\",\"Strategy Returns\",\"Strategy Returns\",\"Strategy Returns\",\"Strategy Returns\",\"Strategy Returns\",\"Strategy Returns\",\"Strategy Returns\",\"Strategy Returns\",\"Strategy Returns\",\"Strategy Returns\",\"Strategy Returns\",\"Strategy Returns\",\"Strategy Returns\",\"Strategy Returns\",\"Strategy Returns\",\"Strategy Returns\",\"Strategy Returns\",\"Strategy Returns\",\"Strategy Returns\",\"Strategy Returns\",\"Strategy Returns\",\"Strategy Returns\",\"Strategy Returns\",\"Strategy Returns\",\"Strategy Returns\",\"Strategy Returns\",\"Strategy Returns\",\"Strategy Returns\",\"Strategy Returns\",\"Strategy Returns\",\"Strategy Returns\",\"Strategy Returns\",\"Strategy Returns\",\"Strategy Returns\",\"Strategy Returns\",\"Strategy Returns\",\"Strategy Returns\",\"Strategy Returns\",\"Strategy Returns\",\"Strategy Returns\",\"Strategy Returns\",\"Strategy Returns\",\"Strategy Returns\",\"Strategy Returns\",\"Strategy Returns\",\"Strategy Returns\",\"Strategy Returns\",\"Strategy Returns\",\"Strategy Returns\",\"Strategy Returns\",\"Strategy Returns\",\"Strategy Returns\",\"Strategy Returns\",\"Strategy Returns\",\"Strategy Returns\",\"Strategy Returns\",\"Strategy Returns\",\"Strategy Returns\",\"Strategy Returns\",\"Strategy Returns\",\"Strategy Returns\",\"Strategy Returns\",\"Strategy Returns\",\"Strategy Returns\",\"Strategy Returns\",\"Strategy Returns\",\"Strategy Returns\",\"Strategy Returns\",\"Strategy Returns\",\"Strategy Returns\",\"Strategy Returns\",\"Strategy Returns\",\"Strategy Returns\",\"Strategy Returns\",\"Strategy Returns\",\"Strategy Returns\",\"Strategy Returns\",\"Strategy Returns\",\"Strategy Returns\",\"Strategy Returns\",\"Strategy Returns\",\"Strategy Returns\",\"Strategy Returns\",\"Strategy Returns\",\"Strategy Returns\",\"Strategy Returns\",\"Strategy Returns\",\"Strategy Returns\",\"Strategy Returns\",\"Strategy Returns\",\"Strategy Returns\",\"Strategy Returns\",\"Strategy Returns\",\"Strategy Returns\",\"Strategy Returns\",\"Strategy Returns\",\"Strategy Returns\",\"Strategy Returns\",\"Strategy Returns\",\"Strategy Returns\",\"Strategy Returns\",\"Strategy Returns\",\"Strategy Returns\",\"Strategy Returns\",\"Strategy Returns\",\"Strategy Returns\",\"Strategy Returns\",\"Strategy Returns\",\"Strategy Returns\",\"Strategy Returns\",\"Strategy Returns\",\"Strategy Returns\",\"Strategy Returns\",\"Strategy Returns\",\"Strategy Returns\",\"Strategy Returns\",\"Strategy Returns\",\"Strategy Returns\",\"Strategy Returns\",\"Strategy Returns\",\"Strategy Returns\",\"Strategy Returns\",\"Strategy Returns\",\"Strategy Returns\",\"Strategy Returns\",\"Strategy Returns\",\"Strategy Returns\",\"Strategy Returns\",\"Strategy Returns\",\"Strategy Returns\",\"Strategy Returns\",\"Strategy Returns\",\"Strategy Returns\",\"Strategy Returns\",\"Strategy Returns\",\"Strategy Returns\",\"Strategy Returns\",\"Strategy Returns\",\"Strategy Returns\",\"Strategy Returns\",\"Strategy Returns\",\"Strategy Returns\",\"Strategy Returns\",\"Strategy Returns\",\"Strategy Returns\",\"Strategy Returns\",\"Strategy Returns\",\"Strategy Returns\",\"Strategy Returns\",\"Strategy Returns\",\"Strategy Returns\",\"Strategy Returns\",\"Strategy Returns\",\"Strategy Returns\",\"Strategy Returns\",\"Strategy Returns\",\"Strategy Returns\",\"Strategy Returns\",\"Strategy Returns\",\"Strategy Returns\",\"Strategy Returns\",\"Strategy Returns\",\"Strategy Returns\",\"Strategy Returns\",\"Strategy Returns\",\"Strategy Returns\",\"Strategy Returns\",\"Strategy Returns\",\"Strategy Returns\",\"Strategy Returns\",\"Strategy Returns\",\"Strategy Returns\",\"Strategy Returns\",\"Strategy Returns\",\"Strategy Returns\",\"Strategy Returns\",\"Strategy Returns\",\"Strategy Returns\",\"Strategy Returns\",\"Strategy Returns\",\"Strategy Returns\",\"Strategy Returns\",\"Strategy Returns\",\"Strategy Returns\",\"Strategy Returns\",\"Strategy Returns\",\"Strategy Returns\",\"Strategy Returns\",\"Strategy Returns\",\"Strategy Returns\",\"Strategy Returns\",\"Strategy Returns\",\"Strategy Returns\",\"Strategy Returns\",\"Strategy Returns\",\"Strategy Returns\",\"Strategy Returns\",\"Strategy Returns\",\"Strategy Returns\",\"Strategy Returns\",\"Strategy Returns\",\"Strategy Returns\",\"Strategy Returns\",\"Strategy Returns\",\"Strategy Returns\",\"Strategy Returns\",\"Strategy Returns\",\"Strategy Returns\",\"Strategy Returns\",\"Strategy Returns\",\"Strategy Returns\",\"Strategy Returns\",\"Strategy Returns\",\"Strategy Returns\",\"Strategy Returns\",\"Strategy Returns\",\"Strategy Returns\",\"Strategy Returns\",\"Strategy Returns\",\"Strategy Returns\",\"Strategy Returns\",\"Strategy Returns\",\"Strategy Returns\",\"Strategy Returns\",\"Strategy Returns\",\"Strategy Returns\",\"Strategy Returns\",\"Strategy Returns\",\"Strategy Returns\",\"Strategy Returns\",\"Strategy Returns\",\"Strategy Returns\",\"Strategy Returns\",\"Strategy Returns\",\"Strategy Returns\",\"Strategy Returns\",\"Strategy Returns\",\"Strategy Returns\",\"Strategy Returns\",\"Strategy Returns\",\"Strategy Returns\",\"Strategy Returns\",\"Strategy Returns\",\"Strategy Returns\",\"Strategy Returns\",\"Strategy Returns\",\"Strategy Returns\",\"Strategy Returns\",\"Strategy Returns\",\"Strategy Returns\",\"Strategy Returns\",\"Strategy Returns\",\"Strategy Returns\",\"Strategy Returns\",\"Strategy Returns\",\"Strategy Returns\",\"Strategy Returns\",\"Strategy Returns\",\"Strategy Returns\",\"Strategy Returns\",\"Strategy Returns\",\"Strategy Returns\",\"Strategy Returns\",\"Strategy Returns\",\"Strategy Returns\",\"Strategy Returns\",\"Strategy Returns\",\"Strategy Returns\",\"Strategy Returns\",\"Strategy Returns\",\"Strategy Returns\",\"Strategy Returns\",\"Strategy Returns\",\"Strategy Returns\",\"Strategy Returns\",\"Strategy Returns\",\"Strategy Returns\",\"Strategy Returns\",\"Strategy Returns\",\"Strategy Returns\",\"Strategy Returns\",\"Strategy Returns\",\"Strategy Returns\",\"Strategy Returns\",\"Strategy Returns\",\"Strategy Returns\",\"Strategy Returns\",\"Strategy Returns\",\"Strategy Returns\",\"Strategy Returns\",\"Strategy Returns\",\"Strategy Returns\",\"Strategy Returns\",\"Strategy Returns\",\"Strategy Returns\",\"Strategy Returns\",\"Strategy Returns\",\"Strategy Returns\",\"Strategy Returns\",\"Strategy Returns\",\"Strategy Returns\",\"Strategy Returns\",\"Strategy Returns\",\"Strategy Returns\",\"Strategy Returns\",\"Strategy Returns\",\"Strategy Returns\",\"Strategy Returns\",\"Strategy Returns\",\"Strategy Returns\",\"Strategy Returns\",\"Strategy Returns\",\"Strategy Returns\",\"Strategy Returns\",\"Strategy Returns\",\"Strategy Returns\",\"Strategy Returns\",\"Strategy Returns\",\"Strategy Returns\",\"Strategy Returns\",\"Strategy Returns\",\"Strategy Returns\",\"Strategy Returns\",\"Strategy Returns\",\"Strategy Returns\",\"Strategy Returns\",\"Strategy Returns\",\"Strategy Returns\",\"Strategy Returns\",\"Strategy Returns\",\"Strategy Returns\",\"Strategy Returns\",\"Strategy Returns\",\"Strategy Returns\",\"Strategy Returns\",\"Strategy Returns\",\"Strategy Returns\",\"Strategy Returns\",\"Strategy Returns\",\"Strategy Returns\",\"Strategy Returns\",\"Strategy Returns\",\"Strategy Returns\",\"Strategy Returns\",\"Strategy Returns\",\"Strategy Returns\",\"Strategy Returns\",\"Strategy Returns\",\"Strategy Returns\",\"Strategy Returns\",\"Strategy Returns\",\"Strategy Returns\",\"Strategy Returns\",\"Strategy Returns\",\"Strategy Returns\",\"Strategy Returns\",\"Strategy Returns\",\"Strategy Returns\",\"Strategy Returns\",\"Strategy Returns\",\"Strategy Returns\",\"Strategy Returns\",\"Strategy Returns\",\"Strategy Returns\",\"Strategy Returns\",\"Strategy Returns\",\"Strategy Returns\",\"Strategy Returns\",\"Strategy Returns\",\"Strategy Returns\",\"Strategy Returns\",\"Strategy Returns\",\"Strategy Returns\",\"Strategy Returns\",\"Strategy Returns\",\"Strategy Returns\",\"Strategy Returns\",\"Strategy Returns\",\"Strategy Returns\",\"Strategy Returns\",\"Strategy Returns\",\"Strategy Returns\",\"Strategy Returns\",\"Strategy Returns\",\"Strategy Returns\",\"Strategy Returns\",\"Strategy Returns\",\"Strategy Returns\",\"Strategy Returns\",\"Strategy Returns\",\"Strategy Returns\",\"Strategy Returns\",\"Strategy Returns\",\"Strategy Returns\",\"Strategy Returns\",\"Strategy Returns\",\"Strategy Returns\",\"Strategy Returns\",\"Strategy Returns\",\"Strategy Returns\",\"Strategy Returns\",\"Strategy Returns\",\"Strategy Returns\",\"Strategy Returns\",\"Strategy Returns\",\"Strategy Returns\",\"Strategy Returns\",\"Strategy Returns\",\"Strategy Returns\",\"Strategy Returns\",\"Strategy Returns\",\"Strategy Returns\",\"Strategy Returns\",\"Strategy Returns\",\"Strategy Returns\",\"Strategy Returns\",\"Strategy Returns\",\"Strategy Returns\",\"Strategy Returns\",\"Strategy Returns\",\"Strategy Returns\",\"Strategy Returns\",\"Strategy Returns\",\"Strategy Returns\",\"Strategy Returns\",\"Strategy Returns\",\"Strategy Returns\",\"Strategy Returns\",\"Strategy Returns\",\"Strategy Returns\",\"Strategy Returns\",\"Strategy Returns\",\"Strategy Returns\",\"Strategy Returns\",\"Strategy Returns\",\"Strategy Returns\",\"Strategy Returns\",\"Strategy Returns\",\"Strategy Returns\",\"Strategy Returns\",\"Strategy Returns\",\"Strategy Returns\",\"Strategy Returns\",\"Strategy Returns\",\"Strategy Returns\",\"Strategy Returns\",\"Strategy Returns\",\"Strategy Returns\",\"Strategy Returns\",\"Strategy Returns\",\"Strategy Returns\",\"Strategy Returns\",\"Strategy Returns\",\"Strategy Returns\",\"Strategy Returns\",\"Strategy Returns\",\"Strategy Returns\",\"Strategy Returns\",\"Strategy Returns\",\"Strategy Returns\",\"Strategy Returns\",\"Strategy Returns\",\"Strategy Returns\",\"Strategy Returns\",\"Strategy Returns\",\"Strategy Returns\",\"Strategy Returns\",\"Strategy Returns\",\"Strategy Returns\",\"Strategy Returns\",\"Strategy Returns\",\"Strategy Returns\",\"Strategy Returns\",\"Strategy Returns\",\"Strategy Returns\",\"Strategy Returns\",\"Strategy Returns\",\"Strategy Returns\",\"Strategy Returns\",\"Strategy Returns\",\"Strategy Returns\",\"Strategy Returns\",\"Strategy Returns\",\"Strategy Returns\",\"Strategy Returns\",\"Strategy Returns\",\"Strategy Returns\",\"Strategy Returns\",\"Strategy Returns\",\"Strategy Returns\",\"Strategy Returns\",\"Strategy Returns\",\"Strategy Returns\",\"Strategy Returns\",\"Strategy Returns\",\"Strategy Returns\",\"Strategy Returns\",\"Strategy Returns\",\"Strategy Returns\",\"Strategy Returns\",\"Strategy Returns\",\"Strategy Returns\",\"Strategy Returns\",\"Strategy Returns\",\"Strategy Returns\",\"Strategy Returns\",\"Strategy Returns\",\"Strategy Returns\",\"Strategy Returns\",\"Strategy Returns\",\"Strategy Returns\",\"Strategy Returns\",\"Strategy Returns\",\"Strategy Returns\",\"Strategy Returns\",\"Strategy Returns\",\"Strategy Returns\",\"Strategy Returns\",\"Strategy Returns\",\"Strategy Returns\",\"Strategy Returns\",\"Strategy Returns\",\"Strategy Returns\",\"Strategy Returns\",\"Strategy Returns\",\"Strategy Returns\",\"Strategy Returns\",\"Strategy Returns\",\"Strategy Returns\",\"Strategy Returns\",\"Strategy Returns\",\"Strategy Returns\",\"Strategy Returns\",\"Strategy Returns\",\"Strategy Returns\",\"Strategy Returns\",\"Strategy Returns\",\"Strategy Returns\",\"Strategy Returns\",\"Strategy Returns\",\"Strategy Returns\",\"Strategy Returns\",\"Strategy Returns\",\"Strategy Returns\",\"Strategy Returns\",\"Strategy Returns\",\"Strategy Returns\",\"Strategy Returns\",\"Strategy Returns\",\"Strategy Returns\",\"Strategy Returns\",\"Strategy Returns\",\"Strategy Returns\",\"Strategy Returns\",\"Strategy Returns\",\"Strategy Returns\",\"Strategy Returns\",\"Strategy Returns\",\"Strategy Returns\",\"Strategy Returns\",\"Strategy Returns\",\"Strategy Returns\",\"Strategy Returns\",\"Strategy Returns\",\"Strategy Returns\",\"Strategy Returns\",\"Strategy Returns\",\"Strategy Returns\",\"Strategy Returns\",\"Strategy Returns\",\"Strategy Returns\",\"Strategy Returns\",\"Strategy Returns\",\"Strategy Returns\",\"Strategy Returns\",\"Strategy Returns\",\"Strategy Returns\",\"Strategy Returns\",\"Strategy Returns\",\"Strategy Returns\",\"Strategy Returns\",\"Strategy Returns\",\"Strategy Returns\",\"Strategy Returns\",\"Strategy Returns\",\"Strategy Returns\",\"Strategy Returns\",\"Strategy Returns\",\"Strategy Returns\",\"Strategy Returns\",\"Strategy Returns\",\"Strategy Returns\",\"Strategy Returns\",\"Strategy Returns\",\"Strategy Returns\",\"Strategy Returns\",\"Strategy Returns\",\"Strategy Returns\",\"Strategy Returns\",\"Strategy Returns\",\"Strategy Returns\",\"Strategy Returns\",\"Strategy Returns\",\"Strategy Returns\",\"Strategy Returns\",\"Strategy Returns\",\"Strategy Returns\",\"Strategy Returns\",\"Strategy Returns\",\"Strategy Returns\",\"Strategy Returns\",\"Strategy Returns\",\"Strategy Returns\",\"Strategy Returns\",\"Strategy Returns\",\"Strategy Returns\",\"Strategy Returns\",\"Strategy Returns\",\"Strategy Returns\",\"Strategy Returns\",\"Strategy Returns\",\"Strategy Returns\",\"Strategy Returns\",\"Strategy Returns\",\"Strategy Returns\",\"Strategy Returns\",\"Strategy Returns\",\"Strategy Returns\",\"Strategy Returns\",\"Strategy Returns\",\"Strategy Returns\",\"Strategy Returns\",\"Strategy Returns\",\"Strategy Returns\",\"Strategy Returns\",\"Strategy Returns\",\"Strategy Returns\",\"Strategy Returns\",\"Strategy Returns\",\"Strategy Returns\",\"Strategy Returns\",\"Strategy Returns\",\"Strategy Returns\",\"Strategy Returns\",\"Strategy Returns\",\"Strategy Returns\",\"Strategy Returns\",\"Strategy Returns\",\"Strategy Returns\",\"Strategy Returns\",\"Strategy Returns\",\"Strategy Returns\",\"Strategy Returns\",\"Strategy Returns\",\"Strategy Returns\",\"Strategy Returns\",\"Strategy Returns\",\"Strategy Returns\",\"Strategy Returns\",\"Strategy Returns\",\"Strategy Returns\",\"Strategy Returns\",\"Strategy Returns\",\"Strategy Returns\",\"Strategy Returns\",\"Strategy Returns\",\"Strategy Returns\",\"Strategy Returns\",\"Strategy Returns\",\"Strategy Returns\",\"Strategy Returns\",\"Strategy Returns\",\"Strategy Returns\",\"Strategy Returns\",\"Strategy Returns\",\"Strategy Returns\",\"Strategy Returns\",\"Strategy Returns\",\"Strategy Returns\",\"Strategy Returns\",\"Strategy Returns\",\"Strategy Returns\",\"Strategy Returns\",\"Strategy Returns\",\"Strategy Returns\",\"Strategy Returns\",\"Strategy Returns\",\"Strategy Returns\",\"Strategy Returns\",\"Strategy Returns\",\"Strategy Returns\",\"Strategy Returns\",\"Strategy Returns\",\"Strategy Returns\",\"Strategy Returns\",\"Strategy Returns\",\"Strategy Returns\",\"Strategy Returns\",\"Strategy Returns\",\"Strategy Returns\",\"Strategy Returns\",\"Strategy Returns\",\"Strategy Returns\",\"Strategy Returns\",\"Strategy Returns\",\"Strategy Returns\",\"Strategy Returns\",\"Strategy Returns\",\"Strategy Returns\",\"Strategy Returns\",\"Strategy Returns\",\"Strategy Returns\",\"Strategy Returns\",\"Strategy Returns\",\"Strategy Returns\",\"Strategy Returns\",\"Strategy Returns\",\"Strategy Returns\",\"Strategy Returns\",\"Strategy Returns\",\"Strategy Returns\",\"Strategy Returns\",\"Strategy Returns\",\"Strategy Returns\",\"Strategy Returns\",\"Strategy Returns\",\"Strategy Returns\",\"Strategy Returns\",\"Strategy Returns\",\"Strategy Returns\",\"Strategy Returns\",\"Strategy Returns\",\"Strategy Returns\",\"Strategy Returns\",\"Strategy Returns\",\"Strategy Returns\",\"Strategy Returns\",\"Strategy Returns\",\"Strategy Returns\",\"Strategy Returns\",\"Strategy Returns\",\"Strategy Returns\",\"Strategy Returns\",\"Strategy Returns\",\"Strategy Returns\",\"Strategy Returns\",\"Strategy Returns\",\"Strategy Returns\",\"Strategy Returns\",\"Strategy Returns\",\"Strategy Returns\",\"Strategy Returns\",\"Strategy Returns\",\"Strategy Returns\",\"Strategy Returns\",\"Strategy Returns\",\"Strategy Returns\",\"Strategy Returns\",\"Strategy Returns\",\"Strategy Returns\",\"Strategy Returns\",\"Strategy Returns\",\"Strategy Returns\",\"Strategy Returns\",\"Strategy Returns\",\"Strategy Returns\",\"Strategy Returns\",\"Strategy Returns\",\"Strategy Returns\",\"Strategy Returns\",\"Strategy Returns\",\"Strategy Returns\",\"Strategy Returns\",\"Strategy Returns\",\"Strategy Returns\",\"Strategy Returns\",\"Strategy Returns\",\"Strategy Returns\",\"Strategy Returns\",\"Strategy Returns\",\"Strategy Returns\",\"Strategy Returns\",\"Strategy Returns\",\"Strategy Returns\",\"Strategy Returns\",\"Strategy Returns\",\"Strategy Returns\",\"Strategy Returns\",\"Strategy Returns\",\"Strategy Returns\",\"Strategy Returns\",\"Strategy Returns\",\"Strategy Returns\",\"Strategy Returns\",\"Strategy Returns\",\"Strategy Returns\",\"Strategy Returns\",\"Strategy Returns\",\"Strategy Returns\",\"Strategy Returns\",\"Strategy Returns\",\"Strategy Returns\",\"Strategy Returns\",\"Strategy Returns\",\"Strategy Returns\",\"Strategy Returns\",\"Strategy Returns\",\"Strategy Returns\",\"Strategy Returns\",\"Strategy Returns\",\"Strategy Returns\",\"Strategy Returns\",\"Strategy Returns\",\"Strategy Returns\",\"Strategy Returns\",\"Strategy Returns\",\"Strategy Returns\",\"Strategy Returns\",\"Strategy Returns\",\"Strategy Returns\",\"Strategy Returns\",\"Strategy Returns\",\"Strategy Returns\",\"Strategy Returns\",\"Strategy Returns\",\"Strategy Returns\",\"Strategy Returns\",\"Strategy Returns\",\"Strategy Returns\",\"Strategy Returns\",\"Strategy Returns\",\"Strategy Returns\",\"Strategy Returns\",\"Strategy Returns\",\"Strategy Returns\",\"Strategy Returns\",\"Strategy Returns\",\"Strategy Returns\",\"Strategy Returns\",\"Strategy Returns\",\"Strategy Returns\",\"Strategy Returns\",\"Strategy Returns\",\"Strategy Returns\",\"Strategy Returns\",\"Strategy Returns\",\"Strategy Returns\",\"Strategy Returns\",\"Strategy Returns\",\"Strategy Returns\",\"Strategy Returns\",\"Strategy Returns\",\"Strategy Returns\",\"Strategy Returns\",\"Strategy Returns\",\"Strategy Returns\",\"Strategy Returns\",\"Strategy Returns\",\"Strategy Returns\",\"Strategy Returns\",\"Strategy Returns\",\"Strategy Returns\",\"Strategy Returns\",\"Strategy Returns\",\"Strategy Returns\",\"Strategy Returns\",\"Strategy Returns\",\"Strategy Returns\",\"Strategy Returns\",\"Strategy Returns\",\"Strategy Returns\",\"Strategy Returns\",\"Strategy Returns\",\"Strategy Returns\",\"Strategy Returns\",\"Strategy Returns\",\"Strategy Returns\",\"Strategy Returns\",\"Strategy Returns\",\"Strategy Returns\",\"Strategy Returns\",\"Strategy Returns\",\"Strategy Returns\",\"Strategy Returns\",\"Strategy Returns\",\"Strategy Returns\",\"Strategy Returns\",\"Strategy Returns\",\"Strategy Returns\",\"Strategy Returns\",\"Strategy Returns\",\"Strategy Returns\",\"Strategy Returns\",\"Strategy Returns\",\"Strategy Returns\",\"Strategy Returns\",\"Strategy Returns\",\"Strategy Returns\",\"Strategy Returns\",\"Strategy Returns\",\"Strategy Returns\",\"Strategy Returns\",\"Strategy Returns\",\"Strategy Returns\",\"Strategy Returns\",\"Strategy Returns\",\"Strategy Returns\",\"Strategy Returns\",\"Strategy Returns\",\"Strategy Returns\",\"Strategy Returns\",\"Strategy Returns\",\"Strategy Returns\",\"Strategy Returns\",\"Strategy Returns\",\"Strategy Returns\",\"Strategy Returns\",\"Strategy Returns\",\"Strategy Returns\",\"Strategy Returns\",\"Strategy Returns\",\"Strategy Returns\",\"Strategy Returns\",\"Strategy Returns\",\"Strategy Returns\",\"Strategy Returns\",\"Strategy Returns\",\"Strategy Returns\",\"Strategy Returns\",\"Strategy Returns\",\"Strategy Returns\",\"Strategy Returns\",\"Strategy Returns\",\"Strategy Returns\",\"Strategy Returns\",\"Strategy Returns\",\"Strategy Returns\",\"Strategy Returns\",\"Strategy Returns\",\"Strategy Returns\",\"Strategy Returns\",\"Strategy Returns\",\"Strategy Returns\",\"Strategy Returns\",\"Strategy Returns\",\"Strategy Returns\",\"Strategy Returns\",\"Strategy Returns\",\"Strategy Returns\",\"Strategy Returns\",\"Strategy Returns\",\"Strategy Returns\",\"Strategy Returns\",\"Strategy Returns\",\"Strategy Returns\",\"Strategy Returns\",\"Strategy Returns\",\"Strategy Returns\",\"Strategy Returns\",\"Strategy Returns\",\"Strategy Returns\",\"Strategy Returns\",\"Strategy Returns\",\"Strategy Returns\",\"Strategy Returns\",\"Strategy Returns\",\"Strategy Returns\",\"Strategy Returns\",\"Strategy Returns\",\"Strategy Returns\",\"Strategy Returns\",\"Strategy Returns\",\"Strategy Returns\",\"Strategy Returns\",\"Strategy Returns\",\"Strategy Returns\",\"Strategy Returns\",\"Strategy Returns\",\"Strategy Returns\",\"Strategy Returns\",\"Strategy Returns\",\"Strategy Returns\",\"Strategy Returns\",\"Strategy Returns\",\"Strategy Returns\",\"Strategy Returns\",\"Strategy Returns\",\"Strategy Returns\",\"Strategy Returns\",\"Strategy Returns\",\"Strategy Returns\",\"Strategy Returns\",\"Strategy Returns\",\"Strategy Returns\",\"Strategy Returns\",\"Strategy Returns\",\"Strategy Returns\",\"Strategy Returns\",\"Strategy Returns\",\"Strategy Returns\",\"Strategy Returns\",\"Strategy Returns\",\"Strategy Returns\",\"Strategy Returns\",\"Strategy Returns\",\"Strategy Returns\",\"Strategy Returns\",\"Strategy Returns\",\"Strategy Returns\",\"Strategy Returns\",\"Strategy Returns\",\"Strategy Returns\",\"Strategy Returns\",\"Strategy Returns\",\"Strategy Returns\",\"Strategy Returns\",\"Strategy Returns\",\"Strategy Returns\",\"Strategy Returns\",\"Strategy Returns\",\"Strategy Returns\",\"Strategy Returns\",\"Strategy Returns\",\"Strategy Returns\",\"Strategy Returns\",\"Strategy Returns\",\"Strategy Returns\",\"Strategy Returns\",\"Strategy Returns\",\"Strategy Returns\",\"Strategy Returns\",\"Strategy Returns\",\"Strategy Returns\",\"Strategy Returns\",\"Strategy Returns\",\"Strategy Returns\",\"Strategy Returns\",\"Strategy Returns\",\"Strategy Returns\",\"Strategy Returns\",\"Strategy Returns\",\"Strategy Returns\",\"Strategy Returns\",\"Strategy Returns\",\"Strategy Returns\",\"Strategy Returns\",\"Strategy Returns\",\"Strategy Returns\",\"Strategy Returns\",\"Strategy Returns\",\"Strategy Returns\",\"Strategy Returns\",\"Strategy Returns\",\"Strategy Returns\",\"Strategy Returns\",\"Strategy Returns\",\"Strategy Returns\",\"Strategy Returns\",\"Strategy Returns\",\"Strategy Returns\",\"Strategy Returns\",\"Strategy Returns\",\"Strategy Returns\",\"Strategy Returns\",\"Strategy Returns\",\"Strategy Returns\",\"Strategy Returns\",\"Strategy Returns\",\"Strategy Returns\",\"Strategy Returns\",\"Strategy Returns\",\"Strategy Returns\",\"Strategy Returns\",\"Strategy Returns\",\"Strategy Returns\",\"Strategy Returns\",\"Strategy Returns\",\"Strategy Returns\",\"Strategy Returns\",\"Strategy Returns\",\"Strategy Returns\",\"Strategy Returns\",\"Strategy Returns\",\"Strategy Returns\",\"Strategy Returns\",\"Strategy Returns\",\"Strategy Returns\",\"Strategy Returns\",\"Strategy Returns\",\"Strategy Returns\",\"Strategy Returns\",\"Strategy Returns\",\"Strategy Returns\",\"Strategy Returns\",\"Strategy Returns\",\"Strategy Returns\",\"Strategy Returns\",\"Strategy Returns\",\"Strategy Returns\",\"Strategy Returns\"],\"value\":{\"__ndarray__\":\"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\",\"dtype\":\"float64\",\"order\":\"little\",\"shape\":[1191]}},\"selected\":{\"id\":\"9299\"},\"selection_policy\":{\"id\":\"9315\"}},\"id\":\"9298\",\"type\":\"ColumnDataSource\"},{\"attributes\":{\"below\":[{\"id\":\"9238\"}],\"center\":[{\"id\":\"9241\"},{\"id\":\"9245\"}],\"height\":300,\"left\":[{\"id\":\"9242\"}],\"margin\":[5,5,5,5],\"min_border_bottom\":10,\"min_border_left\":10,\"min_border_right\":10,\"min_border_top\":10,\"renderers\":[{\"id\":\"9271\"},{\"id\":\"9304\"}],\"right\":[{\"id\":\"9295\"}],\"sizing_mode\":\"fixed\",\"title\":{\"id\":\"9230\"},\"toolbar\":{\"id\":\"9252\"},\"width\":700,\"x_range\":{\"id\":\"9225\"},\"x_scale\":{\"id\":\"9234\"},\"y_range\":{\"id\":\"9226\"},\"y_scale\":{\"id\":\"9236\"}},\"id\":\"9229\",\"subtype\":\"Figure\",\"type\":\"Plot\"},{\"attributes\":{\"line_color\":\"#fc4f30\",\"line_width\":2,\"x\":{\"field\":\"Date\"},\"y\":{\"field\":\"value\"}},\"id\":\"9331\",\"type\":\"Line\"},{\"attributes\":{},\"id\":\"9263\",\"type\":\"BasicTickFormatter\"},{\"attributes\":{\"children\":[{\"id\":\"9224\"},{\"id\":\"9229\"},{\"id\":\"9548\"}],\"margin\":[0,0,0,0],\"name\":\"Row11937\",\"tags\":[\"embedded\"]},\"id\":\"9223\",\"type\":\"Row\"},{\"attributes\":{\"coordinates\":null,\"data_source\":{\"id\":\"9298\"},\"glyph\":{\"id\":\"9301\"},\"group\":null,\"hover_glyph\":null,\"muted_glyph\":{\"id\":\"9303\"},\"nonselection_glyph\":{\"id\":\"9302\"},\"selection_glyph\":{\"id\":\"9331\"},\"view\":{\"id\":\"9305\"}},\"id\":\"9304\",\"type\":\"GlyphRenderer\"},{\"attributes\":{\"months\":[0,4,8]},\"id\":\"9292\",\"type\":\"MonthsTicker\"},{\"attributes\":{\"end\":1647216000000.0,\"reset_end\":1647216000000.0,\"reset_start\":1498003200000.0,\"start\":1498003200000.0,\"tags\":[[[\"Date\",\"Date\",null]]]},\"id\":\"9225\",\"type\":\"Range1d\"},{\"attributes\":{\"axis\":{\"id\":\"9242\"},\"coordinates\":null,\"dimension\":1,\"grid_line_color\":null,\"group\":null,\"ticker\":null},\"id\":\"9245\",\"type\":\"Grid\"},{\"attributes\":{},\"id\":\"9315\",\"type\":\"UnionRenderers\"},{\"attributes\":{\"num_minor_ticks\":5,\"tickers\":[{\"id\":\"9283\"},{\"id\":\"9284\"},{\"id\":\"9285\"},{\"id\":\"9286\"},{\"id\":\"9287\"},{\"id\":\"9288\"},{\"id\":\"9289\"},{\"id\":\"9290\"},{\"id\":\"9291\"},{\"id\":\"9292\"},{\"id\":\"9293\"},{\"id\":\"9294\"}]},\"id\":\"9239\",\"type\":\"DatetimeTicker\"},{\"attributes\":{\"months\":[0,1,2,3,4,5,6,7,8,9,10,11]},\"id\":\"9290\",\"type\":\"MonthsTicker\"},{\"attributes\":{},\"id\":\"9264\",\"type\":\"AllLabels\"},{\"attributes\":{\"line_alpha\":0.1,\"line_color\":\"#fc4f30\",\"line_width\":2,\"x\":{\"field\":\"Date\"},\"y\":{\"field\":\"value\"}},\"id\":\"9302\",\"type\":\"Line\"},{\"attributes\":{},\"id\":\"9280\",\"type\":\"UnionRenderers\"},{\"attributes\":{\"line_alpha\":0.2,\"line_color\":\"#fc4f30\",\"line_width\":2,\"x\":{\"field\":\"Date\"},\"y\":{\"field\":\"value\"}},\"id\":\"9303\",\"type\":\"Line\"},{\"attributes\":{\"days\":[1,2,3,4,5,6,7,8,9,10,11,12,13,14,15,16,17,18,19,20,21,22,23,24,25,26,27,28,29,30,31]},\"id\":\"9286\",\"type\":\"DaysTicker\"},{\"attributes\":{\"days\":[1,15]},\"id\":\"9289\",\"type\":\"DaysTicker\"},{\"attributes\":{\"label\":{\"value\":\"Actual Returns\"},\"renderers\":[{\"id\":\"9271\"}]},\"id\":\"9296\",\"type\":\"LegendItem\"},{\"attributes\":{\"axis_label\":\"\",\"coordinates\":null,\"formatter\":{\"id\":\"9263\"},\"group\":null,\"major_label_policy\":{\"id\":\"9264\"},\"ticker\":{\"id\":\"9243\"}},\"id\":\"9242\",\"type\":\"LinearAxis\"},{\"attributes\":{},\"id\":\"9261\",\"type\":\"AllLabels\"},{\"attributes\":{\"click_policy\":\"mute\",\"coordinates\":null,\"group\":null,\"items\":[{\"id\":\"9296\"},{\"id\":\"9330\"}],\"location\":[0,0],\"title\":\"Variable\"},\"id\":\"9295\",\"type\":\"Legend\"},{\"attributes\":{},\"id\":\"9248\",\"type\":\"WheelZoomTool\"},{\"attributes\":{\"data\":{\"Date\":{\"__ndarray__\":\"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\",\"dtype\":\"float64\",\"order\":\"little\",\"shape\":[1191]},\"Variable\":[\"Actual Returns\",\"Actual Returns\",\"Actual Returns\",\"Actual Returns\",\"Actual Returns\",\"Actual Returns\",\"Actual Returns\",\"Actual Returns\",\"Actual Returns\",\"Actual Returns\",\"Actual Returns\",\"Actual Returns\",\"Actual Returns\",\"Actual Returns\",\"Actual Returns\",\"Actual Returns\",\"Actual Returns\",\"Actual Returns\",\"Actual Returns\",\"Actual Returns\",\"Actual Returns\",\"Actual Returns\",\"Actual Returns\",\"Actual Returns\",\"Actual Returns\",\"Actual Returns\",\"Actual Returns\",\"Actual Returns\",\"Actual Returns\",\"Actual Returns\",\"Actual Returns\",\"Actual Returns\",\"Actual Returns\",\"Actual Returns\",\"Actual Returns\",\"Actual Returns\",\"Actual Returns\",\"Actual Returns\",\"Actual Returns\",\"Actual Returns\",\"Actual Returns\",\"Actual Returns\",\"Actual Returns\",\"Actual Returns\",\"Actual Returns\",\"Actual Returns\",\"Actual Returns\",\"Actual Returns\",\"Actual Returns\",\"Actual Returns\",\"Actual Returns\",\"Actual Returns\",\"Actual Returns\",\"Actual Returns\",\"Actual Returns\",\"Actual Returns\",\"Actual Returns\",\"Actual Returns\",\"Actual Returns\",\"Actual Returns\",\"Actual Returns\",\"Actual Returns\",\"Actual Returns\",\"Actual Returns\",\"Actual Returns\",\"Actual Returns\",\"Actual Returns\",\"Actual Returns\",\"Actual Returns\",\"Actual Returns\",\"Actual Returns\",\"Actual Returns\",\"Actual Returns\",\"Actual Returns\",\"Actual Returns\",\"Actual Returns\",\"Actual Returns\",\"Actual Returns\",\"Actual Returns\",\"Actual Returns\",\"Actual Returns\",\"Actual Returns\",\"Actual Returns\",\"Actual Returns\",\"Actual Returns\",\"Actual Returns\",\"Actual Returns\",\"Actual Returns\",\"Actual Returns\",\"Actual Returns\",\"Actual Returns\",\"Actual Returns\",\"Actual Returns\",\"Actual Returns\",\"Actual Returns\",\"Actual Returns\",\"Actual Returns\",\"Actual Returns\",\"Actual Returns\",\"Actual Returns\",\"Actual Returns\",\"Actual Returns\",\"Actual Returns\",\"Actual Returns\",\"Actual Returns\",\"Actual Returns\",\"Actual Returns\",\"Actual Returns\",\"Actual Returns\",\"Actual Returns\",\"Actual Returns\",\"Actual Returns\",\"Actual Returns\",\"Actual Returns\",\"Actual Returns\",\"Actual Returns\",\"Actual Returns\",\"Actual Returns\",\"Actual Returns\",\"Actual Returns\",\"Actual Returns\",\"Actual Returns\",\"Actual Returns\",\"Actual Returns\",\"Actual Returns\",\"Actual Returns\",\"Actual Returns\",\"Actual Returns\",\"Actual Returns\",\"Actual Returns\",\"Actual Returns\",\"Actual Returns\",\"Actual Returns\",\"Actual Returns\",\"Actual Returns\",\"Actual Returns\",\"Actual Returns\",\"Actual Returns\",\"Actual Returns\",\"Actual Returns\",\"Actual Returns\",\"Actual Returns\",\"Actual Returns\",\"Actual Returns\",\"Actual Returns\",\"Actual Returns\",\"Actual Returns\",\"Actual Returns\",\"Actual Returns\",\"Actual Returns\",\"Actual Returns\",\"Actual Returns\",\"Actual Returns\",\"Actual Returns\",\"Actual Returns\",\"Actual Returns\",\"Actual Returns\",\"Actual Returns\",\"Actual Returns\",\"Actual Returns\",\"Actual Returns\",\"Actual Returns\",\"Actual Returns\",\"Actual Returns\",\"Actual Returns\",\"Actual Returns\",\"Actual Returns\",\"Actual Returns\",\"Actual Returns\",\"Actual Returns\",\"Actual Returns\",\"Actual Returns\",\"Actual Returns\",\"Actual Returns\",\"Actual Returns\",\"Actual Returns\",\"Actual Returns\",\"Actual Returns\",\"Actual Returns\",\"Actual Returns\",\"Actual Returns\",\"Actual Returns\",\"Actual Returns\",\"Actual Returns\",\"Actual Returns\",\"Actual Returns\",\"Actual Returns\",\"Actual Returns\",\"Actual Returns\",\"Actual Returns\",\"Actual Returns\",\"Actual Returns\",\"Actual Returns\",\"Actual Returns\",\"Actual Returns\",\"Actual Returns\",\"Actual Returns\",\"Actual Returns\",\"Actual Returns\",\"Actual Returns\",\"Actual Returns\",\"Actual Returns\",\"Actual Returns\",\"Actual Returns\",\"Actual Returns\",\"Actual Returns\",\"Actual Returns\",\"Actual Returns\",\"Actual Returns\",\"Actual Returns\",\"Actual Returns\",\"Actual Returns\",\"Actual Returns\",\"Actual Returns\",\"Actual Returns\",\"Actual Returns\",\"Actual Returns\",\"Actual Returns\",\"Actual Returns\",\"Actual Returns\",\"Actual Returns\",\"Actual Returns\",\"Actual Returns\",\"Actual Returns\",\"Actual Returns\",\"Actual Returns\",\"Actual Returns\",\"Actual Returns\",\"Actual Returns\",\"Actual Returns\",\"Actual Returns\",\"Actual Returns\",\"Actual Returns\",\"Actual Returns\",\"Actual Returns\",\"Actual Returns\",\"Actual Returns\",\"Actual Returns\",\"Actual Returns\",\"Actual Returns\",\"Actual Returns\",\"Actual Returns\",\"Actual Returns\",\"Actual Returns\",\"Actual Returns\",\"Actual Returns\",\"Actual Returns\",\"Actual Returns\",\"Actual Returns\",\"Actual Returns\",\"Actual Returns\",\"Actual Returns\",\"Actual Returns\",\"Actual Returns\",\"Actual Returns\",\"Actual Returns\",\"Actual Returns\",\"Actual Returns\",\"Actual Returns\",\"Actual Returns\",\"Actual Returns\",\"Actual Returns\",\"Actual Returns\",\"Actual Returns\",\"Actual Returns\",\"Actual Returns\",\"Actual Returns\",\"Actual Returns\",\"Actual Returns\",\"Actual Returns\",\"Actual Returns\",\"Actual Returns\",\"Actual Returns\",\"Actual Returns\",\"Actual Returns\",\"Actual Returns\",\"Actual Returns\",\"Actual Returns\",\"Actual Returns\",\"Actual Returns\",\"Actual Returns\",\"Actual Returns\",\"Actual Returns\",\"Actual Returns\",\"Actual Returns\",\"Actual Returns\",\"Actual Returns\",\"Actual Returns\",\"Actual Returns\",\"Actual Returns\",\"Actual Returns\",\"Actual Returns\",\"Actual Returns\",\"Actual Returns\",\"Actual Returns\",\"Actual Returns\",\"Actual Returns\",\"Actual Returns\",\"Actual Returns\",\"Actual Returns\",\"Actual Returns\",\"Actual Returns\",\"Actual Returns\",\"Actual Returns\",\"Actual Returns\",\"Actual Returns\",\"Actual Returns\",\"Actual Returns\",\"Actual Returns\",\"Actual Returns\",\"Actual Returns\",\"Actual Returns\",\"Actual Returns\",\"Actual Returns\",\"Actual Returns\",\"Actual Returns\",\"Actual Returns\",\"Actual Returns\",\"Actual Returns\",\"Actual Returns\",\"Actual Returns\",\"Actual Returns\",\"Actual Returns\",\"Actual Returns\",\"Actual Returns\",\"Actual Returns\",\"Actual Returns\",\"Actual Returns\",\"Actual Returns\",\"Actual Returns\",\"Actual Returns\",\"Actual Returns\",\"Actual Returns\",\"Actual Returns\",\"Actual Returns\",\"Actual Returns\",\"Actual Returns\",\"Actual Returns\",\"Actual Returns\",\"Actual Returns\",\"Actual Returns\",\"Actual Returns\",\"Actual Returns\",\"Actual Returns\",\"Actual Returns\",\"Actual Returns\",\"Actual Returns\",\"Actual Returns\",\"Actual Returns\",\"Actual Returns\",\"Actual Returns\",\"Actual Returns\",\"Actual Returns\",\"Actual Returns\",\"Actual Returns\",\"Actual Returns\",\"Actual Returns\",\"Actual Returns\",\"Actual Returns\",\"Actual Returns\",\"Actual Returns\",\"Actual Returns\",\"Actual Returns\",\"Actual Returns\",\"Actual Returns\",\"Actual Returns\",\"Actual Returns\",\"Actual Returns\",\"Actual Returns\",\"Actual Returns\",\"Actual Returns\",\"Actual Returns\",\"Actual Returns\",\"Actual Returns\",\"Actual Returns\",\"Actual Returns\",\"Actual Returns\",\"Actual Returns\",\"Actual Returns\",\"Actual Returns\",\"Actual Returns\",\"Actual Returns\",\"Actual Returns\",\"Actual Returns\",\"Actual Returns\",\"Actual Returns\",\"Actual Returns\",\"Actual Returns\",\"Actual Returns\",\"Actual Returns\",\"Actual Returns\",\"Actual Returns\",\"Actual Returns\",\"Actual Returns\",\"Actual Returns\",\"Actual Returns\",\"Actual Returns\",\"Actual Returns\",\"Actual Returns\",\"Actual Returns\",\"Actual Returns\",\"Actual Returns\",\"Actual Returns\",\"Actual Returns\",\"Actual Returns\",\"Actual Returns\",\"Actual Returns\",\"Actual Returns\",\"Actual Returns\",\"Actual Returns\",\"Actual Returns\",\"Actual Returns\",\"Actual Returns\",\"Actual Returns\",\"Actual Returns\",\"Actual Returns\",\"Actual Returns\",\"Actual Returns\",\"Actual Returns\",\"Actual Returns\",\"Actual Returns\",\"Actual Returns\",\"Actual Returns\",\"Actual Returns\",\"Actual Returns\",\"Actual Returns\",\"Actual Returns\",\"Actual Returns\",\"Actual Returns\",\"Actual Returns\",\"Actual Returns\",\"Actual Returns\",\"Actual Returns\",\"Actual Returns\",\"Actual Returns\",\"Actual Returns\",\"Actual Returns\",\"Actual Returns\",\"Actual Returns\",\"Actual Returns\",\"Actual Returns\",\"Actual Returns\",\"Actual Returns\",\"Actual Returns\",\"Actual Returns\",\"Actual Returns\",\"Actual Returns\",\"Actual Returns\",\"Actual Returns\",\"Actual Returns\",\"Actual Returns\",\"Actual Returns\",\"Actual Returns\",\"Actual Returns\",\"Actual Returns\",\"Actual Returns\",\"Actual Returns\",\"Actual Returns\",\"Actual Returns\",\"Actual Returns\",\"Actual Returns\",\"Actual Returns\",\"Actual Returns\",\"Actual Returns\",\"Actual Returns\",\"Actual Returns\",\"Actual Returns\",\"Actual Returns\",\"Actual Returns\",\"Actual Returns\",\"Actual Returns\",\"Actual Returns\",\"Actual Returns\",\"Actual Returns\",\"Actual Returns\",\"Actual Returns\",\"Actual Returns\",\"Actual Returns\",\"Actual Returns\",\"Actual Returns\",\"Actual Returns\",\"Actual Returns\",\"Actual Returns\",\"Actual Returns\",\"Actual Returns\",\"Actual Returns\",\"Actual Returns\",\"Actual Returns\",\"Actual Returns\",\"Actual Returns\",\"Actual Returns\",\"Actual Returns\",\"Actual Returns\",\"Actual Returns\",\"Actual Returns\",\"Actual Returns\",\"Actual Returns\",\"Actual Returns\",\"Actual Returns\",\"Actual Returns\",\"Actual Returns\",\"Actual Returns\",\"Actual Returns\",\"Actual Returns\",\"Actual Returns\",\"Actual Returns\",\"Actual Returns\",\"Actual Returns\",\"Actual Returns\",\"Actual Returns\",\"Actual Returns\",\"Actual Returns\",\"Actual Returns\",\"Actual Returns\",\"Actual Returns\",\"Actual Returns\",\"Actual Returns\",\"Actual Returns\",\"Actual Returns\",\"Actual Returns\",\"Actual Returns\",\"Actual Returns\",\"Actual Returns\",\"Actual Returns\",\"Actual Returns\",\"Actual Returns\",\"Actual Returns\",\"Actual Returns\",\"Actual Returns\",\"Actual Returns\",\"Actual Returns\",\"Actual Returns\",\"Actual Returns\",\"Actual Returns\",\"Actual Returns\",\"Actual Returns\",\"Actual Returns\",\"Actual Returns\",\"Actual Returns\",\"Actual Returns\",\"Actual Returns\",\"Actual Returns\",\"Actual Returns\",\"Actual Returns\",\"Actual Returns\",\"Actual Returns\",\"Actual Returns\",\"Actual Returns\",\"Actual Returns\",\"Actual Returns\",\"Actual Returns\",\"Actual Returns\",\"Actual Returns\",\"Actual Returns\",\"Actual Returns\",\"Actual Returns\",\"Actual Returns\",\"Actual Returns\",\"Actual Returns\",\"Actual Returns\",\"Actual Returns\",\"Actual Returns\",\"Actual Returns\",\"Actual Returns\",\"Actual Returns\",\"Actual Returns\",\"Actual Returns\",\"Actual Returns\",\"Actual Returns\",\"Actual Returns\",\"Actual Returns\",\"Actual Returns\",\"Actual Returns\",\"Actual Returns\",\"Actual Returns\",\"Actual Returns\",\"Actual Returns\",\"Actual Returns\",\"Actual Returns\",\"Actual Returns\",\"Actual Returns\",\"Actual Returns\",\"Actual Returns\",\"Actual Returns\",\"Actual Returns\",\"Actual Returns\",\"Actual Returns\",\"Actual Returns\",\"Actual Returns\",\"Actual Returns\",\"Actual Returns\",\"Actual Returns\",\"Actual Returns\",\"Actual Returns\",\"Actual Returns\",\"Actual Returns\",\"Actual Returns\",\"Actual Returns\",\"Actual Returns\",\"Actual Returns\",\"Actual Returns\",\"Actual Returns\",\"Actual Returns\",\"Actual Returns\",\"Actual Returns\",\"Actual Returns\",\"Actual Returns\",\"Actual Returns\",\"Actual Returns\",\"Actual Returns\",\"Actual Returns\",\"Actual Returns\",\"Actual Returns\",\"Actual Returns\",\"Actual Returns\",\"Actual Returns\",\"Actual Returns\",\"Actual Returns\",\"Actual Returns\",\"Actual Returns\",\"Actual Returns\",\"Actual Returns\",\"Actual Returns\",\"Actual Returns\",\"Actual Returns\",\"Actual Returns\",\"Actual Returns\",\"Actual Returns\",\"Actual Returns\",\"Actual Returns\",\"Actual Returns\",\"Actual Returns\",\"Actual Returns\",\"Actual Returns\",\"Actual Returns\",\"Actual Returns\",\"Actual Returns\",\"Actual Returns\",\"Actual Returns\",\"Actual Returns\",\"Actual Returns\",\"Actual Returns\",\"Actual Returns\",\"Actual Returns\",\"Actual Returns\",\"Actual Returns\",\"Actual Returns\",\"Actual Returns\",\"Actual Returns\",\"Actual Returns\",\"Actual Returns\",\"Actual Returns\",\"Actual Returns\",\"Actual Returns\",\"Actual Returns\",\"Actual Returns\",\"Actual Returns\",\"Actual Returns\",\"Actual Returns\",\"Actual Returns\",\"Actual Returns\",\"Actual Returns\",\"Actual Returns\",\"Actual Returns\",\"Actual Returns\",\"Actual Returns\",\"Actual Returns\",\"Actual Returns\",\"Actual Returns\",\"Actual Returns\",\"Actual Returns\",\"Actual Returns\",\"Actual Returns\",\"Actual Returns\",\"Actual Returns\",\"Actual Returns\",\"Actual Returns\",\"Actual Returns\",\"Actual Returns\",\"Actual Returns\",\"Actual Returns\",\"Actual Returns\",\"Actual Returns\",\"Actual Returns\",\"Actual Returns\",\"Actual Returns\",\"Actual Returns\",\"Actual Returns\",\"Actual Returns\",\"Actual Returns\",\"Actual Returns\",\"Actual Returns\",\"Actual Returns\",\"Actual Returns\",\"Actual Returns\",\"Actual Returns\",\"Actual Returns\",\"Actual Returns\",\"Actual Returns\",\"Actual Returns\",\"Actual Returns\",\"Actual Returns\",\"Actual Returns\",\"Actual Returns\",\"Actual Returns\",\"Actual Returns\",\"Actual Returns\",\"Actual Returns\",\"Actual Returns\",\"Actual Returns\",\"Actual Returns\",\"Actual Returns\",\"Actual Returns\",\"Actual Returns\",\"Actual Returns\",\"Actual Returns\",\"Actual Returns\",\"Actual Returns\",\"Actual Returns\",\"Actual Returns\",\"Actual Returns\",\"Actual Returns\",\"Actual Returns\",\"Actual Returns\",\"Actual Returns\",\"Actual Returns\",\"Actual Returns\",\"Actual Returns\",\"Actual Returns\",\"Actual Returns\",\"Actual Returns\",\"Actual Returns\",\"Actual Returns\",\"Actual Returns\",\"Actual Returns\",\"Actual Returns\",\"Actual Returns\",\"Actual Returns\",\"Actual Returns\",\"Actual Returns\",\"Actual Returns\",\"Actual Returns\",\"Actual Returns\",\"Actual Returns\",\"Actual Returns\",\"Actual Returns\",\"Actual Returns\",\"Actual Returns\",\"Actual Returns\",\"Actual Returns\",\"Actual Returns\",\"Actual Returns\",\"Actual Returns\",\"Actual Returns\",\"Actual Returns\",\"Actual Returns\",\"Actual Returns\",\"Actual Returns\",\"Actual Returns\",\"Actual Returns\",\"Actual Returns\",\"Actual Returns\",\"Actual Returns\",\"Actual Returns\",\"Actual Returns\",\"Actual Returns\",\"Actual Returns\",\"Actual Returns\",\"Actual Returns\",\"Actual Returns\",\"Actual Returns\",\"Actual Returns\",\"Actual Returns\",\"Actual Returns\",\"Actual Returns\",\"Actual Returns\",\"Actual Returns\",\"Actual Returns\",\"Actual Returns\",\"Actual Returns\",\"Actual Returns\",\"Actual Returns\",\"Actual Returns\",\"Actual Returns\",\"Actual Returns\",\"Actual Returns\",\"Actual Returns\",\"Actual Returns\",\"Actual Returns\",\"Actual Returns\",\"Actual Returns\",\"Actual Returns\",\"Actual Returns\",\"Actual Returns\",\"Actual Returns\",\"Actual Returns\",\"Actual Returns\",\"Actual Returns\",\"Actual Returns\",\"Actual Returns\",\"Actual Returns\",\"Actual Returns\",\"Actual Returns\",\"Actual Returns\",\"Actual Returns\",\"Actual Returns\",\"Actual Returns\",\"Actual Returns\",\"Actual Returns\",\"Actual Returns\",\"Actual Returns\",\"Actual Returns\",\"Actual Returns\",\"Actual Returns\",\"Actual Returns\",\"Actual Returns\",\"Actual Returns\",\"Actual Returns\",\"Actual Returns\",\"Actual Returns\",\"Actual Returns\",\"Actual Returns\",\"Actual Returns\",\"Actual Returns\",\"Actual Returns\",\"Actual Returns\",\"Actual Returns\",\"Actual Returns\",\"Actual Returns\",\"Actual Returns\",\"Actual Returns\",\"Actual Returns\",\"Actual Returns\",\"Actual Returns\",\"Actual Returns\",\"Actual Returns\",\"Actual Returns\",\"Actual Returns\",\"Actual Returns\",\"Actual Returns\",\"Actual Returns\",\"Actual Returns\",\"Actual Returns\",\"Actual Returns\",\"Actual Returns\",\"Actual Returns\",\"Actual Returns\",\"Actual Returns\",\"Actual Returns\",\"Actual Returns\",\"Actual Returns\",\"Actual Returns\",\"Actual Returns\",\"Actual Returns\",\"Actual Returns\",\"Actual Returns\",\"Actual Returns\",\"Actual Returns\",\"Actual Returns\",\"Actual Returns\",\"Actual Returns\",\"Actual Returns\",\"Actual Returns\",\"Actual Returns\",\"Actual Returns\",\"Actual Returns\",\"Actual Returns\",\"Actual Returns\",\"Actual Returns\",\"Actual Returns\",\"Actual Returns\",\"Actual Returns\",\"Actual Returns\",\"Actual Returns\",\"Actual Returns\",\"Actual Returns\",\"Actual Returns\",\"Actual Returns\",\"Actual Returns\",\"Actual Returns\",\"Actual Returns\",\"Actual Returns\",\"Actual Returns\",\"Actual Returns\",\"Actual Returns\",\"Actual Returns\",\"Actual Returns\",\"Actual Returns\",\"Actual Returns\",\"Actual Returns\",\"Actual Returns\",\"Actual Returns\",\"Actual Returns\",\"Actual Returns\",\"Actual Returns\",\"Actual Returns\",\"Actual Returns\",\"Actual Returns\",\"Actual Returns\",\"Actual Returns\",\"Actual Returns\",\"Actual Returns\",\"Actual Returns\",\"Actual Returns\",\"Actual Returns\",\"Actual Returns\",\"Actual Returns\",\"Actual Returns\",\"Actual Returns\",\"Actual Returns\",\"Actual Returns\",\"Actual Returns\",\"Actual Returns\",\"Actual Returns\",\"Actual Returns\",\"Actual Returns\",\"Actual Returns\",\"Actual Returns\",\"Actual Returns\",\"Actual Returns\",\"Actual Returns\",\"Actual Returns\",\"Actual Returns\",\"Actual Returns\",\"Actual Returns\",\"Actual Returns\",\"Actual Returns\",\"Actual Returns\",\"Actual Returns\",\"Actual Returns\",\"Actual Returns\",\"Actual Returns\",\"Actual Returns\",\"Actual Returns\",\"Actual Returns\",\"Actual Returns\",\"Actual Returns\",\"Actual Returns\",\"Actual Returns\",\"Actual Returns\",\"Actual Returns\",\"Actual Returns\",\"Actual Returns\",\"Actual Returns\",\"Actual Returns\",\"Actual Returns\",\"Actual Returns\",\"Actual Returns\",\"Actual Returns\",\"Actual Returns\",\"Actual Returns\",\"Actual Returns\",\"Actual Returns\",\"Actual Returns\",\"Actual Returns\",\"Actual Returns\",\"Actual Returns\",\"Actual Returns\",\"Actual Returns\",\"Actual Returns\",\"Actual Returns\",\"Actual Returns\",\"Actual Returns\",\"Actual Returns\",\"Actual Returns\",\"Actual Returns\",\"Actual Returns\",\"Actual Returns\",\"Actual Returns\",\"Actual Returns\",\"Actual Returns\",\"Actual Returns\",\"Actual Returns\",\"Actual Returns\",\"Actual Returns\",\"Actual Returns\",\"Actual Returns\",\"Actual Returns\",\"Actual Returns\",\"Actual Returns\",\"Actual Returns\",\"Actual Returns\",\"Actual Returns\",\"Actual Returns\",\"Actual Returns\",\"Actual Returns\",\"Actual Returns\",\"Actual Returns\",\"Actual Returns\",\"Actual Returns\",\"Actual Returns\",\"Actual Returns\",\"Actual Returns\",\"Actual Returns\",\"Actual Returns\",\"Actual Returns\",\"Actual Returns\",\"Actual Returns\",\"Actual Returns\",\"Actual Returns\",\"Actual Returns\",\"Actual Returns\",\"Actual Returns\",\"Actual Returns\",\"Actual Returns\",\"Actual Returns\",\"Actual Returns\",\"Actual Returns\",\"Actual Returns\",\"Actual Returns\",\"Actual Returns\",\"Actual Returns\",\"Actual Returns\",\"Actual Returns\",\"Actual Returns\",\"Actual Returns\",\"Actual Returns\",\"Actual Returns\",\"Actual Returns\",\"Actual Returns\",\"Actual Returns\",\"Actual Returns\",\"Actual Returns\",\"Actual Returns\",\"Actual Returns\",\"Actual Returns\",\"Actual Returns\",\"Actual Returns\",\"Actual Returns\",\"Actual Returns\",\"Actual Returns\",\"Actual Returns\",\"Actual Returns\",\"Actual Returns\",\"Actual Returns\",\"Actual Returns\",\"Actual Returns\",\"Actual Returns\",\"Actual Returns\",\"Actual Returns\",\"Actual Returns\",\"Actual Returns\",\"Actual Returns\",\"Actual Returns\",\"Actual Returns\",\"Actual Returns\",\"Actual Returns\",\"Actual Returns\",\"Actual Returns\",\"Actual Returns\",\"Actual Returns\",\"Actual Returns\",\"Actual Returns\",\"Actual Returns\",\"Actual Returns\",\"Actual Returns\",\"Actual Returns\",\"Actual Returns\",\"Actual Returns\",\"Actual Returns\",\"Actual Returns\",\"Actual Returns\",\"Actual Returns\",\"Actual Returns\",\"Actual Returns\",\"Actual Returns\",\"Actual Returns\",\"Actual Returns\",\"Actual Returns\",\"Actual Returns\",\"Actual Returns\",\"Actual Returns\",\"Actual Returns\",\"Actual Returns\",\"Actual Returns\",\"Actual Returns\",\"Actual Returns\",\"Actual Returns\",\"Actual Returns\",\"Actual Returns\",\"Actual Returns\",\"Actual Returns\",\"Actual Returns\",\"Actual Returns\",\"Actual Returns\",\"Actual Returns\",\"Actual Returns\",\"Actual Returns\",\"Actual Returns\",\"Actual Returns\",\"Actual Returns\",\"Actual Returns\",\"Actual Returns\",\"Actual Returns\",\"Actual Returns\",\"Actual Returns\",\"Actual Returns\",\"Actual Returns\",\"Actual Returns\",\"Actual Returns\",\"Actual Returns\",\"Actual Returns\",\"Actual Returns\",\"Actual Returns\",\"Actual Returns\",\"Actual Returns\",\"Actual Returns\",\"Actual Returns\",\"Actual Returns\",\"Actual Returns\",\"Actual Returns\",\"Actual Returns\",\"Actual Returns\",\"Actual Returns\",\"Actual Returns\",\"Actual Returns\",\"Actual Returns\",\"Actual Returns\",\"Actual Returns\",\"Actual Returns\",\"Actual Returns\",\"Actual Returns\",\"Actual Returns\",\"Actual Returns\",\"Actual Returns\",\"Actual Returns\",\"Actual Returns\",\"Actual Returns\",\"Actual Returns\",\"Actual Returns\",\"Actual Returns\",\"Actual Returns\",\"Actual Returns\",\"Actual Returns\",\"Actual Returns\",\"Actual Returns\",\"Actual Returns\",\"Actual Returns\",\"Actual Returns\",\"Actual Returns\",\"Actual Returns\",\"Actual Returns\",\"Actual Returns\",\"Actual Returns\",\"Actual Returns\",\"Actual Returns\",\"Actual Returns\",\"Actual Returns\",\"Actual Returns\",\"Actual Returns\",\"Actual Returns\",\"Actual Returns\",\"Actual Returns\",\"Actual Returns\",\"Actual Returns\",\"Actual Returns\",\"Actual Returns\",\"Actual Returns\",\"Actual Returns\",\"Actual Returns\",\"Actual Returns\",\"Actual Returns\",\"Actual Returns\",\"Actual Returns\",\"Actual Returns\",\"Actual Returns\",\"Actual Returns\",\"Actual Returns\",\"Actual Returns\",\"Actual Returns\",\"Actual Returns\",\"Actual Returns\",\"Actual Returns\",\"Actual Returns\",\"Actual Returns\",\"Actual Returns\",\"Actual Returns\",\"Actual Returns\",\"Actual Returns\",\"Actual Returns\",\"Actual Returns\",\"Actual Returns\",\"Actual Returns\",\"Actual Returns\",\"Actual Returns\",\"Actual Returns\",\"Actual Returns\",\"Actual Returns\",\"Actual Returns\",\"Actual Returns\",\"Actual Returns\"],\"value\":{\"__ndarray__\":\"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\",\"dtype\":\"float64\",\"order\":\"little\",\"shape\":[1191]}},\"selected\":{\"id\":\"9266\"},\"selection_policy\":{\"id\":\"9280\"}},\"id\":\"9265\",\"type\":\"ColumnDataSource\"},{\"attributes\":{\"days\":[1,8,15,22]},\"id\":\"9288\",\"type\":\"DaysTicker\"},{\"attributes\":{},\"id\":\"9294\",\"type\":\"YearsTicker\"},{\"attributes\":{\"line_color\":\"#30a2da\",\"line_width\":2,\"x\":{\"field\":\"Date\"},\"y\":{\"field\":\"value\"}},\"id\":\"9268\",\"type\":\"Line\"},{\"attributes\":{\"coordinates\":null,\"data_source\":{\"id\":\"9265\"},\"glyph\":{\"id\":\"9268\"},\"group\":null,\"hover_glyph\":null,\"muted_glyph\":{\"id\":\"9270\"},\"nonselection_glyph\":{\"id\":\"9269\"},\"selection_glyph\":{\"id\":\"9297\"},\"view\":{\"id\":\"9272\"}},\"id\":\"9271\",\"type\":\"GlyphRenderer\"},{\"attributes\":{},\"id\":\"9247\",\"type\":\"PanTool\"},{\"attributes\":{\"mantissas\":[1,2,5],\"max_interval\":500.0,\"num_minor_ticks\":0},\"id\":\"9283\",\"type\":\"AdaptiveTicker\"},{\"attributes\":{\"base\":60,\"mantissas\":[1,2,5,10,15,20,30],\"max_interval\":1800000.0,\"min_interval\":1000.0,\"num_minor_ticks\":0},\"id\":\"9284\",\"type\":\"AdaptiveTicker\"},{\"attributes\":{\"base\":24,\"mantissas\":[1,2,4,6,8,12],\"max_interval\":43200000.0,\"min_interval\":3600000.0,\"num_minor_ticks\":0},\"id\":\"9285\",\"type\":\"AdaptiveTicker\"},{\"attributes\":{\"callback\":null,\"formatters\":{\"@{Date}\":\"datetime\"},\"renderers\":[{\"id\":\"9271\"},{\"id\":\"9304\"}],\"tags\":[\"hv_created\"],\"tooltips\":[[\"Variable\",\"@{Variable}\"],[\"Date\",\"@{Date}{%F %T}\"],[\"value\",\"@{value}\"]]},\"id\":\"9227\",\"type\":\"HoverTool\"},{\"attributes\":{},\"id\":\"9266\",\"type\":\"Selection\"},{\"attributes\":{\"months\":[0,2,4,6,8,10]},\"id\":\"9291\",\"type\":\"MonthsTicker\"},{\"attributes\":{},\"id\":\"9246\",\"type\":\"SaveTool\"},{\"attributes\":{\"line_alpha\":0.1,\"line_color\":\"#30a2da\",\"line_width\":2,\"x\":{\"field\":\"Date\"},\"y\":{\"field\":\"value\"}},\"id\":\"9269\",\"type\":\"Line\"},{\"attributes\":{\"margin\":[5,5,5,5],\"name\":\"HSpacer11942\",\"sizing_mode\":\"stretch_width\"},\"id\":\"9548\",\"type\":\"Spacer\"},{\"attributes\":{\"coordinates\":null,\"group\":null,\"text_color\":\"black\",\"text_font_size\":\"12pt\"},\"id\":\"9230\",\"type\":\"Title\"},{\"attributes\":{\"overlay\":{\"id\":\"9251\"}},\"id\":\"9249\",\"type\":\"BoxZoomTool\"},{\"attributes\":{\"axis\":{\"id\":\"9238\"},\"coordinates\":null,\"grid_line_color\":null,\"group\":null,\"ticker\":null},\"id\":\"9241\",\"type\":\"Grid\"},{\"attributes\":{\"source\":{\"id\":\"9298\"}},\"id\":\"9305\",\"type\":\"CDSView\"},{\"attributes\":{\"line_color\":\"#30a2da\",\"line_width\":2,\"x\":{\"field\":\"Date\"},\"y\":{\"field\":\"value\"}},\"id\":\"9297\",\"type\":\"Line\"},{\"attributes\":{\"line_alpha\":0.2,\"line_color\":\"#30a2da\",\"line_width\":2,\"x\":{\"field\":\"Date\"},\"y\":{\"field\":\"value\"}},\"id\":\"9270\",\"type\":\"Line\"},{\"attributes\":{},\"id\":\"9250\",\"type\":\"ResetTool\"},{\"attributes\":{\"tools\":[{\"id\":\"9227\"},{\"id\":\"9246\"},{\"id\":\"9247\"},{\"id\":\"9248\"},{\"id\":\"9249\"},{\"id\":\"9250\"}]},\"id\":\"9252\",\"type\":\"Toolbar\"}],\"root_ids\":[\"9223\"]},\"title\":\"Bokeh Application\",\"version\":\"2.4.1\"}};\n",
       "    var render_items = [{\"docid\":\"d32baa86-dcd7-46c6-ba8f-a34bc08181bf\",\"root_ids\":[\"9223\"],\"roots\":{\"9223\":\"bd1f8b6a-9e8e-4bcb-90d0-9ba356e97d39\"}}];\n",
       "    root.Bokeh.embed.embed_items_notebook(docs_json, render_items);\n",
       "  }\n",
       "  if (root.Bokeh !== undefined && root.Bokeh.Panel !== undefined) {\n",
       "    embed_document(root);\n",
       "  } else {\n",
       "    var attempts = 0;\n",
       "    var timer = setInterval(function(root) {\n",
       "      if (root.Bokeh !== undefined && root.Bokeh.Panel !== undefined) {\n",
       "        clearInterval(timer);\n",
       "        embed_document(root);\n",
       "      } else if (document.readyState == \"complete\") {\n",
       "        attempts++;\n",
       "        if (attempts > 200) {\n",
       "          clearInterval(timer);\n",
       "          console.log(\"Bokeh: ERROR: Unable to run BokehJS code because BokehJS library is missing\");\n",
       "        }\n",
       "      }\n",
       "    }, 25, root)\n",
       "  }\n",
       "})(window);</script>"
      ],
      "text/plain": [
       ":NdOverlay   [Variable]\n",
       "   :Curve   [Date]   (value)"
      ]
     },
     "execution_count": 473,
     "metadata": {
      "application/vnd.holoviews_exec.v0+json": {
       "id": "9223"
      }
     },
     "output_type": "execute_result"
    }
   ],
   "source": [
    "(1 + predictions_df[['Actual Returns', 'Strategy Returns']]).cumprod().hvplot()"
   ]
  },
  {
   "cell_type": "code",
   "execution_count": 474,
   "id": "08947599-879e-43e6-abe6-85b347772f8c",
   "metadata": {},
   "outputs": [
    {
     "name": "stderr",
     "output_type": "stream",
     "text": [
      "/var/folders/b8/s7fb18b52b55x0vh8h1qdpm80000gq/T/ipykernel_45346/2011767230.py:2: SettingWithCopyWarning: \n",
      "A value is trying to be set on a copy of a slice from a DataFrame.\n",
      "Try using .loc[row_indexer,col_indexer] = value instead\n",
      "\n",
      "See the caveats in the documentation: https://pandas.pydata.org/pandas-docs/stable/user_guide/indexing.html#returning-a-view-versus-a-copy\n",
      "  zillow_df['SMAB'] = zillow_df['Close'].rolling(window=Bollinger_window).mean()\n"
     ]
    },
    {
     "data": {
      "text/html": [
       "<div>\n",
       "<style scoped>\n",
       "    .dataframe tbody tr th:only-of-type {\n",
       "        vertical-align: middle;\n",
       "    }\n",
       "\n",
       "    .dataframe tbody tr th {\n",
       "        vertical-align: top;\n",
       "    }\n",
       "\n",
       "    .dataframe thead th {\n",
       "        text-align: right;\n",
       "    }\n",
       "</style>\n",
       "<table border=\"1\" class=\"dataframe\">\n",
       "  <thead>\n",
       "    <tr style=\"text-align: right;\">\n",
       "      <th></th>\n",
       "      <th>Open</th>\n",
       "      <th>High</th>\n",
       "      <th>Low</th>\n",
       "      <th>Close</th>\n",
       "      <th>Volume</th>\n",
       "      <th>macd</th>\n",
       "      <th>exp3</th>\n",
       "      <th>Actual Returns</th>\n",
       "      <th>Signal</th>\n",
       "      <th>SMAB</th>\n",
       "    </tr>\n",
       "    <tr>\n",
       "      <th>Date</th>\n",
       "      <th></th>\n",
       "      <th></th>\n",
       "      <th></th>\n",
       "      <th></th>\n",
       "      <th></th>\n",
       "      <th></th>\n",
       "      <th></th>\n",
       "      <th></th>\n",
       "      <th></th>\n",
       "      <th></th>\n",
       "    </tr>\n",
       "  </thead>\n",
       "  <tbody>\n",
       "    <tr>\n",
       "      <th>2017-04-13</th>\n",
       "      <td>34.450001</td>\n",
       "      <td>34.900002</td>\n",
       "      <td>34.290001</td>\n",
       "      <td>34.619999</td>\n",
       "      <td>668100</td>\n",
       "      <td>-0.415967</td>\n",
       "      <td>-0.593934</td>\n",
       "      <td>0.004352</td>\n",
       "      <td>1.0</td>\n",
       "      <td>34.2440</td>\n",
       "    </tr>\n",
       "    <tr>\n",
       "      <th>2017-04-17</th>\n",
       "      <td>34.590000</td>\n",
       "      <td>35.130001</td>\n",
       "      <td>34.520000</td>\n",
       "      <td>35.119999</td>\n",
       "      <td>625100</td>\n",
       "      <td>-0.319324</td>\n",
       "      <td>-0.539012</td>\n",
       "      <td>0.014443</td>\n",
       "      <td>1.0</td>\n",
       "      <td>34.1820</td>\n",
       "    </tr>\n",
       "    <tr>\n",
       "      <th>2017-04-18</th>\n",
       "      <td>35.070000</td>\n",
       "      <td>35.700001</td>\n",
       "      <td>34.869999</td>\n",
       "      <td>35.650002</td>\n",
       "      <td>862900</td>\n",
       "      <td>-0.197688</td>\n",
       "      <td>-0.470747</td>\n",
       "      <td>0.015091</td>\n",
       "      <td>1.0</td>\n",
       "      <td>34.1525</td>\n",
       "    </tr>\n",
       "    <tr>\n",
       "      <th>2017-04-19</th>\n",
       "      <td>35.889999</td>\n",
       "      <td>36.169998</td>\n",
       "      <td>35.750000</td>\n",
       "      <td>36.139999</td>\n",
       "      <td>516800</td>\n",
       "      <td>-0.061048</td>\n",
       "      <td>-0.388808</td>\n",
       "      <td>0.013745</td>\n",
       "      <td>1.0</td>\n",
       "      <td>34.2010</td>\n",
       "    </tr>\n",
       "    <tr>\n",
       "      <th>2017-04-20</th>\n",
       "      <td>36.000000</td>\n",
       "      <td>36.410000</td>\n",
       "      <td>35.889999</td>\n",
       "      <td>36.330002</td>\n",
       "      <td>856400</td>\n",
       "      <td>0.061858</td>\n",
       "      <td>-0.298674</td>\n",
       "      <td>0.005257</td>\n",
       "      <td>1.0</td>\n",
       "      <td>34.2530</td>\n",
       "    </tr>\n",
       "  </tbody>\n",
       "</table>\n",
       "</div>"
      ],
      "text/plain": [
       "                 Open       High        Low      Close  Volume      macd  \\\n",
       "Date                                                                       \n",
       "2017-04-13  34.450001  34.900002  34.290001  34.619999  668100 -0.415967   \n",
       "2017-04-17  34.590000  35.130001  34.520000  35.119999  625100 -0.319324   \n",
       "2017-04-18  35.070000  35.700001  34.869999  35.650002  862900 -0.197688   \n",
       "2017-04-19  35.889999  36.169998  35.750000  36.139999  516800 -0.061048   \n",
       "2017-04-20  36.000000  36.410000  35.889999  36.330002  856400  0.061858   \n",
       "\n",
       "                exp3  Actual Returns  Signal     SMAB  \n",
       "Date                                                   \n",
       "2017-04-13 -0.593934        0.004352     1.0  34.2440  \n",
       "2017-04-17 -0.539012        0.014443     1.0  34.1820  \n",
       "2017-04-18 -0.470747        0.015091     1.0  34.1525  \n",
       "2017-04-19 -0.388808        0.013745     1.0  34.2010  \n",
       "2017-04-20 -0.298674        0.005257     1.0  34.2530  "
      ]
     },
     "execution_count": 474,
     "metadata": {},
     "output_type": "execute_result"
    }
   ],
   "source": [
    "Bollinger_window = 20\n",
    "zillow_df['SMAB'] = zillow_df['Close'].rolling(window=Bollinger_window).mean()\n",
    "zillow_df = zillow_df.dropna()\n",
    "zillow_df.head()"
   ]
  },
  {
   "cell_type": "code",
   "execution_count": 475,
   "id": "1a40cfd7-2747-4453-a9d0-a5c56302d0a7",
   "metadata": {},
   "outputs": [],
   "source": [
    "zillow_df['SD'] = zillow_df['Close'].rolling(window=Bollinger_window).std()\n",
    "zillow_df['bollinger_up'] = zillow_df['SMAB'] + (zillow_df['SD'] * 2)\n",
    "zillow_df['bollinger_down'] = zillow_df['SMAB'] - (zillow_df['SD'] * 2)\n",
    "zillow_df.dropna(inplace=True)\n",
    "zillow_df.reset_index(inplace=True)\n",
    "zillow_df.set_index('Date', inplace=True)"
   ]
  },
  {
   "cell_type": "code",
   "execution_count": 476,
   "id": "a73494c5-035f-42b5-a494-9620a88e9aef",
   "metadata": {},
   "outputs": [
    {
     "data": {
      "text/html": [
       "<div>\n",
       "<style scoped>\n",
       "    .dataframe tbody tr th:only-of-type {\n",
       "        vertical-align: middle;\n",
       "    }\n",
       "\n",
       "    .dataframe tbody tr th {\n",
       "        vertical-align: top;\n",
       "    }\n",
       "\n",
       "    .dataframe thead th {\n",
       "        text-align: right;\n",
       "    }\n",
       "</style>\n",
       "<table border=\"1\" class=\"dataframe\">\n",
       "  <thead>\n",
       "    <tr style=\"text-align: right;\">\n",
       "      <th></th>\n",
       "      <th>Open</th>\n",
       "      <th>High</th>\n",
       "      <th>Low</th>\n",
       "      <th>Close</th>\n",
       "      <th>Volume</th>\n",
       "      <th>macd</th>\n",
       "      <th>exp3</th>\n",
       "      <th>Actual Returns</th>\n",
       "      <th>Signal</th>\n",
       "      <th>SMAB</th>\n",
       "      <th>SD</th>\n",
       "      <th>bollinger_up</th>\n",
       "      <th>bollinger_down</th>\n",
       "    </tr>\n",
       "    <tr>\n",
       "      <th>Date</th>\n",
       "      <th></th>\n",
       "      <th></th>\n",
       "      <th></th>\n",
       "      <th></th>\n",
       "      <th></th>\n",
       "      <th></th>\n",
       "      <th></th>\n",
       "      <th></th>\n",
       "      <th></th>\n",
       "      <th></th>\n",
       "      <th></th>\n",
       "      <th></th>\n",
       "      <th></th>\n",
       "    </tr>\n",
       "  </thead>\n",
       "  <tbody>\n",
       "    <tr>\n",
       "      <th>2017-05-11</th>\n",
       "      <td>42.860001</td>\n",
       "      <td>43.439999</td>\n",
       "      <td>42.630001</td>\n",
       "      <td>43.230000</td>\n",
       "      <td>1031500</td>\n",
       "      <td>2.059478</td>\n",
       "      <td>1.598145</td>\n",
       "      <td>0.003016</td>\n",
       "      <td>1.0</td>\n",
       "      <td>39.0925</td>\n",
       "      <td>2.989226</td>\n",
       "      <td>45.070952</td>\n",
       "      <td>33.114048</td>\n",
       "    </tr>\n",
       "    <tr>\n",
       "      <th>2017-05-12</th>\n",
       "      <td>43.080002</td>\n",
       "      <td>43.450001</td>\n",
       "      <td>42.779999</td>\n",
       "      <td>42.869999</td>\n",
       "      <td>1077600</td>\n",
       "      <td>2.043216</td>\n",
       "      <td>1.687160</td>\n",
       "      <td>-0.008328</td>\n",
       "      <td>-1.0</td>\n",
       "      <td>39.5050</td>\n",
       "      <td>2.907677</td>\n",
       "      <td>45.320353</td>\n",
       "      <td>33.689647</td>\n",
       "    </tr>\n",
       "    <tr>\n",
       "      <th>2017-05-15</th>\n",
       "      <td>42.919998</td>\n",
       "      <td>43.805000</td>\n",
       "      <td>42.889999</td>\n",
       "      <td>43.290001</td>\n",
       "      <td>992900</td>\n",
       "      <td>2.040695</td>\n",
       "      <td>1.757867</td>\n",
       "      <td>0.009797</td>\n",
       "      <td>1.0</td>\n",
       "      <td>39.9135</td>\n",
       "      <td>2.832124</td>\n",
       "      <td>45.577748</td>\n",
       "      <td>34.249251</td>\n",
       "    </tr>\n",
       "    <tr>\n",
       "      <th>2017-05-16</th>\n",
       "      <td>43.240002</td>\n",
       "      <td>44.490002</td>\n",
       "      <td>42.959999</td>\n",
       "      <td>44.389999</td>\n",
       "      <td>1577100</td>\n",
       "      <td>2.103213</td>\n",
       "      <td>1.826936</td>\n",
       "      <td>0.025410</td>\n",
       "      <td>1.0</td>\n",
       "      <td>40.3505</td>\n",
       "      <td>2.813874</td>\n",
       "      <td>45.978248</td>\n",
       "      <td>34.722751</td>\n",
       "    </tr>\n",
       "    <tr>\n",
       "      <th>2017-05-17</th>\n",
       "      <td>43.520000</td>\n",
       "      <td>43.790001</td>\n",
       "      <td>41.299999</td>\n",
       "      <td>41.369999</td>\n",
       "      <td>2417400</td>\n",
       "      <td>1.887315</td>\n",
       "      <td>1.839012</td>\n",
       "      <td>-0.068033</td>\n",
       "      <td>-1.0</td>\n",
       "      <td>40.6120</td>\n",
       "      <td>2.639610</td>\n",
       "      <td>45.891220</td>\n",
       "      <td>35.332779</td>\n",
       "    </tr>\n",
       "  </tbody>\n",
       "</table>\n",
       "</div>"
      ],
      "text/plain": [
       "                 Open       High        Low      Close   Volume      macd  \\\n",
       "Date                                                                        \n",
       "2017-05-11  42.860001  43.439999  42.630001  43.230000  1031500  2.059478   \n",
       "2017-05-12  43.080002  43.450001  42.779999  42.869999  1077600  2.043216   \n",
       "2017-05-15  42.919998  43.805000  42.889999  43.290001   992900  2.040695   \n",
       "2017-05-16  43.240002  44.490002  42.959999  44.389999  1577100  2.103213   \n",
       "2017-05-17  43.520000  43.790001  41.299999  41.369999  2417400  1.887315   \n",
       "\n",
       "                exp3  Actual Returns  Signal     SMAB        SD  bollinger_up  \\\n",
       "Date                                                                            \n",
       "2017-05-11  1.598145        0.003016     1.0  39.0925  2.989226     45.070952   \n",
       "2017-05-12  1.687160       -0.008328    -1.0  39.5050  2.907677     45.320353   \n",
       "2017-05-15  1.757867        0.009797     1.0  39.9135  2.832124     45.577748   \n",
       "2017-05-16  1.826936        0.025410     1.0  40.3505  2.813874     45.978248   \n",
       "2017-05-17  1.839012       -0.068033    -1.0  40.6120  2.639610     45.891220   \n",
       "\n",
       "            bollinger_down  \n",
       "Date                        \n",
       "2017-05-11       33.114048  \n",
       "2017-05-12       33.689647  \n",
       "2017-05-15       34.249251  \n",
       "2017-05-16       34.722751  \n",
       "2017-05-17       35.332779  "
      ]
     },
     "execution_count": 476,
     "metadata": {},
     "output_type": "execute_result"
    }
   ],
   "source": [
    "zillow_df.head()"
   ]
  },
  {
   "cell_type": "code",
   "execution_count": 477,
   "id": "5a610f4b-844d-4c99-8342-dd3225a0c2df",
   "metadata": {},
   "outputs": [
    {
     "data": {},
     "metadata": {},
     "output_type": "display_data"
    },
    {
     "data": {
      "application/vnd.holoviews_exec.v0+json": "",
      "text/html": [
       "<div id='9670'>\n",
       "\n",
       "\n",
       "\n",
       "\n",
       "\n",
       "  <div class=\"bk-root\" id=\"ea35c7d3-0706-439c-9532-12c8076929df\" data-root-id=\"9670\"></div>\n",
       "</div>\n",
       "<script type=\"application/javascript\">(function(root) {\n",
       "  function embed_document(root) {\n",
       "    var docs_json = {\"64ca3b85-7f48-4e4b-8384-cb2248e584cc\":{\"defs\":[{\"extends\":null,\"module\":null,\"name\":\"ReactiveHTML1\",\"overrides\":[],\"properties\":[]},{\"extends\":null,\"module\":null,\"name\":\"FlexBox1\",\"overrides\":[],\"properties\":[{\"default\":\"flex-start\",\"kind\":null,\"name\":\"align_content\"},{\"default\":\"flex-start\",\"kind\":null,\"name\":\"align_items\"},{\"default\":\"row\",\"kind\":null,\"name\":\"flex_direction\"},{\"default\":\"wrap\",\"kind\":null,\"name\":\"flex_wrap\"},{\"default\":\"flex-start\",\"kind\":null,\"name\":\"justify_content\"}]},{\"extends\":null,\"module\":null,\"name\":\"TemplateActions1\",\"overrides\":[],\"properties\":[{\"default\":0,\"kind\":null,\"name\":\"open_modal\"},{\"default\":0,\"kind\":null,\"name\":\"close_modal\"}]},{\"extends\":null,\"module\":null,\"name\":\"MaterialTemplateActions1\",\"overrides\":[],\"properties\":[{\"default\":0,\"kind\":null,\"name\":\"open_modal\"},{\"default\":0,\"kind\":null,\"name\":\"close_modal\"}]}],\"roots\":{\"references\":[{\"attributes\":{\"line_alpha\":0.1,\"line_color\":\"#30a2da\",\"line_width\":2,\"x\":{\"field\":\"Date\"},\"y\":{\"field\":\"value\"}},\"id\":\"9717\",\"type\":\"Line\"},{\"attributes\":{\"margin\":[5,5,5,5],\"name\":\"HSpacer12420\",\"sizing_mode\":\"stretch_width\"},\"id\":\"9671\",\"type\":\"Spacer\"},{\"attributes\":{\"line_alpha\":0.2,\"line_color\":\"#30a2da\",\"line_width\":2,\"x\":{\"field\":\"Date\"},\"y\":{\"field\":\"value\"}},\"id\":\"9718\",\"type\":\"Line\"},{\"attributes\":{\"data\":{\"Date\":{\"__ndarray__\":\"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\",\"dtype\":\"float64\",\"order\":\"little\",\"shape\":[1219]},\"Variable\":[\"bollinger_up\",\"bollinger_up\",\"bollinger_up\",\"bollinger_up\",\"bollinger_up\",\"bollinger_up\",\"bollinger_up\",\"bollinger_up\",\"bollinger_up\",\"bollinger_up\",\"bollinger_up\",\"bollinger_up\",\"bollinger_up\",\"bollinger_up\",\"bollinger_up\",\"bollinger_up\",\"bollinger_up\",\"bollinger_up\",\"bollinger_up\",\"bollinger_up\",\"bollinger_up\",\"bollinger_up\",\"bollinger_up\",\"bollinger_up\",\"bollinger_up\",\"bollinger_up\",\"bollinger_up\",\"bollinger_up\",\"bollinger_up\",\"bollinger_up\",\"bollinger_up\",\"bollinger_up\",\"bollinger_up\",\"bollinger_up\",\"bollinger_up\",\"bollinger_up\",\"bollinger_up\",\"bollinger_up\",\"bollinger_up\",\"bollinger_up\",\"bollinger_up\",\"bollinger_up\",\"bollinger_up\",\"bollinger_up\",\"bollinger_up\",\"bollinger_up\",\"bollinger_up\",\"bollinger_up\",\"bollinger_up\",\"bollinger_up\",\"bollinger_up\",\"bollinger_up\",\"bollinger_up\",\"bollinger_up\",\"bollinger_up\",\"bollinger_up\",\"bollinger_up\",\"bollinger_up\",\"bollinger_up\",\"bollinger_up\",\"bollinger_up\",\"bollinger_up\",\"bollinger_up\",\"bollinger_up\",\"bollinger_up\",\"bollinger_up\",\"bollinger_up\",\"bollinger_up\",\"bollinger_up\",\"bollinger_up\",\"bollinger_up\",\"bollinger_up\",\"bollinger_up\",\"bollinger_up\",\"bollinger_up\",\"bollinger_up\",\"bollinger_up\",\"bollinger_up\",\"bollinger_up\",\"bollinger_up\",\"bollinger_up\",\"bollinger_up\",\"bollinger_up\",\"bollinger_up\",\"bollinger_up\",\"bollinger_up\",\"bollinger_up\",\"bollinger_up\",\"bollinger_up\",\"bollinger_up\",\"bollinger_up\",\"bollinger_up\",\"bollinger_up\",\"bollinger_up\",\"bollinger_up\",\"bollinger_up\",\"bollinger_up\",\"bollinger_up\",\"bollinger_up\",\"bollinger_up\",\"bollinger_up\",\"bollinger_up\",\"bollinger_up\",\"bollinger_up\",\"bollinger_up\",\"bollinger_up\",\"bollinger_up\",\"bollinger_up\",\"bollinger_up\",\"bollinger_up\",\"bollinger_up\",\"bollinger_up\",\"bollinger_up\",\"bollinger_up\",\"bollinger_up\",\"bollinger_up\",\"bollinger_up\",\"bollinger_up\",\"bollinger_up\",\"bollinger_up\",\"bollinger_up\",\"bollinger_up\",\"bollinger_up\",\"bollinger_up\",\"bollinger_up\",\"bollinger_up\",\"bollinger_up\",\"bollinger_up\",\"bollinger_up\",\"bollinger_up\",\"bollinger_up\",\"bollinger_up\",\"bollinger_up\",\"bollinger_up\",\"bollinger_up\",\"bollinger_up\",\"bollinger_up\",\"bollinger_up\",\"bollinger_up\",\"bollinger_up\",\"bollinger_up\",\"bollinger_up\",\"bollinger_up\",\"bollinger_up\",\"bollinger_up\",\"bollinger_up\",\"bollinger_up\",\"bollinger_up\",\"bollinger_up\",\"bollinger_up\",\"bollinger_up\",\"bollinger_up\",\"bollinger_up\",\"bollinger_up\",\"bollinger_up\",\"bollinger_up\",\"bollinger_up\",\"bollinger_up\",\"bollinger_up\",\"bollinger_up\",\"bollinger_up\",\"bollinger_up\",\"bollinger_up\",\"bollinger_up\",\"bollinger_up\",\"bollinger_up\",\"bollinger_up\",\"bollinger_up\",\"bollinger_up\",\"bollinger_up\",\"bollinger_up\",\"bollinger_up\",\"bollinger_up\",\"bollinger_up\",\"bollinger_up\",\"bollinger_up\",\"bollinger_up\",\"bollinger_up\",\"bollinger_up\",\"bollinger_up\",\"bollinger_up\",\"bollinger_up\",\"bollinger_up\",\"bollinger_up\",\"bollinger_up\",\"bollinger_up\",\"bollinger_up\",\"bollinger_up\",\"bollinger_up\",\"bollinger_up\",\"bollinger_up\",\"bollinger_up\",\"bollinger_up\",\"bollinger_up\",\"bollinger_up\",\"bollinger_up\",\"bollinger_up\",\"bollinger_up\",\"bollinger_up\",\"bollinger_up\",\"bollinger_up\",\"bollinger_up\",\"bollinger_up\",\"bollinger_up\",\"bollinger_up\",\"bollinger_up\",\"bollinger_up\",\"bollinger_up\",\"bollinger_up\",\"bollinger_up\",\"bollinger_up\",\"bollinger_up\",\"bollinger_up\",\"bollinger_up\",\"bollinger_up\",\"bollinger_up\",\"bollinger_up\",\"bollinger_up\",\"bollinger_up\",\"bollinger_up\",\"bollinger_up\",\"bollinger_up\",\"bollinger_up\",\"bollinger_up\",\"bollinger_up\",\"bollinger_up\",\"bollinger_up\",\"bollinger_up\",\"bollinger_up\",\"bollinger_up\",\"bollinger_up\",\"bollinger_up\",\"bollinger_up\",\"bollinger_up\",\"bollinger_up\",\"bollinger_up\",\"bollinger_up\",\"bollinger_up\",\"bollinger_up\",\"bollinger_up\",\"bollinger_up\",\"bollinger_up\",\"bollinger_up\",\"bollinger_up\",\"bollinger_up\",\"bollinger_up\",\"bollinger_up\",\"bollinger_up\",\"bollinger_up\",\"bollinger_up\",\"bollinger_up\",\"bollinger_up\",\"bollinger_up\",\"bollinger_up\",\"bollinger_up\",\"bollinger_up\",\"bollinger_up\",\"bollinger_up\",\"bollinger_up\",\"bollinger_up\",\"bollinger_up\",\"bollinger_up\",\"bollinger_up\",\"bollinger_up\",\"bollinger_up\",\"bollinger_up\",\"bollinger_up\",\"bollinger_up\",\"bollinger_up\",\"bollinger_up\",\"bollinger_up\",\"bollinger_up\",\"bollinger_up\",\"bollinger_up\",\"bollinger_up\",\"bollinger_up\",\"bollinger_up\",\"bollinger_up\",\"bollinger_up\",\"bollinger_up\",\"bollinger_up\",\"bollinger_up\",\"bollinger_up\",\"bollinger_up\",\"bollinger_up\",\"bollinger_up\",\"bollinger_up\",\"bollinger_up\",\"bollinger_up\",\"bollinger_up\",\"bollinger_up\",\"bollinger_up\",\"bollinger_up\",\"bollinger_up\",\"bollinger_up\",\"bollinger_up\",\"bollinger_up\",\"bollinger_up\",\"bollinger_up\",\"bollinger_up\",\"bollinger_up\",\"bollinger_up\",\"bollinger_up\",\"bollinger_up\",\"bollinger_up\",\"bollinger_up\",\"bollinger_up\",\"bollinger_up\",\"bollinger_up\",\"bollinger_up\",\"bollinger_up\",\"bollinger_up\",\"bollinger_up\",\"bollinger_up\",\"bollinger_up\",\"bollinger_up\",\"bollinger_up\",\"bollinger_up\",\"bollinger_up\",\"bollinger_up\",\"bollinger_up\",\"bollinger_up\",\"bollinger_up\",\"bollinger_up\",\"bollinger_up\",\"bollinger_up\",\"bollinger_up\",\"bollinger_up\",\"bollinger_up\",\"bollinger_up\",\"bollinger_up\",\"bollinger_up\",\"bollinger_up\",\"bollinger_up\",\"bollinger_up\",\"bollinger_up\",\"bollinger_up\",\"bollinger_up\",\"bollinger_up\",\"bollinger_up\",\"bollinger_up\",\"bollinger_up\",\"bollinger_up\",\"bollinger_up\",\"bollinger_up\",\"bollinger_up\",\"bollinger_up\",\"bollinger_up\",\"bollinger_up\",\"bollinger_up\",\"bollinger_up\",\"bollinger_up\",\"bollinger_up\",\"bollinger_up\",\"bollinger_up\",\"bollinger_up\",\"bollinger_up\",\"bollinger_up\",\"bollinger_up\",\"bollinger_up\",\"bollinger_up\",\"bollinger_up\",\"bollinger_up\",\"bollinger_up\",\"bollinger_up\",\"bollinger_up\",\"bollinger_up\",\"bollinger_up\",\"bollinger_up\",\"bollinger_up\",\"bollinger_up\",\"bollinger_up\",\"bollinger_up\",\"bollinger_up\",\"bollinger_up\",\"bollinger_up\",\"bollinger_up\",\"bollinger_up\",\"bollinger_up\",\"bollinger_up\",\"bollinger_up\",\"bollinger_up\",\"bollinger_up\",\"bollinger_up\",\"bollinger_up\",\"bollinger_up\",\"bollinger_up\",\"bollinger_up\",\"bollinger_up\",\"bollinger_up\",\"bollinger_up\",\"bollinger_up\",\"bollinger_up\",\"bollinger_up\",\"bollinger_up\",\"bollinger_up\",\"bollinger_up\",\"bollinger_up\",\"bollinger_up\",\"bollinger_up\",\"bollinger_up\",\"bollinger_up\",\"bollinger_up\",\"bollinger_up\",\"bollinger_up\",\"bollinger_up\",\"bollinger_up\",\"bollinger_up\",\"bollinger_up\",\"bollinger_up\",\"bollinger_up\",\"bollinger_up\",\"bollinger_up\",\"bollinger_up\",\"bollinger_up\",\"bollinger_up\",\"bollinger_up\",\"bollinger_up\",\"bollinger_up\",\"bollinger_up\",\"bollinger_up\",\"bollinger_up\",\"bollinger_up\",\"bollinger_up\",\"bollinger_up\",\"bollinger_up\",\"bollinger_up\",\"bollinger_up\",\"bollinger_up\",\"bollinger_up\",\"bollinger_up\",\"bollinger_up\",\"bollinger_up\",\"bollinger_up\",\"bollinger_up\",\"bollinger_up\",\"bollinger_up\",\"bollinger_up\",\"bollinger_up\",\"bollinger_up\",\"bollinger_up\",\"bollinger_up\",\"bollinger_up\",\"bollinger_up\",\"bollinger_up\",\"bollinger_up\",\"bollinger_up\",\"bollinger_up\",\"bollinger_up\",\"bollinger_up\",\"bollinger_up\",\"bollinger_up\",\"bollinger_up\",\"bollinger_up\",\"bollinger_up\",\"bollinger_up\",\"bollinger_up\",\"bollinger_up\",\"bollinger_up\",\"bollinger_up\",\"bollinger_up\",\"bollinger_up\",\"bollinger_up\",\"bollinger_up\",\"bollinger_up\",\"bollinger_up\",\"bollinger_up\",\"bollinger_up\",\"bollinger_up\",\"bollinger_up\",\"bollinger_up\",\"bollinger_up\",\"bollinger_up\",\"bollinger_up\",\"bollinger_up\",\"bollinger_up\",\"bollinger_up\",\"bollinger_up\",\"bollinger_up\",\"bollinger_up\",\"bollinger_up\",\"bollinger_up\",\"bollinger_up\",\"bollinger_up\",\"bollinger_up\",\"bollinger_up\",\"bollinger_up\",\"bollinger_up\",\"bollinger_up\",\"bollinger_up\",\"bollinger_up\",\"bollinger_up\",\"bollinger_up\",\"bollinger_up\",\"bollinger_up\",\"bollinger_up\",\"bollinger_up\",\"bollinger_up\",\"bollinger_up\",\"bollinger_up\",\"bollinger_up\",\"bollinger_up\",\"bollinger_up\",\"bollinger_up\",\"bollinger_up\",\"bollinger_up\",\"bollinger_up\",\"bollinger_up\",\"bollinger_up\",\"bollinger_up\",\"bollinger_up\",\"bollinger_up\",\"bollinger_up\",\"bollinger_up\",\"bollinger_up\",\"bollinger_up\",\"bollinger_up\",\"bollinger_up\",\"bollinger_up\",\"bollinger_up\",\"bollinger_up\",\"bollinger_up\",\"bollinger_up\",\"bollinger_up\",\"bollinger_up\",\"bollinger_up\",\"bollinger_up\",\"bollinger_up\",\"bollinger_up\",\"bollinger_up\",\"bollinger_up\",\"bollinger_up\",\"bollinger_up\",\"bollinger_up\",\"bollinger_up\",\"bollinger_up\",\"bollinger_up\",\"bollinger_up\",\"bollinger_up\",\"bollinger_up\",\"bollinger_up\",\"bollinger_up\",\"bollinger_up\",\"bollinger_up\",\"bollinger_up\",\"bollinger_up\",\"bollinger_up\",\"bollinger_up\",\"bollinger_up\",\"bollinger_up\",\"bollinger_up\",\"bollinger_up\",\"bollinger_up\",\"bollinger_up\",\"bollinger_up\",\"bollinger_up\",\"bollinger_up\",\"bollinger_up\",\"bollinger_up\",\"bollinger_up\",\"bollinger_up\",\"bollinger_up\",\"bollinger_up\",\"bollinger_up\",\"bollinger_up\",\"bollinger_up\",\"bollinger_up\",\"bollinger_up\",\"bollinger_up\",\"bollinger_up\",\"bollinger_up\",\"bollinger_up\",\"bollinger_up\",\"bollinger_up\",\"bollinger_up\",\"bollinger_up\",\"bollinger_up\",\"bollinger_up\",\"bollinger_up\",\"bollinger_up\",\"bollinger_up\",\"bollinger_up\",\"bollinger_up\",\"bollinger_up\",\"bollinger_up\",\"bollinger_up\",\"bollinger_up\",\"bollinger_up\",\"bollinger_up\",\"bollinger_up\",\"bollinger_up\",\"bollinger_up\",\"bollinger_up\",\"bollinger_up\",\"bollinger_up\",\"bollinger_up\",\"bollinger_up\",\"bollinger_up\",\"bollinger_up\",\"bollinger_up\",\"bollinger_up\",\"bollinger_up\",\"bollinger_up\",\"bollinger_up\",\"bollinger_up\",\"bollinger_up\",\"bollinger_up\",\"bollinger_up\",\"bollinger_up\",\"bollinger_up\",\"bollinger_up\",\"bollinger_up\",\"bollinger_up\",\"bollinger_up\",\"bollinger_up\",\"bollinger_up\",\"bollinger_up\",\"bollinger_up\",\"bollinger_up\",\"bollinger_up\",\"bollinger_up\",\"bollinger_up\",\"bollinger_up\",\"bollinger_up\",\"bollinger_up\",\"bollinger_up\",\"bollinger_up\",\"bollinger_up\",\"bollinger_up\",\"bollinger_up\",\"bollinger_up\",\"bollinger_up\",\"bollinger_up\",\"bollinger_up\",\"bollinger_up\",\"bollinger_up\",\"bollinger_up\",\"bollinger_up\",\"bollinger_up\",\"bollinger_up\",\"bollinger_up\",\"bollinger_up\",\"bollinger_up\",\"bollinger_up\",\"bollinger_up\",\"bollinger_up\",\"bollinger_up\",\"bollinger_up\",\"bollinger_up\",\"bollinger_up\",\"bollinger_up\",\"bollinger_up\",\"bollinger_up\",\"bollinger_up\",\"bollinger_up\",\"bollinger_up\",\"bollinger_up\",\"bollinger_up\",\"bollinger_up\",\"bollinger_up\",\"bollinger_up\",\"bollinger_up\",\"bollinger_up\",\"bollinger_up\",\"bollinger_up\",\"bollinger_up\",\"bollinger_up\",\"bollinger_up\",\"bollinger_up\",\"bollinger_up\",\"bollinger_up\",\"bollinger_up\",\"bollinger_up\",\"bollinger_up\",\"bollinger_up\",\"bollinger_up\",\"bollinger_up\",\"bollinger_up\",\"bollinger_up\",\"bollinger_up\",\"bollinger_up\",\"bollinger_up\",\"bollinger_up\",\"bollinger_up\",\"bollinger_up\",\"bollinger_up\",\"bollinger_up\",\"bollinger_up\",\"bollinger_up\",\"bollinger_up\",\"bollinger_up\",\"bollinger_up\",\"bollinger_up\",\"bollinger_up\",\"bollinger_up\",\"bollinger_up\",\"bollinger_up\",\"bollinger_up\",\"bollinger_up\",\"bollinger_up\",\"bollinger_up\",\"bollinger_up\",\"bollinger_up\",\"bollinger_up\",\"bollinger_up\",\"bollinger_up\",\"bollinger_up\",\"bollinger_up\",\"bollinger_up\",\"bollinger_up\",\"bollinger_up\",\"bollinger_up\",\"bollinger_up\",\"bollinger_up\",\"bollinger_up\",\"bollinger_up\",\"bollinger_up\",\"bollinger_up\",\"bollinger_up\",\"bollinger_up\",\"bollinger_up\",\"bollinger_up\",\"bollinger_up\",\"bollinger_up\",\"bollinger_up\",\"bollinger_up\",\"bollinger_up\",\"bollinger_up\",\"bollinger_up\",\"bollinger_up\",\"bollinger_up\",\"bollinger_up\",\"bollinger_up\",\"bollinger_up\",\"bollinger_up\",\"bollinger_up\",\"bollinger_up\",\"bollinger_up\",\"bollinger_up\",\"bollinger_up\",\"bollinger_up\",\"bollinger_up\",\"bollinger_up\",\"bollinger_up\",\"bollinger_up\",\"bollinger_up\",\"bollinger_up\",\"bollinger_up\",\"bollinger_up\",\"bollinger_up\",\"bollinger_up\",\"bollinger_up\",\"bollinger_up\",\"bollinger_up\",\"bollinger_up\",\"bollinger_up\",\"bollinger_up\",\"bollinger_up\",\"bollinger_up\",\"bollinger_up\",\"bollinger_up\",\"bollinger_up\",\"bollinger_up\",\"bollinger_up\",\"bollinger_up\",\"bollinger_up\",\"bollinger_up\",\"bollinger_up\",\"bollinger_up\",\"bollinger_up\",\"bollinger_up\",\"bollinger_up\",\"bollinger_up\",\"bollinger_up\",\"bollinger_up\",\"bollinger_up\",\"bollinger_up\",\"bollinger_up\",\"bollinger_up\",\"bollinger_up\",\"bollinger_up\",\"bollinger_up\",\"bollinger_up\",\"bollinger_up\",\"bollinger_up\",\"bollinger_up\",\"bollinger_up\",\"bollinger_up\",\"bollinger_up\",\"bollinger_up\",\"bollinger_up\",\"bollinger_up\",\"bollinger_up\",\"bollinger_up\",\"bollinger_up\",\"bollinger_up\",\"bollinger_up\",\"bollinger_up\",\"bollinger_up\",\"bollinger_up\",\"bollinger_up\",\"bollinger_up\",\"bollinger_up\",\"bollinger_up\",\"bollinger_up\",\"bollinger_up\",\"bollinger_up\",\"bollinger_up\",\"bollinger_up\",\"bollinger_up\",\"bollinger_up\",\"bollinger_up\",\"bollinger_up\",\"bollinger_up\",\"bollinger_up\",\"bollinger_up\",\"bollinger_up\",\"bollinger_up\",\"bollinger_up\",\"bollinger_up\",\"bollinger_up\",\"bollinger_up\",\"bollinger_up\",\"bollinger_up\",\"bollinger_up\",\"bollinger_up\",\"bollinger_up\",\"bollinger_up\",\"bollinger_up\",\"bollinger_up\",\"bollinger_up\",\"bollinger_up\",\"bollinger_up\",\"bollinger_up\",\"bollinger_up\",\"bollinger_up\",\"bollinger_up\",\"bollinger_up\",\"bollinger_up\",\"bollinger_up\",\"bollinger_up\",\"bollinger_up\",\"bollinger_up\",\"bollinger_up\",\"bollinger_up\",\"bollinger_up\",\"bollinger_up\",\"bollinger_up\",\"bollinger_up\",\"bollinger_up\",\"bollinger_up\",\"bollinger_up\",\"bollinger_up\",\"bollinger_up\",\"bollinger_up\",\"bollinger_up\",\"bollinger_up\",\"bollinger_up\",\"bollinger_up\",\"bollinger_up\",\"bollinger_up\",\"bollinger_up\",\"bollinger_up\",\"bollinger_up\",\"bollinger_up\",\"bollinger_up\",\"bollinger_up\",\"bollinger_up\",\"bollinger_up\",\"bollinger_up\",\"bollinger_up\",\"bollinger_up\",\"bollinger_up\",\"bollinger_up\",\"bollinger_up\",\"bollinger_up\",\"bollinger_up\",\"bollinger_up\",\"bollinger_up\",\"bollinger_up\",\"bollinger_up\",\"bollinger_up\",\"bollinger_up\",\"bollinger_up\",\"bollinger_up\",\"bollinger_up\",\"bollinger_up\",\"bollinger_up\",\"bollinger_up\",\"bollinger_up\",\"bollinger_up\",\"bollinger_up\",\"bollinger_up\",\"bollinger_up\",\"bollinger_up\",\"bollinger_up\",\"bollinger_up\",\"bollinger_up\",\"bollinger_up\",\"bollinger_up\",\"bollinger_up\",\"bollinger_up\",\"bollinger_up\",\"bollinger_up\",\"bollinger_up\",\"bollinger_up\",\"bollinger_up\",\"bollinger_up\",\"bollinger_up\",\"bollinger_up\",\"bollinger_up\",\"bollinger_up\",\"bollinger_up\",\"bollinger_up\",\"bollinger_up\",\"bollinger_up\",\"bollinger_up\",\"bollinger_up\",\"bollinger_up\",\"bollinger_up\",\"bollinger_up\",\"bollinger_up\",\"bollinger_up\",\"bollinger_up\",\"bollinger_up\",\"bollinger_up\",\"bollinger_up\",\"bollinger_up\",\"bollinger_up\",\"bollinger_up\",\"bollinger_up\",\"bollinger_up\",\"bollinger_up\",\"bollinger_up\",\"bollinger_up\",\"bollinger_up\",\"bollinger_up\",\"bollinger_up\",\"bollinger_up\",\"bollinger_up\",\"bollinger_up\",\"bollinger_up\",\"bollinger_up\",\"bollinger_up\",\"bollinger_up\",\"bollinger_up\",\"bollinger_up\",\"bollinger_up\",\"bollinger_up\",\"bollinger_up\",\"bollinger_up\",\"bollinger_up\",\"bollinger_up\",\"bollinger_up\",\"bollinger_up\",\"bollinger_up\",\"bollinger_up\",\"bollinger_up\",\"bollinger_up\",\"bollinger_up\",\"bollinger_up\",\"bollinger_up\",\"bollinger_up\",\"bollinger_up\",\"bollinger_up\",\"bollinger_up\",\"bollinger_up\",\"bollinger_up\",\"bollinger_up\",\"bollinger_up\",\"bollinger_up\",\"bollinger_up\",\"bollinger_up\",\"bollinger_up\",\"bollinger_up\",\"bollinger_up\",\"bollinger_up\",\"bollinger_up\",\"bollinger_up\",\"bollinger_up\",\"bollinger_up\",\"bollinger_up\",\"bollinger_up\",\"bollinger_up\",\"bollinger_up\",\"bollinger_up\",\"bollinger_up\",\"bollinger_up\",\"bollinger_up\",\"bollinger_up\",\"bollinger_up\",\"bollinger_up\",\"bollinger_up\",\"bollinger_up\",\"bollinger_up\",\"bollinger_up\",\"bollinger_up\",\"bollinger_up\",\"bollinger_up\",\"bollinger_up\",\"bollinger_up\",\"bollinger_up\",\"bollinger_up\",\"bollinger_up\",\"bollinger_up\",\"bollinger_up\",\"bollinger_up\",\"bollinger_up\",\"bollinger_up\",\"bollinger_up\",\"bollinger_up\",\"bollinger_up\",\"bollinger_up\",\"bollinger_up\",\"bollinger_up\",\"bollinger_up\",\"bollinger_up\",\"bollinger_up\",\"bollinger_up\",\"bollinger_up\",\"bollinger_up\",\"bollinger_up\",\"bollinger_up\",\"bollinger_up\",\"bollinger_up\",\"bollinger_up\",\"bollinger_up\",\"bollinger_up\",\"bollinger_up\",\"bollinger_up\",\"bollinger_up\",\"bollinger_up\",\"bollinger_up\",\"bollinger_up\",\"bollinger_up\",\"bollinger_up\",\"bollinger_up\",\"bollinger_up\",\"bollinger_up\",\"bollinger_up\",\"bollinger_up\",\"bollinger_up\",\"bollinger_up\",\"bollinger_up\",\"bollinger_up\",\"bollinger_up\",\"bollinger_up\",\"bollinger_up\",\"bollinger_up\",\"bollinger_up\",\"bollinger_up\",\"bollinger_up\",\"bollinger_up\",\"bollinger_up\",\"bollinger_up\",\"bollinger_up\",\"bollinger_up\",\"bollinger_up\",\"bollinger_up\",\"bollinger_up\",\"bollinger_up\",\"bollinger_up\",\"bollinger_up\",\"bollinger_up\",\"bollinger_up\",\"bollinger_up\",\"bollinger_up\",\"bollinger_up\",\"bollinger_up\",\"bollinger_up\",\"bollinger_up\",\"bollinger_up\",\"bollinger_up\",\"bollinger_up\",\"bollinger_up\",\"bollinger_up\",\"bollinger_up\",\"bollinger_up\",\"bollinger_up\",\"bollinger_up\",\"bollinger_up\",\"bollinger_up\",\"bollinger_up\",\"bollinger_up\",\"bollinger_up\",\"bollinger_up\",\"bollinger_up\",\"bollinger_up\",\"bollinger_up\",\"bollinger_up\",\"bollinger_up\",\"bollinger_up\",\"bollinger_up\",\"bollinger_up\",\"bollinger_up\",\"bollinger_up\",\"bollinger_up\",\"bollinger_up\",\"bollinger_up\",\"bollinger_up\",\"bollinger_up\",\"bollinger_up\",\"bollinger_up\",\"bollinger_up\",\"bollinger_up\",\"bollinger_up\",\"bollinger_up\",\"bollinger_up\",\"bollinger_up\",\"bollinger_up\",\"bollinger_up\",\"bollinger_up\",\"bollinger_up\",\"bollinger_up\",\"bollinger_up\",\"bollinger_up\",\"bollinger_up\",\"bollinger_up\",\"bollinger_up\",\"bollinger_up\",\"bollinger_up\",\"bollinger_up\",\"bollinger_up\",\"bollinger_up\",\"bollinger_up\",\"bollinger_up\",\"bollinger_up\",\"bollinger_up\",\"bollinger_up\",\"bollinger_up\",\"bollinger_up\",\"bollinger_up\",\"bollinger_up\",\"bollinger_up\",\"bollinger_up\",\"bollinger_up\",\"bollinger_up\",\"bollinger_up\",\"bollinger_up\",\"bollinger_up\",\"bollinger_up\",\"bollinger_up\",\"bollinger_up\",\"bollinger_up\",\"bollinger_up\",\"bollinger_up\",\"bollinger_up\",\"bollinger_up\",\"bollinger_up\",\"bollinger_up\",\"bollinger_up\",\"bollinger_up\",\"bollinger_up\",\"bollinger_up\",\"bollinger_up\",\"bollinger_up\",\"bollinger_up\",\"bollinger_up\",\"bollinger_up\",\"bollinger_up\",\"bollinger_up\",\"bollinger_up\",\"bollinger_up\",\"bollinger_up\",\"bollinger_up\",\"bollinger_up\",\"bollinger_up\",\"bollinger_up\",\"bollinger_up\",\"bollinger_up\",\"bollinger_up\",\"bollinger_up\",\"bollinger_up\",\"bollinger_up\",\"bollinger_up\",\"bollinger_up\",\"bollinger_up\",\"bollinger_up\",\"bollinger_up\",\"bollinger_up\",\"bollinger_up\",\"bollinger_up\",\"bollinger_up\",\"bollinger_up\",\"bollinger_up\",\"bollinger_up\",\"bollinger_up\",\"bollinger_up\",\"bollinger_up\",\"bollinger_up\",\"bollinger_up\",\"bollinger_up\",\"bollinger_up\",\"bollinger_up\",\"bollinger_up\",\"bollinger_up\",\"bollinger_up\",\"bollinger_up\",\"bollinger_up\",\"bollinger_up\",\"bollinger_up\",\"bollinger_up\",\"bollinger_up\",\"bollinger_up\",\"bollinger_up\",\"bollinger_up\",\"bollinger_up\",\"bollinger_up\",\"bollinger_up\",\"bollinger_up\",\"bollinger_up\",\"bollinger_up\",\"bollinger_up\",\"bollinger_up\",\"bollinger_up\",\"bollinger_up\",\"bollinger_up\",\"bollinger_up\",\"bollinger_up\"],\"value\":{\"__ndarray__\":\"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\",\"dtype\":\"float64\",\"order\":\"little\",\"shape\":[1219]}},\"selected\":{\"id\":\"9747\"},\"selection_policy\":{\"id\":\"9763\"}},\"id\":\"9746\",\"type\":\"ColumnDataSource\"},{\"attributes\":{\"coordinates\":null,\"data_source\":{\"id\":\"9713\"},\"glyph\":{\"id\":\"9716\"},\"group\":null,\"hover_glyph\":null,\"muted_glyph\":{\"id\":\"9718\"},\"nonselection_glyph\":{\"id\":\"9717\"},\"selection_glyph\":{\"id\":\"9745\"},\"view\":{\"id\":\"9720\"}},\"id\":\"9719\",\"type\":\"GlyphRenderer\"},{\"attributes\":{\"callback\":null,\"formatters\":{\"@{Date}\":\"datetime\"},\"renderers\":[{\"id\":\"9719\"},{\"id\":\"9752\"},{\"id\":\"9786\"}],\"tags\":[\"hv_created\"],\"tooltips\":[[\"Variable\",\"@{Variable}\"],[\"Date\",\"@{Date}{%F %T}\"],[\"value\",\"@{value}\"]]},\"id\":\"9674\",\"type\":\"HoverTool\"},{\"attributes\":{\"click_policy\":\"mute\",\"coordinates\":null,\"group\":null,\"items\":[{\"id\":\"9744\"},{\"id\":\"9778\"},{\"id\":\"9814\"}],\"location\":[0,0],\"title\":\"Variable\"},\"id\":\"9743\",\"type\":\"Legend\"},{\"attributes\":{\"children\":[{\"id\":\"9671\"},{\"id\":\"9677\"},{\"id\":\"10050\"}],\"margin\":[0,0,0,0],\"name\":\"Row12416\",\"tags\":[\"embedded\"]},\"id\":\"9670\",\"type\":\"Row\"},{\"attributes\":{\"source\":{\"id\":\"9713\"}},\"id\":\"9720\",\"type\":\"CDSView\"},{\"attributes\":{\"num_minor_ticks\":5,\"tickers\":[{\"id\":\"9731\"},{\"id\":\"9732\"},{\"id\":\"9733\"},{\"id\":\"9734\"},{\"id\":\"9735\"},{\"id\":\"9736\"},{\"id\":\"9737\"},{\"id\":\"9738\"},{\"id\":\"9739\"},{\"id\":\"9740\"},{\"id\":\"9741\"},{\"id\":\"9742\"}]},\"id\":\"9687\",\"type\":\"DatetimeTicker\"},{\"attributes\":{\"below\":[{\"id\":\"9686\"}],\"center\":[{\"id\":\"9689\"},{\"id\":\"9693\"}],\"height\":300,\"left\":[{\"id\":\"9690\"}],\"margin\":[5,5,5,5],\"min_border_bottom\":10,\"min_border_left\":10,\"min_border_right\":10,\"min_border_top\":10,\"renderers\":[{\"id\":\"9719\"},{\"id\":\"9752\"},{\"id\":\"9786\"}],\"right\":[{\"id\":\"9743\"}],\"sizing_mode\":\"fixed\",\"title\":{\"id\":\"9678\"},\"toolbar\":{\"id\":\"9700\"},\"width\":700,\"x_range\":{\"id\":\"9672\"},\"x_scale\":{\"id\":\"9682\"},\"y_range\":{\"id\":\"9673\"},\"y_scale\":{\"id\":\"9684\"}},\"id\":\"9677\",\"subtype\":\"Figure\",\"type\":\"Plot\"},{\"attributes\":{\"label\":{\"value\":\"Close\"},\"renderers\":[{\"id\":\"9719\"}]},\"id\":\"9744\",\"type\":\"LegendItem\"},{\"attributes\":{},\"id\":\"9682\",\"type\":\"LinearScale\"},{\"attributes\":{\"axis_label\":\"Date\",\"coordinates\":null,\"formatter\":{\"id\":\"9708\"},\"group\":null,\"major_label_policy\":{\"id\":\"9709\"},\"ticker\":{\"id\":\"9687\"}},\"id\":\"9686\",\"type\":\"DatetimeAxis\"},{\"attributes\":{\"line_color\":\"#e5ae38\",\"line_width\":2,\"x\":{\"field\":\"Date\"},\"y\":{\"field\":\"value\"}},\"id\":\"9783\",\"type\":\"Line\"},{\"attributes\":{\"axis\":{\"id\":\"9686\"},\"coordinates\":null,\"grid_line_color\":null,\"group\":null,\"ticker\":null},\"id\":\"9689\",\"type\":\"Grid\"},{\"attributes\":{\"coordinates\":null,\"group\":null,\"text_color\":\"black\",\"text_font_size\":\"12pt\"},\"id\":\"9678\",\"type\":\"Title\"},{\"attributes\":{\"line_color\":\"#fc4f30\",\"line_width\":2,\"x\":{\"field\":\"Date\"},\"y\":{\"field\":\"value\"}},\"id\":\"9779\",\"type\":\"Line\"},{\"attributes\":{},\"id\":\"9684\",\"type\":\"LinearScale\"},{\"attributes\":{\"axis_label\":\"\",\"coordinates\":null,\"formatter\":{\"id\":\"9711\"},\"group\":null,\"major_label_policy\":{\"id\":\"9712\"},\"ticker\":{\"id\":\"9691\"}},\"id\":\"9690\",\"type\":\"LinearAxis\"},{\"attributes\":{\"line_color\":\"#e5ae38\",\"line_width\":2,\"x\":{\"field\":\"Date\"},\"y\":{\"field\":\"value\"}},\"id\":\"9815\",\"type\":\"Line\"},{\"attributes\":{},\"id\":\"9691\",\"type\":\"BasicTicker\"},{\"attributes\":{},\"id\":\"9695\",\"type\":\"PanTool\"},{\"attributes\":{},\"id\":\"9781\",\"type\":\"Selection\"},{\"attributes\":{},\"id\":\"9696\",\"type\":\"WheelZoomTool\"},{\"attributes\":{},\"id\":\"9709\",\"type\":\"AllLabels\"},{\"attributes\":{\"axis\":{\"id\":\"9690\"},\"coordinates\":null,\"dimension\":1,\"grid_line_color\":null,\"group\":null,\"ticker\":null},\"id\":\"9693\",\"type\":\"Grid\"},{\"attributes\":{\"line_alpha\":0.1,\"line_color\":\"#e5ae38\",\"line_width\":2,\"x\":{\"field\":\"Date\"},\"y\":{\"field\":\"value\"}},\"id\":\"9784\",\"type\":\"Line\"},{\"attributes\":{},\"id\":\"9694\",\"type\":\"SaveTool\"},{\"attributes\":{\"overlay\":{\"id\":\"9699\"}},\"id\":\"9697\",\"type\":\"BoxZoomTool\"},{\"attributes\":{},\"id\":\"9698\",\"type\":\"ResetTool\"},{\"attributes\":{\"coordinates\":null,\"data_source\":{\"id\":\"9780\"},\"glyph\":{\"id\":\"9783\"},\"group\":null,\"hover_glyph\":null,\"muted_glyph\":{\"id\":\"9785\"},\"nonselection_glyph\":{\"id\":\"9784\"},\"selection_glyph\":{\"id\":\"9815\"},\"view\":{\"id\":\"9787\"}},\"id\":\"9786\",\"type\":\"GlyphRenderer\"},{\"attributes\":{\"line_alpha\":0.2,\"line_color\":\"#e5ae38\",\"line_width\":2,\"x\":{\"field\":\"Date\"},\"y\":{\"field\":\"value\"}},\"id\":\"9785\",\"type\":\"Line\"},{\"attributes\":{\"bottom_units\":\"screen\",\"coordinates\":null,\"fill_alpha\":0.5,\"fill_color\":\"lightgrey\",\"group\":null,\"left_units\":\"screen\",\"level\":\"overlay\",\"line_alpha\":1.0,\"line_color\":\"black\",\"line_dash\":[4,4],\"line_width\":2,\"right_units\":\"screen\",\"syncable\":false,\"top_units\":\"screen\"},\"id\":\"9699\",\"type\":\"BoxAnnotation\"},{\"attributes\":{\"source\":{\"id\":\"9780\"}},\"id\":\"9787\",\"type\":\"CDSView\"},{\"attributes\":{},\"id\":\"9728\",\"type\":\"UnionRenderers\"},{\"attributes\":{\"label\":{\"value\":\"bollinger_down\"},\"renderers\":[{\"id\":\"9786\"}]},\"id\":\"9814\",\"type\":\"LegendItem\"},{\"attributes\":{},\"id\":\"9799\",\"type\":\"UnionRenderers\"},{\"attributes\":{\"data\":{\"Date\":{\"__ndarray__\":\"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\",\"dtype\":\"float64\",\"order\":\"little\",\"shape\":[1219]},\"Variable\":[\"bollinger_down\",\"bollinger_down\",\"bollinger_down\",\"bollinger_down\",\"bollinger_down\",\"bollinger_down\",\"bollinger_down\",\"bollinger_down\",\"bollinger_down\",\"bollinger_down\",\"bollinger_down\",\"bollinger_down\",\"bollinger_down\",\"bollinger_down\",\"bollinger_down\",\"bollinger_down\",\"bollinger_down\",\"bollinger_down\",\"bollinger_down\",\"bollinger_down\",\"bollinger_down\",\"bollinger_down\",\"bollinger_down\",\"bollinger_down\",\"bollinger_down\",\"bollinger_down\",\"bollinger_down\",\"bollinger_down\",\"bollinger_down\",\"bollinger_down\",\"bollinger_down\",\"bollinger_down\",\"bollinger_down\",\"bollinger_down\",\"bollinger_down\",\"bollinger_down\",\"bollinger_down\",\"bollinger_down\",\"bollinger_down\",\"bollinger_down\",\"bollinger_down\",\"bollinger_down\",\"bollinger_down\",\"bollinger_down\",\"bollinger_down\",\"bollinger_down\",\"bollinger_down\",\"bollinger_down\",\"bollinger_down\",\"bollinger_down\",\"bollinger_down\",\"bollinger_down\",\"bollinger_down\",\"bollinger_down\",\"bollinger_down\",\"bollinger_down\",\"bollinger_down\",\"bollinger_down\",\"bollinger_down\",\"bollinger_down\",\"bollinger_down\",\"bollinger_down\",\"bollinger_down\",\"bollinger_down\",\"bollinger_down\",\"bollinger_down\",\"bollinger_down\",\"bollinger_down\",\"bollinger_down\",\"bollinger_down\",\"bollinger_down\",\"bollinger_down\",\"bollinger_down\",\"bollinger_down\",\"bollinger_down\",\"bollinger_down\",\"bollinger_down\",\"bollinger_down\",\"bollinger_down\",\"bollinger_down\",\"bollinger_down\",\"bollinger_down\",\"bollinger_down\",\"bollinger_down\",\"bollinger_down\",\"bollinger_down\",\"bollinger_down\",\"bollinger_down\",\"bollinger_down\",\"bollinger_down\",\"bollinger_down\",\"bollinger_down\",\"bollinger_down\",\"bollinger_down\",\"bollinger_down\",\"bollinger_down\",\"bollinger_down\",\"bollinger_down\",\"bollinger_down\",\"bollinger_down\",\"bollinger_down\",\"bollinger_down\",\"bollinger_down\",\"bollinger_down\",\"bollinger_down\",\"bollinger_down\",\"bollinger_down\",\"bollinger_down\",\"bollinger_down\",\"bollinger_down\",\"bollinger_down\",\"bollinger_down\",\"bollinger_down\",\"bollinger_down\",\"bollinger_down\",\"bollinger_down\",\"bollinger_down\",\"bollinger_down\",\"bollinger_down\",\"bollinger_down\",\"bollinger_down\",\"bollinger_down\",\"bollinger_down\",\"bollinger_down\",\"bollinger_down\",\"bollinger_down\",\"bollinger_down\",\"bollinger_down\",\"bollinger_down\",\"bollinger_down\",\"bollinger_down\",\"bollinger_down\",\"bollinger_down\",\"bollinger_down\",\"bollinger_down\",\"bollinger_down\",\"bollinger_down\",\"bollinger_down\",\"bollinger_down\",\"bollinger_down\",\"bollinger_down\",\"bollinger_down\",\"bollinger_down\",\"bollinger_down\",\"bollinger_down\",\"bollinger_down\",\"bollinger_down\",\"bollinger_down\",\"bollinger_down\",\"bollinger_down\",\"bollinger_down\",\"bollinger_down\",\"bollinger_down\",\"bollinger_down\",\"bollinger_down\",\"bollinger_down\",\"bollinger_down\",\"bollinger_down\",\"bollinger_down\",\"bollinger_down\",\"bollinger_down\",\"bollinger_down\",\"bollinger_down\",\"bollinger_down\",\"bollinger_down\",\"bollinger_down\",\"bollinger_down\",\"bollinger_down\",\"bollinger_down\",\"bollinger_down\",\"bollinger_down\",\"bollinger_down\",\"bollinger_down\",\"bollinger_down\",\"bollinger_down\",\"bollinger_down\",\"bollinger_down\",\"bollinger_down\",\"bollinger_down\",\"bollinger_down\",\"bollinger_down\",\"bollinger_down\",\"bollinger_down\",\"bollinger_down\",\"bollinger_down\",\"bollinger_down\",\"bollinger_down\",\"bollinger_down\",\"bollinger_down\",\"bollinger_down\",\"bollinger_down\",\"bollinger_down\",\"bollinger_down\",\"bollinger_down\",\"bollinger_down\",\"bollinger_down\",\"bollinger_down\",\"bollinger_down\",\"bollinger_down\",\"bollinger_down\",\"bollinger_down\",\"bollinger_down\",\"bollinger_down\",\"bollinger_down\",\"bollinger_down\",\"bollinger_down\",\"bollinger_down\",\"bollinger_down\",\"bollinger_down\",\"bollinger_down\",\"bollinger_down\",\"bollinger_down\",\"bollinger_down\",\"bollinger_down\",\"bollinger_down\",\"bollinger_down\",\"bollinger_down\",\"bollinger_down\",\"bollinger_down\",\"bollinger_down\",\"bollinger_down\",\"bollinger_down\",\"bollinger_down\",\"bollinger_down\",\"bollinger_down\",\"bollinger_down\",\"bollinger_down\",\"bollinger_down\",\"bollinger_down\",\"bollinger_down\",\"bollinger_down\",\"bollinger_down\",\"bollinger_down\",\"bollinger_down\",\"bollinger_down\",\"bollinger_down\",\"bollinger_down\",\"bollinger_down\",\"bollinger_down\",\"bollinger_down\",\"bollinger_down\",\"bollinger_down\",\"bollinger_down\",\"bollinger_down\",\"bollinger_down\",\"bollinger_down\",\"bollinger_down\",\"bollinger_down\",\"bollinger_down\",\"bollinger_down\",\"bollinger_down\",\"bollinger_down\",\"bollinger_down\",\"bollinger_down\",\"bollinger_down\",\"bollinger_down\",\"bollinger_down\",\"bollinger_down\",\"bollinger_down\",\"bollinger_down\",\"bollinger_down\",\"bollinger_down\",\"bollinger_down\",\"bollinger_down\",\"bollinger_down\",\"bollinger_down\",\"bollinger_down\",\"bollinger_down\",\"bollinger_down\",\"bollinger_down\",\"bollinger_down\",\"bollinger_down\",\"bollinger_down\",\"bollinger_down\",\"bollinger_down\",\"bollinger_down\",\"bollinger_down\",\"bollinger_down\",\"bollinger_down\",\"bollinger_down\",\"bollinger_down\",\"bollinger_down\",\"bollinger_down\",\"bollinger_down\",\"bollinger_down\",\"bollinger_down\",\"bollinger_down\",\"bollinger_down\",\"bollinger_down\",\"bollinger_down\",\"bollinger_down\",\"bollinger_down\",\"bollinger_down\",\"bollinger_down\",\"bollinger_down\",\"bollinger_down\",\"bollinger_down\",\"bollinger_down\",\"bollinger_down\",\"bollinger_down\",\"bollinger_down\",\"bollinger_down\",\"bollinger_down\",\"bollinger_down\",\"bollinger_down\",\"bollinger_down\",\"bollinger_down\",\"bollinger_down\",\"bollinger_down\",\"bollinger_down\",\"bollinger_down\",\"bollinger_down\",\"bollinger_down\",\"bollinger_down\",\"bollinger_down\",\"bollinger_down\",\"bollinger_down\",\"bollinger_down\",\"bollinger_down\",\"bollinger_down\",\"bollinger_down\",\"bollinger_down\",\"bollinger_down\",\"bollinger_down\",\"bollinger_down\",\"bollinger_down\",\"bollinger_down\",\"bollinger_down\",\"bollinger_down\",\"bollinger_down\",\"bollinger_down\",\"bollinger_down\",\"bollinger_down\",\"bollinger_down\",\"bollinger_down\",\"bollinger_down\",\"bollinger_down\",\"bollinger_down\",\"bollinger_down\",\"bollinger_down\",\"bollinger_down\",\"bollinger_down\",\"bollinger_down\",\"bollinger_down\",\"bollinger_down\",\"bollinger_down\",\"bollinger_down\",\"bollinger_down\",\"bollinger_down\",\"bollinger_down\",\"bollinger_down\",\"bollinger_down\",\"bollinger_down\",\"bollinger_down\",\"bollinger_down\",\"bollinger_down\",\"bollinger_down\",\"bollinger_down\",\"bollinger_down\",\"bollinger_down\",\"bollinger_down\",\"bollinger_down\",\"bollinger_down\",\"bollinger_down\",\"bollinger_down\",\"bollinger_down\",\"bollinger_down\",\"bollinger_down\",\"bollinger_down\",\"bollinger_down\",\"bollinger_down\",\"bollinger_down\",\"bollinger_down\",\"bollinger_down\",\"bollinger_down\",\"bollinger_down\",\"bollinger_down\",\"bollinger_down\",\"bollinger_down\",\"bollinger_down\",\"bollinger_down\",\"bollinger_down\",\"bollinger_down\",\"bollinger_down\",\"bollinger_down\",\"bollinger_down\",\"bollinger_down\",\"bollinger_down\",\"bollinger_down\",\"bollinger_down\",\"bollinger_down\",\"bollinger_down\",\"bollinger_down\",\"bollinger_down\",\"bollinger_down\",\"bollinger_down\",\"bollinger_down\",\"bollinger_down\",\"bollinger_down\",\"bollinger_down\",\"bollinger_down\",\"bollinger_down\",\"bollinger_down\",\"bollinger_down\",\"bollinger_down\",\"bollinger_down\",\"bollinger_down\",\"bollinger_down\",\"bollinger_down\",\"bollinger_down\",\"bollinger_down\",\"bollinger_down\",\"bollinger_down\",\"bollinger_down\",\"bollinger_down\",\"bollinger_down\",\"bollinger_down\",\"bollinger_down\",\"bollinger_down\",\"bollinger_down\",\"bollinger_down\",\"bollinger_down\",\"bollinger_down\",\"bollinger_down\",\"bollinger_down\",\"bollinger_down\",\"bollinger_down\",\"bollinger_down\",\"bollinger_down\",\"bollinger_down\",\"bollinger_down\",\"bollinger_down\",\"bollinger_down\",\"bollinger_down\",\"bollinger_down\",\"bollinger_down\",\"bollinger_down\",\"bollinger_down\",\"bollinger_down\",\"bollinger_down\",\"bollinger_down\",\"bollinger_down\",\"bollinger_down\",\"bollinger_down\",\"bollinger_down\",\"bollinger_down\",\"bollinger_down\",\"bollinger_down\",\"bollinger_down\",\"bollinger_down\",\"bollinger_down\",\"bollinger_down\",\"bollinger_down\",\"bollinger_down\",\"bollinger_down\",\"bollinger_down\",\"bollinger_down\",\"bollinger_down\",\"bollinger_down\",\"bollinger_down\",\"bollinger_down\",\"bollinger_down\",\"bollinger_down\",\"bollinger_down\",\"bollinger_down\",\"bollinger_down\",\"bollinger_down\",\"bollinger_down\",\"bollinger_down\",\"bollinger_down\",\"bollinger_down\",\"bollinger_down\",\"bollinger_down\",\"bollinger_down\",\"bollinger_down\",\"bollinger_down\",\"bollinger_down\",\"bollinger_down\",\"bollinger_down\",\"bollinger_down\",\"bollinger_down\",\"bollinger_down\",\"bollinger_down\",\"bollinger_down\",\"bollinger_down\",\"bollinger_down\",\"bollinger_down\",\"bollinger_down\",\"bollinger_down\",\"bollinger_down\",\"bollinger_down\",\"bollinger_down\",\"bollinger_down\",\"bollinger_down\",\"bollinger_down\",\"bollinger_down\",\"bollinger_down\",\"bollinger_down\",\"bollinger_down\",\"bollinger_down\",\"bollinger_down\",\"bollinger_down\",\"bollinger_down\",\"bollinger_down\",\"bollinger_down\",\"bollinger_down\",\"bollinger_down\",\"bollinger_down\",\"bollinger_down\",\"bollinger_down\",\"bollinger_down\",\"bollinger_down\",\"bollinger_down\",\"bollinger_down\",\"bollinger_down\",\"bollinger_down\",\"bollinger_down\",\"bollinger_down\",\"bollinger_down\",\"bollinger_down\",\"bollinger_down\",\"bollinger_down\",\"bollinger_down\",\"bollinger_down\",\"bollinger_down\",\"bollinger_down\",\"bollinger_down\",\"bollinger_down\",\"bollinger_down\",\"bollinger_down\",\"bollinger_down\",\"bollinger_down\",\"bollinger_down\",\"bollinger_down\",\"bollinger_down\",\"bollinger_down\",\"bollinger_down\",\"bollinger_down\",\"bollinger_down\",\"bollinger_down\",\"bollinger_down\",\"bollinger_down\",\"bollinger_down\",\"bollinger_down\",\"bollinger_down\",\"bollinger_down\",\"bollinger_down\",\"bollinger_down\",\"bollinger_down\",\"bollinger_down\",\"bollinger_down\",\"bollinger_down\",\"bollinger_down\",\"bollinger_down\",\"bollinger_down\",\"bollinger_down\",\"bollinger_down\",\"bollinger_down\",\"bollinger_down\",\"bollinger_down\",\"bollinger_down\",\"bollinger_down\",\"bollinger_down\",\"bollinger_down\",\"bollinger_down\",\"bollinger_down\",\"bollinger_down\",\"bollinger_down\",\"bollinger_down\",\"bollinger_down\",\"bollinger_down\",\"bollinger_down\",\"bollinger_down\",\"bollinger_down\",\"bollinger_down\",\"bollinger_down\",\"bollinger_down\",\"bollinger_down\",\"bollinger_down\",\"bollinger_down\",\"bollinger_down\",\"bollinger_down\",\"bollinger_down\",\"bollinger_down\",\"bollinger_down\",\"bollinger_down\",\"bollinger_down\",\"bollinger_down\",\"bollinger_down\",\"bollinger_down\",\"bollinger_down\",\"bollinger_down\",\"bollinger_down\",\"bollinger_down\",\"bollinger_down\",\"bollinger_down\",\"bollinger_down\",\"bollinger_down\",\"bollinger_down\",\"bollinger_down\",\"bollinger_down\",\"bollinger_down\",\"bollinger_down\",\"bollinger_down\",\"bollinger_down\",\"bollinger_down\",\"bollinger_down\",\"bollinger_down\",\"bollinger_down\",\"bollinger_down\",\"bollinger_down\",\"bollinger_down\",\"bollinger_down\",\"bollinger_down\",\"bollinger_down\",\"bollinger_down\",\"bollinger_down\",\"bollinger_down\",\"bollinger_down\",\"bollinger_down\",\"bollinger_down\",\"bollinger_down\",\"bollinger_down\",\"bollinger_down\",\"bollinger_down\",\"bollinger_down\",\"bollinger_down\",\"bollinger_down\",\"bollinger_down\",\"bollinger_down\",\"bollinger_down\",\"bollinger_down\",\"bollinger_down\",\"bollinger_down\",\"bollinger_down\",\"bollinger_down\",\"bollinger_down\",\"bollinger_down\",\"bollinger_down\",\"bollinger_down\",\"bollinger_down\",\"bollinger_down\",\"bollinger_down\",\"bollinger_down\",\"bollinger_down\",\"bollinger_down\",\"bollinger_down\",\"bollinger_down\",\"bollinger_down\",\"bollinger_down\",\"bollinger_down\",\"bollinger_down\",\"bollinger_down\",\"bollinger_down\",\"bollinger_down\",\"bollinger_down\",\"bollinger_down\",\"bollinger_down\",\"bollinger_down\",\"bollinger_down\",\"bollinger_down\",\"bollinger_down\",\"bollinger_down\",\"bollinger_down\",\"bollinger_down\",\"bollinger_down\",\"bollinger_down\",\"bollinger_down\",\"bollinger_down\",\"bollinger_down\",\"bollinger_down\",\"bollinger_down\",\"bollinger_down\",\"bollinger_down\",\"bollinger_down\",\"bollinger_down\",\"bollinger_down\",\"bollinger_down\",\"bollinger_down\",\"bollinger_down\",\"bollinger_down\",\"bollinger_down\",\"bollinger_down\",\"bollinger_down\",\"bollinger_down\",\"bollinger_down\",\"bollinger_down\",\"bollinger_down\",\"bollinger_down\",\"bollinger_down\",\"bollinger_down\",\"bollinger_down\",\"bollinger_down\",\"bollinger_down\",\"bollinger_down\",\"bollinger_down\",\"bollinger_down\",\"bollinger_down\",\"bollinger_down\",\"bollinger_down\",\"bollinger_down\",\"bollinger_down\",\"bollinger_down\",\"bollinger_down\",\"bollinger_down\",\"bollinger_down\",\"bollinger_down\",\"bollinger_down\",\"bollinger_down\",\"bollinger_down\",\"bollinger_down\",\"bollinger_down\",\"bollinger_down\",\"bollinger_down\",\"bollinger_down\",\"bollinger_down\",\"bollinger_down\",\"bollinger_down\",\"bollinger_down\",\"bollinger_down\",\"bollinger_down\",\"bollinger_down\",\"bollinger_down\",\"bollinger_down\",\"bollinger_down\",\"bollinger_down\",\"bollinger_down\",\"bollinger_down\",\"bollinger_down\",\"bollinger_down\",\"bollinger_down\",\"bollinger_down\",\"bollinger_down\",\"bollinger_down\",\"bollinger_down\",\"bollinger_down\",\"bollinger_down\",\"bollinger_down\",\"bollinger_down\",\"bollinger_down\",\"bollinger_down\",\"bollinger_down\",\"bollinger_down\",\"bollinger_down\",\"bollinger_down\",\"bollinger_down\",\"bollinger_down\",\"bollinger_down\",\"bollinger_down\",\"bollinger_down\",\"bollinger_down\",\"bollinger_down\",\"bollinger_down\",\"bollinger_down\",\"bollinger_down\",\"bollinger_down\",\"bollinger_down\",\"bollinger_down\",\"bollinger_down\",\"bollinger_down\",\"bollinger_down\",\"bollinger_down\",\"bollinger_down\",\"bollinger_down\",\"bollinger_down\",\"bollinger_down\",\"bollinger_down\",\"bollinger_down\",\"bollinger_down\",\"bollinger_down\",\"bollinger_down\",\"bollinger_down\",\"bollinger_down\",\"bollinger_down\",\"bollinger_down\",\"bollinger_down\",\"bollinger_down\",\"bollinger_down\",\"bollinger_down\",\"bollinger_down\",\"bollinger_down\",\"bollinger_down\",\"bollinger_down\",\"bollinger_down\",\"bollinger_down\",\"bollinger_down\",\"bollinger_down\",\"bollinger_down\",\"bollinger_down\",\"bollinger_down\",\"bollinger_down\",\"bollinger_down\",\"bollinger_down\",\"bollinger_down\",\"bollinger_down\",\"bollinger_down\",\"bollinger_down\",\"bollinger_down\",\"bollinger_down\",\"bollinger_down\",\"bollinger_down\",\"bollinger_down\",\"bollinger_down\",\"bollinger_down\",\"bollinger_down\",\"bollinger_down\",\"bollinger_down\",\"bollinger_down\",\"bollinger_down\",\"bollinger_down\",\"bollinger_down\",\"bollinger_down\",\"bollinger_down\",\"bollinger_down\",\"bollinger_down\",\"bollinger_down\",\"bollinger_down\",\"bollinger_down\",\"bollinger_down\",\"bollinger_down\",\"bollinger_down\",\"bollinger_down\",\"bollinger_down\",\"bollinger_down\",\"bollinger_down\",\"bollinger_down\",\"bollinger_down\",\"bollinger_down\",\"bollinger_down\",\"bollinger_down\",\"bollinger_down\",\"bollinger_down\",\"bollinger_down\",\"bollinger_down\",\"bollinger_down\",\"bollinger_down\",\"bollinger_down\",\"bollinger_down\",\"bollinger_down\",\"bollinger_down\",\"bollinger_down\",\"bollinger_down\",\"bollinger_down\",\"bollinger_down\",\"bollinger_down\",\"bollinger_down\",\"bollinger_down\",\"bollinger_down\",\"bollinger_down\",\"bollinger_down\",\"bollinger_down\",\"bollinger_down\",\"bollinger_down\",\"bollinger_down\",\"bollinger_down\",\"bollinger_down\",\"bollinger_down\",\"bollinger_down\",\"bollinger_down\",\"bollinger_down\",\"bollinger_down\",\"bollinger_down\",\"bollinger_down\",\"bollinger_down\",\"bollinger_down\",\"bollinger_down\",\"bollinger_down\",\"bollinger_down\",\"bollinger_down\",\"bollinger_down\",\"bollinger_down\",\"bollinger_down\",\"bollinger_down\",\"bollinger_down\",\"bollinger_down\",\"bollinger_down\",\"bollinger_down\",\"bollinger_down\",\"bollinger_down\",\"bollinger_down\",\"bollinger_down\",\"bollinger_down\",\"bollinger_down\",\"bollinger_down\",\"bollinger_down\",\"bollinger_down\",\"bollinger_down\",\"bollinger_down\",\"bollinger_down\",\"bollinger_down\",\"bollinger_down\",\"bollinger_down\",\"bollinger_down\",\"bollinger_down\",\"bollinger_down\",\"bollinger_down\",\"bollinger_down\",\"bollinger_down\",\"bollinger_down\",\"bollinger_down\",\"bollinger_down\",\"bollinger_down\",\"bollinger_down\",\"bollinger_down\",\"bollinger_down\",\"bollinger_down\",\"bollinger_down\",\"bollinger_down\",\"bollinger_down\",\"bollinger_down\",\"bollinger_down\",\"bollinger_down\",\"bollinger_down\",\"bollinger_down\",\"bollinger_down\",\"bollinger_down\",\"bollinger_down\",\"bollinger_down\",\"bollinger_down\",\"bollinger_down\",\"bollinger_down\",\"bollinger_down\",\"bollinger_down\",\"bollinger_down\",\"bollinger_down\",\"bollinger_down\",\"bollinger_down\",\"bollinger_down\",\"bollinger_down\",\"bollinger_down\",\"bollinger_down\",\"bollinger_down\",\"bollinger_down\",\"bollinger_down\",\"bollinger_down\",\"bollinger_down\",\"bollinger_down\",\"bollinger_down\",\"bollinger_down\",\"bollinger_down\",\"bollinger_down\",\"bollinger_down\",\"bollinger_down\",\"bollinger_down\",\"bollinger_down\",\"bollinger_down\",\"bollinger_down\",\"bollinger_down\",\"bollinger_down\",\"bollinger_down\",\"bollinger_down\",\"bollinger_down\",\"bollinger_down\",\"bollinger_down\",\"bollinger_down\",\"bollinger_down\",\"bollinger_down\",\"bollinger_down\",\"bollinger_down\",\"bollinger_down\",\"bollinger_down\",\"bollinger_down\",\"bollinger_down\",\"bollinger_down\",\"bollinger_down\",\"bollinger_down\",\"bollinger_down\",\"bollinger_down\",\"bollinger_down\",\"bollinger_down\",\"bollinger_down\",\"bollinger_down\",\"bollinger_down\",\"bollinger_down\",\"bollinger_down\",\"bollinger_down\",\"bollinger_down\",\"bollinger_down\",\"bollinger_down\",\"bollinger_down\",\"bollinger_down\",\"bollinger_down\",\"bollinger_down\",\"bollinger_down\",\"bollinger_down\",\"bollinger_down\",\"bollinger_down\",\"bollinger_down\",\"bollinger_down\",\"bollinger_down\",\"bollinger_down\",\"bollinger_down\",\"bollinger_down\",\"bollinger_down\",\"bollinger_down\",\"bollinger_down\",\"bollinger_down\",\"bollinger_down\",\"bollinger_down\",\"bollinger_down\",\"bollinger_down\",\"bollinger_down\",\"bollinger_down\",\"bollinger_down\",\"bollinger_down\",\"bollinger_down\",\"bollinger_down\",\"bollinger_down\",\"bollinger_down\",\"bollinger_down\",\"bollinger_down\",\"bollinger_down\",\"bollinger_down\",\"bollinger_down\",\"bollinger_down\",\"bollinger_down\",\"bollinger_down\",\"bollinger_down\",\"bollinger_down\",\"bollinger_down\",\"bollinger_down\",\"bollinger_down\",\"bollinger_down\",\"bollinger_down\",\"bollinger_down\",\"bollinger_down\",\"bollinger_down\",\"bollinger_down\",\"bollinger_down\",\"bollinger_down\",\"bollinger_down\",\"bollinger_down\",\"bollinger_down\",\"bollinger_down\",\"bollinger_down\",\"bollinger_down\",\"bollinger_down\",\"bollinger_down\",\"bollinger_down\",\"bollinger_down\",\"bollinger_down\",\"bollinger_down\",\"bollinger_down\",\"bollinger_down\",\"bollinger_down\",\"bollinger_down\",\"bollinger_down\",\"bollinger_down\",\"bollinger_down\",\"bollinger_down\",\"bollinger_down\",\"bollinger_down\",\"bollinger_down\",\"bollinger_down\",\"bollinger_down\",\"bollinger_down\",\"bollinger_down\",\"bollinger_down\",\"bollinger_down\",\"bollinger_down\",\"bollinger_down\",\"bollinger_down\",\"bollinger_down\",\"bollinger_down\",\"bollinger_down\",\"bollinger_down\",\"bollinger_down\",\"bollinger_down\",\"bollinger_down\",\"bollinger_down\",\"bollinger_down\",\"bollinger_down\",\"bollinger_down\",\"bollinger_down\",\"bollinger_down\",\"bollinger_down\",\"bollinger_down\",\"bollinger_down\",\"bollinger_down\",\"bollinger_down\",\"bollinger_down\",\"bollinger_down\",\"bollinger_down\",\"bollinger_down\",\"bollinger_down\",\"bollinger_down\",\"bollinger_down\",\"bollinger_down\",\"bollinger_down\",\"bollinger_down\",\"bollinger_down\",\"bollinger_down\",\"bollinger_down\",\"bollinger_down\",\"bollinger_down\",\"bollinger_down\",\"bollinger_down\",\"bollinger_down\",\"bollinger_down\",\"bollinger_down\",\"bollinger_down\",\"bollinger_down\",\"bollinger_down\",\"bollinger_down\",\"bollinger_down\",\"bollinger_down\",\"bollinger_down\",\"bollinger_down\",\"bollinger_down\",\"bollinger_down\",\"bollinger_down\",\"bollinger_down\",\"bollinger_down\",\"bollinger_down\",\"bollinger_down\",\"bollinger_down\",\"bollinger_down\",\"bollinger_down\",\"bollinger_down\",\"bollinger_down\",\"bollinger_down\",\"bollinger_down\",\"bollinger_down\",\"bollinger_down\",\"bollinger_down\",\"bollinger_down\",\"bollinger_down\",\"bollinger_down\",\"bollinger_down\",\"bollinger_down\",\"bollinger_down\",\"bollinger_down\",\"bollinger_down\",\"bollinger_down\",\"bollinger_down\",\"bollinger_down\",\"bollinger_down\",\"bollinger_down\",\"bollinger_down\",\"bollinger_down\",\"bollinger_down\",\"bollinger_down\",\"bollinger_down\",\"bollinger_down\",\"bollinger_down\",\"bollinger_down\",\"bollinger_down\",\"bollinger_down\",\"bollinger_down\",\"bollinger_down\",\"bollinger_down\",\"bollinger_down\",\"bollinger_down\",\"bollinger_down\",\"bollinger_down\",\"bollinger_down\",\"bollinger_down\",\"bollinger_down\",\"bollinger_down\",\"bollinger_down\",\"bollinger_down\",\"bollinger_down\",\"bollinger_down\",\"bollinger_down\",\"bollinger_down\",\"bollinger_down\",\"bollinger_down\",\"bollinger_down\",\"bollinger_down\",\"bollinger_down\",\"bollinger_down\",\"bollinger_down\",\"bollinger_down\",\"bollinger_down\",\"bollinger_down\",\"bollinger_down\",\"bollinger_down\",\"bollinger_down\",\"bollinger_down\",\"bollinger_down\",\"bollinger_down\",\"bollinger_down\",\"bollinger_down\",\"bollinger_down\",\"bollinger_down\",\"bollinger_down\",\"bollinger_down\",\"bollinger_down\",\"bollinger_down\",\"bollinger_down\",\"bollinger_down\",\"bollinger_down\",\"bollinger_down\",\"bollinger_down\",\"bollinger_down\",\"bollinger_down\",\"bollinger_down\",\"bollinger_down\",\"bollinger_down\",\"bollinger_down\",\"bollinger_down\",\"bollinger_down\",\"bollinger_down\",\"bollinger_down\",\"bollinger_down\",\"bollinger_down\",\"bollinger_down\",\"bollinger_down\",\"bollinger_down\",\"bollinger_down\",\"bollinger_down\",\"bollinger_down\",\"bollinger_down\",\"bollinger_down\",\"bollinger_down\",\"bollinger_down\",\"bollinger_down\",\"bollinger_down\",\"bollinger_down\"],\"value\":{\"__ndarray__\":\"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\",\"dtype\":\"float64\",\"order\":\"little\",\"shape\":[1219]}},\"selected\":{\"id\":\"9781\"},\"selection_policy\":{\"id\":\"9799\"}},\"id\":\"9780\",\"type\":\"ColumnDataSource\"},{\"attributes\":{\"line_color\":\"#fc4f30\",\"line_width\":2,\"x\":{\"field\":\"Date\"},\"y\":{\"field\":\"value\"}},\"id\":\"9749\",\"type\":\"Line\"},{\"attributes\":{},\"id\":\"9711\",\"type\":\"BasicTickFormatter\"},{\"attributes\":{\"line_color\":\"#30a2da\",\"line_width\":2,\"x\":{\"field\":\"Date\"},\"y\":{\"field\":\"value\"}},\"id\":\"9745\",\"type\":\"Line\"},{\"attributes\":{},\"id\":\"9712\",\"type\":\"AllLabels\"},{\"attributes\":{\"data\":{\"Date\":{\"__ndarray__\":\"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\",\"dtype\":\"float64\",\"order\":\"little\",\"shape\":[1219]},\"Variable\":[\"Close\",\"Close\",\"Close\",\"Close\",\"Close\",\"Close\",\"Close\",\"Close\",\"Close\",\"Close\",\"Close\",\"Close\",\"Close\",\"Close\",\"Close\",\"Close\",\"Close\",\"Close\",\"Close\",\"Close\",\"Close\",\"Close\",\"Close\",\"Close\",\"Close\",\"Close\",\"Close\",\"Close\",\"Close\",\"Close\",\"Close\",\"Close\",\"Close\",\"Close\",\"Close\",\"Close\",\"Close\",\"Close\",\"Close\",\"Close\",\"Close\",\"Close\",\"Close\",\"Close\",\"Close\",\"Close\",\"Close\",\"Close\",\"Close\",\"Close\",\"Close\",\"Close\",\"Close\",\"Close\",\"Close\",\"Close\",\"Close\",\"Close\",\"Close\",\"Close\",\"Close\",\"Close\",\"Close\",\"Close\",\"Close\",\"Close\",\"Close\",\"Close\",\"Close\",\"Close\",\"Close\",\"Close\",\"Close\",\"Close\",\"Close\",\"Close\",\"Close\",\"Close\",\"Close\",\"Close\",\"Close\",\"Close\",\"Close\",\"Close\",\"Close\",\"Close\",\"Close\",\"Close\",\"Close\",\"Close\",\"Close\",\"Close\",\"Close\",\"Close\",\"Close\",\"Close\",\"Close\",\"Close\",\"Close\",\"Close\",\"Close\",\"Close\",\"Close\",\"Close\",\"Close\",\"Close\",\"Close\",\"Close\",\"Close\",\"Close\",\"Close\",\"Close\",\"Close\",\"Close\",\"Close\",\"Close\",\"Close\",\"Close\",\"Close\",\"Close\",\"Close\",\"Close\",\"Close\",\"Close\",\"Close\",\"Close\",\"Close\",\"Close\",\"Close\",\"Close\",\"Close\",\"Close\",\"Close\",\"Close\",\"Close\",\"Close\",\"Close\",\"Close\",\"Close\",\"Close\",\"Close\",\"Close\",\"Close\",\"Close\",\"Close\",\"Close\",\"Close\",\"Close\",\"Close\",\"Close\",\"Close\",\"Close\",\"Close\",\"Close\",\"Close\",\"Close\",\"Close\",\"Close\",\"Close\",\"Close\",\"Close\",\"Close\",\"Close\",\"Close\",\"Close\",\"Close\",\"Close\",\"Close\",\"Close\",\"Close\",\"Close\",\"Close\",\"Close\",\"Close\",\"Close\",\"Close\",\"Close\",\"Close\",\"Close\",\"Close\",\"Close\",\"Close\",\"Close\",\"Close\",\"Close\",\"Close\",\"Close\",\"Close\",\"Close\",\"Close\",\"Close\",\"Close\",\"Close\",\"Close\",\"Close\",\"Close\",\"Close\",\"Close\",\"Close\",\"Close\",\"Close\",\"Close\",\"Close\",\"Close\",\"Close\",\"Close\",\"Close\",\"Close\",\"Close\",\"Close\",\"Close\",\"Close\",\"Close\",\"Close\",\"Close\",\"Close\",\"Close\",\"Close\",\"Close\",\"Close\",\"Close\",\"Close\",\"Close\",\"Close\",\"Close\",\"Close\",\"Close\",\"Close\",\"Close\",\"Close\",\"Close\",\"Close\",\"Close\",\"Close\",\"Close\",\"Close\",\"Close\",\"Close\",\"Close\",\"Close\",\"Close\",\"Close\",\"Close\",\"Close\",\"Close\",\"Close\",\"Close\",\"Close\",\"Close\",\"Close\",\"Close\",\"Close\",\"Close\",\"Close\",\"Close\",\"Close\",\"Close\",\"Close\",\"Close\",\"Close\",\"Close\",\"Close\",\"Close\",\"Close\",\"Close\",\"Close\",\"Close\",\"Close\",\"Close\",\"Close\",\"Close\",\"Close\",\"Close\",\"Close\",\"Close\",\"Close\",\"Close\",\"Close\",\"Close\",\"Close\",\"Close\",\"Close\",\"Close\",\"Close\",\"Close\",\"Close\",\"Close\",\"Close\",\"Close\",\"Close\",\"Close\",\"Close\",\"Close\",\"Close\",\"Close\",\"Close\",\"Close\",\"Close\",\"Close\",\"Close\",\"Close\",\"Close\",\"Close\",\"Close\",\"Close\",\"Close\",\"Close\",\"Close\",\"Close\",\"Close\",\"Close\",\"Close\",\"Close\",\"Close\",\"Close\",\"Close\",\"Close\",\"Close\",\"Close\",\"Close\",\"Close\",\"Close\",\"Close\",\"Close\",\"Close\",\"Close\",\"Close\",\"Close\",\"Close\",\"Close\",\"Close\",\"Close\",\"Close\",\"Close\",\"Close\",\"Close\",\"Close\",\"Close\",\"Close\",\"Close\",\"Close\",\"Close\",\"Close\",\"Close\",\"Close\",\"Close\",\"Close\",\"Close\",\"Close\",\"Close\",\"Close\",\"Close\",\"Close\",\"Close\",\"Close\",\"Close\",\"Close\",\"Close\",\"Close\",\"Close\",\"Close\",\"Close\",\"Close\",\"Close\",\"Close\",\"Close\",\"Close\",\"Close\",\"Close\",\"Close\",\"Close\",\"Close\",\"Close\",\"Close\",\"Close\",\"Close\",\"Close\",\"Close\",\"Close\",\"Close\",\"Close\",\"Close\",\"Close\",\"Close\",\"Close\",\"Close\",\"Close\",\"Close\",\"Close\",\"Close\",\"Close\",\"Close\",\"Close\",\"Close\",\"Close\",\"Close\",\"Close\",\"Close\",\"Close\",\"Close\",\"Close\",\"Close\",\"Close\",\"Close\",\"Close\",\"Close\",\"Close\",\"Close\",\"Close\",\"Close\",\"Close\",\"Close\",\"Close\",\"Close\",\"Close\",\"Close\",\"Close\",\"Close\",\"Close\",\"Close\",\"Close\",\"Close\",\"Close\",\"Close\",\"Close\",\"Close\",\"Close\",\"Close\",\"Close\",\"Close\",\"Close\",\"Close\",\"Close\",\"Close\",\"Close\",\"Close\",\"Close\",\"Close\",\"Close\",\"Close\",\"Close\",\"Close\",\"Close\",\"Close\",\"Close\",\"Close\",\"Close\",\"Close\",\"Close\",\"Close\",\"Close\",\"Close\",\"Close\",\"Close\",\"Close\",\"Close\",\"Close\",\"Close\",\"Close\",\"Close\",\"Close\",\"Close\",\"Close\",\"Close\",\"Close\",\"Close\",\"Close\",\"Close\",\"Close\",\"Close\",\"Close\",\"Close\",\"Close\",\"Close\",\"Close\",\"Close\",\"Close\",\"Close\",\"Close\",\"Close\",\"Close\",\"Close\",\"Close\",\"Close\",\"Close\",\"Close\",\"Close\",\"Close\",\"Close\",\"Close\",\"Close\",\"Close\",\"Close\",\"Close\",\"Close\",\"Close\",\"Close\",\"Close\",\"Close\",\"Close\",\"Close\",\"Close\",\"Close\",\"Close\",\"Close\",\"Close\",\"Close\",\"Close\",\"Close\",\"Close\",\"Close\",\"Close\",\"Close\",\"Close\",\"Close\",\"Close\",\"Close\",\"Close\",\"Close\",\"Close\",\"Close\",\"Close\",\"Close\",\"Close\",\"Close\",\"Close\",\"Close\",\"Close\",\"Close\",\"Close\",\"Close\",\"Close\",\"Close\",\"Close\",\"Close\",\"Close\",\"Close\",\"Close\",\"Close\",\"Close\",\"Close\",\"Close\",\"Close\",\"Close\",\"Close\",\"Close\",\"Close\",\"Close\",\"Close\",\"Close\",\"Close\",\"Close\",\"Close\",\"Close\",\"Close\",\"Close\",\"Close\",\"Close\",\"Close\",\"Close\",\"Close\",\"Close\",\"Close\",\"Close\",\"Close\",\"Close\",\"Close\",\"Close\",\"Close\",\"Close\",\"Close\",\"Close\",\"Close\",\"Close\",\"Close\",\"Close\",\"Close\",\"Close\",\"Close\",\"Close\",\"Close\",\"Close\",\"Close\",\"Close\",\"Close\",\"Close\",\"Close\",\"Close\",\"Close\",\"Close\",\"Close\",\"Close\",\"Close\",\"Close\",\"Close\",\"Close\",\"Close\",\"Close\",\"Close\",\"Close\",\"Close\",\"Close\",\"Close\",\"Close\",\"Close\",\"Close\",\"Close\",\"Close\",\"Close\",\"Close\",\"Close\",\"Close\",\"Close\",\"Close\",\"Close\",\"Close\",\"Close\",\"Close\",\"Close\",\"Close\",\"Close\",\"Close\",\"Close\",\"Close\",\"Close\",\"Close\",\"Close\",\"Close\",\"Close\",\"Close\",\"Close\",\"Close\",\"Close\",\"Close\",\"Close\",\"Close\",\"Close\",\"Close\",\"Close\",\"Close\",\"Close\",\"Close\",\"Close\",\"Close\",\"Close\",\"Close\",\"Close\",\"Close\",\"Close\",\"Close\",\"Close\",\"Close\",\"Close\",\"Close\",\"Close\",\"Close\",\"Close\",\"Close\",\"Close\",\"Close\",\"Close\",\"Close\",\"Close\",\"Close\",\"Close\",\"Close\",\"Close\",\"Close\",\"Close\",\"Close\",\"Close\",\"Close\",\"Close\",\"Close\",\"Close\",\"Close\",\"Close\",\"Close\",\"Close\",\"Close\",\"Close\",\"Close\",\"Close\",\"Close\",\"Close\",\"Close\",\"Close\",\"Close\",\"Close\",\"Close\",\"Close\",\"Close\",\"Close\",\"Close\",\"Close\",\"Close\",\"Close\",\"Close\",\"Close\",\"Close\",\"Close\",\"Close\",\"Close\",\"Close\",\"Close\",\"Close\",\"Close\",\"Close\",\"Close\",\"Close\",\"Close\",\"Close\",\"Close\",\"Close\",\"Close\",\"Close\",\"Close\",\"Close\",\"Close\",\"Close\",\"Close\",\"Close\",\"Close\",\"Close\",\"Close\",\"Close\",\"Close\",\"Close\",\"Close\",\"Close\",\"Close\",\"Close\",\"Close\",\"Close\",\"Close\",\"Close\",\"Close\",\"Close\",\"Close\",\"Close\",\"Close\",\"Close\",\"Close\",\"Close\",\"Close\",\"Close\",\"Close\",\"Close\",\"Close\",\"Close\",\"Close\",\"Close\",\"Close\",\"Close\",\"Close\",\"Close\",\"Close\",\"Close\",\"Close\",\"Close\",\"Close\",\"Close\",\"Close\",\"Close\",\"Close\",\"Close\",\"Close\",\"Close\",\"Close\",\"Close\",\"Close\",\"Close\",\"Close\",\"Close\",\"Close\",\"Close\",\"Close\",\"Close\",\"Close\",\"Close\",\"Close\",\"Close\",\"Close\",\"Close\",\"Close\",\"Close\",\"Close\",\"Close\",\"Close\",\"Close\",\"Close\",\"Close\",\"Close\",\"Close\",\"Close\",\"Close\",\"Close\",\"Close\",\"Close\",\"Close\",\"Close\",\"Close\",\"Close\",\"Close\",\"Close\",\"Close\",\"Close\",\"Close\",\"Close\",\"Close\",\"Close\",\"Close\",\"Close\",\"Close\",\"Close\",\"Close\",\"Close\",\"Close\",\"Close\",\"Close\",\"Close\",\"Close\",\"Close\",\"Close\",\"Close\",\"Close\",\"Close\",\"Close\",\"Close\",\"Close\",\"Close\",\"Close\",\"Close\",\"Close\",\"Close\",\"Close\",\"Close\",\"Close\",\"Close\",\"Close\",\"Close\",\"Close\",\"Close\",\"Close\",\"Close\",\"Close\",\"Close\",\"Close\",\"Close\",\"Close\",\"Close\",\"Close\",\"Close\",\"Close\",\"Close\",\"Close\",\"Close\",\"Close\",\"Close\",\"Close\",\"Close\",\"Close\",\"Close\",\"Close\",\"Close\",\"Close\",\"Close\",\"Close\",\"Close\",\"Close\",\"Close\",\"Close\",\"Close\",\"Close\",\"Close\",\"Close\",\"Close\",\"Close\",\"Close\",\"Close\",\"Close\",\"Close\",\"Close\",\"Close\",\"Close\",\"Close\",\"Close\",\"Close\",\"Close\",\"Close\",\"Close\",\"Close\",\"Close\",\"Close\",\"Close\",\"Close\",\"Close\",\"Close\",\"Close\",\"Close\",\"Close\",\"Close\",\"Close\",\"Close\",\"Close\",\"Close\",\"Close\",\"Close\",\"Close\",\"Close\",\"Close\",\"Close\",\"Close\",\"Close\",\"Close\",\"Close\",\"Close\",\"Close\",\"Close\",\"Close\",\"Close\",\"Close\",\"Close\",\"Close\",\"Close\",\"Close\",\"Close\",\"Close\",\"Close\",\"Close\",\"Close\",\"Close\",\"Close\",\"Close\",\"Close\",\"Close\",\"Close\",\"Close\",\"Close\",\"Close\",\"Close\",\"Close\",\"Close\",\"Close\",\"Close\",\"Close\",\"Close\",\"Close\",\"Close\",\"Close\",\"Close\",\"Close\",\"Close\",\"Close\",\"Close\",\"Close\",\"Close\",\"Close\",\"Close\",\"Close\",\"Close\",\"Close\",\"Close\",\"Close\",\"Close\",\"Close\",\"Close\",\"Close\",\"Close\",\"Close\",\"Close\",\"Close\",\"Close\",\"Close\",\"Close\",\"Close\",\"Close\",\"Close\",\"Close\",\"Close\",\"Close\",\"Close\",\"Close\",\"Close\",\"Close\",\"Close\",\"Close\",\"Close\",\"Close\",\"Close\",\"Close\",\"Close\",\"Close\",\"Close\",\"Close\",\"Close\",\"Close\",\"Close\",\"Close\",\"Close\",\"Close\",\"Close\",\"Close\",\"Close\",\"Close\",\"Close\",\"Close\",\"Close\",\"Close\",\"Close\",\"Close\",\"Close\",\"Close\",\"Close\",\"Close\",\"Close\",\"Close\",\"Close\",\"Close\",\"Close\",\"Close\",\"Close\",\"Close\",\"Close\",\"Close\",\"Close\",\"Close\",\"Close\",\"Close\",\"Close\",\"Close\",\"Close\",\"Close\",\"Close\",\"Close\",\"Close\",\"Close\",\"Close\",\"Close\",\"Close\",\"Close\",\"Close\",\"Close\",\"Close\",\"Close\",\"Close\",\"Close\",\"Close\",\"Close\",\"Close\",\"Close\",\"Close\",\"Close\",\"Close\",\"Close\",\"Close\",\"Close\",\"Close\",\"Close\",\"Close\",\"Close\",\"Close\",\"Close\",\"Close\",\"Close\",\"Close\",\"Close\",\"Close\",\"Close\",\"Close\",\"Close\",\"Close\",\"Close\",\"Close\",\"Close\",\"Close\",\"Close\",\"Close\",\"Close\",\"Close\",\"Close\",\"Close\",\"Close\",\"Close\",\"Close\",\"Close\",\"Close\",\"Close\",\"Close\",\"Close\",\"Close\",\"Close\",\"Close\",\"Close\",\"Close\",\"Close\",\"Close\",\"Close\",\"Close\",\"Close\",\"Close\",\"Close\",\"Close\",\"Close\",\"Close\",\"Close\",\"Close\",\"Close\",\"Close\",\"Close\",\"Close\",\"Close\",\"Close\",\"Close\",\"Close\",\"Close\",\"Close\",\"Close\",\"Close\",\"Close\",\"Close\",\"Close\",\"Close\",\"Close\",\"Close\",\"Close\",\"Close\",\"Close\",\"Close\",\"Close\",\"Close\",\"Close\",\"Close\",\"Close\",\"Close\",\"Close\",\"Close\",\"Close\",\"Close\",\"Close\",\"Close\",\"Close\",\"Close\",\"Close\",\"Close\",\"Close\",\"Close\",\"Close\",\"Close\",\"Close\",\"Close\",\"Close\",\"Close\",\"Close\",\"Close\",\"Close\",\"Close\",\"Close\",\"Close\",\"Close\",\"Close\",\"Close\",\"Close\",\"Close\",\"Close\",\"Close\",\"Close\",\"Close\",\"Close\",\"Close\",\"Close\",\"Close\",\"Close\",\"Close\",\"Close\",\"Close\",\"Close\",\"Close\",\"Close\",\"Close\",\"Close\",\"Close\",\"Close\",\"Close\",\"Close\",\"Close\",\"Close\",\"Close\",\"Close\",\"Close\",\"Close\",\"Close\",\"Close\",\"Close\",\"Close\",\"Close\",\"Close\",\"Close\",\"Close\",\"Close\",\"Close\",\"Close\",\"Close\",\"Close\",\"Close\",\"Close\",\"Close\",\"Close\",\"Close\",\"Close\",\"Close\",\"Close\",\"Close\",\"Close\",\"Close\",\"Close\",\"Close\",\"Close\",\"Close\"],\"value\":{\"__ndarray__\":\"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\",\"dtype\":\"float64\",\"order\":\"little\",\"shape\":[1219]}},\"selected\":{\"id\":\"9714\"},\"selection_policy\":{\"id\":\"9728\"}},\"id\":\"9713\",\"type\":\"ColumnDataSource\"},{\"attributes\":{\"line_alpha\":0.1,\"line_color\":\"#fc4f30\",\"line_width\":2,\"x\":{\"field\":\"Date\"},\"y\":{\"field\":\"value\"}},\"id\":\"9750\",\"type\":\"Line\"},{\"attributes\":{},\"id\":\"9714\",\"type\":\"Selection\"},{\"attributes\":{},\"id\":\"9747\",\"type\":\"Selection\"},{\"attributes\":{\"coordinates\":null,\"data_source\":{\"id\":\"9746\"},\"glyph\":{\"id\":\"9749\"},\"group\":null,\"hover_glyph\":null,\"muted_glyph\":{\"id\":\"9751\"},\"nonselection_glyph\":{\"id\":\"9750\"},\"selection_glyph\":{\"id\":\"9779\"},\"view\":{\"id\":\"9753\"}},\"id\":\"9752\",\"type\":\"GlyphRenderer\"},{\"attributes\":{\"line_alpha\":0.2,\"line_color\":\"#fc4f30\",\"line_width\":2,\"x\":{\"field\":\"Date\"},\"y\":{\"field\":\"value\"}},\"id\":\"9751\",\"type\":\"Line\"},{\"attributes\":{\"tools\":[{\"id\":\"9674\"},{\"id\":\"9694\"},{\"id\":\"9695\"},{\"id\":\"9696\"},{\"id\":\"9697\"},{\"id\":\"9698\"}]},\"id\":\"9700\",\"type\":\"Toolbar\"},{\"attributes\":{\"source\":{\"id\":\"9746\"}},\"id\":\"9753\",\"type\":\"CDSView\"},{\"attributes\":{\"mantissas\":[1,2,5],\"max_interval\":500.0,\"num_minor_ticks\":0},\"id\":\"9731\",\"type\":\"AdaptiveTicker\"},{\"attributes\":{\"label\":{\"value\":\"bollinger_up\"},\"renderers\":[{\"id\":\"9752\"}]},\"id\":\"9778\",\"type\":\"LegendItem\"},{\"attributes\":{\"base\":60,\"mantissas\":[1,2,5,10,15,20,30],\"max_interval\":1800000.0,\"min_interval\":1000.0,\"num_minor_ticks\":0},\"id\":\"9732\",\"type\":\"AdaptiveTicker\"},{\"attributes\":{\"base\":24,\"mantissas\":[1,2,4,6,8,12],\"max_interval\":43200000.0,\"min_interval\":3600000.0,\"num_minor_ticks\":0},\"id\":\"9733\",\"type\":\"AdaptiveTicker\"},{\"attributes\":{\"margin\":[5,5,5,5],\"name\":\"HSpacer12421\",\"sizing_mode\":\"stretch_width\"},\"id\":\"10050\",\"type\":\"Spacer\"},{\"attributes\":{},\"id\":\"9742\",\"type\":\"YearsTicker\"},{\"attributes\":{\"months\":[0,1,2,3,4,5,6,7,8,9,10,11]},\"id\":\"9738\",\"type\":\"MonthsTicker\"},{\"attributes\":{},\"id\":\"9763\",\"type\":\"UnionRenderers\"},{\"attributes\":{\"days\":[1,15]},\"id\":\"9737\",\"type\":\"DaysTicker\"},{\"attributes\":{\"line_color\":\"#30a2da\",\"line_width\":2,\"x\":{\"field\":\"Date\"},\"y\":{\"field\":\"value\"}},\"id\":\"9716\",\"type\":\"Line\"},{\"attributes\":{\"days\":[1,2,3,4,5,6,7,8,9,10,11,12,13,14,15,16,17,18,19,20,21,22,23,24,25,26,27,28,29,30,31]},\"id\":\"9734\",\"type\":\"DaysTicker\"},{\"attributes\":{},\"id\":\"9708\",\"type\":\"DatetimeTickFormatter\"},{\"attributes\":{\"days\":[1,4,7,10,13,16,19,22,25,28]},\"id\":\"9735\",\"type\":\"DaysTicker\"},{\"attributes\":{\"days\":[1,8,15,22]},\"id\":\"9736\",\"type\":\"DaysTicker\"},{\"attributes\":{\"months\":[0,6]},\"id\":\"9741\",\"type\":\"MonthsTicker\"},{\"attributes\":{\"months\":[0,2,4,6,8,10]},\"id\":\"9739\",\"type\":\"MonthsTicker\"},{\"attributes\":{\"end\":227.87299638834386,\"reset_end\":227.87299638834386,\"reset_start\":-0.13707480163291308,\"start\":-0.13707480163291308,\"tags\":[[[\"value\",\"value\",null]]]},\"id\":\"9673\",\"type\":\"Range1d\"},{\"attributes\":{\"months\":[0,4,8]},\"id\":\"9740\",\"type\":\"MonthsTicker\"},{\"attributes\":{\"end\":1647216000000.0,\"reset_end\":1647216000000.0,\"reset_start\":1494460800000.0,\"start\":1494460800000.0,\"tags\":[[[\"Date\",\"Date\",null]]]},\"id\":\"9672\",\"type\":\"Range1d\"}],\"root_ids\":[\"9670\"]},\"title\":\"Bokeh Application\",\"version\":\"2.4.1\"}};\n",
       "    var render_items = [{\"docid\":\"64ca3b85-7f48-4e4b-8384-cb2248e584cc\",\"root_ids\":[\"9670\"],\"roots\":{\"9670\":\"ea35c7d3-0706-439c-9532-12c8076929df\"}}];\n",
       "    root.Bokeh.embed.embed_items_notebook(docs_json, render_items);\n",
       "  }\n",
       "  if (root.Bokeh !== undefined && root.Bokeh.Panel !== undefined) {\n",
       "    embed_document(root);\n",
       "  } else {\n",
       "    var attempts = 0;\n",
       "    var timer = setInterval(function(root) {\n",
       "      if (root.Bokeh !== undefined && root.Bokeh.Panel !== undefined) {\n",
       "        clearInterval(timer);\n",
       "        embed_document(root);\n",
       "      } else if (document.readyState == \"complete\") {\n",
       "        attempts++;\n",
       "        if (attempts > 200) {\n",
       "          clearInterval(timer);\n",
       "          console.log(\"Bokeh: ERROR: Unable to run BokehJS code because BokehJS library is missing\");\n",
       "        }\n",
       "      }\n",
       "    }, 25, root)\n",
       "  }\n",
       "})(window);</script>"
      ],
      "text/plain": [
       ":NdOverlay   [Variable]\n",
       "   :Curve   [Date]   (value)"
      ]
     },
     "execution_count": 477,
     "metadata": {
      "application/vnd.holoviews_exec.v0+json": {
       "id": "9670"
      }
     },
     "output_type": "execute_result"
    }
   ],
   "source": [
    "f1 = zillow_df.hvplot.line(x='Date', y=['Close','bollinger_up','bollinger_down'])\n",
    "f1  "
   ]
  },
  {
   "cell_type": "code",
   "execution_count": 478,
   "id": "60c3e79a-7273-4a35-81f6-b9ffb6b0ba15",
   "metadata": {},
   "outputs": [
    {
     "data": {
      "text/html": [
       "<div>\n",
       "<style scoped>\n",
       "    .dataframe tbody tr th:only-of-type {\n",
       "        vertical-align: middle;\n",
       "    }\n",
       "\n",
       "    .dataframe tbody tr th {\n",
       "        vertical-align: top;\n",
       "    }\n",
       "\n",
       "    .dataframe thead th {\n",
       "        text-align: right;\n",
       "    }\n",
       "</style>\n",
       "<table border=\"1\" class=\"dataframe\">\n",
       "  <thead>\n",
       "    <tr style=\"text-align: right;\">\n",
       "      <th></th>\n",
       "      <th>bollinger_up</th>\n",
       "      <th>bollinger_down</th>\n",
       "    </tr>\n",
       "    <tr>\n",
       "      <th>Date</th>\n",
       "      <th></th>\n",
       "      <th></th>\n",
       "    </tr>\n",
       "  </thead>\n",
       "  <tbody>\n",
       "    <tr>\n",
       "      <th>2017-05-12</th>\n",
       "      <td>45.070952</td>\n",
       "      <td>33.114048</td>\n",
       "    </tr>\n",
       "    <tr>\n",
       "      <th>2017-05-15</th>\n",
       "      <td>45.320353</td>\n",
       "      <td>33.689647</td>\n",
       "    </tr>\n",
       "    <tr>\n",
       "      <th>2017-05-16</th>\n",
       "      <td>45.577748</td>\n",
       "      <td>34.249251</td>\n",
       "    </tr>\n",
       "    <tr>\n",
       "      <th>2017-05-17</th>\n",
       "      <td>45.978248</td>\n",
       "      <td>34.722751</td>\n",
       "    </tr>\n",
       "    <tr>\n",
       "      <th>2017-05-18</th>\n",
       "      <td>45.891220</td>\n",
       "      <td>35.332779</td>\n",
       "    </tr>\n",
       "  </tbody>\n",
       "</table>\n",
       "</div>"
      ],
      "text/plain": [
       "            bollinger_up  bollinger_down\n",
       "Date                                    \n",
       "2017-05-12     45.070952       33.114048\n",
       "2017-05-15     45.320353       33.689647\n",
       "2017-05-16     45.577748       34.249251\n",
       "2017-05-17     45.978248       34.722751\n",
       "2017-05-18     45.891220       35.332779"
      ]
     },
     "execution_count": 478,
     "metadata": {},
     "output_type": "execute_result"
    }
   ],
   "source": [
    "X = zillow_df[['bollinger_up', 'bollinger_down']].shift().dropna()\n",
    "X.head()"
   ]
  },
  {
   "cell_type": "code",
   "execution_count": 479,
   "id": "ef89bb43-145b-4417-9eed-fd11a8e7ba33",
   "metadata": {},
   "outputs": [
    {
     "data": {
      "text/plain": [
       " 1.0    637\n",
       "-1.0    582\n",
       "Name: Signal, dtype: int64"
      ]
     },
     "execution_count": 479,
     "metadata": {},
     "output_type": "execute_result"
    }
   ],
   "source": [
    "y = zillow_df['Signal']\n",
    "y.value_counts()"
   ]
  },
  {
   "cell_type": "code",
   "execution_count": 480,
   "id": "c6f3058e-0afb-40ce-8932-803b0e8c25a3",
   "metadata": {},
   "outputs": [
    {
     "name": "stdout",
     "output_type": "stream",
     "text": [
      "2017-05-12 00:00:00\n"
     ]
    }
   ],
   "source": [
    "training_begin = X.index.min()\n",
    "print(training_begin)"
   ]
  },
  {
   "cell_type": "code",
   "execution_count": 481,
   "id": "f9cfe172-3424-4761-a13b-69d98c3e4edd",
   "metadata": {},
   "outputs": [
    {
     "name": "stdout",
     "output_type": "stream",
     "text": [
      "2017-08-12 00:00:00\n"
     ]
    }
   ],
   "source": [
    "training_end = X.index.min() + DateOffset(months=3)\n",
    "print(training_end)"
   ]
  },
  {
   "cell_type": "code",
   "execution_count": 482,
   "id": "d262cb16-804c-492f-8fba-1a21a5927d41",
   "metadata": {},
   "outputs": [
    {
     "data": {
      "text/html": [
       "<div>\n",
       "<style scoped>\n",
       "    .dataframe tbody tr th:only-of-type {\n",
       "        vertical-align: middle;\n",
       "    }\n",
       "\n",
       "    .dataframe tbody tr th {\n",
       "        vertical-align: top;\n",
       "    }\n",
       "\n",
       "    .dataframe thead th {\n",
       "        text-align: right;\n",
       "    }\n",
       "</style>\n",
       "<table border=\"1\" class=\"dataframe\">\n",
       "  <thead>\n",
       "    <tr style=\"text-align: right;\">\n",
       "      <th></th>\n",
       "      <th>bollinger_up</th>\n",
       "      <th>bollinger_down</th>\n",
       "    </tr>\n",
       "    <tr>\n",
       "      <th>Date</th>\n",
       "      <th></th>\n",
       "      <th></th>\n",
       "    </tr>\n",
       "  </thead>\n",
       "  <tbody>\n",
       "    <tr>\n",
       "      <th>2017-05-12</th>\n",
       "      <td>45.070952</td>\n",
       "      <td>33.114048</td>\n",
       "    </tr>\n",
       "    <tr>\n",
       "      <th>2017-05-15</th>\n",
       "      <td>45.320353</td>\n",
       "      <td>33.689647</td>\n",
       "    </tr>\n",
       "    <tr>\n",
       "      <th>2017-05-16</th>\n",
       "      <td>45.577748</td>\n",
       "      <td>34.249251</td>\n",
       "    </tr>\n",
       "    <tr>\n",
       "      <th>2017-05-17</th>\n",
       "      <td>45.978248</td>\n",
       "      <td>34.722751</td>\n",
       "    </tr>\n",
       "    <tr>\n",
       "      <th>2017-05-18</th>\n",
       "      <td>45.891220</td>\n",
       "      <td>35.332779</td>\n",
       "    </tr>\n",
       "  </tbody>\n",
       "</table>\n",
       "</div>"
      ],
      "text/plain": [
       "            bollinger_up  bollinger_down\n",
       "Date                                    \n",
       "2017-05-12     45.070952       33.114048\n",
       "2017-05-15     45.320353       33.689647\n",
       "2017-05-16     45.577748       34.249251\n",
       "2017-05-17     45.978248       34.722751\n",
       "2017-05-18     45.891220       35.332779"
      ]
     },
     "execution_count": 482,
     "metadata": {},
     "output_type": "execute_result"
    }
   ],
   "source": [
    "X_train1 = X.loc[training_begin:training_end]\n",
    "y_train1 = y.loc[training_begin:training_end]\n",
    "X_train1.head()"
   ]
  },
  {
   "cell_type": "code",
   "execution_count": 483,
   "id": "1c69544b-d42d-40e0-b742-18ad09c032b5",
   "metadata": {},
   "outputs": [
    {
     "data": {
      "text/html": [
       "<div>\n",
       "<style scoped>\n",
       "    .dataframe tbody tr th:only-of-type {\n",
       "        vertical-align: middle;\n",
       "    }\n",
       "\n",
       "    .dataframe tbody tr th {\n",
       "        vertical-align: top;\n",
       "    }\n",
       "\n",
       "    .dataframe thead th {\n",
       "        text-align: right;\n",
       "    }\n",
       "</style>\n",
       "<table border=\"1\" class=\"dataframe\">\n",
       "  <thead>\n",
       "    <tr style=\"text-align: right;\">\n",
       "      <th></th>\n",
       "      <th>bollinger_up</th>\n",
       "      <th>bollinger_down</th>\n",
       "    </tr>\n",
       "    <tr>\n",
       "      <th>Date</th>\n",
       "      <th></th>\n",
       "      <th></th>\n",
       "    </tr>\n",
       "  </thead>\n",
       "  <tbody>\n",
       "    <tr>\n",
       "      <th>2017-08-14</th>\n",
       "      <td>48.685745</td>\n",
       "      <td>41.449255</td>\n",
       "    </tr>\n",
       "    <tr>\n",
       "      <th>2017-08-15</th>\n",
       "      <td>48.594370</td>\n",
       "      <td>40.988630</td>\n",
       "    </tr>\n",
       "    <tr>\n",
       "      <th>2017-08-16</th>\n",
       "      <td>48.602513</td>\n",
       "      <td>40.413487</td>\n",
       "    </tr>\n",
       "    <tr>\n",
       "      <th>2017-08-17</th>\n",
       "      <td>48.677960</td>\n",
       "      <td>39.826040</td>\n",
       "    </tr>\n",
       "    <tr>\n",
       "      <th>2017-08-18</th>\n",
       "      <td>48.980671</td>\n",
       "      <td>38.966329</td>\n",
       "    </tr>\n",
       "  </tbody>\n",
       "</table>\n",
       "</div>"
      ],
      "text/plain": [
       "            bollinger_up  bollinger_down\n",
       "Date                                    \n",
       "2017-08-14     48.685745       41.449255\n",
       "2017-08-15     48.594370       40.988630\n",
       "2017-08-16     48.602513       40.413487\n",
       "2017-08-17     48.677960       39.826040\n",
       "2017-08-18     48.980671       38.966329"
      ]
     },
     "execution_count": 483,
     "metadata": {},
     "output_type": "execute_result"
    }
   ],
   "source": [
    "X_test1 = X.loc[training_end:]\n",
    "y_test1 = y.loc[training_end:]\n",
    "X_test1.head()"
   ]
  },
  {
   "cell_type": "code",
   "execution_count": 484,
   "id": "2c1827cb-e1d0-4b00-86ef-2e8f1610eeaa",
   "metadata": {},
   "outputs": [],
   "source": [
    "scaler = StandardScaler()\n",
    "X_scaler = scaler.fit(X_train1)\n",
    "X_train1_scaled = X_scaler.transform(X_train1)\n",
    "X_test1_scaled = X_scaler.transform(X_test1)"
   ]
  },
  {
   "cell_type": "code",
   "execution_count": 485,
   "id": "28b2d3eb-5130-4787-b0d9-7943058794b9",
   "metadata": {},
   "outputs": [
    {
     "data": {
      "text/plain": [
       "array([ 1.,  1.,  1.,  1.,  1.,  1.,  1.,  1.,  1.,  1.,  1.,  1.,  1.,\n",
       "        1.,  1.,  1.,  1.,  1.,  1.,  1.,  1.,  1.,  1.,  1.,  1.,  1.,\n",
       "        1.,  1.,  1.,  1., -1., -1., -1., -1., -1., -1., -1., -1., -1.,\n",
       "       -1., -1., -1., -1., -1., -1., -1., -1., -1., -1., -1., -1., -1.,\n",
       "       -1., -1., -1., -1.,  1.,  1.,  1.,  1.,  1.,  1.,  1.,  1.])"
      ]
     },
     "execution_count": 485,
     "metadata": {},
     "output_type": "execute_result"
    }
   ],
   "source": [
    "svm1_model = svm.SVC()\n",
    "svm1_model = svm1_model.fit(X_train1_scaled, y_train1)\n",
    "svm1_pred_training = svm1_model.predict(X_train1_scaled)\n",
    "svm1_pred_training"
   ]
  },
  {
   "cell_type": "code",
   "execution_count": 486,
   "id": "02d508b6-0a1d-48bf-9710-1279637c1c2b",
   "metadata": {},
   "outputs": [
    {
     "name": "stdout",
     "output_type": "stream",
     "text": [
      "              precision    recall  f1-score   support\n",
      "\n",
      "        -1.0       0.62      0.55      0.58        29\n",
      "         1.0       0.66      0.71      0.68        35\n",
      "\n",
      "    accuracy                           0.64        64\n",
      "   macro avg       0.64      0.63      0.63        64\n",
      "weighted avg       0.64      0.64      0.64        64\n",
      "\n"
     ]
    }
   ],
   "source": [
    "svm1_training_report = classification_report(y_train1, svm1_pred_training)\n",
    "print(svm1_training_report)"
   ]
  },
  {
   "cell_type": "code",
   "execution_count": 487,
   "id": "bb07d048-b398-4872-b845-b1e081b357fe",
   "metadata": {},
   "outputs": [
    {
     "name": "stdout",
     "output_type": "stream",
     "text": [
      "              precision    recall  f1-score   support\n",
      "\n",
      "        -1.0       0.37      0.05      0.09       553\n",
      "         1.0       0.51      0.91      0.66       601\n",
      "\n",
      "    accuracy                           0.50      1154\n",
      "   macro avg       0.44      0.48      0.38      1154\n",
      "weighted avg       0.44      0.50      0.39      1154\n",
      "\n"
     ]
    }
   ],
   "source": [
    "svm1_pred_testing = svm1_model.predict(X_test1_scaled)\n",
    "svm1_testing_report = classification_report(y_test1, svm1_pred_testing)\n",
    "print(svm1_testing_report)"
   ]
  },
  {
   "cell_type": "code",
   "execution_count": 488,
   "id": "393ccd0b-a42b-422c-96f5-4c4ea0bd6669",
   "metadata": {},
   "outputs": [],
   "source": [
    "predictions1_df = pd.DataFrame(index = X_test1.index)\n",
    "predictions1_df['Predicted'] = svm1_pred_testing"
   ]
  },
  {
   "cell_type": "code",
   "execution_count": 489,
   "id": "7b3c9860-328d-4252-8c62-fa6faf248ea5",
   "metadata": {},
   "outputs": [
    {
     "data": {
      "text/html": [
       "<div>\n",
       "<style scoped>\n",
       "    .dataframe tbody tr th:only-of-type {\n",
       "        vertical-align: middle;\n",
       "    }\n",
       "\n",
       "    .dataframe tbody tr th {\n",
       "        vertical-align: top;\n",
       "    }\n",
       "\n",
       "    .dataframe thead th {\n",
       "        text-align: right;\n",
       "    }\n",
       "</style>\n",
       "<table border=\"1\" class=\"dataframe\">\n",
       "  <thead>\n",
       "    <tr style=\"text-align: right;\">\n",
       "      <th></th>\n",
       "      <th>Predicted</th>\n",
       "      <th>Actual Returns</th>\n",
       "      <th>Strategy Returns</th>\n",
       "    </tr>\n",
       "    <tr>\n",
       "      <th>Date</th>\n",
       "      <th></th>\n",
       "      <th></th>\n",
       "      <th></th>\n",
       "    </tr>\n",
       "  </thead>\n",
       "  <tbody>\n",
       "    <tr>\n",
       "      <th>2017-08-14</th>\n",
       "      <td>1.0</td>\n",
       "      <td>0.014889</td>\n",
       "      <td>0.014889</td>\n",
       "    </tr>\n",
       "    <tr>\n",
       "      <th>2017-08-15</th>\n",
       "      <td>1.0</td>\n",
       "      <td>-0.017557</td>\n",
       "      <td>-0.017557</td>\n",
       "    </tr>\n",
       "    <tr>\n",
       "      <th>2017-08-16</th>\n",
       "      <td>1.0</td>\n",
       "      <td>-0.008323</td>\n",
       "      <td>-0.008323</td>\n",
       "    </tr>\n",
       "    <tr>\n",
       "      <th>2017-08-17</th>\n",
       "      <td>1.0</td>\n",
       "      <td>-0.037522</td>\n",
       "      <td>-0.037522</td>\n",
       "    </tr>\n",
       "    <tr>\n",
       "      <th>2017-08-18</th>\n",
       "      <td>1.0</td>\n",
       "      <td>-0.008977</td>\n",
       "      <td>-0.008977</td>\n",
       "    </tr>\n",
       "  </tbody>\n",
       "</table>\n",
       "</div>"
      ],
      "text/plain": [
       "            Predicted  Actual Returns  Strategy Returns\n",
       "Date                                                   \n",
       "2017-08-14        1.0        0.014889          0.014889\n",
       "2017-08-15        1.0       -0.017557         -0.017557\n",
       "2017-08-16        1.0       -0.008323         -0.008323\n",
       "2017-08-17        1.0       -0.037522         -0.037522\n",
       "2017-08-18        1.0       -0.008977         -0.008977"
      ]
     },
     "metadata": {},
     "output_type": "display_data"
    },
    {
     "data": {
      "text/html": [
       "<div>\n",
       "<style scoped>\n",
       "    .dataframe tbody tr th:only-of-type {\n",
       "        vertical-align: middle;\n",
       "    }\n",
       "\n",
       "    .dataframe tbody tr th {\n",
       "        vertical-align: top;\n",
       "    }\n",
       "\n",
       "    .dataframe thead th {\n",
       "        text-align: right;\n",
       "    }\n",
       "</style>\n",
       "<table border=\"1\" class=\"dataframe\">\n",
       "  <thead>\n",
       "    <tr style=\"text-align: right;\">\n",
       "      <th></th>\n",
       "      <th>Predicted</th>\n",
       "      <th>Actual Returns</th>\n",
       "      <th>Strategy Returns</th>\n",
       "    </tr>\n",
       "    <tr>\n",
       "      <th>Date</th>\n",
       "      <th></th>\n",
       "      <th></th>\n",
       "      <th></th>\n",
       "    </tr>\n",
       "  </thead>\n",
       "  <tbody>\n",
       "    <tr>\n",
       "      <th>2022-03-08</th>\n",
       "      <td>1.0</td>\n",
       "      <td>-0.038733</td>\n",
       "      <td>-0.038733</td>\n",
       "    </tr>\n",
       "    <tr>\n",
       "      <th>2022-03-09</th>\n",
       "      <td>1.0</td>\n",
       "      <td>0.071144</td>\n",
       "      <td>0.071144</td>\n",
       "    </tr>\n",
       "    <tr>\n",
       "      <th>2022-03-10</th>\n",
       "      <td>1.0</td>\n",
       "      <td>-0.023119</td>\n",
       "      <td>-0.023119</td>\n",
       "    </tr>\n",
       "    <tr>\n",
       "      <th>2022-03-11</th>\n",
       "      <td>1.0</td>\n",
       "      <td>-0.035299</td>\n",
       "      <td>-0.035299</td>\n",
       "    </tr>\n",
       "    <tr>\n",
       "      <th>2022-03-14</th>\n",
       "      <td>1.0</td>\n",
       "      <td>-0.040956</td>\n",
       "      <td>-0.040956</td>\n",
       "    </tr>\n",
       "  </tbody>\n",
       "</table>\n",
       "</div>"
      ],
      "text/plain": [
       "            Predicted  Actual Returns  Strategy Returns\n",
       "Date                                                   \n",
       "2022-03-08        1.0       -0.038733         -0.038733\n",
       "2022-03-09        1.0        0.071144          0.071144\n",
       "2022-03-10        1.0       -0.023119         -0.023119\n",
       "2022-03-11        1.0       -0.035299         -0.035299\n",
       "2022-03-14        1.0       -0.040956         -0.040956"
      ]
     },
     "metadata": {},
     "output_type": "display_data"
    }
   ],
   "source": [
    "predictions1_df['Actual Returns'] = zillow_df['Actual Returns']\n",
    "predictions1_df['Strategy Returns'] = (\n",
    "    predictions1_df['Actual Returns'] * predictions1_df['Predicted']\n",
    ")\n",
    "display(predictions1_df.head())\n",
    "display(predictions1_df.tail())"
   ]
  },
  {
   "cell_type": "code",
   "execution_count": 490,
   "id": "73c1cb25-0ba8-43e8-ae57-404c12c1cb8b",
   "metadata": {},
   "outputs": [
    {
     "data": {
      "text/plain": [
       "<AxesSubplot:xlabel='Date'>"
      ]
     },
     "execution_count": 490,
     "metadata": {},
     "output_type": "execute_result"
    },
    {
     "data": {
      "image/png": "[encoded data removed]",
      "text/plain": [
       "<Figure size 432x288 with 1 Axes>"
      ]
     },
     "metadata": {
      "needs_background": "light"
     },
     "output_type": "display_data"
    }
   ],
   "source": [
    "(1 + predictions1_df[['Actual Returns', 'Strategy Returns']]).cumprod().plot()"
   ]
  },
  {
   "cell_type": "code",
   "execution_count": null,
   "id": "df5d7bcc-0303-436c-9557-d8db24cbf377",
   "metadata": {},
   "outputs": [],
   "source": []
  }
 ],
 "metadata": {
  "kernelspec": {
   "display_name": "Python 3.9.7 64-bit ('dev': conda)",
   "language": "python",
   "name": "python397jvsc74a57bd039fd4f7935656d6ca2e81686471bb91fda69f889511528cd43d174a39a9c9681"
  },
  "language_info": {
   "codemirror_mode": {
    "name": "ipython",
    "version": 3
   },
   "file_extension": ".py",
   "mimetype": "text/x-python",
   "name": "python",
   "nbconvert_exporter": "python",
   "pygments_lexer": "ipython3",
   "version": "3.9.7"
  }
 },
 "nbformat": 4,
 "nbformat_minor": 5
}
