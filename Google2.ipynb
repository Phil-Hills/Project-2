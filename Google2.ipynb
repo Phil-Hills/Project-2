{
 "cells": [
  {
   "cell_type": "code",
   "execution_count": 335,
   "id": "be8ccae6-a582-49bb-94ef-e952759c8215",
   "metadata": {},
   "outputs": [],
   "source": [
    "# Imports\n",
    "import pandas as pd\n",
    "import numpy as np\n",
    "from pathlib import Path\n",
    "import hvplot.pandas\n",
    "import matplotlib.pyplot as plt\n",
    "from sklearn import svm\n",
    "from sklearn.preprocessing import StandardScaler\n",
    "from pandas.tseries.offsets import DateOffset\n",
    "from sklearn.metrics import classification_report"
   ]
  },
  {
   "cell_type": "code",
   "execution_count": 336,
   "id": "106b3dc7-3249-47a3-9701-278cfc8d69e8",
   "metadata": {},
   "outputs": [],
   "source": [
    "goog_df = pd.read_csv(Path(\"/Users/Hockenbery/fintech/Python_Project/Project-2/GOOG.csv\"),\n",
    "    index_col='Date', \n",
    "    infer_datetime_format=True, \n",
    "    parse_dates=True\n",
    ")"
   ]
  },
  {
   "cell_type": "code",
   "execution_count": 337,
   "id": "c843056d-ccef-4e83-8a4b-e3aa97efcb24",
   "metadata": {},
   "outputs": [
    {
     "data": {
      "text/html": [
       "<div>\n",
       "<style scoped>\n",
       "    .dataframe tbody tr th:only-of-type {\n",
       "        vertical-align: middle;\n",
       "    }\n",
       "\n",
       "    .dataframe tbody tr th {\n",
       "        vertical-align: top;\n",
       "    }\n",
       "\n",
       "    .dataframe thead th {\n",
       "        text-align: right;\n",
       "    }\n",
       "</style>\n",
       "<table border=\"1\" class=\"dataframe\">\n",
       "  <thead>\n",
       "    <tr style=\"text-align: right;\">\n",
       "      <th></th>\n",
       "      <th>Open</th>\n",
       "      <th>High</th>\n",
       "      <th>Low</th>\n",
       "      <th>Close</th>\n",
       "      <th>Adj Close</th>\n",
       "      <th>Volume</th>\n",
       "    </tr>\n",
       "    <tr>\n",
       "      <th>Date</th>\n",
       "      <th></th>\n",
       "      <th></th>\n",
       "      <th></th>\n",
       "      <th></th>\n",
       "      <th></th>\n",
       "      <th></th>\n",
       "    </tr>\n",
       "  </thead>\n",
       "  <tbody>\n",
       "    <tr>\n",
       "      <th>2017-03-16</th>\n",
       "      <td>849.030029</td>\n",
       "      <td>850.849976</td>\n",
       "      <td>846.130005</td>\n",
       "      <td>848.780029</td>\n",
       "      <td>848.780029</td>\n",
       "      <td>977600</td>\n",
       "    </tr>\n",
       "    <tr>\n",
       "      <th>2017-03-17</th>\n",
       "      <td>851.609985</td>\n",
       "      <td>853.400024</td>\n",
       "      <td>847.109985</td>\n",
       "      <td>852.119995</td>\n",
       "      <td>852.119995</td>\n",
       "      <td>1712300</td>\n",
       "    </tr>\n",
       "    <tr>\n",
       "      <th>2017-03-20</th>\n",
       "      <td>850.010010</td>\n",
       "      <td>850.219971</td>\n",
       "      <td>845.150024</td>\n",
       "      <td>848.400024</td>\n",
       "      <td>848.400024</td>\n",
       "      <td>1231500</td>\n",
       "    </tr>\n",
       "    <tr>\n",
       "      <th>2017-03-21</th>\n",
       "      <td>851.400024</td>\n",
       "      <td>853.500000</td>\n",
       "      <td>829.020020</td>\n",
       "      <td>830.460022</td>\n",
       "      <td>830.460022</td>\n",
       "      <td>2463500</td>\n",
       "    </tr>\n",
       "    <tr>\n",
       "      <th>2017-03-22</th>\n",
       "      <td>831.909973</td>\n",
       "      <td>835.549988</td>\n",
       "      <td>827.179993</td>\n",
       "      <td>829.590027</td>\n",
       "      <td>829.590027</td>\n",
       "      <td>1401500</td>\n",
       "    </tr>\n",
       "  </tbody>\n",
       "</table>\n",
       "</div>"
      ],
      "text/plain": [
       "                  Open        High         Low       Close   Adj Close  \\\n",
       "Date                                                                     \n",
       "2017-03-16  849.030029  850.849976  846.130005  848.780029  848.780029   \n",
       "2017-03-17  851.609985  853.400024  847.109985  852.119995  852.119995   \n",
       "2017-03-20  850.010010  850.219971  845.150024  848.400024  848.400024   \n",
       "2017-03-21  851.400024  853.500000  829.020020  830.460022  830.460022   \n",
       "2017-03-22  831.909973  835.549988  827.179993  829.590027  829.590027   \n",
       "\n",
       "             Volume  \n",
       "Date                 \n",
       "2017-03-16   977600  \n",
       "2017-03-17  1712300  \n",
       "2017-03-20  1231500  \n",
       "2017-03-21  2463500  \n",
       "2017-03-22  1401500  "
      ]
     },
     "execution_count": 337,
     "metadata": {},
     "output_type": "execute_result"
    }
   ],
   "source": [
    "goog_df.head()"
   ]
  },
  {
   "cell_type": "code",
   "execution_count": 338,
   "id": "0df8fc01-2de2-4f6e-a960-60bf3c603599",
   "metadata": {},
   "outputs": [
    {
     "data": {
      "text/plain": [
       "<AxesSubplot:xlabel='Date'>"
      ]
     },
     "execution_count": 338,
     "metadata": {},
     "output_type": "execute_result"
    },
    {
     "data": {
      "image/png": "[encoded data removed]",
      "text/plain": [
       "<Figure size 432x288 with 1 Axes>"
      ]
     },
     "metadata": {
      "needs_background": "light"
     },
     "output_type": "display_data"
    }
   ],
   "source": [
    "goog_df.plot(y='Adj Close')"
   ]
  },
  {
   "cell_type": "code",
   "execution_count": 339,
   "id": "7c886f47-925b-4132-83d6-a0e221936261",
   "metadata": {},
   "outputs": [],
   "source": [
    "exp1 = goog_df.Close.ewm(span=12, adjust=False).mean()\n",
    "exp2 = goog_df.Close.ewm(span=26, adjust=False).mean()"
   ]
  },
  {
   "cell_type": "code",
   "execution_count": 340,
   "id": "03d0907b-7e5b-429a-a473-a8db789e3477",
   "metadata": {},
   "outputs": [
    {
     "data": {
      "text/html": [
       "<div>\n",
       "<style scoped>\n",
       "    .dataframe tbody tr th:only-of-type {\n",
       "        vertical-align: middle;\n",
       "    }\n",
       "\n",
       "    .dataframe tbody tr th {\n",
       "        vertical-align: top;\n",
       "    }\n",
       "\n",
       "    .dataframe thead th {\n",
       "        text-align: right;\n",
       "    }\n",
       "</style>\n",
       "<table border=\"1\" class=\"dataframe\">\n",
       "  <thead>\n",
       "    <tr style=\"text-align: right;\">\n",
       "      <th></th>\n",
       "      <th>Open</th>\n",
       "      <th>High</th>\n",
       "      <th>Low</th>\n",
       "      <th>Close</th>\n",
       "      <th>Adj Close</th>\n",
       "      <th>Volume</th>\n",
       "      <th>macd</th>\n",
       "      <th>exp3</th>\n",
       "    </tr>\n",
       "    <tr>\n",
       "      <th>Date</th>\n",
       "      <th></th>\n",
       "      <th></th>\n",
       "      <th></th>\n",
       "      <th></th>\n",
       "      <th></th>\n",
       "      <th></th>\n",
       "      <th></th>\n",
       "      <th></th>\n",
       "    </tr>\n",
       "  </thead>\n",
       "  <tbody>\n",
       "    <tr>\n",
       "      <th>2017-03-16</th>\n",
       "      <td>849.030029</td>\n",
       "      <td>850.849976</td>\n",
       "      <td>846.130005</td>\n",
       "      <td>848.780029</td>\n",
       "      <td>848.780029</td>\n",
       "      <td>977600</td>\n",
       "      <td>0.000000</td>\n",
       "      <td>0.000000</td>\n",
       "    </tr>\n",
       "    <tr>\n",
       "      <th>2017-03-17</th>\n",
       "      <td>851.609985</td>\n",
       "      <td>853.400024</td>\n",
       "      <td>847.109985</td>\n",
       "      <td>852.119995</td>\n",
       "      <td>852.119995</td>\n",
       "      <td>1712300</td>\n",
       "      <td>0.266436</td>\n",
       "      <td>0.053287</td>\n",
       "    </tr>\n",
       "    <tr>\n",
       "      <th>2017-03-20</th>\n",
       "      <td>850.010010</td>\n",
       "      <td>850.219971</td>\n",
       "      <td>845.150024</td>\n",
       "      <td>848.400024</td>\n",
       "      <td>848.400024</td>\n",
       "      <td>1231500</td>\n",
       "      <td>0.175396</td>\n",
       "      <td>0.077709</td>\n",
       "    </tr>\n",
       "    <tr>\n",
       "      <th>2017-03-21</th>\n",
       "      <td>851.400024</td>\n",
       "      <td>853.500000</td>\n",
       "      <td>829.020020</td>\n",
       "      <td>830.460022</td>\n",
       "      <td>830.460022</td>\n",
       "      <td>2463500</td>\n",
       "      <td>-1.329042</td>\n",
       "      <td>-0.203641</td>\n",
       "    </tr>\n",
       "    <tr>\n",
       "      <th>2017-03-22</th>\n",
       "      <td>831.909973</td>\n",
       "      <td>835.549988</td>\n",
       "      <td>827.179993</td>\n",
       "      <td>829.590027</td>\n",
       "      <td>829.590027</td>\n",
       "      <td>1401500</td>\n",
       "      <td>-2.561988</td>\n",
       "      <td>-0.675310</td>\n",
       "    </tr>\n",
       "  </tbody>\n",
       "</table>\n",
       "</div>"
      ],
      "text/plain": [
       "                  Open        High         Low       Close   Adj Close  \\\n",
       "Date                                                                     \n",
       "2017-03-16  849.030029  850.849976  846.130005  848.780029  848.780029   \n",
       "2017-03-17  851.609985  853.400024  847.109985  852.119995  852.119995   \n",
       "2017-03-20  850.010010  850.219971  845.150024  848.400024  848.400024   \n",
       "2017-03-21  851.400024  853.500000  829.020020  830.460022  830.460022   \n",
       "2017-03-22  831.909973  835.549988  827.179993  829.590027  829.590027   \n",
       "\n",
       "             Volume      macd      exp3  \n",
       "Date                                     \n",
       "2017-03-16   977600  0.000000  0.000000  \n",
       "2017-03-17  1712300  0.266436  0.053287  \n",
       "2017-03-20  1231500  0.175396  0.077709  \n",
       "2017-03-21  2463500 -1.329042 -0.203641  \n",
       "2017-03-22  1401500 -2.561988 -0.675310  "
      ]
     },
     "execution_count": 340,
     "metadata": {},
     "output_type": "execute_result"
    }
   ],
   "source": [
    "macd = exp1-exp2\n",
    "exp3 = macd.ewm(span=9, adjust=False).mean()\n",
    "goog_df['macd'] = macd\n",
    "goog_df['exp3'] = exp3\n",
    "goog_df.head()"
   ]
  },
  {
   "cell_type": "code",
   "execution_count": 341,
   "id": "fda34ea4-b5f2-4d60-8dcb-470756d543a4",
   "metadata": {},
   "outputs": [
    {
     "data": {},
     "metadata": {},
     "output_type": "display_data"
    },
    {
     "data": {
      "application/vnd.holoviews_exec.v0+json": "",
      "text/html": [
       "<div id='6858'>\n",
       "\n",
       "\n",
       "\n",
       "\n",
       "\n",
       "  <div class=\"bk-root\" id=\"5ee86fca-b8d3-4962-b236-a22b6a705522\" data-root-id=\"6858\"></div>\n",
       "</div>\n",
       "<script type=\"application/javascript\">(function(root) {\n",
       "  function embed_document(root) {\n",
       "    var docs_json = {\"f7fdf49a-01a2-43e3-badc-2c74691b8e4d\":{\"defs\":[{\"extends\":null,\"module\":null,\"name\":\"ReactiveHTML1\",\"overrides\":[],\"properties\":[]},{\"extends\":null,\"module\":null,\"name\":\"FlexBox1\",\"overrides\":[],\"properties\":[{\"default\":\"flex-start\",\"kind\":null,\"name\":\"align_content\"},{\"default\":\"flex-start\",\"kind\":null,\"name\":\"align_items\"},{\"default\":\"row\",\"kind\":null,\"name\":\"flex_direction\"},{\"default\":\"wrap\",\"kind\":null,\"name\":\"flex_wrap\"},{\"default\":\"flex-start\",\"kind\":null,\"name\":\"justify_content\"}]},{\"extends\":null,\"module\":null,\"name\":\"TemplateActions1\",\"overrides\":[],\"properties\":[{\"default\":0,\"kind\":null,\"name\":\"open_modal\"},{\"default\":0,\"kind\":null,\"name\":\"close_modal\"}]},{\"extends\":null,\"module\":null,\"name\":\"MaterialTemplateActions1\",\"overrides\":[],\"properties\":[{\"default\":0,\"kind\":null,\"name\":\"open_modal\"},{\"default\":0,\"kind\":null,\"name\":\"close_modal\"}]}],\"roots\":{\"references\":[{\"attributes\":{\"base\":24,\"mantissas\":[1,2,4,6,8,12],\"max_interval\":43200000.0,\"min_interval\":3600000.0,\"num_minor_ticks\":0},\"id\":\"6920\",\"type\":\"AdaptiveTicker\"},{\"attributes\":{},\"id\":\"6896\",\"type\":\"AllLabels\"},{\"attributes\":{\"line_color\":\"#30a2da\",\"line_width\":2,\"x\":{\"field\":\"Date\"},\"y\":{\"field\":\"value\"}},\"id\":\"6903\",\"type\":\"Line\"},{\"attributes\":{},\"id\":\"6929\",\"type\":\"YearsTicker\"},{\"attributes\":{\"line_color\":\"#fc4f30\",\"line_width\":2,\"x\":{\"field\":\"Date\"},\"y\":{\"field\":\"value\"}},\"id\":\"6966\",\"type\":\"Line\"},{\"attributes\":{},\"id\":\"6882\",\"type\":\"PanTool\"},{\"attributes\":{\"base\":60,\"mantissas\":[1,2,5,10,15,20,30],\"max_interval\":1800000.0,\"min_interval\":1000.0,\"num_minor_ticks\":0},\"id\":\"6919\",\"type\":\"AdaptiveTicker\"},{\"attributes\":{\"axis\":{\"id\":\"6877\"},\"coordinates\":null,\"dimension\":1,\"grid_line_color\":null,\"group\":null,\"ticker\":null},\"id\":\"6880\",\"type\":\"Grid\"},{\"attributes\":{\"source\":{\"id\":\"6933\"}},\"id\":\"6940\",\"type\":\"CDSView\"},{\"attributes\":{\"days\":[1,15]},\"id\":\"6924\",\"type\":\"DaysTicker\"},{\"attributes\":{},\"id\":\"6878\",\"type\":\"BasicTicker\"},{\"attributes\":{\"days\":[1,2,3,4,5,6,7,8,9,10,11,12,13,14,15,16,17,18,19,20,21,22,23,24,25,26,27,28,29,30,31]},\"id\":\"6921\",\"type\":\"DaysTicker\"},{\"attributes\":{\"months\":[0,1,2,3,4,5,6,7,8,9,10,11]},\"id\":\"6925\",\"type\":\"MonthsTicker\"},{\"attributes\":{},\"id\":\"6883\",\"type\":\"WheelZoomTool\"},{\"attributes\":{\"days\":[1,4,7,10,13,16,19,22,25,28]},\"id\":\"6922\",\"type\":\"DaysTicker\"},{\"attributes\":{\"callback\":null,\"formatters\":{\"@{Date}\":\"datetime\"},\"renderers\":[{\"id\":\"6906\"},{\"id\":\"6939\"}],\"tags\":[\"hv_created\"],\"tooltips\":[[\"Variable\",\"@{Variable}\"],[\"Date\",\"@{Date}{%F %T}\"],[\"value\",\"@{value}\"]]},\"id\":\"6862\",\"type\":\"HoverTool\"},{\"attributes\":{\"label\":{\"value\":\"exp3\"},\"renderers\":[{\"id\":\"6939\"}]},\"id\":\"6965\",\"type\":\"LegendItem\"},{\"attributes\":{\"days\":[1,8,15,22]},\"id\":\"6923\",\"type\":\"DaysTicker\"},{\"attributes\":{\"months\":[0,6]},\"id\":\"6928\",\"type\":\"MonthsTicker\"},{\"attributes\":{},\"id\":\"6871\",\"type\":\"LinearScale\"},{\"attributes\":{},\"id\":\"6881\",\"type\":\"SaveTool\"},{\"attributes\":{\"months\":[0,2,4,6,8,10]},\"id\":\"6926\",\"type\":\"MonthsTicker\"},{\"attributes\":{\"overlay\":{\"id\":\"6886\"}},\"id\":\"6884\",\"type\":\"BoxZoomTool\"},{\"attributes\":{},\"id\":\"6950\",\"type\":\"UnionRenderers\"},{\"attributes\":{},\"id\":\"6885\",\"type\":\"ResetTool\"},{\"attributes\":{\"months\":[0,4,8]},\"id\":\"6927\",\"type\":\"MonthsTicker\"},{\"attributes\":{\"bottom_units\":\"screen\",\"coordinates\":null,\"fill_alpha\":0.5,\"fill_color\":\"lightgrey\",\"group\":null,\"left_units\":\"screen\",\"level\":\"overlay\",\"line_alpha\":1.0,\"line_color\":\"black\",\"line_dash\":[4,4],\"line_width\":2,\"right_units\":\"screen\",\"syncable\":false,\"top_units\":\"screen\"},\"id\":\"6886\",\"type\":\"BoxAnnotation\"},{\"attributes\":{\"margin\":[5,5,5,5],\"name\":\"HSpacer09370\",\"sizing_mode\":\"stretch_width\"},\"id\":\"7183\",\"type\":\"Spacer\"},{\"attributes\":{\"children\":[{\"id\":\"6859\"},{\"id\":\"6864\"},{\"id\":\"7183\"}],\"margin\":[0,0,0,0],\"name\":\"Row09365\",\"tags\":[\"embedded\"]},\"id\":\"6858\",\"type\":\"Row\"},{\"attributes\":{},\"id\":\"6898\",\"type\":\"BasicTickFormatter\"},{\"attributes\":{},\"id\":\"6915\",\"type\":\"UnionRenderers\"},{\"attributes\":{\"coordinates\":null,\"group\":null,\"text_color\":\"black\",\"text_font_size\":\"12pt\"},\"id\":\"6865\",\"type\":\"Title\"},{\"attributes\":{\"click_policy\":\"mute\",\"coordinates\":null,\"group\":null,\"items\":[{\"id\":\"6931\"},{\"id\":\"6965\"}],\"location\":[0,0],\"title\":\"Variable\"},\"id\":\"6930\",\"type\":\"Legend\"},{\"attributes\":{\"line_alpha\":0.2,\"line_color\":\"#30a2da\",\"line_width\":2,\"x\":{\"field\":\"Date\"},\"y\":{\"field\":\"value\"}},\"id\":\"6905\",\"type\":\"Line\"},{\"attributes\":{\"end\":1647302400000.0,\"reset_end\":1647302400000.0,\"reset_start\":1489622400000.0,\"start\":1489622400000.0,\"tags\":[[[\"Date\",\"Date\",null]]]},\"id\":\"6860\",\"type\":\"Range1d\"},{\"attributes\":{\"below\":[{\"id\":\"6873\"}],\"center\":[{\"id\":\"6876\"},{\"id\":\"6880\"}],\"height\":300,\"left\":[{\"id\":\"6877\"}],\"margin\":[5,5,5,5],\"min_border_bottom\":10,\"min_border_left\":10,\"min_border_right\":10,\"min_border_top\":10,\"renderers\":[{\"id\":\"6906\"},{\"id\":\"6939\"}],\"right\":[{\"id\":\"6930\"}],\"sizing_mode\":\"fixed\",\"title\":{\"id\":\"6865\"},\"toolbar\":{\"id\":\"6887\"},\"width\":700,\"x_range\":{\"id\":\"6860\"},\"x_scale\":{\"id\":\"6869\"},\"y_range\":{\"id\":\"6861\"},\"y_scale\":{\"id\":\"6871\"}},\"id\":\"6864\",\"subtype\":\"Figure\",\"type\":\"Plot\"},{\"attributes\":{\"end\":103.63351408333787,\"reset_end\":103.63351408333787,\"reset_start\":-111.13634700379711,\"start\":-111.13634700379711,\"tags\":[[[\"value\",\"value\",null]]]},\"id\":\"6861\",\"type\":\"Range1d\"},{\"attributes\":{\"margin\":[5,5,5,5],\"name\":\"HSpacer09369\",\"sizing_mode\":\"stretch_width\"},\"id\":\"6859\",\"type\":\"Spacer\"},{\"attributes\":{\"tools\":[{\"id\":\"6862\"},{\"id\":\"6881\"},{\"id\":\"6882\"},{\"id\":\"6883\"},{\"id\":\"6884\"},{\"id\":\"6885\"}]},\"id\":\"6887\",\"type\":\"Toolbar\"},{\"attributes\":{\"data\":{\"Date\":{\"__ndarray__\":\"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\",\"dtype\":\"float64\",\"order\":\"little\",\"shape\":[1260]},\"Variable\":[\"exp3\",\"exp3\",\"exp3\",\"exp3\",\"exp3\",\"exp3\",\"exp3\",\"exp3\",\"exp3\",\"exp3\",\"exp3\",\"exp3\",\"exp3\",\"exp3\",\"exp3\",\"exp3\",\"exp3\",\"exp3\",\"exp3\",\"exp3\",\"exp3\",\"exp3\",\"exp3\",\"exp3\",\"exp3\",\"exp3\",\"exp3\",\"exp3\",\"exp3\",\"exp3\",\"exp3\",\"exp3\",\"exp3\",\"exp3\",\"exp3\",\"exp3\",\"exp3\",\"exp3\",\"exp3\",\"exp3\",\"exp3\",\"exp3\",\"exp3\",\"exp3\",\"exp3\",\"exp3\",\"exp3\",\"exp3\",\"exp3\",\"exp3\",\"exp3\",\"exp3\",\"exp3\",\"exp3\",\"exp3\",\"exp3\",\"exp3\",\"exp3\",\"exp3\",\"exp3\",\"exp3\",\"exp3\",\"exp3\",\"exp3\",\"exp3\",\"exp3\",\"exp3\",\"exp3\",\"exp3\",\"exp3\",\"exp3\",\"exp3\",\"exp3\",\"exp3\",\"exp3\",\"exp3\",\"exp3\",\"exp3\",\"exp3\",\"exp3\",\"exp3\",\"exp3\",\"exp3\",\"exp3\",\"exp3\",\"exp3\",\"exp3\",\"exp3\",\"exp3\",\"exp3\",\"exp3\",\"exp3\",\"exp3\",\"exp3\",\"exp3\",\"exp3\",\"exp3\",\"exp3\",\"exp3\",\"exp3\",\"exp3\",\"exp3\",\"exp3\",\"exp3\",\"exp3\",\"exp3\",\"exp3\",\"exp3\",\"exp3\",\"exp3\",\"exp3\",\"exp3\",\"exp3\",\"exp3\",\"exp3\",\"exp3\",\"exp3\",\"exp3\",\"exp3\",\"exp3\",\"exp3\",\"exp3\",\"exp3\",\"exp3\",\"exp3\",\"exp3\",\"exp3\",\"exp3\",\"exp3\",\"exp3\",\"exp3\",\"exp3\",\"exp3\",\"exp3\",\"exp3\",\"exp3\",\"exp3\",\"exp3\",\"exp3\",\"exp3\",\"exp3\",\"exp3\",\"exp3\",\"exp3\",\"exp3\",\"exp3\",\"exp3\",\"exp3\",\"exp3\",\"exp3\",\"exp3\",\"exp3\",\"exp3\",\"exp3\",\"exp3\",\"exp3\",\"exp3\",\"exp3\",\"exp3\",\"exp3\",\"exp3\",\"exp3\",\"exp3\",\"exp3\",\"exp3\",\"exp3\",\"exp3\",\"exp3\",\"exp3\",\"exp3\",\"exp3\",\"exp3\",\"exp3\",\"exp3\",\"exp3\",\"exp3\",\"exp3\",\"exp3\",\"exp3\",\"exp3\",\"exp3\",\"exp3\",\"exp3\",\"exp3\",\"exp3\",\"exp3\",\"exp3\",\"exp3\",\"exp3\",\"exp3\",\"exp3\",\"exp3\",\"exp3\",\"exp3\",\"exp3\",\"exp3\",\"exp3\",\"exp3\",\"exp3\",\"exp3\",\"exp3\",\"exp3\",\"exp3\",\"exp3\",\"exp3\",\"exp3\",\"exp3\",\"exp3\",\"exp3\",\"exp3\",\"exp3\",\"exp3\",\"exp3\",\"exp3\",\"exp3\",\"exp3\",\"exp3\",\"exp3\",\"exp3\",\"exp3\",\"exp3\",\"exp3\",\"exp3\",\"exp3\",\"exp3\",\"exp3\",\"exp3\",\"exp3\",\"exp3\",\"exp3\",\"exp3\",\"exp3\",\"exp3\",\"exp3\",\"exp3\",\"exp3\",\"exp3\",\"exp3\",\"exp3\",\"exp3\",\"exp3\",\"exp3\",\"exp3\",\"exp3\",\"exp3\",\"exp3\",\"exp3\",\"exp3\",\"exp3\",\"exp3\",\"exp3\",\"exp3\",\"exp3\",\"exp3\",\"exp3\",\"exp3\",\"exp3\",\"exp3\",\"exp3\",\"exp3\",\"exp3\",\"exp3\",\"exp3\",\"exp3\",\"exp3\",\"exp3\",\"exp3\",\"exp3\",\"exp3\",\"exp3\",\"exp3\",\"exp3\",\"exp3\",\"exp3\",\"exp3\",\"exp3\",\"exp3\",\"exp3\",\"exp3\",\"exp3\",\"exp3\",\"exp3\",\"exp3\",\"exp3\",\"exp3\",\"exp3\",\"exp3\",\"exp3\",\"exp3\",\"exp3\",\"exp3\",\"exp3\",\"exp3\",\"exp3\",\"exp3\",\"exp3\",\"exp3\",\"exp3\",\"exp3\",\"exp3\",\"exp3\",\"exp3\",\"exp3\",\"exp3\",\"exp3\",\"exp3\",\"exp3\",\"exp3\",\"exp3\",\"exp3\",\"exp3\",\"exp3\",\"exp3\",\"exp3\",\"exp3\",\"exp3\",\"exp3\",\"exp3\",\"exp3\",\"exp3\",\"exp3\",\"exp3\",\"exp3\",\"exp3\",\"exp3\",\"exp3\",\"exp3\",\"exp3\",\"exp3\",\"exp3\",\"exp3\",\"exp3\",\"exp3\",\"exp3\",\"exp3\",\"exp3\",\"exp3\",\"exp3\",\"exp3\",\"exp3\",\"exp3\",\"exp3\",\"exp3\",\"exp3\",\"exp3\",\"exp3\",\"exp3\",\"exp3\",\"exp3\",\"exp3\",\"exp3\",\"exp3\",\"exp3\",\"exp3\",\"exp3\",\"exp3\",\"exp3\",\"exp3\",\"exp3\",\"exp3\",\"exp3\",\"exp3\",\"exp3\",\"exp3\",\"exp3\",\"exp3\",\"exp3\",\"exp3\",\"exp3\",\"exp3\",\"exp3\",\"exp3\",\"exp3\",\"exp3\",\"exp3\",\"exp3\",\"exp3\",\"exp3\",\"exp3\",\"exp3\",\"exp3\",\"exp3\",\"exp3\",\"exp3\",\"exp3\",\"exp3\",\"exp3\",\"exp3\",\"exp3\",\"exp3\",\"exp3\",\"exp3\",\"exp3\",\"exp3\",\"exp3\",\"exp3\",\"exp3\",\"exp3\",\"exp3\",\"exp3\",\"exp3\",\"exp3\",\"exp3\",\"exp3\",\"exp3\",\"exp3\",\"exp3\",\"exp3\",\"exp3\",\"exp3\",\"exp3\",\"exp3\",\"exp3\",\"exp3\",\"exp3\",\"exp3\",\"exp3\",\"exp3\",\"exp3\",\"exp3\",\"exp3\",\"exp3\",\"exp3\",\"exp3\",\"exp3\",\"exp3\",\"exp3\",\"exp3\",\"exp3\",\"exp3\",\"exp3\",\"exp3\",\"exp3\",\"exp3\",\"exp3\",\"exp3\",\"exp3\",\"exp3\",\"exp3\",\"exp3\",\"exp3\",\"exp3\",\"exp3\",\"exp3\",\"exp3\",\"exp3\",\"exp3\",\"exp3\",\"exp3\",\"exp3\",\"exp3\",\"exp3\",\"exp3\",\"exp3\",\"exp3\",\"exp3\",\"exp3\",\"exp3\",\"exp3\",\"exp3\",\"exp3\",\"exp3\",\"exp3\",\"exp3\",\"exp3\",\"exp3\",\"exp3\",\"exp3\",\"exp3\",\"exp3\",\"exp3\",\"exp3\",\"exp3\",\"exp3\",\"exp3\",\"exp3\",\"exp3\",\"exp3\",\"exp3\",\"exp3\",\"exp3\",\"exp3\",\"exp3\",\"exp3\",\"exp3\",\"exp3\",\"exp3\",\"exp3\",\"exp3\",\"exp3\",\"exp3\",\"exp3\",\"exp3\",\"exp3\",\"exp3\",\"exp3\",\"exp3\",\"exp3\",\"exp3\",\"exp3\",\"exp3\",\"exp3\",\"exp3\",\"exp3\",\"exp3\",\"exp3\",\"exp3\",\"exp3\",\"exp3\",\"exp3\",\"exp3\",\"exp3\",\"exp3\",\"exp3\",\"exp3\",\"exp3\",\"exp3\",\"exp3\",\"exp3\",\"exp3\",\"exp3\",\"exp3\",\"exp3\",\"exp3\",\"exp3\",\"exp3\",\"exp3\",\"exp3\",\"exp3\",\"exp3\",\"exp3\",\"exp3\",\"exp3\",\"exp3\",\"exp3\",\"exp3\",\"exp3\",\"exp3\",\"exp3\",\"exp3\",\"exp3\",\"exp3\",\"exp3\",\"exp3\",\"exp3\",\"exp3\",\"exp3\",\"exp3\",\"exp3\",\"exp3\",\"exp3\",\"exp3\",\"exp3\",\"exp3\",\"exp3\",\"exp3\",\"exp3\",\"exp3\",\"exp3\",\"exp3\",\"exp3\",\"exp3\",\"exp3\",\"exp3\",\"exp3\",\"exp3\",\"exp3\",\"exp3\",\"exp3\",\"exp3\",\"exp3\",\"exp3\",\"exp3\",\"exp3\",\"exp3\",\"exp3\",\"exp3\",\"exp3\",\"exp3\",\"exp3\",\"exp3\",\"exp3\",\"exp3\",\"exp3\",\"exp3\",\"exp3\",\"exp3\",\"exp3\",\"exp3\",\"exp3\",\"exp3\",\"exp3\",\"exp3\",\"exp3\",\"exp3\",\"exp3\",\"exp3\",\"exp3\",\"exp3\",\"exp3\",\"exp3\",\"exp3\",\"exp3\",\"exp3\",\"exp3\",\"exp3\",\"exp3\",\"exp3\",\"exp3\",\"exp3\",\"exp3\",\"exp3\",\"exp3\",\"exp3\",\"exp3\",\"exp3\",\"exp3\",\"exp3\",\"exp3\",\"exp3\",\"exp3\",\"exp3\",\"exp3\",\"exp3\",\"exp3\",\"exp3\",\"exp3\",\"exp3\",\"exp3\",\"exp3\",\"exp3\",\"exp3\",\"exp3\",\"exp3\",\"exp3\",\"exp3\",\"exp3\",\"exp3\",\"exp3\",\"exp3\",\"exp3\",\"exp3\",\"exp3\",\"exp3\",\"exp3\",\"exp3\",\"exp3\",\"exp3\",\"exp3\",\"exp3\",\"exp3\",\"exp3\",\"exp3\",\"exp3\",\"exp3\",\"exp3\",\"exp3\",\"exp3\",\"exp3\",\"exp3\",\"exp3\",\"exp3\",\"exp3\",\"exp3\",\"exp3\",\"exp3\",\"exp3\",\"exp3\",\"exp3\",\"exp3\",\"exp3\",\"exp3\",\"exp3\",\"exp3\",\"exp3\",\"exp3\",\"exp3\",\"exp3\",\"exp3\",\"exp3\",\"exp3\",\"exp3\",\"exp3\",\"exp3\",\"exp3\",\"exp3\",\"exp3\",\"exp3\",\"exp3\",\"exp3\",\"exp3\",\"exp3\",\"exp3\",\"exp3\",\"exp3\",\"exp3\",\"exp3\",\"exp3\",\"exp3\",\"exp3\",\"exp3\",\"exp3\",\"exp3\",\"exp3\",\"exp3\",\"exp3\",\"exp3\",\"exp3\",\"exp3\",\"exp3\",\"exp3\",\"exp3\",\"exp3\",\"exp3\",\"exp3\",\"exp3\",\"exp3\",\"exp3\",\"exp3\",\"exp3\",\"exp3\",\"exp3\",\"exp3\",\"exp3\",\"exp3\",\"exp3\",\"exp3\",\"exp3\",\"exp3\",\"exp3\",\"exp3\",\"exp3\",\"exp3\",\"exp3\",\"exp3\",\"exp3\",\"exp3\",\"exp3\",\"exp3\",\"exp3\",\"exp3\",\"exp3\",\"exp3\",\"exp3\",\"exp3\",\"exp3\",\"exp3\",\"exp3\",\"exp3\",\"exp3\",\"exp3\",\"exp3\",\"exp3\",\"exp3\",\"exp3\",\"exp3\",\"exp3\",\"exp3\",\"exp3\",\"exp3\",\"exp3\",\"exp3\",\"exp3\",\"exp3\",\"exp3\",\"exp3\",\"exp3\",\"exp3\",\"exp3\",\"exp3\",\"exp3\",\"exp3\",\"exp3\",\"exp3\",\"exp3\",\"exp3\",\"exp3\",\"exp3\",\"exp3\",\"exp3\",\"exp3\",\"exp3\",\"exp3\",\"exp3\",\"exp3\",\"exp3\",\"exp3\",\"exp3\",\"exp3\",\"exp3\",\"exp3\",\"exp3\",\"exp3\",\"exp3\",\"exp3\",\"exp3\",\"exp3\",\"exp3\",\"exp3\",\"exp3\",\"exp3\",\"exp3\",\"exp3\",\"exp3\",\"exp3\",\"exp3\",\"exp3\",\"exp3\",\"exp3\",\"exp3\",\"exp3\",\"exp3\",\"exp3\",\"exp3\",\"exp3\",\"exp3\",\"exp3\",\"exp3\",\"exp3\",\"exp3\",\"exp3\",\"exp3\",\"exp3\",\"exp3\",\"exp3\",\"exp3\",\"exp3\",\"exp3\",\"exp3\",\"exp3\",\"exp3\",\"exp3\",\"exp3\",\"exp3\",\"exp3\",\"exp3\",\"exp3\",\"exp3\",\"exp3\",\"exp3\",\"exp3\",\"exp3\",\"exp3\",\"exp3\",\"exp3\",\"exp3\",\"exp3\",\"exp3\",\"exp3\",\"exp3\",\"exp3\",\"exp3\",\"exp3\",\"exp3\",\"exp3\",\"exp3\",\"exp3\",\"exp3\",\"exp3\",\"exp3\",\"exp3\",\"exp3\",\"exp3\",\"exp3\",\"exp3\",\"exp3\",\"exp3\",\"exp3\",\"exp3\",\"exp3\",\"exp3\",\"exp3\",\"exp3\",\"exp3\",\"exp3\",\"exp3\",\"exp3\",\"exp3\",\"exp3\",\"exp3\",\"exp3\",\"exp3\",\"exp3\",\"exp3\",\"exp3\",\"exp3\",\"exp3\",\"exp3\",\"exp3\",\"exp3\",\"exp3\",\"exp3\",\"exp3\",\"exp3\",\"exp3\",\"exp3\",\"exp3\",\"exp3\",\"exp3\",\"exp3\",\"exp3\",\"exp3\",\"exp3\",\"exp3\",\"exp3\",\"exp3\",\"exp3\",\"exp3\",\"exp3\",\"exp3\",\"exp3\",\"exp3\",\"exp3\",\"exp3\",\"exp3\",\"exp3\",\"exp3\",\"exp3\",\"exp3\",\"exp3\",\"exp3\",\"exp3\",\"exp3\",\"exp3\",\"exp3\",\"exp3\",\"exp3\",\"exp3\",\"exp3\",\"exp3\",\"exp3\",\"exp3\",\"exp3\",\"exp3\",\"exp3\",\"exp3\",\"exp3\",\"exp3\",\"exp3\",\"exp3\",\"exp3\",\"exp3\",\"exp3\",\"exp3\",\"exp3\",\"exp3\",\"exp3\",\"exp3\",\"exp3\",\"exp3\",\"exp3\",\"exp3\",\"exp3\",\"exp3\",\"exp3\",\"exp3\",\"exp3\",\"exp3\",\"exp3\",\"exp3\",\"exp3\",\"exp3\",\"exp3\",\"exp3\",\"exp3\",\"exp3\",\"exp3\",\"exp3\",\"exp3\",\"exp3\",\"exp3\",\"exp3\",\"exp3\",\"exp3\",\"exp3\",\"exp3\",\"exp3\",\"exp3\",\"exp3\",\"exp3\",\"exp3\",\"exp3\",\"exp3\",\"exp3\",\"exp3\",\"exp3\",\"exp3\",\"exp3\",\"exp3\",\"exp3\",\"exp3\",\"exp3\",\"exp3\",\"exp3\",\"exp3\",\"exp3\",\"exp3\",\"exp3\",\"exp3\",\"exp3\",\"exp3\",\"exp3\",\"exp3\",\"exp3\",\"exp3\",\"exp3\",\"exp3\",\"exp3\",\"exp3\",\"exp3\",\"exp3\",\"exp3\",\"exp3\",\"exp3\",\"exp3\",\"exp3\",\"exp3\",\"exp3\",\"exp3\",\"exp3\",\"exp3\",\"exp3\",\"exp3\",\"exp3\",\"exp3\",\"exp3\",\"exp3\",\"exp3\",\"exp3\",\"exp3\",\"exp3\",\"exp3\",\"exp3\",\"exp3\",\"exp3\",\"exp3\",\"exp3\",\"exp3\",\"exp3\",\"exp3\",\"exp3\",\"exp3\",\"exp3\",\"exp3\",\"exp3\",\"exp3\",\"exp3\",\"exp3\",\"exp3\",\"exp3\",\"exp3\",\"exp3\",\"exp3\",\"exp3\",\"exp3\",\"exp3\",\"exp3\",\"exp3\",\"exp3\",\"exp3\",\"exp3\",\"exp3\",\"exp3\",\"exp3\",\"exp3\",\"exp3\",\"exp3\",\"exp3\",\"exp3\",\"exp3\",\"exp3\",\"exp3\",\"exp3\",\"exp3\",\"exp3\",\"exp3\",\"exp3\",\"exp3\",\"exp3\",\"exp3\",\"exp3\",\"exp3\",\"exp3\",\"exp3\",\"exp3\",\"exp3\",\"exp3\",\"exp3\",\"exp3\",\"exp3\",\"exp3\",\"exp3\",\"exp3\",\"exp3\",\"exp3\",\"exp3\",\"exp3\",\"exp3\",\"exp3\",\"exp3\",\"exp3\",\"exp3\",\"exp3\",\"exp3\",\"exp3\",\"exp3\",\"exp3\",\"exp3\",\"exp3\",\"exp3\",\"exp3\",\"exp3\",\"exp3\",\"exp3\",\"exp3\",\"exp3\",\"exp3\",\"exp3\",\"exp3\",\"exp3\",\"exp3\",\"exp3\",\"exp3\",\"exp3\",\"exp3\",\"exp3\",\"exp3\",\"exp3\",\"exp3\",\"exp3\",\"exp3\",\"exp3\",\"exp3\",\"exp3\",\"exp3\",\"exp3\",\"exp3\",\"exp3\",\"exp3\",\"exp3\",\"exp3\",\"exp3\",\"exp3\",\"exp3\",\"exp3\",\"exp3\",\"exp3\",\"exp3\",\"exp3\",\"exp3\",\"exp3\",\"exp3\",\"exp3\",\"exp3\",\"exp3\",\"exp3\",\"exp3\",\"exp3\",\"exp3\",\"exp3\",\"exp3\",\"exp3\",\"exp3\",\"exp3\",\"exp3\",\"exp3\",\"exp3\",\"exp3\",\"exp3\",\"exp3\",\"exp3\",\"exp3\",\"exp3\",\"exp3\",\"exp3\",\"exp3\",\"exp3\",\"exp3\",\"exp3\",\"exp3\",\"exp3\",\"exp3\",\"exp3\",\"exp3\",\"exp3\",\"exp3\",\"exp3\",\"exp3\",\"exp3\",\"exp3\",\"exp3\",\"exp3\",\"exp3\",\"exp3\",\"exp3\",\"exp3\",\"exp3\",\"exp3\",\"exp3\",\"exp3\",\"exp3\",\"exp3\",\"exp3\",\"exp3\",\"exp3\",\"exp3\",\"exp3\",\"exp3\",\"exp3\",\"exp3\",\"exp3\",\"exp3\",\"exp3\",\"exp3\",\"exp3\",\"exp3\",\"exp3\",\"exp3\",\"exp3\",\"exp3\",\"exp3\",\"exp3\",\"exp3\",\"exp3\",\"exp3\",\"exp3\",\"exp3\",\"exp3\",\"exp3\",\"exp3\",\"exp3\",\"exp3\",\"exp3\",\"exp3\",\"exp3\",\"exp3\",\"exp3\",\"exp3\",\"exp3\",\"exp3\",\"exp3\",\"exp3\",\"exp3\",\"exp3\",\"exp3\",\"exp3\",\"exp3\",\"exp3\",\"exp3\",\"exp3\",\"exp3\",\"exp3\",\"exp3\",\"exp3\",\"exp3\",\"exp3\",\"exp3\",\"exp3\",\"exp3\",\"exp3\"],\"value\":{\"__ndarray__\":\"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\",\"dtype\":\"float64\",\"order\":\"little\",\"shape\":[1260]}},\"selected\":{\"id\":\"6934\"},\"selection_policy\":{\"id\":\"6950\"}},\"id\":\"6933\",\"type\":\"ColumnDataSource\"},{\"attributes\":{\"line_color\":\"#fc4f30\",\"line_width\":2,\"x\":{\"field\":\"Date\"},\"y\":{\"field\":\"value\"}},\"id\":\"6936\",\"type\":\"Line\"},{\"attributes\":{\"coordinates\":null,\"data_source\":{\"id\":\"6900\"},\"glyph\":{\"id\":\"6903\"},\"group\":null,\"hover_glyph\":null,\"muted_glyph\":{\"id\":\"6905\"},\"nonselection_glyph\":{\"id\":\"6904\"},\"selection_glyph\":{\"id\":\"6932\"},\"view\":{\"id\":\"6907\"}},\"id\":\"6906\",\"type\":\"GlyphRenderer\"},{\"attributes\":{\"line_color\":\"#30a2da\",\"line_width\":2,\"x\":{\"field\":\"Date\"},\"y\":{\"field\":\"value\"}},\"id\":\"6932\",\"type\":\"Line\"},{\"attributes\":{\"source\":{\"id\":\"6900\"}},\"id\":\"6907\",\"type\":\"CDSView\"},{\"attributes\":{},\"id\":\"6869\",\"type\":\"LinearScale\"},{\"attributes\":{\"label\":{\"value\":\"macd\"},\"renderers\":[{\"id\":\"6906\"}]},\"id\":\"6931\",\"type\":\"LegendItem\"},{\"attributes\":{},\"id\":\"6899\",\"type\":\"AllLabels\"},{\"attributes\":{\"axis\":{\"id\":\"6873\"},\"coordinates\":null,\"grid_line_color\":null,\"group\":null,\"ticker\":null},\"id\":\"6876\",\"type\":\"Grid\"},{\"attributes\":{\"line_alpha\":0.1,\"line_color\":\"#30a2da\",\"line_width\":2,\"x\":{\"field\":\"Date\"},\"y\":{\"field\":\"value\"}},\"id\":\"6904\",\"type\":\"Line\"},{\"attributes\":{\"line_alpha\":0.1,\"line_color\":\"#fc4f30\",\"line_width\":2,\"x\":{\"field\":\"Date\"},\"y\":{\"field\":\"value\"}},\"id\":\"6937\",\"type\":\"Line\"},{\"attributes\":{\"num_minor_ticks\":5,\"tickers\":[{\"id\":\"6918\"},{\"id\":\"6919\"},{\"id\":\"6920\"},{\"id\":\"6921\"},{\"id\":\"6922\"},{\"id\":\"6923\"},{\"id\":\"6924\"},{\"id\":\"6925\"},{\"id\":\"6926\"},{\"id\":\"6927\"},{\"id\":\"6928\"},{\"id\":\"6929\"}]},\"id\":\"6874\",\"type\":\"DatetimeTicker\"},{\"attributes\":{},\"id\":\"6901\",\"type\":\"Selection\"},{\"attributes\":{},\"id\":\"6934\",\"type\":\"Selection\"},{\"attributes\":{\"axis_label\":\"Date\",\"coordinates\":null,\"formatter\":{\"id\":\"6895\"},\"group\":null,\"major_label_policy\":{\"id\":\"6896\"},\"ticker\":{\"id\":\"6874\"}},\"id\":\"6873\",\"type\":\"DatetimeAxis\"},{\"attributes\":{},\"id\":\"6895\",\"type\":\"DatetimeTickFormatter\"},{\"attributes\":{\"mantissas\":[1,2,5],\"max_interval\":500.0,\"num_minor_ticks\":0},\"id\":\"6918\",\"type\":\"AdaptiveTicker\"},{\"attributes\":{\"axis_label\":\"\",\"coordinates\":null,\"formatter\":{\"id\":\"6898\"},\"group\":null,\"major_label_policy\":{\"id\":\"6899\"},\"ticker\":{\"id\":\"6878\"}},\"id\":\"6877\",\"type\":\"LinearAxis\"},{\"attributes\":{\"coordinates\":null,\"data_source\":{\"id\":\"6933\"},\"glyph\":{\"id\":\"6936\"},\"group\":null,\"hover_glyph\":null,\"muted_glyph\":{\"id\":\"6938\"},\"nonselection_glyph\":{\"id\":\"6937\"},\"selection_glyph\":{\"id\":\"6966\"},\"view\":{\"id\":\"6940\"}},\"id\":\"6939\",\"type\":\"GlyphRenderer\"},{\"attributes\":{\"data\":{\"Date\":{\"__ndarray__\":\"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\",\"dtype\":\"float64\",\"order\":\"little\",\"shape\":[1260]},\"Variable\":[\"macd\",\"macd\",\"macd\",\"macd\",\"macd\",\"macd\",\"macd\",\"macd\",\"macd\",\"macd\",\"macd\",\"macd\",\"macd\",\"macd\",\"macd\",\"macd\",\"macd\",\"macd\",\"macd\",\"macd\",\"macd\",\"macd\",\"macd\",\"macd\",\"macd\",\"macd\",\"macd\",\"macd\",\"macd\",\"macd\",\"macd\",\"macd\",\"macd\",\"macd\",\"macd\",\"macd\",\"macd\",\"macd\",\"macd\",\"macd\",\"macd\",\"macd\",\"macd\",\"macd\",\"macd\",\"macd\",\"macd\",\"macd\",\"macd\",\"macd\",\"macd\",\"macd\",\"macd\",\"macd\",\"macd\",\"macd\",\"macd\",\"macd\",\"macd\",\"macd\",\"macd\",\"macd\",\"macd\",\"macd\",\"macd\",\"macd\",\"macd\",\"macd\",\"macd\",\"macd\",\"macd\",\"macd\",\"macd\",\"macd\",\"macd\",\"macd\",\"macd\",\"macd\",\"macd\",\"macd\",\"macd\",\"macd\",\"macd\",\"macd\",\"macd\",\"macd\",\"macd\",\"macd\",\"macd\",\"macd\",\"macd\",\"macd\",\"macd\",\"macd\",\"macd\",\"macd\",\"macd\",\"macd\",\"macd\",\"macd\",\"macd\",\"macd\",\"macd\",\"macd\",\"macd\",\"macd\",\"macd\",\"macd\",\"macd\",\"macd\",\"macd\",\"macd\",\"macd\",\"macd\",\"macd\",\"macd\",\"macd\",\"macd\",\"macd\",\"macd\",\"macd\",\"macd\",\"macd\",\"macd\",\"macd\",\"macd\",\"macd\",\"macd\",\"macd\",\"macd\",\"macd\",\"macd\",\"macd\",\"macd\",\"macd\",\"macd\",\"macd\",\"macd\",\"macd\",\"macd\",\"macd\",\"macd\",\"macd\",\"macd\",\"macd\",\"macd\",\"macd\",\"macd\",\"macd\",\"macd\",\"macd\",\"macd\",\"macd\",\"macd\",\"macd\",\"macd\",\"macd\",\"macd\",\"macd\",\"macd\",\"macd\",\"macd\",\"macd\",\"macd\",\"macd\",\"macd\",\"macd\",\"macd\",\"macd\",\"macd\",\"macd\",\"macd\",\"macd\",\"macd\",\"macd\",\"macd\",\"macd\",\"macd\",\"macd\",\"macd\",\"macd\",\"macd\",\"macd\",\"macd\",\"macd\",\"macd\",\"macd\",\"macd\",\"macd\",\"macd\",\"macd\",\"macd\",\"macd\",\"macd\",\"macd\",\"macd\",\"macd\",\"macd\",\"macd\",\"macd\",\"macd\",\"macd\",\"macd\",\"macd\",\"macd\",\"macd\",\"macd\",\"macd\",\"macd\",\"macd\",\"macd\",\"macd\",\"macd\",\"macd\",\"macd\",\"macd\",\"macd\",\"macd\",\"macd\",\"macd\",\"macd\",\"macd\",\"macd\",\"macd\",\"macd\",\"macd\",\"macd\",\"macd\",\"macd\",\"macd\",\"macd\",\"macd\",\"macd\",\"macd\",\"macd\",\"macd\",\"macd\",\"macd\",\"macd\",\"macd\",\"macd\",\"macd\",\"macd\",\"macd\",\"macd\",\"macd\",\"macd\",\"macd\",\"macd\",\"macd\",\"macd\",\"macd\",\"macd\",\"macd\",\"macd\",\"macd\",\"macd\",\"macd\",\"macd\",\"macd\",\"macd\",\"macd\",\"macd\",\"macd\",\"macd\",\"macd\",\"macd\",\"macd\",\"macd\",\"macd\",\"macd\",\"macd\",\"macd\",\"macd\",\"macd\",\"macd\",\"macd\",\"macd\",\"macd\",\"macd\",\"macd\",\"macd\",\"macd\",\"macd\",\"macd\",\"macd\",\"macd\",\"macd\",\"macd\",\"macd\",\"macd\",\"macd\",\"macd\",\"macd\",\"macd\",\"macd\",\"macd\",\"macd\",\"macd\",\"macd\",\"macd\",\"macd\",\"macd\",\"macd\",\"macd\",\"macd\",\"macd\",\"macd\",\"macd\",\"macd\",\"macd\",\"macd\",\"macd\",\"macd\",\"macd\",\"macd\",\"macd\",\"macd\",\"macd\",\"macd\",\"macd\",\"macd\",\"macd\",\"macd\",\"macd\",\"macd\",\"macd\",\"macd\",\"macd\",\"macd\",\"macd\",\"macd\",\"macd\",\"macd\",\"macd\",\"macd\",\"macd\",\"macd\",\"macd\",\"macd\",\"macd\",\"macd\",\"macd\",\"macd\",\"macd\",\"macd\",\"macd\",\"macd\",\"macd\",\"macd\",\"macd\",\"macd\",\"macd\",\"macd\",\"macd\",\"macd\",\"macd\",\"macd\",\"macd\",\"macd\",\"macd\",\"macd\",\"macd\",\"macd\",\"macd\",\"macd\",\"macd\",\"macd\",\"macd\",\"macd\",\"macd\",\"macd\",\"macd\",\"macd\",\"macd\",\"macd\",\"macd\",\"macd\",\"macd\",\"macd\",\"macd\",\"macd\",\"macd\",\"macd\",\"macd\",\"macd\",\"macd\",\"macd\",\"macd\",\"macd\",\"macd\",\"macd\",\"macd\",\"macd\",\"macd\",\"macd\",\"macd\",\"macd\",\"macd\",\"macd\",\"macd\",\"macd\",\"macd\",\"macd\",\"macd\",\"macd\",\"macd\",\"macd\",\"macd\",\"macd\",\"macd\",\"macd\",\"macd\",\"macd\",\"macd\",\"macd\",\"macd\",\"macd\",\"macd\",\"macd\",\"macd\",\"macd\",\"macd\",\"macd\",\"macd\",\"macd\",\"macd\",\"macd\",\"macd\",\"macd\",\"macd\",\"macd\",\"macd\",\"macd\",\"macd\",\"macd\",\"macd\",\"macd\",\"macd\",\"macd\",\"macd\",\"macd\",\"macd\",\"macd\",\"macd\",\"macd\",\"macd\",\"macd\",\"macd\",\"macd\",\"macd\",\"macd\",\"macd\",\"macd\",\"macd\",\"macd\",\"macd\",\"macd\",\"macd\",\"macd\",\"macd\",\"macd\",\"macd\",\"macd\",\"macd\",\"macd\",\"macd\",\"macd\",\"macd\",\"macd\",\"macd\",\"macd\",\"macd\",\"macd\",\"macd\",\"macd\",\"macd\",\"macd\",\"macd\",\"macd\",\"macd\",\"macd\",\"macd\",\"macd\",\"macd\",\"macd\",\"macd\",\"macd\",\"macd\",\"macd\",\"macd\",\"macd\",\"macd\",\"macd\",\"macd\",\"macd\",\"macd\",\"macd\",\"macd\",\"macd\",\"macd\",\"macd\",\"macd\",\"macd\",\"macd\",\"macd\",\"macd\",\"macd\",\"macd\",\"macd\",\"macd\",\"macd\",\"macd\",\"macd\",\"macd\",\"macd\",\"macd\",\"macd\",\"macd\",\"macd\",\"macd\",\"macd\",\"macd\",\"macd\",\"macd\",\"macd\",\"macd\",\"macd\",\"macd\",\"macd\",\"macd\",\"macd\",\"macd\",\"macd\",\"macd\",\"macd\",\"macd\",\"macd\",\"macd\",\"macd\",\"macd\",\"macd\",\"macd\",\"macd\",\"macd\",\"macd\",\"macd\",\"macd\",\"macd\",\"macd\",\"macd\",\"macd\",\"macd\",\"macd\",\"macd\",\"macd\",\"macd\",\"macd\",\"macd\",\"macd\",\"macd\",\"macd\",\"macd\",\"macd\",\"macd\",\"macd\",\"macd\",\"macd\",\"macd\",\"macd\",\"macd\",\"macd\",\"macd\",\"macd\",\"macd\",\"macd\",\"macd\",\"macd\",\"macd\",\"macd\",\"macd\",\"macd\",\"macd\",\"macd\",\"macd\",\"macd\",\"macd\",\"macd\",\"macd\",\"macd\",\"macd\",\"macd\",\"macd\",\"macd\",\"macd\",\"macd\",\"macd\",\"macd\",\"macd\",\"macd\",\"macd\",\"macd\",\"macd\",\"macd\",\"macd\",\"macd\",\"macd\",\"macd\",\"macd\",\"macd\",\"macd\",\"macd\",\"macd\",\"macd\",\"macd\",\"macd\",\"macd\",\"macd\",\"macd\",\"macd\",\"macd\",\"macd\",\"macd\",\"macd\",\"macd\",\"macd\",\"macd\",\"macd\",\"macd\",\"macd\",\"macd\",\"macd\",\"macd\",\"macd\",\"macd\",\"macd\",\"macd\",\"macd\",\"macd\",\"macd\",\"macd\",\"macd\",\"macd\",\"macd\",\"macd\",\"macd\",\"macd\",\"macd\",\"macd\",\"macd\",\"macd\",\"macd\",\"macd\",\"macd\",\"macd\",\"macd\",\"macd\",\"macd\",\"macd\",\"macd\",\"macd\",\"macd\",\"macd\",\"macd\",\"macd\",\"macd\",\"macd\",\"macd\",\"macd\",\"macd\",\"macd\",\"macd\",\"macd\",\"macd\",\"macd\",\"macd\",\"macd\",\"macd\",\"macd\",\"macd\",\"macd\",\"macd\",\"macd\",\"macd\",\"macd\",\"macd\",\"macd\",\"macd\",\"macd\",\"macd\",\"macd\",\"macd\",\"macd\",\"macd\",\"macd\",\"macd\",\"macd\",\"macd\",\"macd\",\"macd\",\"macd\",\"macd\",\"macd\",\"macd\",\"macd\",\"macd\",\"macd\",\"macd\",\"macd\",\"macd\",\"macd\",\"macd\",\"macd\",\"macd\",\"macd\",\"macd\",\"macd\",\"macd\",\"macd\",\"macd\",\"macd\",\"macd\",\"macd\",\"macd\",\"macd\",\"macd\",\"macd\",\"macd\",\"macd\",\"macd\",\"macd\",\"macd\",\"macd\",\"macd\",\"macd\",\"macd\",\"macd\",\"macd\",\"macd\",\"macd\",\"macd\",\"macd\",\"macd\",\"macd\",\"macd\",\"macd\",\"macd\",\"macd\",\"macd\",\"macd\",\"macd\",\"macd\",\"macd\",\"macd\",\"macd\",\"macd\",\"macd\",\"macd\",\"macd\",\"macd\",\"macd\",\"macd\",\"macd\",\"macd\",\"macd\",\"macd\",\"macd\",\"macd\",\"macd\",\"macd\",\"macd\",\"macd\",\"macd\",\"macd\",\"macd\",\"macd\",\"macd\",\"macd\",\"macd\",\"macd\",\"macd\",\"macd\",\"macd\",\"macd\",\"macd\",\"macd\",\"macd\",\"macd\",\"macd\",\"macd\",\"macd\",\"macd\",\"macd\",\"macd\",\"macd\",\"macd\",\"macd\",\"macd\",\"macd\",\"macd\",\"macd\",\"macd\",\"macd\",\"macd\",\"macd\",\"macd\",\"macd\",\"macd\",\"macd\",\"macd\",\"macd\",\"macd\",\"macd\",\"macd\",\"macd\",\"macd\",\"macd\",\"macd\",\"macd\",\"macd\",\"macd\",\"macd\",\"macd\",\"macd\",\"macd\",\"macd\",\"macd\",\"macd\",\"macd\",\"macd\",\"macd\",\"macd\",\"macd\",\"macd\",\"macd\",\"macd\",\"macd\",\"macd\",\"macd\",\"macd\",\"macd\",\"macd\",\"macd\",\"macd\",\"macd\",\"macd\",\"macd\",\"macd\",\"macd\",\"macd\",\"macd\",\"macd\",\"macd\",\"macd\",\"macd\",\"macd\",\"macd\",\"macd\",\"macd\",\"macd\",\"macd\",\"macd\",\"macd\",\"macd\",\"macd\",\"macd\",\"macd\",\"macd\",\"macd\",\"macd\",\"macd\",\"macd\",\"macd\",\"macd\",\"macd\",\"macd\",\"macd\",\"macd\",\"macd\",\"macd\",\"macd\",\"macd\",\"macd\",\"macd\",\"macd\",\"macd\",\"macd\",\"macd\",\"macd\",\"macd\",\"macd\",\"macd\",\"macd\",\"macd\",\"macd\",\"macd\",\"macd\",\"macd\",\"macd\",\"macd\",\"macd\",\"macd\",\"macd\",\"macd\",\"macd\",\"macd\",\"macd\",\"macd\",\"macd\",\"macd\",\"macd\",\"macd\",\"macd\",\"macd\",\"macd\",\"macd\",\"macd\",\"macd\",\"macd\",\"macd\",\"macd\",\"macd\",\"macd\",\"macd\",\"macd\",\"macd\",\"macd\",\"macd\",\"macd\",\"macd\",\"macd\",\"macd\",\"macd\",\"macd\",\"macd\",\"macd\",\"macd\",\"macd\",\"macd\",\"macd\",\"macd\",\"macd\",\"macd\",\"macd\",\"macd\",\"macd\",\"macd\",\"macd\",\"macd\",\"macd\",\"macd\",\"macd\",\"macd\",\"macd\",\"macd\",\"macd\",\"macd\",\"macd\",\"macd\",\"macd\",\"macd\",\"macd\",\"macd\",\"macd\",\"macd\",\"macd\",\"macd\",\"macd\",\"macd\",\"macd\",\"macd\",\"macd\",\"macd\",\"macd\",\"macd\",\"macd\",\"macd\",\"macd\",\"macd\",\"macd\",\"macd\",\"macd\",\"macd\",\"macd\",\"macd\",\"macd\",\"macd\",\"macd\",\"macd\",\"macd\",\"macd\",\"macd\",\"macd\",\"macd\",\"macd\",\"macd\",\"macd\",\"macd\",\"macd\",\"macd\",\"macd\",\"macd\",\"macd\",\"macd\",\"macd\",\"macd\",\"macd\",\"macd\",\"macd\",\"macd\",\"macd\",\"macd\",\"macd\",\"macd\",\"macd\",\"macd\",\"macd\",\"macd\",\"macd\",\"macd\",\"macd\",\"macd\",\"macd\",\"macd\",\"macd\",\"macd\",\"macd\",\"macd\",\"macd\",\"macd\",\"macd\",\"macd\",\"macd\",\"macd\",\"macd\",\"macd\",\"macd\",\"macd\",\"macd\",\"macd\",\"macd\",\"macd\",\"macd\",\"macd\",\"macd\",\"macd\",\"macd\",\"macd\",\"macd\",\"macd\",\"macd\",\"macd\",\"macd\",\"macd\",\"macd\",\"macd\",\"macd\",\"macd\",\"macd\",\"macd\",\"macd\",\"macd\",\"macd\",\"macd\",\"macd\",\"macd\",\"macd\",\"macd\",\"macd\",\"macd\",\"macd\",\"macd\",\"macd\",\"macd\",\"macd\",\"macd\",\"macd\",\"macd\",\"macd\",\"macd\",\"macd\",\"macd\",\"macd\",\"macd\",\"macd\",\"macd\",\"macd\",\"macd\",\"macd\",\"macd\",\"macd\",\"macd\",\"macd\",\"macd\",\"macd\",\"macd\",\"macd\",\"macd\",\"macd\",\"macd\",\"macd\",\"macd\",\"macd\",\"macd\",\"macd\",\"macd\",\"macd\",\"macd\",\"macd\",\"macd\",\"macd\",\"macd\",\"macd\",\"macd\",\"macd\",\"macd\",\"macd\",\"macd\",\"macd\",\"macd\",\"macd\",\"macd\",\"macd\",\"macd\",\"macd\",\"macd\",\"macd\",\"macd\",\"macd\",\"macd\",\"macd\",\"macd\",\"macd\",\"macd\",\"macd\",\"macd\",\"macd\",\"macd\",\"macd\",\"macd\",\"macd\",\"macd\",\"macd\",\"macd\",\"macd\",\"macd\",\"macd\",\"macd\",\"macd\",\"macd\",\"macd\",\"macd\",\"macd\",\"macd\",\"macd\",\"macd\",\"macd\",\"macd\",\"macd\",\"macd\",\"macd\",\"macd\",\"macd\",\"macd\",\"macd\",\"macd\",\"macd\",\"macd\",\"macd\",\"macd\",\"macd\",\"macd\",\"macd\",\"macd\",\"macd\",\"macd\",\"macd\",\"macd\",\"macd\",\"macd\",\"macd\",\"macd\",\"macd\",\"macd\",\"macd\",\"macd\",\"macd\",\"macd\",\"macd\",\"macd\",\"macd\",\"macd\",\"macd\",\"macd\",\"macd\",\"macd\",\"macd\",\"macd\",\"macd\",\"macd\",\"macd\",\"macd\",\"macd\",\"macd\",\"macd\",\"macd\",\"macd\",\"macd\",\"macd\",\"macd\",\"macd\",\"macd\",\"macd\",\"macd\",\"macd\",\"macd\",\"macd\",\"macd\",\"macd\",\"macd\",\"macd\",\"macd\",\"macd\",\"macd\",\"macd\",\"macd\",\"macd\",\"macd\",\"macd\",\"macd\",\"macd\",\"macd\",\"macd\",\"macd\",\"macd\",\"macd\",\"macd\",\"macd\",\"macd\",\"macd\",\"macd\",\"macd\",\"macd\",\"macd\",\"macd\",\"macd\",\"macd\",\"macd\",\"macd\",\"macd\",\"macd\",\"macd\",\"macd\",\"macd\",\"macd\",\"macd\",\"macd\",\"macd\",\"macd\",\"macd\"],\"value\":{\"__ndarray__\":\"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\",\"dtype\":\"float64\",\"order\":\"little\",\"shape\":[1260]}},\"selected\":{\"id\":\"6901\"},\"selection_policy\":{\"id\":\"6915\"}},\"id\":\"6900\",\"type\":\"ColumnDataSource\"},{\"attributes\":{\"line_alpha\":0.2,\"line_color\":\"#fc4f30\",\"line_width\":2,\"x\":{\"field\":\"Date\"},\"y\":{\"field\":\"value\"}},\"id\":\"6938\",\"type\":\"Line\"}],\"root_ids\":[\"6858\"]},\"title\":\"Bokeh Application\",\"version\":\"2.4.1\"}};\n",
       "    var render_items = [{\"docid\":\"f7fdf49a-01a2-43e3-badc-2c74691b8e4d\",\"root_ids\":[\"6858\"],\"roots\":{\"6858\":\"5ee86fca-b8d3-4962-b236-a22b6a705522\"}}];\n",
       "    root.Bokeh.embed.embed_items_notebook(docs_json, render_items);\n",
       "  }\n",
       "  if (root.Bokeh !== undefined && root.Bokeh.Panel !== undefined) {\n",
       "    embed_document(root);\n",
       "  } else {\n",
       "    var attempts = 0;\n",
       "    var timer = setInterval(function(root) {\n",
       "      if (root.Bokeh !== undefined && root.Bokeh.Panel !== undefined) {\n",
       "        clearInterval(timer);\n",
       "        embed_document(root);\n",
       "      } else if (document.readyState == \"complete\") {\n",
       "        attempts++;\n",
       "        if (attempts > 200) {\n",
       "          clearInterval(timer);\n",
       "          console.log(\"Bokeh: ERROR: Unable to run BokehJS code because BokehJS library is missing\");\n",
       "        }\n",
       "      }\n",
       "    }, 25, root)\n",
       "  }\n",
       "})(window);</script>"
      ],
      "text/plain": [
       ":NdOverlay   [Variable]\n",
       "   :Curve   [Date]   (value)"
      ]
     },
     "execution_count": 341,
     "metadata": {
      "application/vnd.holoviews_exec.v0+json": {
       "id": "6858"
      }
     },
     "output_type": "execute_result"
    }
   ],
   "source": [
    "goog_df.hvplot.line(y=['macd', 'exp3'])"
   ]
  },
  {
   "cell_type": "code",
   "execution_count": 342,
   "id": "13ad7515-2d73-4f80-a6a7-11618892bf08",
   "metadata": {},
   "outputs": [],
   "source": [
    "goog_df[\"Actual Returns\"] = goog_df[\"Close\"].pct_change()"
   ]
  },
  {
   "cell_type": "code",
   "execution_count": 343,
   "id": "f8e0546a-157f-4081-8751-6f947ee9c6ef",
   "metadata": {},
   "outputs": [
    {
     "data": {
      "text/html": [
       "<div>\n",
       "<style scoped>\n",
       "    .dataframe tbody tr th:only-of-type {\n",
       "        vertical-align: middle;\n",
       "    }\n",
       "\n",
       "    .dataframe tbody tr th {\n",
       "        vertical-align: top;\n",
       "    }\n",
       "\n",
       "    .dataframe thead th {\n",
       "        text-align: right;\n",
       "    }\n",
       "</style>\n",
       "<table border=\"1\" class=\"dataframe\">\n",
       "  <thead>\n",
       "    <tr style=\"text-align: right;\">\n",
       "      <th></th>\n",
       "      <th>Open</th>\n",
       "      <th>High</th>\n",
       "      <th>Low</th>\n",
       "      <th>Close</th>\n",
       "      <th>Adj Close</th>\n",
       "      <th>Volume</th>\n",
       "      <th>macd</th>\n",
       "      <th>exp3</th>\n",
       "      <th>Actual Returns</th>\n",
       "      <th>Signal</th>\n",
       "    </tr>\n",
       "    <tr>\n",
       "      <th>Date</th>\n",
       "      <th></th>\n",
       "      <th></th>\n",
       "      <th></th>\n",
       "      <th></th>\n",
       "      <th></th>\n",
       "      <th></th>\n",
       "      <th></th>\n",
       "      <th></th>\n",
       "      <th></th>\n",
       "      <th></th>\n",
       "    </tr>\n",
       "  </thead>\n",
       "  <tbody>\n",
       "    <tr>\n",
       "      <th>2017-03-17</th>\n",
       "      <td>851.609985</td>\n",
       "      <td>853.400024</td>\n",
       "      <td>847.109985</td>\n",
       "      <td>852.119995</td>\n",
       "      <td>852.119995</td>\n",
       "      <td>1712300</td>\n",
       "      <td>0.266436</td>\n",
       "      <td>0.053287</td>\n",
       "      <td>0.003935</td>\n",
       "      <td>1.0</td>\n",
       "    </tr>\n",
       "    <tr>\n",
       "      <th>2017-03-20</th>\n",
       "      <td>850.010010</td>\n",
       "      <td>850.219971</td>\n",
       "      <td>845.150024</td>\n",
       "      <td>848.400024</td>\n",
       "      <td>848.400024</td>\n",
       "      <td>1231500</td>\n",
       "      <td>0.175396</td>\n",
       "      <td>0.077709</td>\n",
       "      <td>-0.004366</td>\n",
       "      <td>-1.0</td>\n",
       "    </tr>\n",
       "    <tr>\n",
       "      <th>2017-03-21</th>\n",
       "      <td>851.400024</td>\n",
       "      <td>853.500000</td>\n",
       "      <td>829.020020</td>\n",
       "      <td>830.460022</td>\n",
       "      <td>830.460022</td>\n",
       "      <td>2463500</td>\n",
       "      <td>-1.329042</td>\n",
       "      <td>-0.203641</td>\n",
       "      <td>-0.021146</td>\n",
       "      <td>-1.0</td>\n",
       "    </tr>\n",
       "    <tr>\n",
       "      <th>2017-03-22</th>\n",
       "      <td>831.909973</td>\n",
       "      <td>835.549988</td>\n",
       "      <td>827.179993</td>\n",
       "      <td>829.590027</td>\n",
       "      <td>829.590027</td>\n",
       "      <td>1401500</td>\n",
       "      <td>-2.561988</td>\n",
       "      <td>-0.675310</td>\n",
       "      <td>-0.001048</td>\n",
       "      <td>-1.0</td>\n",
       "    </tr>\n",
       "    <tr>\n",
       "      <th>2017-03-23</th>\n",
       "      <td>821.000000</td>\n",
       "      <td>822.570007</td>\n",
       "      <td>812.257019</td>\n",
       "      <td>817.580017</td>\n",
       "      <td>817.580017</td>\n",
       "      <td>3487100</td>\n",
       "      <td>-4.456838</td>\n",
       "      <td>-1.431616</td>\n",
       "      <td>-0.014477</td>\n",
       "      <td>-1.0</td>\n",
       "    </tr>\n",
       "  </tbody>\n",
       "</table>\n",
       "</div>"
      ],
      "text/plain": [
       "                  Open        High         Low       Close   Adj Close  \\\n",
       "Date                                                                     \n",
       "2017-03-17  851.609985  853.400024  847.109985  852.119995  852.119995   \n",
       "2017-03-20  850.010010  850.219971  845.150024  848.400024  848.400024   \n",
       "2017-03-21  851.400024  853.500000  829.020020  830.460022  830.460022   \n",
       "2017-03-22  831.909973  835.549988  827.179993  829.590027  829.590027   \n",
       "2017-03-23  821.000000  822.570007  812.257019  817.580017  817.580017   \n",
       "\n",
       "             Volume      macd      exp3  Actual Returns  Signal  \n",
       "Date                                                             \n",
       "2017-03-17  1712300  0.266436  0.053287        0.003935     1.0  \n",
       "2017-03-20  1231500  0.175396  0.077709       -0.004366    -1.0  \n",
       "2017-03-21  2463500 -1.329042 -0.203641       -0.021146    -1.0  \n",
       "2017-03-22  1401500 -2.561988 -0.675310       -0.001048    -1.0  \n",
       "2017-03-23  3487100 -4.456838 -1.431616       -0.014477    -1.0  "
      ]
     },
     "metadata": {},
     "output_type": "display_data"
    },
    {
     "data": {
      "text/html": [
       "<div>\n",
       "<style scoped>\n",
       "    .dataframe tbody tr th:only-of-type {\n",
       "        vertical-align: middle;\n",
       "    }\n",
       "\n",
       "    .dataframe tbody tr th {\n",
       "        vertical-align: top;\n",
       "    }\n",
       "\n",
       "    .dataframe thead th {\n",
       "        text-align: right;\n",
       "    }\n",
       "</style>\n",
       "<table border=\"1\" class=\"dataframe\">\n",
       "  <thead>\n",
       "    <tr style=\"text-align: right;\">\n",
       "      <th></th>\n",
       "      <th>Open</th>\n",
       "      <th>High</th>\n",
       "      <th>Low</th>\n",
       "      <th>Close</th>\n",
       "      <th>Adj Close</th>\n",
       "      <th>Volume</th>\n",
       "      <th>macd</th>\n",
       "      <th>exp3</th>\n",
       "      <th>Actual Returns</th>\n",
       "      <th>Signal</th>\n",
       "    </tr>\n",
       "    <tr>\n",
       "      <th>Date</th>\n",
       "      <th></th>\n",
       "      <th></th>\n",
       "      <th></th>\n",
       "      <th></th>\n",
       "      <th></th>\n",
       "      <th></th>\n",
       "      <th></th>\n",
       "      <th></th>\n",
       "      <th></th>\n",
       "      <th></th>\n",
       "    </tr>\n",
       "  </thead>\n",
       "  <tbody>\n",
       "    <tr>\n",
       "      <th>2022-03-10</th>\n",
       "      <td>2629.250000</td>\n",
       "      <td>2670.770020</td>\n",
       "      <td>2628.020020</td>\n",
       "      <td>2653.639893</td>\n",
       "      <td>2653.639893</td>\n",
       "      <td>1213300</td>\n",
       "      <td>-31.123714</td>\n",
       "      <td>-31.849788</td>\n",
       "      <td>-0.008845</td>\n",
       "      <td>-1.0</td>\n",
       "    </tr>\n",
       "    <tr>\n",
       "      <th>2022-03-11</th>\n",
       "      <td>2679.989990</td>\n",
       "      <td>2684.000000</td>\n",
       "      <td>2605.929932</td>\n",
       "      <td>2609.510010</td>\n",
       "      <td>2609.510010</td>\n",
       "      <td>1328500</td>\n",
       "      <td>-31.604403</td>\n",
       "      <td>-31.800711</td>\n",
       "      <td>-0.016630</td>\n",
       "      <td>-1.0</td>\n",
       "    </tr>\n",
       "    <tr>\n",
       "      <th>2022-03-14</th>\n",
       "      <td>2611.459961</td>\n",
       "      <td>2620.520020</td>\n",
       "      <td>2528.260010</td>\n",
       "      <td>2534.820068</td>\n",
       "      <td>2534.820068</td>\n",
       "      <td>1512700</td>\n",
       "      <td>-37.579019</td>\n",
       "      <td>-32.956373</td>\n",
       "      <td>-0.028622</td>\n",
       "      <td>-1.0</td>\n",
       "    </tr>\n",
       "    <tr>\n",
       "      <th>2022-03-15</th>\n",
       "      <td>2554.830078</td>\n",
       "      <td>2610.344971</td>\n",
       "      <td>2531.360107</td>\n",
       "      <td>2593.209961</td>\n",
       "      <td>2593.209961</td>\n",
       "      <td>1513700</td>\n",
       "      <td>-37.173852</td>\n",
       "      <td>-33.799869</td>\n",
       "      <td>0.023035</td>\n",
       "      <td>1.0</td>\n",
       "    </tr>\n",
       "    <tr>\n",
       "      <th>2022-03-15</th>\n",
       "      <td>2554.830078</td>\n",
       "      <td>2610.344971</td>\n",
       "      <td>2531.360107</td>\n",
       "      <td>2593.209961</td>\n",
       "      <td>2593.209961</td>\n",
       "      <td>1514630</td>\n",
       "      <td>-36.432780</td>\n",
       "      <td>-34.326451</td>\n",
       "      <td>0.000000</td>\n",
       "      <td>1.0</td>\n",
       "    </tr>\n",
       "  </tbody>\n",
       "</table>\n",
       "</div>"
      ],
      "text/plain": [
       "                   Open         High          Low        Close    Adj Close  \\\n",
       "Date                                                                          \n",
       "2022-03-10  2629.250000  2670.770020  2628.020020  2653.639893  2653.639893   \n",
       "2022-03-11  2679.989990  2684.000000  2605.929932  2609.510010  2609.510010   \n",
       "2022-03-14  2611.459961  2620.520020  2528.260010  2534.820068  2534.820068   \n",
       "2022-03-15  2554.830078  2610.344971  2531.360107  2593.209961  2593.209961   \n",
       "2022-03-15  2554.830078  2610.344971  2531.360107  2593.209961  2593.209961   \n",
       "\n",
       "             Volume       macd       exp3  Actual Returns  Signal  \n",
       "Date                                                               \n",
       "2022-03-10  1213300 -31.123714 -31.849788       -0.008845    -1.0  \n",
       "2022-03-11  1328500 -31.604403 -31.800711       -0.016630    -1.0  \n",
       "2022-03-14  1512700 -37.579019 -32.956373       -0.028622    -1.0  \n",
       "2022-03-15  1513700 -37.173852 -33.799869        0.023035     1.0  \n",
       "2022-03-15  1514630 -36.432780 -34.326451        0.000000     1.0  "
      ]
     },
     "metadata": {},
     "output_type": "display_data"
    }
   ],
   "source": [
    "goog_df['Signal'] = 0.0\n",
    "goog_df.loc[(goog_df['Actual Returns'] >= 0), 'Signal'] = 1\n",
    "goog_df.loc[(goog_df['Actual Returns'] < 0), 'Signal'] = -1\n",
    "goog_df = goog_df.dropna()\n",
    "display(goog_df.head())\n",
    "display(goog_df.tail())"
   ]
  },
  {
   "cell_type": "code",
   "execution_count": 344,
   "id": "8360de0e-4bd3-4612-85aa-cd2b83aa50f5",
   "metadata": {},
   "outputs": [
    {
     "data": {
      "text/html": [
       "<div>\n",
       "<style scoped>\n",
       "    .dataframe tbody tr th:only-of-type {\n",
       "        vertical-align: middle;\n",
       "    }\n",
       "\n",
       "    .dataframe tbody tr th {\n",
       "        vertical-align: top;\n",
       "    }\n",
       "\n",
       "    .dataframe thead th {\n",
       "        text-align: right;\n",
       "    }\n",
       "</style>\n",
       "<table border=\"1\" class=\"dataframe\">\n",
       "  <thead>\n",
       "    <tr style=\"text-align: right;\">\n",
       "      <th></th>\n",
       "      <th>macd</th>\n",
       "      <th>exp3</th>\n",
       "    </tr>\n",
       "    <tr>\n",
       "      <th>Date</th>\n",
       "      <th></th>\n",
       "      <th></th>\n",
       "    </tr>\n",
       "  </thead>\n",
       "  <tbody>\n",
       "    <tr>\n",
       "      <th>2017-03-20</th>\n",
       "      <td>0.266436</td>\n",
       "      <td>0.053287</td>\n",
       "    </tr>\n",
       "    <tr>\n",
       "      <th>2017-03-21</th>\n",
       "      <td>0.175396</td>\n",
       "      <td>0.077709</td>\n",
       "    </tr>\n",
       "    <tr>\n",
       "      <th>2017-03-22</th>\n",
       "      <td>-1.329042</td>\n",
       "      <td>-0.203641</td>\n",
       "    </tr>\n",
       "    <tr>\n",
       "      <th>2017-03-23</th>\n",
       "      <td>-2.561988</td>\n",
       "      <td>-0.675310</td>\n",
       "    </tr>\n",
       "    <tr>\n",
       "      <th>2017-03-24</th>\n",
       "      <td>-4.456838</td>\n",
       "      <td>-1.431616</td>\n",
       "    </tr>\n",
       "  </tbody>\n",
       "</table>\n",
       "</div>"
      ],
      "text/plain": [
       "                macd      exp3\n",
       "Date                          \n",
       "2017-03-20  0.266436  0.053287\n",
       "2017-03-21  0.175396  0.077709\n",
       "2017-03-22 -1.329042 -0.203641\n",
       "2017-03-23 -2.561988 -0.675310\n",
       "2017-03-24 -4.456838 -1.431616"
      ]
     },
     "execution_count": 344,
     "metadata": {},
     "output_type": "execute_result"
    }
   ],
   "source": [
    "X = goog_df[['macd', 'exp3']].shift().dropna()\n",
    "X.head()"
   ]
  },
  {
   "cell_type": "code",
   "execution_count": 345,
   "id": "8d7d8212-1cd5-4a9d-b3fd-881fcb57d92e",
   "metadata": {},
   "outputs": [
    {
     "data": {
      "text/plain": [
       " 1.0    693\n",
       "-1.0    566\n",
       "Name: Signal, dtype: int64"
      ]
     },
     "execution_count": 345,
     "metadata": {},
     "output_type": "execute_result"
    }
   ],
   "source": [
    "y = goog_df['Signal']\n",
    "y.value_counts()"
   ]
  },
  {
   "cell_type": "code",
   "execution_count": 346,
   "id": "797fa4fa-06df-4237-9f40-f8cd29278bce",
   "metadata": {},
   "outputs": [
    {
     "name": "stdout",
     "output_type": "stream",
     "text": [
      "2017-03-20 00:00:00\n"
     ]
    }
   ],
   "source": [
    "training_begin = X.index.min()\n",
    "print(training_begin)"
   ]
  },
  {
   "cell_type": "code",
   "execution_count": 347,
   "id": "22cba522-5294-42c2-a63f-754f0e7462c1",
   "metadata": {},
   "outputs": [
    {
     "name": "stdout",
     "output_type": "stream",
     "text": [
      "2017-06-20 00:00:00\n"
     ]
    }
   ],
   "source": [
    "training_end = X.index.min() + DateOffset(months=3)\n",
    "print(training_end)"
   ]
  },
  {
   "cell_type": "code",
   "execution_count": 348,
   "id": "dfbc3932-29ec-46f5-92b5-90a57a6f68d9",
   "metadata": {},
   "outputs": [
    {
     "data": {
      "text/html": [
       "<div>\n",
       "<style scoped>\n",
       "    .dataframe tbody tr th:only-of-type {\n",
       "        vertical-align: middle;\n",
       "    }\n",
       "\n",
       "    .dataframe tbody tr th {\n",
       "        vertical-align: top;\n",
       "    }\n",
       "\n",
       "    .dataframe thead th {\n",
       "        text-align: right;\n",
       "    }\n",
       "</style>\n",
       "<table border=\"1\" class=\"dataframe\">\n",
       "  <thead>\n",
       "    <tr style=\"text-align: right;\">\n",
       "      <th></th>\n",
       "      <th>macd</th>\n",
       "      <th>exp3</th>\n",
       "    </tr>\n",
       "    <tr>\n",
       "      <th>Date</th>\n",
       "      <th></th>\n",
       "      <th></th>\n",
       "    </tr>\n",
       "  </thead>\n",
       "  <tbody>\n",
       "    <tr>\n",
       "      <th>2017-03-20</th>\n",
       "      <td>0.266436</td>\n",
       "      <td>0.053287</td>\n",
       "    </tr>\n",
       "    <tr>\n",
       "      <th>2017-03-21</th>\n",
       "      <td>0.175396</td>\n",
       "      <td>0.077709</td>\n",
       "    </tr>\n",
       "    <tr>\n",
       "      <th>2017-03-22</th>\n",
       "      <td>-1.329042</td>\n",
       "      <td>-0.203641</td>\n",
       "    </tr>\n",
       "    <tr>\n",
       "      <th>2017-03-23</th>\n",
       "      <td>-2.561988</td>\n",
       "      <td>-0.675310</td>\n",
       "    </tr>\n",
       "    <tr>\n",
       "      <th>2017-03-24</th>\n",
       "      <td>-4.456838</td>\n",
       "      <td>-1.431616</td>\n",
       "    </tr>\n",
       "  </tbody>\n",
       "</table>\n",
       "</div>"
      ],
      "text/plain": [
       "                macd      exp3\n",
       "Date                          \n",
       "2017-03-20  0.266436  0.053287\n",
       "2017-03-21  0.175396  0.077709\n",
       "2017-03-22 -1.329042 -0.203641\n",
       "2017-03-23 -2.561988 -0.675310\n",
       "2017-03-24 -4.456838 -1.431616"
      ]
     },
     "execution_count": 348,
     "metadata": {},
     "output_type": "execute_result"
    }
   ],
   "source": [
    "X_train = X.loc[training_begin:training_end]\n",
    "y_train = y.loc[training_begin:training_end]\n",
    "X_train.head()"
   ]
  },
  {
   "cell_type": "code",
   "execution_count": 349,
   "id": "30cb0b95-1d65-4355-b156-1f375d7667d3",
   "metadata": {},
   "outputs": [
    {
     "data": {
      "text/html": [
       "<div>\n",
       "<style scoped>\n",
       "    .dataframe tbody tr th:only-of-type {\n",
       "        vertical-align: middle;\n",
       "    }\n",
       "\n",
       "    .dataframe tbody tr th {\n",
       "        vertical-align: top;\n",
       "    }\n",
       "\n",
       "    .dataframe thead th {\n",
       "        text-align: right;\n",
       "    }\n",
       "</style>\n",
       "<table border=\"1\" class=\"dataframe\">\n",
       "  <thead>\n",
       "    <tr style=\"text-align: right;\">\n",
       "      <th></th>\n",
       "      <th>macd</th>\n",
       "      <th>exp3</th>\n",
       "    </tr>\n",
       "    <tr>\n",
       "      <th>Date</th>\n",
       "      <th></th>\n",
       "      <th></th>\n",
       "    </tr>\n",
       "  </thead>\n",
       "  <tbody>\n",
       "    <tr>\n",
       "      <th>2017-06-21</th>\n",
       "      <td>6.363105</td>\n",
       "      <td>11.642294</td>\n",
       "    </tr>\n",
       "    <tr>\n",
       "      <th>2017-06-22</th>\n",
       "      <td>6.316986</td>\n",
       "      <td>10.577233</td>\n",
       "    </tr>\n",
       "    <tr>\n",
       "      <th>2017-06-23</th>\n",
       "      <td>6.020603</td>\n",
       "      <td>9.665907</td>\n",
       "    </tr>\n",
       "    <tr>\n",
       "      <th>2017-06-26</th>\n",
       "      <td>6.397846</td>\n",
       "      <td>9.012294</td>\n",
       "    </tr>\n",
       "    <tr>\n",
       "      <th>2017-06-27</th>\n",
       "      <td>5.557932</td>\n",
       "      <td>8.321422</td>\n",
       "    </tr>\n",
       "  </tbody>\n",
       "</table>\n",
       "</div>"
      ],
      "text/plain": [
       "                macd       exp3\n",
       "Date                           \n",
       "2017-06-21  6.363105  11.642294\n",
       "2017-06-22  6.316986  10.577233\n",
       "2017-06-23  6.020603   9.665907\n",
       "2017-06-26  6.397846   9.012294\n",
       "2017-06-27  5.557932   8.321422"
      ]
     },
     "execution_count": 349,
     "metadata": {},
     "output_type": "execute_result"
    }
   ],
   "source": [
    "X_test = X.loc[training_end + DateOffset(hours=1):]\n",
    "y_test = y.loc[training_end + DateOffset(hours=1):]\n",
    "X_test.head()"
   ]
  },
  {
   "cell_type": "code",
   "execution_count": 350,
   "id": "a12938c9-0aa0-467b-9e66-b391e7b56aa3",
   "metadata": {},
   "outputs": [],
   "source": [
    "scaler = StandardScaler()\n",
    "X_scaler = scaler.fit(X_train)\n",
    "X_train_scaled = X_scaler.transform(X_train)\n",
    "X_test_scaled = X_scaler.transform(X_test)"
   ]
  },
  {
   "cell_type": "code",
   "execution_count": 351,
   "id": "111f5edc-f72a-4335-bc0d-73970085a33d",
   "metadata": {},
   "outputs": [
    {
     "data": {
      "text/plain": [
       "array([1., 1., 1., 1., 1., 1., 1., 1., 1., 1., 1., 1., 1., 1., 1., 1., 1.,\n",
       "       1., 1., 1., 1., 1., 1., 1., 1., 1., 1., 1., 1., 1., 1., 1., 1., 1.,\n",
       "       1., 1., 1., 1., 1., 1., 1., 1., 1., 1., 1., 1., 1., 1., 1., 1., 1.,\n",
       "       1., 1., 1., 1., 1., 1., 1., 1., 1., 1., 1., 1., 1., 1.])"
      ]
     },
     "execution_count": 351,
     "metadata": {},
     "output_type": "execute_result"
    }
   ],
   "source": [
    "svm_model = svm.SVC()\n",
    "svm_model = svm_model.fit(X_train_scaled, y_train)\n",
    "svm_pred_training = svm_model.predict(X_train_scaled)\n",
    "svm_pred_training"
   ]
  },
  {
   "cell_type": "code",
   "execution_count": 352,
   "id": "6d5a5316-4480-4c23-a427-b263ddf6aecc",
   "metadata": {},
   "outputs": [
    {
     "name": "stdout",
     "output_type": "stream",
     "text": [
      "              precision    recall  f1-score   support\n",
      "\n",
      "        -1.0       0.00      0.00      0.00        26\n",
      "         1.0       0.60      1.00      0.75        39\n",
      "\n",
      "    accuracy                           0.60        65\n",
      "   macro avg       0.30      0.50      0.37        65\n",
      "weighted avg       0.36      0.60      0.45        65\n",
      "\n"
     ]
    },
    {
     "name": "stderr",
     "output_type": "stream",
     "text": [
      "/Applications/anaconda3/envs/dev/lib/python3.9/site-packages/sklearn/metrics/_classification.py:1308: UndefinedMetricWarning: Precision and F-score are ill-defined and being set to 0.0 in labels with no predicted samples. Use `zero_division` parameter to control this behavior.\n",
      "  _warn_prf(average, modifier, msg_start, len(result))\n",
      "/Applications/anaconda3/envs/dev/lib/python3.9/site-packages/sklearn/metrics/_classification.py:1308: UndefinedMetricWarning: Precision and F-score are ill-defined and being set to 0.0 in labels with no predicted samples. Use `zero_division` parameter to control this behavior.\n",
      "  _warn_prf(average, modifier, msg_start, len(result))\n",
      "/Applications/anaconda3/envs/dev/lib/python3.9/site-packages/sklearn/metrics/_classification.py:1308: UndefinedMetricWarning: Precision and F-score are ill-defined and being set to 0.0 in labels with no predicted samples. Use `zero_division` parameter to control this behavior.\n",
      "  _warn_prf(average, modifier, msg_start, len(result))\n"
     ]
    }
   ],
   "source": [
    "svm_training_report = classification_report(y_train, svm_pred_training)\n",
    "print(svm_training_report)"
   ]
  },
  {
   "cell_type": "code",
   "execution_count": 353,
   "id": "45e98539-b5c2-4d95-8e6b-363c58fad4b0",
   "metadata": {},
   "outputs": [
    {
     "name": "stdout",
     "output_type": "stream",
     "text": [
      "              precision    recall  f1-score   support\n",
      "\n",
      "        -1.0       0.38      0.01      0.02       540\n",
      "         1.0       0.55      0.98      0.70       653\n",
      "\n",
      "    accuracy                           0.54      1193\n",
      "   macro avg       0.46      0.50      0.36      1193\n",
      "weighted avg       0.47      0.54      0.39      1193\n",
      "\n"
     ]
    }
   ],
   "source": [
    "svm_pred_testing = svm_model.predict(X_test_scaled)\n",
    "svm_testing_report = classification_report(y_test, svm_pred_testing)\n",
    "print(svm_testing_report)"
   ]
  },
  {
   "cell_type": "code",
   "execution_count": 354,
   "id": "7f291c48-6676-4df0-b3a8-bf7a211f175a",
   "metadata": {},
   "outputs": [
    {
     "data": {
      "text/plain": [
       "False"
      ]
     },
     "execution_count": 354,
     "metadata": {},
     "output_type": "execute_result"
    }
   ],
   "source": [
    "goog_df.index.is_unique"
   ]
  },
  {
   "cell_type": "code",
   "execution_count": 355,
   "id": "8c51bb78-2622-4dea-ac41-708dbf865bb6",
   "metadata": {},
   "outputs": [
    {
     "data": {
      "text/plain": [
       "array([False, False, False, ..., False, False,  True])"
      ]
     },
     "execution_count": 355,
     "metadata": {},
     "output_type": "execute_result"
    }
   ],
   "source": [
    "goog_df.index.duplicated()"
   ]
  },
  {
   "cell_type": "code",
   "execution_count": 356,
   "id": "a0a8d7bf-b3c4-420f-9703-6431895bbf11",
   "metadata": {},
   "outputs": [],
   "source": [
    "goog_df = goog_df.loc[~goog_df.index.duplicated(), :]"
   ]
  },
  {
   "cell_type": "code",
   "execution_count": 357,
   "id": "a9060c75-edcd-4ef3-8840-3b811fa9a929",
   "metadata": {},
   "outputs": [
    {
     "data": {
      "text/plain": [
       "False"
      ]
     },
     "execution_count": 357,
     "metadata": {},
     "output_type": "execute_result"
    }
   ],
   "source": [
    "predictions_df = pd.DataFrame(index = X_test.index)\n",
    "predictions_df['Predicted'] = svm_pred_testing\n",
    "predictions_df.index.is_unique"
   ]
  },
  {
   "cell_type": "code",
   "execution_count": 358,
   "id": "676ade90-74d0-4afa-9df1-b0dd4cc80873",
   "metadata": {},
   "outputs": [
    {
     "data": {
      "text/plain": [
       "array([False, False, False, ..., False, False,  True])"
      ]
     },
     "execution_count": 358,
     "metadata": {},
     "output_type": "execute_result"
    }
   ],
   "source": [
    "predictions_df.index.duplicated()"
   ]
  },
  {
   "cell_type": "code",
   "execution_count": 359,
   "id": "00bfe27b-edb1-4ada-a8f4-68e97c9ab736",
   "metadata": {},
   "outputs": [],
   "source": [
    "predictions_df = predictions_df.loc[~predictions_df.index.duplicated(), :]"
   ]
  },
  {
   "cell_type": "code",
   "execution_count": 360,
   "id": "3dd2e148-bdbd-4c71-807b-f6e50cda48d0",
   "metadata": {},
   "outputs": [
    {
     "data": {
      "text/html": [
       "<div>\n",
       "<style scoped>\n",
       "    .dataframe tbody tr th:only-of-type {\n",
       "        vertical-align: middle;\n",
       "    }\n",
       "\n",
       "    .dataframe tbody tr th {\n",
       "        vertical-align: top;\n",
       "    }\n",
       "\n",
       "    .dataframe thead th {\n",
       "        text-align: right;\n",
       "    }\n",
       "</style>\n",
       "<table border=\"1\" class=\"dataframe\">\n",
       "  <thead>\n",
       "    <tr style=\"text-align: right;\">\n",
       "      <th></th>\n",
       "      <th>Predicted</th>\n",
       "      <th>Actual Returns</th>\n",
       "      <th>Strategy Returns</th>\n",
       "    </tr>\n",
       "    <tr>\n",
       "      <th>Date</th>\n",
       "      <th></th>\n",
       "      <th></th>\n",
       "      <th></th>\n",
       "    </tr>\n",
       "  </thead>\n",
       "  <tbody>\n",
       "    <tr>\n",
       "      <th>2017-06-21</th>\n",
       "      <td>1.0</td>\n",
       "      <td>0.009278</td>\n",
       "      <td>0.009278</td>\n",
       "    </tr>\n",
       "    <tr>\n",
       "      <th>2017-06-22</th>\n",
       "      <td>1.0</td>\n",
       "      <td>-0.002460</td>\n",
       "      <td>-0.002460</td>\n",
       "    </tr>\n",
       "    <tr>\n",
       "      <th>2017-06-23</th>\n",
       "      <td>1.0</td>\n",
       "      <td>0.008881</td>\n",
       "      <td>0.008881</td>\n",
       "    </tr>\n",
       "    <tr>\n",
       "      <th>2017-06-26</th>\n",
       "      <td>1.0</td>\n",
       "      <td>-0.013795</td>\n",
       "      <td>-0.013795</td>\n",
       "    </tr>\n",
       "    <tr>\n",
       "      <th>2017-06-27</th>\n",
       "      <td>1.0</td>\n",
       "      <td>-0.026190</td>\n",
       "      <td>-0.026190</td>\n",
       "    </tr>\n",
       "  </tbody>\n",
       "</table>\n",
       "</div>"
      ],
      "text/plain": [
       "            Predicted  Actual Returns  Strategy Returns\n",
       "Date                                                   \n",
       "2017-06-21        1.0        0.009278          0.009278\n",
       "2017-06-22        1.0       -0.002460         -0.002460\n",
       "2017-06-23        1.0        0.008881          0.008881\n",
       "2017-06-26        1.0       -0.013795         -0.013795\n",
       "2017-06-27        1.0       -0.026190         -0.026190"
      ]
     },
     "metadata": {},
     "output_type": "display_data"
    },
    {
     "data": {
      "text/html": [
       "<div>\n",
       "<style scoped>\n",
       "    .dataframe tbody tr th:only-of-type {\n",
       "        vertical-align: middle;\n",
       "    }\n",
       "\n",
       "    .dataframe tbody tr th {\n",
       "        vertical-align: top;\n",
       "    }\n",
       "\n",
       "    .dataframe thead th {\n",
       "        text-align: right;\n",
       "    }\n",
       "</style>\n",
       "<table border=\"1\" class=\"dataframe\">\n",
       "  <thead>\n",
       "    <tr style=\"text-align: right;\">\n",
       "      <th></th>\n",
       "      <th>Predicted</th>\n",
       "      <th>Actual Returns</th>\n",
       "      <th>Strategy Returns</th>\n",
       "    </tr>\n",
       "    <tr>\n",
       "      <th>Date</th>\n",
       "      <th></th>\n",
       "      <th></th>\n",
       "      <th></th>\n",
       "    </tr>\n",
       "  </thead>\n",
       "  <tbody>\n",
       "    <tr>\n",
       "      <th>2022-03-09</th>\n",
       "      <td>1.0</td>\n",
       "      <td>0.051757</td>\n",
       "      <td>0.051757</td>\n",
       "    </tr>\n",
       "    <tr>\n",
       "      <th>2022-03-10</th>\n",
       "      <td>1.0</td>\n",
       "      <td>-0.008845</td>\n",
       "      <td>-0.008845</td>\n",
       "    </tr>\n",
       "    <tr>\n",
       "      <th>2022-03-11</th>\n",
       "      <td>1.0</td>\n",
       "      <td>-0.016630</td>\n",
       "      <td>-0.016630</td>\n",
       "    </tr>\n",
       "    <tr>\n",
       "      <th>2022-03-14</th>\n",
       "      <td>1.0</td>\n",
       "      <td>-0.028622</td>\n",
       "      <td>-0.028622</td>\n",
       "    </tr>\n",
       "    <tr>\n",
       "      <th>2022-03-15</th>\n",
       "      <td>1.0</td>\n",
       "      <td>0.023035</td>\n",
       "      <td>0.023035</td>\n",
       "    </tr>\n",
       "  </tbody>\n",
       "</table>\n",
       "</div>"
      ],
      "text/plain": [
       "            Predicted  Actual Returns  Strategy Returns\n",
       "Date                                                   \n",
       "2022-03-09        1.0        0.051757          0.051757\n",
       "2022-03-10        1.0       -0.008845         -0.008845\n",
       "2022-03-11        1.0       -0.016630         -0.016630\n",
       "2022-03-14        1.0       -0.028622         -0.028622\n",
       "2022-03-15        1.0        0.023035          0.023035"
      ]
     },
     "metadata": {},
     "output_type": "display_data"
    }
   ],
   "source": [
    "predictions_df['Actual Returns'] = goog_df['Actual Returns']\n",
    "predictions_df['Strategy Returns'] = (\n",
    "    predictions_df['Actual Returns'] * predictions_df['Predicted']\n",
    ")\n",
    "display(predictions_df.head())\n",
    "display(predictions_df.tail())"
   ]
  },
  {
   "cell_type": "code",
   "execution_count": 361,
   "id": "33c43ed1-b75c-4e21-b289-c74a1137f3ec",
   "metadata": {},
   "outputs": [
    {
     "data": {
      "text/plain": [
       "<AxesSubplot:xlabel='Date'>"
      ]
     },
     "execution_count": 361,
     "metadata": {},
     "output_type": "execute_result"
    },
    {
     "data": {
      "image/png": "[encoded data removed]",
      "text/plain": [
       "<Figure size 432x288 with 1 Axes>"
      ]
     },
     "metadata": {
      "needs_background": "light"
     },
     "output_type": "display_data"
    }
   ],
   "source": [
    "(1 + predictions_df[['Actual Returns', 'Strategy Returns']]).cumprod().plot()"
   ]
  },
  {
   "cell_type": "code",
   "execution_count": 362,
   "id": "18315045-8129-4619-8e6b-74b68654a00c",
   "metadata": {},
   "outputs": [
    {
     "data": {
      "text/html": [
       "<div>\n",
       "<style scoped>\n",
       "    .dataframe tbody tr th:only-of-type {\n",
       "        vertical-align: middle;\n",
       "    }\n",
       "\n",
       "    .dataframe tbody tr th {\n",
       "        vertical-align: top;\n",
       "    }\n",
       "\n",
       "    .dataframe thead th {\n",
       "        text-align: right;\n",
       "    }\n",
       "</style>\n",
       "<table border=\"1\" class=\"dataframe\">\n",
       "  <thead>\n",
       "    <tr style=\"text-align: right;\">\n",
       "      <th></th>\n",
       "      <th>Open</th>\n",
       "      <th>High</th>\n",
       "      <th>Low</th>\n",
       "      <th>Close</th>\n",
       "      <th>Adj Close</th>\n",
       "      <th>Volume</th>\n",
       "      <th>macd</th>\n",
       "      <th>exp3</th>\n",
       "      <th>Actual Returns</th>\n",
       "      <th>Signal</th>\n",
       "      <th>SMAB</th>\n",
       "    </tr>\n",
       "    <tr>\n",
       "      <th>Date</th>\n",
       "      <th></th>\n",
       "      <th></th>\n",
       "      <th></th>\n",
       "      <th></th>\n",
       "      <th></th>\n",
       "      <th></th>\n",
       "      <th></th>\n",
       "      <th></th>\n",
       "      <th></th>\n",
       "      <th></th>\n",
       "      <th></th>\n",
       "    </tr>\n",
       "  </thead>\n",
       "  <tbody>\n",
       "    <tr>\n",
       "      <th>2017-04-13</th>\n",
       "      <td>822.140015</td>\n",
       "      <td>826.380005</td>\n",
       "      <td>821.440002</td>\n",
       "      <td>823.559998</td>\n",
       "      <td>823.559998</td>\n",
       "      <td>1122400</td>\n",
       "      <td>-4.825748</td>\n",
       "      <td>-4.762498</td>\n",
       "      <td>-0.000922</td>\n",
       "      <td>-1.0</td>\n",
       "      <td>828.925998</td>\n",
       "    </tr>\n",
       "    <tr>\n",
       "      <th>2017-04-17</th>\n",
       "      <td>825.010010</td>\n",
       "      <td>837.750000</td>\n",
       "      <td>824.469971</td>\n",
       "      <td>837.169983</td>\n",
       "      <td>837.169983</td>\n",
       "      <td>895000</td>\n",
       "      <td>-3.687209</td>\n",
       "      <td>-4.547440</td>\n",
       "      <td>0.016526</td>\n",
       "      <td>1.0</td>\n",
       "      <td>828.178497</td>\n",
       "    </tr>\n",
       "    <tr>\n",
       "      <th>2017-04-18</th>\n",
       "      <td>834.219971</td>\n",
       "      <td>838.929993</td>\n",
       "      <td>832.710022</td>\n",
       "      <td>836.820007</td>\n",
       "      <td>836.820007</td>\n",
       "      <td>836700</td>\n",
       "      <td>-2.781089</td>\n",
       "      <td>-4.194170</td>\n",
       "      <td>-0.000418</td>\n",
       "      <td>-1.0</td>\n",
       "      <td>827.599496</td>\n",
       "    </tr>\n",
       "    <tr>\n",
       "      <th>2017-04-19</th>\n",
       "      <td>839.789978</td>\n",
       "      <td>842.219971</td>\n",
       "      <td>836.289978</td>\n",
       "      <td>838.210022</td>\n",
       "      <td>838.210022</td>\n",
       "      <td>954200</td>\n",
       "      <td>-1.928589</td>\n",
       "      <td>-3.741054</td>\n",
       "      <td>0.001661</td>\n",
       "      <td>1.0</td>\n",
       "      <td>827.986997</td>\n",
       "    </tr>\n",
       "    <tr>\n",
       "      <th>2017-04-20</th>\n",
       "      <td>841.440002</td>\n",
       "      <td>845.200012</td>\n",
       "      <td>839.320007</td>\n",
       "      <td>841.650024</td>\n",
       "      <td>841.650024</td>\n",
       "      <td>959000</td>\n",
       "      <td>-0.964282</td>\n",
       "      <td>-3.185699</td>\n",
       "      <td>0.004104</td>\n",
       "      <td>1.0</td>\n",
       "      <td>828.589996</td>\n",
       "    </tr>\n",
       "  </tbody>\n",
       "</table>\n",
       "</div>"
      ],
      "text/plain": [
       "                  Open        High         Low       Close   Adj Close  \\\n",
       "Date                                                                     \n",
       "2017-04-13  822.140015  826.380005  821.440002  823.559998  823.559998   \n",
       "2017-04-17  825.010010  837.750000  824.469971  837.169983  837.169983   \n",
       "2017-04-18  834.219971  838.929993  832.710022  836.820007  836.820007   \n",
       "2017-04-19  839.789978  842.219971  836.289978  838.210022  838.210022   \n",
       "2017-04-20  841.440002  845.200012  839.320007  841.650024  841.650024   \n",
       "\n",
       "             Volume      macd      exp3  Actual Returns  Signal        SMAB  \n",
       "Date                                                                         \n",
       "2017-04-13  1122400 -4.825748 -4.762498       -0.000922    -1.0  828.925998  \n",
       "2017-04-17   895000 -3.687209 -4.547440        0.016526     1.0  828.178497  \n",
       "2017-04-18   836700 -2.781089 -4.194170       -0.000418    -1.0  827.599496  \n",
       "2017-04-19   954200 -1.928589 -3.741054        0.001661     1.0  827.986997  \n",
       "2017-04-20   959000 -0.964282 -3.185699        0.004104     1.0  828.589996  "
      ]
     },
     "execution_count": 362,
     "metadata": {},
     "output_type": "execute_result"
    }
   ],
   "source": [
    "Bollinger_window = 20\n",
    "goog_df['SMAB'] = goog_df['Close'].rolling(window=Bollinger_window).mean()\n",
    "goog_df = goog_df.dropna()\n",
    "goog_df.head()"
   ]
  },
  {
   "cell_type": "code",
   "execution_count": 363,
   "id": "edee941e-9438-4bd1-b034-ad26e4f76ca3",
   "metadata": {},
   "outputs": [],
   "source": [
    "goog_df['SD'] = goog_df['Close'].rolling(window=Bollinger_window).std()\n",
    "goog_df['bollinger_up'] = goog_df['SMAB'] + (goog_df['SD'] * 2)\n",
    "goog_df['bollinger_down'] = goog_df['SMAB'] - (goog_df['SD'] * 2)\n",
    "goog_df.dropna(inplace=True)\n",
    "goog_df.reset_index(inplace=True)\n",
    "goog_df.set_index('Date', inplace=True)"
   ]
  },
  {
   "cell_type": "code",
   "execution_count": 364,
   "id": "8109e235-3c12-4d25-ab44-084a5641584b",
   "metadata": {},
   "outputs": [
    {
     "data": {
      "text/html": [
       "<div>\n",
       "<style scoped>\n",
       "    .dataframe tbody tr th:only-of-type {\n",
       "        vertical-align: middle;\n",
       "    }\n",
       "\n",
       "    .dataframe tbody tr th {\n",
       "        vertical-align: top;\n",
       "    }\n",
       "\n",
       "    .dataframe thead th {\n",
       "        text-align: right;\n",
       "    }\n",
       "</style>\n",
       "<table border=\"1\" class=\"dataframe\">\n",
       "  <thead>\n",
       "    <tr style=\"text-align: right;\">\n",
       "      <th></th>\n",
       "      <th>Open</th>\n",
       "      <th>High</th>\n",
       "      <th>Low</th>\n",
       "      <th>Close</th>\n",
       "      <th>Adj Close</th>\n",
       "      <th>Volume</th>\n",
       "      <th>macd</th>\n",
       "      <th>exp3</th>\n",
       "      <th>Actual Returns</th>\n",
       "      <th>Signal</th>\n",
       "      <th>SMAB</th>\n",
       "      <th>SD</th>\n",
       "      <th>bollinger_up</th>\n",
       "      <th>bollinger_down</th>\n",
       "    </tr>\n",
       "    <tr>\n",
       "      <th>Date</th>\n",
       "      <th></th>\n",
       "      <th></th>\n",
       "      <th></th>\n",
       "      <th></th>\n",
       "      <th></th>\n",
       "      <th></th>\n",
       "      <th></th>\n",
       "      <th></th>\n",
       "      <th></th>\n",
       "      <th></th>\n",
       "      <th></th>\n",
       "      <th></th>\n",
       "      <th></th>\n",
       "      <th></th>\n",
       "    </tr>\n",
       "  </thead>\n",
       "  <tbody>\n",
       "    <tr>\n",
       "      <th>2017-05-11</th>\n",
       "      <td>925.320007</td>\n",
       "      <td>932.530029</td>\n",
       "      <td>923.030029</td>\n",
       "      <td>930.599976</td>\n",
       "      <td>930.599976</td>\n",
       "      <td>835000</td>\n",
       "      <td>25.300699</td>\n",
       "      <td>21.415151</td>\n",
       "      <td>0.001960</td>\n",
       "      <td>1.0</td>\n",
       "      <td>887.414499</td>\n",
       "      <td>40.775611</td>\n",
       "      <td>968.965721</td>\n",
       "      <td>805.863277</td>\n",
       "    </tr>\n",
       "    <tr>\n",
       "      <th>2017-05-12</th>\n",
       "      <td>931.530029</td>\n",
       "      <td>933.440002</td>\n",
       "      <td>927.849976</td>\n",
       "      <td>932.219971</td>\n",
       "      <td>932.219971</td>\n",
       "      <td>1050600</td>\n",
       "      <td>24.920658</td>\n",
       "      <td>22.116253</td>\n",
       "      <td>0.001741</td>\n",
       "      <td>1.0</td>\n",
       "      <td>892.847498</td>\n",
       "      <td>39.021008</td>\n",
       "      <td>970.889513</td>\n",
       "      <td>814.805482</td>\n",
       "    </tr>\n",
       "    <tr>\n",
       "      <th>2017-05-15</th>\n",
       "      <td>932.950012</td>\n",
       "      <td>938.250000</td>\n",
       "      <td>929.340027</td>\n",
       "      <td>937.080017</td>\n",
       "      <td>937.080017</td>\n",
       "      <td>1108100</td>\n",
       "      <td>24.726605</td>\n",
       "      <td>22.638323</td>\n",
       "      <td>0.005213</td>\n",
       "      <td>1.0</td>\n",
       "      <td>897.842999</td>\n",
       "      <td>37.897071</td>\n",
       "      <td>973.637141</td>\n",
       "      <td>822.048858</td>\n",
       "    </tr>\n",
       "    <tr>\n",
       "      <th>2017-05-16</th>\n",
       "      <td>940.000000</td>\n",
       "      <td>943.109985</td>\n",
       "      <td>937.580017</td>\n",
       "      <td>943.000000</td>\n",
       "      <td>943.000000</td>\n",
       "      <td>969500</td>\n",
       "      <td>24.765034</td>\n",
       "      <td>23.063665</td>\n",
       "      <td>0.006317</td>\n",
       "      <td>1.0</td>\n",
       "      <td>903.151999</td>\n",
       "      <td>36.302248</td>\n",
       "      <td>975.756495</td>\n",
       "      <td>830.547503</td>\n",
       "    </tr>\n",
       "    <tr>\n",
       "      <th>2017-05-17</th>\n",
       "      <td>935.669983</td>\n",
       "      <td>939.333008</td>\n",
       "      <td>918.140015</td>\n",
       "      <td>919.619995</td>\n",
       "      <td>919.619995</td>\n",
       "      <td>2362100</td>\n",
       "      <td>22.647848</td>\n",
       "      <td>22.980502</td>\n",
       "      <td>-0.024793</td>\n",
       "      <td>-1.0</td>\n",
       "      <td>907.222497</td>\n",
       "      <td>33.056225</td>\n",
       "      <td>973.334948</td>\n",
       "      <td>841.110047</td>\n",
       "    </tr>\n",
       "  </tbody>\n",
       "</table>\n",
       "</div>"
      ],
      "text/plain": [
       "                  Open        High         Low       Close   Adj Close  \\\n",
       "Date                                                                     \n",
       "2017-05-11  925.320007  932.530029  923.030029  930.599976  930.599976   \n",
       "2017-05-12  931.530029  933.440002  927.849976  932.219971  932.219971   \n",
       "2017-05-15  932.950012  938.250000  929.340027  937.080017  937.080017   \n",
       "2017-05-16  940.000000  943.109985  937.580017  943.000000  943.000000   \n",
       "2017-05-17  935.669983  939.333008  918.140015  919.619995  919.619995   \n",
       "\n",
       "             Volume       macd       exp3  Actual Returns  Signal        SMAB  \\\n",
       "Date                                                                            \n",
       "2017-05-11   835000  25.300699  21.415151        0.001960     1.0  887.414499   \n",
       "2017-05-12  1050600  24.920658  22.116253        0.001741     1.0  892.847498   \n",
       "2017-05-15  1108100  24.726605  22.638323        0.005213     1.0  897.842999   \n",
       "2017-05-16   969500  24.765034  23.063665        0.006317     1.0  903.151999   \n",
       "2017-05-17  2362100  22.647848  22.980502       -0.024793    -1.0  907.222497   \n",
       "\n",
       "                   SD  bollinger_up  bollinger_down  \n",
       "Date                                                 \n",
       "2017-05-11  40.775611    968.965721      805.863277  \n",
       "2017-05-12  39.021008    970.889513      814.805482  \n",
       "2017-05-15  37.897071    973.637141      822.048858  \n",
       "2017-05-16  36.302248    975.756495      830.547503  \n",
       "2017-05-17  33.056225    973.334948      841.110047  "
      ]
     },
     "execution_count": 364,
     "metadata": {},
     "output_type": "execute_result"
    }
   ],
   "source": [
    "goog_df.head()"
   ]
  },
  {
   "cell_type": "code",
   "execution_count": 365,
   "id": "18b6775c-17b9-4bb8-add9-18678857c761",
   "metadata": {},
   "outputs": [
    {
     "data": {},
     "metadata": {},
     "output_type": "display_data"
    },
    {
     "data": {
      "application/vnd.holoviews_exec.v0+json": "",
      "text/html": [
       "<div id='7305'>\n",
       "\n",
       "\n",
       "\n",
       "\n",
       "\n",
       "  <div class=\"bk-root\" id=\"119f7d98-cb3d-487a-b766-2164b6e58cbe\" data-root-id=\"7305\"></div>\n",
       "</div>\n",
       "<script type=\"application/javascript\">(function(root) {\n",
       "  function embed_document(root) {\n",
       "    var docs_json = {\"addd8d3c-9c5e-48b7-aa2c-69ed764544f4\":{\"defs\":[{\"extends\":null,\"module\":null,\"name\":\"ReactiveHTML1\",\"overrides\":[],\"properties\":[]},{\"extends\":null,\"module\":null,\"name\":\"FlexBox1\",\"overrides\":[],\"properties\":[{\"default\":\"flex-start\",\"kind\":null,\"name\":\"align_content\"},{\"default\":\"flex-start\",\"kind\":null,\"name\":\"align_items\"},{\"default\":\"row\",\"kind\":null,\"name\":\"flex_direction\"},{\"default\":\"wrap\",\"kind\":null,\"name\":\"flex_wrap\"},{\"default\":\"flex-start\",\"kind\":null,\"name\":\"justify_content\"}]},{\"extends\":null,\"module\":null,\"name\":\"TemplateActions1\",\"overrides\":[],\"properties\":[{\"default\":0,\"kind\":null,\"name\":\"open_modal\"},{\"default\":0,\"kind\":null,\"name\":\"close_modal\"}]},{\"extends\":null,\"module\":null,\"name\":\"MaterialTemplateActions1\",\"overrides\":[],\"properties\":[{\"default\":0,\"kind\":null,\"name\":\"open_modal\"},{\"default\":0,\"kind\":null,\"name\":\"close_modal\"}]}],\"roots\":{\"references\":[{\"attributes\":{\"source\":{\"id\":\"7381\"}},\"id\":\"7388\",\"type\":\"CDSView\"},{\"attributes\":{\"coordinates\":null,\"data_source\":{\"id\":\"7381\"},\"glyph\":{\"id\":\"7384\"},\"group\":null,\"hover_glyph\":null,\"muted_glyph\":{\"id\":\"7386\"},\"nonselection_glyph\":{\"id\":\"7385\"},\"selection_glyph\":{\"id\":\"7414\"},\"view\":{\"id\":\"7388\"}},\"id\":\"7387\",\"type\":\"GlyphRenderer\"},{\"attributes\":{\"line_color\":\"#fc4f30\",\"line_width\":2,\"x\":{\"field\":\"Date\"},\"y\":{\"field\":\"value\"}},\"id\":\"7414\",\"type\":\"Line\"},{\"attributes\":{\"line_color\":\"#fc4f30\",\"line_width\":2,\"x\":{\"field\":\"Date\"},\"y\":{\"field\":\"value\"}},\"id\":\"7384\",\"type\":\"Line\"},{\"attributes\":{\"line_color\":\"#e5ae38\",\"line_width\":2,\"x\":{\"field\":\"Date\"},\"y\":{\"field\":\"value\"}},\"id\":\"7450\",\"type\":\"Line\"},{\"attributes\":{\"line_alpha\":0.1,\"line_color\":\"#fc4f30\",\"line_width\":2,\"x\":{\"field\":\"Date\"},\"y\":{\"field\":\"value\"}},\"id\":\"7385\",\"type\":\"Line\"},{\"attributes\":{\"line_alpha\":0.2,\"line_color\":\"#fc4f30\",\"line_width\":2,\"x\":{\"field\":\"Date\"},\"y\":{\"field\":\"value\"}},\"id\":\"7386\",\"type\":\"Line\"},{\"attributes\":{},\"id\":\"7343\",\"type\":\"DatetimeTickFormatter\"},{\"attributes\":{\"mantissas\":[1,2,5],\"max_interval\":500.0,\"num_minor_ticks\":0},\"id\":\"7366\",\"type\":\"AdaptiveTicker\"},{\"attributes\":{},\"id\":\"7344\",\"type\":\"AllLabels\"},{\"attributes\":{},\"id\":\"7347\",\"type\":\"AllLabels\"},{\"attributes\":{\"label\":{\"value\":\"bollinger_up\"},\"renderers\":[{\"id\":\"7387\"}]},\"id\":\"7413\",\"type\":\"LegendItem\"},{\"attributes\":{\"base\":60,\"mantissas\":[1,2,5,10,15,20,30],\"max_interval\":1800000.0,\"min_interval\":1000.0,\"num_minor_ticks\":0},\"id\":\"7367\",\"type\":\"AdaptiveTicker\"},{\"attributes\":{},\"id\":\"7346\",\"type\":\"BasicTickFormatter\"},{\"attributes\":{\"base\":24,\"mantissas\":[1,2,4,6,8,12],\"max_interval\":43200000.0,\"min_interval\":3600000.0,\"num_minor_ticks\":0},\"id\":\"7368\",\"type\":\"AdaptiveTicker\"},{\"attributes\":{\"line_color\":\"#30a2da\",\"line_width\":2,\"x\":{\"field\":\"Date\"},\"y\":{\"field\":\"value\"}},\"id\":\"7351\",\"type\":\"Line\"},{\"attributes\":{},\"id\":\"7377\",\"type\":\"YearsTicker\"},{\"attributes\":{\"months\":[0,1,2,3,4,5,6,7,8,9,10,11]},\"id\":\"7373\",\"type\":\"MonthsTicker\"},{\"attributes\":{\"line_alpha\":0.2,\"line_color\":\"#30a2da\",\"line_width\":2,\"x\":{\"field\":\"Date\"},\"y\":{\"field\":\"value\"}},\"id\":\"7353\",\"type\":\"Line\"},{\"attributes\":{},\"id\":\"7398\",\"type\":\"UnionRenderers\"},{\"attributes\":{\"days\":[1,15]},\"id\":\"7372\",\"type\":\"DaysTicker\"},{\"attributes\":{\"days\":[1,2,3,4,5,6,7,8,9,10,11,12,13,14,15,16,17,18,19,20,21,22,23,24,25,26,27,28,29,30,31]},\"id\":\"7369\",\"type\":\"DaysTicker\"},{\"attributes\":{\"days\":[1,4,7,10,13,16,19,22,25,28]},\"id\":\"7370\",\"type\":\"DaysTicker\"},{\"attributes\":{\"days\":[1,8,15,22]},\"id\":\"7371\",\"type\":\"DaysTicker\"},{\"attributes\":{\"end\":3306.396674716463,\"reset_end\":3306.396674716463,\"reset_start\":578.5420592270782,\"start\":578.5420592270782,\"tags\":[[[\"value\",\"value\",null]]]},\"id\":\"7308\",\"type\":\"Range1d\"},{\"attributes\":{\"months\":[0,6]},\"id\":\"7376\",\"type\":\"MonthsTicker\"},{\"attributes\":{\"months\":[0,2,4,6,8,10]},\"id\":\"7374\",\"type\":\"MonthsTicker\"},{\"attributes\":{\"end\":1647302400000.0,\"reset_end\":1647302400000.0,\"reset_start\":1494460800000.0,\"start\":1494460800000.0,\"tags\":[[[\"Date\",\"Date\",null]]]},\"id\":\"7307\",\"type\":\"Range1d\"},{\"attributes\":{},\"id\":\"7317\",\"type\":\"LinearScale\"},{\"attributes\":{\"months\":[0,4,8]},\"id\":\"7375\",\"type\":\"MonthsTicker\"},{\"attributes\":{\"coordinates\":null,\"data_source\":{\"id\":\"7348\"},\"glyph\":{\"id\":\"7351\"},\"group\":null,\"hover_glyph\":null,\"muted_glyph\":{\"id\":\"7353\"},\"nonselection_glyph\":{\"id\":\"7352\"},\"selection_glyph\":{\"id\":\"7380\"},\"view\":{\"id\":\"7355\"}},\"id\":\"7354\",\"type\":\"GlyphRenderer\"},{\"attributes\":{\"data\":{\"Date\":{\"__ndarray__\":\"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\",\"dtype\":\"float64\",\"order\":\"little\",\"shape\":[1220]},\"Variable\":[\"bollinger_up\",\"bollinger_up\",\"bollinger_up\",\"bollinger_up\",\"bollinger_up\",\"bollinger_up\",\"bollinger_up\",\"bollinger_up\",\"bollinger_up\",\"bollinger_up\",\"bollinger_up\",\"bollinger_up\",\"bollinger_up\",\"bollinger_up\",\"bollinger_up\",\"bollinger_up\",\"bollinger_up\",\"bollinger_up\",\"bollinger_up\",\"bollinger_up\",\"bollinger_up\",\"bollinger_up\",\"bollinger_up\",\"bollinger_up\",\"bollinger_up\",\"bollinger_up\",\"bollinger_up\",\"bollinger_up\",\"bollinger_up\",\"bollinger_up\",\"bollinger_up\",\"bollinger_up\",\"bollinger_up\",\"bollinger_up\",\"bollinger_up\",\"bollinger_up\",\"bollinger_up\",\"bollinger_up\",\"bollinger_up\",\"bollinger_up\",\"bollinger_up\",\"bollinger_up\",\"bollinger_up\",\"bollinger_up\",\"bollinger_up\",\"bollinger_up\",\"bollinger_up\",\"bollinger_up\",\"bollinger_up\",\"bollinger_up\",\"bollinger_up\",\"bollinger_up\",\"bollinger_up\",\"bollinger_up\",\"bollinger_up\",\"bollinger_up\",\"bollinger_up\",\"bollinger_up\",\"bollinger_up\",\"bollinger_up\",\"bollinger_up\",\"bollinger_up\",\"bollinger_up\",\"bollinger_up\",\"bollinger_up\",\"bollinger_up\",\"bollinger_up\",\"bollinger_up\",\"bollinger_up\",\"bollinger_up\",\"bollinger_up\",\"bollinger_up\",\"bollinger_up\",\"bollinger_up\",\"bollinger_up\",\"bollinger_up\",\"bollinger_up\",\"bollinger_up\",\"bollinger_up\",\"bollinger_up\",\"bollinger_up\",\"bollinger_up\",\"bollinger_up\",\"bollinger_up\",\"bollinger_up\",\"bollinger_up\",\"bollinger_up\",\"bollinger_up\",\"bollinger_up\",\"bollinger_up\",\"bollinger_up\",\"bollinger_up\",\"bollinger_up\",\"bollinger_up\",\"bollinger_up\",\"bollinger_up\",\"bollinger_up\",\"bollinger_up\",\"bollinger_up\",\"bollinger_up\",\"bollinger_up\",\"bollinger_up\",\"bollinger_up\",\"bollinger_up\",\"bollinger_up\",\"bollinger_up\",\"bollinger_up\",\"bollinger_up\",\"bollinger_up\",\"bollinger_up\",\"bollinger_up\",\"bollinger_up\",\"bollinger_up\",\"bollinger_up\",\"bollinger_up\",\"bollinger_up\",\"bollinger_up\",\"bollinger_up\",\"bollinger_up\",\"bollinger_up\",\"bollinger_up\",\"bollinger_up\",\"bollinger_up\",\"bollinger_up\",\"bollinger_up\",\"bollinger_up\",\"bollinger_up\",\"bollinger_up\",\"bollinger_up\",\"bollinger_up\",\"bollinger_up\",\"bollinger_up\",\"bollinger_up\",\"bollinger_up\",\"bollinger_up\",\"bollinger_up\",\"bollinger_up\",\"bollinger_up\",\"bollinger_up\",\"bollinger_up\",\"bollinger_up\",\"bollinger_up\",\"bollinger_up\",\"bollinger_up\",\"bollinger_up\",\"bollinger_up\",\"bollinger_up\",\"bollinger_up\",\"bollinger_up\",\"bollinger_up\",\"bollinger_up\",\"bollinger_up\",\"bollinger_up\",\"bollinger_up\",\"bollinger_up\",\"bollinger_up\",\"bollinger_up\",\"bollinger_up\",\"bollinger_up\",\"bollinger_up\",\"bollinger_up\",\"bollinger_up\",\"bollinger_up\",\"bollinger_up\",\"bollinger_up\",\"bollinger_up\",\"bollinger_up\",\"bollinger_up\",\"bollinger_up\",\"bollinger_up\",\"bollinger_up\",\"bollinger_up\",\"bollinger_up\",\"bollinger_up\",\"bollinger_up\",\"bollinger_up\",\"bollinger_up\",\"bollinger_up\",\"bollinger_up\",\"bollinger_up\",\"bollinger_up\",\"bollinger_up\",\"bollinger_up\",\"bollinger_up\",\"bollinger_up\",\"bollinger_up\",\"bollinger_up\",\"bollinger_up\",\"bollinger_up\",\"bollinger_up\",\"bollinger_up\",\"bollinger_up\",\"bollinger_up\",\"bollinger_up\",\"bollinger_up\",\"bollinger_up\",\"bollinger_up\",\"bollinger_up\",\"bollinger_up\",\"bollinger_up\",\"bollinger_up\",\"bollinger_up\",\"bollinger_up\",\"bollinger_up\",\"bollinger_up\",\"bollinger_up\",\"bollinger_up\",\"bollinger_up\",\"bollinger_up\",\"bollinger_up\",\"bollinger_up\",\"bollinger_up\",\"bollinger_up\",\"bollinger_up\",\"bollinger_up\",\"bollinger_up\",\"bollinger_up\",\"bollinger_up\",\"bollinger_up\",\"bollinger_up\",\"bollinger_up\",\"bollinger_up\",\"bollinger_up\",\"bollinger_up\",\"bollinger_up\",\"bollinger_up\",\"bollinger_up\",\"bollinger_up\",\"bollinger_up\",\"bollinger_up\",\"bollinger_up\",\"bollinger_up\",\"bollinger_up\",\"bollinger_up\",\"bollinger_up\",\"bollinger_up\",\"bollinger_up\",\"bollinger_up\",\"bollinger_up\",\"bollinger_up\",\"bollinger_up\",\"bollinger_up\",\"bollinger_up\",\"bollinger_up\",\"bollinger_up\",\"bollinger_up\",\"bollinger_up\",\"bollinger_up\",\"bollinger_up\",\"bollinger_up\",\"bollinger_up\",\"bollinger_up\",\"bollinger_up\",\"bollinger_up\",\"bollinger_up\",\"bollinger_up\",\"bollinger_up\",\"bollinger_up\",\"bollinger_up\",\"bollinger_up\",\"bollinger_up\",\"bollinger_up\",\"bollinger_up\",\"bollinger_up\",\"bollinger_up\",\"bollinger_up\",\"bollinger_up\",\"bollinger_up\",\"bollinger_up\",\"bollinger_up\",\"bollinger_up\",\"bollinger_up\",\"bollinger_up\",\"bollinger_up\",\"bollinger_up\",\"bollinger_up\",\"bollinger_up\",\"bollinger_up\",\"bollinger_up\",\"bollinger_up\",\"bollinger_up\",\"bollinger_up\",\"bollinger_up\",\"bollinger_up\",\"bollinger_up\",\"bollinger_up\",\"bollinger_up\",\"bollinger_up\",\"bollinger_up\",\"bollinger_up\",\"bollinger_up\",\"bollinger_up\",\"bollinger_up\",\"bollinger_up\",\"bollinger_up\",\"bollinger_up\",\"bollinger_up\",\"bollinger_up\",\"bollinger_up\",\"bollinger_up\",\"bollinger_up\",\"bollinger_up\",\"bollinger_up\",\"bollinger_up\",\"bollinger_up\",\"bollinger_up\",\"bollinger_up\",\"bollinger_up\",\"bollinger_up\",\"bollinger_up\",\"bollinger_up\",\"bollinger_up\",\"bollinger_up\",\"bollinger_up\",\"bollinger_up\",\"bollinger_up\",\"bollinger_up\",\"bollinger_up\",\"bollinger_up\",\"bollinger_up\",\"bollinger_up\",\"bollinger_up\",\"bollinger_up\",\"bollinger_up\",\"bollinger_up\",\"bollinger_up\",\"bollinger_up\",\"bollinger_up\",\"bollinger_up\",\"bollinger_up\",\"bollinger_up\",\"bollinger_up\",\"bollinger_up\",\"bollinger_up\",\"bollinger_up\",\"bollinger_up\",\"bollinger_up\",\"bollinger_up\",\"bollinger_up\",\"bollinger_up\",\"bollinger_up\",\"bollinger_up\",\"bollinger_up\",\"bollinger_up\",\"bollinger_up\",\"bollinger_up\",\"bollinger_up\",\"bollinger_up\",\"bollinger_up\",\"bollinger_up\",\"bollinger_up\",\"bollinger_up\",\"bollinger_up\",\"bollinger_up\",\"bollinger_up\",\"bollinger_up\",\"bollinger_up\",\"bollinger_up\",\"bollinger_up\",\"bollinger_up\",\"bollinger_up\",\"bollinger_up\",\"bollinger_up\",\"bollinger_up\",\"bollinger_up\",\"bollinger_up\",\"bollinger_up\",\"bollinger_up\",\"bollinger_up\",\"bollinger_up\",\"bollinger_up\",\"bollinger_up\",\"bollinger_up\",\"bollinger_up\",\"bollinger_up\",\"bollinger_up\",\"bollinger_up\",\"bollinger_up\",\"bollinger_up\",\"bollinger_up\",\"bollinger_up\",\"bollinger_up\",\"bollinger_up\",\"bollinger_up\",\"bollinger_up\",\"bollinger_up\",\"bollinger_up\",\"bollinger_up\",\"bollinger_up\",\"bollinger_up\",\"bollinger_up\",\"bollinger_up\",\"bollinger_up\",\"bollinger_up\",\"bollinger_up\",\"bollinger_up\",\"bollinger_up\",\"bollinger_up\",\"bollinger_up\",\"bollinger_up\",\"bollinger_up\",\"bollinger_up\",\"bollinger_up\",\"bollinger_up\",\"bollinger_up\",\"bollinger_up\",\"bollinger_up\",\"bollinger_up\",\"bollinger_up\",\"bollinger_up\",\"bollinger_up\",\"bollinger_up\",\"bollinger_up\",\"bollinger_up\",\"bollinger_up\",\"bollinger_up\",\"bollinger_up\",\"bollinger_up\",\"bollinger_up\",\"bollinger_up\",\"bollinger_up\",\"bollinger_up\",\"bollinger_up\",\"bollinger_up\",\"bollinger_up\",\"bollinger_up\",\"bollinger_up\",\"bollinger_up\",\"bollinger_up\",\"bollinger_up\",\"bollinger_up\",\"bollinger_up\",\"bollinger_up\",\"bollinger_up\",\"bollinger_up\",\"bollinger_up\",\"bollinger_up\",\"bollinger_up\",\"bollinger_up\",\"bollinger_up\",\"bollinger_up\",\"bollinger_up\",\"bollinger_up\",\"bollinger_up\",\"bollinger_up\",\"bollinger_up\",\"bollinger_up\",\"bollinger_up\",\"bollinger_up\",\"bollinger_up\",\"bollinger_up\",\"bollinger_up\",\"bollinger_up\",\"bollinger_up\",\"bollinger_up\",\"bollinger_up\",\"bollinger_up\",\"bollinger_up\",\"bollinger_up\",\"bollinger_up\",\"bollinger_up\",\"bollinger_up\",\"bollinger_up\",\"bollinger_up\",\"bollinger_up\",\"bollinger_up\",\"bollinger_up\",\"bollinger_up\",\"bollinger_up\",\"bollinger_up\",\"bollinger_up\",\"bollinger_up\",\"bollinger_up\",\"bollinger_up\",\"bollinger_up\",\"bollinger_up\",\"bollinger_up\",\"bollinger_up\",\"bollinger_up\",\"bollinger_up\",\"bollinger_up\",\"bollinger_up\",\"bollinger_up\",\"bollinger_up\",\"bollinger_up\",\"bollinger_up\",\"bollinger_up\",\"bollinger_up\",\"bollinger_up\",\"bollinger_up\",\"bollinger_up\",\"bollinger_up\",\"bollinger_up\",\"bollinger_up\",\"bollinger_up\",\"bollinger_up\",\"bollinger_up\",\"bollinger_up\",\"bollinger_up\",\"bollinger_up\",\"bollinger_up\",\"bollinger_up\",\"bollinger_up\",\"bollinger_up\",\"bollinger_up\",\"bollinger_up\",\"bollinger_up\",\"bollinger_up\",\"bollinger_up\",\"bollinger_up\",\"bollinger_up\",\"bollinger_up\",\"bollinger_up\",\"bollinger_up\",\"bollinger_up\",\"bollinger_up\",\"bollinger_up\",\"bollinger_up\",\"bollinger_up\",\"bollinger_up\",\"bollinger_up\",\"bollinger_up\",\"bollinger_up\",\"bollinger_up\",\"bollinger_up\",\"bollinger_up\",\"bollinger_up\",\"bollinger_up\",\"bollinger_up\",\"bollinger_up\",\"bollinger_up\",\"bollinger_up\",\"bollinger_up\",\"bollinger_up\",\"bollinger_up\",\"bollinger_up\",\"bollinger_up\",\"bollinger_up\",\"bollinger_up\",\"bollinger_up\",\"bollinger_up\",\"bollinger_up\",\"bollinger_up\",\"bollinger_up\",\"bollinger_up\",\"bollinger_up\",\"bollinger_up\",\"bollinger_up\",\"bollinger_up\",\"bollinger_up\",\"bollinger_up\",\"bollinger_up\",\"bollinger_up\",\"bollinger_up\",\"bollinger_up\",\"bollinger_up\",\"bollinger_up\",\"bollinger_up\",\"bollinger_up\",\"bollinger_up\",\"bollinger_up\",\"bollinger_up\",\"bollinger_up\",\"bollinger_up\",\"bollinger_up\",\"bollinger_up\",\"bollinger_up\",\"bollinger_up\",\"bollinger_up\",\"bollinger_up\",\"bollinger_up\",\"bollinger_up\",\"bollinger_up\",\"bollinger_up\",\"bollinger_up\",\"bollinger_up\",\"bollinger_up\",\"bollinger_up\",\"bollinger_up\",\"bollinger_up\",\"bollinger_up\",\"bollinger_up\",\"bollinger_up\",\"bollinger_up\",\"bollinger_up\",\"bollinger_up\",\"bollinger_up\",\"bollinger_up\",\"bollinger_up\",\"bollinger_up\",\"bollinger_up\",\"bollinger_up\",\"bollinger_up\",\"bollinger_up\",\"bollinger_up\",\"bollinger_up\",\"bollinger_up\",\"bollinger_up\",\"bollinger_up\",\"bollinger_up\",\"bollinger_up\",\"bollinger_up\",\"bollinger_up\",\"bollinger_up\",\"bollinger_up\",\"bollinger_up\",\"bollinger_up\",\"bollinger_up\",\"bollinger_up\",\"bollinger_up\",\"bollinger_up\",\"bollinger_up\",\"bollinger_up\",\"bollinger_up\",\"bollinger_up\",\"bollinger_up\",\"bollinger_up\",\"bollinger_up\",\"bollinger_up\",\"bollinger_up\",\"bollinger_up\",\"bollinger_up\",\"bollinger_up\",\"bollinger_up\",\"bollinger_up\",\"bollinger_up\",\"bollinger_up\",\"bollinger_up\",\"bollinger_up\",\"bollinger_up\",\"bollinger_up\",\"bollinger_up\",\"bollinger_up\",\"bollinger_up\",\"bollinger_up\",\"bollinger_up\",\"bollinger_up\",\"bollinger_up\",\"bollinger_up\",\"bollinger_up\",\"bollinger_up\",\"bollinger_up\",\"bollinger_up\",\"bollinger_up\",\"bollinger_up\",\"bollinger_up\",\"bollinger_up\",\"bollinger_up\",\"bollinger_up\",\"bollinger_up\",\"bollinger_up\",\"bollinger_up\",\"bollinger_up\",\"bollinger_up\",\"bollinger_up\",\"bollinger_up\",\"bollinger_up\",\"bollinger_up\",\"bollinger_up\",\"bollinger_up\",\"bollinger_up\",\"bollinger_up\",\"bollinger_up\",\"bollinger_up\",\"bollinger_up\",\"bollinger_up\",\"bollinger_up\",\"bollinger_up\",\"bollinger_up\",\"bollinger_up\",\"bollinger_up\",\"bollinger_up\",\"bollinger_up\",\"bollinger_up\",\"bollinger_up\",\"bollinger_up\",\"bollinger_up\",\"bollinger_up\",\"bollinger_up\",\"bollinger_up\",\"bollinger_up\",\"bollinger_up\",\"bollinger_up\",\"bollinger_up\",\"bollinger_up\",\"bollinger_up\",\"bollinger_up\",\"bollinger_up\",\"bollinger_up\",\"bollinger_up\",\"bollinger_up\",\"bollinger_up\",\"bollinger_up\",\"bollinger_up\",\"bollinger_up\",\"bollinger_up\",\"bollinger_up\",\"bollinger_up\",\"bollinger_up\",\"bollinger_up\",\"bollinger_up\",\"bollinger_up\",\"bollinger_up\",\"bollinger_up\",\"bollinger_up\",\"bollinger_up\",\"bollinger_up\",\"bollinger_up\",\"bollinger_up\",\"bollinger_up\",\"bollinger_up\",\"bollinger_up\",\"bollinger_up\",\"bollinger_up\",\"bollinger_up\",\"bollinger_up\",\"bollinger_up\",\"bollinger_up\",\"bollinger_up\",\"bollinger_up\",\"bollinger_up\",\"bollinger_up\",\"bollinger_up\",\"bollinger_up\",\"bollinger_up\",\"bollinger_up\",\"bollinger_up\",\"bollinger_up\",\"bollinger_up\",\"bollinger_up\",\"bollinger_up\",\"bollinger_up\",\"bollinger_up\",\"bollinger_up\",\"bollinger_up\",\"bollinger_up\",\"bollinger_up\",\"bollinger_up\",\"bollinger_up\",\"bollinger_up\",\"bollinger_up\",\"bollinger_up\",\"bollinger_up\",\"bollinger_up\",\"bollinger_up\",\"bollinger_up\",\"bollinger_up\",\"bollinger_up\",\"bollinger_up\",\"bollinger_up\",\"bollinger_up\",\"bollinger_up\",\"bollinger_up\",\"bollinger_up\",\"bollinger_up\",\"bollinger_up\",\"bollinger_up\",\"bollinger_up\",\"bollinger_up\",\"bollinger_up\",\"bollinger_up\",\"bollinger_up\",\"bollinger_up\",\"bollinger_up\",\"bollinger_up\",\"bollinger_up\",\"bollinger_up\",\"bollinger_up\",\"bollinger_up\",\"bollinger_up\",\"bollinger_up\",\"bollinger_up\",\"bollinger_up\",\"bollinger_up\",\"bollinger_up\",\"bollinger_up\",\"bollinger_up\",\"bollinger_up\",\"bollinger_up\",\"bollinger_up\",\"bollinger_up\",\"bollinger_up\",\"bollinger_up\",\"bollinger_up\",\"bollinger_up\",\"bollinger_up\",\"bollinger_up\",\"bollinger_up\",\"bollinger_up\",\"bollinger_up\",\"bollinger_up\",\"bollinger_up\",\"bollinger_up\",\"bollinger_up\",\"bollinger_up\",\"bollinger_up\",\"bollinger_up\",\"bollinger_up\",\"bollinger_up\",\"bollinger_up\",\"bollinger_up\",\"bollinger_up\",\"bollinger_up\",\"bollinger_up\",\"bollinger_up\",\"bollinger_up\",\"bollinger_up\",\"bollinger_up\",\"bollinger_up\",\"bollinger_up\",\"bollinger_up\",\"bollinger_up\",\"bollinger_up\",\"bollinger_up\",\"bollinger_up\",\"bollinger_up\",\"bollinger_up\",\"bollinger_up\",\"bollinger_up\",\"bollinger_up\",\"bollinger_up\",\"bollinger_up\",\"bollinger_up\",\"bollinger_up\",\"bollinger_up\",\"bollinger_up\",\"bollinger_up\",\"bollinger_up\",\"bollinger_up\",\"bollinger_up\",\"bollinger_up\",\"bollinger_up\",\"bollinger_up\",\"bollinger_up\",\"bollinger_up\",\"bollinger_up\",\"bollinger_up\",\"bollinger_up\",\"bollinger_up\",\"bollinger_up\",\"bollinger_up\",\"bollinger_up\",\"bollinger_up\",\"bollinger_up\",\"bollinger_up\",\"bollinger_up\",\"bollinger_up\",\"bollinger_up\",\"bollinger_up\",\"bollinger_up\",\"bollinger_up\",\"bollinger_up\",\"bollinger_up\",\"bollinger_up\",\"bollinger_up\",\"bollinger_up\",\"bollinger_up\",\"bollinger_up\",\"bollinger_up\",\"bollinger_up\",\"bollinger_up\",\"bollinger_up\",\"bollinger_up\",\"bollinger_up\",\"bollinger_up\",\"bollinger_up\",\"bollinger_up\",\"bollinger_up\",\"bollinger_up\",\"bollinger_up\",\"bollinger_up\",\"bollinger_up\",\"bollinger_up\",\"bollinger_up\",\"bollinger_up\",\"bollinger_up\",\"bollinger_up\",\"bollinger_up\",\"bollinger_up\",\"bollinger_up\",\"bollinger_up\",\"bollinger_up\",\"bollinger_up\",\"bollinger_up\",\"bollinger_up\",\"bollinger_up\",\"bollinger_up\",\"bollinger_up\",\"bollinger_up\",\"bollinger_up\",\"bollinger_up\",\"bollinger_up\",\"bollinger_up\",\"bollinger_up\",\"bollinger_up\",\"bollinger_up\",\"bollinger_up\",\"bollinger_up\",\"bollinger_up\",\"bollinger_up\",\"bollinger_up\",\"bollinger_up\",\"bollinger_up\",\"bollinger_up\",\"bollinger_up\",\"bollinger_up\",\"bollinger_up\",\"bollinger_up\",\"bollinger_up\",\"bollinger_up\",\"bollinger_up\",\"bollinger_up\",\"bollinger_up\",\"bollinger_up\",\"bollinger_up\",\"bollinger_up\",\"bollinger_up\",\"bollinger_up\",\"bollinger_up\",\"bollinger_up\",\"bollinger_up\",\"bollinger_up\",\"bollinger_up\",\"bollinger_up\",\"bollinger_up\",\"bollinger_up\",\"bollinger_up\",\"bollinger_up\",\"bollinger_up\",\"bollinger_up\",\"bollinger_up\",\"bollinger_up\",\"bollinger_up\",\"bollinger_up\",\"bollinger_up\",\"bollinger_up\",\"bollinger_up\",\"bollinger_up\",\"bollinger_up\",\"bollinger_up\",\"bollinger_up\",\"bollinger_up\",\"bollinger_up\",\"bollinger_up\",\"bollinger_up\",\"bollinger_up\",\"bollinger_up\",\"bollinger_up\",\"bollinger_up\",\"bollinger_up\",\"bollinger_up\",\"bollinger_up\",\"bollinger_up\",\"bollinger_up\",\"bollinger_up\",\"bollinger_up\",\"bollinger_up\",\"bollinger_up\",\"bollinger_up\",\"bollinger_up\",\"bollinger_up\",\"bollinger_up\",\"bollinger_up\",\"bollinger_up\",\"bollinger_up\",\"bollinger_up\",\"bollinger_up\",\"bollinger_up\",\"bollinger_up\",\"bollinger_up\",\"bollinger_up\",\"bollinger_up\",\"bollinger_up\",\"bollinger_up\",\"bollinger_up\",\"bollinger_up\",\"bollinger_up\",\"bollinger_up\",\"bollinger_up\",\"bollinger_up\",\"bollinger_up\",\"bollinger_up\",\"bollinger_up\",\"bollinger_up\",\"bollinger_up\",\"bollinger_up\",\"bollinger_up\",\"bollinger_up\",\"bollinger_up\",\"bollinger_up\",\"bollinger_up\",\"bollinger_up\",\"bollinger_up\",\"bollinger_up\",\"bollinger_up\",\"bollinger_up\",\"bollinger_up\",\"bollinger_up\",\"bollinger_up\",\"bollinger_up\",\"bollinger_up\",\"bollinger_up\",\"bollinger_up\",\"bollinger_up\",\"bollinger_up\",\"bollinger_up\",\"bollinger_up\",\"bollinger_up\",\"bollinger_up\",\"bollinger_up\",\"bollinger_up\",\"bollinger_up\",\"bollinger_up\",\"bollinger_up\",\"bollinger_up\",\"bollinger_up\",\"bollinger_up\",\"bollinger_up\",\"bollinger_up\",\"bollinger_up\",\"bollinger_up\",\"bollinger_up\",\"bollinger_up\",\"bollinger_up\",\"bollinger_up\",\"bollinger_up\",\"bollinger_up\",\"bollinger_up\",\"bollinger_up\",\"bollinger_up\",\"bollinger_up\",\"bollinger_up\",\"bollinger_up\",\"bollinger_up\",\"bollinger_up\",\"bollinger_up\",\"bollinger_up\",\"bollinger_up\",\"bollinger_up\",\"bollinger_up\",\"bollinger_up\",\"bollinger_up\",\"bollinger_up\",\"bollinger_up\",\"bollinger_up\",\"bollinger_up\",\"bollinger_up\",\"bollinger_up\",\"bollinger_up\",\"bollinger_up\",\"bollinger_up\",\"bollinger_up\",\"bollinger_up\",\"bollinger_up\",\"bollinger_up\",\"bollinger_up\",\"bollinger_up\",\"bollinger_up\",\"bollinger_up\",\"bollinger_up\",\"bollinger_up\",\"bollinger_up\",\"bollinger_up\",\"bollinger_up\",\"bollinger_up\",\"bollinger_up\",\"bollinger_up\",\"bollinger_up\",\"bollinger_up\",\"bollinger_up\",\"bollinger_up\",\"bollinger_up\",\"bollinger_up\",\"bollinger_up\",\"bollinger_up\",\"bollinger_up\",\"bollinger_up\",\"bollinger_up\",\"bollinger_up\",\"bollinger_up\",\"bollinger_up\",\"bollinger_up\",\"bollinger_up\",\"bollinger_up\",\"bollinger_up\",\"bollinger_up\",\"bollinger_up\",\"bollinger_up\",\"bollinger_up\",\"bollinger_up\",\"bollinger_up\",\"bollinger_up\",\"bollinger_up\",\"bollinger_up\",\"bollinger_up\",\"bollinger_up\",\"bollinger_up\",\"bollinger_up\",\"bollinger_up\",\"bollinger_up\",\"bollinger_up\",\"bollinger_up\",\"bollinger_up\",\"bollinger_up\",\"bollinger_up\",\"bollinger_up\",\"bollinger_up\",\"bollinger_up\",\"bollinger_up\",\"bollinger_up\",\"bollinger_up\",\"bollinger_up\",\"bollinger_up\",\"bollinger_up\",\"bollinger_up\",\"bollinger_up\",\"bollinger_up\",\"bollinger_up\",\"bollinger_up\",\"bollinger_up\",\"bollinger_up\",\"bollinger_up\",\"bollinger_up\",\"bollinger_up\",\"bollinger_up\",\"bollinger_up\",\"bollinger_up\",\"bollinger_up\",\"bollinger_up\",\"bollinger_up\",\"bollinger_up\",\"bollinger_up\",\"bollinger_up\",\"bollinger_up\",\"bollinger_up\",\"bollinger_up\",\"bollinger_up\",\"bollinger_up\",\"bollinger_up\",\"bollinger_up\",\"bollinger_up\",\"bollinger_up\",\"bollinger_up\",\"bollinger_up\",\"bollinger_up\",\"bollinger_up\",\"bollinger_up\",\"bollinger_up\",\"bollinger_up\",\"bollinger_up\",\"bollinger_up\",\"bollinger_up\",\"bollinger_up\",\"bollinger_up\",\"bollinger_up\",\"bollinger_up\",\"bollinger_up\",\"bollinger_up\",\"bollinger_up\",\"bollinger_up\",\"bollinger_up\",\"bollinger_up\",\"bollinger_up\",\"bollinger_up\",\"bollinger_up\",\"bollinger_up\",\"bollinger_up\",\"bollinger_up\",\"bollinger_up\",\"bollinger_up\",\"bollinger_up\",\"bollinger_up\",\"bollinger_up\",\"bollinger_up\",\"bollinger_up\",\"bollinger_up\",\"bollinger_up\",\"bollinger_up\",\"bollinger_up\",\"bollinger_up\",\"bollinger_up\",\"bollinger_up\",\"bollinger_up\",\"bollinger_up\",\"bollinger_up\",\"bollinger_up\",\"bollinger_up\",\"bollinger_up\",\"bollinger_up\",\"bollinger_up\",\"bollinger_up\",\"bollinger_up\",\"bollinger_up\",\"bollinger_up\",\"bollinger_up\",\"bollinger_up\",\"bollinger_up\",\"bollinger_up\",\"bollinger_up\",\"bollinger_up\",\"bollinger_up\",\"bollinger_up\",\"bollinger_up\",\"bollinger_up\",\"bollinger_up\",\"bollinger_up\",\"bollinger_up\",\"bollinger_up\",\"bollinger_up\",\"bollinger_up\",\"bollinger_up\",\"bollinger_up\",\"bollinger_up\",\"bollinger_up\",\"bollinger_up\",\"bollinger_up\",\"bollinger_up\",\"bollinger_up\",\"bollinger_up\",\"bollinger_up\"],\"value\":{\"__ndarray__\":\"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\",\"dtype\":\"float64\",\"order\":\"little\",\"shape\":[1220]}},\"selected\":{\"id\":\"7382\"},\"selection_policy\":{\"id\":\"7398\"}},\"id\":\"7381\",\"type\":\"ColumnDataSource\"},{\"attributes\":{\"num_minor_ticks\":5,\"tickers\":[{\"id\":\"7366\"},{\"id\":\"7367\"},{\"id\":\"7368\"},{\"id\":\"7369\"},{\"id\":\"7370\"},{\"id\":\"7371\"},{\"id\":\"7372\"},{\"id\":\"7373\"},{\"id\":\"7374\"},{\"id\":\"7375\"},{\"id\":\"7376\"},{\"id\":\"7377\"}]},\"id\":\"7322\",\"type\":\"DatetimeTicker\"},{\"attributes\":{\"below\":[{\"id\":\"7321\"}],\"center\":[{\"id\":\"7324\"},{\"id\":\"7328\"}],\"height\":300,\"left\":[{\"id\":\"7325\"}],\"margin\":[5,5,5,5],\"min_border_bottom\":10,\"min_border_left\":10,\"min_border_right\":10,\"min_border_top\":10,\"renderers\":[{\"id\":\"7354\"},{\"id\":\"7387\"},{\"id\":\"7421\"}],\"right\":[{\"id\":\"7378\"}],\"sizing_mode\":\"fixed\",\"title\":{\"id\":\"7313\"},\"toolbar\":{\"id\":\"7335\"},\"width\":700,\"x_range\":{\"id\":\"7307\"},\"x_scale\":{\"id\":\"7317\"},\"y_range\":{\"id\":\"7308\"},\"y_scale\":{\"id\":\"7319\"}},\"id\":\"7312\",\"subtype\":\"Figure\",\"type\":\"Plot\"},{\"attributes\":{\"axis_label\":\"Date\",\"coordinates\":null,\"formatter\":{\"id\":\"7343\"},\"group\":null,\"major_label_policy\":{\"id\":\"7344\"},\"ticker\":{\"id\":\"7322\"}},\"id\":\"7321\",\"type\":\"DatetimeAxis\"},{\"attributes\":{\"callback\":null,\"formatters\":{\"@{Date}\":\"datetime\"},\"renderers\":[{\"id\":\"7354\"},{\"id\":\"7387\"},{\"id\":\"7421\"}],\"tags\":[\"hv_created\"],\"tooltips\":[[\"Variable\",\"@{Variable}\"],[\"Date\",\"@{Date}{%F %T}\"],[\"value\",\"@{value}\"]]},\"id\":\"7309\",\"type\":\"HoverTool\"},{\"attributes\":{\"click_policy\":\"mute\",\"coordinates\":null,\"group\":null,\"items\":[{\"id\":\"7379\"},{\"id\":\"7413\"},{\"id\":\"7449\"}],\"location\":[0,0],\"title\":\"Variable\"},\"id\":\"7378\",\"type\":\"Legend\"},{\"attributes\":{\"source\":{\"id\":\"7348\"}},\"id\":\"7355\",\"type\":\"CDSView\"},{\"attributes\":{\"label\":{\"value\":\"Close\"},\"renderers\":[{\"id\":\"7354\"}]},\"id\":\"7379\",\"type\":\"LegendItem\"},{\"attributes\":{\"line_alpha\":0.1,\"line_color\":\"#30a2da\",\"line_width\":2,\"x\":{\"field\":\"Date\"},\"y\":{\"field\":\"value\"}},\"id\":\"7352\",\"type\":\"Line\"},{\"attributes\":{},\"id\":\"7349\",\"type\":\"Selection\"},{\"attributes\":{\"margin\":[5,5,5,5],\"name\":\"HSpacer09849\",\"sizing_mode\":\"stretch_width\"},\"id\":\"7306\",\"type\":\"Spacer\"},{\"attributes\":{\"margin\":[5,5,5,5],\"name\":\"HSpacer09850\",\"sizing_mode\":\"stretch_width\"},\"id\":\"7685\",\"type\":\"Spacer\"},{\"attributes\":{\"axis\":{\"id\":\"7321\"},\"coordinates\":null,\"grid_line_color\":null,\"group\":null,\"ticker\":null},\"id\":\"7324\",\"type\":\"Grid\"},{\"attributes\":{\"children\":[{\"id\":\"7306\"},{\"id\":\"7312\"},{\"id\":\"7685\"}],\"margin\":[0,0,0,0],\"name\":\"Row09845\",\"tags\":[\"embedded\"]},\"id\":\"7305\",\"type\":\"Row\"},{\"attributes\":{\"coordinates\":null,\"group\":null,\"text_color\":\"black\",\"text_font_size\":\"12pt\"},\"id\":\"7313\",\"type\":\"Title\"},{\"attributes\":{\"line_color\":\"#e5ae38\",\"line_width\":2,\"x\":{\"field\":\"Date\"},\"y\":{\"field\":\"value\"}},\"id\":\"7418\",\"type\":\"Line\"},{\"attributes\":{},\"id\":\"7319\",\"type\":\"LinearScale\"},{\"attributes\":{\"axis_label\":\"\",\"coordinates\":null,\"formatter\":{\"id\":\"7346\"},\"group\":null,\"major_label_policy\":{\"id\":\"7347\"},\"ticker\":{\"id\":\"7326\"}},\"id\":\"7325\",\"type\":\"LinearAxis\"},{\"attributes\":{},\"id\":\"7326\",\"type\":\"BasicTicker\"},{\"attributes\":{},\"id\":\"7416\",\"type\":\"Selection\"},{\"attributes\":{},\"id\":\"7330\",\"type\":\"PanTool\"},{\"attributes\":{},\"id\":\"7331\",\"type\":\"WheelZoomTool\"},{\"attributes\":{\"data\":{\"Date\":{\"__ndarray__\":\"AADA4Uy/dUIAAIBHn791QgAAwHiWwHVCAACA3ujAdUIAAEBEO8F1QgAAAKqNwXVCAADAD+DBdUIAAABB18J1QgAAwKYpw3VCAACADHzDdUIAAEByzsN1QgAAANggxHVCAAAAb2rFdUIAAMDUvMV1QgAAgDoPxnVCAABAoGHGdUIAAIDRWMd1QgAAQDerx3VCAAAAnf3HdUIAAMACUMh1QgAAgGiiyHVCAADAmZnJdUIAAID/68l1QgAAQGU+ynVCAAAAy5DKdUIAAMAw48p1QgAAAGLay3VCAADAxyzMdUIAAIAtf8x1QgAAQJPRzHVCAAAA+SPNdUIAAEAqG851QgAAAJBtznVCAADA9b/OdUIAAIBbEs91QgAAQMFkz3VCAACA8lvQdUIAAAC+ANF1QgAAwCNT0XVCAACAiaXRdUIAAMC6nNJ1QgAAgCDv0nVCAABAhkHTdUIAAADsk9N1QgAAwFHm03VCAAAAg93UdUIAAMDoL9V1QgAAgE6C1XVCAABAtNTVdUIAAAAaJ9Z1QgAAQEse13VCAAAAsXDXdUIAAMAWw9d1QgAAgHwV2HVCAABA4mfYdUIAAIATX9l1QgAAQHmx2XVCAAAA3wPadUIAAMBEVtp1QgAAgKqo2nVCAADA25/bdUIAAIBB8tt1QgAAQKdE3HVCAAAADZfcdUIAAMBy6dx1QgAAAKTg3XVCAADACTPedUIAAIBvhd51QgAAQNXX3nVCAAAAOyrfdUIAAEBsIeB1QgAAANJz4HVCAADAN8bgdUIAAICdGOF1QgAAQANr4XVCAACANGLidUIAAECatOJ1QgAAAAAH43VCAADAZVnjdUIAAIDLq+N1QgAAgGL15HVCAABAyEfldUIAAAAumuV1QgAAwJPs5XVCAAAAxePmdUIAAMAqNud1QgAAgJCI53VCAABA9trndUIAAABcLeh1QgAAQI0k6XVCAAAA83bpdUIAAMBYyel1QgAAgL4b6nVCAABAJG7qdUIAAIBVZet1QgAAQLu363VCAAAAIQrsdUIAAMCGXOx1QgAAgOyu7HVCAADAHabtdUIAAICD+O11QgAAQOlK7nVCAAAAT53udUIAAMC07+51QgAAAObm73VCAADASznwdUIAAICxi/B1QgAAQBfe8HVCAAAAfTDxdUIAAECuJ/J1QgAAABR68nVCAADAeczydUIAAIDfHvN1QgAAQEVx83VCAACAdmj0dUIAAEDcuvR1QgAAAEIN9XVCAADAp1/1dUIAAIANsvV1QgAAwD6p9nVCAACApPv2dUIAAEAKTvd1QgAAAHCg93VCAADA1fL3dUIAAAAH6vh1QgAAwGw8+XVCAACA0o75dUIAAEA44fl1QgAAAJ4z+nVCAABAzyr7dUIAAAA1fft1QgAAwJrP+3VCAACAACL8dUIAAEBmdPx1QgAAgJdr/XVCAABA/b39dUIAAABjEP51QgAAgC61/nVCAADAX6z/dUIAAIDF/v91QgAAQCtRAHZCAAAAkaMAdkIAAMD29QB2QgAAACjtAXZCAADAjT8CdkIAAIDzkQJ2QgAAQFnkAnZCAAAAvzYDdkIAAEDwLQR2QgAAAFaABHZCAADAu9IEdkIAAIAhJQV2QgAAQId3BXZCAACAuG4GdkIAAEAewQZ2QgAAAIQTB3ZCAADA6WUHdkIAAIBPuAd2QgAAgOYBCXZCAABATFQJdkIAAACypgl2QgAAwBf5CXZCAADArkILdkIAAIAUlQt2QgAAQHrnC3ZCAAAA4DkMdkIAAEARMQ12QgAAAHeDDXZCAADA3NUNdkIAAIBCKA52QgAAQKh6DnZCAABAP8QPdkIAAAClFhB2QgAAwAppEHZCAACAcLsQdkIAAMChshF2QgAAgAcFEnZCAABAbVcSdkIAAADTqRJ2QgAAwDj8EnZCAAAAavMTdkIAAMDPRRR2QgAAgDWYFHZCAABAm+oUdkIAAAABPRV2QgAAQDI0FnZCAAAAmIYWdkIAAMD92BZ2QgAAgGMrF3ZCAABAyX0XdkIAAID6dBh2QgAAQGDHGHZCAAAAxhkZdkIAAMArbBl2QgAAgJG+GXZCAACAKAgbdkIAAECOWht2QgAAAPSsG3ZCAADAWf8bdkIAAACL9hx2QgAAwPBIHXZCAACAVpsddkIAAEC87R12QgAAACJAHnZCAABAUzcfdkIAAAC5iR92QgAAwB7cH3ZCAACAhC4gdkIAAEDqgCB2QgAAgBt4IXZCAABAgcohdkIAAADnHCJ2QgAAwExvInZCAACAssEidkIAAMDjuCN2QgAAgEkLJHZCAABAr10kdkIAAAAVsCR2QgAAwHoCJXZCAAAArPkldkIAAMARTCZ2QgAAgHeeJnZCAABA3fAmdkIAAEB0Oih2QgAAANqMKHZCAADAP98odkIAAIClMSl2QgAAQAuEKXZCAACAPHsqdkIAAECizSp2QgAAAAggK3ZCAADAbXIrdkIAAIDTxCt2QgAAwAS8LHZCAACAag4tdkIAAEDQYC12QgAAADazLXZCAADAmwUudkIAAADN/C52QgAAwDJPL3ZCAACAmKEvdkIAAED+8y92QgAAAGRGMHZCAABAlT0xdkIAAAD7jzF2QgAAwGDiMXZCAACAxjQydkIAAEAshzJ2QgAAgF1+M3ZCAABAw9AzdkIAAAApIzR2QgAAwI51NHZCAACA9Mc0dkIAAMAlvzV2QgAAgIsRNnZCAABA8WM2dkIAAABXtjZ2QgAAwLwIN3ZCAAAA7v83dkIAAMBTUjh2QgAAgLmkOHZCAABAH/c4dkIAAACFSTl2QgAAAByTOnZCAADAgeU6dkIAAIDnNzt2QgAAQE2KO3ZCAACAfoE8dkIAAEDk0zx2QgAAAEomPXZCAADAr3g9dkIAAIAVyz12QgAAwEbCPnZCAACArBQ/dkIAAEASZz92QgAAAHi5P3ZCAADA3QtAdkIAAAAPA0F2QgAAwHRVQXZCAACA2qdBdkIAAEBA+kF2QgAAAKZMQnZCAABA10NDdkIAAAA9lkN2QgAAwKLoQ3ZCAACACDtEdkIAAEBujUR2QgAAgJ+ERXZCAABABddFdkIAAMDQe0Z2QgAAgDbORnZCAADAZ8VHdkIAAIDNF0h2QgAAQDNqSHZCAAAAmbxIdkIAAMD+Dkl2QgAAADAGSnZCAADAlVhKdkIAAID7qkp2QgAAQGH9SnZCAAAAx09LdkIAAED4Rkx2QgAAAF6ZTHZCAADAw+tMdkIAAIApPk12QgAAQI+QTXZCAACAwIdOdkIAAEAm2k52QgAAAIwsT3ZCAADA8X5PdkIAAIBX0U92QgAAwIjIUHZCAACA7hpRdkIAAEBUbVF2QgAAALq/UXZCAADAHxJSdkIAAABRCVN2QgAAwLZbU3ZCAACAHK5TdkIAAECCAFR2QgAAAOhSVHZCAABAGUpVdkIAAAB/nFV2QgAAwOTuVXZCAACASkFWdkIAAECwk1Z2QgAAgOGKV3ZCAABAR91XdkIAAACtL1h2QgAAwBKCWHZCAACAeNRYdkIAAIAPHlp2QgAAQHVwWnZCAAAA28JadkIAAMBAFVt2QgAAAHIMXHZCAADA115cdkIAAIA9sVx2QgAAQKMDXXZCAAAACVZddkIAAEA6TV52QgAAAKCfXnZCAADABfJedkIAAIBrRF92QgAAQNGWX3ZCAACAAo5gdkIAAEBo4GB2QgAAAM4yYXZCAADAM4VhdkIAAICZ12F2QgAAwMrOYnZCAACAMCFjdkIAAECWc2N2QgAAAPzFY3ZCAADAYRhkdkIAAACTD2V2QgAAwPhhZXZCAACAXrRldkIAAEDEBmZ2QgAAACpZZnZCAABAW1BndkIAAADBomd2QgAAwCb1Z3ZCAACAjEdodkIAAEDymWh2QgAAgCORaXZCAABAieNpdkIAAADvNWp2QgAAwFSIanZCAACAutpqdkIAAMDr0Wt2QgAAgFEkbHZCAABAt3ZsdkIAAAAdyWx2QgAAwIIbbXZCAAAAtBJudkIAAMAZZW52QgAAgH+3bnZCAABA5QlvdkIAAABLXG92QgAAQHxTcHZCAAAA4qVwdkIAAMBH+HB2QgAAgK1KcXZCAABAE51xdkIAAIBElHJ2QgAAQKrmcnZCAAAAEDlzdkIAAIDb3XN2QgAAwAzVdHZCAACAcid1dkIAAEDYeXV2QgAAAD7MdXZCAADAox52dkIAAADVFXd2QgAAwDpod3ZCAABABg14dkIAAABsX3h2QgAAQJ1WeXZCAAAAA6l5dkIAAMBo+3l2QgAAgM5NenZCAABANKB6dkIAAIBll3t2QgAAQMvpe3ZCAAAAMTx8dkIAAMCWjnx2QgAAgPzgfHZCAADALdh9dkIAAED5fH52QgAAAF/PfnZCAADAxCF/dkIAAAD2GIB2QgAAgMG9gHZCAABAJxCBdkIAAACNYoF2QgAAQL5ZgnZCAAAAJKyCdkIAAMCJ/oJ2QgAAgO9Qg3ZCAABAVaODdkIAAICGmoR2QgAAQOzshHZCAAAAUj+FdkIAAMC3kYV2QgAAgB3khXZCAACAtC2HdkIAAEAagId2QgAAAIDSh3ZCAADA5SSIdkIAAAAXHIl2QgAAwHxuiXZCAACA4sCJdkIAAEBIE4p2QgAAAK5linZCAABA31yLdkIAAABFr4t2QgAAwKoBjHZCAACAEFSMdkIAAEB2pox2QgAAgKedjXZCAABADfCNdkIAAABzQo52QgAAwNiUjnZCAACAPueOdkIAAIDVMJB2QgAAQDuDkHZCAAAAodWQdkIAAMAGKJF2QgAAADgfknZCAADAnXGSdkIAAIADxJJ2QgAAQGkWk3ZCAAAAz2iTdkIAAEAAYJR2QgAAAGaylHZCAADAywSVdkIAAIAxV5V2QgAAQJeplXZCAACAyKCWdkIAAEAu85Z2QgAAAJRFl3ZCAADA+ZeXdkIAAIBf6pd2QgAAwJDhmHZCAACA9jOZdkIAAEBchpl2QgAAAMLYmXZCAADAJyuadkIAAABZIpt2QgAAwL50m3ZCAACAJMebdkIAAECKGZx2QgAAAPBrnHZCAABAIWOddkIAAACHtZ12QgAAwOwHnnZCAACAUlqedkIAAEC4rJ52QgAAgOmjn3ZCAABAT/afdkIAAAC1SKB2QgAAwBqboHZCAACAgO2gdkIAAMCx5KF2QgAAgBc3onZCAABAfYmidkIAAADj26J2QgAAAHolpHZCAADA33ekdkIAAIBFyqR2QgAAQKscpXZCAAAAEW+ldkIAAEBCZqZ2QgAAAKi4pnZCAADADQundkIAAIBzXad2QgAAQNmvp3ZCAACACqeodkIAAEBw+ah2QgAAANZLqXZCAADAO56pdkIAAICh8Kl2QgAAwNLnqnZCAACAODqrdkIAAECejKt2QgAAAATfq3ZCAADAaTGsdkIAAACbKK12QgAAwAB7rXZCAACAZs2tdkIAAEDMH652QgAAADJyrnZCAAAAybuvdkIAAMAuDrB2QgAAgJRgsHZCAABA+rKwdkIAAIArqrF2QgAAQJH8sXZCAAAA906ydkIAAMBcobJ2QgAAgMLzsnZCAADA8+qzdkIAAIBZPbR2QgAAQL+PtHZCAAAAJeK0dkIAAMCKNLV2QgAAALwrtnZCAADAIX62dkIAAICH0LZ2QgAAQO0it3ZCAAAAU3W3dkIAAECEbLh2QgAAAOq+uHZCAADATxG5dkIAAIC1Y7l2QgAAQBu2uXZCAACATK26dkIAAECy/7p2QgAAABhSu3ZCAACA4/a7dkIAAMAU7rx2QgAAgHpAvXZCAABA4JK9dkIAAABG5b12QgAAwKs3vnZCAAAA3S6/dkIAAMBCgb92QgAAgKjTv3ZCAABADibAdkIAAAB0eMB2QgAAQKVvwXZCAAAAC8LBdkIAAMBwFMJ2QgAAgNZmwnZCAABAPLnCdkIAAIBtsMN2QgAAQNMCxHZCAAAAOVXEdkIAAMCep8R2QgAAgAT6xHZCAADANfHFdkIAAICbQ8Z2QgAAQAGWxnZCAAAAZ+jGdkIAAMDMOsd2QgAAAP4xyHZCAADAY4TIdkIAAIDJ1sh2QgAAQC8pyXZCAAAAlXvJdkIAAEDGcsp2QgAAACzFynZCAADAkRfLdkIAAID3act2QgAAQF28y3ZCAACAjrPMdkIAAED0Bc12QgAAAFpYzXZCAADAv6rNdkIAAIAl/c12QgAAgLxGz3ZCAABAIpnPdkIAAACI6892QgAAwO090HZCAAAAHzXRdkIAAMCEh9F2QgAAgOrZ0XZCAABAUCzSdkIAAAC2ftJ2QgAAQOd103ZCAAAATcjTdkIAAMCyGtR2QgAAgBht1HZCAABAfr/UdkIAAICvttV2QgAAQBUJ1nZCAAAAe1vWdkIAAMDgrdZ2QgAAgEYA13ZCAADAd/fXdkIAAIDdSdh2QgAAQEOc2HZCAAAAqe7YdkIAAMAOQdl2QgAAAEA42nZCAADApYradkIAAIAL3dp2QgAAQHEv23ZCAAAA14HbdkIAAEAIedx2QgAAAG7L3HZCAADA0x3ddkIAAIA5cN12QgAAQJ/C3XZCAACA0LnedkIAAEA2DN92QgAAAJxe33ZCAADAAbHfdkIAAIBnA+B2QgAAwJj64HZCAACA/kzhdkIAAEBkn+F2QgAAAMrx4XZCAADAL0TidkIAAABhO+N2QgAAwMaN43ZCAACALODjdkIAAECSMuR2QgAAAPiE5HZCAABAKXzldkIAAACPzuV2QgAAwPQg5nZCAACAWnPmdkIAAEDAxeZ2QgAAgPG853ZCAABAVw/odkIAAAC9Yeh2QgAAwCK06HZCAACAiAbpdkIAAMC5/el2QgAAgB9Q6nZCAABAhaLqdkIAAMBQR+t2QgAAAII+7HZCAADA55DsdkIAAIBN4+x2QgAAQLM17XZCAAAAGYjtdkIAAEBKf+52QgAAALDR7nZCAADAFSTvdkIAAIB7du92QgAAQOHI73ZCAACAEsDwdkIAAEB4EvF2QgAAAN5k8XZCAADAQ7fxdkIAAICpCfJ2QgAAwNoA83ZCAACAQFPzdkIAAAAM+PN2QgAAwHFK9HZCAAAAo0H1dkIAAMAIlPV2QgAAQNQ49nZCAAAAOov2dkIAAEBrgvd2QgAAANHU93ZCAADANif4dkIAAICcefh2QgAAQALM+HZCAACAM8P5dkIAAECZFfp2QgAAAP9n+nZCAADAZLr6dkIAAIDKDPt2QgAAgGFW/HZCAABAx6j8dkIAAAAt+/x2QgAAwJJN/XZCAAAAxET+dkIAAMApl/52QgAAgI/p/nZCAABA9Tv/dkIAAABbjv92QgAAQIyFAHdCAAAA8tcAd0IAAMBXKgF3QgAAgL18AXdCAABAI88Bd0IAAIBUxgJ3QgAAQLoYA3dCAAAAIGsDd0IAAMCFvQN3QgAAgOsPBHdCAACAglkFd0IAAEDoqwV3QgAAAE7+BXdCAADAs1AGd0IAAADlRwd3QgAAwEqaB3dCAACAsOwHd0IAAEAWPwh3QgAAAHyRCHdCAABArYgJd0IAAAAT2wl3QgAAwHgtCndCAACA3n8Kd0IAAEBE0gp3QgAAgHXJC3dCAABA2xsMd0IAAABBbgx3QgAAwKbADHdCAACADBMNd0IAAMA9Cg53QgAAgKNcDndCAABACa8Od0IAAABvAQ93QgAAwNRTD3dCAAAABksQd0IAAMBrnRB3QgAAgNHvEHdCAABAN0IRd0IAAACdlBF3QgAAQM6LEndCAAAANN4Sd0IAAMCZMBN3QgAAgP+CE3dCAABAZdUTd0IAAICWzBR3QgAAQPweFXdCAAAAYnEVd0IAAMDHwxV3QgAAwF4NF3dCAACAxF8Xd0IAAEAqshd3QgAAAJAEGHdCAADA9VYYd0IAAAAnThl3QgAAwIygGXdCAACA8vIZd0IAAEBYRRp3QgAAAL6XGndCAABA744bd0IAAABV4Rt3QgAAwLozHHdCAACAIIYcd0IAAECG2Bx3QgAAgLfPHXdCAABAHSIed0IAAACDdB53QgAAwOjGHndCAACAThkfd0IAAMB/ECB3QgAAgOViIHdCAABAS7Ugd0IAAACxByF3QgAAwBZaIXdCAAAASFEid0IAAMCtoyJ3QgAAgBP2IndCAABAeUgjd0IAAADfmiN3QgAAAHbkJHdCAADA2zYld0IAAIBBiSV3QgAAQKfbJXdCAACA2NImd0IAAEA+JSd3QgAAAKR3J3dCAADACcond0IAAIBvHCh3QgAAwKATKXdCAACABmYpd0IAAEBsuCl3QgAAANIKKndCAADAN10qd0IAAABpVCt3QgAAwM6mK3dCAACANPkrd0IAAECaSyx3QgAAAACeLHdCAABAMZUtd0IAAACX5y13QgAAwPw5LndCAACAYowud0IAAEDI3i53QgAAgPnVL3dCAABAXygwd0IAAADFejB3QgAAwCrNMHdCAADAwRYyd0IAAIAnaTJ3QgAAQI27MndCAAAA8w0zd0IAAMBYYDN3QgAAAIpXNHdCAADA76k0d0IAAIBV/DR3QgAAQLtONXdCAAAAIaE1d0IAAEBSmDZ3QgAAALjqNndCAADAHT03d0IAAICDjzd3QgAAQOnhN3dCAACAGtk4d0IAAECAKzl3QgAAAOZ9OXdCAADAS9A5d0IAAICxIjp3QgAAwOIZO3dCAACASGw7d0IAAECuvjt3QgAAABQRPHdCAADAeWM8d0IAAACrWj13QgAAwBCtPXdCAACAdv89d0IAAEDcUT53QgAAAEKkPndCAABAc5s/d0IAAADZ7T93QgAAwD5AQHdCAACApJJAd0IAAEAK5UB3QgAAgDvcQXdCAABAoS5Cd0IAAAAHgUJ3QgAAwGzTQndCAACA0iVDd0IAAMADHUR3QgAAgGlvRHdCAABAz8FEd0IAAAA1FEV3QgAAwJpmRXdCAADAMbBGd0IAAICXAkd3QgAAQP1UR3dCAAAAY6dHd0IAAECUnkh3QgAAAPrwSHdCAADAX0NJd0IAAIDFlUl3QgAAQCvoSXdCAACAXN9Kd0IAAEDCMUt3QgAAACiES3dCAADAjdZLd0IAAIDzKEx3QgAAwCQgTXdCAACAinJNd0IAAEDwxE13QgAAAFYXTndCAADAu2lOd0IAAADtYE93QgAAwFKzT3dCAACAuAVQd0IAAEAeWFB3QgAAAISqUHdCAABAtaFRd0IAAAAb9FF3QgAAwIBGUndCAACA5phSd0IAAEBM61J3QgAAgH3iU3dCAABA4zRUd0IAAABJh1R3QgAAwK7ZVHdCAACAFCxVd0IAAMBFI1Z3QgAAgKt1VndCAABAEchWd0IAAAB3Gld3QgAAwNxsV3dCAAAADmRYd0IAAMBztlh3QgAAgNkIWXdCAABAP1tZd0IAAAClrVl3QgAAQNakWndCAAAAPPdad0IAAMChSVt3QgAAgAecW3dCAABAbe5bd0IAAICe5Vx3QgAAQAQ4XXdCAAAAaopdd0IAAMDP3F13QgAAgDUvXndCAADAZiZfd0IAAIDMeF93QgAAQDLLX3dCAADA/W9gd0IAAAAvZ2F3QgAAwJS5YXdCAACA+gtid0IAAEBgXmJ3QgAAAMawYndCAABA96djd0IAAABd+mN3QgAAwMJMZHdCAACAKJ9kd0IAAECO8WR3QgAAgL/oZXdCAABAJTtmd0IAAACLjWZ3QgAAwPDfZndCAACAVjJnd0IAAMCHKWh3QgAAgO17aHdCAABAU85od0IAAAC5IGl3QgAAAFBqandCAADAtbxqd0IAAIAbD2t3QgAAQIFha3dCAABAGKtsd0IAAAB+/Wx3QgAAwONPbXdCAACASaJtd0IAAECv9G13QgAAgODrbndCAABARj5vd0IAAACskG93QgAAwBHjb3dCAACAdzVwd0IAAIAOf3F3QgAAQHTRcXdCAAAA2iNyd0IAAMA/dnJ3QgAAAHFtc3dCAADA1r9zd0IAAIA8EnR3QgAAQKJkdHdCAAAACLd0d0IAAEA5rnV3QgAAAJ8AdndCAADABFN2d0IAAIBqpXZ3QgAAQND3dndCAACAAe93d0IAAEBnQXh3QgAAAM2TeHdCAADAMuZ4d0IAAICYOHl3QgAAgC+CendCAABAldR6d0IAAAD7Jnt3QgAAwGB5e3dCAAAAknB8d0IAAMD3wnx3QgAAgF0VfXdCAABAw2d9d0IAAAApun13QgAAQFqxfndCAAAAwAN/d0IAAMAlVn93QgAAgIuof3dCAABA8fp/d0IAAIAi8oB3QgAAQIhEgXdCAAAA7paBd0IAAMBT6YF3QgAAgLk7gndCAADA6jKDd0IAAIBQhYN3QgAAQLbXg3dCAAAAHCqEd0IAAMCBfIR3QgAAALNzhXdCAADAGMaFd0IAAIB+GIZ3QgAAQORqhndCAAAASr2Gd0IAAEB7tId3QgAAAOEGiHdCAADARlmId0IAAICsq4h3QgAAgEP1iXdCAABAqUeKd0IAAAAPmop3QgAAwHTsindCAACA2j6Ld0IAAMALNox3QgAAgHGIjHdCAABA19qMd0IAAAA9LY13QgAAwKJ/jXdCAAAA1HaOd0IAAMA5yY53QgAAgJ8bj3dCAABABW6Pd0IAAABrwI93QgAAQJy3kHdCAAAAAgqRd0IAAMBnXJF3QgAAgM2ukXdCAABAMwGSd0IAAIBk+JJ3QgAAQMpKk3dCAAAAMJ2Td0IAAMCV75N3QgAAgPtBlHdCAADALDmVd0IAAICSi5V3QgAAQPjdlXdCAAAAXjCWd0IAAMDDgpZ3QgAAAPV5l3dCAADAWsyXd0IAAIDAHph3QgAAQCZxmHdCAAAAjMOYd0IAAEC9upl3QgAAACMNmndCAADAiF+ad0IAAIDusZp3QgAAQFQEm3dCAABA602cd0IAAABRoJx3QgAAwLbynHdCAACAHEWdd0IAAMBNPJ53QgAAgLOOnndCAABAGeGed0IAAAB/M593QgAAwOSFn3dCAAAAFn2gd0IAAMB7z6B3QgAAgOEhoXdCAABAR3Shd0IAAACtxqF3QgAAQN69ondCAAAARBCjd0IAAMCpYqN3QgAAgA+1o3dCAABAdQekd0IAAICm/qR3QgAAQAxRpXdCAAAAcqOld0IAAMDX9aV3QgAAgD1IpndCAACA1JGnd0IAAEA65Kd3QgAAAKA2qHdCAADABYmod0IAAAA3gKl3QgAAwJzSqXdCAACAAiWqd0IAAEBod6p3QgAAAM7JqndCAABA/8Crd0IAAABlE6x3QgAAwMplrHdCAACAMLisd0IAAECWCq13QgAAgMcBrndCAABALVSud0IAAACTpq53QgAAwPj4rndCAACAXkuvd0IAAMCPQrB3QgAAgPWUsHdCAABAW+ewd0IAAADBObF3QgAAwCaMsXdCAAAAWIOyd0IAAMC91bJ3QgAAgCMos3dCAABAiXqzd0IAAADvzLN3QgAAQCDEtHdCAAAAhha1d0IAAMDraLV3QgAAgFG7tXdCAABAtw22d0IAAIDoBLd3QgAAQE5Xt3dCAAAAtKm3d0IAAMAZ/Ld3QgAAgH9OuHdCAADAsEW5d0IAAIAWmLl3QgAAQHzquXdCAAAA4jy6d0IAAMBHj7p3QgAAwN7Yu3dCAACARCu8d0IAAECqfbx3QgAAABDQvHdCAABAQce9d0IAAACnGb53QgAAwAxsvndCAACAcr6+d0IAAEDYEL93QgAAgAkIwHdCAABAb1rAd0IAAADVrMB3QgAAwDr/wHdCAACAoFHBd0IAAMDRSMJ3QgAAgDebwndCAABAne3Cd0IAAAADQMN3QgAAwGiSw3dCAAAAmonEd0IAAMD/28R3QgAAgGUuxXdCAABAy4DFd0IAAAAx08V3QgAAQGLKxndCAAAAyBzHd0IAAMAtb8d3QgAAgJPBx3dCAABA+RPId0IAAIAqC8l3QgAAQJBdyXdCAAAA9q/Jd0IAAMBbAsp3QgAAgMFUyndCAADA8kvLd0IAAIBYnst3QgAAQL7wy3dCAAAAJEPMd0IAAMCJlcx3QgAAALuMzXdCAADAIN/Nd0IAAICGMc53QgAAQOyDzndCAAAAUtbOd0IAAECDzc93QgAAAOkf0HdCAADATnLQd0IAAIC0xNB3QgAAQBoX0XdCAACASw7Sd0IAAECxYNJ3QgAAABez0ndCAADAfAXTd0IAAIDiV9N3QgAAwBNP1HdCAACAeaHUd0IAAEDf89R3QgAAwKqY1XdCAAAA3I/Wd0IAAMBB4tZ3QgAAgKc013dCAABADYfXd0IAAABz2dd3QgAAQKTQ2HdCAAAACiPZd0IAAMBvddl3QgAAgNXH2XdCAABAOxrad0IAAIBsEdt3QgAAQNJj23dCAAAAOLbbd0IAAMCdCNx3QgAAgANb3HdCAADANFLdd0IAAICapN13QgAAQAD33XdCAAAAZkned0IAAAD9kt93QgAAwGLl33dCAACAyDfgd0IAAEAuiuB3QgAAAJTc4HdCAABAxdPhd0IAAAArJuJ3QgAAwJB44ndCAACA9srid0IAAEBcHeN3QgAAgI0U5HdCAABA82bkd0IAAABZueR3QgAAwL4L5XdCAACAJF7ld0IAAIC7p+Z3QgAAQCH65ndCAAAAh0znd0IAAMDsnud3QgAAAB6W6HdCAADAg+jod0IAAIDpOul3QgAAQE+N6XdCAAAAtd/pd0IAAEDm1up3QgAAAEwp63dCAADAsXvrd0IAAIAXzut3QgAAQH0g7HdCAACArhftd0IAAEAUau13QgAAAHq87XdCAADA3w7ud0IAAIBFYe53QgAAwHZY73dCAACA3Krvd0IAAEBC/e93QgAAAKhP8HdCAADADaLwd0IAAMCk6/F3QgAAgAo+8ndCAABAcJDyd0IAAADW4vJ3QgAAQAfa83dCAAAAbSz0d0IAAMDSfvR3QgAAgDjR9HdCAABAniP1d0IAAIDPGvZ3QgAAQDVt9ndCAAAAm7/2d0IAAMAAEvd3QgAAgGZk93dCAADAl1v4d0IAAID9rfh3Qg==\",\"dtype\":\"float64\",\"order\":\"little\",\"shape\":[1220]},\"Variable\":[\"Close\",\"Close\",\"Close\",\"Close\",\"Close\",\"Close\",\"Close\",\"Close\",\"Close\",\"Close\",\"Close\",\"Close\",\"Close\",\"Close\",\"Close\",\"Close\",\"Close\",\"Close\",\"Close\",\"Close\",\"Close\",\"Close\",\"Close\",\"Close\",\"Close\",\"Close\",\"Close\",\"Close\",\"Close\",\"Close\",\"Close\",\"Close\",\"Close\",\"Close\",\"Close\",\"Close\",\"Close\",\"Close\",\"Close\",\"Close\",\"Close\",\"Close\",\"Close\",\"Close\",\"Close\",\"Close\",\"Close\",\"Close\",\"Close\",\"Close\",\"Close\",\"Close\",\"Close\",\"Close\",\"Close\",\"Close\",\"Close\",\"Close\",\"Close\",\"Close\",\"Close\",\"Close\",\"Close\",\"Close\",\"Close\",\"Close\",\"Close\",\"Close\",\"Close\",\"Close\",\"Close\",\"Close\",\"Close\",\"Close\",\"Close\",\"Close\",\"Close\",\"Close\",\"Close\",\"Close\",\"Close\",\"Close\",\"Close\",\"Close\",\"Close\",\"Close\",\"Close\",\"Close\",\"Close\",\"Close\",\"Close\",\"Close\",\"Close\",\"Close\",\"Close\",\"Close\",\"Close\",\"Close\",\"Close\",\"Close\",\"Close\",\"Close\",\"Close\",\"Close\",\"Close\",\"Close\",\"Close\",\"Close\",\"Close\",\"Close\",\"Close\",\"Close\",\"Close\",\"Close\",\"Close\",\"Close\",\"Close\",\"Close\",\"Close\",\"Close\",\"Close\",\"Close\",\"Close\",\"Close\",\"Close\",\"Close\",\"Close\",\"Close\",\"Close\",\"Close\",\"Close\",\"Close\",\"Close\",\"Close\",\"Close\",\"Close\",\"Close\",\"Close\",\"Close\",\"Close\",\"Close\",\"Close\",\"Close\",\"Close\",\"Close\",\"Close\",\"Close\",\"Close\",\"Close\",\"Close\",\"Close\",\"Close\",\"Close\",\"Close\",\"Close\",\"Close\",\"Close\",\"Close\",\"Close\",\"Close\",\"Close\",\"Close\",\"Close\",\"Close\",\"Close\",\"Close\",\"Close\",\"Close\",\"Close\",\"Close\",\"Close\",\"Close\",\"Close\",\"Close\",\"Close\",\"Close\",\"Close\",\"Close\",\"Close\",\"Close\",\"Close\",\"Close\",\"Close\",\"Close\",\"Close\",\"Close\",\"Close\",\"Close\",\"Close\",\"Close\",\"Close\",\"Close\",\"Close\",\"Close\",\"Close\",\"Close\",\"Close\",\"Close\",\"Close\",\"Close\",\"Close\",\"Close\",\"Close\",\"Close\",\"Close\",\"Close\",\"Close\",\"Close\",\"Close\",\"Close\",\"Close\",\"Close\",\"Close\",\"Close\",\"Close\",\"Close\",\"Close\",\"Close\",\"Close\",\"Close\",\"Close\",\"Close\",\"Close\",\"Close\",\"Close\",\"Close\",\"Close\",\"Close\",\"Close\",\"Close\",\"Close\",\"Close\",\"Close\",\"Close\",\"Close\",\"Close\",\"Close\",\"Close\",\"Close\",\"Close\",\"Close\",\"Close\",\"Close\",\"Close\",\"Close\",\"Close\",\"Close\",\"Close\",\"Close\",\"Close\",\"Close\",\"Close\",\"Close\",\"Close\",\"Close\",\"Close\",\"Close\",\"Close\",\"Close\",\"Close\",\"Close\",\"Close\",\"Close\",\"Close\",\"Close\",\"Close\",\"Close\",\"Close\",\"Close\",\"Close\",\"Close\",\"Close\",\"Close\",\"Close\",\"Close\",\"Close\",\"Close\",\"Close\",\"Close\",\"Close\",\"Close\",\"Close\",\"Close\",\"Close\",\"Close\",\"Close\",\"Close\",\"Close\",\"Close\",\"Close\",\"Close\",\"Close\",\"Close\",\"Close\",\"Close\",\"Close\",\"Close\",\"Close\",\"Close\",\"Close\",\"Close\",\"Close\",\"Close\",\"Close\",\"Close\",\"Close\",\"Close\",\"Close\",\"Close\",\"Close\",\"Close\",\"Close\",\"Close\",\"Close\",\"Close\",\"Close\",\"Close\",\"Close\",\"Close\",\"Close\",\"Close\",\"Close\",\"Close\",\"Close\",\"Close\",\"Close\",\"Close\",\"Close\",\"Close\",\"Close\",\"Close\",\"Close\",\"Close\",\"Close\",\"Close\",\"Close\",\"Close\",\"Close\",\"Close\",\"Close\",\"Close\",\"Close\",\"Close\",\"Close\",\"Close\",\"Close\",\"Close\",\"Close\",\"Close\",\"Close\",\"Close\",\"Close\",\"Close\",\"Close\",\"Close\",\"Close\",\"Close\",\"Close\",\"Close\",\"Close\",\"Close\",\"Close\",\"Close\",\"Close\",\"Close\",\"Close\",\"Close\",\"Close\",\"Close\",\"Close\",\"Close\",\"Close\",\"Close\",\"Close\",\"Close\",\"Close\",\"Close\",\"Close\",\"Close\",\"Close\",\"Close\",\"Close\",\"Close\",\"Close\",\"Close\",\"Close\",\"Close\",\"Close\",\"Close\",\"Close\",\"Close\",\"Close\",\"Close\",\"Close\",\"Close\",\"Close\",\"Close\",\"Close\",\"Close\",\"Close\",\"Close\",\"Close\",\"Close\",\"Close\",\"Close\",\"Close\",\"Close\",\"Close\",\"Close\",\"Close\",\"Close\",\"Close\",\"Close\",\"Close\",\"Close\",\"Close\",\"Close\",\"Close\",\"Close\",\"Close\",\"Close\",\"Close\",\"Close\",\"Close\",\"Close\",\"Close\",\"Close\",\"Close\",\"Close\",\"Close\",\"Close\",\"Close\",\"Close\",\"Close\",\"Close\",\"Close\",\"Close\",\"Close\",\"Close\",\"Close\",\"Close\",\"Close\",\"Close\",\"Close\",\"Close\",\"Close\",\"Close\",\"Close\",\"Close\",\"Close\",\"Close\",\"Close\",\"Close\",\"Close\",\"Close\",\"Close\",\"Close\",\"Close\",\"Close\",\"Close\",\"Close\",\"Close\",\"Close\",\"Close\",\"Close\",\"Close\",\"Close\",\"Close\",\"Close\",\"Close\",\"Close\",\"Close\",\"Close\",\"Close\",\"Close\",\"Close\",\"Close\",\"Close\",\"Close\",\"Close\",\"Close\",\"Close\",\"Close\",\"Close\",\"Close\",\"Close\",\"Close\",\"Close\",\"Close\",\"Close\",\"Close\",\"Close\",\"Close\",\"Close\",\"Close\",\"Close\",\"Close\",\"Close\",\"Close\",\"Close\",\"Close\",\"Close\",\"Close\",\"Close\",\"Close\",\"Close\",\"Close\",\"Close\",\"Close\",\"Close\",\"Close\",\"Close\",\"Close\",\"Close\",\"Close\",\"Close\",\"Close\",\"Close\",\"Close\",\"Close\",\"Close\",\"Close\",\"Close\",\"Close\",\"Close\",\"Close\",\"Close\",\"Close\",\"Close\",\"Close\",\"Close\",\"Close\",\"Close\",\"Close\",\"Close\",\"Close\",\"Close\",\"Close\",\"Close\",\"Close\",\"Close\",\"Close\",\"Close\",\"Close\",\"Close\",\"Close\",\"Close\",\"Close\",\"Close\",\"Close\",\"Close\",\"Close\",\"Close\",\"Close\",\"Close\",\"Close\",\"Close\",\"Close\",\"Close\",\"Close\",\"Close\",\"Close\",\"Close\",\"Close\",\"Close\",\"Close\",\"Close\",\"Close\",\"Close\",\"Close\",\"Close\",\"Close\",\"Close\",\"Close\",\"Close\",\"Close\",\"Close\",\"Close\",\"Close\",\"Close\",\"Close\",\"Close\",\"Close\",\"Close\",\"Close\",\"Close\",\"Close\",\"Close\",\"Close\",\"Close\",\"Close\",\"Close\",\"Close\",\"Close\",\"Close\",\"Close\",\"Close\",\"Close\",\"Close\",\"Close\",\"Close\",\"Close\",\"Close\",\"Close\",\"Close\",\"Close\",\"Close\",\"Close\",\"Close\",\"Close\",\"Close\",\"Close\",\"Close\",\"Close\",\"Close\",\"Close\",\"Close\",\"Close\",\"Close\",\"Close\",\"Close\",\"Close\",\"Close\",\"Close\",\"Close\",\"Close\",\"Close\",\"Close\",\"Close\",\"Close\",\"Close\",\"Close\",\"Close\",\"Close\",\"Close\",\"Close\",\"Close\",\"Close\",\"Close\",\"Close\",\"Close\",\"Close\",\"Close\",\"Close\",\"Close\",\"Close\",\"Close\",\"Close\",\"Close\",\"Close\",\"Close\",\"Close\",\"Close\",\"Close\",\"Close\",\"Close\",\"Close\",\"Close\",\"Close\",\"Close\",\"Close\",\"Close\",\"Close\",\"Close\",\"Close\",\"Close\",\"Close\",\"Close\",\"Close\",\"Close\",\"Close\",\"Close\",\"Close\",\"Close\",\"Close\",\"Close\",\"Close\",\"Close\",\"Close\",\"Close\",\"Close\",\"Close\",\"Close\",\"Close\",\"Close\",\"Close\",\"Close\",\"Close\",\"Close\",\"Close\",\"Close\",\"Close\",\"Close\",\"Close\",\"Close\",\"Close\",\"Close\",\"Close\",\"Close\",\"Close\",\"Close\",\"Close\",\"Close\",\"Close\",\"Close\",\"Close\",\"Close\",\"Close\",\"Close\",\"Close\",\"Close\",\"Close\",\"Close\",\"Close\",\"Close\",\"Close\",\"Close\",\"Close\",\"Close\",\"Close\",\"Close\",\"Close\",\"Close\",\"Close\",\"Close\",\"Close\",\"Close\",\"Close\",\"Close\",\"Close\",\"Close\",\"Close\",\"Close\",\"Close\",\"Close\",\"Close\",\"Close\",\"Close\",\"Close\",\"Close\",\"Close\",\"Close\",\"Close\",\"Close\",\"Close\",\"Close\",\"Close\",\"Close\",\"Close\",\"Close\",\"Close\",\"Close\",\"Close\",\"Close\",\"Close\",\"Close\",\"Close\",\"Close\",\"Close\",\"Close\",\"Close\",\"Close\",\"Close\",\"Close\",\"Close\",\"Close\",\"Close\",\"Close\",\"Close\",\"Close\",\"Close\",\"Close\",\"Close\",\"Close\",\"Close\",\"Close\",\"Close\",\"Close\",\"Close\",\"Close\",\"Close\",\"Close\",\"Close\",\"Close\",\"Close\",\"Close\",\"Close\",\"Close\",\"Close\",\"Close\",\"Close\",\"Close\",\"Close\",\"Close\",\"Close\",\"Close\",\"Close\",\"Close\",\"Close\",\"Close\",\"Close\",\"Close\",\"Close\",\"Close\",\"Close\",\"Close\",\"Close\",\"Close\",\"Close\",\"Close\",\"Close\",\"Close\",\"Close\",\"Close\",\"Close\",\"Close\",\"Close\",\"Close\",\"Close\",\"Close\",\"Close\",\"Close\",\"Close\",\"Close\",\"Close\",\"Close\",\"Close\",\"Close\",\"Close\",\"Close\",\"Close\",\"Close\",\"Close\",\"Close\",\"Close\",\"Close\",\"Close\",\"Close\",\"Close\",\"Close\",\"Close\",\"Close\",\"Close\",\"Close\",\"Close\",\"Close\",\"Close\",\"Close\",\"Close\",\"Close\",\"Close\",\"Close\",\"Close\",\"Close\",\"Close\",\"Close\",\"Close\",\"Close\",\"Close\",\"Close\",\"Close\",\"Close\",\"Close\",\"Close\",\"Close\",\"Close\",\"Close\",\"Close\",\"Close\",\"Close\",\"Close\",\"Close\",\"Close\",\"Close\",\"Close\",\"Close\",\"Close\",\"Close\",\"Close\",\"Close\",\"Close\",\"Close\",\"Close\",\"Close\",\"Close\",\"Close\",\"Close\",\"Close\",\"Close\",\"Close\",\"Close\",\"Close\",\"Close\",\"Close\",\"Close\",\"Close\",\"Close\",\"Close\",\"Close\",\"Close\",\"Close\",\"Close\",\"Close\",\"Close\",\"Close\",\"Close\",\"Close\",\"Close\",\"Close\",\"Close\",\"Close\",\"Close\",\"Close\",\"Close\",\"Close\",\"Close\",\"Close\",\"Close\",\"Close\",\"Close\",\"Close\",\"Close\",\"Close\",\"Close\",\"Close\",\"Close\",\"Close\",\"Close\",\"Close\",\"Close\",\"Close\",\"Close\",\"Close\",\"Close\",\"Close\",\"Close\",\"Close\",\"Close\",\"Close\",\"Close\",\"Close\",\"Close\",\"Close\",\"Close\",\"Close\",\"Close\",\"Close\",\"Close\",\"Close\",\"Close\",\"Close\",\"Close\",\"Close\",\"Close\",\"Close\",\"Close\",\"Close\",\"Close\",\"Close\",\"Close\",\"Close\",\"Close\",\"Close\",\"Close\",\"Close\",\"Close\",\"Close\",\"Close\",\"Close\",\"Close\",\"Close\",\"Close\",\"Close\",\"Close\",\"Close\",\"Close\",\"Close\",\"Close\",\"Close\",\"Close\",\"Close\",\"Close\",\"Close\",\"Close\",\"Close\",\"Close\",\"Close\",\"Close\",\"Close\",\"Close\",\"Close\",\"Close\",\"Close\",\"Close\",\"Close\",\"Close\",\"Close\",\"Close\",\"Close\",\"Close\",\"Close\",\"Close\",\"Close\",\"Close\",\"Close\",\"Close\",\"Close\",\"Close\",\"Close\",\"Close\",\"Close\",\"Close\",\"Close\",\"Close\",\"Close\",\"Close\",\"Close\",\"Close\",\"Close\",\"Close\",\"Close\",\"Close\",\"Close\",\"Close\",\"Close\",\"Close\",\"Close\",\"Close\",\"Close\",\"Close\",\"Close\",\"Close\",\"Close\",\"Close\",\"Close\",\"Close\",\"Close\",\"Close\",\"Close\",\"Close\",\"Close\",\"Close\",\"Close\",\"Close\",\"Close\",\"Close\",\"Close\",\"Close\",\"Close\",\"Close\",\"Close\",\"Close\",\"Close\",\"Close\",\"Close\",\"Close\",\"Close\",\"Close\",\"Close\",\"Close\",\"Close\",\"Close\",\"Close\",\"Close\",\"Close\",\"Close\",\"Close\",\"Close\",\"Close\",\"Close\",\"Close\",\"Close\",\"Close\",\"Close\",\"Close\",\"Close\",\"Close\",\"Close\",\"Close\",\"Close\",\"Close\",\"Close\",\"Close\",\"Close\",\"Close\",\"Close\",\"Close\",\"Close\",\"Close\",\"Close\",\"Close\",\"Close\",\"Close\",\"Close\",\"Close\",\"Close\",\"Close\",\"Close\",\"Close\",\"Close\",\"Close\",\"Close\",\"Close\",\"Close\",\"Close\",\"Close\",\"Close\",\"Close\",\"Close\",\"Close\",\"Close\",\"Close\",\"Close\",\"Close\",\"Close\",\"Close\",\"Close\",\"Close\",\"Close\",\"Close\",\"Close\",\"Close\",\"Close\",\"Close\",\"Close\",\"Close\",\"Close\",\"Close\",\"Close\",\"Close\",\"Close\",\"Close\",\"Close\",\"Close\",\"Close\",\"Close\",\"Close\",\"Close\",\"Close\",\"Close\",\"Close\",\"Close\",\"Close\",\"Close\",\"Close\",\"Close\",\"Close\",\"Close\",\"Close\",\"Close\",\"Close\",\"Close\",\"Close\",\"Close\",\"Close\",\"Close\",\"Close\",\"Close\",\"Close\",\"Close\",\"Close\",\"Close\",\"Close\",\"Close\",\"Close\",\"Close\",\"Close\",\"Close\",\"Close\",\"Close\",\"Close\",\"Close\",\"Close\",\"Close\",\"Close\",\"Close\",\"Close\",\"Close\",\"Close\",\"Close\",\"Close\",\"Close\",\"Close\",\"Close\",\"Close\",\"Close\",\"Close\",\"Close\",\"Close\",\"Close\",\"Close\",\"Close\",\"Close\",\"Close\",\"Close\",\"Close\",\"Close\",\"Close\",\"Close\",\"Close\",\"Close\",\"Close\",\"Close\",\"Close\",\"Close\",\"Close\",\"Close\",\"Close\",\"Close\",\"Close\",\"Close\",\"Close\",\"Close\",\"Close\",\"Close\",\"Close\",\"Close\",\"Close\",\"Close\",\"Close\"],\"value\":{\"__ndarray__\":\"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\",\"dtype\":\"float64\",\"order\":\"little\",\"shape\":[1220]}},\"selected\":{\"id\":\"7349\"},\"selection_policy\":{\"id\":\"7363\"}},\"id\":\"7348\",\"type\":\"ColumnDataSource\"},{\"attributes\":{\"axis\":{\"id\":\"7325\"},\"coordinates\":null,\"dimension\":1,\"grid_line_color\":null,\"group\":null,\"ticker\":null},\"id\":\"7328\",\"type\":\"Grid\"},{\"attributes\":{\"line_alpha\":0.1,\"line_color\":\"#e5ae38\",\"line_width\":2,\"x\":{\"field\":\"Date\"},\"y\":{\"field\":\"value\"}},\"id\":\"7419\",\"type\":\"Line\"},{\"attributes\":{},\"id\":\"7329\",\"type\":\"SaveTool\"},{\"attributes\":{\"overlay\":{\"id\":\"7334\"}},\"id\":\"7332\",\"type\":\"BoxZoomTool\"},{\"attributes\":{},\"id\":\"7333\",\"type\":\"ResetTool\"},{\"attributes\":{\"coordinates\":null,\"data_source\":{\"id\":\"7415\"},\"glyph\":{\"id\":\"7418\"},\"group\":null,\"hover_glyph\":null,\"muted_glyph\":{\"id\":\"7420\"},\"nonselection_glyph\":{\"id\":\"7419\"},\"selection_glyph\":{\"id\":\"7450\"},\"view\":{\"id\":\"7422\"}},\"id\":\"7421\",\"type\":\"GlyphRenderer\"},{\"attributes\":{\"line_alpha\":0.2,\"line_color\":\"#e5ae38\",\"line_width\":2,\"x\":{\"field\":\"Date\"},\"y\":{\"field\":\"value\"}},\"id\":\"7420\",\"type\":\"Line\"},{\"attributes\":{\"bottom_units\":\"screen\",\"coordinates\":null,\"fill_alpha\":0.5,\"fill_color\":\"lightgrey\",\"group\":null,\"left_units\":\"screen\",\"level\":\"overlay\",\"line_alpha\":1.0,\"line_color\":\"black\",\"line_dash\":[4,4],\"line_width\":2,\"right_units\":\"screen\",\"syncable\":false,\"top_units\":\"screen\"},\"id\":\"7334\",\"type\":\"BoxAnnotation\"},{\"attributes\":{\"tools\":[{\"id\":\"7309\"},{\"id\":\"7329\"},{\"id\":\"7330\"},{\"id\":\"7331\"},{\"id\":\"7332\"},{\"id\":\"7333\"}]},\"id\":\"7335\",\"type\":\"Toolbar\"},{\"attributes\":{\"source\":{\"id\":\"7415\"}},\"id\":\"7422\",\"type\":\"CDSView\"},{\"attributes\":{\"label\":{\"value\":\"bollinger_down\"},\"renderers\":[{\"id\":\"7421\"}]},\"id\":\"7449\",\"type\":\"LegendItem\"},{\"attributes\":{},\"id\":\"7363\",\"type\":\"UnionRenderers\"},{\"attributes\":{},\"id\":\"7434\",\"type\":\"UnionRenderers\"},{\"attributes\":{\"data\":{\"Date\":{\"__ndarray__\":\"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\",\"dtype\":\"float64\",\"order\":\"little\",\"shape\":[1220]},\"Variable\":[\"bollinger_down\",\"bollinger_down\",\"bollinger_down\",\"bollinger_down\",\"bollinger_down\",\"bollinger_down\",\"bollinger_down\",\"bollinger_down\",\"bollinger_down\",\"bollinger_down\",\"bollinger_down\",\"bollinger_down\",\"bollinger_down\",\"bollinger_down\",\"bollinger_down\",\"bollinger_down\",\"bollinger_down\",\"bollinger_down\",\"bollinger_down\",\"bollinger_down\",\"bollinger_down\",\"bollinger_down\",\"bollinger_down\",\"bollinger_down\",\"bollinger_down\",\"bollinger_down\",\"bollinger_down\",\"bollinger_down\",\"bollinger_down\",\"bollinger_down\",\"bollinger_down\",\"bollinger_down\",\"bollinger_down\",\"bollinger_down\",\"bollinger_down\",\"bollinger_down\",\"bollinger_down\",\"bollinger_down\",\"bollinger_down\",\"bollinger_down\",\"bollinger_down\",\"bollinger_down\",\"bollinger_down\",\"bollinger_down\",\"bollinger_down\",\"bollinger_down\",\"bollinger_down\",\"bollinger_down\",\"bollinger_down\",\"bollinger_down\",\"bollinger_down\",\"bollinger_down\",\"bollinger_down\",\"bollinger_down\",\"bollinger_down\",\"bollinger_down\",\"bollinger_down\",\"bollinger_down\",\"bollinger_down\",\"bollinger_down\",\"bollinger_down\",\"bollinger_down\",\"bollinger_down\",\"bollinger_down\",\"bollinger_down\",\"bollinger_down\",\"bollinger_down\",\"bollinger_down\",\"bollinger_down\",\"bollinger_down\",\"bollinger_down\",\"bollinger_down\",\"bollinger_down\",\"bollinger_down\",\"bollinger_down\",\"bollinger_down\",\"bollinger_down\",\"bollinger_down\",\"bollinger_down\",\"bollinger_down\",\"bollinger_down\",\"bollinger_down\",\"bollinger_down\",\"bollinger_down\",\"bollinger_down\",\"bollinger_down\",\"bollinger_down\",\"bollinger_down\",\"bollinger_down\",\"bollinger_down\",\"bollinger_down\",\"bollinger_down\",\"bollinger_down\",\"bollinger_down\",\"bollinger_down\",\"bollinger_down\",\"bollinger_down\",\"bollinger_down\",\"bollinger_down\",\"bollinger_down\",\"bollinger_down\",\"bollinger_down\",\"bollinger_down\",\"bollinger_down\",\"bollinger_down\",\"bollinger_down\",\"bollinger_down\",\"bollinger_down\",\"bollinger_down\",\"bollinger_down\",\"bollinger_down\",\"bollinger_down\",\"bollinger_down\",\"bollinger_down\",\"bollinger_down\",\"bollinger_down\",\"bollinger_down\",\"bollinger_down\",\"bollinger_down\",\"bollinger_down\",\"bollinger_down\",\"bollinger_down\",\"bollinger_down\",\"bollinger_down\",\"bollinger_down\",\"bollinger_down\",\"bollinger_down\",\"bollinger_down\",\"bollinger_down\",\"bollinger_down\",\"bollinger_down\",\"bollinger_down\",\"bollinger_down\",\"bollinger_down\",\"bollinger_down\",\"bollinger_down\",\"bollinger_down\",\"bollinger_down\",\"bollinger_down\",\"bollinger_down\",\"bollinger_down\",\"bollinger_down\",\"bollinger_down\",\"bollinger_down\",\"bollinger_down\",\"bollinger_down\",\"bollinger_down\",\"bollinger_down\",\"bollinger_down\",\"bollinger_down\",\"bollinger_down\",\"bollinger_down\",\"bollinger_down\",\"bollinger_down\",\"bollinger_down\",\"bollinger_down\",\"bollinger_down\",\"bollinger_down\",\"bollinger_down\",\"bollinger_down\",\"bollinger_down\",\"bollinger_down\",\"bollinger_down\",\"bollinger_down\",\"bollinger_down\",\"bollinger_down\",\"bollinger_down\",\"bollinger_down\",\"bollinger_down\",\"bollinger_down\",\"bollinger_down\",\"bollinger_down\",\"bollinger_down\",\"bollinger_down\",\"bollinger_down\",\"bollinger_down\",\"bollinger_down\",\"bollinger_down\",\"bollinger_down\",\"bollinger_down\",\"bollinger_down\",\"bollinger_down\",\"bollinger_down\",\"bollinger_down\",\"bollinger_down\",\"bollinger_down\",\"bollinger_down\",\"bollinger_down\",\"bollinger_down\",\"bollinger_down\",\"bollinger_down\",\"bollinger_down\",\"bollinger_down\",\"bollinger_down\",\"bollinger_down\",\"bollinger_down\",\"bollinger_down\",\"bollinger_down\",\"bollinger_down\",\"bollinger_down\",\"bollinger_down\",\"bollinger_down\",\"bollinger_down\",\"bollinger_down\",\"bollinger_down\",\"bollinger_down\",\"bollinger_down\",\"bollinger_down\",\"bollinger_down\",\"bollinger_down\",\"bollinger_down\",\"bollinger_down\",\"bollinger_down\",\"bollinger_down\",\"bollinger_down\",\"bollinger_down\",\"bollinger_down\",\"bollinger_down\",\"bollinger_down\",\"bollinger_down\",\"bollinger_down\",\"bollinger_down\",\"bollinger_down\",\"bollinger_down\",\"bollinger_down\",\"bollinger_down\",\"bollinger_down\",\"bollinger_down\",\"bollinger_down\",\"bollinger_down\",\"bollinger_down\",\"bollinger_down\",\"bollinger_down\",\"bollinger_down\",\"bollinger_down\",\"bollinger_down\",\"bollinger_down\",\"bollinger_down\",\"bollinger_down\",\"bollinger_down\",\"bollinger_down\",\"bollinger_down\",\"bollinger_down\",\"bollinger_down\",\"bollinger_down\",\"bollinger_down\",\"bollinger_down\",\"bollinger_down\",\"bollinger_down\",\"bollinger_down\",\"bollinger_down\",\"bollinger_down\",\"bollinger_down\",\"bollinger_down\",\"bollinger_down\",\"bollinger_down\",\"bollinger_down\",\"bollinger_down\",\"bollinger_down\",\"bollinger_down\",\"bollinger_down\",\"bollinger_down\",\"bollinger_down\",\"bollinger_down\",\"bollinger_down\",\"bollinger_down\",\"bollinger_down\",\"bollinger_down\",\"bollinger_down\",\"bollinger_down\",\"bollinger_down\",\"bollinger_down\",\"bollinger_down\",\"bollinger_down\",\"bollinger_down\",\"bollinger_down\",\"bollinger_down\",\"bollinger_down\",\"bollinger_down\",\"bollinger_down\",\"bollinger_down\",\"bollinger_down\",\"bollinger_down\",\"bollinger_down\",\"bollinger_down\",\"bollinger_down\",\"bollinger_down\",\"bollinger_down\",\"bollinger_down\",\"bollinger_down\",\"bollinger_down\",\"bollinger_down\",\"bollinger_down\",\"bollinger_down\",\"bollinger_down\",\"bollinger_down\",\"bollinger_down\",\"bollinger_down\",\"bollinger_down\",\"bollinger_down\",\"bollinger_down\",\"bollinger_down\",\"bollinger_down\",\"bollinger_down\",\"bollinger_down\",\"bollinger_down\",\"bollinger_down\",\"bollinger_down\",\"bollinger_down\",\"bollinger_down\",\"bollinger_down\",\"bollinger_down\",\"bollinger_down\",\"bollinger_down\",\"bollinger_down\",\"bollinger_down\",\"bollinger_down\",\"bollinger_down\",\"bollinger_down\",\"bollinger_down\",\"bollinger_down\",\"bollinger_down\",\"bollinger_down\",\"bollinger_down\",\"bollinger_down\",\"bollinger_down\",\"bollinger_down\",\"bollinger_down\",\"bollinger_down\",\"bollinger_down\",\"bollinger_down\",\"bollinger_down\",\"bollinger_down\",\"bollinger_down\",\"bollinger_down\",\"bollinger_down\",\"bollinger_down\",\"bollinger_down\",\"bollinger_down\",\"bollinger_down\",\"bollinger_down\",\"bollinger_down\",\"bollinger_down\",\"bollinger_down\",\"bollinger_down\",\"bollinger_down\",\"bollinger_down\",\"bollinger_down\",\"bollinger_down\",\"bollinger_down\",\"bollinger_down\",\"bollinger_down\",\"bollinger_down\",\"bollinger_down\",\"bollinger_down\",\"bollinger_down\",\"bollinger_down\",\"bollinger_down\",\"bollinger_down\",\"bollinger_down\",\"bollinger_down\",\"bollinger_down\",\"bollinger_down\",\"bollinger_down\",\"bollinger_down\",\"bollinger_down\",\"bollinger_down\",\"bollinger_down\",\"bollinger_down\",\"bollinger_down\",\"bollinger_down\",\"bollinger_down\",\"bollinger_down\",\"bollinger_down\",\"bollinger_down\",\"bollinger_down\",\"bollinger_down\",\"bollinger_down\",\"bollinger_down\",\"bollinger_down\",\"bollinger_down\",\"bollinger_down\",\"bollinger_down\",\"bollinger_down\",\"bollinger_down\",\"bollinger_down\",\"bollinger_down\",\"bollinger_down\",\"bollinger_down\",\"bollinger_down\",\"bollinger_down\",\"bollinger_down\",\"bollinger_down\",\"bollinger_down\",\"bollinger_down\",\"bollinger_down\",\"bollinger_down\",\"bollinger_down\",\"bollinger_down\",\"bollinger_down\",\"bollinger_down\",\"bollinger_down\",\"bollinger_down\",\"bollinger_down\",\"bollinger_down\",\"bollinger_down\",\"bollinger_down\",\"bollinger_down\",\"bollinger_down\",\"bollinger_down\",\"bollinger_down\",\"bollinger_down\",\"bollinger_down\",\"bollinger_down\",\"bollinger_down\",\"bollinger_down\",\"bollinger_down\",\"bollinger_down\",\"bollinger_down\",\"bollinger_down\",\"bollinger_down\",\"bollinger_down\",\"bollinger_down\",\"bollinger_down\",\"bollinger_down\",\"bollinger_down\",\"bollinger_down\",\"bollinger_down\",\"bollinger_down\",\"bollinger_down\",\"bollinger_down\",\"bollinger_down\",\"bollinger_down\",\"bollinger_down\",\"bollinger_down\",\"bollinger_down\",\"bollinger_down\",\"bollinger_down\",\"bollinger_down\",\"bollinger_down\",\"bollinger_down\",\"bollinger_down\",\"bollinger_down\",\"bollinger_down\",\"bollinger_down\",\"bollinger_down\",\"bollinger_down\",\"bollinger_down\",\"bollinger_down\",\"bollinger_down\",\"bollinger_down\",\"bollinger_down\",\"bollinger_down\",\"bollinger_down\",\"bollinger_down\",\"bollinger_down\",\"bollinger_down\",\"bollinger_down\",\"bollinger_down\",\"bollinger_down\",\"bollinger_down\",\"bollinger_down\",\"bollinger_down\",\"bollinger_down\",\"bollinger_down\",\"bollinger_down\",\"bollinger_down\",\"bollinger_down\",\"bollinger_down\",\"bollinger_down\",\"bollinger_down\",\"bollinger_down\",\"bollinger_down\",\"bollinger_down\",\"bollinger_down\",\"bollinger_down\",\"bollinger_down\",\"bollinger_down\",\"bollinger_down\",\"bollinger_down\",\"bollinger_down\",\"bollinger_down\",\"bollinger_down\",\"bollinger_down\",\"bollinger_down\",\"bollinger_down\",\"bollinger_down\",\"bollinger_down\",\"bollinger_down\",\"bollinger_down\",\"bollinger_down\",\"bollinger_down\",\"bollinger_down\",\"bollinger_down\",\"bollinger_down\",\"bollinger_down\",\"bollinger_down\",\"bollinger_down\",\"bollinger_down\",\"bollinger_down\",\"bollinger_down\",\"bollinger_down\",\"bollinger_down\",\"bollinger_down\",\"bollinger_down\",\"bollinger_down\",\"bollinger_down\",\"bollinger_down\",\"bollinger_down\",\"bollinger_down\",\"bollinger_down\",\"bollinger_down\",\"bollinger_down\",\"bollinger_down\",\"bollinger_down\",\"bollinger_down\",\"bollinger_down\",\"bollinger_down\",\"bollinger_down\",\"bollinger_down\",\"bollinger_down\",\"bollinger_down\",\"bollinger_down\",\"bollinger_down\",\"bollinger_down\",\"bollinger_down\",\"bollinger_down\",\"bollinger_down\",\"bollinger_down\",\"bollinger_down\",\"bollinger_down\",\"bollinger_down\",\"bollinger_down\",\"bollinger_down\",\"bollinger_down\",\"bollinger_down\",\"bollinger_down\",\"bollinger_down\",\"bollinger_down\",\"bollinger_down\",\"bollinger_down\",\"bollinger_down\",\"bollinger_down\",\"bollinger_down\",\"bollinger_down\",\"bollinger_down\",\"bollinger_down\",\"bollinger_down\",\"bollinger_down\",\"bollinger_down\",\"bollinger_down\",\"bollinger_down\",\"bollinger_down\",\"bollinger_down\",\"bollinger_down\",\"bollinger_down\",\"bollinger_down\",\"bollinger_down\",\"bollinger_down\",\"bollinger_down\",\"bollinger_down\",\"bollinger_down\",\"bollinger_down\",\"bollinger_down\",\"bollinger_down\",\"bollinger_down\",\"bollinger_down\",\"bollinger_down\",\"bollinger_down\",\"bollinger_down\",\"bollinger_down\",\"bollinger_down\",\"bollinger_down\",\"bollinger_down\",\"bollinger_down\",\"bollinger_down\",\"bollinger_down\",\"bollinger_down\",\"bollinger_down\",\"bollinger_down\",\"bollinger_down\",\"bollinger_down\",\"bollinger_down\",\"bollinger_down\",\"bollinger_down\",\"bollinger_down\",\"bollinger_down\",\"bollinger_down\",\"bollinger_down\",\"bollinger_down\",\"bollinger_down\",\"bollinger_down\",\"bollinger_down\",\"bollinger_down\",\"bollinger_down\",\"bollinger_down\",\"bollinger_down\",\"bollinger_down\",\"bollinger_down\",\"bollinger_down\",\"bollinger_down\",\"bollinger_down\",\"bollinger_down\",\"bollinger_down\",\"bollinger_down\",\"bollinger_down\",\"bollinger_down\",\"bollinger_down\",\"bollinger_down\",\"bollinger_down\",\"bollinger_down\",\"bollinger_down\",\"bollinger_down\",\"bollinger_down\",\"bollinger_down\",\"bollinger_down\",\"bollinger_down\",\"bollinger_down\",\"bollinger_down\",\"bollinger_down\",\"bollinger_down\",\"bollinger_down\",\"bollinger_down\",\"bollinger_down\",\"bollinger_down\",\"bollinger_down\",\"bollinger_down\",\"bollinger_down\",\"bollinger_down\",\"bollinger_down\",\"bollinger_down\",\"bollinger_down\",\"bollinger_down\",\"bollinger_down\",\"bollinger_down\",\"bollinger_down\",\"bollinger_down\",\"bollinger_down\",\"bollinger_down\",\"bollinger_down\",\"bollinger_down\",\"bollinger_down\",\"bollinger_down\",\"bollinger_down\",\"bollinger_down\",\"bollinger_down\",\"bollinger_down\",\"bollinger_down\",\"bollinger_down\",\"bollinger_down\",\"bollinger_down\",\"bollinger_down\",\"bollinger_down\",\"bollinger_down\",\"bollinger_down\",\"bollinger_down\",\"bollinger_down\",\"bollinger_down\",\"bollinger_down\",\"bollinger_down\",\"bollinger_down\",\"bollinger_down\",\"bollinger_down\",\"bollinger_down\",\"bollinger_down\",\"bollinger_down\",\"bollinger_down\",\"bollinger_down\",\"bollinger_down\",\"bollinger_down\",\"bollinger_down\",\"bollinger_down\",\"bollinger_down\",\"bollinger_down\",\"bollinger_down\",\"bollinger_down\",\"bollinger_down\",\"bollinger_down\",\"bollinger_down\",\"bollinger_down\",\"bollinger_down\",\"bollinger_down\",\"bollinger_down\",\"bollinger_down\",\"bollinger_down\",\"bollinger_down\",\"bollinger_down\",\"bollinger_down\",\"bollinger_down\",\"bollinger_down\",\"bollinger_down\",\"bollinger_down\",\"bollinger_down\",\"bollinger_down\",\"bollinger_down\",\"bollinger_down\",\"bollinger_down\",\"bollinger_down\",\"bollinger_down\",\"bollinger_down\",\"bollinger_down\",\"bollinger_down\",\"bollinger_down\",\"bollinger_down\",\"bollinger_down\",\"bollinger_down\",\"bollinger_down\",\"bollinger_down\",\"bollinger_down\",\"bollinger_down\",\"bollinger_down\",\"bollinger_down\",\"bollinger_down\",\"bollinger_down\",\"bollinger_down\",\"bollinger_down\",\"bollinger_down\",\"bollinger_down\",\"bollinger_down\",\"bollinger_down\",\"bollinger_down\",\"bollinger_down\",\"bollinger_down\",\"bollinger_down\",\"bollinger_down\",\"bollinger_down\",\"bollinger_down\",\"bollinger_down\",\"bollinger_down\",\"bollinger_down\",\"bollinger_down\",\"bollinger_down\",\"bollinger_down\",\"bollinger_down\",\"bollinger_down\",\"bollinger_down\",\"bollinger_down\",\"bollinger_down\",\"bollinger_down\",\"bollinger_down\",\"bollinger_down\",\"bollinger_down\",\"bollinger_down\",\"bollinger_down\",\"bollinger_down\",\"bollinger_down\",\"bollinger_down\",\"bollinger_down\",\"bollinger_down\",\"bollinger_down\",\"bollinger_down\",\"bollinger_down\",\"bollinger_down\",\"bollinger_down\",\"bollinger_down\",\"bollinger_down\",\"bollinger_down\",\"bollinger_down\",\"bollinger_down\",\"bollinger_down\",\"bollinger_down\",\"bollinger_down\",\"bollinger_down\",\"bollinger_down\",\"bollinger_down\",\"bollinger_down\",\"bollinger_down\",\"bollinger_down\",\"bollinger_down\",\"bollinger_down\",\"bollinger_down\",\"bollinger_down\",\"bollinger_down\",\"bollinger_down\",\"bollinger_down\",\"bollinger_down\",\"bollinger_down\",\"bollinger_down\",\"bollinger_down\",\"bollinger_down\",\"bollinger_down\",\"bollinger_down\",\"bollinger_down\",\"bollinger_down\",\"bollinger_down\",\"bollinger_down\",\"bollinger_down\",\"bollinger_down\",\"bollinger_down\",\"bollinger_down\",\"bollinger_down\",\"bollinger_down\",\"bollinger_down\",\"bollinger_down\",\"bollinger_down\",\"bollinger_down\",\"bollinger_down\",\"bollinger_down\",\"bollinger_down\",\"bollinger_down\",\"bollinger_down\",\"bollinger_down\",\"bollinger_down\",\"bollinger_down\",\"bollinger_down\",\"bollinger_down\",\"bollinger_down\",\"bollinger_down\",\"bollinger_down\",\"bollinger_down\",\"bollinger_down\",\"bollinger_down\",\"bollinger_down\",\"bollinger_down\",\"bollinger_down\",\"bollinger_down\",\"bollinger_down\",\"bollinger_down\",\"bollinger_down\",\"bollinger_down\",\"bollinger_down\",\"bollinger_down\",\"bollinger_down\",\"bollinger_down\",\"bollinger_down\",\"bollinger_down\",\"bollinger_down\",\"bollinger_down\",\"bollinger_down\",\"bollinger_down\",\"bollinger_down\",\"bollinger_down\",\"bollinger_down\",\"bollinger_down\",\"bollinger_down\",\"bollinger_down\",\"bollinger_down\",\"bollinger_down\",\"bollinger_down\",\"bollinger_down\",\"bollinger_down\",\"bollinger_down\",\"bollinger_down\",\"bollinger_down\",\"bollinger_down\",\"bollinger_down\",\"bollinger_down\",\"bollinger_down\",\"bollinger_down\",\"bollinger_down\",\"bollinger_down\",\"bollinger_down\",\"bollinger_down\",\"bollinger_down\",\"bollinger_down\",\"bollinger_down\",\"bollinger_down\",\"bollinger_down\",\"bollinger_down\",\"bollinger_down\",\"bollinger_down\",\"bollinger_down\",\"bollinger_down\",\"bollinger_down\",\"bollinger_down\",\"bollinger_down\",\"bollinger_down\",\"bollinger_down\",\"bollinger_down\",\"bollinger_down\",\"bollinger_down\",\"bollinger_down\",\"bollinger_down\",\"bollinger_down\",\"bollinger_down\",\"bollinger_down\",\"bollinger_down\",\"bollinger_down\",\"bollinger_down\",\"bollinger_down\",\"bollinger_down\",\"bollinger_down\",\"bollinger_down\",\"bollinger_down\",\"bollinger_down\",\"bollinger_down\",\"bollinger_down\",\"bollinger_down\",\"bollinger_down\",\"bollinger_down\",\"bollinger_down\",\"bollinger_down\",\"bollinger_down\",\"bollinger_down\",\"bollinger_down\",\"bollinger_down\",\"bollinger_down\",\"bollinger_down\",\"bollinger_down\",\"bollinger_down\",\"bollinger_down\",\"bollinger_down\",\"bollinger_down\",\"bollinger_down\",\"bollinger_down\",\"bollinger_down\",\"bollinger_down\",\"bollinger_down\",\"bollinger_down\",\"bollinger_down\",\"bollinger_down\",\"bollinger_down\",\"bollinger_down\",\"bollinger_down\",\"bollinger_down\",\"bollinger_down\",\"bollinger_down\",\"bollinger_down\",\"bollinger_down\",\"bollinger_down\",\"bollinger_down\",\"bollinger_down\",\"bollinger_down\",\"bollinger_down\",\"bollinger_down\",\"bollinger_down\",\"bollinger_down\",\"bollinger_down\",\"bollinger_down\",\"bollinger_down\",\"bollinger_down\",\"bollinger_down\",\"bollinger_down\",\"bollinger_down\",\"bollinger_down\",\"bollinger_down\",\"bollinger_down\",\"bollinger_down\",\"bollinger_down\",\"bollinger_down\",\"bollinger_down\",\"bollinger_down\",\"bollinger_down\",\"bollinger_down\",\"bollinger_down\",\"bollinger_down\",\"bollinger_down\",\"bollinger_down\",\"bollinger_down\",\"bollinger_down\",\"bollinger_down\",\"bollinger_down\",\"bollinger_down\",\"bollinger_down\",\"bollinger_down\",\"bollinger_down\",\"bollinger_down\",\"bollinger_down\",\"bollinger_down\",\"bollinger_down\",\"bollinger_down\",\"bollinger_down\",\"bollinger_down\",\"bollinger_down\",\"bollinger_down\",\"bollinger_down\",\"bollinger_down\",\"bollinger_down\",\"bollinger_down\",\"bollinger_down\",\"bollinger_down\",\"bollinger_down\",\"bollinger_down\",\"bollinger_down\",\"bollinger_down\",\"bollinger_down\",\"bollinger_down\",\"bollinger_down\",\"bollinger_down\",\"bollinger_down\",\"bollinger_down\",\"bollinger_down\",\"bollinger_down\",\"bollinger_down\",\"bollinger_down\",\"bollinger_down\",\"bollinger_down\",\"bollinger_down\",\"bollinger_down\",\"bollinger_down\",\"bollinger_down\",\"bollinger_down\",\"bollinger_down\",\"bollinger_down\",\"bollinger_down\",\"bollinger_down\",\"bollinger_down\",\"bollinger_down\",\"bollinger_down\",\"bollinger_down\",\"bollinger_down\",\"bollinger_down\",\"bollinger_down\",\"bollinger_down\",\"bollinger_down\",\"bollinger_down\",\"bollinger_down\",\"bollinger_down\",\"bollinger_down\",\"bollinger_down\",\"bollinger_down\",\"bollinger_down\",\"bollinger_down\",\"bollinger_down\",\"bollinger_down\",\"bollinger_down\",\"bollinger_down\",\"bollinger_down\",\"bollinger_down\",\"bollinger_down\",\"bollinger_down\",\"bollinger_down\",\"bollinger_down\",\"bollinger_down\",\"bollinger_down\",\"bollinger_down\",\"bollinger_down\",\"bollinger_down\",\"bollinger_down\",\"bollinger_down\",\"bollinger_down\",\"bollinger_down\",\"bollinger_down\",\"bollinger_down\",\"bollinger_down\",\"bollinger_down\",\"bollinger_down\",\"bollinger_down\",\"bollinger_down\",\"bollinger_down\",\"bollinger_down\",\"bollinger_down\",\"bollinger_down\",\"bollinger_down\",\"bollinger_down\",\"bollinger_down\",\"bollinger_down\",\"bollinger_down\",\"bollinger_down\",\"bollinger_down\",\"bollinger_down\",\"bollinger_down\",\"bollinger_down\",\"bollinger_down\",\"bollinger_down\",\"bollinger_down\",\"bollinger_down\",\"bollinger_down\",\"bollinger_down\",\"bollinger_down\",\"bollinger_down\",\"bollinger_down\",\"bollinger_down\",\"bollinger_down\",\"bollinger_down\",\"bollinger_down\",\"bollinger_down\",\"bollinger_down\",\"bollinger_down\",\"bollinger_down\",\"bollinger_down\",\"bollinger_down\",\"bollinger_down\",\"bollinger_down\",\"bollinger_down\",\"bollinger_down\",\"bollinger_down\",\"bollinger_down\",\"bollinger_down\",\"bollinger_down\",\"bollinger_down\",\"bollinger_down\",\"bollinger_down\",\"bollinger_down\",\"bollinger_down\",\"bollinger_down\",\"bollinger_down\",\"bollinger_down\",\"bollinger_down\",\"bollinger_down\",\"bollinger_down\",\"bollinger_down\",\"bollinger_down\",\"bollinger_down\",\"bollinger_down\",\"bollinger_down\",\"bollinger_down\",\"bollinger_down\",\"bollinger_down\",\"bollinger_down\",\"bollinger_down\",\"bollinger_down\",\"bollinger_down\",\"bollinger_down\",\"bollinger_down\",\"bollinger_down\",\"bollinger_down\",\"bollinger_down\",\"bollinger_down\",\"bollinger_down\",\"bollinger_down\",\"bollinger_down\",\"bollinger_down\",\"bollinger_down\",\"bollinger_down\",\"bollinger_down\",\"bollinger_down\",\"bollinger_down\",\"bollinger_down\",\"bollinger_down\",\"bollinger_down\",\"bollinger_down\",\"bollinger_down\",\"bollinger_down\",\"bollinger_down\",\"bollinger_down\",\"bollinger_down\",\"bollinger_down\",\"bollinger_down\",\"bollinger_down\",\"bollinger_down\",\"bollinger_down\",\"bollinger_down\",\"bollinger_down\",\"bollinger_down\",\"bollinger_down\",\"bollinger_down\",\"bollinger_down\",\"bollinger_down\",\"bollinger_down\",\"bollinger_down\",\"bollinger_down\",\"bollinger_down\",\"bollinger_down\",\"bollinger_down\",\"bollinger_down\",\"bollinger_down\",\"bollinger_down\",\"bollinger_down\",\"bollinger_down\",\"bollinger_down\",\"bollinger_down\",\"bollinger_down\",\"bollinger_down\",\"bollinger_down\",\"bollinger_down\",\"bollinger_down\",\"bollinger_down\",\"bollinger_down\",\"bollinger_down\",\"bollinger_down\",\"bollinger_down\",\"bollinger_down\",\"bollinger_down\",\"bollinger_down\",\"bollinger_down\",\"bollinger_down\",\"bollinger_down\",\"bollinger_down\",\"bollinger_down\",\"bollinger_down\",\"bollinger_down\",\"bollinger_down\",\"bollinger_down\",\"bollinger_down\",\"bollinger_down\",\"bollinger_down\",\"bollinger_down\",\"bollinger_down\",\"bollinger_down\",\"bollinger_down\",\"bollinger_down\",\"bollinger_down\",\"bollinger_down\",\"bollinger_down\",\"bollinger_down\",\"bollinger_down\",\"bollinger_down\",\"bollinger_down\",\"bollinger_down\",\"bollinger_down\",\"bollinger_down\",\"bollinger_down\",\"bollinger_down\",\"bollinger_down\",\"bollinger_down\",\"bollinger_down\",\"bollinger_down\",\"bollinger_down\",\"bollinger_down\",\"bollinger_down\",\"bollinger_down\",\"bollinger_down\",\"bollinger_down\",\"bollinger_down\",\"bollinger_down\",\"bollinger_down\",\"bollinger_down\",\"bollinger_down\",\"bollinger_down\",\"bollinger_down\",\"bollinger_down\",\"bollinger_down\",\"bollinger_down\",\"bollinger_down\",\"bollinger_down\",\"bollinger_down\",\"bollinger_down\",\"bollinger_down\",\"bollinger_down\"],\"value\":{\"__ndarray__\":\"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\",\"dtype\":\"float64\",\"order\":\"little\",\"shape\":[1220]}},\"selected\":{\"id\":\"7416\"},\"selection_policy\":{\"id\":\"7434\"}},\"id\":\"7415\",\"type\":\"ColumnDataSource\"},{\"attributes\":{},\"id\":\"7382\",\"type\":\"Selection\"},{\"attributes\":{\"line_color\":\"#30a2da\",\"line_width\":2,\"x\":{\"field\":\"Date\"},\"y\":{\"field\":\"value\"}},\"id\":\"7380\",\"type\":\"Line\"}],\"root_ids\":[\"7305\"]},\"title\":\"Bokeh Application\",\"version\":\"2.4.1\"}};\n",
       "    var render_items = [{\"docid\":\"addd8d3c-9c5e-48b7-aa2c-69ed764544f4\",\"root_ids\":[\"7305\"],\"roots\":{\"7305\":\"119f7d98-cb3d-487a-b766-2164b6e58cbe\"}}];\n",
       "    root.Bokeh.embed.embed_items_notebook(docs_json, render_items);\n",
       "  }\n",
       "  if (root.Bokeh !== undefined && root.Bokeh.Panel !== undefined) {\n",
       "    embed_document(root);\n",
       "  } else {\n",
       "    var attempts = 0;\n",
       "    var timer = setInterval(function(root) {\n",
       "      if (root.Bokeh !== undefined && root.Bokeh.Panel !== undefined) {\n",
       "        clearInterval(timer);\n",
       "        embed_document(root);\n",
       "      } else if (document.readyState == \"complete\") {\n",
       "        attempts++;\n",
       "        if (attempts > 200) {\n",
       "          clearInterval(timer);\n",
       "          console.log(\"Bokeh: ERROR: Unable to run BokehJS code because BokehJS library is missing\");\n",
       "        }\n",
       "      }\n",
       "    }, 25, root)\n",
       "  }\n",
       "})(window);</script>"
      ],
      "text/plain": [
       ":NdOverlay   [Variable]\n",
       "   :Curve   [Date]   (value)"
      ]
     },
     "execution_count": 365,
     "metadata": {
      "application/vnd.holoviews_exec.v0+json": {
       "id": "7305"
      }
     },
     "output_type": "execute_result"
    }
   ],
   "source": [
    "f1 = goog_df.hvplot.line(x='Date', y=['Close','bollinger_up','bollinger_down'])\n",
    "f1                       "
   ]
  },
  {
   "cell_type": "code",
   "execution_count": 366,
   "id": "cd126d46-1f63-48e5-abce-c2c2124b232c",
   "metadata": {},
   "outputs": [
    {
     "data": {
      "text/html": [
       "<div>\n",
       "<style scoped>\n",
       "    .dataframe tbody tr th:only-of-type {\n",
       "        vertical-align: middle;\n",
       "    }\n",
       "\n",
       "    .dataframe tbody tr th {\n",
       "        vertical-align: top;\n",
       "    }\n",
       "\n",
       "    .dataframe thead th {\n",
       "        text-align: right;\n",
       "    }\n",
       "</style>\n",
       "<table border=\"1\" class=\"dataframe\">\n",
       "  <thead>\n",
       "    <tr style=\"text-align: right;\">\n",
       "      <th></th>\n",
       "      <th>bollinger_up</th>\n",
       "      <th>bollinger_down</th>\n",
       "    </tr>\n",
       "    <tr>\n",
       "      <th>Date</th>\n",
       "      <th></th>\n",
       "      <th></th>\n",
       "    </tr>\n",
       "  </thead>\n",
       "  <tbody>\n",
       "    <tr>\n",
       "      <th>2017-05-12</th>\n",
       "      <td>968.965721</td>\n",
       "      <td>805.863277</td>\n",
       "    </tr>\n",
       "    <tr>\n",
       "      <th>2017-05-15</th>\n",
       "      <td>970.889513</td>\n",
       "      <td>814.805482</td>\n",
       "    </tr>\n",
       "    <tr>\n",
       "      <th>2017-05-16</th>\n",
       "      <td>973.637141</td>\n",
       "      <td>822.048858</td>\n",
       "    </tr>\n",
       "    <tr>\n",
       "      <th>2017-05-17</th>\n",
       "      <td>975.756495</td>\n",
       "      <td>830.547503</td>\n",
       "    </tr>\n",
       "    <tr>\n",
       "      <th>2017-05-18</th>\n",
       "      <td>973.334948</td>\n",
       "      <td>841.110047</td>\n",
       "    </tr>\n",
       "  </tbody>\n",
       "</table>\n",
       "</div>"
      ],
      "text/plain": [
       "            bollinger_up  bollinger_down\n",
       "Date                                    \n",
       "2017-05-12    968.965721      805.863277\n",
       "2017-05-15    970.889513      814.805482\n",
       "2017-05-16    973.637141      822.048858\n",
       "2017-05-17    975.756495      830.547503\n",
       "2017-05-18    973.334948      841.110047"
      ]
     },
     "execution_count": 366,
     "metadata": {},
     "output_type": "execute_result"
    }
   ],
   "source": [
    "X = goog_df[['bollinger_up', 'bollinger_down']].shift().dropna()\n",
    "X.head()"
   ]
  },
  {
   "cell_type": "code",
   "execution_count": 367,
   "id": "6f488926-f23e-4603-9369-a10c1353807f",
   "metadata": {},
   "outputs": [
    {
     "data": {
      "text/plain": [
       " 1.0    671\n",
       "-1.0    549\n",
       "Name: Signal, dtype: int64"
      ]
     },
     "execution_count": 367,
     "metadata": {},
     "output_type": "execute_result"
    }
   ],
   "source": [
    "y = goog_df['Signal']\n",
    "y.value_counts()"
   ]
  },
  {
   "cell_type": "code",
   "execution_count": 368,
   "id": "117ec64d-75fa-4f1d-a370-5f08890d3c37",
   "metadata": {},
   "outputs": [
    {
     "name": "stdout",
     "output_type": "stream",
     "text": [
      "2017-05-12 00:00:00\n"
     ]
    }
   ],
   "source": [
    "training_begin = X.index.min()\n",
    "print(training_begin)"
   ]
  },
  {
   "cell_type": "code",
   "execution_count": 369,
   "id": "c0d1e6b5-525c-4cce-8ee6-f247fa8aa6e7",
   "metadata": {},
   "outputs": [
    {
     "name": "stdout",
     "output_type": "stream",
     "text": [
      "2017-08-12 00:00:00\n"
     ]
    }
   ],
   "source": [
    "training_end = X.index.min() + DateOffset(months=3)\n",
    "print(training_end)"
   ]
  },
  {
   "cell_type": "code",
   "execution_count": 378,
   "id": "42781ade-5ebf-4b7a-9400-79800db35850",
   "metadata": {},
   "outputs": [
    {
     "data": {
      "text/html": [
       "<div>\n",
       "<style scoped>\n",
       "    .dataframe tbody tr th:only-of-type {\n",
       "        vertical-align: middle;\n",
       "    }\n",
       "\n",
       "    .dataframe tbody tr th {\n",
       "        vertical-align: top;\n",
       "    }\n",
       "\n",
       "    .dataframe thead th {\n",
       "        text-align: right;\n",
       "    }\n",
       "</style>\n",
       "<table border=\"1\" class=\"dataframe\">\n",
       "  <thead>\n",
       "    <tr style=\"text-align: right;\">\n",
       "      <th></th>\n",
       "      <th>bollinger_up</th>\n",
       "      <th>bollinger_down</th>\n",
       "    </tr>\n",
       "    <tr>\n",
       "      <th>Date</th>\n",
       "      <th></th>\n",
       "      <th></th>\n",
       "    </tr>\n",
       "  </thead>\n",
       "  <tbody>\n",
       "    <tr>\n",
       "      <th>2017-05-12</th>\n",
       "      <td>968.965721</td>\n",
       "      <td>805.863277</td>\n",
       "    </tr>\n",
       "    <tr>\n",
       "      <th>2017-05-15</th>\n",
       "      <td>970.889513</td>\n",
       "      <td>814.805482</td>\n",
       "    </tr>\n",
       "    <tr>\n",
       "      <th>2017-05-16</th>\n",
       "      <td>973.637141</td>\n",
       "      <td>822.048858</td>\n",
       "    </tr>\n",
       "    <tr>\n",
       "      <th>2017-05-17</th>\n",
       "      <td>975.756495</td>\n",
       "      <td>830.547503</td>\n",
       "    </tr>\n",
       "    <tr>\n",
       "      <th>2017-05-18</th>\n",
       "      <td>973.334948</td>\n",
       "      <td>841.110047</td>\n",
       "    </tr>\n",
       "  </tbody>\n",
       "</table>\n",
       "</div>"
      ],
      "text/plain": [
       "            bollinger_up  bollinger_down\n",
       "Date                                    \n",
       "2017-05-12    968.965721      805.863277\n",
       "2017-05-15    970.889513      814.805482\n",
       "2017-05-16    973.637141      822.048858\n",
       "2017-05-17    975.756495      830.547503\n",
       "2017-05-18    973.334948      841.110047"
      ]
     },
     "execution_count": 378,
     "metadata": {},
     "output_type": "execute_result"
    }
   ],
   "source": [
    "X_train1 = X.loc[training_begin:training_end]\n",
    "y_train1 = y.loc[training_begin:training_end]\n",
    "X_train1.head()"
   ]
  },
  {
   "cell_type": "code",
   "execution_count": 380,
   "id": "0a78286c-e709-4df3-873b-5628f607ec34",
   "metadata": {},
   "outputs": [
    {
     "data": {
      "text/html": [
       "<div>\n",
       "<style scoped>\n",
       "    .dataframe tbody tr th:only-of-type {\n",
       "        vertical-align: middle;\n",
       "    }\n",
       "\n",
       "    .dataframe tbody tr th {\n",
       "        vertical-align: top;\n",
       "    }\n",
       "\n",
       "    .dataframe thead th {\n",
       "        text-align: right;\n",
       "    }\n",
       "</style>\n",
       "<table border=\"1\" class=\"dataframe\">\n",
       "  <thead>\n",
       "    <tr style=\"text-align: right;\">\n",
       "      <th></th>\n",
       "      <th>bollinger_up</th>\n",
       "      <th>bollinger_down</th>\n",
       "    </tr>\n",
       "    <tr>\n",
       "      <th>Date</th>\n",
       "      <th></th>\n",
       "      <th></th>\n",
       "    </tr>\n",
       "  </thead>\n",
       "  <tbody>\n",
       "    <tr>\n",
       "      <th>2017-08-14</th>\n",
       "      <td>983.617421</td>\n",
       "      <td>899.307597</td>\n",
       "    </tr>\n",
       "    <tr>\n",
       "      <th>2017-08-15</th>\n",
       "      <td>982.484747</td>\n",
       "      <td>897.365271</td>\n",
       "    </tr>\n",
       "    <tr>\n",
       "      <th>2017-08-16</th>\n",
       "      <td>979.251805</td>\n",
       "      <td>896.280207</td>\n",
       "    </tr>\n",
       "    <tr>\n",
       "      <th>2017-08-17</th>\n",
       "      <td>974.226342</td>\n",
       "      <td>896.912672</td>\n",
       "    </tr>\n",
       "    <tr>\n",
       "      <th>2017-08-18</th>\n",
       "      <td>969.640242</td>\n",
       "      <td>895.781767</td>\n",
       "    </tr>\n",
       "  </tbody>\n",
       "</table>\n",
       "</div>"
      ],
      "text/plain": [
       "            bollinger_up  bollinger_down\n",
       "Date                                    \n",
       "2017-08-14    983.617421      899.307597\n",
       "2017-08-15    982.484747      897.365271\n",
       "2017-08-16    979.251805      896.280207\n",
       "2017-08-17    974.226342      896.912672\n",
       "2017-08-18    969.640242      895.781767"
      ]
     },
     "execution_count": 380,
     "metadata": {},
     "output_type": "execute_result"
    }
   ],
   "source": [
    "X_test1 = X.loc[training_end:]\n",
    "y_test1 = y.loc[training_end:]\n",
    "X_test1.head()"
   ]
  },
  {
   "cell_type": "code",
   "execution_count": 381,
   "id": "8c3ba3fa-5501-4b16-924d-8113c370b463",
   "metadata": {},
   "outputs": [],
   "source": [
    "scaler = StandardScaler()\n",
    "X_scaler = scaler.fit(X_train1)\n",
    "X_train1_scaled = X_scaler.transform(X_train1)\n",
    "X_test1_scaled = X_scaler.transform(X_test1)"
   ]
  },
  {
   "cell_type": "code",
   "execution_count": 382,
   "id": "764ce755-26b8-4273-b16b-abf53efb52dc",
   "metadata": {},
   "outputs": [
    {
     "data": {
      "text/plain": [
       "array([ 1.,  1.,  1.,  1.,  1.,  1.,  1.,  1.,  1.,  1.,  1.,  1.,  1.,\n",
       "        1.,  1.,  1., -1., -1., -1., -1., -1., -1., -1., -1., -1., -1.,\n",
       "       -1., -1., -1., -1., -1., -1., -1., -1., -1., -1., -1., -1.,  1.,\n",
       "        1.,  1.,  1.,  1.,  1.,  1.,  1.,  1.,  1.,  1., -1., -1., -1.,\n",
       "       -1., -1., -1., -1., -1.,  1.,  1.,  1.,  1.,  1.,  1.,  1.])"
      ]
     },
     "execution_count": 382,
     "metadata": {},
     "output_type": "execute_result"
    }
   ],
   "source": [
    "svm1_model = svm.SVC()\n",
    "svm1_model = svm1_model.fit(X_train1_scaled, y_train1)\n",
    "svm1_pred_training = svm1_model.predict(X_train1_scaled)\n",
    "svm1_pred_training"
   ]
  },
  {
   "cell_type": "code",
   "execution_count": 383,
   "id": "57e50400-9fa4-447e-bae1-fcc28c93cc9c",
   "metadata": {},
   "outputs": [
    {
     "name": "stdout",
     "output_type": "stream",
     "text": [
      "              precision    recall  f1-score   support\n",
      "\n",
      "        -1.0       0.63      0.70      0.67        27\n",
      "         1.0       0.76      0.70      0.73        37\n",
      "\n",
      "    accuracy                           0.70        64\n",
      "   macro avg       0.70      0.70      0.70        64\n",
      "weighted avg       0.71      0.70      0.70        64\n",
      "\n"
     ]
    }
   ],
   "source": [
    "svm1_training_report = classification_report(y_train1, svm1_pred_training)\n",
    "print(svm1_training_report)"
   ]
  },
  {
   "cell_type": "code",
   "execution_count": 384,
   "id": "2050c699-014a-42f0-ade6-6e035cc0db46",
   "metadata": {},
   "outputs": [
    {
     "name": "stdout",
     "output_type": "stream",
     "text": [
      "              precision    recall  f1-score   support\n",
      "\n",
      "        -1.0       0.25      0.00      0.01       522\n",
      "         1.0       0.55      0.99      0.70       633\n",
      "\n",
      "    accuracy                           0.54      1155\n",
      "   macro avg       0.40      0.50      0.36      1155\n",
      "weighted avg       0.41      0.54      0.39      1155\n",
      "\n"
     ]
    }
   ],
   "source": [
    "svm1_pred_testing = svm1_model.predict(X_test1_scaled)\n",
    "svm1_testing_report = classification_report(y_test1, svm1_pred_testing)\n",
    "print(svm1_testing_report)"
   ]
  },
  {
   "cell_type": "code",
   "execution_count": 385,
   "id": "3134fab8-bee6-4e08-a312-41497928ae7f",
   "metadata": {},
   "outputs": [],
   "source": [
    "predictions1_df = pd.DataFrame(index = X_test1.index)\n",
    "predictions1_df['Predicted'] = svm1_pred_testing"
   ]
  },
  {
   "cell_type": "code",
   "execution_count": 386,
   "id": "53defd55-fdc4-4aa8-bc81-71df16529585",
   "metadata": {},
   "outputs": [
    {
     "data": {
      "text/html": [
       "<div>\n",
       "<style scoped>\n",
       "    .dataframe tbody tr th:only-of-type {\n",
       "        vertical-align: middle;\n",
       "    }\n",
       "\n",
       "    .dataframe tbody tr th {\n",
       "        vertical-align: top;\n",
       "    }\n",
       "\n",
       "    .dataframe thead th {\n",
       "        text-align: right;\n",
       "    }\n",
       "</style>\n",
       "<table border=\"1\" class=\"dataframe\">\n",
       "  <thead>\n",
       "    <tr style=\"text-align: right;\">\n",
       "      <th></th>\n",
       "      <th>Predicted</th>\n",
       "      <th>Actual Returns</th>\n",
       "      <th>Strategy Returns</th>\n",
       "    </tr>\n",
       "    <tr>\n",
       "      <th>Date</th>\n",
       "      <th></th>\n",
       "      <th></th>\n",
       "      <th></th>\n",
       "    </tr>\n",
       "  </thead>\n",
       "  <tbody>\n",
       "    <tr>\n",
       "      <th>2017-08-14</th>\n",
       "      <td>1.0</td>\n",
       "      <td>0.009055</td>\n",
       "      <td>0.009055</td>\n",
       "    </tr>\n",
       "    <tr>\n",
       "      <th>2017-08-15</th>\n",
       "      <td>1.0</td>\n",
       "      <td>-0.000488</td>\n",
       "      <td>-0.000488</td>\n",
       "    </tr>\n",
       "    <tr>\n",
       "      <th>2017-08-16</th>\n",
       "      <td>1.0</td>\n",
       "      <td>0.005140</td>\n",
       "      <td>0.005140</td>\n",
       "    </tr>\n",
       "    <tr>\n",
       "      <th>2017-08-17</th>\n",
       "      <td>1.0</td>\n",
       "      <td>-0.017239</td>\n",
       "      <td>-0.017239</td>\n",
       "    </tr>\n",
       "    <tr>\n",
       "      <th>2017-08-18</th>\n",
       "      <td>1.0</td>\n",
       "      <td>-0.000340</td>\n",
       "      <td>-0.000340</td>\n",
       "    </tr>\n",
       "  </tbody>\n",
       "</table>\n",
       "</div>"
      ],
      "text/plain": [
       "            Predicted  Actual Returns  Strategy Returns\n",
       "Date                                                   \n",
       "2017-08-14        1.0        0.009055          0.009055\n",
       "2017-08-15        1.0       -0.000488         -0.000488\n",
       "2017-08-16        1.0        0.005140          0.005140\n",
       "2017-08-17        1.0       -0.017239         -0.017239\n",
       "2017-08-18        1.0       -0.000340         -0.000340"
      ]
     },
     "metadata": {},
     "output_type": "display_data"
    },
    {
     "data": {
      "text/html": [
       "<div>\n",
       "<style scoped>\n",
       "    .dataframe tbody tr th:only-of-type {\n",
       "        vertical-align: middle;\n",
       "    }\n",
       "\n",
       "    .dataframe tbody tr th {\n",
       "        vertical-align: top;\n",
       "    }\n",
       "\n",
       "    .dataframe thead th {\n",
       "        text-align: right;\n",
       "    }\n",
       "</style>\n",
       "<table border=\"1\" class=\"dataframe\">\n",
       "  <thead>\n",
       "    <tr style=\"text-align: right;\">\n",
       "      <th></th>\n",
       "      <th>Predicted</th>\n",
       "      <th>Actual Returns</th>\n",
       "      <th>Strategy Returns</th>\n",
       "    </tr>\n",
       "    <tr>\n",
       "      <th>Date</th>\n",
       "      <th></th>\n",
       "      <th></th>\n",
       "      <th></th>\n",
       "    </tr>\n",
       "  </thead>\n",
       "  <tbody>\n",
       "    <tr>\n",
       "      <th>2022-03-09</th>\n",
       "      <td>1.0</td>\n",
       "      <td>0.051757</td>\n",
       "      <td>0.051757</td>\n",
       "    </tr>\n",
       "    <tr>\n",
       "      <th>2022-03-10</th>\n",
       "      <td>1.0</td>\n",
       "      <td>-0.008845</td>\n",
       "      <td>-0.008845</td>\n",
       "    </tr>\n",
       "    <tr>\n",
       "      <th>2022-03-11</th>\n",
       "      <td>1.0</td>\n",
       "      <td>-0.016630</td>\n",
       "      <td>-0.016630</td>\n",
       "    </tr>\n",
       "    <tr>\n",
       "      <th>2022-03-14</th>\n",
       "      <td>1.0</td>\n",
       "      <td>-0.028622</td>\n",
       "      <td>-0.028622</td>\n",
       "    </tr>\n",
       "    <tr>\n",
       "      <th>2022-03-15</th>\n",
       "      <td>1.0</td>\n",
       "      <td>0.023035</td>\n",
       "      <td>0.023035</td>\n",
       "    </tr>\n",
       "  </tbody>\n",
       "</table>\n",
       "</div>"
      ],
      "text/plain": [
       "            Predicted  Actual Returns  Strategy Returns\n",
       "Date                                                   \n",
       "2022-03-09        1.0        0.051757          0.051757\n",
       "2022-03-10        1.0       -0.008845         -0.008845\n",
       "2022-03-11        1.0       -0.016630         -0.016630\n",
       "2022-03-14        1.0       -0.028622         -0.028622\n",
       "2022-03-15        1.0        0.023035          0.023035"
      ]
     },
     "metadata": {},
     "output_type": "display_data"
    }
   ],
   "source": [
    "predictions1_df['Actual Returns'] = goog_df['Actual Returns']\n",
    "predictions1_df['Strategy Returns'] = (\n",
    "    predictions1_df['Actual Returns'] * predictions1_df['Predicted']\n",
    ")\n",
    "display(predictions1_df.head())\n",
    "display(predictions1_df.tail())"
   ]
  },
  {
   "cell_type": "code",
   "execution_count": 387,
   "id": "2e6c0f17-9a1f-4d56-9518-bb9029620a0f",
   "metadata": {},
   "outputs": [
    {
     "data": {
      "text/plain": [
       "<AxesSubplot:xlabel='Date'>"
      ]
     },
     "execution_count": 387,
     "metadata": {},
     "output_type": "execute_result"
    },
    {
     "data": {
      "image/png": "[encoded data removed]",
      "text/plain": [
       "<Figure size 432x288 with 1 Axes>"
      ]
     },
     "metadata": {
      "needs_background": "light"
     },
     "output_type": "display_data"
    }
   ],
   "source": [
    "(1 + predictions1_df[['Actual Returns', 'Strategy Returns']]).cumprod().plot()"
   ]
  },
  {
   "cell_type": "code",
   "execution_count": null,
   "id": "03c7691c-4347-40c7-a6e5-498e85edd7c4",
   "metadata": {},
   "outputs": [],
   "source": []
  }
 ],
 "metadata": {
  "kernelspec": {
   "display_name": "Python 3.9.7 64-bit ('dev': conda)",
   "language": "python",
   "name": "python397jvsc74a57bd039fd4f7935656d6ca2e81686471bb91fda69f889511528cd43d174a39a9c9681"
  },
  "language_info": {
   "codemirror_mode": {
    "name": "ipython",
    "version": 3
   },
   "file_extension": ".py",
   "mimetype": "text/x-python",
   "name": "python",
   "nbconvert_exporter": "python",
   "pygments_lexer": "ipython3",
   "version": "3.9.7"
  }
 },
 "nbformat": 4,
 "nbformat_minor": 5
}
