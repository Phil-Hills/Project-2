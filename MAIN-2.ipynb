{
 "cells": [
  {
   "cell_type": "markdown",
   "metadata": {
    "id": "icjnq__P0aCw"
   },
   "source": [
    "# Risk Analyzer \n"
   ]
  },
  {
   "cell_type": "markdown",
   "metadata": {
    "id": "yk10KMR1_w61"
   },
   "source": []
  },
  {
   "cell_type": "code",
   "execution_count": 47,
   "metadata": {
    "id": "ipcKe9Az0aCz",
    "tags": []
   },
   "outputs": [],
   "source": [
    "# Imports \n",
    "\n",
    "import pandas as pd\n",
    "import numpy as np\n",
    "from pathlib import Path\n",
    "import hvplot.pandas\n",
    "import matplotlib.pyplot as plt\n",
    "from sklearn import svm\n",
    "from sklearn.preprocessing import StandardScaler\n",
    "from pandas.tseries.offsets import DateOffset\n",
    "from sklearn.metrics import classification_report"
   ]
  },
  {
   "cell_type": "code",
   "execution_count": 48,
   "metadata": {
    "colab": {
     "base_uri": "https://localhost:8080/"
    },
    "id": "j-b8j3K0BxfN",
    "outputId": "507dd0b8-63b8-4fb6-cba7-b4c1de435dd3"
   },
   "outputs": [
    {
     "name": "stdout",
     "output_type": "stream",
     "text": [
      "Requirement already satisfied: hvplot in /opt/anaconda3/envs/dev/lib/python3.7/site-packages (0.7.3)\n",
      "Requirement already satisfied: bokeh>=1.0.0 in /opt/anaconda3/envs/dev/lib/python3.7/site-packages (from hvplot) (2.4.1)\n",
      "Requirement already satisfied: colorcet>=2 in /opt/anaconda3/envs/dev/lib/python3.7/site-packages (from hvplot) (3.0.0)\n",
      "Requirement already satisfied: holoviews>=1.11.0 in /opt/anaconda3/envs/dev/lib/python3.7/site-packages (from hvplot) (1.14.7)\n",
      "Requirement already satisfied: pandas in /opt/anaconda3/envs/dev/lib/python3.7/site-packages (from hvplot) (1.3.4)\n",
      "Requirement already satisfied: numpy>=1.15 in /opt/anaconda3/envs/dev/lib/python3.7/site-packages (from hvplot) (1.20.3)\n",
      "Requirement already satisfied: tornado>=5.1 in /opt/anaconda3/envs/dev/lib/python3.7/site-packages (from bokeh>=1.0.0->hvplot) (6.1)\n",
      "Requirement already satisfied: PyYAML>=3.10 in /opt/anaconda3/envs/dev/lib/python3.7/site-packages (from bokeh>=1.0.0->hvplot) (6.0)\n",
      "Requirement already satisfied: pillow>=7.1.0 in /opt/anaconda3/envs/dev/lib/python3.7/site-packages (from bokeh>=1.0.0->hvplot) (8.4.0)\n",
      "Requirement already satisfied: Jinja2>=2.9 in /opt/anaconda3/envs/dev/lib/python3.7/site-packages (from bokeh>=1.0.0->hvplot) (2.11.3)\n",
      "Requirement already satisfied: typing-extensions>=3.10.0 in /opt/anaconda3/envs/dev/lib/python3.7/site-packages (from bokeh>=1.0.0->hvplot) (3.10.0.2)\n",
      "Requirement already satisfied: packaging>=16.8 in /opt/anaconda3/envs/dev/lib/python3.7/site-packages (from bokeh>=1.0.0->hvplot) (21.0)\n",
      "Requirement already satisfied: param>=1.7.0 in /opt/anaconda3/envs/dev/lib/python3.7/site-packages (from colorcet>=2->hvplot) (1.12.0)\n",
      "Requirement already satisfied: pyct>=0.4.4 in /opt/anaconda3/envs/dev/lib/python3.7/site-packages (from colorcet>=2->hvplot) (0.4.8)\n",
      "Requirement already satisfied: pyviz_comms>=0.7.4 in /opt/anaconda3/envs/dev/lib/python3.7/site-packages (from holoviews>=1.11.0->hvplot) (2.1.0)\n",
      "Requirement already satisfied: panel>=0.8.0 in /opt/anaconda3/envs/dev/lib/python3.7/site-packages (from holoviews>=1.11.0->hvplot) (0.12.6)\n",
      "Requirement already satisfied: MarkupSafe>=0.23 in /opt/anaconda3/envs/dev/lib/python3.7/site-packages (from Jinja2>=2.9->bokeh>=1.0.0->hvplot) (1.1.1)\n",
      "Requirement already satisfied: pyparsing>=2.0.2 in /opt/anaconda3/envs/dev/lib/python3.7/site-packages (from packaging>=16.8->bokeh>=1.0.0->hvplot) (3.0.4)\n",
      "Requirement already satisfied: python-dateutil>=2.7.3 in /opt/anaconda3/envs/dev/lib/python3.7/site-packages (from pandas->hvplot) (2.8.2)\n",
      "Requirement already satisfied: pytz>=2017.3 in /opt/anaconda3/envs/dev/lib/python3.7/site-packages (from pandas->hvplot) (2021.3)\n",
      "Requirement already satisfied: markdown in /opt/anaconda3/envs/dev/lib/python3.7/site-packages (from panel>=0.8.0->holoviews>=1.11.0->hvplot) (3.3.4)\n",
      "Requirement already satisfied: requests in /opt/anaconda3/envs/dev/lib/python3.7/site-packages (from panel>=0.8.0->holoviews>=1.11.0->hvplot) (2.26.0)\n",
      "Requirement already satisfied: tqdm>=4.48.0 in /opt/anaconda3/envs/dev/lib/python3.7/site-packages (from panel>=0.8.0->holoviews>=1.11.0->hvplot) (4.62.3)\n",
      "Requirement already satisfied: bleach in /opt/anaconda3/envs/dev/lib/python3.7/site-packages (from panel>=0.8.0->holoviews>=1.11.0->hvplot) (4.0.0)\n",
      "Requirement already satisfied: six>=1.5 in /opt/anaconda3/envs/dev/lib/python3.7/site-packages (from python-dateutil>=2.7.3->pandas->hvplot) (1.16.0)\n",
      "Requirement already satisfied: webencodings in /opt/anaconda3/envs/dev/lib/python3.7/site-packages (from bleach->panel>=0.8.0->holoviews>=1.11.0->hvplot) (0.5.1)\n",
      "Requirement already satisfied: importlib-metadata in /opt/anaconda3/envs/dev/lib/python3.7/site-packages (from markdown->panel>=0.8.0->holoviews>=1.11.0->hvplot) (4.8.1)\n",
      "Requirement already satisfied: zipp>=0.5 in /opt/anaconda3/envs/dev/lib/python3.7/site-packages (from importlib-metadata->markdown->panel>=0.8.0->holoviews>=1.11.0->hvplot) (3.6.0)\n",
      "Requirement already satisfied: urllib3<1.27,>=1.21.1 in /opt/anaconda3/envs/dev/lib/python3.7/site-packages (from requests->panel>=0.8.0->holoviews>=1.11.0->hvplot) (1.26.7)\n",
      "Requirement already satisfied: certifi>=2017.4.17 in /opt/anaconda3/envs/dev/lib/python3.7/site-packages (from requests->panel>=0.8.0->holoviews>=1.11.0->hvplot) (2021.10.8)\n",
      "Requirement already satisfied: charset-normalizer~=2.0.0 in /opt/anaconda3/envs/dev/lib/python3.7/site-packages (from requests->panel>=0.8.0->holoviews>=1.11.0->hvplot) (2.0.4)\n",
      "Requirement already satisfied: idna<4,>=2.5 in /opt/anaconda3/envs/dev/lib/python3.7/site-packages (from requests->panel>=0.8.0->holoviews>=1.11.0->hvplot) (3.2)\n",
      "Note: you may need to restart the kernel to use updated packages.\n"
     ]
    }
   ],
   "source": [
    "pip install hvplot"
   ]
  },
  {
   "cell_type": "markdown",
   "metadata": {
    "id": "oJ3T44ND0aC2"
   },
   "source": [
    "---\n",
    "\n"
   ]
  },
  {
   "cell_type": "markdown",
   "metadata": {
    "id": "vYEHu4Pa0aC2"
   },
   "source": [
    "### Import the csv into a Pandas DataFrame."
   ]
  },
  {
   "cell_type": "code",
   "execution_count": 49,
   "metadata": {
    "colab": {
     "base_uri": "https://localhost:8080/",
     "height": 238
    },
    "id": "nYqsjVKt0aC3",
    "outputId": "09a5abda-b83b-4db0-e922-557462043b4b"
   },
   "outputs": [
    {
     "data": {
      "text/html": [
       "<div>\n",
       "<style scoped>\n",
       "    .dataframe tbody tr th:only-of-type {\n",
       "        vertical-align: middle;\n",
       "    }\n",
       "\n",
       "    .dataframe tbody tr th {\n",
       "        vertical-align: top;\n",
       "    }\n",
       "\n",
       "    .dataframe thead th {\n",
       "        text-align: right;\n",
       "    }\n",
       "</style>\n",
       "<table border=\"1\" class=\"dataframe\">\n",
       "  <thead>\n",
       "    <tr style=\"text-align: right;\">\n",
       "      <th></th>\n",
       "      <th>Open</th>\n",
       "      <th>High</th>\n",
       "      <th>Low</th>\n",
       "      <th>Close</th>\n",
       "      <th>Adj Close</th>\n",
       "      <th>Volume</th>\n",
       "    </tr>\n",
       "    <tr>\n",
       "      <th>Date</th>\n",
       "      <th></th>\n",
       "      <th></th>\n",
       "      <th></th>\n",
       "      <th></th>\n",
       "      <th></th>\n",
       "      <th></th>\n",
       "    </tr>\n",
       "  </thead>\n",
       "  <tbody>\n",
       "    <tr>\n",
       "      <th>2017-03-16</th>\n",
       "      <td>849.030029</td>\n",
       "      <td>850.849976</td>\n",
       "      <td>846.130005</td>\n",
       "      <td>848.780029</td>\n",
       "      <td>848.780029</td>\n",
       "      <td>977600</td>\n",
       "    </tr>\n",
       "    <tr>\n",
       "      <th>2017-03-17</th>\n",
       "      <td>851.609985</td>\n",
       "      <td>853.400024</td>\n",
       "      <td>847.109985</td>\n",
       "      <td>852.119995</td>\n",
       "      <td>852.119995</td>\n",
       "      <td>1712300</td>\n",
       "    </tr>\n",
       "    <tr>\n",
       "      <th>2017-03-20</th>\n",
       "      <td>850.010010</td>\n",
       "      <td>850.219971</td>\n",
       "      <td>845.150024</td>\n",
       "      <td>848.400024</td>\n",
       "      <td>848.400024</td>\n",
       "      <td>1231500</td>\n",
       "    </tr>\n",
       "    <tr>\n",
       "      <th>2017-03-21</th>\n",
       "      <td>851.400024</td>\n",
       "      <td>853.500000</td>\n",
       "      <td>829.020020</td>\n",
       "      <td>830.460022</td>\n",
       "      <td>830.460022</td>\n",
       "      <td>2463500</td>\n",
       "    </tr>\n",
       "    <tr>\n",
       "      <th>2017-03-22</th>\n",
       "      <td>831.909973</td>\n",
       "      <td>835.549988</td>\n",
       "      <td>827.179993</td>\n",
       "      <td>829.590027</td>\n",
       "      <td>829.590027</td>\n",
       "      <td>1401500</td>\n",
       "    </tr>\n",
       "  </tbody>\n",
       "</table>\n",
       "</div>"
      ],
      "text/plain": [
       "                  Open        High         Low       Close   Adj Close  \\\n",
       "Date                                                                     \n",
       "2017-03-16  849.030029  850.849976  846.130005  848.780029  848.780029   \n",
       "2017-03-17  851.609985  853.400024  847.109985  852.119995  852.119995   \n",
       "2017-03-20  850.010010  850.219971  845.150024  848.400024  848.400024   \n",
       "2017-03-21  851.400024  853.500000  829.020020  830.460022  830.460022   \n",
       "2017-03-22  831.909973  835.549988  827.179993  829.590027  829.590027   \n",
       "\n",
       "             Volume  \n",
       "Date                 \n",
       "2017-03-16   977600  \n",
       "2017-03-17  1712300  \n",
       "2017-03-20  1231500  \n",
       "2017-03-21  2463500  \n",
       "2017-03-22  1401500  "
      ]
     },
     "execution_count": 49,
     "metadata": {},
     "output_type": "execute_result"
    }
   ],
   "source": [
    "# Import the GOOG.csv into a Pandas Dataframe\n",
    "goog_df = pd.read_csv(Path(\"GOOG.csv\"),\n",
    "                       index_col='Date',\n",
    "                       infer_datetime_format=True,\n",
    "                       parse_dates=True)\n",
    "\n",
    "# Review the DataFrame\n",
    "goog_df.head()"
   ]
  },
  {
   "cell_type": "code",
   "execution_count": 50,
   "metadata": {
    "colab": {
     "base_uri": "https://localhost:8080/",
     "height": 458
    },
    "id": "sg8yJiVo0aC4",
    "outputId": "c9de2019-eb66-4e6c-8b57-8881a340444d"
   },
   "outputs": [
    {
     "data": {
      "text/html": [
       "<div>\n",
       "<style scoped>\n",
       "    .dataframe tbody tr th:only-of-type {\n",
       "        vertical-align: middle;\n",
       "    }\n",
       "\n",
       "    .dataframe tbody tr th {\n",
       "        vertical-align: top;\n",
       "    }\n",
       "\n",
       "    .dataframe thead th {\n",
       "        text-align: right;\n",
       "    }\n",
       "</style>\n",
       "<table border=\"1\" class=\"dataframe\">\n",
       "  <thead>\n",
       "    <tr style=\"text-align: right;\">\n",
       "      <th></th>\n",
       "      <th>Close</th>\n",
       "      <th>Actual Returns</th>\n",
       "    </tr>\n",
       "    <tr>\n",
       "      <th>Date</th>\n",
       "      <th></th>\n",
       "      <th></th>\n",
       "    </tr>\n",
       "  </thead>\n",
       "  <tbody>\n",
       "    <tr>\n",
       "      <th>2017-03-17</th>\n",
       "      <td>852.119995</td>\n",
       "      <td>0.003935</td>\n",
       "    </tr>\n",
       "    <tr>\n",
       "      <th>2017-03-20</th>\n",
       "      <td>848.400024</td>\n",
       "      <td>-0.004366</td>\n",
       "    </tr>\n",
       "    <tr>\n",
       "      <th>2017-03-21</th>\n",
       "      <td>830.460022</td>\n",
       "      <td>-0.021146</td>\n",
       "    </tr>\n",
       "    <tr>\n",
       "      <th>2017-03-22</th>\n",
       "      <td>829.590027</td>\n",
       "      <td>-0.001048</td>\n",
       "    </tr>\n",
       "    <tr>\n",
       "      <th>2017-03-23</th>\n",
       "      <td>817.580017</td>\n",
       "      <td>-0.014477</td>\n",
       "    </tr>\n",
       "  </tbody>\n",
       "</table>\n",
       "</div>"
      ],
      "text/plain": [
       "                 Close  Actual Returns\n",
       "Date                                  \n",
       "2017-03-17  852.119995        0.003935\n",
       "2017-03-20  848.400024       -0.004366\n",
       "2017-03-21  830.460022       -0.021146\n",
       "2017-03-22  829.590027       -0.001048\n",
       "2017-03-23  817.580017       -0.014477"
      ]
     },
     "metadata": {},
     "output_type": "display_data"
    },
    {
     "data": {
      "text/html": [
       "<div>\n",
       "<style scoped>\n",
       "    .dataframe tbody tr th:only-of-type {\n",
       "        vertical-align: middle;\n",
       "    }\n",
       "\n",
       "    .dataframe tbody tr th {\n",
       "        vertical-align: top;\n",
       "    }\n",
       "\n",
       "    .dataframe thead th {\n",
       "        text-align: right;\n",
       "    }\n",
       "</style>\n",
       "<table border=\"1\" class=\"dataframe\">\n",
       "  <thead>\n",
       "    <tr style=\"text-align: right;\">\n",
       "      <th></th>\n",
       "      <th>Close</th>\n",
       "      <th>Actual Returns</th>\n",
       "    </tr>\n",
       "    <tr>\n",
       "      <th>Date</th>\n",
       "      <th></th>\n",
       "      <th></th>\n",
       "    </tr>\n",
       "  </thead>\n",
       "  <tbody>\n",
       "    <tr>\n",
       "      <th>2022-03-10</th>\n",
       "      <td>2653.639893</td>\n",
       "      <td>-0.008845</td>\n",
       "    </tr>\n",
       "    <tr>\n",
       "      <th>2022-03-11</th>\n",
       "      <td>2609.510010</td>\n",
       "      <td>-0.016630</td>\n",
       "    </tr>\n",
       "    <tr>\n",
       "      <th>2022-03-14</th>\n",
       "      <td>2534.820068</td>\n",
       "      <td>-0.028622</td>\n",
       "    </tr>\n",
       "    <tr>\n",
       "      <th>2022-03-15</th>\n",
       "      <td>2593.209961</td>\n",
       "      <td>0.023035</td>\n",
       "    </tr>\n",
       "    <tr>\n",
       "      <th>2022-03-15</th>\n",
       "      <td>2593.209961</td>\n",
       "      <td>0.000000</td>\n",
       "    </tr>\n",
       "  </tbody>\n",
       "</table>\n",
       "</div>"
      ],
      "text/plain": [
       "                  Close  Actual Returns\n",
       "Date                                   \n",
       "2022-03-10  2653.639893       -0.008845\n",
       "2022-03-11  2609.510010       -0.016630\n",
       "2022-03-14  2534.820068       -0.028622\n",
       "2022-03-15  2593.209961        0.023035\n",
       "2022-03-15  2593.209961        0.000000"
      ]
     },
     "metadata": {},
     "output_type": "display_data"
    }
   ],
   "source": [
    "# Filter the close column\n",
    "G_signals_df = goog_df.loc[:, [\"Close\"]]\n",
    "\n",
    "# pct_change function to generate returns from close prices\n",
    "G_signals_df[\"Actual Returns\"] = G_signals_df[\"Close\"].pct_change()\n",
    "\n",
    "# Drop all NaN values from the DataFrame\n",
    "G_signals_df = G_signals_df.dropna()\n",
    "\n",
    "# Review the DataFrame\n",
    "display(G_signals_df.head())\n",
    "display(G_signals_df.tail())"
   ]
  },
  {
   "cell_type": "markdown",
   "metadata": {
    "id": "7ltZnMTJ0aC5"
   },
   "source": [
    "## Generate trading signals using short- and long-window SMA values. "
   ]
  },
  {
   "cell_type": "code",
   "execution_count": 51,
   "metadata": {
    "colab": {
     "base_uri": "https://localhost:8080/",
     "height": 458
    },
    "id": "uHgVXnlm0aC6",
    "outputId": "7bc693a0-cdf4-48a6-a2ab-88bff8baeaa6",
    "tags": []
   },
   "outputs": [
    {
     "data": {
      "text/html": [
       "<div>\n",
       "<style scoped>\n",
       "    .dataframe tbody tr th:only-of-type {\n",
       "        vertical-align: middle;\n",
       "    }\n",
       "\n",
       "    .dataframe tbody tr th {\n",
       "        vertical-align: top;\n",
       "    }\n",
       "\n",
       "    .dataframe thead th {\n",
       "        text-align: right;\n",
       "    }\n",
       "</style>\n",
       "<table border=\"1\" class=\"dataframe\">\n",
       "  <thead>\n",
       "    <tr style=\"text-align: right;\">\n",
       "      <th></th>\n",
       "      <th>Close</th>\n",
       "      <th>Actual Returns</th>\n",
       "      <th>SMA_Fast</th>\n",
       "      <th>SMA_Slow</th>\n",
       "      <th>Signal</th>\n",
       "    </tr>\n",
       "    <tr>\n",
       "      <th>Date</th>\n",
       "      <th></th>\n",
       "      <th></th>\n",
       "      <th></th>\n",
       "      <th></th>\n",
       "      <th></th>\n",
       "    </tr>\n",
       "  </thead>\n",
       "  <tbody>\n",
       "    <tr>\n",
       "      <th>2017-08-08</th>\n",
       "      <td>926.789978</td>\n",
       "      <td>-0.002765</td>\n",
       "      <td>946.997806</td>\n",
       "      <td>912.359602</td>\n",
       "      <td>0.0</td>\n",
       "    </tr>\n",
       "    <tr>\n",
       "      <th>2017-08-09</th>\n",
       "      <td>922.900024</td>\n",
       "      <td>-0.004197</td>\n",
       "      <td>945.938207</td>\n",
       "      <td>913.067402</td>\n",
       "      <td>0.0</td>\n",
       "    </tr>\n",
       "    <tr>\n",
       "      <th>2017-08-10</th>\n",
       "      <td>907.239990</td>\n",
       "      <td>-0.016968</td>\n",
       "      <td>944.785807</td>\n",
       "      <td>913.655802</td>\n",
       "      <td>0.0</td>\n",
       "    </tr>\n",
       "    <tr>\n",
       "      <th>2017-08-11</th>\n",
       "      <td>914.390015</td>\n",
       "      <td>0.007881</td>\n",
       "      <td>943.734607</td>\n",
       "      <td>914.495102</td>\n",
       "      <td>0.0</td>\n",
       "    </tr>\n",
       "    <tr>\n",
       "      <th>2017-08-14</th>\n",
       "      <td>922.669983</td>\n",
       "      <td>0.009055</td>\n",
       "      <td>942.676007</td>\n",
       "      <td>915.425901</td>\n",
       "      <td>0.0</td>\n",
       "    </tr>\n",
       "  </tbody>\n",
       "</table>\n",
       "</div>"
      ],
      "text/plain": [
       "                 Close  Actual Returns    SMA_Fast    SMA_Slow  Signal\n",
       "Date                                                                  \n",
       "2017-08-08  926.789978       -0.002765  946.997806  912.359602     0.0\n",
       "2017-08-09  922.900024       -0.004197  945.938207  913.067402     0.0\n",
       "2017-08-10  907.239990       -0.016968  944.785807  913.655802     0.0\n",
       "2017-08-11  914.390015        0.007881  943.734607  914.495102     0.0\n",
       "2017-08-14  922.669983        0.009055  942.676007  915.425901     0.0"
      ]
     },
     "metadata": {},
     "output_type": "display_data"
    },
    {
     "data": {
      "text/html": [
       "<div>\n",
       "<style scoped>\n",
       "    .dataframe tbody tr th:only-of-type {\n",
       "        vertical-align: middle;\n",
       "    }\n",
       "\n",
       "    .dataframe tbody tr th {\n",
       "        vertical-align: top;\n",
       "    }\n",
       "\n",
       "    .dataframe thead th {\n",
       "        text-align: right;\n",
       "    }\n",
       "</style>\n",
       "<table border=\"1\" class=\"dataframe\">\n",
       "  <thead>\n",
       "    <tr style=\"text-align: right;\">\n",
       "      <th></th>\n",
       "      <th>Close</th>\n",
       "      <th>Actual Returns</th>\n",
       "      <th>SMA_Fast</th>\n",
       "      <th>SMA_Slow</th>\n",
       "      <th>Signal</th>\n",
       "    </tr>\n",
       "    <tr>\n",
       "      <th>Date</th>\n",
       "      <th></th>\n",
       "      <th></th>\n",
       "      <th></th>\n",
       "      <th></th>\n",
       "      <th></th>\n",
       "    </tr>\n",
       "  </thead>\n",
       "  <tbody>\n",
       "    <tr>\n",
       "      <th>2022-03-10</th>\n",
       "      <td>2653.639893</td>\n",
       "      <td>-0.008845</td>\n",
       "      <td>2723.464019</td>\n",
       "      <td>2820.355613</td>\n",
       "      <td>0.0</td>\n",
       "    </tr>\n",
       "    <tr>\n",
       "      <th>2022-03-11</th>\n",
       "      <td>2609.510010</td>\n",
       "      <td>-0.016630</td>\n",
       "      <td>2717.052417</td>\n",
       "      <td>2817.858613</td>\n",
       "      <td>0.0</td>\n",
       "    </tr>\n",
       "    <tr>\n",
       "      <th>2022-03-14</th>\n",
       "      <td>2534.820068</td>\n",
       "      <td>-0.028622</td>\n",
       "      <td>2709.347817</td>\n",
       "      <td>2814.442415</td>\n",
       "      <td>0.0</td>\n",
       "    </tr>\n",
       "    <tr>\n",
       "      <th>2022-03-15</th>\n",
       "      <td>2593.209961</td>\n",
       "      <td>0.023035</td>\n",
       "      <td>2703.340215</td>\n",
       "      <td>2811.891514</td>\n",
       "      <td>0.0</td>\n",
       "    </tr>\n",
       "    <tr>\n",
       "      <th>2022-03-15</th>\n",
       "      <td>2593.209961</td>\n",
       "      <td>0.000000</td>\n",
       "      <td>2697.174614</td>\n",
       "      <td>2809.267512</td>\n",
       "      <td>0.0</td>\n",
       "    </tr>\n",
       "  </tbody>\n",
       "</table>\n",
       "</div>"
      ],
      "text/plain": [
       "                  Close  Actual Returns     SMA_Fast     SMA_Slow  Signal\n",
       "Date                                                                     \n",
       "2022-03-10  2653.639893       -0.008845  2723.464019  2820.355613     0.0\n",
       "2022-03-11  2609.510010       -0.016630  2717.052417  2817.858613     0.0\n",
       "2022-03-14  2534.820068       -0.028622  2709.347817  2814.442415     0.0\n",
       "2022-03-15  2593.209961        0.023035  2703.340215  2811.891514     0.0\n",
       "2022-03-15  2593.209961        0.000000  2697.174614  2809.267512     0.0"
      ]
     },
     "metadata": {},
     "output_type": "display_data"
    }
   ],
   "source": [
    "# Set the short window and long window\n",
    "short_window = 50\n",
    "long_window = 100\n",
    "\n",
    "# Generate the fast and slow simple moving averages \n",
    "G_signals_df['SMA_Fast'] = G_signals_df['Close'].rolling(window=short_window).mean()\n",
    "G_signals_df['SMA_Slow'] = G_signals_df['Close'].rolling(window=long_window).mean()\n",
    "G_signals_df['Signal'] = 0.0\n",
    "G_signals_df = G_signals_df.dropna()\n",
    "\n",
    "# Review the DataFrame\n",
    "display(G_signals_df.head())\n",
    "display(G_signals_df.tail())\n"
   ]
  },
  {
   "cell_type": "code",
   "execution_count": 52,
   "metadata": {
    "colab": {
     "base_uri": "https://localhost:8080/",
     "height": 394
    },
    "id": "v-gI1jwF0aC6",
    "outputId": "47c61260-2a94-42ea-d540-14b1ff563efd"
   },
   "outputs": [
    {
     "data": {
      "text/html": [
       "<div>\n",
       "<style scoped>\n",
       "    .dataframe tbody tr th:only-of-type {\n",
       "        vertical-align: middle;\n",
       "    }\n",
       "\n",
       "    .dataframe tbody tr th {\n",
       "        vertical-align: top;\n",
       "    }\n",
       "\n",
       "    .dataframe thead th {\n",
       "        text-align: right;\n",
       "    }\n",
       "</style>\n",
       "<table border=\"1\" class=\"dataframe\">\n",
       "  <thead>\n",
       "    <tr style=\"text-align: right;\">\n",
       "      <th></th>\n",
       "      <th>Close</th>\n",
       "      <th>Actual Returns</th>\n",
       "      <th>SMA_Fast</th>\n",
       "      <th>SMA_Slow</th>\n",
       "      <th>Signal</th>\n",
       "    </tr>\n",
       "    <tr>\n",
       "      <th>Date</th>\n",
       "      <th></th>\n",
       "      <th></th>\n",
       "      <th></th>\n",
       "      <th></th>\n",
       "      <th></th>\n",
       "    </tr>\n",
       "  </thead>\n",
       "  <tbody>\n",
       "    <tr>\n",
       "      <th>2022-03-03</th>\n",
       "      <td>2686.159912</td>\n",
       "      <td>-0.003291</td>\n",
       "      <td>2755.628418</td>\n",
       "      <td>2829.182512</td>\n",
       "      <td>0.0</td>\n",
       "    </tr>\n",
       "    <tr>\n",
       "      <th>2022-03-04</th>\n",
       "      <td>2642.439941</td>\n",
       "      <td>-0.016276</td>\n",
       "      <td>2750.789019</td>\n",
       "      <td>2827.837412</td>\n",
       "      <td>0.0</td>\n",
       "    </tr>\n",
       "    <tr>\n",
       "      <th>2022-03-07</th>\n",
       "      <td>2529.290039</td>\n",
       "      <td>-0.042820</td>\n",
       "      <td>2742.595220</td>\n",
       "      <td>2825.787712</td>\n",
       "      <td>0.0</td>\n",
       "    </tr>\n",
       "    <tr>\n",
       "      <th>2022-03-08</th>\n",
       "      <td>2545.570068</td>\n",
       "      <td>0.006437</td>\n",
       "      <td>2734.649619</td>\n",
       "      <td>2823.663413</td>\n",
       "      <td>0.0</td>\n",
       "    </tr>\n",
       "    <tr>\n",
       "      <th>2022-03-09</th>\n",
       "      <td>2677.320068</td>\n",
       "      <td>0.051757</td>\n",
       "      <td>2728.970420</td>\n",
       "      <td>2822.154214</td>\n",
       "      <td>0.0</td>\n",
       "    </tr>\n",
       "    <tr>\n",
       "      <th>2022-03-10</th>\n",
       "      <td>2653.639893</td>\n",
       "      <td>-0.008845</td>\n",
       "      <td>2723.464019</td>\n",
       "      <td>2820.355613</td>\n",
       "      <td>0.0</td>\n",
       "    </tr>\n",
       "    <tr>\n",
       "      <th>2022-03-11</th>\n",
       "      <td>2609.510010</td>\n",
       "      <td>-0.016630</td>\n",
       "      <td>2717.052417</td>\n",
       "      <td>2817.858613</td>\n",
       "      <td>0.0</td>\n",
       "    </tr>\n",
       "    <tr>\n",
       "      <th>2022-03-14</th>\n",
       "      <td>2534.820068</td>\n",
       "      <td>-0.028622</td>\n",
       "      <td>2709.347817</td>\n",
       "      <td>2814.442415</td>\n",
       "      <td>0.0</td>\n",
       "    </tr>\n",
       "    <tr>\n",
       "      <th>2022-03-15</th>\n",
       "      <td>2593.209961</td>\n",
       "      <td>0.023035</td>\n",
       "      <td>2703.340215</td>\n",
       "      <td>2811.891514</td>\n",
       "      <td>0.0</td>\n",
       "    </tr>\n",
       "    <tr>\n",
       "      <th>2022-03-15</th>\n",
       "      <td>2593.209961</td>\n",
       "      <td>0.000000</td>\n",
       "      <td>2697.174614</td>\n",
       "      <td>2809.267512</td>\n",
       "      <td>0.0</td>\n",
       "    </tr>\n",
       "  </tbody>\n",
       "</table>\n",
       "</div>"
      ],
      "text/plain": [
       "                  Close  Actual Returns     SMA_Fast     SMA_Slow  Signal\n",
       "Date                                                                     \n",
       "2022-03-03  2686.159912       -0.003291  2755.628418  2829.182512     0.0\n",
       "2022-03-04  2642.439941       -0.016276  2750.789019  2827.837412     0.0\n",
       "2022-03-07  2529.290039       -0.042820  2742.595220  2825.787712     0.0\n",
       "2022-03-08  2545.570068        0.006437  2734.649619  2823.663413     0.0\n",
       "2022-03-09  2677.320068        0.051757  2728.970420  2822.154214     0.0\n",
       "2022-03-10  2653.639893       -0.008845  2723.464019  2820.355613     0.0\n",
       "2022-03-11  2609.510010       -0.016630  2717.052417  2817.858613     0.0\n",
       "2022-03-14  2534.820068       -0.028622  2709.347817  2814.442415     0.0\n",
       "2022-03-15  2593.209961        0.023035  2703.340215  2811.891514     0.0\n",
       "2022-03-15  2593.209961        0.000000  2697.174614  2809.267512     0.0"
      ]
     },
     "execution_count": 52,
     "metadata": {},
     "output_type": "execute_result"
    }
   ],
   "source": [
    "# Initialize the new Signal column\n",
    "#G_signals_df['Signal'] = 0.0\n",
    "\n",
    "# Generate the trading signal 0 or 1,\n",
    "# where 1 is the short-window (SMA_Fast) greater than the long-window (SMA_Slow)\n",
    "# and 0 is when the condition is not met\n",
    "G_signals_df[\"Signal\"][short_window:] = np.where(\n",
    "    G_signals_df[\"SMA_Slow\"][short_window:] < G_signals_df[\"SMA_Fast\"][short_window:], 1.0, 0.0\n",
    ")\n",
    "\n",
    "# Review the DataFrame\n",
    "G_signals_df.tail(10)"
   ]
  },
  {
   "cell_type": "code",
   "execution_count": 53,
   "metadata": {
    "colab": {
     "base_uri": "https://localhost:8080/"
    },
    "id": "nAVr52Mi0aC7",
    "outputId": "a9fff4de-23f1-4b94-8493-bbc461f887f4"
   },
   "outputs": [
    {
     "data": {
      "text/plain": [
       "1.0    840\n",
       "0.0    320\n",
       "Name: Signal, dtype: int64"
      ]
     },
     "execution_count": 53,
     "metadata": {},
     "output_type": "execute_result"
    }
   ],
   "source": [
    "G_signals_df['Signal'].value_counts()"
   ]
  },
  {
   "cell_type": "code",
   "execution_count": 54,
   "metadata": {
    "colab": {
     "base_uri": "https://localhost:8080/",
     "height": 458
    },
    "id": "6_lOKNMK0aC8",
    "outputId": "7c325bf7-eb45-407f-b060-5502e61e5e72"
   },
   "outputs": [
    {
     "data": {
      "text/html": [
       "<div>\n",
       "<style scoped>\n",
       "    .dataframe tbody tr th:only-of-type {\n",
       "        vertical-align: middle;\n",
       "    }\n",
       "\n",
       "    .dataframe tbody tr th {\n",
       "        vertical-align: top;\n",
       "    }\n",
       "\n",
       "    .dataframe thead th {\n",
       "        text-align: right;\n",
       "    }\n",
       "</style>\n",
       "<table border=\"1\" class=\"dataframe\">\n",
       "  <thead>\n",
       "    <tr style=\"text-align: right;\">\n",
       "      <th></th>\n",
       "      <th>Close</th>\n",
       "      <th>Actual Returns</th>\n",
       "      <th>SMA_Fast</th>\n",
       "      <th>SMA_Slow</th>\n",
       "      <th>Signal</th>\n",
       "      <th>Strategy Returns</th>\n",
       "    </tr>\n",
       "    <tr>\n",
       "      <th>Date</th>\n",
       "      <th></th>\n",
       "      <th></th>\n",
       "      <th></th>\n",
       "      <th></th>\n",
       "      <th></th>\n",
       "      <th></th>\n",
       "    </tr>\n",
       "  </thead>\n",
       "  <tbody>\n",
       "    <tr>\n",
       "      <th>2017-08-08</th>\n",
       "      <td>926.789978</td>\n",
       "      <td>-0.002765</td>\n",
       "      <td>946.997806</td>\n",
       "      <td>912.359602</td>\n",
       "      <td>0.0</td>\n",
       "      <td>NaN</td>\n",
       "    </tr>\n",
       "    <tr>\n",
       "      <th>2017-08-09</th>\n",
       "      <td>922.900024</td>\n",
       "      <td>-0.004197</td>\n",
       "      <td>945.938207</td>\n",
       "      <td>913.067402</td>\n",
       "      <td>0.0</td>\n",
       "      <td>-0.0</td>\n",
       "    </tr>\n",
       "    <tr>\n",
       "      <th>2017-08-10</th>\n",
       "      <td>907.239990</td>\n",
       "      <td>-0.016968</td>\n",
       "      <td>944.785807</td>\n",
       "      <td>913.655802</td>\n",
       "      <td>0.0</td>\n",
       "      <td>-0.0</td>\n",
       "    </tr>\n",
       "    <tr>\n",
       "      <th>2017-08-11</th>\n",
       "      <td>914.390015</td>\n",
       "      <td>0.007881</td>\n",
       "      <td>943.734607</td>\n",
       "      <td>914.495102</td>\n",
       "      <td>0.0</td>\n",
       "      <td>0.0</td>\n",
       "    </tr>\n",
       "    <tr>\n",
       "      <th>2017-08-14</th>\n",
       "      <td>922.669983</td>\n",
       "      <td>0.009055</td>\n",
       "      <td>942.676007</td>\n",
       "      <td>915.425901</td>\n",
       "      <td>0.0</td>\n",
       "      <td>0.0</td>\n",
       "    </tr>\n",
       "  </tbody>\n",
       "</table>\n",
       "</div>"
      ],
      "text/plain": [
       "                 Close  Actual Returns    SMA_Fast    SMA_Slow  Signal  \\\n",
       "Date                                                                     \n",
       "2017-08-08  926.789978       -0.002765  946.997806  912.359602     0.0   \n",
       "2017-08-09  922.900024       -0.004197  945.938207  913.067402     0.0   \n",
       "2017-08-10  907.239990       -0.016968  944.785807  913.655802     0.0   \n",
       "2017-08-11  914.390015        0.007881  943.734607  914.495102     0.0   \n",
       "2017-08-14  922.669983        0.009055  942.676007  915.425901     0.0   \n",
       "\n",
       "            Strategy Returns  \n",
       "Date                          \n",
       "2017-08-08               NaN  \n",
       "2017-08-09              -0.0  \n",
       "2017-08-10              -0.0  \n",
       "2017-08-11               0.0  \n",
       "2017-08-14               0.0  "
      ]
     },
     "metadata": {},
     "output_type": "display_data"
    },
    {
     "data": {
      "text/html": [
       "<div>\n",
       "<style scoped>\n",
       "    .dataframe tbody tr th:only-of-type {\n",
       "        vertical-align: middle;\n",
       "    }\n",
       "\n",
       "    .dataframe tbody tr th {\n",
       "        vertical-align: top;\n",
       "    }\n",
       "\n",
       "    .dataframe thead th {\n",
       "        text-align: right;\n",
       "    }\n",
       "</style>\n",
       "<table border=\"1\" class=\"dataframe\">\n",
       "  <thead>\n",
       "    <tr style=\"text-align: right;\">\n",
       "      <th></th>\n",
       "      <th>Close</th>\n",
       "      <th>Actual Returns</th>\n",
       "      <th>SMA_Fast</th>\n",
       "      <th>SMA_Slow</th>\n",
       "      <th>Signal</th>\n",
       "      <th>Strategy Returns</th>\n",
       "    </tr>\n",
       "    <tr>\n",
       "      <th>Date</th>\n",
       "      <th></th>\n",
       "      <th></th>\n",
       "      <th></th>\n",
       "      <th></th>\n",
       "      <th></th>\n",
       "      <th></th>\n",
       "    </tr>\n",
       "  </thead>\n",
       "  <tbody>\n",
       "    <tr>\n",
       "      <th>2022-03-10</th>\n",
       "      <td>2653.639893</td>\n",
       "      <td>-0.008845</td>\n",
       "      <td>2723.464019</td>\n",
       "      <td>2820.355613</td>\n",
       "      <td>0.0</td>\n",
       "      <td>-0.0</td>\n",
       "    </tr>\n",
       "    <tr>\n",
       "      <th>2022-03-11</th>\n",
       "      <td>2609.510010</td>\n",
       "      <td>-0.016630</td>\n",
       "      <td>2717.052417</td>\n",
       "      <td>2817.858613</td>\n",
       "      <td>0.0</td>\n",
       "      <td>-0.0</td>\n",
       "    </tr>\n",
       "    <tr>\n",
       "      <th>2022-03-14</th>\n",
       "      <td>2534.820068</td>\n",
       "      <td>-0.028622</td>\n",
       "      <td>2709.347817</td>\n",
       "      <td>2814.442415</td>\n",
       "      <td>0.0</td>\n",
       "      <td>-0.0</td>\n",
       "    </tr>\n",
       "    <tr>\n",
       "      <th>2022-03-15</th>\n",
       "      <td>2593.209961</td>\n",
       "      <td>0.023035</td>\n",
       "      <td>2703.340215</td>\n",
       "      <td>2811.891514</td>\n",
       "      <td>0.0</td>\n",
       "      <td>0.0</td>\n",
       "    </tr>\n",
       "    <tr>\n",
       "      <th>2022-03-15</th>\n",
       "      <td>2593.209961</td>\n",
       "      <td>0.000000</td>\n",
       "      <td>2697.174614</td>\n",
       "      <td>2809.267512</td>\n",
       "      <td>0.0</td>\n",
       "      <td>0.0</td>\n",
       "    </tr>\n",
       "  </tbody>\n",
       "</table>\n",
       "</div>"
      ],
      "text/plain": [
       "                  Close  Actual Returns     SMA_Fast     SMA_Slow  Signal  \\\n",
       "Date                                                                        \n",
       "2022-03-10  2653.639893       -0.008845  2723.464019  2820.355613     0.0   \n",
       "2022-03-11  2609.510010       -0.016630  2717.052417  2817.858613     0.0   \n",
       "2022-03-14  2534.820068       -0.028622  2709.347817  2814.442415     0.0   \n",
       "2022-03-15  2593.209961        0.023035  2703.340215  2811.891514     0.0   \n",
       "2022-03-15  2593.209961        0.000000  2697.174614  2809.267512     0.0   \n",
       "\n",
       "            Strategy Returns  \n",
       "Date                          \n",
       "2022-03-10              -0.0  \n",
       "2022-03-11              -0.0  \n",
       "2022-03-14              -0.0  \n",
       "2022-03-15               0.0  \n",
       "2022-03-15               0.0  "
      ]
     },
     "metadata": {},
     "output_type": "display_data"
    }
   ],
   "source": [
    "# Calculate the strategy returns and add them to the signals_df DataFrame\n",
    "G_signals_df['Strategy Returns'] = G_signals_df['Actual Returns'] * G_signals_df['Signal'].shift()\n",
    "\n",
    "# Review the DataFrame\n",
    "display(G_signals_df.head())\n",
    "display(G_signals_df.tail())"
   ]
  },
  {
   "cell_type": "code",
   "execution_count": 55,
   "metadata": {
    "colab": {
     "base_uri": "https://localhost:8080/",
     "height": 286
    },
    "id": "nxgICTnG0aC8",
    "outputId": "e1d0df3c-cd7f-4d7c-e3bb-4c73f2cbb3e8"
   },
   "outputs": [
    {
     "data": {},
     "metadata": {},
     "output_type": "display_data"
    },
    {
     "data": {
      "application/vnd.holoviews_exec.v0+json": "",
      "text/html": [
       "<div id='3846'>\n",
       "\n",
       "\n",
       "\n",
       "\n",
       "\n",
       "  <div class=\"bk-root\" id=\"315bdc16-5a4e-43cd-b4be-1bad1c497bf0\" data-root-id=\"3846\"></div>\n",
       "</div>\n",
       "<script type=\"application/javascript\">(function(root) {\n",
       "  function embed_document(root) {\n",
       "    var docs_json = {\"7c3349df-99ae-469b-a9fe-263c7340315d\":{\"defs\":[{\"extends\":null,\"module\":null,\"name\":\"ReactiveHTML1\",\"overrides\":[],\"properties\":[]},{\"extends\":null,\"module\":null,\"name\":\"FlexBox1\",\"overrides\":[],\"properties\":[{\"default\":\"flex-start\",\"kind\":null,\"name\":\"align_content\"},{\"default\":\"flex-start\",\"kind\":null,\"name\":\"align_items\"},{\"default\":\"row\",\"kind\":null,\"name\":\"flex_direction\"},{\"default\":\"wrap\",\"kind\":null,\"name\":\"flex_wrap\"},{\"default\":\"flex-start\",\"kind\":null,\"name\":\"justify_content\"}]},{\"extends\":null,\"module\":null,\"name\":\"TemplateActions1\",\"overrides\":[],\"properties\":[{\"default\":0,\"kind\":null,\"name\":\"open_modal\"},{\"default\":0,\"kind\":null,\"name\":\"close_modal\"}]},{\"extends\":null,\"module\":null,\"name\":\"MaterialTemplateActions1\",\"overrides\":[],\"properties\":[{\"default\":0,\"kind\":null,\"name\":\"open_modal\"},{\"default\":0,\"kind\":null,\"name\":\"close_modal\"}]}],\"roots\":{\"references\":[{\"attributes\":{\"months\":[0,4,8]},\"id\":\"3915\",\"type\":\"MonthsTicker\"},{\"attributes\":{},\"id\":\"3859\",\"type\":\"LinearScale\"},{\"attributes\":{},\"id\":\"3857\",\"type\":\"LinearScale\"},{\"attributes\":{},\"id\":\"3886\",\"type\":\"BasicTickFormatter\"},{\"attributes\":{\"months\":[0,6]},\"id\":\"3916\",\"type\":\"MonthsTicker\"},{\"attributes\":{\"axis_label\":\"Date\",\"coordinates\":null,\"formatter\":{\"id\":\"3883\"},\"group\":null,\"major_label_policy\":{\"id\":\"3884\"},\"ticker\":{\"id\":\"3862\"}},\"id\":\"3861\",\"type\":\"DatetimeAxis\"},{\"attributes\":{},\"id\":\"3873\",\"type\":\"ResetTool\"},{\"attributes\":{},\"id\":\"3917\",\"type\":\"YearsTicker\"},{\"attributes\":{\"label\":{\"value\":\"Strategy Returns\"},\"renderers\":[{\"id\":\"3894\"}]},\"id\":\"3919\",\"type\":\"LegendItem\"},{\"attributes\":{\"num_minor_ticks\":5,\"tickers\":[{\"id\":\"3906\"},{\"id\":\"3907\"},{\"id\":\"3908\"},{\"id\":\"3909\"},{\"id\":\"3910\"},{\"id\":\"3911\"},{\"id\":\"3912\"},{\"id\":\"3913\"},{\"id\":\"3914\"},{\"id\":\"3915\"},{\"id\":\"3916\"},{\"id\":\"3917\"}]},\"id\":\"3862\",\"type\":\"DatetimeTicker\"},{\"attributes\":{\"bottom_units\":\"screen\",\"coordinates\":null,\"fill_alpha\":0.5,\"fill_color\":\"lightgrey\",\"group\":null,\"left_units\":\"screen\",\"level\":\"overlay\",\"line_alpha\":1.0,\"line_color\":\"black\",\"line_dash\":[4,4],\"line_width\":2,\"right_units\":\"screen\",\"syncable\":false,\"top_units\":\"screen\"},\"id\":\"3874\",\"type\":\"BoxAnnotation\"},{\"attributes\":{\"source\":{\"id\":\"3888\"}},\"id\":\"3895\",\"type\":\"CDSView\"},{\"attributes\":{\"coordinates\":null,\"group\":null,\"text_color\":\"black\",\"text_font_size\":\"12pt\"},\"id\":\"3853\",\"type\":\"Title\"},{\"attributes\":{\"line_color\":\"#30a2da\",\"line_width\":2,\"x\":{\"field\":\"Date\"},\"y\":{\"field\":\"value\"}},\"id\":\"3920\",\"type\":\"Line\"},{\"attributes\":{\"days\":[1,15]},\"id\":\"3912\",\"type\":\"DaysTicker\"},{\"attributes\":{\"coordinates\":null,\"data_source\":{\"id\":\"3888\"},\"glyph\":{\"id\":\"3891\"},\"group\":null,\"hover_glyph\":null,\"muted_glyph\":{\"id\":\"3893\"},\"nonselection_glyph\":{\"id\":\"3892\"},\"selection_glyph\":{\"id\":\"3920\"},\"view\":{\"id\":\"3895\"}},\"id\":\"3894\",\"type\":\"GlyphRenderer\"},{\"attributes\":{\"axis\":{\"id\":\"3861\"},\"coordinates\":null,\"grid_line_color\":null,\"group\":null,\"ticker\":null},\"id\":\"3864\",\"type\":\"Grid\"},{\"attributes\":{\"months\":[0,1,2,3,4,5,6,7,8,9,10,11]},\"id\":\"3913\",\"type\":\"MonthsTicker\"},{\"attributes\":{\"margin\":[5,5,5,5],\"name\":\"HSpacer05350\",\"sizing_mode\":\"stretch_width\"},\"id\":\"4171\",\"type\":\"Spacer\"},{\"attributes\":{\"base\":24,\"mantissas\":[1,2,4,6,8,12],\"max_interval\":43200000.0,\"min_interval\":3600000.0,\"num_minor_ticks\":0},\"id\":\"3908\",\"type\":\"AdaptiveTicker\"},{\"attributes\":{\"axis\":{\"id\":\"3865\"},\"coordinates\":null,\"dimension\":1,\"grid_line_color\":null,\"group\":null,\"ticker\":null},\"id\":\"3868\",\"type\":\"Grid\"},{\"attributes\":{\"end\":3.477897335298376,\"reset_end\":3.477897335298376,\"reset_start\":0.6625574857207479,\"start\":0.6625574857207479,\"tags\":[[[\"value\",\"value\",null]]]},\"id\":\"3849\",\"type\":\"Range1d\"},{\"attributes\":{\"days\":[1,2,3,4,5,6,7,8,9,10,11,12,13,14,15,16,17,18,19,20,21,22,23,24,25,26,27,28,29,30,31]},\"id\":\"3909\",\"type\":\"DaysTicker\"},{\"attributes\":{\"axis_label\":\"\",\"coordinates\":null,\"formatter\":{\"id\":\"3886\"},\"group\":null,\"major_label_policy\":{\"id\":\"3887\"},\"ticker\":{\"id\":\"3866\"}},\"id\":\"3865\",\"type\":\"LinearAxis\"},{\"attributes\":{\"data\":{\"Date\":{\"__ndarray__\":\"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\",\"dtype\":\"float64\",\"order\":\"little\",\"shape\":[1160]},\"Variable\":[\"Strategy Returns\",\"Strategy Returns\",\"Strategy Returns\",\"Strategy Returns\",\"Strategy Returns\",\"Strategy Returns\",\"Strategy Returns\",\"Strategy Returns\",\"Strategy Returns\",\"Strategy Returns\",\"Strategy Returns\",\"Strategy Returns\",\"Strategy Returns\",\"Strategy Returns\",\"Strategy Returns\",\"Strategy Returns\",\"Strategy Returns\",\"Strategy Returns\",\"Strategy Returns\",\"Strategy Returns\",\"Strategy Returns\",\"Strategy Returns\",\"Strategy Returns\",\"Strategy Returns\",\"Strategy Returns\",\"Strategy Returns\",\"Strategy Returns\",\"Strategy Returns\",\"Strategy Returns\",\"Strategy Returns\",\"Strategy Returns\",\"Strategy Returns\",\"Strategy Returns\",\"Strategy Returns\",\"Strategy Returns\",\"Strategy Returns\",\"Strategy Returns\",\"Strategy Returns\",\"Strategy Returns\",\"Strategy Returns\",\"Strategy Returns\",\"Strategy Returns\",\"Strategy Returns\",\"Strategy Returns\",\"Strategy Returns\",\"Strategy Returns\",\"Strategy Returns\",\"Strategy Returns\",\"Strategy Returns\",\"Strategy Returns\",\"Strategy Returns\",\"Strategy Returns\",\"Strategy Returns\",\"Strategy Returns\",\"Strategy Returns\",\"Strategy Returns\",\"Strategy Returns\",\"Strategy Returns\",\"Strategy Returns\",\"Strategy Returns\",\"Strategy Returns\",\"Strategy Returns\",\"Strategy Returns\",\"Strategy Returns\",\"Strategy Returns\",\"Strategy Returns\",\"Strategy Returns\",\"Strategy Returns\",\"Strategy Returns\",\"Strategy Returns\",\"Strategy Returns\",\"Strategy Returns\",\"Strategy Returns\",\"Strategy Returns\",\"Strategy Returns\",\"Strategy Returns\",\"Strategy Returns\",\"Strategy Returns\",\"Strategy Returns\",\"Strategy Returns\",\"Strategy Returns\",\"Strategy Returns\",\"Strategy Returns\",\"Strategy Returns\",\"Strategy Returns\",\"Strategy Returns\",\"Strategy Returns\",\"Strategy Returns\",\"Strategy Returns\",\"Strategy Returns\",\"Strategy Returns\",\"Strategy Returns\",\"Strategy Returns\",\"Strategy Returns\",\"Strategy Returns\",\"Strategy Returns\",\"Strategy Returns\",\"Strategy Returns\",\"Strategy Returns\",\"Strategy Returns\",\"Strategy Returns\",\"Strategy Returns\",\"Strategy Returns\",\"Strategy Returns\",\"Strategy Returns\",\"Strategy Returns\",\"Strategy Returns\",\"Strategy Returns\",\"Strategy Returns\",\"Strategy Returns\",\"Strategy Returns\",\"Strategy Returns\",\"Strategy Returns\",\"Strategy Returns\",\"Strategy Returns\",\"Strategy Returns\",\"Strategy Returns\",\"Strategy Returns\",\"Strategy Returns\",\"Strategy Returns\",\"Strategy Returns\",\"Strategy Returns\",\"Strategy Returns\",\"Strategy Returns\",\"Strategy Returns\",\"Strategy Returns\",\"Strategy Returns\",\"Strategy Returns\",\"Strategy Returns\",\"Strategy Returns\",\"Strategy Returns\",\"Strategy Returns\",\"Strategy Returns\",\"Strategy Returns\",\"Strategy Returns\",\"Strategy Returns\",\"Strategy Returns\",\"Strategy Returns\",\"Strategy Returns\",\"Strategy Returns\",\"Strategy Returns\",\"Strategy Returns\",\"Strategy Returns\",\"Strategy Returns\",\"Strategy Returns\",\"Strategy Returns\",\"Strategy Returns\",\"Strategy Returns\",\"Strategy Returns\",\"Strategy Returns\",\"Strategy Returns\",\"Strategy Returns\",\"Strategy Returns\",\"Strategy Returns\",\"Strategy Returns\",\"Strategy Returns\",\"Strategy Returns\",\"Strategy Returns\",\"Strategy Returns\",\"Strategy Returns\",\"Strategy Returns\",\"Strategy Returns\",\"Strategy Returns\",\"Strategy Returns\",\"Strategy Returns\",\"Strategy Returns\",\"Strategy Returns\",\"Strategy Returns\",\"Strategy Returns\",\"Strategy Returns\",\"Strategy Returns\",\"Strategy Returns\",\"Strategy Returns\",\"Strategy Returns\",\"Strategy Returns\",\"Strategy Returns\",\"Strategy Returns\",\"Strategy Returns\",\"Strategy Returns\",\"Strategy Returns\",\"Strategy Returns\",\"Strategy Returns\",\"Strategy Returns\",\"Strategy Returns\",\"Strategy Returns\",\"Strategy Returns\",\"Strategy Returns\",\"Strategy Returns\",\"Strategy Returns\",\"Strategy Returns\",\"Strategy Returns\",\"Strategy Returns\",\"Strategy Returns\",\"Strategy Returns\",\"Strategy Returns\",\"Strategy Returns\",\"Strategy Returns\",\"Strategy Returns\",\"Strategy Returns\",\"Strategy Returns\",\"Strategy Returns\",\"Strategy Returns\",\"Strategy Returns\",\"Strategy Returns\",\"Strategy Returns\",\"Strategy Returns\",\"Strategy Returns\",\"Strategy Returns\",\"Strategy Returns\",\"Strategy Returns\",\"Strategy Returns\",\"Strategy Returns\",\"Strategy Returns\",\"Strategy Returns\",\"Strategy Returns\",\"Strategy Returns\",\"Strategy Returns\",\"Strategy Returns\",\"Strategy Returns\",\"Strategy Returns\",\"Strategy Returns\",\"Strategy Returns\",\"Strategy Returns\",\"Strategy Returns\",\"Strategy Returns\",\"Strategy Returns\",\"Strategy Returns\",\"Strategy Returns\",\"Strategy Returns\",\"Strategy Returns\",\"Strategy Returns\",\"Strategy Returns\",\"Strategy Returns\",\"Strategy Returns\",\"Strategy Returns\",\"Strategy Returns\",\"Strategy Returns\",\"Strategy Returns\",\"Strategy Returns\",\"Strategy Returns\",\"Strategy Returns\",\"Strategy Returns\",\"Strategy Returns\",\"Strategy Returns\",\"Strategy Returns\",\"Strategy Returns\",\"Strategy Returns\",\"Strategy Returns\",\"Strategy Returns\",\"Strategy Returns\",\"Strategy Returns\",\"Strategy Returns\",\"Strategy Returns\",\"Strategy Returns\",\"Strategy Returns\",\"Strategy Returns\",\"Strategy Returns\",\"Strategy Returns\",\"Strategy Returns\",\"Strategy Returns\",\"Strategy Returns\",\"Strategy Returns\",\"Strategy Returns\",\"Strategy Returns\",\"Strategy Returns\",\"Strategy Returns\",\"Strategy Returns\",\"Strategy Returns\",\"Strategy Returns\",\"Strategy Returns\",\"Strategy Returns\",\"Strategy Returns\",\"Strategy Returns\",\"Strategy Returns\",\"Strategy Returns\",\"Strategy Returns\",\"Strategy Returns\",\"Strategy Returns\",\"Strategy Returns\",\"Strategy Returns\",\"Strategy Returns\",\"Strategy Returns\",\"Strategy Returns\",\"Strategy Returns\",\"Strategy Returns\",\"Strategy Returns\",\"Strategy Returns\",\"Strategy Returns\",\"Strategy Returns\",\"Strategy Returns\",\"Strategy Returns\",\"Strategy Returns\",\"Strategy Returns\",\"Strategy Returns\",\"Strategy Returns\",\"Strategy Returns\",\"Strategy Returns\",\"Strategy Returns\",\"Strategy Returns\",\"Strategy Returns\",\"Strategy Returns\",\"Strategy Returns\",\"Strategy Returns\",\"Strategy Returns\",\"Strategy Returns\",\"Strategy Returns\",\"Strategy Returns\",\"Strategy Returns\",\"Strategy Returns\",\"Strategy Returns\",\"Strategy Returns\",\"Strategy Returns\",\"Strategy Returns\",\"Strategy Returns\",\"Strategy Returns\",\"Strategy Returns\",\"Strategy Returns\",\"Strategy Returns\",\"Strategy Returns\",\"Strategy Returns\",\"Strategy Returns\",\"Strategy Returns\",\"Strategy Returns\",\"Strategy Returns\",\"Strategy Returns\",\"Strategy Returns\",\"Strategy Returns\",\"Strategy Returns\",\"Strategy Returns\",\"Strategy Returns\",\"Strategy Returns\",\"Strategy Returns\",\"Strategy Returns\",\"Strategy Returns\",\"Strategy Returns\",\"Strategy Returns\",\"Strategy Returns\",\"Strategy Returns\",\"Strategy Returns\",\"Strategy Returns\",\"Strategy Returns\",\"Strategy Returns\",\"Strategy Returns\",\"Strategy Returns\",\"Strategy Returns\",\"Strategy Returns\",\"Strategy Returns\",\"Strategy Returns\",\"Strategy Returns\",\"Strategy Returns\",\"Strategy Returns\",\"Strategy Returns\",\"Strategy Returns\",\"Strategy Returns\",\"Strategy Returns\",\"Strategy Returns\",\"Strategy Returns\",\"Strategy Returns\",\"Strategy Returns\",\"Strategy Returns\",\"Strategy Returns\",\"Strategy Returns\",\"Strategy Returns\",\"Strategy Returns\",\"Strategy Returns\",\"Strategy Returns\",\"Strategy Returns\",\"Strategy Returns\",\"Strategy Returns\",\"Strategy Returns\",\"Strategy Returns\",\"Strategy Returns\",\"Strategy Returns\",\"Strategy Returns\",\"Strategy Returns\",\"Strategy Returns\",\"Strategy Returns\",\"Strategy Returns\",\"Strategy Returns\",\"Strategy Returns\",\"Strategy Returns\",\"Strategy Returns\",\"Strategy Returns\",\"Strategy Returns\",\"Strategy Returns\",\"Strategy Returns\",\"Strategy Returns\",\"Strategy Returns\",\"Strategy Returns\",\"Strategy Returns\",\"Strategy Returns\",\"Strategy Returns\",\"Strategy Returns\",\"Strategy Returns\",\"Strategy Returns\",\"Strategy Returns\",\"Strategy Returns\",\"Strategy Returns\",\"Strategy Returns\",\"Strategy Returns\",\"Strategy Returns\",\"Strategy Returns\",\"Strategy Returns\",\"Strategy Returns\",\"Strategy Returns\",\"Strategy Returns\",\"Strategy Returns\",\"Strategy Returns\",\"Strategy Returns\",\"Strategy Returns\",\"Strategy Returns\",\"Strategy Returns\",\"Strategy Returns\",\"Strategy Returns\",\"Strategy Returns\",\"Strategy Returns\",\"Strategy Returns\",\"Strategy Returns\",\"Strategy Returns\",\"Strategy Returns\",\"Strategy Returns\",\"Strategy Returns\",\"Strategy Returns\",\"Strategy Returns\",\"Strategy Returns\",\"Strategy Returns\",\"Strategy Returns\",\"Strategy Returns\",\"Strategy Returns\",\"Strategy Returns\",\"Strategy Returns\",\"Strategy Returns\",\"Strategy Returns\",\"Strategy Returns\",\"Strategy Returns\",\"Strategy Returns\",\"Strategy Returns\",\"Strategy Returns\",\"Strategy Returns\",\"Strategy Returns\",\"Strategy Returns\",\"Strategy Returns\",\"Strategy Returns\",\"Strategy Returns\",\"Strategy Returns\",\"Strategy Returns\",\"Strategy Returns\",\"Strategy Returns\",\"Strategy Returns\",\"Strategy Returns\",\"Strategy Returns\",\"Strategy Returns\",\"Strategy Returns\",\"Strategy Returns\",\"Strategy Returns\",\"Strategy Returns\",\"Strategy Returns\",\"Strategy Returns\",\"Strategy Returns\",\"Strategy Returns\",\"Strategy Returns\",\"Strategy Returns\",\"Strategy Returns\",\"Strategy Returns\",\"Strategy Returns\",\"Strategy Returns\",\"Strategy Returns\",\"Strategy Returns\",\"Strategy Returns\",\"Strategy Returns\",\"Strategy Returns\",\"Strategy Returns\",\"Strategy Returns\",\"Strategy Returns\",\"Strategy Returns\",\"Strategy Returns\",\"Strategy Returns\",\"Strategy Returns\",\"Strategy Returns\",\"Strategy Returns\",\"Strategy Returns\",\"Strategy Returns\",\"Strategy Returns\",\"Strategy Returns\",\"Strategy Returns\",\"Strategy Returns\",\"Strategy Returns\",\"Strategy Returns\",\"Strategy Returns\",\"Strategy Returns\",\"Strategy Returns\",\"Strategy Returns\",\"Strategy Returns\",\"Strategy Returns\",\"Strategy Returns\",\"Strategy Returns\",\"Strategy Returns\",\"Strategy Returns\",\"Strategy Returns\",\"Strategy Returns\",\"Strategy Returns\",\"Strategy Returns\",\"Strategy Returns\",\"Strategy Returns\",\"Strategy Returns\",\"Strategy Returns\",\"Strategy Returns\",\"Strategy Returns\",\"Strategy Returns\",\"Strategy Returns\",\"Strategy Returns\",\"Strategy Returns\",\"Strategy Returns\",\"Strategy Returns\",\"Strategy Returns\",\"Strategy Returns\",\"Strategy Returns\",\"Strategy Returns\",\"Strategy Returns\",\"Strategy Returns\",\"Strategy Returns\",\"Strategy Returns\",\"Strategy Returns\",\"Strategy Returns\",\"Strategy Returns\",\"Strategy Returns\",\"Strategy Returns\",\"Strategy Returns\",\"Strategy Returns\",\"Strategy Returns\",\"Strategy Returns\",\"Strategy Returns\",\"Strategy Returns\",\"Strategy Returns\",\"Strategy Returns\",\"Strategy Returns\",\"Strategy Returns\",\"Strategy Returns\",\"Strategy Returns\",\"Strategy Returns\",\"Strategy Returns\",\"Strategy Returns\",\"Strategy Returns\",\"Strategy Returns\",\"Strategy Returns\",\"Strategy Returns\",\"Strategy Returns\",\"Strategy Returns\",\"Strategy Returns\",\"Strategy Returns\",\"Strategy Returns\",\"Strategy Returns\",\"Strategy Returns\",\"Strategy Returns\",\"Strategy Returns\",\"Strategy Returns\",\"Strategy Returns\",\"Strategy Returns\",\"Strategy Returns\",\"Strategy Returns\",\"Strategy Returns\",\"Strategy Returns\",\"Strategy Returns\",\"Strategy Returns\",\"Strategy Returns\",\"Strategy Returns\",\"Strategy Returns\",\"Strategy Returns\",\"Strategy Returns\",\"Strategy Returns\",\"Strategy Returns\",\"Strategy Returns\",\"Strategy Returns\",\"Strategy Returns\",\"Strategy Returns\",\"Strategy Returns\",\"Strategy Returns\",\"Strategy Returns\",\"Strategy Returns\",\"Strategy Returns\",\"Strategy Returns\",\"Strategy Returns\",\"Strategy Returns\",\"Strategy Returns\",\"Strategy Returns\",\"Strategy Returns\",\"Strategy Returns\",\"Strategy Returns\",\"Strategy Returns\",\"Strategy Returns\",\"Strategy Returns\",\"Strategy Returns\",\"Strategy Returns\",\"Strategy Returns\",\"Strategy Returns\",\"Strategy Returns\",\"Strategy Returns\",\"Strategy Returns\",\"Strategy Returns\",\"Strategy Returns\",\"Strategy Returns\",\"Strategy Returns\",\"Strategy Returns\",\"Strategy Returns\",\"Strategy Returns\",\"Strategy Returns\",\"Strategy Returns\",\"Strategy Returns\",\"Strategy Returns\",\"Strategy Returns\",\"Strategy Returns\",\"Strategy Returns\",\"Strategy Returns\",\"Strategy Returns\",\"Strategy Returns\",\"Strategy Returns\",\"Strategy Returns\",\"Strategy Returns\",\"Strategy Returns\",\"Strategy Returns\",\"Strategy Returns\",\"Strategy Returns\",\"Strategy Returns\",\"Strategy Returns\",\"Strategy Returns\",\"Strategy Returns\",\"Strategy Returns\",\"Strategy Returns\",\"Strategy Returns\",\"Strategy Returns\",\"Strategy Returns\",\"Strategy Returns\",\"Strategy Returns\",\"Strategy Returns\",\"Strategy Returns\",\"Strategy Returns\",\"Strategy Returns\",\"Strategy Returns\",\"Strategy Returns\",\"Strategy Returns\",\"Strategy Returns\",\"Strategy Returns\",\"Strategy Returns\",\"Strategy Returns\",\"Strategy Returns\",\"Strategy Returns\",\"Strategy Returns\",\"Strategy Returns\",\"Strategy Returns\",\"Strategy Returns\",\"Strategy Returns\",\"Strategy Returns\",\"Strategy Returns\",\"Strategy Returns\",\"Strategy Returns\",\"Strategy Returns\",\"Strategy Returns\",\"Strategy Returns\",\"Strategy Returns\",\"Strategy Returns\",\"Strategy Returns\",\"Strategy Returns\",\"Strategy Returns\",\"Strategy Returns\",\"Strategy Returns\",\"Strategy Returns\",\"Strategy Returns\",\"Strategy Returns\",\"Strategy Returns\",\"Strategy Returns\",\"Strategy Returns\",\"Strategy Returns\",\"Strategy Returns\",\"Strategy Returns\",\"Strategy Returns\",\"Strategy Returns\",\"Strategy Returns\",\"Strategy Returns\",\"Strategy Returns\",\"Strategy Returns\",\"Strategy Returns\",\"Strategy Returns\",\"Strategy Returns\",\"Strategy Returns\",\"Strategy Returns\",\"Strategy Returns\",\"Strategy Returns\",\"Strategy Returns\",\"Strategy Returns\",\"Strategy Returns\",\"Strategy Returns\",\"Strategy Returns\",\"Strategy Returns\",\"Strategy Returns\",\"Strategy Returns\",\"Strategy Returns\",\"Strategy Returns\",\"Strategy Returns\",\"Strategy Returns\",\"Strategy Returns\",\"Strategy Returns\",\"Strategy Returns\",\"Strategy Returns\",\"Strategy Returns\",\"Strategy Returns\",\"Strategy Returns\",\"Strategy Returns\",\"Strategy Returns\",\"Strategy Returns\",\"Strategy Returns\",\"Strategy Returns\",\"Strategy Returns\",\"Strategy Returns\",\"Strategy Returns\",\"Strategy Returns\",\"Strategy Returns\",\"Strategy Returns\",\"Strategy Returns\",\"Strategy Returns\",\"Strategy Returns\",\"Strategy Returns\",\"Strategy Returns\",\"Strategy Returns\",\"Strategy Returns\",\"Strategy Returns\",\"Strategy Returns\",\"Strategy Returns\",\"Strategy Returns\",\"Strategy Returns\",\"Strategy Returns\",\"Strategy Returns\",\"Strategy Returns\",\"Strategy Returns\",\"Strategy Returns\",\"Strategy Returns\",\"Strategy Returns\",\"Strategy Returns\",\"Strategy Returns\",\"Strategy Returns\",\"Strategy Returns\",\"Strategy Returns\",\"Strategy Returns\",\"Strategy Returns\",\"Strategy Returns\",\"Strategy Returns\",\"Strategy Returns\",\"Strategy Returns\",\"Strategy Returns\",\"Strategy Returns\",\"Strategy Returns\",\"Strategy Returns\",\"Strategy Returns\",\"Strategy Returns\",\"Strategy Returns\",\"Strategy Returns\",\"Strategy Returns\",\"Strategy Returns\",\"Strategy Returns\",\"Strategy Returns\",\"Strategy Returns\",\"Strategy Returns\",\"Strategy Returns\",\"Strategy Returns\",\"Strategy Returns\",\"Strategy Returns\",\"Strategy Returns\",\"Strategy Returns\",\"Strategy Returns\",\"Strategy Returns\",\"Strategy Returns\",\"Strategy Returns\",\"Strategy Returns\",\"Strategy Returns\",\"Strategy Returns\",\"Strategy Returns\",\"Strategy Returns\",\"Strategy Returns\",\"Strategy Returns\",\"Strategy Returns\",\"Strategy Returns\",\"Strategy Returns\",\"Strategy Returns\",\"Strategy Returns\",\"Strategy Returns\",\"Strategy Returns\",\"Strategy Returns\",\"Strategy Returns\",\"Strategy Returns\",\"Strategy Returns\",\"Strategy Returns\",\"Strategy Returns\",\"Strategy Returns\",\"Strategy Returns\",\"Strategy Returns\",\"Strategy Returns\",\"Strategy Returns\",\"Strategy Returns\",\"Strategy Returns\",\"Strategy Returns\",\"Strategy Returns\",\"Strategy Returns\",\"Strategy Returns\",\"Strategy Returns\",\"Strategy Returns\",\"Strategy Returns\",\"Strategy Returns\",\"Strategy Returns\",\"Strategy Returns\",\"Strategy Returns\",\"Strategy Returns\",\"Strategy Returns\",\"Strategy Returns\",\"Strategy Returns\",\"Strategy Returns\",\"Strategy Returns\",\"Strategy Returns\",\"Strategy Returns\",\"Strategy Returns\",\"Strategy Returns\",\"Strategy Returns\",\"Strategy Returns\",\"Strategy Returns\",\"Strategy Returns\",\"Strategy Returns\",\"Strategy Returns\",\"Strategy Returns\",\"Strategy Returns\",\"Strategy Returns\",\"Strategy Returns\",\"Strategy Returns\",\"Strategy Returns\",\"Strategy Returns\",\"Strategy Returns\",\"Strategy Returns\",\"Strategy Returns\",\"Strategy Returns\",\"Strategy Returns\",\"Strategy Returns\",\"Strategy Returns\",\"Strategy Returns\",\"Strategy Returns\",\"Strategy Returns\",\"Strategy Returns\",\"Strategy Returns\",\"Strategy Returns\",\"Strategy Returns\",\"Strategy Returns\",\"Strategy Returns\",\"Strategy Returns\",\"Strategy Returns\",\"Strategy Returns\",\"Strategy Returns\",\"Strategy Returns\",\"Strategy Returns\",\"Strategy Returns\",\"Strategy Returns\",\"Strategy Returns\",\"Strategy Returns\",\"Strategy Returns\",\"Strategy Returns\",\"Strategy Returns\",\"Strategy Returns\",\"Strategy Returns\",\"Strategy Returns\",\"Strategy Returns\",\"Strategy Returns\",\"Strategy Returns\",\"Strategy Returns\",\"Strategy Returns\",\"Strategy Returns\",\"Strategy Returns\",\"Strategy Returns\",\"Strategy Returns\",\"Strategy Returns\",\"Strategy Returns\",\"Strategy Returns\",\"Strategy Returns\",\"Strategy Returns\",\"Strategy Returns\",\"Strategy Returns\",\"Strategy Returns\",\"Strategy Returns\",\"Strategy Returns\",\"Strategy Returns\",\"Strategy Returns\",\"Strategy Returns\",\"Strategy Returns\",\"Strategy Returns\",\"Strategy Returns\",\"Strategy Returns\",\"Strategy Returns\",\"Strategy Returns\",\"Strategy Returns\",\"Strategy Returns\",\"Strategy Returns\",\"Strategy Returns\",\"Strategy Returns\",\"Strategy Returns\",\"Strategy Returns\",\"Strategy Returns\",\"Strategy Returns\",\"Strategy Returns\",\"Strategy Returns\",\"Strategy Returns\",\"Strategy Returns\",\"Strategy Returns\",\"Strategy Returns\",\"Strategy Returns\",\"Strategy Returns\",\"Strategy Returns\",\"Strategy Returns\",\"Strategy Returns\",\"Strategy Returns\",\"Strategy Returns\",\"Strategy Returns\",\"Strategy Returns\",\"Strategy Returns\",\"Strategy Returns\",\"Strategy Returns\",\"Strategy Returns\",\"Strategy Returns\",\"Strategy Returns\",\"Strategy Returns\",\"Strategy Returns\",\"Strategy Returns\",\"Strategy Returns\",\"Strategy Returns\",\"Strategy Returns\",\"Strategy Returns\",\"Strategy Returns\",\"Strategy Returns\",\"Strategy Returns\",\"Strategy Returns\",\"Strategy Returns\",\"Strategy Returns\",\"Strategy Returns\",\"Strategy Returns\",\"Strategy Returns\",\"Strategy Returns\",\"Strategy Returns\",\"Strategy Returns\",\"Strategy Returns\",\"Strategy Returns\",\"Strategy Returns\",\"Strategy Returns\",\"Strategy Returns\",\"Strategy Returns\",\"Strategy Returns\",\"Strategy Returns\",\"Strategy Returns\",\"Strategy Returns\",\"Strategy Returns\",\"Strategy Returns\",\"Strategy Returns\",\"Strategy Returns\",\"Strategy Returns\",\"Strategy Returns\",\"Strategy Returns\",\"Strategy Returns\",\"Strategy Returns\",\"Strategy Returns\",\"Strategy Returns\",\"Strategy Returns\",\"Strategy Returns\",\"Strategy Returns\",\"Strategy Returns\",\"Strategy Returns\",\"Strategy Returns\",\"Strategy Returns\",\"Strategy Returns\",\"Strategy Returns\",\"Strategy Returns\",\"Strategy Returns\",\"Strategy Returns\",\"Strategy Returns\",\"Strategy Returns\",\"Strategy Returns\",\"Strategy Returns\",\"Strategy Returns\",\"Strategy Returns\",\"Strategy Returns\",\"Strategy Returns\",\"Strategy Returns\",\"Strategy Returns\",\"Strategy Returns\",\"Strategy Returns\",\"Strategy Returns\",\"Strategy Returns\",\"Strategy Returns\",\"Strategy Returns\",\"Strategy Returns\",\"Strategy Returns\",\"Strategy Returns\",\"Strategy Returns\",\"Strategy Returns\",\"Strategy Returns\",\"Strategy Returns\",\"Strategy Returns\",\"Strategy Returns\",\"Strategy Returns\",\"Strategy Returns\",\"Strategy Returns\",\"Strategy Returns\",\"Strategy Returns\",\"Strategy Returns\",\"Strategy Returns\",\"Strategy Returns\",\"Strategy Returns\",\"Strategy Returns\",\"Strategy Returns\",\"Strategy Returns\",\"Strategy Returns\",\"Strategy Returns\",\"Strategy Returns\",\"Strategy Returns\",\"Strategy Returns\",\"Strategy Returns\",\"Strategy Returns\",\"Strategy Returns\",\"Strategy Returns\",\"Strategy Returns\",\"Strategy Returns\",\"Strategy Returns\",\"Strategy Returns\",\"Strategy Returns\",\"Strategy Returns\",\"Strategy Returns\",\"Strategy Returns\",\"Strategy Returns\",\"Strategy Returns\",\"Strategy Returns\",\"Strategy Returns\",\"Strategy Returns\",\"Strategy Returns\",\"Strategy Returns\",\"Strategy Returns\",\"Strategy Returns\",\"Strategy Returns\",\"Strategy Returns\",\"Strategy Returns\",\"Strategy Returns\",\"Strategy Returns\",\"Strategy Returns\",\"Strategy Returns\",\"Strategy Returns\",\"Strategy Returns\",\"Strategy Returns\",\"Strategy Returns\",\"Strategy Returns\",\"Strategy Returns\",\"Strategy Returns\",\"Strategy Returns\",\"Strategy Returns\",\"Strategy Returns\",\"Strategy Returns\",\"Strategy Returns\",\"Strategy Returns\",\"Strategy Returns\",\"Strategy Returns\",\"Strategy Returns\",\"Strategy Returns\",\"Strategy Returns\",\"Strategy Returns\",\"Strategy Returns\",\"Strategy Returns\",\"Strategy Returns\",\"Strategy Returns\",\"Strategy Returns\",\"Strategy Returns\",\"Strategy Returns\",\"Strategy Returns\",\"Strategy Returns\",\"Strategy Returns\",\"Strategy Returns\",\"Strategy Returns\",\"Strategy Returns\",\"Strategy Returns\",\"Strategy Returns\",\"Strategy Returns\",\"Strategy Returns\",\"Strategy Returns\",\"Strategy Returns\",\"Strategy Returns\",\"Strategy Returns\",\"Strategy Returns\",\"Strategy Returns\",\"Strategy Returns\",\"Strategy Returns\",\"Strategy Returns\",\"Strategy Returns\",\"Strategy Returns\",\"Strategy Returns\",\"Strategy Returns\",\"Strategy Returns\",\"Strategy Returns\",\"Strategy Returns\",\"Strategy Returns\",\"Strategy Returns\",\"Strategy Returns\",\"Strategy Returns\",\"Strategy Returns\",\"Strategy Returns\",\"Strategy Returns\",\"Strategy Returns\",\"Strategy Returns\",\"Strategy Returns\",\"Strategy Returns\",\"Strategy Returns\",\"Strategy Returns\",\"Strategy Returns\",\"Strategy Returns\",\"Strategy Returns\",\"Strategy Returns\",\"Strategy Returns\",\"Strategy Returns\",\"Strategy Returns\",\"Strategy Returns\",\"Strategy Returns\",\"Strategy Returns\",\"Strategy Returns\",\"Strategy Returns\",\"Strategy Returns\",\"Strategy Returns\",\"Strategy Returns\",\"Strategy Returns\",\"Strategy Returns\",\"Strategy Returns\",\"Strategy Returns\",\"Strategy Returns\",\"Strategy Returns\",\"Strategy Returns\",\"Strategy Returns\",\"Strategy Returns\",\"Strategy Returns\",\"Strategy Returns\",\"Strategy Returns\",\"Strategy Returns\",\"Strategy Returns\",\"Strategy Returns\",\"Strategy Returns\",\"Strategy Returns\",\"Strategy Returns\",\"Strategy Returns\",\"Strategy Returns\",\"Strategy Returns\",\"Strategy Returns\",\"Strategy Returns\",\"Strategy Returns\",\"Strategy Returns\",\"Strategy Returns\",\"Strategy Returns\",\"Strategy Returns\",\"Strategy Returns\",\"Strategy Returns\",\"Strategy Returns\",\"Strategy Returns\",\"Strategy Returns\",\"Strategy Returns\",\"Strategy Returns\",\"Strategy Returns\"],\"value\":{\"__ndarray__\":\"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\",\"dtype\":\"float64\",\"order\":\"little\",\"shape\":[1160]}},\"selected\":{\"id\":\"3889\"},\"selection_policy\":{\"id\":\"3903\"}},\"id\":\"3888\",\"type\":\"ColumnDataSource\"},{\"attributes\":{\"callback\":null,\"formatters\":{\"@{Date}\":\"datetime\"},\"renderers\":[{\"id\":\"3894\"},{\"id\":\"3927\"}],\"tags\":[\"hv_created\"],\"tooltips\":[[\"Variable\",\"@{Variable}\"],[\"Date\",\"@{Date}{%F %T}\"],[\"value\",\"@{value}\"]]},\"id\":\"3850\",\"type\":\"HoverTool\"},{\"attributes\":{},\"id\":\"3922\",\"type\":\"Selection\"},{\"attributes\":{\"months\":[0,2,4,6,8,10]},\"id\":\"3914\",\"type\":\"MonthsTicker\"},{\"attributes\":{\"line_color\":\"#fc4f30\",\"line_width\":2,\"x\":{\"field\":\"Date\"},\"y\":{\"field\":\"value\"}},\"id\":\"3924\",\"type\":\"Line\"},{\"attributes\":{},\"id\":\"3887\",\"type\":\"AllLabels\"},{\"attributes\":{\"line_alpha\":0.2,\"line_color\":\"#fc4f30\",\"line_width\":2,\"x\":{\"field\":\"Date\"},\"y\":{\"field\":\"value\"}},\"id\":\"3926\",\"type\":\"Line\"},{\"attributes\":{},\"id\":\"3884\",\"type\":\"AllLabels\"},{\"attributes\":{\"line_color\":\"#30a2da\",\"line_width\":2,\"x\":{\"field\":\"Date\"},\"y\":{\"field\":\"value\"}},\"id\":\"3891\",\"type\":\"Line\"},{\"attributes\":{\"line_alpha\":0.2,\"line_color\":\"#30a2da\",\"line_width\":2,\"x\":{\"field\":\"Date\"},\"y\":{\"field\":\"value\"}},\"id\":\"3893\",\"type\":\"Line\"},{\"attributes\":{},\"id\":\"3889\",\"type\":\"Selection\"},{\"attributes\":{\"base\":60,\"mantissas\":[1,2,5,10,15,20,30],\"max_interval\":1800000.0,\"min_interval\":1000.0,\"num_minor_ticks\":0},\"id\":\"3907\",\"type\":\"AdaptiveTicker\"},{\"attributes\":{\"mantissas\":[1,2,5],\"max_interval\":500.0,\"num_minor_ticks\":0},\"id\":\"3906\",\"type\":\"AdaptiveTicker\"},{\"attributes\":{\"data\":{\"Date\":{\"__ndarray__\":\"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\",\"dtype\":\"float64\",\"order\":\"little\",\"shape\":[1160]},\"Variable\":[\"Actual Returns\",\"Actual Returns\",\"Actual Returns\",\"Actual Returns\",\"Actual Returns\",\"Actual Returns\",\"Actual Returns\",\"Actual Returns\",\"Actual Returns\",\"Actual Returns\",\"Actual Returns\",\"Actual Returns\",\"Actual Returns\",\"Actual Returns\",\"Actual Returns\",\"Actual Returns\",\"Actual Returns\",\"Actual Returns\",\"Actual Returns\",\"Actual Returns\",\"Actual Returns\",\"Actual Returns\",\"Actual Returns\",\"Actual Returns\",\"Actual Returns\",\"Actual Returns\",\"Actual Returns\",\"Actual Returns\",\"Actual Returns\",\"Actual Returns\",\"Actual Returns\",\"Actual Returns\",\"Actual Returns\",\"Actual Returns\",\"Actual Returns\",\"Actual Returns\",\"Actual Returns\",\"Actual Returns\",\"Actual Returns\",\"Actual Returns\",\"Actual Returns\",\"Actual Returns\",\"Actual Returns\",\"Actual Returns\",\"Actual Returns\",\"Actual Returns\",\"Actual Returns\",\"Actual Returns\",\"Actual Returns\",\"Actual Returns\",\"Actual Returns\",\"Actual Returns\",\"Actual Returns\",\"Actual Returns\",\"Actual Returns\",\"Actual Returns\",\"Actual Returns\",\"Actual Returns\",\"Actual Returns\",\"Actual Returns\",\"Actual Returns\",\"Actual Returns\",\"Actual Returns\",\"Actual Returns\",\"Actual Returns\",\"Actual Returns\",\"Actual Returns\",\"Actual Returns\",\"Actual Returns\",\"Actual Returns\",\"Actual Returns\",\"Actual Returns\",\"Actual Returns\",\"Actual Returns\",\"Actual Returns\",\"Actual Returns\",\"Actual Returns\",\"Actual Returns\",\"Actual Returns\",\"Actual Returns\",\"Actual Returns\",\"Actual Returns\",\"Actual Returns\",\"Actual Returns\",\"Actual Returns\",\"Actual Returns\",\"Actual Returns\",\"Actual Returns\",\"Actual Returns\",\"Actual Returns\",\"Actual Returns\",\"Actual Returns\",\"Actual Returns\",\"Actual Returns\",\"Actual Returns\",\"Actual Returns\",\"Actual Returns\",\"Actual Returns\",\"Actual Returns\",\"Actual Returns\",\"Actual Returns\",\"Actual Returns\",\"Actual Returns\",\"Actual Returns\",\"Actual Returns\",\"Actual Returns\",\"Actual Returns\",\"Actual Returns\",\"Actual Returns\",\"Actual Returns\",\"Actual Returns\",\"Actual Returns\",\"Actual Returns\",\"Actual Returns\",\"Actual Returns\",\"Actual Returns\",\"Actual Returns\",\"Actual Returns\",\"Actual Returns\",\"Actual Returns\",\"Actual Returns\",\"Actual Returns\",\"Actual Returns\",\"Actual Returns\",\"Actual Returns\",\"Actual Returns\",\"Actual Returns\",\"Actual Returns\",\"Actual Returns\",\"Actual Returns\",\"Actual Returns\",\"Actual Returns\",\"Actual Returns\",\"Actual Returns\",\"Actual Returns\",\"Actual Returns\",\"Actual Returns\",\"Actual Returns\",\"Actual Returns\",\"Actual Returns\",\"Actual Returns\",\"Actual Returns\",\"Actual Returns\",\"Actual Returns\",\"Actual Returns\",\"Actual Returns\",\"Actual Returns\",\"Actual Returns\",\"Actual Returns\",\"Actual Returns\",\"Actual Returns\",\"Actual Returns\",\"Actual Returns\",\"Actual Returns\",\"Actual Returns\",\"Actual Returns\",\"Actual Returns\",\"Actual Returns\",\"Actual Returns\",\"Actual Returns\",\"Actual Returns\",\"Actual Returns\",\"Actual Returns\",\"Actual Returns\",\"Actual Returns\",\"Actual Returns\",\"Actual Returns\",\"Actual Returns\",\"Actual Returns\",\"Actual Returns\",\"Actual Returns\",\"Actual Returns\",\"Actual Returns\",\"Actual Returns\",\"Actual Returns\",\"Actual Returns\",\"Actual Returns\",\"Actual Returns\",\"Actual Returns\",\"Actual Returns\",\"Actual Returns\",\"Actual Returns\",\"Actual Returns\",\"Actual Returns\",\"Actual Returns\",\"Actual Returns\",\"Actual Returns\",\"Actual Returns\",\"Actual Returns\",\"Actual Returns\",\"Actual Returns\",\"Actual Returns\",\"Actual Returns\",\"Actual Returns\",\"Actual Returns\",\"Actual Returns\",\"Actual Returns\",\"Actual Returns\",\"Actual Returns\",\"Actual Returns\",\"Actual Returns\",\"Actual Returns\",\"Actual Returns\",\"Actual Returns\",\"Actual Returns\",\"Actual Returns\",\"Actual Returns\",\"Actual Returns\",\"Actual Returns\",\"Actual Returns\",\"Actual Returns\",\"Actual Returns\",\"Actual Returns\",\"Actual Returns\",\"Actual Returns\",\"Actual Returns\",\"Actual Returns\",\"Actual Returns\",\"Actual Returns\",\"Actual Returns\",\"Actual Returns\",\"Actual Returns\",\"Actual Returns\",\"Actual Returns\",\"Actual Returns\",\"Actual Returns\",\"Actual Returns\",\"Actual Returns\",\"Actual Returns\",\"Actual Returns\",\"Actual Returns\",\"Actual Returns\",\"Actual Returns\",\"Actual Returns\",\"Actual Returns\",\"Actual Returns\",\"Actual Returns\",\"Actual Returns\",\"Actual Returns\",\"Actual Returns\",\"Actual Returns\",\"Actual Returns\",\"Actual Returns\",\"Actual Returns\",\"Actual Returns\",\"Actual Returns\",\"Actual Returns\",\"Actual Returns\",\"Actual Returns\",\"Actual Returns\",\"Actual Returns\",\"Actual Returns\",\"Actual Returns\",\"Actual Returns\",\"Actual Returns\",\"Actual Returns\",\"Actual Returns\",\"Actual Returns\",\"Actual Returns\",\"Actual Returns\",\"Actual Returns\",\"Actual Returns\",\"Actual Returns\",\"Actual Returns\",\"Actual Returns\",\"Actual Returns\",\"Actual Returns\",\"Actual Returns\",\"Actual Returns\",\"Actual Returns\",\"Actual Returns\",\"Actual Returns\",\"Actual Returns\",\"Actual Returns\",\"Actual Returns\",\"Actual Returns\",\"Actual Returns\",\"Actual Returns\",\"Actual Returns\",\"Actual Returns\",\"Actual Returns\",\"Actual Returns\",\"Actual Returns\",\"Actual Returns\",\"Actual Returns\",\"Actual Returns\",\"Actual Returns\",\"Actual Returns\",\"Actual Returns\",\"Actual Returns\",\"Actual Returns\",\"Actual Returns\",\"Actual Returns\",\"Actual Returns\",\"Actual Returns\",\"Actual Returns\",\"Actual Returns\",\"Actual Returns\",\"Actual Returns\",\"Actual Returns\",\"Actual Returns\",\"Actual Returns\",\"Actual Returns\",\"Actual Returns\",\"Actual Returns\",\"Actual Returns\",\"Actual Returns\",\"Actual Returns\",\"Actual Returns\",\"Actual Returns\",\"Actual Returns\",\"Actual Returns\",\"Actual Returns\",\"Actual Returns\",\"Actual Returns\",\"Actual Returns\",\"Actual Returns\",\"Actual Returns\",\"Actual Returns\",\"Actual Returns\",\"Actual Returns\",\"Actual Returns\",\"Actual Returns\",\"Actual Returns\",\"Actual Returns\",\"Actual Returns\",\"Actual Returns\",\"Actual Returns\",\"Actual Returns\",\"Actual Returns\",\"Actual Returns\",\"Actual Returns\",\"Actual Returns\",\"Actual Returns\",\"Actual Returns\",\"Actual Returns\",\"Actual Returns\",\"Actual Returns\",\"Actual Returns\",\"Actual Returns\",\"Actual Returns\",\"Actual Returns\",\"Actual Returns\",\"Actual Returns\",\"Actual Returns\",\"Actual Returns\",\"Actual Returns\",\"Actual Returns\",\"Actual Returns\",\"Actual Returns\",\"Actual Returns\",\"Actual Returns\",\"Actual Returns\",\"Actual Returns\",\"Actual Returns\",\"Actual Returns\",\"Actual Returns\",\"Actual Returns\",\"Actual Returns\",\"Actual Returns\",\"Actual Returns\",\"Actual Returns\",\"Actual Returns\",\"Actual Returns\",\"Actual Returns\",\"Actual Returns\",\"Actual Returns\",\"Actual Returns\",\"Actual Returns\",\"Actual Returns\",\"Actual Returns\",\"Actual Returns\",\"Actual Returns\",\"Actual Returns\",\"Actual Returns\",\"Actual Returns\",\"Actual Returns\",\"Actual Returns\",\"Actual Returns\",\"Actual Returns\",\"Actual Returns\",\"Actual Returns\",\"Actual Returns\",\"Actual Returns\",\"Actual Returns\",\"Actual Returns\",\"Actual Returns\",\"Actual Returns\",\"Actual Returns\",\"Actual Returns\",\"Actual Returns\",\"Actual Returns\",\"Actual Returns\",\"Actual Returns\",\"Actual Returns\",\"Actual Returns\",\"Actual Returns\",\"Actual Returns\",\"Actual Returns\",\"Actual Returns\",\"Actual Returns\",\"Actual Returns\",\"Actual Returns\",\"Actual Returns\",\"Actual Returns\",\"Actual Returns\",\"Actual Returns\",\"Actual Returns\",\"Actual Returns\",\"Actual Returns\",\"Actual Returns\",\"Actual Returns\",\"Actual Returns\",\"Actual Returns\",\"Actual Returns\",\"Actual Returns\",\"Actual Returns\",\"Actual Returns\",\"Actual Returns\",\"Actual Returns\",\"Actual Returns\",\"Actual Returns\",\"Actual Returns\",\"Actual Returns\",\"Actual Returns\",\"Actual Returns\",\"Actual Returns\",\"Actual Returns\",\"Actual Returns\",\"Actual Returns\",\"Actual Returns\",\"Actual Returns\",\"Actual Returns\",\"Actual Returns\",\"Actual Returns\",\"Actual Returns\",\"Actual Returns\",\"Actual Returns\",\"Actual Returns\",\"Actual Returns\",\"Actual Returns\",\"Actual Returns\",\"Actual Returns\",\"Actual Returns\",\"Actual Returns\",\"Actual Returns\",\"Actual Returns\",\"Actual Returns\",\"Actual Returns\",\"Actual Returns\",\"Actual Returns\",\"Actual Returns\",\"Actual Returns\",\"Actual Returns\",\"Actual Returns\",\"Actual Returns\",\"Actual Returns\",\"Actual Returns\",\"Actual Returns\",\"Actual Returns\",\"Actual Returns\",\"Actual Returns\",\"Actual Returns\",\"Actual Returns\",\"Actual Returns\",\"Actual Returns\",\"Actual Returns\",\"Actual Returns\",\"Actual Returns\",\"Actual Returns\",\"Actual Returns\",\"Actual Returns\",\"Actual Returns\",\"Actual Returns\",\"Actual Returns\",\"Actual Returns\",\"Actual Returns\",\"Actual Returns\",\"Actual Returns\",\"Actual Returns\",\"Actual Returns\",\"Actual Returns\",\"Actual Returns\",\"Actual Returns\",\"Actual Returns\",\"Actual Returns\",\"Actual Returns\",\"Actual Returns\",\"Actual Returns\",\"Actual Returns\",\"Actual Returns\",\"Actual Returns\",\"Actual Returns\",\"Actual Returns\",\"Actual Returns\",\"Actual Returns\",\"Actual Returns\",\"Actual Returns\",\"Actual Returns\",\"Actual Returns\",\"Actual Returns\",\"Actual Returns\",\"Actual Returns\",\"Actual Returns\",\"Actual Returns\",\"Actual Returns\",\"Actual Returns\",\"Actual Returns\",\"Actual Returns\",\"Actual Returns\",\"Actual Returns\",\"Actual Returns\",\"Actual Returns\",\"Actual Returns\",\"Actual Returns\",\"Actual Returns\",\"Actual Returns\",\"Actual Returns\",\"Actual Returns\",\"Actual Returns\",\"Actual Returns\",\"Actual Returns\",\"Actual Returns\",\"Actual Returns\",\"Actual Returns\",\"Actual Returns\",\"Actual Returns\",\"Actual Returns\",\"Actual Returns\",\"Actual Returns\",\"Actual Returns\",\"Actual Returns\",\"Actual Returns\",\"Actual Returns\",\"Actual Returns\",\"Actual Returns\",\"Actual Returns\",\"Actual Returns\",\"Actual Returns\",\"Actual Returns\",\"Actual Returns\",\"Actual Returns\",\"Actual Returns\",\"Actual Returns\",\"Actual Returns\",\"Actual Returns\",\"Actual Returns\",\"Actual Returns\",\"Actual Returns\",\"Actual Returns\",\"Actual Returns\",\"Actual Returns\",\"Actual Returns\",\"Actual Returns\",\"Actual Returns\",\"Actual Returns\",\"Actual Returns\",\"Actual Returns\",\"Actual Returns\",\"Actual Returns\",\"Actual Returns\",\"Actual Returns\",\"Actual Returns\",\"Actual Returns\",\"Actual Returns\",\"Actual Returns\",\"Actual Returns\",\"Actual Returns\",\"Actual Returns\",\"Actual Returns\",\"Actual Returns\",\"Actual Returns\",\"Actual Returns\",\"Actual Returns\",\"Actual Returns\",\"Actual Returns\",\"Actual Returns\",\"Actual Returns\",\"Actual Returns\",\"Actual Returns\",\"Actual Returns\",\"Actual Returns\",\"Actual Returns\",\"Actual Returns\",\"Actual Returns\",\"Actual Returns\",\"Actual Returns\",\"Actual Returns\",\"Actual Returns\",\"Actual Returns\",\"Actual Returns\",\"Actual Returns\",\"Actual Returns\",\"Actual Returns\",\"Actual Returns\",\"Actual Returns\",\"Actual Returns\",\"Actual Returns\",\"Actual Returns\",\"Actual Returns\",\"Actual Returns\",\"Actual Returns\",\"Actual Returns\",\"Actual Returns\",\"Actual Returns\",\"Actual Returns\",\"Actual Returns\",\"Actual Returns\",\"Actual Returns\",\"Actual Returns\",\"Actual Returns\",\"Actual Returns\",\"Actual Returns\",\"Actual Returns\",\"Actual Returns\",\"Actual Returns\",\"Actual Returns\",\"Actual Returns\",\"Actual Returns\",\"Actual Returns\",\"Actual Returns\",\"Actual Returns\",\"Actual Returns\",\"Actual Returns\",\"Actual Returns\",\"Actual Returns\",\"Actual Returns\",\"Actual Returns\",\"Actual Returns\",\"Actual Returns\",\"Actual Returns\",\"Actual Returns\",\"Actual Returns\",\"Actual Returns\",\"Actual Returns\",\"Actual Returns\",\"Actual Returns\",\"Actual Returns\",\"Actual Returns\",\"Actual Returns\",\"Actual Returns\",\"Actual Returns\",\"Actual Returns\",\"Actual Returns\",\"Actual Returns\",\"Actual Returns\",\"Actual Returns\",\"Actual Returns\",\"Actual Returns\",\"Actual Returns\",\"Actual Returns\",\"Actual Returns\",\"Actual Returns\",\"Actual Returns\",\"Actual Returns\",\"Actual Returns\",\"Actual Returns\",\"Actual Returns\",\"Actual Returns\",\"Actual Returns\",\"Actual Returns\",\"Actual Returns\",\"Actual Returns\",\"Actual Returns\",\"Actual Returns\",\"Actual Returns\",\"Actual Returns\",\"Actual Returns\",\"Actual Returns\",\"Actual Returns\",\"Actual Returns\",\"Actual Returns\",\"Actual Returns\",\"Actual Returns\",\"Actual Returns\",\"Actual Returns\",\"Actual Returns\",\"Actual Returns\",\"Actual Returns\",\"Actual Returns\",\"Actual Returns\",\"Actual Returns\",\"Actual Returns\",\"Actual Returns\",\"Actual Returns\",\"Actual Returns\",\"Actual Returns\",\"Actual Returns\",\"Actual Returns\",\"Actual Returns\",\"Actual Returns\",\"Actual Returns\",\"Actual Returns\",\"Actual Returns\",\"Actual Returns\",\"Actual Returns\",\"Actual Returns\",\"Actual Returns\",\"Actual Returns\",\"Actual Returns\",\"Actual Returns\",\"Actual Returns\",\"Actual Returns\",\"Actual Returns\",\"Actual Returns\",\"Actual Returns\",\"Actual Returns\",\"Actual Returns\",\"Actual Returns\",\"Actual Returns\",\"Actual Returns\",\"Actual Returns\",\"Actual Returns\",\"Actual Returns\",\"Actual Returns\",\"Actual Returns\",\"Actual Returns\",\"Actual Returns\",\"Actual Returns\",\"Actual Returns\",\"Actual Returns\",\"Actual Returns\",\"Actual Returns\",\"Actual Returns\",\"Actual Returns\",\"Actual Returns\",\"Actual Returns\",\"Actual Returns\",\"Actual Returns\",\"Actual Returns\",\"Actual Returns\",\"Actual Returns\",\"Actual Returns\",\"Actual Returns\",\"Actual Returns\",\"Actual Returns\",\"Actual Returns\",\"Actual Returns\",\"Actual Returns\",\"Actual Returns\",\"Actual Returns\",\"Actual Returns\",\"Actual Returns\",\"Actual Returns\",\"Actual Returns\",\"Actual Returns\",\"Actual Returns\",\"Actual Returns\",\"Actual Returns\",\"Actual Returns\",\"Actual Returns\",\"Actual Returns\",\"Actual Returns\",\"Actual Returns\",\"Actual Returns\",\"Actual Returns\",\"Actual Returns\",\"Actual Returns\",\"Actual Returns\",\"Actual Returns\",\"Actual Returns\",\"Actual Returns\",\"Actual Returns\",\"Actual Returns\",\"Actual Returns\",\"Actual Returns\",\"Actual Returns\",\"Actual Returns\",\"Actual Returns\",\"Actual Returns\",\"Actual Returns\",\"Actual Returns\",\"Actual Returns\",\"Actual Returns\",\"Actual Returns\",\"Actual Returns\",\"Actual Returns\",\"Actual Returns\",\"Actual Returns\",\"Actual Returns\",\"Actual Returns\",\"Actual Returns\",\"Actual Returns\",\"Actual Returns\",\"Actual Returns\",\"Actual Returns\",\"Actual Returns\",\"Actual Returns\",\"Actual Returns\",\"Actual Returns\",\"Actual Returns\",\"Actual Returns\",\"Actual Returns\",\"Actual Returns\",\"Actual Returns\",\"Actual Returns\",\"Actual Returns\",\"Actual Returns\",\"Actual Returns\",\"Actual Returns\",\"Actual Returns\",\"Actual Returns\",\"Actual Returns\",\"Actual Returns\",\"Actual Returns\",\"Actual Returns\",\"Actual Returns\",\"Actual Returns\",\"Actual Returns\",\"Actual Returns\",\"Actual Returns\",\"Actual Returns\",\"Actual Returns\",\"Actual Returns\",\"Actual Returns\",\"Actual Returns\",\"Actual Returns\",\"Actual Returns\",\"Actual Returns\",\"Actual Returns\",\"Actual Returns\",\"Actual Returns\",\"Actual Returns\",\"Actual Returns\",\"Actual Returns\",\"Actual Returns\",\"Actual Returns\",\"Actual Returns\",\"Actual Returns\",\"Actual Returns\",\"Actual Returns\",\"Actual Returns\",\"Actual Returns\",\"Actual Returns\",\"Actual Returns\",\"Actual Returns\",\"Actual Returns\",\"Actual Returns\",\"Actual Returns\",\"Actual Returns\",\"Actual Returns\",\"Actual Returns\",\"Actual Returns\",\"Actual Returns\",\"Actual Returns\",\"Actual Returns\",\"Actual Returns\",\"Actual Returns\",\"Actual Returns\",\"Actual Returns\",\"Actual Returns\",\"Actual Returns\",\"Actual Returns\",\"Actual Returns\",\"Actual Returns\",\"Actual Returns\",\"Actual Returns\",\"Actual Returns\",\"Actual Returns\",\"Actual Returns\",\"Actual Returns\",\"Actual Returns\",\"Actual Returns\",\"Actual Returns\",\"Actual Returns\",\"Actual Returns\",\"Actual Returns\",\"Actual Returns\",\"Actual Returns\",\"Actual Returns\",\"Actual Returns\",\"Actual Returns\",\"Actual Returns\",\"Actual Returns\",\"Actual Returns\",\"Actual Returns\",\"Actual Returns\",\"Actual Returns\",\"Actual Returns\",\"Actual Returns\",\"Actual Returns\",\"Actual Returns\",\"Actual Returns\",\"Actual Returns\",\"Actual Returns\",\"Actual Returns\",\"Actual Returns\",\"Actual Returns\",\"Actual Returns\",\"Actual Returns\",\"Actual Returns\",\"Actual Returns\",\"Actual Returns\",\"Actual Returns\",\"Actual Returns\",\"Actual Returns\",\"Actual Returns\",\"Actual Returns\",\"Actual Returns\",\"Actual Returns\",\"Actual Returns\",\"Actual Returns\",\"Actual Returns\",\"Actual Returns\",\"Actual Returns\",\"Actual Returns\",\"Actual Returns\",\"Actual Returns\",\"Actual Returns\",\"Actual Returns\",\"Actual Returns\",\"Actual Returns\",\"Actual Returns\",\"Actual Returns\",\"Actual Returns\",\"Actual Returns\",\"Actual Returns\",\"Actual Returns\",\"Actual Returns\",\"Actual Returns\",\"Actual Returns\",\"Actual Returns\",\"Actual Returns\",\"Actual Returns\",\"Actual Returns\",\"Actual Returns\",\"Actual Returns\",\"Actual Returns\",\"Actual Returns\",\"Actual Returns\",\"Actual Returns\",\"Actual Returns\",\"Actual Returns\",\"Actual Returns\",\"Actual Returns\",\"Actual Returns\",\"Actual Returns\",\"Actual Returns\",\"Actual Returns\",\"Actual Returns\",\"Actual Returns\",\"Actual Returns\",\"Actual Returns\",\"Actual Returns\",\"Actual Returns\",\"Actual Returns\",\"Actual Returns\",\"Actual Returns\",\"Actual Returns\",\"Actual Returns\",\"Actual Returns\",\"Actual Returns\",\"Actual Returns\",\"Actual Returns\",\"Actual Returns\",\"Actual Returns\",\"Actual Returns\",\"Actual Returns\",\"Actual Returns\",\"Actual Returns\",\"Actual Returns\",\"Actual Returns\",\"Actual Returns\",\"Actual Returns\",\"Actual Returns\",\"Actual Returns\",\"Actual Returns\",\"Actual Returns\",\"Actual Returns\",\"Actual Returns\",\"Actual Returns\",\"Actual Returns\",\"Actual Returns\",\"Actual Returns\",\"Actual Returns\",\"Actual Returns\",\"Actual Returns\",\"Actual Returns\",\"Actual Returns\",\"Actual Returns\",\"Actual Returns\",\"Actual Returns\",\"Actual Returns\",\"Actual Returns\",\"Actual Returns\",\"Actual Returns\",\"Actual Returns\",\"Actual Returns\",\"Actual Returns\",\"Actual Returns\",\"Actual Returns\",\"Actual Returns\",\"Actual Returns\",\"Actual Returns\",\"Actual Returns\",\"Actual Returns\",\"Actual Returns\",\"Actual Returns\",\"Actual Returns\",\"Actual Returns\",\"Actual Returns\",\"Actual Returns\",\"Actual Returns\",\"Actual Returns\",\"Actual Returns\",\"Actual Returns\",\"Actual Returns\",\"Actual Returns\",\"Actual Returns\",\"Actual Returns\",\"Actual Returns\",\"Actual Returns\",\"Actual Returns\",\"Actual Returns\",\"Actual Returns\",\"Actual Returns\",\"Actual Returns\",\"Actual Returns\",\"Actual Returns\",\"Actual Returns\",\"Actual Returns\",\"Actual Returns\",\"Actual Returns\",\"Actual Returns\",\"Actual Returns\",\"Actual Returns\",\"Actual Returns\",\"Actual Returns\",\"Actual Returns\",\"Actual Returns\",\"Actual Returns\",\"Actual Returns\",\"Actual Returns\",\"Actual Returns\",\"Actual Returns\",\"Actual Returns\",\"Actual Returns\",\"Actual Returns\",\"Actual Returns\",\"Actual Returns\",\"Actual Returns\",\"Actual Returns\",\"Actual Returns\",\"Actual Returns\",\"Actual Returns\",\"Actual Returns\",\"Actual Returns\",\"Actual Returns\",\"Actual Returns\",\"Actual Returns\",\"Actual Returns\",\"Actual Returns\",\"Actual Returns\",\"Actual Returns\",\"Actual Returns\",\"Actual Returns\",\"Actual Returns\",\"Actual Returns\",\"Actual Returns\",\"Actual Returns\",\"Actual Returns\",\"Actual Returns\",\"Actual Returns\",\"Actual Returns\",\"Actual Returns\",\"Actual Returns\",\"Actual Returns\",\"Actual Returns\",\"Actual Returns\",\"Actual Returns\",\"Actual Returns\",\"Actual Returns\",\"Actual Returns\",\"Actual Returns\",\"Actual Returns\",\"Actual Returns\",\"Actual Returns\",\"Actual Returns\",\"Actual Returns\",\"Actual Returns\",\"Actual Returns\",\"Actual Returns\",\"Actual Returns\",\"Actual Returns\",\"Actual Returns\",\"Actual Returns\",\"Actual Returns\",\"Actual Returns\",\"Actual Returns\",\"Actual Returns\",\"Actual Returns\",\"Actual Returns\",\"Actual Returns\",\"Actual Returns\",\"Actual Returns\",\"Actual Returns\",\"Actual Returns\",\"Actual Returns\",\"Actual Returns\",\"Actual Returns\",\"Actual Returns\",\"Actual Returns\",\"Actual Returns\",\"Actual Returns\",\"Actual Returns\",\"Actual Returns\",\"Actual Returns\",\"Actual Returns\",\"Actual Returns\",\"Actual Returns\",\"Actual Returns\",\"Actual Returns\",\"Actual Returns\",\"Actual Returns\",\"Actual Returns\",\"Actual Returns\",\"Actual Returns\",\"Actual Returns\",\"Actual Returns\",\"Actual Returns\",\"Actual Returns\",\"Actual Returns\",\"Actual Returns\",\"Actual Returns\",\"Actual Returns\",\"Actual Returns\",\"Actual Returns\",\"Actual Returns\",\"Actual Returns\",\"Actual Returns\",\"Actual Returns\",\"Actual Returns\",\"Actual Returns\",\"Actual Returns\",\"Actual Returns\",\"Actual Returns\",\"Actual Returns\",\"Actual Returns\",\"Actual Returns\",\"Actual Returns\",\"Actual Returns\",\"Actual Returns\",\"Actual Returns\",\"Actual Returns\",\"Actual Returns\",\"Actual Returns\",\"Actual Returns\",\"Actual Returns\",\"Actual Returns\",\"Actual Returns\",\"Actual Returns\",\"Actual Returns\",\"Actual Returns\",\"Actual Returns\",\"Actual Returns\",\"Actual Returns\",\"Actual Returns\",\"Actual Returns\",\"Actual Returns\",\"Actual Returns\"],\"value\":{\"__ndarray__\":\"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\",\"dtype\":\"float64\",\"order\":\"little\",\"shape\":[1160]}},\"selected\":{\"id\":\"3922\"},\"selection_policy\":{\"id\":\"3938\"}},\"id\":\"3921\",\"type\":\"ColumnDataSource\"},{\"attributes\":{\"label\":{\"value\":\"Actual Returns\"},\"renderers\":[{\"id\":\"3927\"}]},\"id\":\"3953\",\"type\":\"LegendItem\"},{\"attributes\":{\"tools\":[{\"id\":\"3850\"},{\"id\":\"3869\"},{\"id\":\"3870\"},{\"id\":\"3871\"},{\"id\":\"3872\"},{\"id\":\"3873\"}]},\"id\":\"3875\",\"type\":\"Toolbar\"},{\"attributes\":{\"click_policy\":\"mute\",\"coordinates\":null,\"group\":null,\"items\":[{\"id\":\"3919\"},{\"id\":\"3953\"}],\"location\":[0,0],\"title\":\"Variable\"},\"id\":\"3918\",\"type\":\"Legend\"},{\"attributes\":{\"below\":[{\"id\":\"3861\"}],\"center\":[{\"id\":\"3864\"},{\"id\":\"3868\"}],\"height\":300,\"left\":[{\"id\":\"3865\"}],\"margin\":[5,5,5,5],\"min_border_bottom\":10,\"min_border_left\":10,\"min_border_right\":10,\"min_border_top\":10,\"renderers\":[{\"id\":\"3894\"},{\"id\":\"3927\"}],\"right\":[{\"id\":\"3918\"}],\"sizing_mode\":\"fixed\",\"title\":{\"id\":\"3853\"},\"toolbar\":{\"id\":\"3875\"},\"width\":700,\"x_range\":{\"id\":\"3848\"},\"x_scale\":{\"id\":\"3857\"},\"y_range\":{\"id\":\"3849\"},\"y_scale\":{\"id\":\"3859\"}},\"id\":\"3852\",\"subtype\":\"Figure\",\"type\":\"Plot\"},{\"attributes\":{\"line_color\":\"#fc4f30\",\"line_width\":2,\"x\":{\"field\":\"Date\"},\"y\":{\"field\":\"value\"}},\"id\":\"3954\",\"type\":\"Line\"},{\"attributes\":{\"children\":[{\"id\":\"3847\"},{\"id\":\"3852\"},{\"id\":\"4171\"}],\"margin\":[0,0,0,0],\"name\":\"Row05345\",\"tags\":[\"embedded\"]},\"id\":\"3846\",\"type\":\"Row\"},{\"attributes\":{\"line_alpha\":0.1,\"line_color\":\"#30a2da\",\"line_width\":2,\"x\":{\"field\":\"Date\"},\"y\":{\"field\":\"value\"}},\"id\":\"3892\",\"type\":\"Line\"},{\"attributes\":{},\"id\":\"3869\",\"type\":\"SaveTool\"},{\"attributes\":{},\"id\":\"3883\",\"type\":\"DatetimeTickFormatter\"},{\"attributes\":{\"line_alpha\":0.1,\"line_color\":\"#fc4f30\",\"line_width\":2,\"x\":{\"field\":\"Date\"},\"y\":{\"field\":\"value\"}},\"id\":\"3925\",\"type\":\"Line\"},{\"attributes\":{},\"id\":\"3903\",\"type\":\"UnionRenderers\"},{\"attributes\":{},\"id\":\"3938\",\"type\":\"UnionRenderers\"},{\"attributes\":{\"days\":[1,4,7,10,13,16,19,22,25,28]},\"id\":\"3910\",\"type\":\"DaysTicker\"},{\"attributes\":{\"source\":{\"id\":\"3921\"}},\"id\":\"3928\",\"type\":\"CDSView\"},{\"attributes\":{},\"id\":\"3870\",\"type\":\"PanTool\"},{\"attributes\":{},\"id\":\"3866\",\"type\":\"BasicTicker\"},{\"attributes\":{\"end\":1647302400000.0,\"reset_end\":1647302400000.0,\"reset_start\":1502150400000.0,\"start\":1502150400000.0,\"tags\":[[[\"Date\",\"Date\",null]]]},\"id\":\"3848\",\"type\":\"Range1d\"},{\"attributes\":{},\"id\":\"3871\",\"type\":\"WheelZoomTool\"},{\"attributes\":{\"margin\":[5,5,5,5],\"name\":\"HSpacer05349\",\"sizing_mode\":\"stretch_width\"},\"id\":\"3847\",\"type\":\"Spacer\"},{\"attributes\":{\"coordinates\":null,\"data_source\":{\"id\":\"3921\"},\"glyph\":{\"id\":\"3924\"},\"group\":null,\"hover_glyph\":null,\"muted_glyph\":{\"id\":\"3926\"},\"nonselection_glyph\":{\"id\":\"3925\"},\"selection_glyph\":{\"id\":\"3954\"},\"view\":{\"id\":\"3928\"}},\"id\":\"3927\",\"type\":\"GlyphRenderer\"},{\"attributes\":{\"days\":[1,8,15,22]},\"id\":\"3911\",\"type\":\"DaysTicker\"},{\"attributes\":{\"overlay\":{\"id\":\"3874\"}},\"id\":\"3872\",\"type\":\"BoxZoomTool\"}],\"root_ids\":[\"3846\"]},\"title\":\"Bokeh Application\",\"version\":\"2.4.1\"}};\n",
       "    var render_items = [{\"docid\":\"7c3349df-99ae-469b-a9fe-263c7340315d\",\"root_ids\":[\"3846\"],\"roots\":{\"3846\":\"315bdc16-5a4e-43cd-b4be-1bad1c497bf0\"}}];\n",
       "    root.Bokeh.embed.embed_items_notebook(docs_json, render_items);\n",
       "  }\n",
       "  if (root.Bokeh !== undefined && root.Bokeh.Panel !== undefined) {\n",
       "    embed_document(root);\n",
       "  } else {\n",
       "    var attempts = 0;\n",
       "    var timer = setInterval(function(root) {\n",
       "      if (root.Bokeh !== undefined && root.Bokeh.Panel !== undefined) {\n",
       "        clearInterval(timer);\n",
       "        embed_document(root);\n",
       "      } else if (document.readyState == \"complete\") {\n",
       "        attempts++;\n",
       "        if (attempts > 200) {\n",
       "          clearInterval(timer);\n",
       "          console.log(\"Bokeh: ERROR: Unable to run BokehJS code because BokehJS library is missing\");\n",
       "        }\n",
       "      }\n",
       "    }, 25, root)\n",
       "  }\n",
       "})(window);</script>"
      ],
      "text/plain": [
       ":NdOverlay   [Variable]\n",
       "   :Curve   [Date]   (value)"
      ]
     },
     "execution_count": 55,
     "metadata": {
      "application/vnd.holoviews_exec.v0+json": {
       "id": "3846"
      }
     },
     "output_type": "execute_result"
    }
   ],
   "source": [
    "# Plot Strategy Returns to examine performance\n",
    "(1 + G_signals_df[['Strategy Returns', 'Actual Returns']]).cumprod().hvplot()"
   ]
  },
  {
   "cell_type": "code",
   "execution_count": 82,
   "metadata": {
    "colab": {
     "base_uri": "https://localhost:8080/",
     "height": 394
    },
    "id": "806LB0-D0aC9",
    "outputId": "fbdf7f63-fff4-4422-8134-87cc380f3799"
   },
   "outputs": [
    {
     "data": {
      "text/html": [
       "<div>\n",
       "<style scoped>\n",
       "    .dataframe tbody tr th:only-of-type {\n",
       "        vertical-align: middle;\n",
       "    }\n",
       "\n",
       "    .dataframe tbody tr th {\n",
       "        vertical-align: top;\n",
       "    }\n",
       "\n",
       "    .dataframe thead th {\n",
       "        text-align: right;\n",
       "    }\n",
       "</style>\n",
       "<table border=\"1\" class=\"dataframe\">\n",
       "  <thead>\n",
       "    <tr style=\"text-align: right;\">\n",
       "      <th></th>\n",
       "      <th>Close</th>\n",
       "      <th>Actual Returns</th>\n",
       "      <th>SMA_Fast</th>\n",
       "      <th>SMA_Slow</th>\n",
       "      <th>Signal</th>\n",
       "      <th>Strategy Returns</th>\n",
       "      <th>Entry/Exit</th>\n",
       "      <th>Position</th>\n",
       "      <th>Entry/Exit Position</th>\n",
       "      <th>Portfolio Holdings</th>\n",
       "      <th>Portfolio Cash</th>\n",
       "      <th>Portfolio Total</th>\n",
       "      <th>Portfolio Daily Returns</th>\n",
       "      <th>Portfolio Cumulative Returns</th>\n",
       "    </tr>\n",
       "    <tr>\n",
       "      <th>Date</th>\n",
       "      <th></th>\n",
       "      <th></th>\n",
       "      <th></th>\n",
       "      <th></th>\n",
       "      <th></th>\n",
       "      <th></th>\n",
       "      <th></th>\n",
       "      <th></th>\n",
       "      <th></th>\n",
       "      <th></th>\n",
       "      <th></th>\n",
       "      <th></th>\n",
       "      <th></th>\n",
       "      <th></th>\n",
       "    </tr>\n",
       "  </thead>\n",
       "  <tbody>\n",
       "    <tr>\n",
       "      <th>2022-03-09</th>\n",
       "      <td>2677.320068</td>\n",
       "      <td>0.051757</td>\n",
       "      <td>2728.970420</td>\n",
       "      <td>2822.154214</td>\n",
       "      <td>0.0</td>\n",
       "      <td>0.0</td>\n",
       "      <td>0.0</td>\n",
       "      <td>0.0</td>\n",
       "      <td>0.0</td>\n",
       "      <td>0.0</td>\n",
       "      <td>714644.989</td>\n",
       "      <td>714644.989</td>\n",
       "      <td>0.0</td>\n",
       "      <td>6.14645</td>\n",
       "    </tr>\n",
       "    <tr>\n",
       "      <th>2022-03-10</th>\n",
       "      <td>2653.639893</td>\n",
       "      <td>-0.008845</td>\n",
       "      <td>2723.464019</td>\n",
       "      <td>2820.355613</td>\n",
       "      <td>0.0</td>\n",
       "      <td>-0.0</td>\n",
       "      <td>0.0</td>\n",
       "      <td>0.0</td>\n",
       "      <td>0.0</td>\n",
       "      <td>0.0</td>\n",
       "      <td>714644.989</td>\n",
       "      <td>714644.989</td>\n",
       "      <td>0.0</td>\n",
       "      <td>6.14645</td>\n",
       "    </tr>\n",
       "    <tr>\n",
       "      <th>2022-03-11</th>\n",
       "      <td>2609.510010</td>\n",
       "      <td>-0.016630</td>\n",
       "      <td>2717.052417</td>\n",
       "      <td>2817.858613</td>\n",
       "      <td>0.0</td>\n",
       "      <td>-0.0</td>\n",
       "      <td>0.0</td>\n",
       "      <td>0.0</td>\n",
       "      <td>0.0</td>\n",
       "      <td>0.0</td>\n",
       "      <td>714644.989</td>\n",
       "      <td>714644.989</td>\n",
       "      <td>0.0</td>\n",
       "      <td>6.14645</td>\n",
       "    </tr>\n",
       "    <tr>\n",
       "      <th>2022-03-14</th>\n",
       "      <td>2534.820068</td>\n",
       "      <td>-0.028622</td>\n",
       "      <td>2709.347817</td>\n",
       "      <td>2814.442415</td>\n",
       "      <td>0.0</td>\n",
       "      <td>-0.0</td>\n",
       "      <td>0.0</td>\n",
       "      <td>0.0</td>\n",
       "      <td>0.0</td>\n",
       "      <td>0.0</td>\n",
       "      <td>714644.989</td>\n",
       "      <td>714644.989</td>\n",
       "      <td>0.0</td>\n",
       "      <td>6.14645</td>\n",
       "    </tr>\n",
       "    <tr>\n",
       "      <th>2022-03-15</th>\n",
       "      <td>2593.209961</td>\n",
       "      <td>0.023035</td>\n",
       "      <td>2703.340215</td>\n",
       "      <td>2811.891514</td>\n",
       "      <td>0.0</td>\n",
       "      <td>0.0</td>\n",
       "      <td>0.0</td>\n",
       "      <td>0.0</td>\n",
       "      <td>0.0</td>\n",
       "      <td>0.0</td>\n",
       "      <td>714644.989</td>\n",
       "      <td>714644.989</td>\n",
       "      <td>0.0</td>\n",
       "      <td>6.14645</td>\n",
       "    </tr>\n",
       "  </tbody>\n",
       "</table>\n",
       "</div>"
      ],
      "text/plain": [
       "                  Close  Actual Returns     SMA_Fast     SMA_Slow  Signal  \\\n",
       "Date                                                                        \n",
       "2022-03-09  2677.320068        0.051757  2728.970420  2822.154214     0.0   \n",
       "2022-03-10  2653.639893       -0.008845  2723.464019  2820.355613     0.0   \n",
       "2022-03-11  2609.510010       -0.016630  2717.052417  2817.858613     0.0   \n",
       "2022-03-14  2534.820068       -0.028622  2709.347817  2814.442415     0.0   \n",
       "2022-03-15  2593.209961        0.023035  2703.340215  2811.891514     0.0   \n",
       "\n",
       "            Strategy Returns  Entry/Exit  Position  Entry/Exit Position  \\\n",
       "Date                                                                      \n",
       "2022-03-09               0.0         0.0       0.0                  0.0   \n",
       "2022-03-10              -0.0         0.0       0.0                  0.0   \n",
       "2022-03-11              -0.0         0.0       0.0                  0.0   \n",
       "2022-03-14              -0.0         0.0       0.0                  0.0   \n",
       "2022-03-15               0.0         0.0       0.0                  0.0   \n",
       "\n",
       "            Portfolio Holdings  Portfolio Cash  Portfolio Total  \\\n",
       "Date                                                              \n",
       "2022-03-09                 0.0      714644.989       714644.989   \n",
       "2022-03-10                 0.0      714644.989       714644.989   \n",
       "2022-03-11                 0.0      714644.989       714644.989   \n",
       "2022-03-14                 0.0      714644.989       714644.989   \n",
       "2022-03-15                 0.0      714644.989       714644.989   \n",
       "\n",
       "            Portfolio Daily Returns  Portfolio Cumulative Returns  \n",
       "Date                                                               \n",
       "2022-03-09                      0.0                       6.14645  \n",
       "2022-03-10                      0.0                       6.14645  \n",
       "2022-03-11                      0.0                       6.14645  \n",
       "2022-03-14                      0.0                       6.14645  \n",
       "2022-03-15                      0.0                       6.14645  "
      ]
     },
     "execution_count": 82,
     "metadata": {},
     "output_type": "execute_result"
    }
   ],
   "source": [
    "# Calculate the points in time at which a position should be taken, 1 or -1\n",
    "G_signals_df['Entry/Exit'] = G_signals_df['Signal'].diff()\n",
    "\n",
    "# Review the DataFrame\n",
    "G_signals_df.tail()"
   ]
  },
  {
   "cell_type": "markdown",
   "metadata": {
    "id": "vUhnYSYf0aC9",
    "tags": []
   },
   "source": [
    "### Backtesting The Strategy"
   ]
  },
  {
   "cell_type": "code",
   "execution_count": 57,
   "metadata": {
    "colab": {
     "base_uri": "https://localhost:8080/",
     "height": 569
    },
    "id": "QXQnxsiX0aC-",
    "outputId": "a1646c49-bef7-442a-8f9d-5e25b9064b2e"
   },
   "outputs": [
    {
     "data": {
      "text/html": [
       "<div>\n",
       "<style scoped>\n",
       "    .dataframe tbody tr th:only-of-type {\n",
       "        vertical-align: middle;\n",
       "    }\n",
       "\n",
       "    .dataframe tbody tr th {\n",
       "        vertical-align: top;\n",
       "    }\n",
       "\n",
       "    .dataframe thead th {\n",
       "        text-align: right;\n",
       "    }\n",
       "</style>\n",
       "<table border=\"1\" class=\"dataframe\">\n",
       "  <thead>\n",
       "    <tr style=\"text-align: right;\">\n",
       "      <th></th>\n",
       "      <th>Close</th>\n",
       "      <th>Actual Returns</th>\n",
       "      <th>SMA_Fast</th>\n",
       "      <th>SMA_Slow</th>\n",
       "      <th>Signal</th>\n",
       "      <th>Strategy Returns</th>\n",
       "      <th>Entry/Exit</th>\n",
       "      <th>Position</th>\n",
       "      <th>Entry/Exit Position</th>\n",
       "      <th>Portfolio Holdings</th>\n",
       "      <th>Portfolio Cash</th>\n",
       "      <th>Portfolio Total</th>\n",
       "      <th>Portfolio Daily Returns</th>\n",
       "      <th>Portfolio Cumulative Returns</th>\n",
       "    </tr>\n",
       "    <tr>\n",
       "      <th>Date</th>\n",
       "      <th></th>\n",
       "      <th></th>\n",
       "      <th></th>\n",
       "      <th></th>\n",
       "      <th></th>\n",
       "      <th></th>\n",
       "      <th></th>\n",
       "      <th></th>\n",
       "      <th></th>\n",
       "      <th></th>\n",
       "      <th></th>\n",
       "      <th></th>\n",
       "      <th></th>\n",
       "      <th></th>\n",
       "    </tr>\n",
       "  </thead>\n",
       "  <tbody>\n",
       "    <tr>\n",
       "      <th>2017-08-10</th>\n",
       "      <td>907.239990</td>\n",
       "      <td>-0.016968</td>\n",
       "      <td>944.785807</td>\n",
       "      <td>913.655802</td>\n",
       "      <td>0.0</td>\n",
       "      <td>-0.0</td>\n",
       "      <td>0.0</td>\n",
       "      <td>0.0</td>\n",
       "      <td>0.0</td>\n",
       "      <td>0.0</td>\n",
       "      <td>100000.0</td>\n",
       "      <td>100000.0</td>\n",
       "      <td>0.0</td>\n",
       "      <td>0.0</td>\n",
       "    </tr>\n",
       "    <tr>\n",
       "      <th>2017-08-11</th>\n",
       "      <td>914.390015</td>\n",
       "      <td>0.007881</td>\n",
       "      <td>943.734607</td>\n",
       "      <td>914.495102</td>\n",
       "      <td>0.0</td>\n",
       "      <td>0.0</td>\n",
       "      <td>0.0</td>\n",
       "      <td>0.0</td>\n",
       "      <td>0.0</td>\n",
       "      <td>0.0</td>\n",
       "      <td>100000.0</td>\n",
       "      <td>100000.0</td>\n",
       "      <td>0.0</td>\n",
       "      <td>0.0</td>\n",
       "    </tr>\n",
       "    <tr>\n",
       "      <th>2017-08-14</th>\n",
       "      <td>922.669983</td>\n",
       "      <td>0.009055</td>\n",
       "      <td>942.676007</td>\n",
       "      <td>915.425901</td>\n",
       "      <td>0.0</td>\n",
       "      <td>0.0</td>\n",
       "      <td>0.0</td>\n",
       "      <td>0.0</td>\n",
       "      <td>0.0</td>\n",
       "      <td>0.0</td>\n",
       "      <td>100000.0</td>\n",
       "      <td>100000.0</td>\n",
       "      <td>0.0</td>\n",
       "      <td>0.0</td>\n",
       "    </tr>\n",
       "    <tr>\n",
       "      <th>2017-08-15</th>\n",
       "      <td>922.219971</td>\n",
       "      <td>-0.000488</td>\n",
       "      <td>941.446807</td>\n",
       "      <td>916.472301</td>\n",
       "      <td>0.0</td>\n",
       "      <td>-0.0</td>\n",
       "      <td>0.0</td>\n",
       "      <td>0.0</td>\n",
       "      <td>0.0</td>\n",
       "      <td>0.0</td>\n",
       "      <td>100000.0</td>\n",
       "      <td>100000.0</td>\n",
       "      <td>0.0</td>\n",
       "      <td>0.0</td>\n",
       "    </tr>\n",
       "    <tr>\n",
       "      <th>2017-08-16</th>\n",
       "      <td>926.960022</td>\n",
       "      <td>0.005140</td>\n",
       "      <td>940.454607</td>\n",
       "      <td>917.597601</td>\n",
       "      <td>0.0</td>\n",
       "      <td>0.0</td>\n",
       "      <td>0.0</td>\n",
       "      <td>0.0</td>\n",
       "      <td>0.0</td>\n",
       "      <td>0.0</td>\n",
       "      <td>100000.0</td>\n",
       "      <td>100000.0</td>\n",
       "      <td>0.0</td>\n",
       "      <td>0.0</td>\n",
       "    </tr>\n",
       "    <tr>\n",
       "      <th>2017-08-17</th>\n",
       "      <td>910.979980</td>\n",
       "      <td>-0.017239</td>\n",
       "      <td>939.055406</td>\n",
       "      <td>918.512301</td>\n",
       "      <td>0.0</td>\n",
       "      <td>-0.0</td>\n",
       "      <td>0.0</td>\n",
       "      <td>0.0</td>\n",
       "      <td>0.0</td>\n",
       "      <td>0.0</td>\n",
       "      <td>100000.0</td>\n",
       "      <td>100000.0</td>\n",
       "      <td>0.0</td>\n",
       "      <td>0.0</td>\n",
       "    </tr>\n",
       "    <tr>\n",
       "      <th>2017-08-18</th>\n",
       "      <td>910.669983</td>\n",
       "      <td>-0.000340</td>\n",
       "      <td>937.600607</td>\n",
       "      <td>919.409801</td>\n",
       "      <td>0.0</td>\n",
       "      <td>-0.0</td>\n",
       "      <td>0.0</td>\n",
       "      <td>0.0</td>\n",
       "      <td>0.0</td>\n",
       "      <td>0.0</td>\n",
       "      <td>100000.0</td>\n",
       "      <td>100000.0</td>\n",
       "      <td>0.0</td>\n",
       "      <td>0.0</td>\n",
       "    </tr>\n",
       "    <tr>\n",
       "      <th>2017-08-21</th>\n",
       "      <td>906.659973</td>\n",
       "      <td>-0.004403</td>\n",
       "      <td>936.737206</td>\n",
       "      <td>920.162301</td>\n",
       "      <td>0.0</td>\n",
       "      <td>-0.0</td>\n",
       "      <td>0.0</td>\n",
       "      <td>0.0</td>\n",
       "      <td>0.0</td>\n",
       "      <td>0.0</td>\n",
       "      <td>100000.0</td>\n",
       "      <td>100000.0</td>\n",
       "      <td>0.0</td>\n",
       "      <td>0.0</td>\n",
       "    </tr>\n",
       "  </tbody>\n",
       "</table>\n",
       "</div>"
      ],
      "text/plain": [
       "                 Close  Actual Returns    SMA_Fast    SMA_Slow  Signal  \\\n",
       "Date                                                                     \n",
       "2017-08-10  907.239990       -0.016968  944.785807  913.655802     0.0   \n",
       "2017-08-11  914.390015        0.007881  943.734607  914.495102     0.0   \n",
       "2017-08-14  922.669983        0.009055  942.676007  915.425901     0.0   \n",
       "2017-08-15  922.219971       -0.000488  941.446807  916.472301     0.0   \n",
       "2017-08-16  926.960022        0.005140  940.454607  917.597601     0.0   \n",
       "2017-08-17  910.979980       -0.017239  939.055406  918.512301     0.0   \n",
       "2017-08-18  910.669983       -0.000340  937.600607  919.409801     0.0   \n",
       "2017-08-21  906.659973       -0.004403  936.737206  920.162301     0.0   \n",
       "\n",
       "            Strategy Returns  Entry/Exit  Position  Entry/Exit Position  \\\n",
       "Date                                                                      \n",
       "2017-08-10              -0.0         0.0       0.0                  0.0   \n",
       "2017-08-11               0.0         0.0       0.0                  0.0   \n",
       "2017-08-14               0.0         0.0       0.0                  0.0   \n",
       "2017-08-15              -0.0         0.0       0.0                  0.0   \n",
       "2017-08-16               0.0         0.0       0.0                  0.0   \n",
       "2017-08-17              -0.0         0.0       0.0                  0.0   \n",
       "2017-08-18              -0.0         0.0       0.0                  0.0   \n",
       "2017-08-21              -0.0         0.0       0.0                  0.0   \n",
       "\n",
       "            Portfolio Holdings  Portfolio Cash  Portfolio Total  \\\n",
       "Date                                                              \n",
       "2017-08-10                 0.0        100000.0         100000.0   \n",
       "2017-08-11                 0.0        100000.0         100000.0   \n",
       "2017-08-14                 0.0        100000.0         100000.0   \n",
       "2017-08-15                 0.0        100000.0         100000.0   \n",
       "2017-08-16                 0.0        100000.0         100000.0   \n",
       "2017-08-17                 0.0        100000.0         100000.0   \n",
       "2017-08-18                 0.0        100000.0         100000.0   \n",
       "2017-08-21                 0.0        100000.0         100000.0   \n",
       "\n",
       "            Portfolio Daily Returns  Portfolio Cumulative Returns  \n",
       "Date                                                               \n",
       "2017-08-10                      0.0                           0.0  \n",
       "2017-08-11                      0.0                           0.0  \n",
       "2017-08-14                      0.0                           0.0  \n",
       "2017-08-15                      0.0                           0.0  \n",
       "2017-08-16                      0.0                           0.0  \n",
       "2017-08-17                      0.0                           0.0  \n",
       "2017-08-18                      0.0                           0.0  \n",
       "2017-08-21                      0.0                           0.0  "
      ]
     },
     "execution_count": 57,
     "metadata": {},
     "output_type": "execute_result"
    }
   ],
   "source": [
    "# Set the initial capital\n",
    "initial_capital = float(100000)\n",
    "\n",
    "# Set the share size\n",
    "share_size = 500\n",
    "\n",
    "# Take a 500 share position where the dual moving average crossover is 1 (SMA50 is greater than SMA100)\n",
    "G_signals_df[\"Position\"] = share_size * G_signals_df[\"Signal\"]\n",
    "\n",
    "# Find the points in time where a 500 share position is bought or sold\n",
    "G_signals_df[\"Entry/Exit Position\"] = G_signals_df[\"Position\"].diff()\n",
    "\n",
    "# Multiply share price by entry/exit positions and get the cumulatively sum\n",
    "G_signals_df[\"Portfolio Holdings\"] = (\n",
    "    G_signals_df[\"Close\"] * G_signals_df[\"Entry/Exit Position\"].cumsum()\n",
    ")\n",
    "\n",
    "# Subtract the initial capital by the portfolio holdings to get the amount of liquid cash in the portfolio\n",
    "G_signals_df[\"Portfolio Cash\"] = (\n",
    "    initial_capital - (G_signals_df[\"Close\"] * G_signals_df[\"Entry/Exit Position\"]).cumsum()\n",
    ")\n",
    "\n",
    "# Get the total portfolio value by adding the cash amount by the portfolio holdings (or investments)\n",
    "G_signals_df[\"Portfolio Total\"] = (\n",
    "    G_signals_df[\"Portfolio Cash\"] + G_signals_df[\"Portfolio Holdings\"]\n",
    ")\n",
    "\n",
    "# Calculate the portfolio daily returns\n",
    "G_signals_df[\"Portfolio Daily Returns\"] = G_signals_df[\"Portfolio Total\"].pct_change()\n",
    "\n",
    "# Calculate the cumulative returns\n",
    "G_signals_df[\"Portfolio Cumulative Returns\"] = (\n",
    "    1 + G_signals_df[\"Portfolio Daily Returns\"]\n",
    ").cumprod() - 1\n",
    "\n",
    "\n",
    "# Print the DataFrame\n",
    "G_signals_df.head(10).dropna()\n",
    "\n"
   ]
  },
  {
   "cell_type": "markdown",
   "metadata": {
    "id": "9t6ZkHrk0aC-"
   },
   "source": [
    "## Plot Entry/Exit Points of Backtest Results"
   ]
  },
  {
   "cell_type": "code",
   "execution_count": 58,
   "metadata": {
    "colab": {
     "base_uri": "https://localhost:8080/",
     "height": 17
    },
    "id": "vCXEnNeF0aC-",
    "outputId": "7b1f8a6b-34b0-4a1c-9fc1-4155b4ba0513"
   },
   "outputs": [
    {
     "data": {},
     "metadata": {},
     "output_type": "display_data"
    },
    {
     "data": {
      "application/vnd.holoviews_exec.v0+json": "",
      "text/html": [
       "<div id='4293'>\n",
       "\n",
       "\n",
       "\n",
       "\n",
       "\n",
       "  <div class=\"bk-root\" id=\"22b27839-6456-46bb-a6ce-548a0c71deb1\" data-root-id=\"4293\"></div>\n",
       "</div>\n",
       "<script type=\"application/javascript\">(function(root) {\n",
       "  function embed_document(root) {\n",
       "    var docs_json = {\"602ec2c8-28a7-498a-ba40-6e3abaf2b447\":{\"defs\":[{\"extends\":null,\"module\":null,\"name\":\"ReactiveHTML1\",\"overrides\":[],\"properties\":[]},{\"extends\":null,\"module\":null,\"name\":\"FlexBox1\",\"overrides\":[],\"properties\":[{\"default\":\"flex-start\",\"kind\":null,\"name\":\"align_content\"},{\"default\":\"flex-start\",\"kind\":null,\"name\":\"align_items\"},{\"default\":\"row\",\"kind\":null,\"name\":\"flex_direction\"},{\"default\":\"wrap\",\"kind\":null,\"name\":\"flex_wrap\"},{\"default\":\"flex-start\",\"kind\":null,\"name\":\"justify_content\"}]},{\"extends\":null,\"module\":null,\"name\":\"TemplateActions1\",\"overrides\":[],\"properties\":[{\"default\":0,\"kind\":null,\"name\":\"open_modal\"},{\"default\":0,\"kind\":null,\"name\":\"close_modal\"}]},{\"extends\":null,\"module\":null,\"name\":\"MaterialTemplateActions1\",\"overrides\":[],\"properties\":[{\"default\":0,\"kind\":null,\"name\":\"open_modal\"},{\"default\":0,\"kind\":null,\"name\":\"close_modal\"}]}],\"roots\":{\"references\":[{\"attributes\":{\"base\":24,\"mantissas\":[1,2,4,6,8,12],\"max_interval\":43200000.0,\"min_interval\":3600000.0,\"num_minor_ticks\":0},\"id\":\"4381\",\"type\":\"AdaptiveTicker\"},{\"attributes\":{\"line_color\":\"lightgray\",\"line_width\":2,\"x\":{\"field\":\"Date\"},\"y\":{\"field\":\"Portfolio Total\"}},\"id\":\"4347\",\"type\":\"Line\"},{\"attributes\":{\"below\":[{\"id\":\"4309\"}],\"center\":[{\"id\":\"4312\"},{\"id\":\"4316\"}],\"height\":400,\"left\":[{\"id\":\"4313\"}],\"margin\":[5,5,5,5],\"min_border_bottom\":10,\"min_border_left\":10,\"min_border_right\":10,\"min_border_top\":10,\"renderers\":[{\"id\":\"4345\"},{\"id\":\"4354\"},{\"id\":\"4363\"}],\"sizing_mode\":\"fixed\",\"title\":{\"id\":\"4301\"},\"toolbar\":{\"id\":\"4323\"},\"width\":1000,\"x_range\":{\"id\":\"4295\"},\"x_scale\":{\"id\":\"4305\"},\"y_range\":{\"id\":\"4296\"},\"y_scale\":{\"id\":\"4307\"}},\"id\":\"4300\",\"subtype\":\"Figure\",\"type\":\"Plot\"},{\"attributes\":{\"coordinates\":null,\"data_source\":{\"id\":\"4339\"},\"glyph\":{\"id\":\"4342\"},\"group\":null,\"hover_glyph\":null,\"muted_glyph\":{\"id\":\"4344\"},\"nonselection_glyph\":{\"id\":\"4343\"},\"selection_glyph\":{\"id\":\"4347\"},\"view\":{\"id\":\"4346\"}},\"id\":\"4345\",\"type\":\"GlyphRenderer\"},{\"attributes\":{\"days\":[1,2,3,4,5,6,7,8,9,10,11,12,13,14,15,16,17,18,19,20,21,22,23,24,25,26,27,28,29,30,31]},\"id\":\"4382\",\"type\":\"DaysTicker\"},{\"attributes\":{\"line_alpha\":0.1,\"line_color\":\"lightgray\",\"line_width\":2,\"x\":{\"field\":\"Date\"},\"y\":{\"field\":\"Portfolio Total\"}},\"id\":\"4343\",\"type\":\"Line\"},{\"attributes\":{\"source\":{\"id\":\"4339\"}},\"id\":\"4346\",\"type\":\"CDSView\"},{\"attributes\":{\"days\":[1,4,7,10,13,16,19,22,25,28]},\"id\":\"4383\",\"type\":\"DaysTicker\"},{\"attributes\":{\"data\":{\"Date\":{\"__ndarray__\":\"AACA08QrdkIAAECJ42l2QgAAAFN1t3ZCAAAANN4Sd0IAAAC13+l3Qg==\",\"dtype\":\"float64\",\"order\":\"little\",\"shape\":[5]},\"Portfolio Total\":{\"__ndarray__\":\"kBgEVlCV/0DgT42Xv/74QHgUrkf/O/lA4Pup8T+R9UA+NV76Kc8lQQ==\",\"dtype\":\"float64\",\"order\":\"little\",\"shape\":[5]},\"Portfolio_Total\":{\"__ndarray__\":\"kBgEVlCV/0DgT42Xv/74QHgUrkf/O/lA4Pup8T+R9UA+NV76Kc8lQQ==\",\"dtype\":\"float64\",\"order\":\"little\",\"shape\":[5]}},\"selected\":{\"id\":\"4358\"},\"selection_policy\":{\"id\":\"4376\"}},\"id\":\"4357\",\"type\":\"ColumnDataSource\"},{\"attributes\":{\"format\":\"%.0f\"},\"id\":\"4330\",\"type\":\"PrintfTickFormatter\"},{\"attributes\":{\"days\":[1,8,15,22]},\"id\":\"4384\",\"type\":\"DaysTicker\"},{\"attributes\":{},\"id\":\"4314\",\"type\":\"BasicTicker\"},{\"attributes\":{\"line_alpha\":0.2,\"line_color\":\"lightgray\",\"line_width\":2,\"x\":{\"field\":\"Date\"},\"y\":{\"field\":\"Portfolio Total\"}},\"id\":\"4344\",\"type\":\"Line\"},{\"attributes\":{\"days\":[1,15]},\"id\":\"4385\",\"type\":\"DaysTicker\"},{\"attributes\":{},\"id\":\"4305\",\"type\":\"LinearScale\"},{\"attributes\":{},\"id\":\"4349\",\"type\":\"Selection\"},{\"attributes\":{\"months\":[0,1,2,3,4,5,6,7,8,9,10,11]},\"id\":\"4386\",\"type\":\"MonthsTicker\"},{\"attributes\":{\"source\":{\"id\":\"4357\"}},\"id\":\"4364\",\"type\":\"CDSView\"},{\"attributes\":{\"base\":60,\"mantissas\":[1,2,5,10,15,20,30],\"max_interval\":1800000.0,\"min_interval\":1000.0,\"num_minor_ticks\":0},\"id\":\"4380\",\"type\":\"AdaptiveTicker\"},{\"attributes\":{\"months\":[0,2,4,6,8,10]},\"id\":\"4387\",\"type\":\"MonthsTicker\"},{\"attributes\":{\"months\":[0,4,8]},\"id\":\"4388\",\"type\":\"MonthsTicker\"},{\"attributes\":{\"axis_label\":\"Date\",\"coordinates\":null,\"formatter\":{\"id\":\"4332\"},\"group\":null,\"major_label_policy\":{\"id\":\"4333\"},\"ticker\":{\"id\":\"4310\"}},\"id\":\"4309\",\"type\":\"DatetimeAxis\"},{\"attributes\":{\"coordinates\":null,\"data_source\":{\"id\":\"4348\"},\"glyph\":{\"id\":\"4351\"},\"group\":null,\"hover_glyph\":null,\"muted_glyph\":{\"id\":\"4353\"},\"nonselection_glyph\":{\"id\":\"4352\"},\"selection_glyph\":{\"id\":\"4356\"},\"view\":{\"id\":\"4355\"}},\"id\":\"4354\",\"type\":\"GlyphRenderer\"},{\"attributes\":{\"months\":[0,6]},\"id\":\"4389\",\"type\":\"MonthsTicker\"},{\"attributes\":{},\"id\":\"4340\",\"type\":\"Selection\"},{\"attributes\":{},\"id\":\"4390\",\"type\":\"YearsTicker\"},{\"attributes\":{},\"id\":\"4307\",\"type\":\"LinearScale\"},{\"attributes\":{\"source\":{\"id\":\"4348\"}},\"id\":\"4355\",\"type\":\"CDSView\"},{\"attributes\":{\"fill_alpha\":{\"value\":0.1},\"fill_color\":{\"value\":\"purple\"},\"hatch_alpha\":{\"value\":0.1},\"hatch_color\":{\"value\":\"purple\"},\"line_alpha\":{\"value\":0.1},\"line_color\":{\"value\":\"purple\"},\"marker\":{\"value\":\"triangle\"},\"size\":{\"value\":5.477225575051661},\"x\":{\"field\":\"Date\"},\"y\":{\"field\":\"Portfolio Total\"}},\"id\":\"4352\",\"type\":\"Scatter\"},{\"attributes\":{\"num_minor_ticks\":5,\"tickers\":[{\"id\":\"4379\"},{\"id\":\"4380\"},{\"id\":\"4381\"},{\"id\":\"4382\"},{\"id\":\"4383\"},{\"id\":\"4384\"},{\"id\":\"4385\"},{\"id\":\"4386\"},{\"id\":\"4387\"},{\"id\":\"4388\"},{\"id\":\"4389\"},{\"id\":\"4390\"}]},\"id\":\"4310\",\"type\":\"DatetimeTicker\"},{\"attributes\":{\"coordinates\":null,\"group\":null,\"text\":\"GOOGLE - Total Portfolio Value\",\"text_color\":\"black\",\"text_font_size\":\"12pt\"},\"id\":\"4301\",\"type\":\"Title\"},{\"attributes\":{},\"id\":\"4374\",\"type\":\"UnionRenderers\"},{\"attributes\":{\"line_color\":\"lightgray\",\"line_width\":2,\"x\":{\"field\":\"Date\"},\"y\":{\"field\":\"Portfolio Total\"}},\"id\":\"4342\",\"type\":\"Line\"},{\"attributes\":{\"fill_color\":{\"value\":\"purple\"},\"hatch_color\":{\"value\":\"purple\"},\"line_color\":{\"value\":\"purple\"},\"marker\":{\"value\":\"triangle\"},\"size\":{\"value\":5.477225575051661},\"x\":{\"field\":\"Date\"},\"y\":{\"field\":\"Portfolio Total\"}},\"id\":\"4351\",\"type\":\"Scatter\"},{\"attributes\":{\"axis\":{\"id\":\"4309\"},\"coordinates\":null,\"grid_line_color\":null,\"group\":null,\"ticker\":null},\"id\":\"4312\",\"type\":\"Grid\"},{\"attributes\":{\"axis\":{\"id\":\"4313\"},\"coordinates\":null,\"dimension\":1,\"grid_line_color\":null,\"group\":null,\"ticker\":null},\"id\":\"4316\",\"type\":\"Grid\"},{\"attributes\":{\"axis_label\":\"Total Portfolio Value\",\"coordinates\":null,\"formatter\":{\"id\":\"4330\"},\"group\":null,\"major_label_policy\":{\"id\":\"4336\"},\"ticker\":{\"id\":\"4314\"}},\"id\":\"4313\",\"type\":\"LinearAxis\"},{\"attributes\":{\"margin\":[5,5,5,5],\"name\":\"HSpacer06077\",\"sizing_mode\":\"stretch_width\"},\"id\":\"4591\",\"type\":\"Spacer\"},{\"attributes\":{\"fill_alpha\":{\"value\":0.2},\"fill_color\":{\"value\":\"purple\"},\"hatch_alpha\":{\"value\":0.2},\"hatch_color\":{\"value\":\"purple\"},\"line_alpha\":{\"value\":0.2},\"line_color\":{\"value\":\"purple\"},\"marker\":{\"value\":\"triangle\"},\"size\":{\"value\":5.477225575051661},\"x\":{\"field\":\"Date\"},\"y\":{\"field\":\"Portfolio Total\"}},\"id\":\"4353\",\"type\":\"Scatter\"},{\"attributes\":{},\"id\":\"4336\",\"type\":\"AllLabels\"},{\"attributes\":{\"margin\":[5,5,5,5],\"name\":\"HSpacer06076\",\"sizing_mode\":\"stretch_width\"},\"id\":\"4294\",\"type\":\"Spacer\"},{\"attributes\":{\"angle\":{\"value\":0},\"fill_alpha\":{\"value\":1.0},\"fill_color\":{\"value\":\"purple\"},\"hatch_alpha\":{\"value\":1.0},\"hatch_color\":{\"value\":\"purple\"},\"hatch_scale\":{\"value\":12.0},\"hatch_weight\":{\"value\":1.0},\"line_alpha\":{\"value\":1.0},\"line_cap\":{\"value\":\"butt\"},\"line_color\":{\"value\":\"purple\"},\"line_dash\":{\"value\":[]},\"line_dash_offset\":{\"value\":0},\"line_join\":{\"value\":\"bevel\"},\"line_width\":{\"value\":1},\"marker\":{\"value\":\"triangle\"},\"size\":{\"value\":5.477225575051661},\"x\":{\"field\":\"Date\"},\"y\":{\"field\":\"Portfolio Total\"}},\"id\":\"4356\",\"type\":\"Scatter\"},{\"attributes\":{},\"id\":\"4333\",\"type\":\"AllLabels\"},{\"attributes\":{\"angle\":{\"value\":3.141592653589793},\"fill_alpha\":{\"value\":1.0},\"fill_color\":{\"value\":\"blue\"},\"hatch_alpha\":{\"value\":1.0},\"hatch_color\":{\"value\":\"blue\"},\"hatch_scale\":{\"value\":12.0},\"hatch_weight\":{\"value\":1.0},\"line_alpha\":{\"value\":1.0},\"line_cap\":{\"value\":\"butt\"},\"line_color\":{\"value\":\"blue\"},\"line_dash\":{\"value\":[]},\"line_dash_offset\":{\"value\":0},\"line_join\":{\"value\":\"bevel\"},\"line_width\":{\"value\":1},\"marker\":{\"value\":\"triangle\"},\"size\":{\"value\":5.477225575051661},\"x\":{\"field\":\"Date\"},\"y\":{\"field\":\"Portfolio Total\"}},\"id\":\"4365\",\"type\":\"Scatter\"},{\"attributes\":{\"angle\":{\"value\":3.141592653589793},\"fill_color\":{\"value\":\"blue\"},\"hatch_color\":{\"value\":\"blue\"},\"line_color\":{\"value\":\"blue\"},\"marker\":{\"value\":\"triangle\"},\"size\":{\"value\":5.477225575051661},\"x\":{\"field\":\"Date\"},\"y\":{\"field\":\"Portfolio Total\"}},\"id\":\"4360\",\"type\":\"Scatter\"},{\"attributes\":{\"end\":974199.4326,\"reset_end\":974199.4326,\"reset_start\":-50114.53259999999,\"start\":-50114.53259999999,\"tags\":[[[\"Portfolio Total\",\"Portfolio Total\",null]]]},\"id\":\"4296\",\"type\":\"Range1d\"},{\"attributes\":{},\"id\":\"4317\",\"type\":\"SaveTool\"},{\"attributes\":{\"angle\":{\"value\":3.141592653589793},\"fill_alpha\":{\"value\":0.2},\"fill_color\":{\"value\":\"blue\"},\"hatch_alpha\":{\"value\":0.2},\"hatch_color\":{\"value\":\"blue\"},\"line_alpha\":{\"value\":0.2},\"line_color\":{\"value\":\"blue\"},\"marker\":{\"value\":\"triangle\"},\"size\":{\"value\":5.477225575051661},\"x\":{\"field\":\"Date\"},\"y\":{\"field\":\"Portfolio Total\"}},\"id\":\"4362\",\"type\":\"Scatter\"},{\"attributes\":{},\"id\":\"4318\",\"type\":\"PanTool\"},{\"attributes\":{\"angle\":{\"value\":3.141592653589793},\"fill_alpha\":{\"value\":0.1},\"fill_color\":{\"value\":\"blue\"},\"hatch_alpha\":{\"value\":0.1},\"hatch_color\":{\"value\":\"blue\"},\"line_alpha\":{\"value\":0.1},\"line_color\":{\"value\":\"blue\"},\"marker\":{\"value\":\"triangle\"},\"size\":{\"value\":5.477225575051661},\"x\":{\"field\":\"Date\"},\"y\":{\"field\":\"Portfolio Total\"}},\"id\":\"4361\",\"type\":\"Scatter\"},{\"attributes\":{},\"id\":\"4319\",\"type\":\"WheelZoomTool\"},{\"attributes\":{\"tools\":[{\"id\":\"4297\"},{\"id\":\"4317\"},{\"id\":\"4318\"},{\"id\":\"4319\"},{\"id\":\"4320\"},{\"id\":\"4321\"}]},\"id\":\"4323\",\"type\":\"Toolbar\"},{\"attributes\":{\"coordinates\":null,\"data_source\":{\"id\":\"4357\"},\"glyph\":{\"id\":\"4360\"},\"group\":null,\"hover_glyph\":null,\"muted_glyph\":{\"id\":\"4362\"},\"nonselection_glyph\":{\"id\":\"4361\"},\"selection_glyph\":{\"id\":\"4365\"},\"view\":{\"id\":\"4364\"}},\"id\":\"4363\",\"type\":\"GlyphRenderer\"},{\"attributes\":{\"overlay\":{\"id\":\"4322\"}},\"id\":\"4320\",\"type\":\"BoxZoomTool\"},{\"attributes\":{\"mantissas\":[1,2,5],\"max_interval\":500.0,\"num_minor_ticks\":0},\"id\":\"4379\",\"type\":\"AdaptiveTicker\"},{\"attributes\":{\"callback\":null,\"formatters\":{\"@{Date}\":\"datetime\"},\"renderers\":[{\"id\":\"4345\"},{\"id\":\"4354\"},{\"id\":\"4363\"}],\"tags\":[\"hv_created\"],\"tooltips\":[[\"Date\",\"@{Date}{%F %T}\"],[\"Portfolio Total\",\"@{Portfolio_Total}\"]]},\"id\":\"4297\",\"type\":\"HoverTool\"},{\"attributes\":{\"data\":{\"Date\":{\"__ndarray__\":\"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\",\"dtype\":\"float64\",\"order\":\"little\",\"shape\":[1160]},\"Portfolio Total\":{\"__ndarray__\":\"AAAAAAAA+H8AAAAAAGr4QAAAAAAAavhAAAAAAABq+EAAAAAAAGr4QAAAAAAAavhAAAAAAABq+EAAAAAAAGr4QAAAAAAAavhAAAAAAABq+EAAAAAAAGr4QAAAAAAAavhAAAAAAABq+EAAAAAAAGr4QAAAAAAAavhAAAAAAABq+EAAAAAAAGr4QAAAAAAAavhAAAAAAABq+EAAAAAAAGr4QAAAAAAAavhAAAAAAABq+EAAAAAAAGr4QAAAAAAAavhAAAAAAABq+EAAAAAAAGr4QAAAAAAAavhAAAAAAABq+EAAAAAAAGr4QAAAAAAAavhAAAAAAABq+EAAAAAAAGr4QAAAAAAAavhAAAAAAABq+EAAAAAAAGr4QAAAAAAAavhAAAAAAABq+EAAAAAAAGr4QAAAAAAAavhAAAAAAABq+EAAAAAAAGr4QAAAAAAAavhAAAAAAABq+EAAAAAAAGr4QAAAAAAAavhAAAAAAABq+EAAAAAAAGr4QAAAAAAAavhAAAAAAABq+EAAAAAAAGr4QAAAAAAAavhAAAAAAABq+EAAAAAAAGr4QAAAAAAAavhAAAAAAABq+EBkO99PMMH4QIzC9SggqfhAlBgEVtBc/kAcBFYOUBn+QOynxkugCv5ABFYOLYAf/0D8qfHS/yH/QHiTGASg+f9AfD81XgAs/0D+1HjpFwoAQUa28/33bwBBTDeJQYDT/0C4yHa+z2//QARWDi1QJ/9ABFYOLSAv/0Bcj8L1D5D+QARWDi1A+v9ArBxaZDBX/kCoxks3AEH+QF66SQw4HABBUI2X7i8zAEEOAisH2HsAQVKNl+5XUAFBYhBYORjmAEFcj8L1f6f+QFyPwvWvn/5ApHA9CnBA/UDsUbgeYNn7QHw/NV6Qo/xAqMZLNwBB/kBQ46WbMMn/QFg5tEg4RABBRrbz/X+DAEG8SQwC0HkAQQ4CKwfYewBBvp8aL0gBAUEKrBzaR+wBQfZT4yWgtgJBqvHSTbBRAkGuHFrkJ/gBQVLjpRuI4wFBsnJoEbCsAUFeukkM4HcBQbJyaBG4BAFB9lPjJYDxAEG+nxovUNYAQQIrhxbw+AFBukkMAhAKA0G+nxovUEcDQbpJDAKoPgRBCqwc2j+IBEGmm8QgoH0EQQ4CKweYRARBSgwCKxByBEGmm8QgoHcFQaabxCDQbwVBukkMAoAPBkGyyHY+SO0FQaabxCDoZQZB+qnxUtiDB0Hy/dT4F2EIQV66SQyQBwhBsnJoEVhnCEGiRbbzz7wIQf7UeOm/uAhBCqwc2vf+B0EKrBzan2AIQa4cWuSfPQhBvp8aL8DVBEFWObRIMGkBQUa28/2v7AJB/tR46V/4AEGUGARWIDL8QBBYOTSgTwBBCqwc2t8sAUFGtvP9Xy8BQa4cWuRfQgJBSgwCKxB4A0FWObRIkMoDQVKNl+4/QgRBokW28//MBEFS46UbaIMEQbLIdj5ovgVBAiuHFmjHBkGyyHY+mDkFQbpJDAK4ZQRBSgwCK5A/AkEGgZVDcNICQarx0k0YjgNB+qnxUqDOA0H2U+MlcLIEQQIrhxYQsgVBssh2PvDFB0ECK4cWoAsIQQaBlUM4cAZBXrpJDBghB0H+1HjpfyIHQbpJDAIYSgZBWmQ73/8YBEFSjZfuB/gDQVLjpRtQjQNB/tR46S8AAUEcWmQ7sKT+QFKNl+63QAFBjGzn+/+h/ECMwvUoIJH8QGiR7XwQ5P9A6Pup8c/M/EBcj8L1r6X9QOynxktAFP9A9FPjpbBn/0AAAAAAoN78QMDKoUVw5f1A7KfGS2Df/0Do+6nxr3L+QEw3iUGQ+v9AkBgEVlCV/0CQGARWUJX/QJAYBFZQlf9AkBgEVlCV/0CQGARWUJX/QJAYBFZQlf9AkBgEVlCV/0CQGARWUJX/QJAYBFZQlf9AkBgEVlCV/0CQGARWUJX/QJAYBFZQlf9AkBgEVlCV/0CQGARWUJX/QJAYBFZQlf9AkBgEVlCV/0CQGARWUJX/QJAYBFZQlf9AkBgEVlCV/0CQGARWUJX/QJAYBFZQlf9AkBgEVlCV/0CQGARWUJX/QJAYBFZQlf9AkBgEVlCV/0CQGARWUJX/QJAYBFZQlf9AkBgEVlCV/0CQGARWUJX/QJAYBFZQlf9AkBgEVlCV/0CQGARWUJX/QJAYBFZQlf9AkBgEVlCV/0CQGARWUJX/QJAYBFZQlf9AkBgEVlCV/0CQGARWUJX/QJAYBFZQlf9AkBgEVlCV/0CQGARWUJX/QJAYBFZQlf9AkBgEVlCV/0CQGARWUJX/QJAYBFZQlf9AkBgEVlCV/0CQGARWUJX/QJAYBFZQlf9AkBgEVlCV/0BAi2znL1H/QMBLN4nAkvtAcBKDwE/M+kBAi2znzwf5QLDz/dTPR/pASDeJQYB0+kBwEoPAj+X7QLifGi/A5fhAYBBYOeCB+0DY+X5qwHL9QHhqvHSAJP9AEIPAyq/+/kBIN4lB0B//QKBFtvMXXgFBQGDl0IexAUH0/dT4B2QBQTw1Xjp4TQJBON9PDdgfAkE4iUHgd5QBQUgMAitwdAFB6CYxCCi2AkHk0CLbd08FQZQYBNaHQwZB5NAi29+LBkHoJjEIyLkEQUS28/2nlANBjJduEuhtA0GMl24S4JgDQaSbxCDQ+ANBOIlB4K/SA0EwCKwcQOMDQdj5furn8wRB9P3U+N8oBUEssp3vZ18FQfT91PjfqwRBjJduEkCDBEEssp3vB/IEQTjfTw3oQANBRLbz/Z/FAkE4iUHgN28CQTAIrByg2QJBmG4SA4h5AkHk0CLbv9ICQTjfTw1ItAJBpJvEIOCiA0FAYOXQp+0EQaSbxCDwRgRBPDVeOohiBUGYbhIDeMMEQfCnxstvfANB6CYxCFgxAkGgRbbz94wBQfCnxsv3oQBB5NAi2686AEHcT40XuDcAQfT91Ph3/gBBQGDl0EcbAEHk0CLbv94AQfhT4yUAswBBeGq8dABj/0DY+X7qRwIAQYhBYOV/nABBmG4SAxCTAUGIQWDlX04AQZhuEgMgwABBpJvEIGBwAUFEtvP9Xy8BQdxPjRd4DAJB2Pl+6i/6AUHgpZtE8BYCQfT91PjvYQJBlBgE1k+OAkHwp8bLL28AQVhkO9+fi/9AsPP91L+F/kCAwMqhj0j9QLDz/dSPQPZAgMDKoS8F9kDIoUW2b8b5QNBNYhBAmfdA8KfGS3Ak+0DgT42Xv3X6QLDz/dR/E/dAcBKDwM8c+ECQGARWsK/4QOBPjZe//vhA4E+Nl7/++EDgT42Xv/74QOBPjZe//vhA4E+Nl7/++EDgT42Xv/74QOBPjZe//vhA4E+Nl7/++EDgT42Xv/74QOBPjZe//vhA4E+Nl7/++EDgT42Xv/74QOBPjZe//vhA4E+Nl7/++EDgT42Xv/74QOBPjZe//vhA4E+Nl7/++EDgT42Xv/74QOBPjZe//vhA4E+Nl7/++EDgT42Xv/74QOBPjZe//vhA4E+Nl7/++EDgT42Xv/74QOBPjZe//vhA4E+Nl7/++EDgT42Xv/74QOBPjZe//vhA4E+Nl7/++EDgT42Xv/74QOBPjZe//vhA4E+Nl7/++EDgT42Xv/74QOBPjZe//vhA4E+Nl7/++EDgT42Xv/74QOBPjZe//vhA4E+Nl7/++EDgT42Xv/74QOBPjZe//vhA4E+Nl7/++EDgT42Xv/74QOBPjZe//vhA4E+Nl7/++EDgT42Xv/74QOBPjZe//vhA4E+Nl7/++EDgT42Xv/74QOBPjZe//vhA4E+Nl7/++EDgT42Xv/74QOBPjZe//vhA4E+Nl7/++EDgT42Xv/74QOBPjZe//vhA4E+Nl7/++EDgT42Xv/74QOBPjZe//vhA4E+Nl7/++EDgT42Xv/74QOBPjZe//vhA4E+Nl7/++EDgT42Xv/74QOBPjZe//vhA4E+Nl7/++EDgT42Xv/74QOBPjZe//vhA4E+Nl7/++EDgT42Xv/74QOBPjZe//vhA4E+Nl7/++EDgT42Xv/74QOBPjZe//vhA4E+Nl7/++EDgT42Xv/74QOBPjZe//vhA4E+Nl7/++EDgT42Xv/74QOBPjZe//vhA4E+Nl7/++EDgT42Xv/74QOBPjZe//vhA4E+Nl7/++EDgT42Xv/74QOBPjZe//vhA4E+Nl7/++EDgT42Xv/74QJDC9SgvkftAgMDKof9l/ED4/dR4ryL+QPBRuB5foP1AgMDKoV/Z+0CIFtnOvrr7QCCF61G/z/9AmEOLbF/4AEFEi2xnP/oAQUBg5dDXgABBPLTIds9vAEGQwvWor2wAQTDdJIanUAFB3CQGgSfZAkGc76fGb08DQexRuJ6PuAFB7FG4nj/1AEGcmZmZT3IAQWhmZmYfev9AkML1KI/s/kDIoUW2L4P/QJQYBNaXCwFBSOF6lEdqAUHwp8bLH78BQexRuJ7/TAJBqMZLt1fSAUGMbOd7n54BQexRuJ6nNwFBTDeJwV+EAUGcmZmZz6oBQZyZmZnXeQJBMN0khk+sAkE8CtejhwoDQYxs53tvmgNBnJmZmeeaA0GMbOd7v10EQUBg5dA3UwVB7FG4np/NBEGYQ4tsB0IFQZQYBNZvygVB6PupcQ+7BkGkcD2Kn64AQdD3U+O+3/5A8FG4Hs80/kCoxku3f34AQeB6FK7XvABBYLpJDN+b/0BoZmZmL6f+QHgUrkefLf5AaGZmZq9o/kD4/dR4L3n6QOilm8T+DvlAeGiR7c5m/kCkcD2KLxoAQYDAyqEfK/5AYLpJDE9O+0B4FK5HL5/8QOBPjZcf1/xAaGZmZk+K+0C4SQwCL6b6QFCNl25vu/pAeGiR7Z6S+EAwhxbZLsH4QHgUrkevAfdAmML1KN6O7UCAwMqhD9XwQHiTGAQ+Be9AMLKd772J70A430+N/2ryQHgUrkcfK/RAuEkMAj/380D4/dR4b8LzQGhmZmZPMfVAYLpJDG/G9EDYo3A936X1QGC6SQy/APdA0PdT4w7Z9kDgT42XH/X3QHgUrkf/O/lAeBSuR/87+UB4FK5H/zv5QHgUrkf/O/lAeBSuR/87+UB4FK5H/zv5QHgUrkf/O/lAeBSuR/87+UB4FK5H/zv5QHgUrkf/O/lAeBSuR/87+UB4FK5H/zv5QHgUrkf/O/lAeBSuR/87+UB4FK5H/zv5QHgUrkf/O/lAeBSuR/87+UB4FK5H/zv5QHgUrkf/O/lAeBSuR/87+UB4FK5H/zv5QHgUrkf/O/lAeBSuR/87+UB4FK5H/zv5QHgUrkf/O/lAeBSuR/87+UB4FK5H/zv5QHgUrkf/O/lAeBSuR/87+UB4FK5H/zv5QHgUrkf/O/lAeBSuR/87+UB4FK5H/zv5QHgUrkf/O/lAeBSuR/87+UB4FK5H/zv5QHgUrkf/O/lAeBSuR/87+UB4FK5H/zv5QHgUrkf/O/lAeBSuR/87+UB4FK5H/zv5QHgUrkf/O/lAeBSuR/87+UB4FK5H/zv5QHgUrkf/O/lAeBSuR/87+UB4FK5H/zv5QHgUrkf/O/lAeBSuR4+n+EDYT42Xnz/2QLDIdr5/1vdAkG4Sgw9/+0BAi2znf7X6QLDIdr4/pfpA8P3UeO/W+kD4qfHSv5H8QPD91Hi/Sf5A4Pup8a/v/kCYGi/dj+39QGjn+6lfqv1AsMh2vj8Q/kCQwvUoH9X+QECLbOe/wv1AEFg5tN9C/kA430+Nr2X8QIDAyqEvyf9A2E+Nl98o/0AwMzMzfyv9QPD91HgvbfxAeBSuR8+6+kCQbhKDH0H3QOhRuB4fn/hA8P3UeK80+0BAi2znbwv7QJBuEoO/x/hA4Pup8Z9j+kD4qfHSXyr7QEjhehQ//vtA2E+Nlw8z/EA430+Nf1v/QNhPjZcvb/9AULgehe9KAEGoHFpk/6j/QGjn+6mfvf9AmBov3e9U/0BIN4nBn6kAQVQOLbKvxgBBSDeJwV8HAUH4fmq894sCQajGS7cn4ABBqBxa5F/LAEEEVg6t77gAQVQOLbLnjQFBqMZLt1+hAkEIrBzar6sCQUyNl+4XqAJBBFYOraeyA0Goxku339kDQQAAAICPGwNBTI2X7ncVA0H4fmq89wgDQUjhepRH2wNBqMZLtw9JBUGkcD2Kp2sEQUjhepTHGQRBTI2X7t9XA0E8CtejTz0DQZiZmZln3wJBAAAAgL+QA0FMjZfu7/sDQVQOLbIv8wNBSOF6lLd1A0H81Hjpt4oCQQisHNp33gJBqBxa5CdpBEFIN4nBv98EQajGS7fnogVB8P3U+NfQBUFYZDvfB+IFQUBg5dCn5wVBQGDl0K85BkH0KFyPjxMGQfzUeOn/4wZBqMZLt3eFBkGoxku3Z14GQagcWuTXkwZBmJmZmQ8vBkGYmZmZVyMGQfD91PjX0AVBtPP91PfXBkHsp8bL/1IGQeynxsvnXAVBQGDl0KdqBUGoxku330QHQVhkO98H3AZBSOF6lD/oCEGYmZmZp9oIQVC4HoU3hglB9Chcj494CkGwne+nPxMLQbCd76evpwtBSDeJwTclC0GkcD2KN6cLQaRwPYqHagxB7KfGy88qDkG08/3Ud2kOQaRwPYqvgQ5BtPP91J+MDkFI4XqUD1UNQbTz/dRnVAtB8P3U+Pd3DEFIN4nBz9YMQZiZmZk3qwxBsJ3vp49ZC0EAAACAh4EOQVC4HoUvIgxBsJ3vp080DEGwne+nz+kNQbCd76evGA5BoEW289fkD0GoHFrkj+YPQSCwcuhXPRBBLLKd7yMhEEEqhxbZo1AQQX5qvPRHSBBBAAAAwB9/EEHa+X7qZzwQQQRWDq2PdA5BmJmZmQ+UCkGkcD2KP44IQaBFtvMn2AhBmJmZmd9CBEH0KFyPv44FQQRWDq2PmAhB7KfGy++uBUFAYOXQF3AIQagcWuS3UQRBWGQ7318PA0Hg+6nxrwH8QOynxsvP9QFBsMh2vv/8+0Bgke18v3DvQGA730//g/xA0KNwPX7550CYGi/dL1HwQDA1XrrfBOtAoHJokX+I70BA4XoU3grlQKAaL92eNeFAkML1KE8b8kBQObTIfmjsQPD91HgfcPVAIIXrUT5q7kCgcD0Kj53zQOD7qfE/kfVA4Pup8T+R9UDg+6nxP5H1QOD7qfE/kfVA4Pup8T+R9UDg+6nxP5H1QOD7qfE/kfVA4Pup8T+R9UDg+6nxP5H1QOD7qfE/kfVA4Pup8T+R9UDg+6nxP5H1QOD7qfE/kfVA4Pup8T+R9UDg+6nxP5H1QOD7qfE/kfVA4Pup8T+R9UDg+6nxP5H1QOD7qfE/kfVA4Pup8T+R9UDg+6nxP5H1QOD7qfE/kfVA4Pup8T+R9UDg+6nxP5H1QOD7qfE/kfVA4Pup8T+R9UDg+6nxP5H1QOD7qfE/kfVA4Pup8T+R9UDg+6nxP5H1QOD7qfE/kfVA4Pup8T+R9UDg+6nxP5H1QOD7qfE/kfVA4Pup8T+R9UDg+6nxP5H1QOD7qfE/kfVA4Pup8T+R9UDg+6nxP5H1QOD7qfE/kfVA4Pup8T+R9UDg+6nxP5H1QOD7qfE/kfVA4Pup8T+R9UDg+6nxP5H1QOD7qfE/kfVA4Pup8T+R9UDg+6nxP5H1QOD7qfE/kfVA4Pup8T+R9UDg+6nxP5H1QOD7qfE/kfVAGIXrUa9h9kBwFK5HXyz5QPD91HjfMvpAMDMzMx9Z+EBwFK5Hn9T3QKgcWmT/SfpAUDm0yC/S+0BwFK5Hb9z3QIjC9SjvAPlAELByaH8g7kBwFK5HL1jzQKgcWmSvnvVA8Knx0h+a+EDoUbgeP9v7QOhRuB7/o/9A4Pup8T9b/kCQbhKDX63/QKTGS7fnwABBpMZLt1+hAkHoUbieX8YAQUThepS/VgFBPGDl0E/qAEFIN4nBby4BQZxFtvMnCAFBOArXow8YBEFMjZfu/6UDQaTGS7dXQwRB8P3U+C8KAUH4fmq8p84AQfQoXI8P7QFB6FG4nn8aAEGQGATWP20BQfQoXI+XAAJBMDMzM98V/kDoUbge7wv9QHAUrkev4/tAqBxaZK/x/ECMwvWovxYAQUiNl24vfv9AGIXrUX+w/0BA4XoUX8P9QPh+aryffABB9Chcj3c1AUEAVg6t940AQQBWDq0fLgFBjML1qM+oA0FYZDvf1/sCQUg3icGHEgVBTI2X7r/9BEH0KFyPT3cFQTgK16MfsAZBmO+nxh9iCUFE4XqUF0gIQagcWuSX5QhB8P3U+L9FCEGYmZmZR+QJQVhkO98PBA5B6FG4nm+9CEH41Hjpr6MFQTxg5dBHDwJBmJmZmS+PA0GQGATWfwkCQTgK16PvWAFBWGQ7329CAUFQuB6Fr5wCQQSsHNq/WwFBsMh2vq+e/0BIjZduD0j7QFA5tMgfw/dAMDMzM//y+0AwMzMzr9D1QPCp8dJvafdAMDMzM19y+UAgMQisn9X7QIjC9Sjva/xAGIXrUV90/EDQo3A9r/T+QJgaL93/FvtAIDEIrH91/kCgcD0KX3v6QPCp8dJvUftA4Pup8a9y/kA4Ctej/wIBQQSsHNqnTQRB8P3U+C91BEFE4XqU7zwEQZjvp8YXsQNB7KfGy/eJBEFUDi2y9zECQfD91PgXfwNBQLbz/SfHBUFE4XqUNx8HQUg3icFPsAhB9Chcj3eaBUHsp8bLP3IGQfh+arzfGAFBpMZLt88vBEHsp8bL93cHQVhkO99nxgdBmJmZmTdACUGY76fG10kPQXw/Nd4rFBBBpJvE4IMHEEGkm8TgRxEQQTxg5dBHwQ5BmJmZmceBD0HoUbie71QPQUgMAuvPfhBBzPdT49+gEEECVg7tI0kQQVhkO98fJQ9BpsZL93cYEEFQuB6FZ90OQVQOLbLfag5BzPdT4zc/EEH4fmr8I1MQQShcj8Ij/RBBpMZLtz//D0FG4XrUfyMRQXoUrsezDBJBSAwC63sDEkFS46XbAw0SQQArh9aHyhFBziLb+UPDEUHM91PjW7YQQaJwPcqbcRBBSAwC6+ujEEFAtvP9n/QPQUgMAuuLNhBBpJvE4EcREEEErBzanzYPQeynxsu3Lg5B+H5qvFexDkFIN4nBX7kNQZjvp8YfRA5BjML1qDepDkH0KFzPi3cQQTgK16Ov3w9BkBgE1q+zDkGY76fGz3QPQaTGS7dvAw5BTI2X7o/JDkH41Hjpl3EOQaSbxOC7zhBBzMzMzKtqEUEchevRVy4QQZxFtvOHIQ9BBKwc2i+cD0Hw/dT4/70OQVC4HoWnfw5BKocW2e/qEEECVg7tP9kTQaSbxOA7+xNBziLb+ctHFEECVg7t5zoUQVLjpdtHxhRBfGq89OMiEkEqhxbZYx8TQVLjpduPSRJBRuF61CNKFEH2U+PlgxYVQQSBlQNEcBlBLgisHBw0GUGkm8Tgd0oaQaBFtrOzIhpB9lPj5UPZGUEaL92k/zUaQWrn+6n7ORpB3E+NFzR6GkFQjZeuLwUbQSDb+f5DNxtBeBSux3fgGkFs5/up/2IaQRov3aS3RxlB3k+NF3B2GUHy/dS4WzQaQSqHFtnXQRhBKocW2c9sGEH2U+Plo8kZQajx0g1YnRlBzMzMzIMdGEGo8dINXMwYQXxqvPTPnBpBpsZL96sJGEF6FK7Hj+gYQSyyne/D+hhBSAwC63vNGkHy/dS4lzAZQVLjpdtLVBlBSAwC66cfGkFWObQIaBQaQRyF69HPZxhBehSux1eeGEH0KFzPU3oYQczMzMyX6hhBINv5/t+sGEEqhxbZZ6cYQc4i2/mTYhhBehSux/MBGUF8arz0v/4YQRov3aQDZRlBpJvE4AOBG0HQItv58y4eQaSbxOCzKB5BRLbzvXfrHkEoXI/Cl2YfQYyXbtIjAyBBfGq89GMTH0FIDALr43QfQajx0g3IEx9B0CLb2T8tIEH6qfHyizEgQajGS9erQyBBjJdu0mkhIEE+NV76FSAgQfT91Lj3eR9BaJHt/A92IEGq8dLtv6IgQRgEVg4cViBB0CLb2XFyIUG28/3UrTUiQRgEVg506CFB+n5q3A2uIUHSTWLwNQ4hQarx0u3vFyFB/NR4CRJ4IUEUrkfhzbshQdAi29kH3SBB+qnx8oNcIEFUObQIqJgeQRyF69F7Sx9B0CLb2Wt5IEHQItvZ7Y0gQSLb+d6xRyBBZmZm5lFcIEHUeOkGZhUhQfzUeAl46iBB+n5q3PnaIUGCwMoBWuQhQRbZzvflQyJB+qnx8rnKIUGQ7Xz/E+4hQZDtfP9dNSJBFtnO9wsUIkHup8YL7tIhQfqp8fIbiyJB1HjpBhbDIkH81HgJjgQjQajGS9fzJSNB/NR4CeybI0Ei2/ne9X0jQT41XvorsSNB0CLb2T+YI0Ei2/ne9X0jQfp+atynsiNB/NR4CeJzI0H81HgJOLkjQarx0u3B4yNBgJVD67m5I0G28/3U0/kjQajGS9dn4yNBtvP91LHVI0EYBFYOHpcjQYLAygE8YCNBGARWDnayI0GMl27SF2okQfp+atxHvCRBaJHt/DnUJEE+NV76340kQarx0u3trCRBFtnO9zv6JEG28/3U3RslQajGS9fdcCVBqhxaBB4xJUHQItvZWV4lQaocWgTkkyRBFtnO9zkkJUH6qfHyVZklQYLAygE20iVBgsDKAcwwJ0G28/3Upb8nQSLb+d4l4SZBjJdu0rnAJkGQ7Xz/Jc0mQfp+atwPZiZBPjVe+hmiJkH81HgJzLgmQYLAygEmpSZBaJHt/FvsJkGOwvXo2/MmQT41XvpTPydBItv53rVGJ0E+NV766SYnQT41XvqZXSdBGARWDuReJ0GCwMoBvIYnQfqp8fKFCCdBqMZL13PPJkEkBoH1SeomQarx0u1PYSdBqvHS7VExKEGOwvXozZYoQdJNYvDjwShBZmZm5keBKEH6qfHy7T4pQbbz/dS5hilBqvHS7SOGKUHUeOkG1KMpQYyXbtIHJSlB0k1i8HdQKUGMl27Sl4opQfp+atzxWClBJAaB9UlbKUH6fmrcf3EoQWiR7fwf6ihBGARWDoTlKEEYBFYOJHIpQY7C9egZMSlBJAaB9cFNKEHUeOkGoI4nQSLb+d7NvydBJAaB9b0kKEEW2c73HWooQdAi29kfqShBJAaB9a9QKEEi2/neS7EmQfp+atxfLyZBkO18/0nNJUHSTWLwDccmQWiR7fxP9CVBPjVe+r+wJkGqHFoEtAwnQWZmZubJmydBGARWDszfJ0E8CtfjYYEnQfqp8fKf2iZB0k1i8Fs3J0Gq8dLtu0koQdJNYvBHXihBZmZm5rXCKEEUrkfhAwYpQWiR7fwXmChB7qfGC6a0KEHSTWLw/28nQWZmZuaPeydBFK5H4cvBJ0Foke38kdEpQaocWgRAuilB0CLb2Y1hKkGAlUPrQwIpQfqp8fJ3pSlBaJHt/OPtKUHQItvZx4EqQYLAygFgrSpBFtnO9wG2KkGOwvXo9a0qQSQGgfUT4SlBZmZm5pvqKUHQItvZ+cwqQfqp8fLbuCpBJAaB9XugKkGq8dLtY58qQSLb+d4PICtBaJHt/PXkKkGCwMoBbgQqQbbz/dRP6ylB/NR4CTroKUEYBFYOpLYoQRbZzvcTuSlBPjVe+vuaKEHup8YL1FkoQRbZzvd1AilB0CLb2VWgKEEi2/neBQQpQYCVQ+tFTypB0CLb2bWEKkEYBFYOtFQqQdJNYvAngSpB1HjpBjbnKUHQItvZvV8pQRgEVg4WGypBJAaB9W1VKUGQ7Xz/Z7YoQRbZzvcJlyhB0CLb2SUlKUGAlUPrT/opQfzUeAluCSpBFtnO92tRKkFmZmbmK9MpQdR46QaW1ylBaJHt/F2wKUHUeOkGAkkpQarx0u3dZylBqhxaBHY0KUGCwMoBGiQnQSQGgfUXHCdB1HjpBmbxJkGAlUPrA2wnQfzUeAnK3CdBZmZm5itcKEEYBFYOiJcnQYCVQ+u9yidBkO18/525JkE+NV76u4cmQYyXbtId4CVB1HjpBlzVJEEUrkfhO+skQWZmZuYhzyNBaJHt/MuSJEH6fmrcf4kkQT41XvopzyVBPjVe+inPJUE+NV76Kc8lQT41XvopzyVBPjVe+inPJUE+NV76Kc8lQT41XvopzyVBPjVe+inPJUE+NV76Kc8lQT41XvopzyVBPjVe+inPJUE+NV76Kc8lQT41XvopzyVBPjVe+inPJUE+NV76Kc8lQT41XvopzyVBPjVe+inPJUE+NV76Kc8lQT41XvopzyVBPjVe+inPJUE+NV76Kc8lQT41XvopzyVBPjVe+inPJUE+NV76Kc8lQT41XvopzyVBPjVe+inPJUE+NV76Kc8lQT41XvopzyVBPjVe+inPJUE+NV76Kc8lQT41XvopzyVBPjVe+inPJUE+NV76Kc8lQQ==\",\"dtype\":\"float64\",\"order\":\"little\",\"shape\":[1160]},\"Portfolio_Total\":{\"__ndarray__\":\"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\",\"dtype\":\"float64\",\"order\":\"little\",\"shape\":[1160]}},\"selected\":{\"id\":\"4340\"},\"selection_policy\":{\"id\":\"4372\"}},\"id\":\"4339\",\"type\":\"ColumnDataSource\"},{\"attributes\":{},\"id\":\"4321\",\"type\":\"ResetTool\"},{\"attributes\":{},\"id\":\"4358\",\"type\":\"Selection\"},{\"attributes\":{\"bottom_units\":\"screen\",\"coordinates\":null,\"fill_alpha\":0.5,\"fill_color\":\"lightgrey\",\"group\":null,\"left_units\":\"screen\",\"level\":\"overlay\",\"line_alpha\":1.0,\"line_color\":\"black\",\"line_dash\":[4,4],\"line_width\":2,\"right_units\":\"screen\",\"syncable\":false,\"top_units\":\"screen\"},\"id\":\"4322\",\"type\":\"BoxAnnotation\"},{\"attributes\":{\"end\":1647302400000.0,\"reset_end\":1647302400000.0,\"reset_start\":1502150400000.0,\"start\":1502150400000.0,\"tags\":[[[\"Date\",\"Date\",null]]]},\"id\":\"4295\",\"type\":\"Range1d\"},{\"attributes\":{\"data\":{\"Date\":{\"__ndarray__\":\"AABA3Lr0dUIAAEBA+kF2QgAAQGkWk3ZCAADAv6rNdkIAAMA3XSp3Qg==\",\"dtype\":\"float64\",\"order\":\"little\",\"shape\":[5]},\"Portfolio Total\":{\"__ndarray__\":\"AAAAAABq+ECQGARWUJX/QOBPjZe//vhAeBSuR/87+UDg+6nxP5H1QA==\",\"dtype\":\"float64\",\"order\":\"little\",\"shape\":[5]},\"Portfolio_Total\":{\"__ndarray__\":\"AAAAAABq+ECQGARWUJX/QOBPjZe//vhAeBSuR/87+UDg+6nxP5H1QA==\",\"dtype\":\"float64\",\"order\":\"little\",\"shape\":[5]}},\"selected\":{\"id\":\"4349\"},\"selection_policy\":{\"id\":\"4374\"}},\"id\":\"4348\",\"type\":\"ColumnDataSource\"},{\"attributes\":{},\"id\":\"4376\",\"type\":\"UnionRenderers\"},{\"attributes\":{},\"id\":\"4332\",\"type\":\"DatetimeTickFormatter\"},{\"attributes\":{\"children\":[{\"id\":\"4294\"},{\"id\":\"4300\"},{\"id\":\"4591\"}],\"margin\":[0,0,0,0],\"name\":\"Row06072\",\"tags\":[\"embedded\"]},\"id\":\"4293\",\"type\":\"Row\"},{\"attributes\":{},\"id\":\"4372\",\"type\":\"UnionRenderers\"}],\"root_ids\":[\"4293\"]},\"title\":\"Bokeh Application\",\"version\":\"2.4.1\"}};\n",
       "    var render_items = [{\"docid\":\"602ec2c8-28a7-498a-ba40-6e3abaf2b447\",\"root_ids\":[\"4293\"],\"roots\":{\"4293\":\"22b27839-6456-46bb-a6ce-548a0c71deb1\"}}];\n",
       "    root.Bokeh.embed.embed_items_notebook(docs_json, render_items);\n",
       "  }\n",
       "  if (root.Bokeh !== undefined && root.Bokeh.Panel !== undefined) {\n",
       "    embed_document(root);\n",
       "  } else {\n",
       "    var attempts = 0;\n",
       "    var timer = setInterval(function(root) {\n",
       "      if (root.Bokeh !== undefined && root.Bokeh.Panel !== undefined) {\n",
       "        clearInterval(timer);\n",
       "        embed_document(root);\n",
       "      } else if (document.readyState == \"complete\") {\n",
       "        attempts++;\n",
       "        if (attempts > 200) {\n",
       "          clearInterval(timer);\n",
       "          console.log(\"Bokeh: ERROR: Unable to run BokehJS code because BokehJS library is missing\");\n",
       "        }\n",
       "      }\n",
       "    }, 25, root)\n",
       "  }\n",
       "})(window);</script>"
      ],
      "text/plain": [
       ":Overlay\n",
       "   .Curve.I                    :Curve   [Date]   (Portfolio Total)\n",
       "   .Scatter.Portfolio_Total.I  :Scatter   [Date]   (Portfolio Total)\n",
       "   .Scatter.Portfolio_Total.II :Scatter   [Date]   (Portfolio Total)"
      ]
     },
     "execution_count": 58,
     "metadata": {
      "application/vnd.holoviews_exec.v0+json": {
       "id": "4293"
      }
     },
     "output_type": "execute_result"
    }
   ],
   "source": [
    "# Visualize exit positions relative to total portfolio value\n",
    "entry = G_signals_df[G_signals_df[\"Entry/Exit\"] == 1.0][\"Portfolio Total\"].hvplot.scatter(\n",
    "    color='purple',\n",
    "    marker='^',\n",
    "    legend=False, \n",
    "    ylabel=\"Total Portfolio Value\", \n",
    "    width=1000, \n",
    "    height=400\n",
    ")\n",
    "\n",
    "# Visualize entry positions relative to total portfolio value\n",
    "exit = G_signals_df[G_signals_df[\"Entry/Exit\"] == -1.0][\"Portfolio Total\"].hvplot.scatter(\n",
    "    color='blue',\n",
    "    marker='v',\n",
    "    legend=False, \n",
    "    ylabel=\"Total Portfolio Value\", \n",
    "    width=1000, \n",
    "    height=400\n",
    ")\n",
    "\n",
    "# Visualize the total portoflio value \n",
    "total_portfolio_value = G_signals_df[['Portfolio Total']].hvplot(\n",
    "    line_color='lightgray',\n",
    "    ylabel='Total Portfolio Value',\n",
    "    width=1000,\n",
    "    height=400\n",
    ")\n",
    "\n",
    "# Overlay the plots\n",
    "portfolio_entry_exit_plot = total_portfolio_value * entry * exit\n",
    "portfolio_entry_exit_plot.opts(\n",
    "    title=\"GOOGLE - Total Portfolio Value\",\n",
    "    yformatter='%.0f'\n",
    ")"
   ]
  },
  {
   "cell_type": "markdown",
   "metadata": {
    "id": "ptH4BCF60aC_"
   },
   "source": [
    "### Prepare Portfolio Evaluation Metrics DataFrame"
   ]
  },
  {
   "cell_type": "code",
   "execution_count": 59,
   "metadata": {
    "colab": {
     "base_uri": "https://localhost:8080/",
     "height": 206
    },
    "id": "fHVkI2pu0aC_",
    "outputId": "60229d9b-c014-452d-b43c-86d2a72860d8"
   },
   "outputs": [
    {
     "data": {
      "text/html": [
       "<div>\n",
       "<style scoped>\n",
       "    .dataframe tbody tr th:only-of-type {\n",
       "        vertical-align: middle;\n",
       "    }\n",
       "\n",
       "    .dataframe tbody tr th {\n",
       "        vertical-align: top;\n",
       "    }\n",
       "\n",
       "    .dataframe thead th {\n",
       "        text-align: right;\n",
       "    }\n",
       "</style>\n",
       "<table border=\"1\" class=\"dataframe\">\n",
       "  <thead>\n",
       "    <tr style=\"text-align: right;\">\n",
       "      <th></th>\n",
       "      <th>Backtest</th>\n",
       "    </tr>\n",
       "  </thead>\n",
       "  <tbody>\n",
       "    <tr>\n",
       "      <th>Annualized Return</th>\n",
       "      <td>NaN</td>\n",
       "    </tr>\n",
       "    <tr>\n",
       "      <th>Cumulative Returns</th>\n",
       "      <td>NaN</td>\n",
       "    </tr>\n",
       "    <tr>\n",
       "      <th>Annual Volatility</th>\n",
       "      <td>NaN</td>\n",
       "    </tr>\n",
       "    <tr>\n",
       "      <th>Sharpe Ratio</th>\n",
       "      <td>NaN</td>\n",
       "    </tr>\n",
       "    <tr>\n",
       "      <th>Sortino Ratio</th>\n",
       "      <td>NaN</td>\n",
       "    </tr>\n",
       "  </tbody>\n",
       "</table>\n",
       "</div>"
      ],
      "text/plain": [
       "                   Backtest\n",
       "Annualized Return       NaN\n",
       "Cumulative Returns      NaN\n",
       "Annual Volatility       NaN\n",
       "Sharpe Ratio            NaN\n",
       "Sortino Ratio           NaN"
      ]
     },
     "execution_count": 59,
     "metadata": {},
     "output_type": "execute_result"
    }
   ],
   "source": [
    "# Create the list of the metric names\n",
    "metrics = [\n",
    "    'Annualized Return',\n",
    "    'Cumulative Returns',\n",
    "    'Annual Volatility',\n",
    "    'Sharpe Ratio',\n",
    "    'Sortino Ratio'\n",
    "]\n",
    "\n",
    "# Create a list that holds the column name\n",
    "columns = ['Backtest']\n",
    "\n",
    "# Initialize the DataFrame with index set to evaluation metrics and columns \n",
    "portfolio_evaluation_df = pd.DataFrame(index=metrics, columns=columns)\n",
    "\n",
    "# Review the DataFrame\n",
    "portfolio_evaluation_df"
   ]
  },
  {
   "cell_type": "code",
   "execution_count": 60,
   "metadata": {
    "id": "lcbDWBPS0aDA"
   },
   "outputs": [],
   "source": [
    "# Calculate the Annualized return metric\n",
    "portfolio_evaluation_df.loc['Annualized Return'] = (\n",
    "    G_signals_df['Portfolio Daily Returns'].mean() * 252\n",
    ")\n",
    "\n",
    "# Calculate the Cumulative returns metric\n",
    "portfolio_evaluation_df.loc['Cumulative Returns'] = G_signals_df['Portfolio Cumulative Returns'][-1]\n",
    "\n",
    "# Calculate the Annual volatility metric\n",
    "portfolio_evaluation_df.loc['Annual Volatility'] = (\n",
    "    G_signals_df['Portfolio Daily Returns'].std() * np.sqrt(252)\n",
    ")\n",
    "\n",
    "# Calculate the Sharpe ratio\n",
    "portfolio_evaluation_df.loc['Sharpe Ratio'] = (\n",
    "    G_signals_df['Portfolio Daily Returns'].mean() * 252) / (\n",
    "    G_signals_df['Portfolio Daily Returns'].std() * np.sqrt(252)\n",
    ")\n"
   ]
  },
  {
   "cell_type": "code",
   "execution_count": 61,
   "metadata": {
    "id": "s6uZi5rJFa46"
   },
   "outputs": [],
   "source": [
    "G_signals_df = G_signals_df.loc[:,~G_signals_df.columns.duplicated()]\n"
   ]
  },
  {
   "cell_type": "code",
   "execution_count": 62,
   "metadata": {},
   "outputs": [],
   "source": [
    "G_signals_df = G_signals_df[~G_signals_df.index.duplicated()]"
   ]
  },
  {
   "cell_type": "code",
   "execution_count": 63,
   "metadata": {
    "colab": {
     "base_uri": "https://localhost:8080/",
     "height": 414
    },
    "id": "6HeuyEeY0aDA",
    "outputId": "104fc21b-6856-4f74-caca-57e19db0a1e0"
   },
   "outputs": [
    {
     "name": "stderr",
     "output_type": "stream",
     "text": [
      "/opt/anaconda3/envs/dev/lib/python3.7/site-packages/pandas/core/indexing.py:1667: SettingWithCopyWarning: \n",
      "A value is trying to be set on a copy of a slice from a DataFrame.\n",
      "Try using .loc[row_indexer,col_indexer] = value instead\n",
      "\n",
      "See the caveats in the documentation: https://pandas.pydata.org/pandas-docs/stable/user_guide/indexing.html#returning-a-view-versus-a-copy\n",
      "  self.obj[key] = value\n",
      "/opt/anaconda3/envs/dev/lib/python3.7/site-packages/pandas/core/indexing.py:1773: SettingWithCopyWarning: \n",
      "A value is trying to be set on a copy of a slice from a DataFrame.\n",
      "Try using .loc[row_indexer,col_indexer] = value instead\n",
      "\n",
      "See the caveats in the documentation: https://pandas.pydata.org/pandas-docs/stable/user_guide/indexing.html#returning-a-view-versus-a-copy\n",
      "  self._setitem_single_column(ilocs[0], value, pi)\n"
     ]
    },
    {
     "data": {
      "text/html": [
       "<div>\n",
       "<style scoped>\n",
       "    .dataframe tbody tr th:only-of-type {\n",
       "        vertical-align: middle;\n",
       "    }\n",
       "\n",
       "    .dataframe tbody tr th {\n",
       "        vertical-align: top;\n",
       "    }\n",
       "\n",
       "    .dataframe thead th {\n",
       "        text-align: right;\n",
       "    }\n",
       "</style>\n",
       "<table border=\"1\" class=\"dataframe\">\n",
       "  <thead>\n",
       "    <tr style=\"text-align: right;\">\n",
       "      <th></th>\n",
       "      <th>Backtest</th>\n",
       "    </tr>\n",
       "  </thead>\n",
       "  <tbody>\n",
       "    <tr>\n",
       "      <th>Annualized Return</th>\n",
       "      <td>1.121152</td>\n",
       "    </tr>\n",
       "    <tr>\n",
       "      <th>Cumulative Returns</th>\n",
       "      <td>6.14645</td>\n",
       "    </tr>\n",
       "    <tr>\n",
       "      <th>Annual Volatility</th>\n",
       "      <td>1.205326</td>\n",
       "    </tr>\n",
       "    <tr>\n",
       "      <th>Sharpe Ratio</th>\n",
       "      <td>0.930165</td>\n",
       "    </tr>\n",
       "    <tr>\n",
       "      <th>Sortino Ratio</th>\n",
       "      <td>1.515612</td>\n",
       "    </tr>\n",
       "  </tbody>\n",
       "</table>\n",
       "</div>"
      ],
      "text/plain": [
       "                    Backtest\n",
       "Annualized Return   1.121152\n",
       "Cumulative Returns   6.14645\n",
       "Annual Volatility   1.205326\n",
       "Sharpe Ratio        0.930165\n",
       "Sortino Ratio       1.515612"
      ]
     },
     "execution_count": 63,
     "metadata": {},
     "output_type": "execute_result"
    }
   ],
   "source": [
    "# Create a DataFrame that contains the Portfolio Daily Returns column\n",
    "sortino_ratio_df = G_signals_df[['Portfolio Daily Returns']]\n",
    "\n",
    "# Create a column to hold downside return values\n",
    "sortino_ratio_df.loc[:,'Downside Returns'] = 0\n",
    "\n",
    "# Find Portfolio Daily Returns values less than 0, \n",
    "# square those values, and add them to the Downside Returns column\n",
    "sortino_ratio_df.loc[sortino_ratio_df['Portfolio Daily Returns'] < 0, \n",
    "                     'Downside Returns'] = sortino_ratio_df['Portfolio Daily Returns']**2\n",
    "\n",
    "# Calculate the annualized return value\n",
    "annualized_return = sortino_ratio_df['Portfolio Daily Returns'].mean() * 252\n",
    "\n",
    "# Calculate the annualized downside standard deviation value\n",
    "downside_standard_deviation = np.sqrt(sortino_ratio_df['Downside Returns'].mean()) * np.sqrt(252)\n",
    "\n",
    "# Divide the annualized return value by the downside standard deviation value\n",
    "sortino_ratio = annualized_return/downside_standard_deviation\n",
    "\n",
    "# Add the Sortino ratio to the evaluation DataFrame\n",
    "portfolio_evaluation_df.loc['Sortino Ratio'] = sortino_ratio\n",
    "\n",
    "# Review the portfolio evaluation DataFrame\n",
    "portfolio_evaluation_df"
   ]
  },
  {
   "cell_type": "markdown",
   "metadata": {
    "id": "pYUAm7PI0aDA"
   },
   "source": [
    "### Split the data into training and testing datasets."
   ]
  },
  {
   "cell_type": "code",
   "execution_count": 64,
   "metadata": {
    "colab": {
     "base_uri": "https://localhost:8080/",
     "height": 238
    },
    "id": "ChfltbSF0aDA",
    "outputId": "c92bbf6d-9ab2-449d-e7e4-e5fd4abb2dec"
   },
   "outputs": [
    {
     "data": {
      "text/html": [
       "<div>\n",
       "<style scoped>\n",
       "    .dataframe tbody tr th:only-of-type {\n",
       "        vertical-align: middle;\n",
       "    }\n",
       "\n",
       "    .dataframe tbody tr th {\n",
       "        vertical-align: top;\n",
       "    }\n",
       "\n",
       "    .dataframe thead th {\n",
       "        text-align: right;\n",
       "    }\n",
       "</style>\n",
       "<table border=\"1\" class=\"dataframe\">\n",
       "  <thead>\n",
       "    <tr style=\"text-align: right;\">\n",
       "      <th></th>\n",
       "      <th>SMA_Fast</th>\n",
       "      <th>SMA_Slow</th>\n",
       "    </tr>\n",
       "    <tr>\n",
       "      <th>Date</th>\n",
       "      <th></th>\n",
       "      <th></th>\n",
       "    </tr>\n",
       "  </thead>\n",
       "  <tbody>\n",
       "    <tr>\n",
       "      <th>2017-08-09</th>\n",
       "      <td>946.997806</td>\n",
       "      <td>912.359602</td>\n",
       "    </tr>\n",
       "    <tr>\n",
       "      <th>2017-08-10</th>\n",
       "      <td>945.938207</td>\n",
       "      <td>913.067402</td>\n",
       "    </tr>\n",
       "    <tr>\n",
       "      <th>2017-08-11</th>\n",
       "      <td>944.785807</td>\n",
       "      <td>913.655802</td>\n",
       "    </tr>\n",
       "    <tr>\n",
       "      <th>2017-08-14</th>\n",
       "      <td>943.734607</td>\n",
       "      <td>914.495102</td>\n",
       "    </tr>\n",
       "    <tr>\n",
       "      <th>2017-08-15</th>\n",
       "      <td>942.676007</td>\n",
       "      <td>915.425901</td>\n",
       "    </tr>\n",
       "  </tbody>\n",
       "</table>\n",
       "</div>"
      ],
      "text/plain": [
       "              SMA_Fast    SMA_Slow\n",
       "Date                              \n",
       "2017-08-09  946.997806  912.359602\n",
       "2017-08-10  945.938207  913.067402\n",
       "2017-08-11  944.785807  913.655802\n",
       "2017-08-14  943.734607  914.495102\n",
       "2017-08-15  942.676007  915.425901"
      ]
     },
     "execution_count": 64,
     "metadata": {},
     "output_type": "execute_result"
    }
   ],
   "source": [
    "# Assign a copy of the sma_fast and sma_slow columns to a features DataFrame called X\n",
    "X = G_signals_df[['SMA_Fast', 'SMA_Slow']].shift().dropna()\n",
    "\n",
    "# Review the DataFrame\n",
    "X.head()"
   ]
  },
  {
   "cell_type": "code",
   "execution_count": 65,
   "metadata": {
    "colab": {
     "base_uri": "https://localhost:8080/"
    },
    "id": "sgcnA41u0aDB",
    "outputId": "77c670cc-c7b6-4f8d-e385-13d9fbb0579d"
   },
   "outputs": [
    {
     "data": {
      "text/plain": [
       "1.0    840\n",
       "0.0    319\n",
       "Name: Signal, dtype: int64"
      ]
     },
     "execution_count": 65,
     "metadata": {},
     "output_type": "execute_result"
    }
   ],
   "source": [
    "# Create the target set selecting the Signal column and assiging it to y\n",
    "y = G_signals_df['Signal']\n",
    "\n",
    "# Review the value counts\n",
    "y.value_counts()"
   ]
  },
  {
   "cell_type": "code",
   "execution_count": 66,
   "metadata": {
    "colab": {
     "base_uri": "https://localhost:8080/"
    },
    "id": "1gaHqUFc0aDB",
    "outputId": "5b15535d-a542-444a-f74e-80fe64769da1"
   },
   "outputs": [
    {
     "name": "stdout",
     "output_type": "stream",
     "text": [
      "2017-08-09 00:00:00\n"
     ]
    }
   ],
   "source": [
    "# Select the start of the training period\n",
    "training_begin = X.index.min()\n",
    "#training_begin = pd.to_datetime(\"2019-01-01 00:00:00\")\n",
    "#training_begin = pd.to_datetime(\"2018-01-01 00:00:00\")\n",
    "\n",
    "# Display the training begin date\n",
    "print(training_begin)"
   ]
  },
  {
   "cell_type": "code",
   "execution_count": 67,
   "metadata": {
    "colab": {
     "base_uri": "https://localhost:8080/"
    },
    "id": "fkiWs0Y00aDB",
    "outputId": "702ed2e2-455e-40ea-c21a-8ba57055c56a"
   },
   "outputs": [
    {
     "name": "stdout",
     "output_type": "stream",
     "text": [
      "2017-11-09 00:00:00\n"
     ]
    }
   ],
   "source": [
    "# Select the ending period for the training data with an offset of 3 months\n",
    "training_end = X.index.min() + DateOffset(months=3)\n",
    "#training_end = training_begin + DateOffset(months=12)\n",
    "#training_end = pd.to_datetime(\"2019-12-31 00:00:00\")\n",
    "\n",
    "# Display the training end date\n",
    "print(training_end)"
   ]
  },
  {
   "cell_type": "code",
   "execution_count": 68,
   "metadata": {
    "colab": {
     "base_uri": "https://localhost:8080/",
     "height": 458
    },
    "id": "2IcHmhj_0aDC",
    "outputId": "179b3711-b193-4056-c933-cfd5e49c74e1"
   },
   "outputs": [
    {
     "data": {
      "text/html": [
       "<div>\n",
       "<style scoped>\n",
       "    .dataframe tbody tr th:only-of-type {\n",
       "        vertical-align: middle;\n",
       "    }\n",
       "\n",
       "    .dataframe tbody tr th {\n",
       "        vertical-align: top;\n",
       "    }\n",
       "\n",
       "    .dataframe thead th {\n",
       "        text-align: right;\n",
       "    }\n",
       "</style>\n",
       "<table border=\"1\" class=\"dataframe\">\n",
       "  <thead>\n",
       "    <tr style=\"text-align: right;\">\n",
       "      <th></th>\n",
       "      <th>SMA_Fast</th>\n",
       "      <th>SMA_Slow</th>\n",
       "    </tr>\n",
       "    <tr>\n",
       "      <th>Date</th>\n",
       "      <th></th>\n",
       "      <th></th>\n",
       "    </tr>\n",
       "  </thead>\n",
       "  <tbody>\n",
       "    <tr>\n",
       "      <th>2017-08-09</th>\n",
       "      <td>946.997806</td>\n",
       "      <td>912.359602</td>\n",
       "    </tr>\n",
       "    <tr>\n",
       "      <th>2017-08-10</th>\n",
       "      <td>945.938207</td>\n",
       "      <td>913.067402</td>\n",
       "    </tr>\n",
       "    <tr>\n",
       "      <th>2017-08-11</th>\n",
       "      <td>944.785807</td>\n",
       "      <td>913.655802</td>\n",
       "    </tr>\n",
       "    <tr>\n",
       "      <th>2017-08-14</th>\n",
       "      <td>943.734607</td>\n",
       "      <td>914.495102</td>\n",
       "    </tr>\n",
       "    <tr>\n",
       "      <th>2017-08-15</th>\n",
       "      <td>942.676007</td>\n",
       "      <td>915.425901</td>\n",
       "    </tr>\n",
       "  </tbody>\n",
       "</table>\n",
       "</div>"
      ],
      "text/plain": [
       "              SMA_Fast    SMA_Slow\n",
       "Date                              \n",
       "2017-08-09  946.997806  912.359602\n",
       "2017-08-10  945.938207  913.067402\n",
       "2017-08-11  944.785807  913.655802\n",
       "2017-08-14  943.734607  914.495102\n",
       "2017-08-15  942.676007  915.425901"
      ]
     },
     "metadata": {},
     "output_type": "display_data"
    },
    {
     "data": {
      "text/html": [
       "<div>\n",
       "<style scoped>\n",
       "    .dataframe tbody tr th:only-of-type {\n",
       "        vertical-align: middle;\n",
       "    }\n",
       "\n",
       "    .dataframe tbody tr th {\n",
       "        vertical-align: top;\n",
       "    }\n",
       "\n",
       "    .dataframe thead th {\n",
       "        text-align: right;\n",
       "    }\n",
       "</style>\n",
       "<table border=\"1\" class=\"dataframe\">\n",
       "  <thead>\n",
       "    <tr style=\"text-align: right;\">\n",
       "      <th></th>\n",
       "      <th>SMA_Fast</th>\n",
       "      <th>SMA_Slow</th>\n",
       "    </tr>\n",
       "    <tr>\n",
       "      <th>Date</th>\n",
       "      <th></th>\n",
       "      <th></th>\n",
       "    </tr>\n",
       "  </thead>\n",
       "  <tbody>\n",
       "    <tr>\n",
       "      <th>2017-11-03</th>\n",
       "      <td>956.674602</td>\n",
       "      <td>946.259803</td>\n",
       "    </tr>\n",
       "    <tr>\n",
       "      <th>2017-11-06</th>\n",
       "      <td>958.898601</td>\n",
       "      <td>947.077003</td>\n",
       "    </tr>\n",
       "    <tr>\n",
       "      <th>2017-11-07</th>\n",
       "      <td>961.098801</td>\n",
       "      <td>947.912903</td>\n",
       "    </tr>\n",
       "    <tr>\n",
       "      <th>2017-11-08</th>\n",
       "      <td>963.489200</td>\n",
       "      <td>948.848403</td>\n",
       "    </tr>\n",
       "    <tr>\n",
       "      <th>2017-11-09</th>\n",
       "      <td>965.860400</td>\n",
       "      <td>949.673202</td>\n",
       "    </tr>\n",
       "  </tbody>\n",
       "</table>\n",
       "</div>"
      ],
      "text/plain": [
       "              SMA_Fast    SMA_Slow\n",
       "Date                              \n",
       "2017-11-03  956.674602  946.259803\n",
       "2017-11-06  958.898601  947.077003\n",
       "2017-11-07  961.098801  947.912903\n",
       "2017-11-08  963.489200  948.848403\n",
       "2017-11-09  965.860400  949.673202"
      ]
     },
     "metadata": {},
     "output_type": "display_data"
    }
   ],
   "source": [
    "# Generate the X_train and y_train DataFrames\n",
    "X_train = X.loc[training_begin:training_end]\n",
    "y_train = y.loc[training_begin:training_end]\n",
    "\n",
    "# Review the X_train DataFrame\n",
    "display(X_train.head())\n",
    "display(X_train.tail())\n"
   ]
  },
  {
   "cell_type": "code",
   "execution_count": 84,
   "metadata": {
    "colab": {
     "base_uri": "https://localhost:8080/",
     "height": 458
    },
    "id": "MV6vEp0t0aDC",
    "outputId": "5f7e7a9e-0a2f-4def-e0c5-645301e74915"
   },
   "outputs": [
    {
     "data": {
      "text/html": [
       "<div>\n",
       "<style scoped>\n",
       "    .dataframe tbody tr th:only-of-type {\n",
       "        vertical-align: middle;\n",
       "    }\n",
       "\n",
       "    .dataframe tbody tr th {\n",
       "        vertical-align: top;\n",
       "    }\n",
       "\n",
       "    .dataframe thead th {\n",
       "        text-align: right;\n",
       "    }\n",
       "</style>\n",
       "<table border=\"1\" class=\"dataframe\">\n",
       "  <thead>\n",
       "    <tr style=\"text-align: right;\">\n",
       "      <th></th>\n",
       "      <th>SMA_Fast</th>\n",
       "      <th>SMA_Slow</th>\n",
       "    </tr>\n",
       "    <tr>\n",
       "      <th>Date</th>\n",
       "      <th></th>\n",
       "      <th></th>\n",
       "    </tr>\n",
       "  </thead>\n",
       "  <tbody>\n",
       "    <tr>\n",
       "      <th>2017-11-09</th>\n",
       "      <td>965.860400</td>\n",
       "      <td>949.673202</td>\n",
       "    </tr>\n",
       "    <tr>\n",
       "      <th>2017-11-10</th>\n",
       "      <td>967.894200</td>\n",
       "      <td>950.479503</td>\n",
       "    </tr>\n",
       "    <tr>\n",
       "      <th>2017-11-13</th>\n",
       "      <td>969.668999</td>\n",
       "      <td>951.165702</td>\n",
       "    </tr>\n",
       "    <tr>\n",
       "      <th>2017-11-14</th>\n",
       "      <td>971.437199</td>\n",
       "      <td>951.852302</td>\n",
       "    </tr>\n",
       "    <tr>\n",
       "      <th>2017-11-15</th>\n",
       "      <td>973.388198</td>\n",
       "      <td>952.456401</td>\n",
       "    </tr>\n",
       "  </tbody>\n",
       "</table>\n",
       "</div>"
      ],
      "text/plain": [
       "              SMA_Fast    SMA_Slow\n",
       "Date                              \n",
       "2017-11-09  965.860400  949.673202\n",
       "2017-11-10  967.894200  950.479503\n",
       "2017-11-13  969.668999  951.165702\n",
       "2017-11-14  971.437199  951.852302\n",
       "2017-11-15  973.388198  952.456401"
      ]
     },
     "metadata": {},
     "output_type": "display_data"
    },
    {
     "data": {
      "text/html": [
       "<div>\n",
       "<style scoped>\n",
       "    .dataframe tbody tr th:only-of-type {\n",
       "        vertical-align: middle;\n",
       "    }\n",
       "\n",
       "    .dataframe tbody tr th {\n",
       "        vertical-align: top;\n",
       "    }\n",
       "\n",
       "    .dataframe thead th {\n",
       "        text-align: right;\n",
       "    }\n",
       "</style>\n",
       "<table border=\"1\" class=\"dataframe\">\n",
       "  <thead>\n",
       "    <tr style=\"text-align: right;\">\n",
       "      <th></th>\n",
       "      <th>SMA_Fast</th>\n",
       "      <th>SMA_Slow</th>\n",
       "    </tr>\n",
       "    <tr>\n",
       "      <th>Date</th>\n",
       "      <th></th>\n",
       "      <th></th>\n",
       "    </tr>\n",
       "  </thead>\n",
       "  <tbody>\n",
       "    <tr>\n",
       "      <th>2022-03-09</th>\n",
       "      <td>2734.649619</td>\n",
       "      <td>2823.663413</td>\n",
       "    </tr>\n",
       "    <tr>\n",
       "      <th>2022-03-10</th>\n",
       "      <td>2728.970420</td>\n",
       "      <td>2822.154214</td>\n",
       "    </tr>\n",
       "    <tr>\n",
       "      <th>2022-03-11</th>\n",
       "      <td>2723.464019</td>\n",
       "      <td>2820.355613</td>\n",
       "    </tr>\n",
       "    <tr>\n",
       "      <th>2022-03-14</th>\n",
       "      <td>2717.052417</td>\n",
       "      <td>2817.858613</td>\n",
       "    </tr>\n",
       "    <tr>\n",
       "      <th>2022-03-15</th>\n",
       "      <td>2709.347817</td>\n",
       "      <td>2814.442415</td>\n",
       "    </tr>\n",
       "  </tbody>\n",
       "</table>\n",
       "</div>"
      ],
      "text/plain": [
       "               SMA_Fast     SMA_Slow\n",
       "Date                                \n",
       "2022-03-09  2734.649619  2823.663413\n",
       "2022-03-10  2728.970420  2822.154214\n",
       "2022-03-11  2723.464019  2820.355613\n",
       "2022-03-14  2717.052417  2817.858613\n",
       "2022-03-15  2709.347817  2814.442415"
      ]
     },
     "metadata": {},
     "output_type": "display_data"
    }
   ],
   "source": [
    "# Generate the X_test and y_test DataFrames\n",
    "X_test = X.loc[training_end:]\n",
    "y_test = y.loc[training_end:]\n",
    "\n",
    "# Review the X_test DataFrame\n",
    "display(X_test.head())\n",
    "display(X_test.tail())"
   ]
  },
  {
   "cell_type": "code",
   "execution_count": 85,
   "metadata": {
    "id": "4XL_Sx8s0aDC"
   },
   "outputs": [],
   "source": [
    "# Scale the features DataFrames\n",
    "\n",
    "# Create a StandardScaler instance\n",
    "scaler = StandardScaler()\n",
    "\n",
    "# Apply the scaler model to fit the X-train data\n",
    "X_scaler = scaler.fit(X_train)\n",
    "\n",
    "# Transform the X_train and X_test DataFrames using the X_scaler\n",
    "X_train_scaled = X_scaler.transform(X_train)\n",
    "X_test_scaled = X_scaler.transform(X_test)"
   ]
  },
  {
   "cell_type": "markdown",
   "metadata": {
    "id": "FtBsvLQp0aDC"
   },
   "source": [
    "### Use the `SVC` classifier model to fit the training data and make predictions based on the testing data"
   ]
  },
  {
   "cell_type": "code",
   "execution_count": 89,
   "metadata": {
    "colab": {
     "base_uri": "https://localhost:8080/"
    },
    "id": "Km8Ol0vh0aDD",
    "outputId": "9a17b393-9a96-40f5-aaa9-81aec366a817"
   },
   "outputs": [
    {
     "data": {
      "text/plain": [
       "array([1., 1., 1., 1., 1., 1., 1., 1., 0., 0.])"
      ]
     },
     "execution_count": 89,
     "metadata": {},
     "output_type": "execute_result"
    }
   ],
   "source": [
    "# From SVM, instantiate SVC classifier model instance\n",
    "svm_model = svm.SVC()\n",
    " \n",
    "# Fit the model to the data using the training data\n",
    "svm_model = svm_model.fit(X_train_scaled, y_train)\n",
    " \n",
    "# Use the testing data to make the model predictions\n",
    "svm_pred = svm_model.predict(X_test_scaled)\n",
    "\n",
    "# Review the model's predicted values\n",
    "svm_pred[:10]"
   ]
  },
  {
   "cell_type": "markdown",
   "metadata": {
    "id": "0BTMiJ100aDD"
   },
   "source": [
    "### Review the classification report associated with the `SVC` model predictions. "
   ]
  },
  {
   "cell_type": "code",
   "execution_count": 90,
   "metadata": {
    "colab": {
     "base_uri": "https://localhost:8080/"
    },
    "id": "RCsFHcsL0aDD",
    "outputId": "5c13ad4b-1da9-4ebe-854c-4d750bd64ae0"
   },
   "outputs": [
    {
     "name": "stdout",
     "output_type": "stream",
     "text": [
      "              precision    recall  f1-score   support\n",
      "\n",
      "         0.0       0.24      1.00      0.39       265\n",
      "         1.0       1.00      0.01      0.02       828\n",
      "\n",
      "    accuracy                           0.25      1093\n",
      "   macro avg       0.62      0.50      0.21      1093\n",
      "weighted avg       0.82      0.25      0.11      1093\n",
      "\n"
     ]
    }
   ],
   "source": [
    "# Use a classification report to evaluate the model using the predictions and testing data\n",
    "svm_testing_report = classification_report(y_test,svm_pred)\n",
    "\n",
    "# Print the classification report\n",
    "print(svm_testing_report)\n"
   ]
  },
  {
   "cell_type": "code",
   "execution_count": 91,
   "metadata": {
    "colab": {
     "base_uri": "https://localhost:8080/",
     "height": 228
    },
    "id": "LmoH8by90aDD",
    "outputId": "cd0b6d17-ff8a-4590-ec0b-b1ea3cb65c48"
   },
   "outputs": [
    {
     "data": {
      "text/html": [
       "<div>\n",
       "<style scoped>\n",
       "    .dataframe tbody tr th:only-of-type {\n",
       "        vertical-align: middle;\n",
       "    }\n",
       "\n",
       "    .dataframe tbody tr th {\n",
       "        vertical-align: top;\n",
       "    }\n",
       "\n",
       "    .dataframe thead th {\n",
       "        text-align: right;\n",
       "    }\n",
       "</style>\n",
       "<table border=\"1\" class=\"dataframe\">\n",
       "  <thead>\n",
       "    <tr style=\"text-align: right;\">\n",
       "      <th></th>\n",
       "      <th>Close</th>\n",
       "      <th>Actual Returns</th>\n",
       "      <th>SMA_Fast</th>\n",
       "      <th>SMA_Slow</th>\n",
       "      <th>Signal</th>\n",
       "      <th>Strategy Returns</th>\n",
       "      <th>Entry/Exit</th>\n",
       "      <th>Position</th>\n",
       "      <th>Entry/Exit Position</th>\n",
       "      <th>Portfolio Holdings</th>\n",
       "      <th>Portfolio Cash</th>\n",
       "      <th>Portfolio Total</th>\n",
       "      <th>Portfolio Daily Returns</th>\n",
       "      <th>Portfolio Cumulative Returns</th>\n",
       "    </tr>\n",
       "    <tr>\n",
       "      <th>Date</th>\n",
       "      <th></th>\n",
       "      <th></th>\n",
       "      <th></th>\n",
       "      <th></th>\n",
       "      <th></th>\n",
       "      <th></th>\n",
       "      <th></th>\n",
       "      <th></th>\n",
       "      <th></th>\n",
       "      <th></th>\n",
       "      <th></th>\n",
       "      <th></th>\n",
       "      <th></th>\n",
       "      <th></th>\n",
       "    </tr>\n",
       "  </thead>\n",
       "  <tbody>\n",
       "  </tbody>\n",
       "</table>\n",
       "</div>"
      ],
      "text/plain": [
       "Empty DataFrame\n",
       "Columns: [Close, Actual Returns, SMA_Fast, SMA_Slow, Signal, Strategy Returns, Entry/Exit, Position, Entry/Exit Position, Portfolio Holdings, Portfolio Cash, Portfolio Total, Portfolio Daily Returns, Portfolio Cumulative Returns]\n",
       "Index: []"
      ]
     },
     "execution_count": 91,
     "metadata": {},
     "output_type": "execute_result"
    }
   ],
   "source": [
    "G_signals_df[G_signals_df.index.duplicated()]"
   ]
  },
  {
   "cell_type": "code",
   "execution_count": 92,
   "metadata": {
    "id": "9Xrrruou0aDD"
   },
   "outputs": [],
   "source": [
    "G_signals_df = G_signals_df[~G_signals_df.index.duplicated()]"
   ]
  },
  {
   "cell_type": "markdown",
   "metadata": {
    "id": "ZeBqkkoL0aDE"
   },
   "source": [
    "### Create a predictions DataFrame that contains columns for “Predicted” values, “Actual Returns”, and “Strategy Returns”."
   ]
  },
  {
   "cell_type": "code",
   "execution_count": 93,
   "metadata": {
    "colab": {
     "base_uri": "https://localhost:8080/",
     "height": 458
    },
    "id": "Phqc3zrS0aDE",
    "outputId": "fad319c1-6222-49e3-ad9b-3b8f391a5278"
   },
   "outputs": [
    {
     "data": {
      "text/html": [
       "<div>\n",
       "<style scoped>\n",
       "    .dataframe tbody tr th:only-of-type {\n",
       "        vertical-align: middle;\n",
       "    }\n",
       "\n",
       "    .dataframe tbody tr th {\n",
       "        vertical-align: top;\n",
       "    }\n",
       "\n",
       "    .dataframe thead th {\n",
       "        text-align: right;\n",
       "    }\n",
       "</style>\n",
       "<table border=\"1\" class=\"dataframe\">\n",
       "  <thead>\n",
       "    <tr style=\"text-align: right;\">\n",
       "      <th></th>\n",
       "      <th>Predicted</th>\n",
       "      <th>Actual Returns</th>\n",
       "      <th>Strategy Returns</th>\n",
       "    </tr>\n",
       "    <tr>\n",
       "      <th>Date</th>\n",
       "      <th></th>\n",
       "      <th></th>\n",
       "      <th></th>\n",
       "    </tr>\n",
       "  </thead>\n",
       "  <tbody>\n",
       "    <tr>\n",
       "      <th>2017-11-09</th>\n",
       "      <td>1.0</td>\n",
       "      <td>-0.008261</td>\n",
       "      <td>-0.008261</td>\n",
       "    </tr>\n",
       "    <tr>\n",
       "      <th>2017-11-10</th>\n",
       "      <td>1.0</td>\n",
       "      <td>-0.003093</td>\n",
       "      <td>-0.003093</td>\n",
       "    </tr>\n",
       "    <tr>\n",
       "      <th>2017-11-13</th>\n",
       "      <td>1.0</td>\n",
       "      <td>-0.002257</td>\n",
       "      <td>-0.002257</td>\n",
       "    </tr>\n",
       "    <tr>\n",
       "      <th>2017-11-14</th>\n",
       "      <td>1.0</td>\n",
       "      <td>0.000244</td>\n",
       "      <td>0.000244</td>\n",
       "    </tr>\n",
       "    <tr>\n",
       "      <th>2017-11-15</th>\n",
       "      <td>1.0</td>\n",
       "      <td>-0.004961</td>\n",
       "      <td>-0.004961</td>\n",
       "    </tr>\n",
       "  </tbody>\n",
       "</table>\n",
       "</div>"
      ],
      "text/plain": [
       "            Predicted  Actual Returns  Strategy Returns\n",
       "Date                                                   \n",
       "2017-11-09        1.0       -0.008261         -0.008261\n",
       "2017-11-10        1.0       -0.003093         -0.003093\n",
       "2017-11-13        1.0       -0.002257         -0.002257\n",
       "2017-11-14        1.0        0.000244          0.000244\n",
       "2017-11-15        1.0       -0.004961         -0.004961"
      ]
     },
     "metadata": {},
     "output_type": "display_data"
    },
    {
     "data": {
      "text/html": [
       "<div>\n",
       "<style scoped>\n",
       "    .dataframe tbody tr th:only-of-type {\n",
       "        vertical-align: middle;\n",
       "    }\n",
       "\n",
       "    .dataframe tbody tr th {\n",
       "        vertical-align: top;\n",
       "    }\n",
       "\n",
       "    .dataframe thead th {\n",
       "        text-align: right;\n",
       "    }\n",
       "</style>\n",
       "<table border=\"1\" class=\"dataframe\">\n",
       "  <thead>\n",
       "    <tr style=\"text-align: right;\">\n",
       "      <th></th>\n",
       "      <th>Predicted</th>\n",
       "      <th>Actual Returns</th>\n",
       "      <th>Strategy Returns</th>\n",
       "    </tr>\n",
       "    <tr>\n",
       "      <th>Date</th>\n",
       "      <th></th>\n",
       "      <th></th>\n",
       "      <th></th>\n",
       "    </tr>\n",
       "  </thead>\n",
       "  <tbody>\n",
       "    <tr>\n",
       "      <th>2022-03-09</th>\n",
       "      <td>0.0</td>\n",
       "      <td>0.051757</td>\n",
       "      <td>0.0</td>\n",
       "    </tr>\n",
       "    <tr>\n",
       "      <th>2022-03-10</th>\n",
       "      <td>0.0</td>\n",
       "      <td>-0.008845</td>\n",
       "      <td>-0.0</td>\n",
       "    </tr>\n",
       "    <tr>\n",
       "      <th>2022-03-11</th>\n",
       "      <td>0.0</td>\n",
       "      <td>-0.016630</td>\n",
       "      <td>-0.0</td>\n",
       "    </tr>\n",
       "    <tr>\n",
       "      <th>2022-03-14</th>\n",
       "      <td>0.0</td>\n",
       "      <td>-0.028622</td>\n",
       "      <td>-0.0</td>\n",
       "    </tr>\n",
       "    <tr>\n",
       "      <th>2022-03-15</th>\n",
       "      <td>0.0</td>\n",
       "      <td>0.023035</td>\n",
       "      <td>0.0</td>\n",
       "    </tr>\n",
       "  </tbody>\n",
       "</table>\n",
       "</div>"
      ],
      "text/plain": [
       "            Predicted  Actual Returns  Strategy Returns\n",
       "Date                                                   \n",
       "2022-03-09        0.0        0.051757               0.0\n",
       "2022-03-10        0.0       -0.008845              -0.0\n",
       "2022-03-11        0.0       -0.016630              -0.0\n",
       "2022-03-14        0.0       -0.028622              -0.0\n",
       "2022-03-15        0.0        0.023035               0.0"
      ]
     },
     "metadata": {},
     "output_type": "display_data"
    }
   ],
   "source": [
    "# Create a new empty predictions DataFrame.\n",
    "\n",
    "# Create a predictions DataFrame\n",
    "predictions_df = pd.DataFrame(index = X_test.index)\n",
    "\n",
    "# Add the SVM model predictions to the DataFrame\n",
    "predictions_df['Predicted'] = svm_pred\n",
    "\n",
    "# Add the actual returns to the DataFrame\n",
    "predictions_df['Actual Returns'] = G_signals_df[\"Actual Returns\"]\n",
    "\n",
    "# Add the strategy returns to the DataFrame\n",
    "predictions_df['Strategy Returns'] = predictions_df['Actual Returns'] * predictions_df['Predicted']\n",
    "\n",
    "# Review the DataFrame\n",
    "display(predictions_df.head())\n",
    "display(predictions_df.tail())"
   ]
  },
  {
   "cell_type": "markdown",
   "metadata": {
    "id": "pQhO027J0aDE"
   },
   "source": [
    "### A cumulative return plot that shows the actual returns vs. the strategy returns"
   ]
  },
  {
   "cell_type": "code",
   "execution_count": 94,
   "metadata": {
    "colab": {
     "base_uri": "https://localhost:8080/",
     "height": 17
    },
    "id": "WbnPRGAR0aDE",
    "outputId": "410c2f74-14b2-4097-adb3-acd3b149c2ba"
   },
   "outputs": [
    {
     "data": {},
     "metadata": {},
     "output_type": "display_data"
    },
    {
     "data": {
      "application/vnd.holoviews_exec.v0+json": "",
      "text/html": [
       "<div id='5612'>\n",
       "\n",
       "\n",
       "\n",
       "\n",
       "\n",
       "  <div class=\"bk-root\" id=\"734523a2-18c4-4062-8003-ef984826648e\" data-root-id=\"5612\"></div>\n",
       "</div>\n",
       "<script type=\"application/javascript\">(function(root) {\n",
       "  function embed_document(root) {\n",
       "    var docs_json = {\"c4b28dfd-94b4-4f6d-b8ec-a7168e4b8a50\":{\"defs\":[{\"extends\":null,\"module\":null,\"name\":\"ReactiveHTML1\",\"overrides\":[],\"properties\":[]},{\"extends\":null,\"module\":null,\"name\":\"FlexBox1\",\"overrides\":[],\"properties\":[{\"default\":\"flex-start\",\"kind\":null,\"name\":\"align_content\"},{\"default\":\"flex-start\",\"kind\":null,\"name\":\"align_items\"},{\"default\":\"row\",\"kind\":null,\"name\":\"flex_direction\"},{\"default\":\"wrap\",\"kind\":null,\"name\":\"flex_wrap\"},{\"default\":\"flex-start\",\"kind\":null,\"name\":\"justify_content\"}]},{\"extends\":null,\"module\":null,\"name\":\"TemplateActions1\",\"overrides\":[],\"properties\":[{\"default\":0,\"kind\":null,\"name\":\"open_modal\"},{\"default\":0,\"kind\":null,\"name\":\"close_modal\"}]},{\"extends\":null,\"module\":null,\"name\":\"MaterialTemplateActions1\",\"overrides\":[],\"properties\":[{\"default\":0,\"kind\":null,\"name\":\"open_modal\"},{\"default\":0,\"kind\":null,\"name\":\"close_modal\"}]}],\"roots\":{\"references\":[{\"attributes\":{\"below\":[{\"id\":\"5627\"}],\"center\":[{\"id\":\"5630\"},{\"id\":\"5634\"}],\"height\":400,\"left\":[{\"id\":\"5631\"}],\"margin\":[5,5,5,5],\"min_border_bottom\":10,\"min_border_left\":10,\"min_border_right\":10,\"min_border_top\":10,\"renderers\":[{\"id\":\"5660\"},{\"id\":\"5693\"}],\"right\":[{\"id\":\"5684\"}],\"sizing_mode\":\"fixed\",\"title\":{\"id\":\"5619\"},\"toolbar\":{\"id\":\"5641\"},\"width\":1000,\"x_range\":{\"id\":\"5614\"},\"x_scale\":{\"id\":\"5623\"},\"y_range\":{\"id\":\"5615\"},\"y_scale\":{\"id\":\"5625\"}},\"id\":\"5618\",\"subtype\":\"Figure\",\"type\":\"Plot\"},{\"attributes\":{\"coordinates\":null,\"data_source\":{\"id\":\"5654\"},\"glyph\":{\"id\":\"5657\"},\"group\":null,\"hover_glyph\":null,\"muted_glyph\":{\"id\":\"5659\"},\"nonselection_glyph\":{\"id\":\"5658\"},\"selection_glyph\":{\"id\":\"5686\"},\"view\":{\"id\":\"5661\"}},\"id\":\"5660\",\"type\":\"GlyphRenderer\"},{\"attributes\":{\"source\":{\"id\":\"5654\"}},\"id\":\"5661\",\"type\":\"CDSView\"},{\"attributes\":{\"data\":{\"Date\":{\"__ndarray__\":\"AABAOOH5dUIAAACeM/p1QgAAQM8q+3VCAAAANX37dUIAAMCaz/t1QgAAgAAi/HVCAABAZnT8dUIAAICXa/11QgAAQP29/XVCAAAAYxD+dUIAAIAutf51QgAAwF+s/3VCAACAxf7/dUIAAEArUQB2QgAAAJGjAHZCAADA9vUAdkIAAAAo7QF2QgAAwI0/AnZCAACA85ECdkIAAEBZ5AJ2QgAAAL82A3ZCAABA8C0EdkIAAABWgAR2QgAAwLvSBHZCAACAISUFdkIAAECHdwV2QgAAgLhuBnZCAABAHsEGdkIAAACEEwd2QgAAwOllB3ZCAACAT7gHdkIAAIDmAQl2QgAAQExUCXZCAAAAsqYJdkIAAMAX+Ql2QgAAwK5CC3ZCAACAFJULdkIAAEB65wt2QgAAAOA5DHZCAABAETENdkIAAAB3gw12QgAAwNzVDXZCAACAQigOdkIAAECoeg52QgAAQD/ED3ZCAAAApRYQdkIAAMAKaRB2QgAAgHC7EHZCAADAobIRdkIAAIAHBRJ2QgAAQG1XEnZCAAAA06kSdkIAAMA4/BJ2QgAAAGrzE3ZCAADAz0UUdkIAAIA1mBR2QgAAQJvqFHZCAAAAAT0VdkIAAEAyNBZ2QgAAAJiGFnZCAADA/dgWdkIAAIBjKxd2QgAAQMl9F3ZCAACA+nQYdkIAAEBgxxh2QgAAAMYZGXZCAADAK2wZdkIAAICRvhl2QgAAgCgIG3ZCAABAjlobdkIAAAD0rBt2QgAAwFn/G3ZCAAAAi/YcdkIAAMDwSB12QgAAgFabHXZCAABAvO0ddkIAAAAiQB52QgAAQFM3H3ZCAAAAuYkfdkIAAMAe3B92QgAAgIQuIHZCAABA6oAgdkIAAIAbeCF2QgAAQIHKIXZCAAAA5xwidkIAAMBMbyJ2QgAAgLLBInZCAADA47gjdkIAAIBJCyR2QgAAQK9dJHZCAAAAFbAkdkIAAMB6AiV2QgAAAKz5JXZCAADAEUwmdkIAAIB3niZ2QgAAQN3wJnZCAABAdDoodkIAAADajCh2QgAAwD/fKHZCAACApTEpdkIAAEALhCl2QgAAgDx7KnZCAABAos0qdkIAAAAIICt2QgAAwG1yK3ZCAACA08QrdkIAAMAEvCx2QgAAgGoOLXZCAABA0GAtdkIAAAA2sy12QgAAwJsFLnZCAAAAzfwudkIAAMAyTy92QgAAgJihL3ZCAABA/vMvdkIAAABkRjB2QgAAQJU9MXZCAAAA+48xdkIAAMBg4jF2QgAAgMY0MnZCAABALIcydkIAAIBdfjN2QgAAQMPQM3ZCAAAAKSM0dkIAAMCOdTR2QgAAgPTHNHZCAADAJb81dkIAAICLETZ2QgAAQPFjNnZCAAAAV7Y2dkIAAMC8CDd2QgAAAO7/N3ZCAADAU1I4dkIAAIC5pDh2QgAAQB/3OHZCAAAAhUk5dkIAAAAckzp2QgAAwIHlOnZCAACA5zc7dkIAAEBNijt2QgAAgH6BPHZCAABA5NM8dkIAAABKJj12QgAAwK94PXZCAACAFcs9dkIAAMBGwj52QgAAgKwUP3ZCAABAEmc/dkIAAAB4uT92QgAAwN0LQHZCAAAADwNBdkIAAMB0VUF2QgAAgNqnQXZCAABAQPpBdkIAAACmTEJ2QgAAQNdDQ3ZCAAAAPZZDdkIAAMCi6EN2QgAAgAg7RHZCAABAbo1EdkIAAICfhEV2QgAAQAXXRXZCAADA0HtGdkIAAIA2zkZ2QgAAwGfFR3ZCAACAzRdIdkIAAEAzakh2QgAAAJm8SHZCAADA/g5JdkIAAAAwBkp2QgAAwJVYSnZCAACA+6pKdkIAAEBh/Up2QgAAAMdPS3ZCAABA+EZMdkIAAABemUx2QgAAwMPrTHZCAACAKT5NdkIAAECPkE12QgAAgMCHTnZCAABAJtpOdkIAAACMLE92QgAAwPF+T3ZCAACAV9FPdkIAAMCIyFB2QgAAgO4aUXZCAABAVG1RdkIAAAC6v1F2QgAAwB8SUnZCAAAAUQlTdkIAAMC2W1N2QgAAgByuU3ZCAABAggBUdkIAAADoUlR2QgAAQBlKVXZCAAAAf5xVdkIAAMDk7lV2QgAAgEpBVnZCAABAsJNWdkIAAIDhild2QgAAQEfdV3ZCAAAArS9YdkIAAMASglh2QgAAgHjUWHZCAACADx5adkIAAEB1cFp2QgAAANvCWnZCAADAQBVbdkIAAAByDFx2QgAAwNdeXHZCAACAPbFcdkIAAECjA112QgAAAAlWXXZCAABAOk1edkIAAACgn152QgAAwAXyXnZCAACAa0RfdkIAAEDRll92QgAAgAKOYHZCAABAaOBgdkIAAADOMmF2QgAAwDOFYXZCAACAmddhdkIAAMDKzmJ2QgAAgDAhY3ZCAABAlnNjdkIAAAD8xWN2QgAAwGEYZHZCAAAAkw9ldkIAAMD4YWV2QgAAgF60ZXZCAABAxAZmdkIAAAAqWWZ2QgAAQFtQZ3ZCAAAAwaJndkIAAMAm9Wd2QgAAgIxHaHZCAABA8plodkIAAIAjkWl2QgAAQInjaXZCAAAA7zVqdkIAAMBUiGp2QgAAgLraanZCAADA69FrdkIAAIBRJGx2QgAAQLd2bHZCAAAAHclsdkIAAMCCG212QgAAALQSbnZCAADAGWVudkIAAIB/t252QgAAQOUJb3ZCAAAAS1xvdkIAAEB8U3B2QgAAAOKlcHZCAADAR/hwdkIAAICtSnF2QgAAQBOdcXZCAACARJRydkIAAECq5nJ2QgAAABA5c3ZCAACA291zdkIAAMAM1XR2QgAAgHIndXZCAABA2Hl1dkIAAAA+zHV2QgAAwKMednZCAAAA1RV3dkIAAMA6aHd2QgAAQAYNeHZCAAAAbF94dkIAAECdVnl2QgAAAAOpeXZCAADAaPt5dkIAAIDOTXp2QgAAQDSgenZCAACAZZd7dkIAAEDL6Xt2QgAAADE8fHZCAADAlo58dkIAAID84Hx2QgAAwC3YfXZCAABA+Xx+dkIAAABfz352QgAAwMQhf3ZCAAAA9hiAdkIAAIDBvYB2QgAAQCcQgXZCAAAAjWKBdkIAAEC+WYJ2QgAAACSsgnZCAADAif6CdkIAAIDvUIN2QgAAQFWjg3ZCAACAhpqEdkIAAEDs7IR2QgAAAFI/hXZCAADAt5GFdkIAAIAd5IV2QgAAgLQth3ZCAABAGoCHdkIAAACA0od2QgAAwOUkiHZCAAAAFxyJdkIAAMB8bol2QgAAgOLAiXZCAABASBOKdkIAAACuZYp2QgAAQN9ci3ZCAAAARa+LdkIAAMCqAYx2QgAAgBBUjHZCAABAdqaMdkIAAICnnY12QgAAQA3wjXZCAAAAc0KOdkIAAMDYlI52QgAAgD7njnZCAACA1TCQdkIAAEA7g5B2QgAAAKHVkHZCAADABiiRdkIAAAA4H5J2QgAAwJ1xknZCAACAA8SSdkIAAEBpFpN2QgAAAM9ok3ZCAABAAGCUdkIAAABmspR2QgAAwMsElXZCAACAMVeVdkIAAECXqZV2QgAAgMiglnZCAABALvOWdkIAAACURZd2QgAAwPmXl3ZCAACAX+qXdkIAAMCQ4Zh2QgAAgPYzmXZCAABAXIaZdkIAAADC2Jl2QgAAwCcrmnZCAAAAWSKbdkIAAMC+dJt2QgAAgCTHm3ZCAABAihmcdkIAAADwa5x2QgAAQCFjnXZCAAAAh7WddkIAAMDsB552QgAAgFJannZCAABAuKyedkIAAIDpo592QgAAQE/2n3ZCAAAAtUigdkIAAMAam6B2QgAAgIDtoHZCAADAseShdkIAAIAXN6J2QgAAQH2JonZCAAAA49uidkIAAAB6JaR2QgAAwN93pHZCAACARcqkdkIAAECrHKV2QgAAABFvpXZCAABAQmamdkIAAACouKZ2QgAAwA0Lp3ZCAACAc12ndkIAAEDZr6d2QgAAgAqnqHZCAABAcPmodkIAAADWS6l2QgAAwDueqXZCAACAofCpdkIAAMDS56p2QgAAgDg6q3ZCAABAnoyrdkIAAAAE36t2QgAAwGkxrHZCAAAAmyitdkIAAMAAe612QgAAgGbNrXZCAABAzB+udkIAAAAycq52QgAAAMm7r3ZCAADALg6wdkIAAICUYLB2QgAAQPqysHZCAACAK6qxdkIAAECR/LF2QgAAAPdOsnZCAADAXKGydkIAAIDC87J2QgAAwPPqs3ZCAACAWT20dkIAAEC/j7R2QgAAACXitHZCAADAijS1dkIAAAC8K7Z2QgAAwCF+tnZCAACAh9C2dkIAAEDtIrd2QgAAAFN1t3ZCAABAhGy4dkIAAADqvrh2QgAAwE8RuXZCAACAtWO5dkIAAEAbtrl2QgAAgEytunZCAABAsv+6dkIAAAAYUrt2QgAAgOP2u3ZCAADAFO68dkIAAIB6QL12QgAAQOCSvXZCAAAARuW9dkIAAMCrN752QgAAAN0uv3ZCAADAQoG/dkIAAICo0792QgAAQA4mwHZCAAAAdHjAdkIAAEClb8F2QgAAAAvCwXZCAADAcBTCdkIAAIDWZsJ2QgAAQDy5wnZCAACAbbDDdkIAAEDTAsR2QgAAADlVxHZCAADAnqfEdkIAAIAE+sR2QgAAwDXxxXZCAACAm0PGdkIAAEABlsZ2QgAAAGfoxnZCAADAzDrHdkIAAAD+Mch2QgAAwGOEyHZCAACAydbIdkIAAEAvKcl2QgAAAJV7yXZCAABAxnLKdkIAAAAsxcp2QgAAwJEXy3ZCAACA92nLdkIAAEBdvMt2QgAAgI6zzHZCAABA9AXNdkIAAABaWM12QgAAwL+qzXZCAACAJf3NdkIAAIC8Rs92QgAAQCKZz3ZCAAAAiOvPdkIAAMDtPdB2QgAAAB810XZCAADAhIfRdkIAAIDq2dF2QgAAQFAs0nZCAAAAtn7SdkIAAEDnddN2QgAAAE3I03ZCAADAshrUdkIAAIAYbdR2QgAAQH6/1HZCAACAr7bVdkIAAEAVCdZ2QgAAAHtb1nZCAADA4K3WdkIAAIBGANd2QgAAwHf313ZCAACA3UnYdkIAAEBDnNh2QgAAAKnu2HZCAADADkHZdkIAAABAONp2QgAAwKWK2nZCAACAC93adkIAAEBxL9t2QgAAANeB23ZCAABACHncdkIAAABuy9x2QgAAwNMd3XZCAACAOXDddkIAAECfwt12QgAAgNC53nZCAABANgzfdkIAAACcXt92QgAAwAGx33ZCAACAZwPgdkIAAMCY+uB2QgAAgP5M4XZCAABAZJ/hdkIAAADK8eF2QgAAwC9E4nZCAAAAYTvjdkIAAMDGjeN2QgAAgCzg43ZCAABAkjLkdkIAAAD4hOR2QgAAQCl85XZCAAAAj87ldkIAAMD0IOZ2QgAAgFpz5nZCAABAwMXmdkIAAIDxvOd2QgAAQFcP6HZCAAAAvWHodkIAAMAitOh2QgAAgIgG6XZCAADAuf3pdkIAAIAfUOp2QgAAQIWi6nZCAADAUEfrdkIAAACCPux2QgAAwOeQ7HZCAACATePsdkIAAECzNe12QgAAABmI7XZCAABASn/udkIAAACw0e52QgAAwBUk73ZCAACAe3bvdkIAAEDhyO92QgAAgBLA8HZCAABAeBLxdkIAAADeZPF2QgAAwEO38XZCAACAqQnydkIAAMDaAPN2QgAAgEBT83ZCAAAADPjzdkIAAMBxSvR2QgAAAKNB9XZCAADACJT1dkIAAEDUOPZ2QgAAADqL9nZCAABAa4L3dkIAAADR1Pd2QgAAwDYn+HZCAACAnHn4dkIAAEACzPh2QgAAgDPD+XZCAABAmRX6dkIAAAD/Z/p2QgAAwGS6+nZCAACAygz7dkIAAIBhVvx2QgAAQMeo/HZCAAAALfv8dkIAAMCSTf12QgAAAMRE/nZCAADAKZf+dkIAAICP6f52QgAAQPU7/3ZCAAAAW47/dkIAAECMhQB3QgAAAPLXAHdCAADAVyoBd0IAAIC9fAF3QgAAQCPPAXdCAACAVMYCd0IAAEC6GAN3QgAAACBrA3dCAADAhb0Dd0IAAIDrDwR3QgAAgIJZBXdCAABA6KsFd0IAAABO/gV3QgAAwLNQBndCAAAA5UcHd0IAAMBKmgd3QgAAgLDsB3dCAABAFj8Id0IAAAB8kQh3QgAAQK2ICXdCAAAAE9sJd0IAAMB4LQp3QgAAgN5/CndCAABARNIKd0IAAIB1yQt3QgAAQNsbDHdCAAAAQW4Md0IAAMCmwAx3QgAAgAwTDXdCAADAPQoOd0IAAICjXA53QgAAQAmvDndCAAAAbwEPd0IAAMDUUw93QgAAAAZLEHdCAADAa50Qd0IAAIDR7xB3QgAAQDdCEXdCAAAAnZQRd0IAAEDOixJ3QgAAADTeEndCAADAmTATd0IAAID/ghN3QgAAQGXVE3dCAACAlswUd0IAAED8HhV3QgAAAGJxFXdCAADAx8MVd0IAAMBeDRd3QgAAgMRfF3dCAABAKrIXd0IAAACQBBh3QgAAwPVWGHdCAAAAJ04Zd0IAAMCMoBl3QgAAgPLyGXdCAABAWEUad0IAAAC+lxp3QgAAQO+OG3dCAAAAVeEbd0IAAMC6Mxx3QgAAgCCGHHdCAABAhtgcd0IAAIC3zx13QgAAQB0iHndCAAAAg3Qed0IAAMDoxh53QgAAgE4ZH3dCAADAfxAgd0IAAIDlYiB3QgAAQEu1IHdCAAAAsQchd0IAAMAWWiF3QgAAAEhRIndCAADAraMid0IAAIAT9iJ3QgAAQHlII3dCAAAA35ojd0IAAAB25CR3QgAAwNs2JXdCAACAQYkld0IAAECn2yV3QgAAgNjSJndCAABAPiUnd0IAAACkdyd3QgAAwAnKJ3dCAACAbxwod0IAAMCgEyl3QgAAgAZmKXdCAABAbLgpd0IAAADSCip3QgAAwDddKndCAAAAaVQrd0IAAMDOpit3QgAAgDT5K3dCAABAmkssd0IAAAAAnix3QgAAQDGVLXdCAAAAl+ctd0IAAMD8OS53QgAAgGKMLndCAABAyN4ud0IAAID51S93QgAAQF8oMHdCAAAAxXowd0IAAMAqzTB3QgAAwMEWMndCAACAJ2kyd0IAAECNuzJ3QgAAAPMNM3dCAADAWGAzd0IAAACKVzR3QgAAwO+pNHdCAACAVfw0d0IAAEC7TjV3QgAAACGhNXdCAABAUpg2d0IAAAC46jZ3QgAAwB09N3dCAACAg483d0IAAEDp4Td3QgAAgBrZOHdCAABAgCs5d0IAAADmfTl3QgAAwEvQOXdCAACAsSI6d0IAAMDiGTt3QgAAgEhsO3dCAABArr47d0IAAAAUETx3QgAAwHljPHdCAAAAq1o9d0IAAMAQrT13QgAAgHb/PXdCAABA3FE+d0IAAABCpD53QgAAQHObP3dCAAAA2e0/d0IAAMA+QEB3QgAAgKSSQHdCAABACuVAd0IAAIA73EF3QgAAQKEuQndCAAAAB4FCd0IAAMBs00J3QgAAgNIlQ3dCAADAAx1Ed0IAAIBpb0R3QgAAQM/BRHdCAAAANRRFd0IAAMCaZkV3QgAAwDGwRndCAACAlwJHd0IAAED9VEd3QgAAAGOnR3dCAABAlJ5Id0IAAAD68Eh3QgAAwF9DSXdCAACAxZVJd0IAAEAr6El3QgAAgFzfSndCAABAwjFLd0IAAAAohEt3QgAAwI3WS3dCAACA8yhMd0IAAMAkIE13QgAAgIpyTXdCAABA8MRNd0IAAABWF053QgAAwLtpTndCAAAA7WBPd0IAAMBSs093QgAAgLgFUHdCAABAHlhQd0IAAACEqlB3QgAAQLWhUXdCAAAAG/RRd0IAAMCARlJ3QgAAgOaYUndCAABATOtSd0IAAIB94lN3QgAAQOM0VHdCAAAASYdUd0IAAMCu2VR3QgAAgBQsVXdCAADARSNWd0IAAICrdVZ3QgAAQBHIVndCAAAAdxpXd0IAAMDcbFd3QgAAAA5kWHdCAADAc7ZYd0IAAIDZCFl3QgAAQD9bWXdCAAAApa1Zd0IAAEDWpFp3QgAAADz3WndCAADAoUlbd0IAAIAHnFt3QgAAQG3uW3dCAACAnuVcd0IAAEAEOF13QgAAAGqKXXdCAADAz9xdd0IAAIA1L153QgAAwGYmX3dCAACAzHhfd0IAAEAyy193QgAAwP1vYHdCAAAAL2dhd0IAAMCUuWF3QgAAgPoLYndCAABAYF5id0IAAADGsGJ3QgAAQPenY3dCAAAAXfpjd0IAAMDCTGR3QgAAgCifZHdCAABAjvFkd0IAAIC/6GV3QgAAQCU7ZndCAAAAi41md0IAAMDw32Z3QgAAgFYyZ3dCAADAhylod0IAAIDte2h3QgAAQFPOaHdCAAAAuSBpd0IAAABQamp3QgAAwLW8andCAACAGw9rd0IAAECBYWt3QgAAQBirbHdCAAAAfv1sd0IAAMDjT213QgAAgEmibXdCAABAr/Rtd0IAAIDg6253QgAAQEY+b3dCAAAArJBvd0IAAMAR4293QgAAgHc1cHdCAACADn9xd0IAAEB00XF3QgAAANojcndCAADAP3Zyd0IAAABxbXN3QgAAwNa/c3dCAACAPBJ0d0IAAECiZHR3QgAAAAi3dHdCAABAOa51d0IAAACfAHZ3QgAAwARTdndCAACAaqV2d0IAAEDQ93Z3QgAAgAHvd3dCAABAZ0F4d0IAAADNk3h3QgAAwDLmeHdCAACAmDh5d0IAAIAvgnp3QgAAQJXUendCAAAA+yZ7d0IAAMBgeXt3QgAAAJJwfHdCAADA98J8d0IAAIBdFX13QgAAQMNnfXdCAAAAKbp9d0IAAEBasX53QgAAAMADf3dCAADAJVZ/d0IAAICLqH93QgAAQPH6f3dCAACAIvKAd0IAAECIRIF3QgAAAO6WgXdCAADAU+mBd0IAAIC5O4J3QgAAwOoyg3dCAACAUIWDd0IAAEC214N3QgAAABwqhHdCAADAgXyEd0IAAACzc4V3QgAAwBjGhXdCAACAfhiGd0IAAEDkaoZ3QgAAAEq9hndCAABAe7SHd0IAAADhBoh3QgAAwEZZiHdCAACArKuId0IAAIBD9Yl3QgAAQKlHindCAAAAD5qKd0IAAMB07Ip3QgAAgNo+i3dCAADACzaMd0IAAIBxiIx3QgAAQNfajHdCAAAAPS2Nd0IAAMCif413QgAAANR2jndCAADAOcmOd0IAAICfG493QgAAQAVuj3dCAAAAa8CPd0IAAECct5B3QgAAAAIKkXdCAADAZ1yRd0IAAIDNrpF3QgAAQDMBkndCAACAZPiSd0IAAEDKSpN3QgAAADCdk3dCAADAle+Td0IAAID7QZR3QgAAwCw5lXdCAACAkouVd0IAAED43ZV3QgAAAF4wlndCAADAw4KWd0IAAAD1eZd3QgAAwFrMl3dCAACAwB6Yd0IAAEAmcZh3QgAAAIzDmHdCAABAvbqZd0IAAAAjDZp3QgAAwIhfmndCAACA7rGad0IAAEBUBJt3QgAAQOtNnHdCAAAAUaCcd0IAAMC28px3QgAAgBxFnXdCAADATTyed0IAAICzjp53QgAAQBnhnndCAAAAfzOfd0IAAMDkhZ93QgAAABZ9oHdCAADAe8+gd0IAAIDhIaF3QgAAQEd0oXdCAAAArcahd0IAAEDevaJ3QgAAAEQQo3dCAADAqWKjd0IAAIAPtaN3QgAAQHUHpHdCAACApv6kd0IAAEAMUaV3QgAAAHKjpXdCAADA1/Wld0IAAIA9SKZ3QgAAgNSRp3dCAABAOuSnd0IAAACgNqh3QgAAwAWJqHdCAAAAN4Cpd0IAAMCc0ql3QgAAgAIlqndCAABAaHeqd0IAAADOyap3QgAAQP/Aq3dCAAAAZROsd0IAAMDKZax3QgAAgDC4rHdCAABAlgqtd0IAAIDHAa53QgAAQC1UrndCAAAAk6aud0IAAMD4+K53QgAAgF5Lr3dCAADAj0Kwd0IAAID1lLB3QgAAQFvnsHdCAAAAwTmxd0IAAMAmjLF3QgAAAFiDsndCAADAvdWyd0IAAIAjKLN3QgAAQIl6s3dCAAAA78yzd0IAAEAgxLR3QgAAAIYWtXdCAADA62i1d0IAAIBRu7V3QgAAQLcNtndCAACA6AS3d0IAAEBOV7d3QgAAALSpt3dCAADAGfy3d0IAAIB/Trh3QgAAwLBFuXdCAACAFpi5d0IAAEB86rl3QgAAAOI8undCAADAR4+6d0IAAMDe2Lt3QgAAgEQrvHdCAABAqn28d0IAAAAQ0Lx3QgAAQEHHvXdCAAAApxm+d0IAAMAMbL53QgAAgHK+vndCAABA2BC/d0IAAIAJCMB3QgAAQG9awHdCAAAA1azAd0IAAMA6/8B3QgAAgKBRwXdCAADA0UjCd0IAAIA3m8J3QgAAQJ3twndCAAAAA0DDd0IAAMBoksN3QgAAAJqJxHdCAADA/9vEd0IAAIBlLsV3QgAAQMuAxXdCAAAAMdPFd0IAAEBiysZ3QgAAAMgcx3dCAADALW/Hd0IAAICTwcd3QgAAQPkTyHdCAACAKgvJd0IAAECQXcl3QgAAAPavyXdCAADAWwLKd0IAAIDBVMp3QgAAwPJLy3dCAACAWJ7Ld0IAAEC+8Mt3QgAAACRDzHdCAADAiZXMd0IAAAC7jM13QgAAwCDfzXdCAACAhjHOd0IAAEDsg853QgAAAFLWzndCAABAg83Pd0IAAADpH9B3QgAAwE5y0HdCAACAtMTQd0IAAEAaF9F3QgAAgEsO0ndCAABAsWDSd0IAAAAXs9J3QgAAwHwF03dCAACA4lfTd0IAAMATT9R3QgAAgHmh1HdCAABA3/PUd0IAAMCqmNV3QgAAANyP1ndCAADAQeLWd0IAAICnNNd3QgAAQA2H13dCAAAAc9nXd0IAAECk0Nh3QgAAAAoj2XdCAADAb3XZd0IAAIDVx9l3QgAAQDsa2ndCAACAbBHbd0IAAEDSY9t3QgAAADi223dCAADAnQjcd0IAAIADW9x3QgAAwDRS3XdCAACAmqTdd0IAAEAA9913QgAAAGZJ3ndCAAAA/ZLfd0IAAMBi5d93QgAAgMg34HdCAABALorgd0IAAACU3OB3QgAAQMXT4XdCAAAAKybid0IAAMCQeOJ3QgAAgPbK4ndCAABAXB3jd0IAAICNFOR3QgAAQPNm5HdCAAAAWbnkd0IAAMC+C+V3QgAAgCRe5XdCAACAu6fmd0IAAEAh+uZ3QgAAAIdM53dCAADA7J7nd0IAAAAeluh3QgAAwIPo6HdCAACA6Trpd0IAAEBPjel3QgAAALXf6XdCAABA5tbqd0IAAABMKet3QgAAwLF763dCAACAF87rd0IAAEB9IOx3QgAAgK4X7XdCAABAFGrtd0IAAAB6vO13QgAAwN8O7ndCAACARWHud0IAAMB2WO93QgAAgNyq73dCAABAQv3vd0IAAACoT/B3QgAAwA2i8HdCAADApOvxd0IAAIAKPvJ3QgAAQHCQ8ndCAAAA1uLyd0IAAEAH2vN3QgAAAG0s9HdCAADA0n70d0IAAIA40fR3QgAAQJ4j9XdCAACAzxr2d0IAAEA1bfZ3QgAAAJu/9ndCAADAABL3d0IAAIBmZPd3QgAAwJdb+HdCAACA/a34d0I=\",\"dtype\":\"float64\",\"order\":\"little\",\"shape\":[1093]},\"Variable\":[\"Strategy Returns\",\"Strategy Returns\",\"Strategy Returns\",\"Strategy Returns\",\"Strategy Returns\",\"Strategy Returns\",\"Strategy Returns\",\"Strategy Returns\",\"Strategy Returns\",\"Strategy Returns\",\"Strategy Returns\",\"Strategy Returns\",\"Strategy Returns\",\"Strategy Returns\",\"Strategy Returns\",\"Strategy Returns\",\"Strategy Returns\",\"Strategy Returns\",\"Strategy Returns\",\"Strategy Returns\",\"Strategy Returns\",\"Strategy Returns\",\"Strategy Returns\",\"Strategy Returns\",\"Strategy Returns\",\"Strategy Returns\",\"Strategy Returns\",\"Strategy Returns\",\"Strategy Returns\",\"Strategy Returns\",\"Strategy Returns\",\"Strategy Returns\",\"Strategy Returns\",\"Strategy Returns\",\"Strategy Returns\",\"Strategy Returns\",\"Strategy Returns\",\"Strategy Returns\",\"Strategy Returns\",\"Strategy Returns\",\"Strategy Returns\",\"Strategy Returns\",\"Strategy Returns\",\"Strategy Returns\",\"Strategy Returns\",\"Strategy Returns\",\"Strategy Returns\",\"Strategy Returns\",\"Strategy Returns\",\"Strategy Returns\",\"Strategy Returns\",\"Strategy Returns\",\"Strategy Returns\",\"Strategy Returns\",\"Strategy Returns\",\"Strategy Returns\",\"Strategy Returns\",\"Strategy Returns\",\"Strategy Returns\",\"Strategy Returns\",\"Strategy Returns\",\"Strategy Returns\",\"Strategy Returns\",\"Strategy Returns\",\"Strategy Returns\",\"Strategy Returns\",\"Strategy Returns\",\"Strategy Returns\",\"Strategy Returns\",\"Strategy Returns\",\"Strategy Returns\",\"Strategy Returns\",\"Strategy Returns\",\"Strategy Returns\",\"Strategy Returns\",\"Strategy Returns\",\"Strategy Returns\",\"Strategy Returns\",\"Strategy Returns\",\"Strategy Returns\",\"Strategy Returns\",\"Strategy Returns\",\"Strategy Returns\",\"Strategy Returns\",\"Strategy Returns\",\"Strategy Returns\",\"Strategy Returns\",\"Strategy Returns\",\"Strategy Returns\",\"Strategy Returns\",\"Strategy Returns\",\"Strategy Returns\",\"Strategy Returns\",\"Strategy Returns\",\"Strategy Returns\",\"Strategy Returns\",\"Strategy Returns\",\"Strategy Returns\",\"Strategy Returns\",\"Strategy Returns\",\"Strategy Returns\",\"Strategy Returns\",\"Strategy Returns\",\"Strategy Returns\",\"Strategy Returns\",\"Strategy Returns\",\"Strategy Returns\",\"Strategy Returns\",\"Strategy Returns\",\"Strategy Returns\",\"Strategy Returns\",\"Strategy Returns\",\"Strategy Returns\",\"Strategy Returns\",\"Strategy Returns\",\"Strategy Returns\",\"Strategy Returns\",\"Strategy Returns\",\"Strategy Returns\",\"Strategy Returns\",\"Strategy Returns\",\"Strategy Returns\",\"Strategy Returns\",\"Strategy Returns\",\"Strategy Returns\",\"Strategy Returns\",\"Strategy Returns\",\"Strategy Returns\",\"Strategy Returns\",\"Strategy Returns\",\"Strategy Returns\",\"Strategy Returns\",\"Strategy Returns\",\"Strategy Returns\",\"Strategy Returns\",\"Strategy Returns\",\"Strategy Returns\",\"Strategy Returns\",\"Strategy Returns\",\"Strategy Returns\",\"Strategy Returns\",\"Strategy Returns\",\"Strategy Returns\",\"Strategy Returns\",\"Strategy Returns\",\"Strategy Returns\",\"Strategy Returns\",\"Strategy Returns\",\"Strategy Returns\",\"Strategy Returns\",\"Strategy Returns\",\"Strategy Returns\",\"Strategy Returns\",\"Strategy Returns\",\"Strategy Returns\",\"Strategy Returns\",\"Strategy Returns\",\"Strategy Returns\",\"Strategy Returns\",\"Strategy Returns\",\"Strategy Returns\",\"Strategy Returns\",\"Strategy Returns\",\"Strategy Returns\",\"Strategy Returns\",\"Strategy Returns\",\"Strategy Returns\",\"Strategy Returns\",\"Strategy Returns\",\"Strategy Returns\",\"Strategy Returns\",\"Strategy Returns\",\"Strategy Returns\",\"Strategy Returns\",\"Strategy Returns\",\"Strategy Returns\",\"Strategy Returns\",\"Strategy Returns\",\"Strategy Returns\",\"Strategy Returns\",\"Strategy Returns\",\"Strategy Returns\",\"Strategy Returns\",\"Strategy Returns\",\"Strategy Returns\",\"Strategy Returns\",\"Strategy Returns\",\"Strategy Returns\",\"Strategy Returns\",\"Strategy Returns\",\"Strategy Returns\",\"Strategy Returns\",\"Strategy Returns\",\"Strategy Returns\",\"Strategy Returns\",\"Strategy Returns\",\"Strategy Returns\",\"Strategy Returns\",\"Strategy Returns\",\"Strategy Returns\",\"Strategy Returns\",\"Strategy Returns\",\"Strategy Returns\",\"Strategy Returns\",\"Strategy Returns\",\"Strategy Returns\",\"Strategy Returns\",\"Strategy Returns\",\"Strategy Returns\",\"Strategy Returns\",\"Strategy Returns\",\"Strategy Returns\",\"Strategy Returns\",\"Strategy Returns\",\"Strategy Returns\",\"Strategy Returns\",\"Strategy Returns\",\"Strategy Returns\",\"Strategy Returns\",\"Strategy Returns\",\"Strategy Returns\",\"Strategy Returns\",\"Strategy Returns\",\"Strategy Returns\",\"Strategy Returns\",\"Strategy Returns\",\"Strategy Returns\",\"Strategy Returns\",\"Strategy Returns\",\"Strategy Returns\",\"Strategy Returns\",\"Strategy Returns\",\"Strategy Returns\",\"Strategy Returns\",\"Strategy Returns\",\"Strategy Returns\",\"Strategy Returns\",\"Strategy Returns\",\"Strategy Returns\",\"Strategy Returns\",\"Strategy Returns\",\"Strategy Returns\",\"Strategy Returns\",\"Strategy Returns\",\"Strategy Returns\",\"Strategy Returns\",\"Strategy Returns\",\"Strategy Returns\",\"Strategy Returns\",\"Strategy Returns\",\"Strategy Returns\",\"Strategy Returns\",\"Strategy Returns\",\"Strategy Returns\",\"Strategy Returns\",\"Strategy Returns\",\"Strategy Returns\",\"Strategy Returns\",\"Strategy Returns\",\"Strategy Returns\",\"Strategy Returns\",\"Strategy Returns\",\"Strategy Returns\",\"Strategy Returns\",\"Strategy Returns\",\"Strategy Returns\",\"Strategy Returns\",\"Strategy Returns\",\"Strategy Returns\",\"Strategy Returns\",\"Strategy Returns\",\"Strategy Returns\",\"Strategy Returns\",\"Strategy Returns\",\"Strategy Returns\",\"Strategy Returns\",\"Strategy Returns\",\"Strategy Returns\",\"Strategy Returns\",\"Strategy Returns\",\"Strategy Returns\",\"Strategy Returns\",\"Strategy Returns\",\"Strategy Returns\",\"Strategy Returns\",\"Strategy Returns\",\"Strategy Returns\",\"Strategy Returns\",\"Strategy Returns\",\"Strategy Returns\",\"Strategy Returns\",\"Strategy Returns\",\"Strategy Returns\",\"Strategy Returns\",\"Strategy Returns\",\"Strategy Returns\",\"Strategy Returns\",\"Strategy Returns\",\"Strategy Returns\",\"Strategy Returns\",\"Strategy Returns\",\"Strategy Returns\",\"Strategy Returns\",\"Strategy Returns\",\"Strategy Returns\",\"Strategy Returns\",\"Strategy Returns\",\"Strategy Returns\",\"Strategy Returns\",\"Strategy Returns\",\"Strategy Returns\",\"Strategy Returns\",\"Strategy Returns\",\"Strategy Returns\",\"Strategy Returns\",\"Strategy Returns\",\"Strategy Returns\",\"Strategy Returns\",\"Strategy Returns\",\"Strategy Returns\",\"Strategy Returns\",\"Strategy Returns\",\"Strategy Returns\",\"Strategy Returns\",\"Strategy Returns\",\"Strategy Returns\",\"Strategy Returns\",\"Strategy Returns\",\"Strategy Returns\",\"Strategy Returns\",\"Strategy Returns\",\"Strategy Returns\",\"Strategy Returns\",\"Strategy Returns\",\"Strategy Returns\",\"Strategy Returns\",\"Strategy Returns\",\"Strategy Returns\",\"Strategy Returns\",\"Strategy Returns\",\"Strategy Returns\",\"Strategy Returns\",\"Strategy Returns\",\"Strategy Returns\",\"Strategy Returns\",\"Strategy Returns\",\"Strategy Returns\",\"Strategy Returns\",\"Strategy Returns\",\"Strategy Returns\",\"Strategy Returns\",\"Strategy Returns\",\"Strategy Returns\",\"Strategy Returns\",\"Strategy Returns\",\"Strategy Returns\",\"Strategy Returns\",\"Strategy Returns\",\"Strategy Returns\",\"Strategy Returns\",\"Strategy Returns\",\"Strategy Returns\",\"Strategy Returns\",\"Strategy Returns\",\"Strategy Returns\",\"Strategy Returns\",\"Strategy Returns\",\"Strategy Returns\",\"Strategy Returns\",\"Strategy Returns\",\"Strategy Returns\",\"Strategy Returns\",\"Strategy Returns\",\"Strategy Returns\",\"Strategy Returns\",\"Strategy Returns\",\"Strategy Returns\",\"Strategy Returns\",\"Strategy Returns\",\"Strategy Returns\",\"Strategy Returns\",\"Strategy Returns\",\"Strategy Returns\",\"Strategy Returns\",\"Strategy Returns\",\"Strategy Returns\",\"Strategy Returns\",\"Strategy Returns\",\"Strategy Returns\",\"Strategy Returns\",\"Strategy Returns\",\"Strategy Returns\",\"Strategy Returns\",\"Strategy Returns\",\"Strategy Returns\",\"Strategy Returns\",\"Strategy Returns\",\"Strategy Returns\",\"Strategy Returns\",\"Strategy Returns\",\"Strategy Returns\",\"Strategy Returns\",\"Strategy Returns\",\"Strategy Returns\",\"Strategy Returns\",\"Strategy Returns\",\"Strategy Returns\",\"Strategy Returns\",\"Strategy Returns\",\"Strategy Returns\",\"Strategy Returns\",\"Strategy Returns\",\"Strategy Returns\",\"Strategy Returns\",\"Strategy Returns\",\"Strategy Returns\",\"Strategy Returns\",\"Strategy Returns\",\"Strategy Returns\",\"Strategy Returns\",\"Strategy Returns\",\"Strategy Returns\",\"Strategy Returns\",\"Strategy Returns\",\"Strategy Returns\",\"Strategy Returns\",\"Strategy Returns\",\"Strategy Returns\",\"Strategy Returns\",\"Strategy Returns\",\"Strategy Returns\",\"Strategy Returns\",\"Strategy Returns\",\"Strategy Returns\",\"Strategy Returns\",\"Strategy Returns\",\"Strategy Returns\",\"Strategy Returns\",\"Strategy Returns\",\"Strategy Returns\",\"Strategy Returns\",\"Strategy Returns\",\"Strategy Returns\",\"Strategy Returns\",\"Strategy Returns\",\"Strategy Returns\",\"Strategy Returns\",\"Strategy Returns\",\"Strategy Returns\",\"Strategy Returns\",\"Strategy Returns\",\"Strategy Returns\",\"Strategy Returns\",\"Strategy Returns\",\"Strategy Returns\",\"Strategy Returns\",\"Strategy Returns\",\"Strategy Returns\",\"Strategy Returns\",\"Strategy Returns\",\"Strategy Returns\",\"Strategy Returns\",\"Strategy Returns\",\"Strategy Returns\",\"Strategy Returns\",\"Strategy Returns\",\"Strategy Returns\",\"Strategy Returns\",\"Strategy Returns\",\"Strategy Returns\",\"Strategy Returns\",\"Strategy Returns\",\"Strategy Returns\",\"Strategy Returns\",\"Strategy Returns\",\"Strategy Returns\",\"Strategy Returns\",\"Strategy Returns\",\"Strategy Returns\",\"Strategy Returns\",\"Strategy Returns\",\"Strategy Returns\",\"Strategy Returns\",\"Strategy Returns\",\"Strategy Returns\",\"Strategy Returns\",\"Strategy Returns\",\"Strategy Returns\",\"Strategy Returns\",\"Strategy Returns\",\"Strategy Returns\",\"Strategy Returns\",\"Strategy Returns\",\"Strategy Returns\",\"Strategy Returns\",\"Strategy Returns\",\"Strategy Returns\",\"Strategy Returns\",\"Strategy Returns\",\"Strategy Returns\",\"Strategy Returns\",\"Strategy Returns\",\"Strategy Returns\",\"Strategy Returns\",\"Strategy Returns\",\"Strategy Returns\",\"Strategy Returns\",\"Strategy Returns\",\"Strategy Returns\",\"Strategy Returns\",\"Strategy Returns\",\"Strategy Returns\",\"Strategy Returns\",\"Strategy Returns\",\"Strategy Returns\",\"Strategy Returns\",\"Strategy Returns\",\"Strategy Returns\",\"Strategy Returns\",\"Strategy Returns\",\"Strategy Returns\",\"Strategy Returns\",\"Strategy Returns\",\"Strategy Returns\",\"Strategy Returns\",\"Strategy Returns\",\"Strategy Returns\",\"Strategy Returns\",\"Strategy Returns\",\"Strategy Returns\",\"Strategy Returns\",\"Strategy Returns\",\"Strategy Returns\",\"Strategy Returns\",\"Strategy Returns\",\"Strategy Returns\",\"Strategy Returns\",\"Strategy Returns\",\"Strategy Returns\",\"Strategy Returns\",\"Strategy Returns\",\"Strategy Returns\",\"Strategy Returns\",\"Strategy Returns\",\"Strategy Returns\",\"Strategy Returns\",\"Strategy Returns\",\"Strategy Returns\",\"Strategy Returns\",\"Strategy Returns\",\"Strategy Returns\",\"Strategy Returns\",\"Strategy Returns\",\"Strategy Returns\",\"Strategy Returns\",\"Strategy Returns\",\"Strategy Returns\",\"Strategy Returns\",\"Strategy Returns\",\"Strategy Returns\",\"Strategy Returns\",\"Strategy Returns\",\"Strategy Returns\",\"Strategy Returns\",\"Strategy Returns\",\"Strategy Returns\",\"Strategy Returns\",\"Strategy Returns\",\"Strategy Returns\",\"Strategy Returns\",\"Strategy Returns\",\"Strategy Returns\",\"Strategy Returns\",\"Strategy Returns\",\"Strategy Returns\",\"Strategy Returns\",\"Strategy Returns\",\"Strategy Returns\",\"Strategy Returns\",\"Strategy Returns\",\"Strategy Returns\",\"Strategy Returns\",\"Strategy Returns\",\"Strategy Returns\",\"Strategy Returns\",\"Strategy Returns\",\"Strategy Returns\",\"Strategy Returns\",\"Strategy Returns\",\"Strategy Returns\",\"Strategy Returns\",\"Strategy Returns\",\"Strategy Returns\",\"Strategy Returns\",\"Strategy Returns\",\"Strategy Returns\",\"Strategy Returns\",\"Strategy Returns\",\"Strategy Returns\",\"Strategy Returns\",\"Strategy Returns\",\"Strategy Returns\",\"Strategy Returns\",\"Strategy Returns\",\"Strategy Returns\",\"Strategy Returns\",\"Strategy Returns\",\"Strategy Returns\",\"Strategy Returns\",\"Strategy Returns\",\"Strategy Returns\",\"Strategy Returns\",\"Strategy Returns\",\"Strategy Returns\",\"Strategy Returns\",\"Strategy Returns\",\"Strategy Returns\",\"Strategy Returns\",\"Strategy Returns\",\"Strategy Returns\",\"Strategy Returns\",\"Strategy Returns\",\"Strategy Returns\",\"Strategy Returns\",\"Strategy Returns\",\"Strategy Returns\",\"Strategy Returns\",\"Strategy Returns\",\"Strategy Returns\",\"Strategy Returns\",\"Strategy Returns\",\"Strategy Returns\",\"Strategy Returns\",\"Strategy Returns\",\"Strategy Returns\",\"Strategy Returns\",\"Strategy Returns\",\"Strategy Returns\",\"Strategy Returns\",\"Strategy Returns\",\"Strategy Returns\",\"Strategy Returns\",\"Strategy Returns\",\"Strategy Returns\",\"Strategy Returns\",\"Strategy Returns\",\"Strategy Returns\",\"Strategy Returns\",\"Strategy Returns\",\"Strategy Returns\",\"Strategy Returns\",\"Strategy Returns\",\"Strategy Returns\",\"Strategy Returns\",\"Strategy Returns\",\"Strategy Returns\",\"Strategy Returns\",\"Strategy Returns\",\"Strategy Returns\",\"Strategy Returns\",\"Strategy Returns\",\"Strategy Returns\",\"Strategy Returns\",\"Strategy Returns\",\"Strategy Returns\",\"Strategy Returns\",\"Strategy Returns\",\"Strategy Returns\",\"Strategy Returns\",\"Strategy Returns\",\"Strategy Returns\",\"Strategy Returns\",\"Strategy Returns\",\"Strategy Returns\",\"Strategy Returns\",\"Strategy Returns\",\"Strategy Returns\",\"Strategy Returns\",\"Strategy Returns\",\"Strategy Returns\",\"Strategy Returns\",\"Strategy Returns\",\"Strategy Returns\",\"Strategy Returns\",\"Strategy Returns\",\"Strategy Returns\",\"Strategy Returns\",\"Strategy Returns\",\"Strategy Returns\",\"Strategy Returns\",\"Strategy Returns\",\"Strategy Returns\",\"Strategy Returns\",\"Strategy Returns\",\"Strategy Returns\",\"Strategy Returns\",\"Strategy Returns\",\"Strategy Returns\",\"Strategy Returns\",\"Strategy Returns\",\"Strategy Returns\",\"Strategy Returns\",\"Strategy Returns\",\"Strategy Returns\",\"Strategy Returns\",\"Strategy Returns\",\"Strategy Returns\",\"Strategy Returns\",\"Strategy Returns\",\"Strategy Returns\",\"Strategy Returns\",\"Strategy Returns\",\"Strategy Returns\",\"Strategy Returns\",\"Strategy Returns\",\"Strategy Returns\",\"Strategy Returns\",\"Strategy Returns\",\"Strategy Returns\",\"Strategy Returns\",\"Strategy Returns\",\"Strategy Returns\",\"Strategy Returns\",\"Strategy Returns\",\"Strategy Returns\",\"Strategy Returns\",\"Strategy Returns\",\"Strategy Returns\",\"Strategy Returns\",\"Strategy Returns\",\"Strategy Returns\",\"Strategy Returns\",\"Strategy Returns\",\"Strategy Returns\",\"Strategy Returns\",\"Strategy Returns\",\"Strategy Returns\",\"Strategy Returns\",\"Strategy Returns\",\"Strategy Returns\",\"Strategy Returns\",\"Strategy Returns\",\"Strategy Returns\",\"Strategy Returns\",\"Strategy Returns\",\"Strategy Returns\",\"Strategy Returns\",\"Strategy Returns\",\"Strategy Returns\",\"Strategy Returns\",\"Strategy Returns\",\"Strategy Returns\",\"Strategy Returns\",\"Strategy Returns\",\"Strategy Returns\",\"Strategy Returns\",\"Strategy Returns\",\"Strategy Returns\",\"Strategy Returns\",\"Strategy Returns\",\"Strategy Returns\",\"Strategy Returns\",\"Strategy Returns\",\"Strategy Returns\",\"Strategy Returns\",\"Strategy Returns\",\"Strategy Returns\",\"Strategy Returns\",\"Strategy Returns\",\"Strategy Returns\",\"Strategy Returns\",\"Strategy Returns\",\"Strategy Returns\",\"Strategy Returns\",\"Strategy Returns\",\"Strategy Returns\",\"Strategy Returns\",\"Strategy Returns\",\"Strategy Returns\",\"Strategy Returns\",\"Strategy Returns\",\"Strategy Returns\",\"Strategy Returns\",\"Strategy Returns\",\"Strategy Returns\",\"Strategy Returns\",\"Strategy Returns\",\"Strategy Returns\",\"Strategy Returns\",\"Strategy Returns\",\"Strategy Returns\",\"Strategy Returns\",\"Strategy Returns\",\"Strategy Returns\",\"Strategy Returns\",\"Strategy Returns\",\"Strategy Returns\",\"Strategy Returns\",\"Strategy Returns\",\"Strategy Returns\",\"Strategy Returns\",\"Strategy Returns\",\"Strategy Returns\",\"Strategy Returns\",\"Strategy Returns\",\"Strategy Returns\",\"Strategy Returns\",\"Strategy Returns\",\"Strategy Returns\",\"Strategy Returns\",\"Strategy Returns\",\"Strategy Returns\",\"Strategy Returns\",\"Strategy Returns\",\"Strategy Returns\",\"Strategy Returns\",\"Strategy Returns\",\"Strategy Returns\",\"Strategy Returns\",\"Strategy Returns\",\"Strategy Returns\",\"Strategy Returns\",\"Strategy Returns\",\"Strategy Returns\",\"Strategy Returns\",\"Strategy Returns\",\"Strategy Returns\",\"Strategy Returns\",\"Strategy Returns\",\"Strategy Returns\",\"Strategy Returns\",\"Strategy Returns\",\"Strategy Returns\",\"Strategy Returns\",\"Strategy Returns\",\"Strategy Returns\",\"Strategy Returns\",\"Strategy Returns\",\"Strategy Returns\",\"Strategy Returns\",\"Strategy Returns\",\"Strategy Returns\",\"Strategy Returns\",\"Strategy Returns\",\"Strategy Returns\",\"Strategy Returns\",\"Strategy Returns\",\"Strategy Returns\",\"Strategy Returns\",\"Strategy Returns\",\"Strategy Returns\",\"Strategy Returns\",\"Strategy Returns\",\"Strategy Returns\",\"Strategy Returns\",\"Strategy Returns\",\"Strategy Returns\",\"Strategy Returns\",\"Strategy Returns\",\"Strategy Returns\",\"Strategy Returns\",\"Strategy Returns\",\"Strategy Returns\",\"Strategy Returns\",\"Strategy Returns\",\"Strategy Returns\",\"Strategy Returns\",\"Strategy Returns\",\"Strategy Returns\",\"Strategy Returns\",\"Strategy Returns\",\"Strategy Returns\",\"Strategy Returns\",\"Strategy Returns\",\"Strategy Returns\",\"Strategy Returns\",\"Strategy Returns\",\"Strategy Returns\",\"Strategy Returns\",\"Strategy Returns\",\"Strategy Returns\",\"Strategy Returns\",\"Strategy Returns\",\"Strategy Returns\",\"Strategy Returns\",\"Strategy Returns\",\"Strategy Returns\",\"Strategy Returns\",\"Strategy Returns\",\"Strategy Returns\",\"Strategy Returns\",\"Strategy Returns\",\"Strategy Returns\",\"Strategy Returns\",\"Strategy Returns\",\"Strategy Returns\",\"Strategy Returns\",\"Strategy Returns\",\"Strategy Returns\",\"Strategy Returns\",\"Strategy Returns\",\"Strategy Returns\",\"Strategy Returns\",\"Strategy Returns\",\"Strategy Returns\",\"Strategy Returns\",\"Strategy Returns\",\"Strategy Returns\",\"Strategy Returns\",\"Strategy Returns\",\"Strategy Returns\",\"Strategy Returns\",\"Strategy Returns\",\"Strategy Returns\",\"Strategy Returns\",\"Strategy Returns\",\"Strategy Returns\",\"Strategy Returns\",\"Strategy Returns\",\"Strategy Returns\",\"Strategy Returns\",\"Strategy Returns\",\"Strategy Returns\",\"Strategy Returns\",\"Strategy Returns\",\"Strategy Returns\",\"Strategy Returns\",\"Strategy Returns\",\"Strategy Returns\",\"Strategy Returns\",\"Strategy Returns\",\"Strategy Returns\",\"Strategy Returns\",\"Strategy Returns\",\"Strategy Returns\",\"Strategy Returns\",\"Strategy Returns\",\"Strategy Returns\",\"Strategy Returns\",\"Strategy Returns\",\"Strategy Returns\",\"Strategy Returns\",\"Strategy Returns\",\"Strategy Returns\",\"Strategy Returns\",\"Strategy Returns\",\"Strategy Returns\",\"Strategy Returns\",\"Strategy Returns\",\"Strategy Returns\",\"Strategy Returns\",\"Strategy Returns\",\"Strategy Returns\",\"Strategy Returns\",\"Strategy Returns\",\"Strategy Returns\",\"Strategy Returns\",\"Strategy Returns\",\"Strategy Returns\",\"Strategy Returns\",\"Strategy Returns\",\"Strategy Returns\",\"Strategy Returns\",\"Strategy Returns\",\"Strategy Returns\",\"Strategy Returns\",\"Strategy Returns\",\"Strategy Returns\",\"Strategy Returns\",\"Strategy Returns\",\"Strategy Returns\",\"Strategy Returns\",\"Strategy Returns\",\"Strategy Returns\",\"Strategy Returns\",\"Strategy Returns\",\"Strategy Returns\",\"Strategy Returns\",\"Strategy Returns\",\"Strategy Returns\",\"Strategy Returns\",\"Strategy Returns\",\"Strategy Returns\",\"Strategy Returns\",\"Strategy Returns\",\"Strategy Returns\",\"Strategy Returns\",\"Strategy Returns\",\"Strategy Returns\",\"Strategy Returns\",\"Strategy Returns\",\"Strategy Returns\",\"Strategy Returns\",\"Strategy Returns\",\"Strategy Returns\",\"Strategy Returns\",\"Strategy Returns\",\"Strategy Returns\",\"Strategy Returns\",\"Strategy Returns\",\"Strategy Returns\",\"Strategy Returns\",\"Strategy Returns\",\"Strategy Returns\",\"Strategy Returns\",\"Strategy Returns\",\"Strategy Returns\",\"Strategy Returns\",\"Strategy Returns\",\"Strategy Returns\",\"Strategy Returns\",\"Strategy Returns\",\"Strategy Returns\",\"Strategy Returns\",\"Strategy Returns\",\"Strategy Returns\",\"Strategy Returns\",\"Strategy Returns\",\"Strategy Returns\",\"Strategy Returns\",\"Strategy Returns\",\"Strategy Returns\",\"Strategy Returns\",\"Strategy Returns\",\"Strategy Returns\",\"Strategy Returns\",\"Strategy Returns\",\"Strategy Returns\",\"Strategy Returns\",\"Strategy Returns\",\"Strategy Returns\",\"Strategy Returns\",\"Strategy Returns\",\"Strategy Returns\",\"Strategy Returns\",\"Strategy Returns\",\"Strategy Returns\",\"Strategy Returns\",\"Strategy Returns\",\"Strategy Returns\",\"Strategy Returns\",\"Strategy Returns\",\"Strategy Returns\",\"Strategy Returns\",\"Strategy Returns\",\"Strategy Returns\",\"Strategy Returns\",\"Strategy Returns\",\"Strategy Returns\",\"Strategy Returns\",\"Strategy Returns\",\"Strategy Returns\",\"Strategy Returns\",\"Strategy Returns\",\"Strategy Returns\",\"Strategy Returns\",\"Strategy Returns\",\"Strategy Returns\",\"Strategy Returns\",\"Strategy Returns\",\"Strategy Returns\",\"Strategy Returns\",\"Strategy Returns\",\"Strategy Returns\",\"Strategy Returns\",\"Strategy Returns\",\"Strategy Returns\",\"Strategy Returns\",\"Strategy Returns\",\"Strategy Returns\",\"Strategy Returns\",\"Strategy Returns\",\"Strategy Returns\",\"Strategy Returns\",\"Strategy Returns\",\"Strategy Returns\",\"Strategy Returns\",\"Strategy Returns\",\"Strategy Returns\",\"Strategy Returns\",\"Strategy Returns\",\"Strategy Returns\",\"Strategy Returns\",\"Strategy Returns\",\"Strategy Returns\",\"Strategy Returns\",\"Strategy Returns\",\"Strategy Returns\",\"Strategy Returns\",\"Strategy Returns\",\"Strategy Returns\",\"Strategy Returns\",\"Strategy Returns\"],\"value\":{\"__ndarray__\":\"LLyL5lO87z+XAqQ7MqPvP/fynmfrkO8/qH6/meOS7z8VYpQeymrvP76uDbEYxu8/2WnQrnNc7z/mPe+421bvP+Y977jbVu8/5j3vuNtW7z/mPe+421bvP+Y977jbVu8/5j3vuNtW7z/mPe+421bvP+Y977jbVu8/5j3vuNtW7z/mPe+421bvP+Y977jbVu8/5j3vuNtW7z/mPe+421bvP+Y977jbVu8/5j3vuNtW7z/mPe+421bvP+Y977jbVu8/5j3vuNtW7z/mPe+421bvP+Y977jbVu8/5j3vuNtW7z/mPe+421bvP+Y977jbVu8/5j3vuNtW7z/mPe+421bvP+Y977jbVu8/5j3vuNtW7z/mPe+421bvP+Y977jbVu8/5j3vuNtW7z/mPe+421bvP+Y977jbVu8/5j3vuNtW7z/mPe+421bvP+Y977jbVu8/5j3vuNtW7z/mPe+421bvP+Y977jbVu8/5j3vuNtW7z/mPe+421bvP+Y977jbVu8/5j3vuNtW7z/mPe+421bvP+Y977jbVu8/5j3vuNtW7z/mPe+421bvP+Y977jbVu8/5j3vuNtW7z/mPe+421bvP+Y977jbVu8/5j3vuNtW7z/mPe+421bvP+Y977jbVu8/5j3vuNtW7z/mPe+421bvP+Y977jbVu8/5j3vuNtW7z/mPe+421bvP+Y977jbVu8/5j3vuNtW7z/mPe+421bvP+Y977jbVu8/5j3vuNtW7z/mPe+421bvP+Y977jbVu8/5j3vuNtW7z/mPe+421bvP+Y977jbVu8/5j3vuNtW7z/mPe+421bvP+Y977jbVu8/5j3vuNtW7z/mPe+421bvP+Y977jbVu8/5j3vuNtW7z/mPe+421bvP+Y977jbVu8/5j3vuNtW7z/mPe+421bvP+Y977jbVu8/5j3vuNtW7z/mPe+421bvP+Y977jbVu8/5j3vuNtW7z/mPe+421bvP+Y977jbVu8/5j3vuNtW7z/mPe+421bvP+Y977jbVu8/5j3vuNtW7z/mPe+421bvP+Y977jbVu8/5j3vuNtW7z/mPe+421bvP+Y977jbVu8/5j3vuNtW7z/mPe+421bvP+Y977jbVu8/5j3vuNtW7z/mPe+421bvP+Y977jbVu8/5j3vuNtW7z/mPe+421bvP+Y977jbVu8/5j3vuNtW7z/mPe+421bvP+Y977jbVu8/5j3vuNtW7z/mPe+421bvP+Y977jbVu8/5j3vuNtW7z/mPe+421bvP+Y977jbVu8/5j3vuNtW7z/mPe+421bvP+Y977jbVu8/5j3vuNtW7z/mPe+421bvP+Y977jbVu8/5j3vuNtW7z/mPe+421bvP+Y977jbVu8/5j3vuNtW7z/mPe+421bvP+Y977jbVu8/5j3vuNtW7z/mPe+421bvP+Y977jbVu8/5j3vuNtW7z/mPe+421bvP+Y977jbVu8/5j3vuNtW7z/mPe+421bvP+Y977jbVu8/5j3vuNtW7z/mPe+421bvP+Y977jbVu8/5j3vuNtW7z/mPe+421bvP+Y977jbVu8/5j3vuNtW7z/mPe+421bvP+Y977jbVu8/5j3vuNtW7z/mPe+421bvP+Y977jbVu8/5j3vuNtW7z/mPe+421bvP+Y977jbVu8/5j3vuNtW7z/mPe+421bvP+Y977jbVu8/5j3vuNtW7z/mPe+421bvP+Y977jbVu8/5j3vuNtW7z/mPe+421bvP+Y977jbVu8/5j3vuNtW7z/mPe+421bvP+Y977jbVu8/5j3vuNtW7z/mPe+421bvP+Y977jbVu8/5j3vuNtW7z/mPe+421bvP+Y977jbVu8/5j3vuNtW7z/mPe+421bvP+Y977jbVu8/5j3vuNtW7z/mPe+421bvP+Y977jbVu8/5j3vuNtW7z/mPe+421bvP+Y977jbVu8/5j3vuNtW7z/mPe+421bvP+Y977jbVu8/5j3vuNtW7z/mPe+421bvP+Y977jbVu8/5j3vuNtW7z/mPe+421bvP+Y977jbVu8/5j3vuNtW7z/mPe+421bvP+Y977jbVu8/5j3vuNtW7z/mPe+421bvP+Y977jbVu8/5j3vuNtW7z/mPe+421bvP+Y977jbVu8/5j3vuNtW7z/mPe+421bvP+Y977jbVu8/5j3vuNtW7z/mPe+421bvP+Y977jbVu8/5j3vuNtW7z/mPe+421bvP+Y977jbVu8/5j3vuNtW7z/mPe+421bvP+Y977jbVu8/5j3vuNtW7z/mPe+421bvP+Y977jbVu8/5j3vuNtW7z/mPe+421bvP+Y977jbVu8/5j3vuNtW7z/mPe+421bvP+Y977jbVu8/5j3vuNtW7z/mPe+421bvP+Y977jbVu8/5j3vuNtW7z/mPe+421bvP+Y977jbVu8/5j3vuNtW7z/mPe+421bvP+Y977jbVu8/5j3vuNtW7z/mPe+421bvP+Y977jbVu8/5j3vuNtW7z/mPe+421bvP+Y977jbVu8/5j3vuNtW7z/mPe+421bvP+Y977jbVu8/5j3vuNtW7z/mPe+421bvP+Y977jbVu8/5j3vuNtW7z/mPe+421bvP+Y977jbVu8/5j3vuNtW7z/mPe+421bvP+Y977jbVu8/5j3vuNtW7z/mPe+421bvP+Y977jbVu8/5j3vuNtW7z/mPe+421bvP+Y977jbVu8/5j3vuNtW7z/mPe+421bvP+Y977jbVu8/5j3vuNtW7z/mPe+421bvP+Y977jbVu8/5j3vuNtW7z/mPe+421bvP+Y977jbVu8/5j3vuNtW7z/mPe+421bvP+Y977jbVu8/5j3vuNtW7z/mPe+421bvP+Y977jbVu8/5j3vuNtW7z/mPe+421bvP+Y977jbVu8/5j3vuNtW7z/mPe+421bvP+Y977jbVu8/5j3vuNtW7z/mPe+421bvP+Y977jbVu8/5j3vuNtW7z/mPe+421bvP+Y977jbVu8/5j3vuNtW7z/mPe+421bvP+Y977jbVu8/5j3vuNtW7z/mPe+421bvP+Y977jbVu8/5j3vuNtW7z/mPe+421bvP+Y977jbVu8/5j3vuNtW7z/mPe+421bvP+Y977jbVu8/5j3vuNtW7z/mPe+421bvP+Y977jbVu8/5j3vuNtW7z/mPe+421bvP+Y977jbVu8/5j3vuNtW7z/mPe+421bvP+Y977jbVu8/5j3vuNtW7z/mPe+421bvP+Y977jbVu8/5j3vuNtW7z/mPe+421bvP+Y977jbVu8/5j3vuNtW7z/mPe+421bvP+Y977jbVu8/5j3vuNtW7z/mPe+421bvP+Y977jbVu8/5j3vuNtW7z/mPe+421bvP+Y977jbVu8/5j3vuNtW7z/mPe+421bvP+Y977jbVu8/5j3vuNtW7z/mPe+421bvP+Y977jbVu8/5j3vuNtW7z/mPe+421bvP+Y977jbVu8/5j3vuNtW7z/mPe+421bvP+Y977jbVu8/5j3vuNtW7z/mPe+421bvP+Y977jbVu8/5j3vuNtW7z/mPe+421bvP+Y977jbVu8/5j3vuNtW7z/mPe+421bvP+Y977jbVu8/5j3vuNtW7z/mPe+421bvP+Y977jbVu8/5j3vuNtW7z/mPe+421bvP+Y977jbVu8/5j3vuNtW7z/mPe+421bvP+Y977jbVu8/5j3vuNtW7z/mPe+421bvP+Y977jbVu8/5j3vuNtW7z/mPe+421bvP+Y977jbVu8/5j3vuNtW7z/mPe+421bvP+Y977jbVu8/5j3vuNtW7z/mPe+421bvP+Y977jbVu8/5j3vuNtW7z/mPe+421bvP+Y977jbVu8/5j3vuNtW7z/mPe+421bvP+Y977jbVu8/5j3vuNtW7z/mPe+421bvP+Y977jbVu8/5j3vuNtW7z/mPe+421bvP+Y977jbVu8/5j3vuNtW7z/mPe+421bvP+Y977jbVu8/5j3vuNtW7z/mPe+421bvP+Y977jbVu8/5j3vuNtW7z/mPe+421bvP+Y977jbVu8/5j3vuNtW7z/mPe+421bvP+Y977jbVu8/5j3vuNtW7z/mPe+421bvP+Y977jbVu8/5j3vuNtW7z/mPe+421bvP+Y977jbVu8/5j3vuNtW7z/mPe+421bvP+Y977jbVu8/5j3vuNtW7z/mPe+421bvP+Y977jbVu8/5j3vuNtW7z/mPe+421bvP+Y977jbVu8/5j3vuNtW7z/mPe+421bvP+Y977jbVu8/5j3vuNtW7z/mPe+421bvP+Y977jbVu8/5j3vuNtW7z/mPe+421bvP+Y977jbVu8/5j3vuNtW7z/mPe+421bvP+Y977jbVu8/5j3vuNtW7z/mPe+421bvP+Y977jbVu8/5j3vuNtW7z/mPe+421bvP+Y977jbVu8/5j3vuNtW7z/mPe+421bvP+Y977jbVu8/5j3vuNtW7z/mPe+421bvP+Y977jbVu8/5j3vuNtW7z/mPe+421bvP+Y977jbVu8/5j3vuNtW7z/mPe+421bvP+Y977jbVu8/5j3vuNtW7z/mPe+421bvP+Y977jbVu8/5j3vuNtW7z/mPe+421bvP+Y977jbVu8/5j3vuNtW7z/mPe+421bvP+Y977jbVu8/5j3vuNtW7z/mPe+421bvP+Y977jbVu8/5j3vuNtW7z/mPe+421bvP+Y977jbVu8/5j3vuNtW7z/mPe+421bvP+Y977jbVu8/5j3vuNtW7z/mPe+421bvP+Y977jbVu8/5j3vuNtW7z/mPe+421bvP+Y977jbVu8/5j3vuNtW7z/mPe+421bvP+Y977jbVu8/5j3vuNtW7z/mPe+421bvP+Y977jbVu8/5j3vuNtW7z/mPe+421bvP+Y977jbVu8/5j3vuNtW7z/mPe+421bvP+Y977jbVu8/5j3vuNtW7z/mPe+421bvP+Y977jbVu8/5j3vuNtW7z/mPe+421bvP+Y977jbVu8/5j3vuNtW7z/mPe+421bvP+Y977jbVu8/5j3vuNtW7z/mPe+421bvP+Y977jbVu8/5j3vuNtW7z/mPe+421bvP+Y977jbVu8/5j3vuNtW7z/mPe+421bvP+Y977jbVu8/5j3vuNtW7z/mPe+421bvP+Y977jbVu8/5j3vuNtW7z/mPe+421bvP+Y977jbVu8/5j3vuNtW7z/mPe+421bvP+Y977jbVu8/5j3vuNtW7z/mPe+421bvP+Y977jbVu8/5j3vuNtW7z/mPe+421bvP+Y977jbVu8/5j3vuNtW7z/mPe+421bvP+Y977jbVu8/5j3vuNtW7z/mPe+421bvP+Y977jbVu8/5j3vuNtW7z/mPe+421bvP+Y977jbVu8/5j3vuNtW7z/mPe+421bvP+Y977jbVu8/5j3vuNtW7z/mPe+421bvP+Y977jbVu8/5j3vuNtW7z/mPe+421bvP+Y977jbVu8/5j3vuNtW7z/mPe+421bvP+Y977jbVu8/5j3vuNtW7z/mPe+421bvP+Y977jbVu8/5j3vuNtW7z/mPe+421bvP+Y977jbVu8/5j3vuNtW7z/mPe+421bvP+Y977jbVu8/5j3vuNtW7z/mPe+421bvP+Y977jbVu8/5j3vuNtW7z/mPe+421bvP+Y977jbVu8/5j3vuNtW7z/mPe+421bvP+Y977jbVu8/5j3vuNtW7z/mPe+421bvP+Y977jbVu8/5j3vuNtW7z/mPe+421bvP+Y977jbVu8/5j3vuNtW7z/mPe+421bvP+Y977jbVu8/5j3vuNtW7z/mPe+421bvP+Y977jbVu8/5j3vuNtW7z/mPe+421bvP+Y977jbVu8/5j3vuNtW7z/mPe+421bvP+Y977jbVu8/5j3vuNtW7z/mPe+421bvP+Y977jbVu8/5j3vuNtW7z/mPe+421bvP+Y977jbVu8/5j3vuNtW7z/mPe+421bvP+Y977jbVu8/5j3vuNtW7z/mPe+421bvP+Y977jbVu8/5j3vuNtW7z/mPe+421bvP+Y977jbVu8/5j3vuNtW7z/mPe+421bvP+Y977jbVu8/5j3vuNtW7z/mPe+421bvP+Y977jbVu8/5j3vuNtW7z/mPe+421bvP+Y977jbVu8/5j3vuNtW7z/mPe+421bvP+Y977jbVu8/5j3vuNtW7z/mPe+421bvP+Y977jbVu8/5j3vuNtW7z/mPe+421bvP+Y977jbVu8/5j3vuNtW7z/mPe+421bvP+Y977jbVu8/5j3vuNtW7z/mPe+421bvP+Y977jbVu8/5j3vuNtW7z/mPe+421bvP+Y977jbVu8/5j3vuNtW7z/mPe+421bvP+Y977jbVu8/5j3vuNtW7z/mPe+421bvP+Y977jbVu8/5j3vuNtW7z/mPe+421bvP+Y977jbVu8/5j3vuNtW7z/mPe+421bvP+Y977jbVu8/5j3vuNtW7z/mPe+421bvP+Y977jbVu8/5j3vuNtW7z/mPe+421bvP+Y977jbVu8/5j3vuNtW7z/mPe+421bvP+Y977jbVu8/5j3vuNtW7z/mPe+421bvP+Y977jbVu8/5j3vuNtW7z/mPe+421bvP+Y977jbVu8/5j3vuNtW7z/mPe+421bvP+Y977jbVu8/5j3vuNtW7z/mPe+421bvP+Y977jbVu8/5j3vuNtW7z/mPe+421bvP+Y977jbVu8/5j3vuNtW7z/mPe+421bvP+Y977jbVu8/5j3vuNtW7z/mPe+421bvP+Y977jbVu8/5j3vuNtW7z/mPe+421bvP+Y977jbVu8/5j3vuNtW7z/mPe+421bvP+Y977jbVu8/5j3vuNtW7z/mPe+421bvP+Y977jbVu8/5j3vuNtW7z/mPe+421bvP+Y977jbVu8/5j3vuNtW7z/mPe+421bvP+Y977jbVu8/5j3vuNtW7z/mPe+421bvP+Y977jbVu8/5j3vuNtW7z/mPe+421bvP+Y977jbVu8/5j3vuNtW7z/mPe+421bvP+Y977jbVu8/5j3vuNtW7z/mPe+421bvP+Y977jbVu8/5j3vuNtW7z/mPe+421bvP+Y977jbVu8/5j3vuNtW7z/mPe+421bvP+Y977jbVu8/5j3vuNtW7z/mPe+421bvP+Y977jbVu8/5j3vuNtW7z/mPe+421bvP+Y977jbVu8/5j3vuNtW7z/mPe+421bvP+Y977jbVu8/5j3vuNtW7z/mPe+421bvP+Y977jbVu8/5j3vuNtW7z/mPe+421bvP+Y977jbVu8/5j3vuNtW7z/mPe+421bvP+Y977jbVu8/5j3vuNtW7z/mPe+421bvP+Y977jbVu8/5j3vuNtW7z/mPe+421bvP+Y977jbVu8/5j3vuNtW7z/mPe+421bvP+Y977jbVu8/5j3vuNtW7z/mPe+421bvP+Y977jbVu8/5j3vuNtW7z/mPe+421bvP+Y977jbVu8/5j3vuNtW7z/mPe+421bvP+Y977jbVu8/5j3vuNtW7z/mPe+421bvP+Y977jbVu8/5j3vuNtW7z/mPe+421bvP+Y977jbVu8/5j3vuNtW7z/mPe+421bvP+Y977jbVu8/5j3vuNtW7z/mPe+421bvP+Y977jbVu8/5j3vuNtW7z/mPe+421bvP+Y977jbVu8/5j3vuNtW7z/mPe+421bvP+Y977jbVu8/5j3vuNtW7z/mPe+421bvP+Y977jbVu8/5j3vuNtW7z/mPe+421bvP+Y977jbVu8/5j3vuNtW7z/mPe+421bvP+Y977jbVu8/5j3vuNtW7z/mPe+421bvP+Y977jbVu8/5j3vuNtW7z/mPe+421bvP+Y977jbVu8/5j3vuNtW7z/mPe+421bvP+Y977jbVu8/5j3vuNtW7z/mPe+421bvP+Y977jbVu8/5j3vuNtW7z/mPe+421bvP+Y977jbVu8/5j3vuNtW7z/mPe+421bvP+Y977jbVu8/5j3vuNtW7z/mPe+421bvP+Y977jbVu8/5j3vuNtW7z/mPe+421bvP+Y977jbVu8/5j3vuNtW7z/mPe+421bvP+Y977jbVu8/5j3vuNtW7z/mPe+421bvP+Y977jbVu8/5j3vuNtW7z/mPe+421bvP+Y977jbVu8/5j3vuNtW7z/mPe+421bvP+Y977jbVu8/5j3vuNtW7z/mPe+421bvP+Y977jbVu8/5j3vuNtW7z/mPe+421bvP+Y977jbVu8/5j3vuNtW7z/mPe+421bvP+Y977jbVu8/5j3vuNtW7z/mPe+421bvP+Y977jbVu8/5j3vuNtW7z/mPe+421bvP+Y977jbVu8/5j3vuNtW7z/mPe+421bvP+Y977jbVu8/5j3vuNtW7z/mPe+421bvP+Y977jbVu8/5j3vuNtW7z/mPe+421bvP+Y977jbVu8/5j3vuNtW7z/mPe+421bvP+Y977jbVu8/5j3vuNtW7z/mPe+421bvP+Y977jbVu8/5j3vuNtW7z/mPe+421bvP+Y977jbVu8/5j3vuNtW7z/mPe+421bvP+Y977jbVu8/5j3vuNtW7z/mPe+421bvP+Y977jbVu8/5j3vuNtW7z/mPe+421bvP+Y977jbVu8/5j3vuNtW7z/mPe+421bvP+Y977jbVu8/5j3vuNtW7z/mPe+421bvP+Y977jbVu8/5j3vuNtW7z/mPe+421bvP+Y977jbVu8/5j3vuNtW7z/mPe+421bvP+Y977jbVu8/5j3vuNtW7z/mPe+421bvP+Y977jbVu8/5j3vuNtW7z/mPe+421bvP+Y977jbVu8/5j3vuNtW7z/mPe+421bvP+Y977jbVu8/5j3vuNtW7z/mPe+421bvP+Y977jbVu8/5j3vuNtW7z/mPe+421bvP+Y977jbVu8/5j3vuNtW7z/mPe+421bvP+Y977jbVu8/5j3vuNtW7z/mPe+421bvP+Y977jbVu8/5j3vuNtW7z/mPe+421bvP+Y977jbVu8/5j3vuNtW7z/mPe+421bvP+Y977jbVu8/5j3vuNtW7z/mPe+421bvP+Y977jbVu8/5j3vuNtW7z/mPe+421bvP+Y977jbVu8/5j3vuNtW7z/mPe+421bvP+Y977jbVu8/5j3vuNtW7z/mPe+421bvP+Y977jbVu8/5j3vuNtW7z/mPe+421bvP+Y977jbVu8/5j3vuNtW7z/mPe+421bvP+Y977jbVu8/5j3vuNtW7z/mPe+421bvP+Y977jbVu8/5j3vuNtW7z/mPe+421bvP+Y977jbVu8/5j3vuNtW7z/mPe+421bvP+Y977jbVu8/5j3vuNtW7z/mPe+421bvP+Y977jbVu8/5j3vuNtW7z/mPe+421bvP+Y977jbVu8/5j3vuNtW7z/mPe+421bvP+Y977jbVu8/5j3vuNtW7z/mPe+421bvP+Y977jbVu8/5j3vuNtW7z/mPe+421bvP+Y977jbVu8/5j3vuNtW7z/mPe+421bvP+Y977jbVu8/5j3vuNtW7z/mPe+421bvP+Y977jbVu8/5j3vuNtW7z/mPe+421bvP+Y977jbVu8/5j3vuNtW7z/mPe+421bvP+Y977jbVu8/5j3vuNtW7z/mPe+421bvP+Y977jbVu8/5j3vuNtW7z/mPe+421bvP+Y977jbVu8/5j3vuNtW7z/mPe+421bvP+Y977jbVu8/5j3vuNtW7z/mPe+421bvP+Y977jbVu8/5j3vuNtW7z/mPe+421bvP+Y977jbVu8/5j3vuNtW7z/mPe+421bvP+Y977jbVu8/5j3vuNtW7z/mPe+421bvP+Y977jbVu8/5j3vuNtW7z/mPe+421bvP+Y977jbVu8/5j3vuNtW7z/mPe+421bvP+Y977jbVu8/5j3vuNtW7z/mPe+421bvP+Y977jbVu8/5j3vuNtW7z/mPe+421bvP+Y977jbVu8/5j3vuNtW7z/mPe+421bvP+Y977jbVu8/5j3vuNtW7z/mPe+421bvP+Y977jbVu8/5j3vuNtW7z/mPe+421bvP+Y977jbVu8/5j3vuNtW7z/mPe+421bvP+Y977jbVu8/5j3vuNtW7z/mPe+421bvP+Y977jbVu8/5j3vuNtW7z/mPe+421bvP+Y977jbVu8/5j3vuNtW7z/mPe+421bvP+Y977jbVu8/5j3vuNtW7z/mPe+421bvP+Y977jbVu8/5j3vuNtW7z/mPe+421bvP+Y977jbVu8/5j3vuNtW7z/mPe+421bvP+Y977jbVu8/5j3vuNtW7z/mPe+421bvP+Y977jbVu8/5j3vuNtW7z/mPe+421bvP+Y977jbVu8/5j3vuNtW7z/mPe+421bvP+Y977jbVu8/5j3vuNtW7z/mPe+421bvP+Y977jbVu8/5j3vuNtW7z/mPe+421bvP+Y977jbVu8/5j3vuNtW7z/mPe+421bvP+Y977jbVu8/5j3vuNtW7z/mPe+421bvP+Y977jbVu8/5j3vuNtW7z/mPe+421bvP+Y977jbVu8/5j3vuNtW7z/mPe+421bvP+Y977jbVu8/5j3vuNtW7z/mPe+421bvP+Y977jbVu8/5j3vuNtW7z/mPe+421bvP+Y977jbVu8/5j3vuNtW7z/mPe+421bvP+Y977jbVu8/5j3vuNtW7z/mPe+421bvP+Y977jbVu8/5j3vuNtW7z/mPe+421bvP+Y977jbVu8/5j3vuNtW7z/mPe+421bvP+Y977jbVu8/5j3vuNtW7z/mPe+421bvP+Y977jbVu8/5j3vuNtW7z/mPe+421bvP+Y977jbVu8/5j3vuNtW7z/mPe+421bvP+Y977jbVu8/5j3vuNtW7z/mPe+421bvP+Y977jbVu8/5j3vuNtW7z/mPe+421bvP+Y977jbVu8/5j3vuNtW7z/mPe+421bvP+Y977jbVu8/5j3vuNtW7z/mPe+421bvP+Y977jbVu8/5j3vuNtW7z/mPe+421bvP+Y977jbVu8/5j3vuNtW7z/mPe+421bvP+Y977jbVu8/5j3vuNtW7z/mPe+421bvP+Y977jbVu8/5j3vuNtW7z/mPe+421bvP+Y977jbVu8/5j3vuNtW7z/mPe+421bvP+Y977jbVu8/5j3vuNtW7z/mPe+421bvP+Y977jbVu8/5j3vuNtW7z/mPe+421bvP+Y977jbVu8/5j3vuNtW7z/mPe+421bvP+Y977jbVu8/5j3vuNtW7z/mPe+421bvP+Y977jbVu8/5j3vuNtW7z/mPe+421bvP+Y977jbVu8/5j3vuNtW7z/mPe+421bvP+Y977jbVu8/5j3vuNtW7z/mPe+421bvP+Y977jbVu8/5j3vuNtW7z/mPe+421bvP+Y977jbVu8/5j3vuNtW7z/mPe+421bvP+Y977jbVu8/5j3vuNtW7z/mPe+421bvP+Y977jbVu8/5j3vuNtW7z/mPe+421bvP+Y977jbVu8/5j3vuNtW7z/mPe+421bvP+Y977jbVu8/5j3vuNtW7z/mPe+421bvP+Y977jbVu8/5j3vuNtW7z/mPe+421bvP+Y977jbVu8/5j3vuNtW7z8=\",\"dtype\":\"float64\",\"order\":\"little\",\"shape\":[1093]}},\"selected\":{\"id\":\"5688\"},\"selection_policy\":{\"id\":\"5704\"}},\"id\":\"5687\",\"type\":\"ColumnDataSource\"},{\"attributes\":{\"line_alpha\":0.1,\"line_color\":\"#30a2da\",\"line_width\":2,\"x\":{\"field\":\"Date\"},\"y\":{\"field\":\"value\"}},\"id\":\"5658\",\"type\":\"Line\"},{\"attributes\":{},\"id\":\"5688\",\"type\":\"Selection\"},{\"attributes\":{},\"id\":\"5635\",\"type\":\"SaveTool\"},{\"attributes\":{},\"id\":\"5669\",\"type\":\"UnionRenderers\"},{\"attributes\":{},\"id\":\"5683\",\"type\":\"YearsTicker\"},{\"attributes\":{},\"id\":\"5632\",\"type\":\"BasicTicker\"},{\"attributes\":{},\"id\":\"5636\",\"type\":\"PanTool\"},{\"attributes\":{\"margin\":[5,5,5,5],\"name\":\"HSpacer07553\",\"sizing_mode\":\"stretch_width\"},\"id\":\"5613\",\"type\":\"Spacer\"},{\"attributes\":{\"children\":[{\"id\":\"5613\"},{\"id\":\"5618\"},{\"id\":\"5937\"}],\"margin\":[0,0,0,0],\"name\":\"Row07549\",\"tags\":[\"embedded\"]},\"id\":\"5612\",\"type\":\"Row\"},{\"attributes\":{},\"id\":\"5637\",\"type\":\"WheelZoomTool\"},{\"attributes\":{\"tools\":[{\"id\":\"5616\"},{\"id\":\"5635\"},{\"id\":\"5636\"},{\"id\":\"5637\"},{\"id\":\"5638\"},{\"id\":\"5639\"}]},\"id\":\"5641\",\"type\":\"Toolbar\"},{\"attributes\":{\"mantissas\":[1,2,5],\"max_interval\":500.0,\"num_minor_ticks\":0},\"id\":\"5672\",\"type\":\"AdaptiveTicker\"},{\"attributes\":{\"months\":[0,6]},\"id\":\"5682\",\"type\":\"MonthsTicker\"},{\"attributes\":{\"margin\":[5,5,5,5],\"name\":\"HSpacer07554\",\"sizing_mode\":\"stretch_width\"},\"id\":\"5937\",\"type\":\"Spacer\"},{\"attributes\":{\"overlay\":{\"id\":\"5640\"}},\"id\":\"5638\",\"type\":\"BoxZoomTool\"},{\"attributes\":{},\"id\":\"5625\",\"type\":\"LinearScale\"},{\"attributes\":{},\"id\":\"5623\",\"type\":\"LinearScale\"},{\"attributes\":{\"line_color\":\"#30a2da\",\"line_width\":2,\"x\":{\"field\":\"Date\"},\"y\":{\"field\":\"value\"}},\"id\":\"5657\",\"type\":\"Line\"},{\"attributes\":{},\"id\":\"5652\",\"type\":\"BasicTickFormatter\"},{\"attributes\":{\"base\":24,\"mantissas\":[1,2,4,6,8,12],\"max_interval\":43200000.0,\"min_interval\":3600000.0,\"num_minor_ticks\":0},\"id\":\"5674\",\"type\":\"AdaptiveTicker\"},{\"attributes\":{\"axis_label\":\"Date\",\"coordinates\":null,\"formatter\":{\"id\":\"5649\"},\"group\":null,\"major_label_policy\":{\"id\":\"5650\"},\"ticker\":{\"id\":\"5628\"}},\"id\":\"5627\",\"type\":\"DatetimeAxis\"},{\"attributes\":{\"base\":60,\"mantissas\":[1,2,5,10,15,20,30],\"max_interval\":1800000.0,\"min_interval\":1000.0,\"num_minor_ticks\":0},\"id\":\"5673\",\"type\":\"AdaptiveTicker\"},{\"attributes\":{\"line_color\":\"#fc4f30\",\"line_width\":2,\"x\":{\"field\":\"Date\"},\"y\":{\"field\":\"value\"}},\"id\":\"5690\",\"type\":\"Line\"},{\"attributes\":{},\"id\":\"5639\",\"type\":\"ResetTool\"},{\"attributes\":{\"data\":{\"Date\":{\"__ndarray__\":\"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\",\"dtype\":\"float64\",\"order\":\"little\",\"shape\":[1093]},\"Variable\":[\"Actual Returns\",\"Actual Returns\",\"Actual Returns\",\"Actual Returns\",\"Actual Returns\",\"Actual Returns\",\"Actual Returns\",\"Actual Returns\",\"Actual Returns\",\"Actual Returns\",\"Actual Returns\",\"Actual Returns\",\"Actual Returns\",\"Actual Returns\",\"Actual Returns\",\"Actual Returns\",\"Actual Returns\",\"Actual Returns\",\"Actual Returns\",\"Actual Returns\",\"Actual Returns\",\"Actual Returns\",\"Actual Returns\",\"Actual Returns\",\"Actual Returns\",\"Actual Returns\",\"Actual Returns\",\"Actual Returns\",\"Actual Returns\",\"Actual Returns\",\"Actual Returns\",\"Actual Returns\",\"Actual Returns\",\"Actual Returns\",\"Actual Returns\",\"Actual Returns\",\"Actual Returns\",\"Actual Returns\",\"Actual Returns\",\"Actual Returns\",\"Actual Returns\",\"Actual Returns\",\"Actual Returns\",\"Actual Returns\",\"Actual Returns\",\"Actual Returns\",\"Actual Returns\",\"Actual Returns\",\"Actual Returns\",\"Actual Returns\",\"Actual Returns\",\"Actual Returns\",\"Actual Returns\",\"Actual Returns\",\"Actual Returns\",\"Actual Returns\",\"Actual Returns\",\"Actual Returns\",\"Actual Returns\",\"Actual Returns\",\"Actual Returns\",\"Actual Returns\",\"Actual Returns\",\"Actual Returns\",\"Actual Returns\",\"Actual Returns\",\"Actual Returns\",\"Actual Returns\",\"Actual Returns\",\"Actual Returns\",\"Actual Returns\",\"Actual Returns\",\"Actual Returns\",\"Actual Returns\",\"Actual Returns\",\"Actual Returns\",\"Actual Returns\",\"Actual Returns\",\"Actual Returns\",\"Actual Returns\",\"Actual Returns\",\"Actual Returns\",\"Actual Returns\",\"Actual Returns\",\"Actual Returns\",\"Actual Returns\",\"Actual Returns\",\"Actual Returns\",\"Actual Returns\",\"Actual Returns\",\"Actual Returns\",\"Actual Returns\",\"Actual Returns\",\"Actual Returns\",\"Actual Returns\",\"Actual Returns\",\"Actual Returns\",\"Actual Returns\",\"Actual Returns\",\"Actual Returns\",\"Actual Returns\",\"Actual Returns\",\"Actual Returns\",\"Actual Returns\",\"Actual Returns\",\"Actual Returns\",\"Actual Returns\",\"Actual Returns\",\"Actual Returns\",\"Actual Returns\",\"Actual Returns\",\"Actual Returns\",\"Actual Returns\",\"Actual Returns\",\"Actual Returns\",\"Actual Returns\",\"Actual Returns\",\"Actual Returns\",\"Actual Returns\",\"Actual Returns\",\"Actual Returns\",\"Actual Returns\",\"Actual Returns\",\"Actual Returns\",\"Actual Returns\",\"Actual Returns\",\"Actual Returns\",\"Actual Returns\",\"Actual Returns\",\"Actual Returns\",\"Actual Returns\",\"Actual Returns\",\"Actual Returns\",\"Actual Returns\",\"Actual Returns\",\"Actual Returns\",\"Actual Returns\",\"Actual Returns\",\"Actual Returns\",\"Actual Returns\",\"Actual Returns\",\"Actual Returns\",\"Actual Returns\",\"Actual Returns\",\"Actual Returns\",\"Actual Returns\",\"Actual Returns\",\"Actual Returns\",\"Actual Returns\",\"Actual Returns\",\"Actual Returns\",\"Actual Returns\",\"Actual Returns\",\"Actual Returns\",\"Actual Returns\",\"Actual Returns\",\"Actual Returns\",\"Actual Returns\",\"Actual Returns\",\"Actual Returns\",\"Actual Returns\",\"Actual Returns\",\"Actual Returns\",\"Actual Returns\",\"Actual Returns\",\"Actual Returns\",\"Actual Returns\",\"Actual Returns\",\"Actual Returns\",\"Actual Returns\",\"Actual Returns\",\"Actual Returns\",\"Actual Returns\",\"Actual Returns\",\"Actual Returns\",\"Actual Returns\",\"Actual Returns\",\"Actual Returns\",\"Actual Returns\",\"Actual Returns\",\"Actual Returns\",\"Actual Returns\",\"Actual Returns\",\"Actual Returns\",\"Actual Returns\",\"Actual Returns\",\"Actual Returns\",\"Actual Returns\",\"Actual Returns\",\"Actual Returns\",\"Actual Returns\",\"Actual Returns\",\"Actual Returns\",\"Actual Returns\",\"Actual Returns\",\"Actual Returns\",\"Actual Returns\",\"Actual Returns\",\"Actual Returns\",\"Actual Returns\",\"Actual Returns\",\"Actual Returns\",\"Actual Returns\",\"Actual Returns\",\"Actual Returns\",\"Actual Returns\",\"Actual Returns\",\"Actual Returns\",\"Actual Returns\",\"Actual Returns\",\"Actual Returns\",\"Actual Returns\",\"Actual Returns\",\"Actual Returns\",\"Actual Returns\",\"Actual Returns\",\"Actual Returns\",\"Actual Returns\",\"Actual Returns\",\"Actual Returns\",\"Actual Returns\",\"Actual Returns\",\"Actual Returns\",\"Actual Returns\",\"Actual Returns\",\"Actual Returns\",\"Actual Returns\",\"Actual Returns\",\"Actual Returns\",\"Actual Returns\",\"Actual Returns\",\"Actual Returns\",\"Actual Returns\",\"Actual Returns\",\"Actual Returns\",\"Actual Returns\",\"Actual Returns\",\"Actual Returns\",\"Actual Returns\",\"Actual Returns\",\"Actual Returns\",\"Actual Returns\",\"Actual Returns\",\"Actual Returns\",\"Actual Returns\",\"Actual Returns\",\"Actual Returns\",\"Actual Returns\",\"Actual Returns\",\"Actual Returns\",\"Actual Returns\",\"Actual Returns\",\"Actual Returns\",\"Actual Returns\",\"Actual Returns\",\"Actual Returns\",\"Actual Returns\",\"Actual Returns\",\"Actual Returns\",\"Actual Returns\",\"Actual Returns\",\"Actual Returns\",\"Actual Returns\",\"Actual Returns\",\"Actual Returns\",\"Actual Returns\",\"Actual Returns\",\"Actual Returns\",\"Actual Returns\",\"Actual Returns\",\"Actual Returns\",\"Actual Returns\",\"Actual Returns\",\"Actual Returns\",\"Actual Returns\",\"Actual Returns\",\"Actual Returns\",\"Actual Returns\",\"Actual Returns\",\"Actual Returns\",\"Actual Returns\",\"Actual Returns\",\"Actual Returns\",\"Actual Returns\",\"Actual Returns\",\"Actual Returns\",\"Actual Returns\",\"Actual Returns\",\"Actual Returns\",\"Actual Returns\",\"Actual Returns\",\"Actual Returns\",\"Actual Returns\",\"Actual Returns\",\"Actual Returns\",\"Actual Returns\",\"Actual Returns\",\"Actual Returns\",\"Actual Returns\",\"Actual Returns\",\"Actual Returns\",\"Actual Returns\",\"Actual Returns\",\"Actual Returns\",\"Actual Returns\",\"Actual Returns\",\"Actual Returns\",\"Actual Returns\",\"Actual Returns\",\"Actual Returns\",\"Actual Returns\",\"Actual Returns\",\"Actual Returns\",\"Actual Returns\",\"Actual Returns\",\"Actual Returns\",\"Actual Returns\",\"Actual Returns\",\"Actual Returns\",\"Actual Returns\",\"Actual Returns\",\"Actual Returns\",\"Actual Returns\",\"Actual Returns\",\"Actual Returns\",\"Actual Returns\",\"Actual Returns\",\"Actual Returns\",\"Actual Returns\",\"Actual Returns\",\"Actual Returns\",\"Actual Returns\",\"Actual Returns\",\"Actual Returns\",\"Actual Returns\",\"Actual Returns\",\"Actual Returns\",\"Actual Returns\",\"Actual Returns\",\"Actual Returns\",\"Actual Returns\",\"Actual Returns\",\"Actual Returns\",\"Actual Returns\",\"Actual Returns\",\"Actual Returns\",\"Actual Returns\",\"Actual Returns\",\"Actual Returns\",\"Actual Returns\",\"Actual Returns\",\"Actual Returns\",\"Actual Returns\",\"Actual Returns\",\"Actual Returns\",\"Actual Returns\",\"Actual Returns\",\"Actual Returns\",\"Actual Returns\",\"Actual Returns\",\"Actual Returns\",\"Actual Returns\",\"Actual Returns\",\"Actual Returns\",\"Actual Returns\",\"Actual Returns\",\"Actual Returns\",\"Actual Returns\",\"Actual Returns\",\"Actual Returns\",\"Actual Returns\",\"Actual Returns\",\"Actual Returns\",\"Actual Returns\",\"Actual Returns\",\"Actual Returns\",\"Actual Returns\",\"Actual Returns\",\"Actual Returns\",\"Actual Returns\",\"Actual Returns\",\"Actual Returns\",\"Actual Returns\",\"Actual Returns\",\"Actual Returns\",\"Actual Returns\",\"Actual Returns\",\"Actual Returns\",\"Actual Returns\",\"Actual Returns\",\"Actual Returns\",\"Actual Returns\",\"Actual Returns\",\"Actual Returns\",\"Actual Returns\",\"Actual Returns\",\"Actual Returns\",\"Actual Returns\",\"Actual Returns\",\"Actual Returns\",\"Actual Returns\",\"Actual Returns\",\"Actual Returns\",\"Actual Returns\",\"Actual Returns\",\"Actual Returns\",\"Actual Returns\",\"Actual Returns\",\"Actual Returns\",\"Actual Returns\",\"Actual Returns\",\"Actual Returns\",\"Actual Returns\",\"Actual Returns\",\"Actual Returns\",\"Actual Returns\",\"Actual Returns\",\"Actual Returns\",\"Actual Returns\",\"Actual Returns\",\"Actual Returns\",\"Actual Returns\",\"Actual Returns\",\"Actual Returns\",\"Actual Returns\",\"Actual Returns\",\"Actual Returns\",\"Actual Returns\",\"Actual Returns\",\"Actual Returns\",\"Actual Returns\",\"Actual Returns\",\"Actual Returns\",\"Actual Returns\",\"Actual Returns\",\"Actual Returns\",\"Actual Returns\",\"Actual Returns\",\"Actual Returns\",\"Actual Returns\",\"Actual Returns\",\"Actual Returns\",\"Actual Returns\",\"Actual Returns\",\"Actual Returns\",\"Actual Returns\",\"Actual Returns\",\"Actual Returns\",\"Actual Returns\",\"Actual Returns\",\"Actual Returns\",\"Actual Returns\",\"Actual Returns\",\"Actual Returns\",\"Actual Returns\",\"Actual Returns\",\"Actual Returns\",\"Actual Returns\",\"Actual Returns\",\"Actual Returns\",\"Actual Returns\",\"Actual Returns\",\"Actual Returns\",\"Actual Returns\",\"Actual Returns\",\"Actual Returns\",\"Actual Returns\",\"Actual Returns\",\"Actual Returns\",\"Actual Returns\",\"Actual Returns\",\"Actual Returns\",\"Actual Returns\",\"Actual Returns\",\"Actual Returns\",\"Actual Returns\",\"Actual Returns\",\"Actual Returns\",\"Actual Returns\",\"Actual Returns\",\"Actual Returns\",\"Actual Returns\",\"Actual Returns\",\"Actual Returns\",\"Actual Returns\",\"Actual Returns\",\"Actual Returns\",\"Actual Returns\",\"Actual Returns\",\"Actual Returns\",\"Actual Returns\",\"Actual Returns\",\"Actual Returns\",\"Actual Returns\",\"Actual Returns\",\"Actual Returns\",\"Actual Returns\",\"Actual Returns\",\"Actual Returns\",\"Actual Returns\",\"Actual Returns\",\"Actual Returns\",\"Actual Returns\",\"Actual Returns\",\"Actual Returns\",\"Actual Returns\",\"Actual Returns\",\"Actual Returns\",\"Actual Returns\",\"Actual Returns\",\"Actual Returns\",\"Actual Returns\",\"Actual Returns\",\"Actual Returns\",\"Actual Returns\",\"Actual Returns\",\"Actual Returns\",\"Actual Returns\",\"Actual Returns\",\"Actual Returns\",\"Actual Returns\",\"Actual Returns\",\"Actual Returns\",\"Actual Returns\",\"Actual Returns\",\"Actual Returns\",\"Actual Returns\",\"Actual Returns\",\"Actual Returns\",\"Actual Returns\",\"Actual Returns\",\"Actual Returns\",\"Actual Returns\",\"Actual Returns\",\"Actual Returns\",\"Actual Returns\",\"Actual Returns\",\"Actual Returns\",\"Actual Returns\",\"Actual Returns\",\"Actual Returns\",\"Actual Returns\",\"Actual Returns\",\"Actual Returns\",\"Actual Returns\",\"Actual Returns\",\"Actual Returns\",\"Actual Returns\",\"Actual Returns\",\"Actual Returns\",\"Actual Returns\",\"Actual Returns\",\"Actual Returns\",\"Actual Returns\",\"Actual Returns\",\"Actual Returns\",\"Actual Returns\",\"Actual Returns\",\"Actual Returns\",\"Actual Returns\",\"Actual Returns\",\"Actual Returns\",\"Actual Returns\",\"Actual Returns\",\"Actual Returns\",\"Actual Returns\",\"Actual Returns\",\"Actual Returns\",\"Actual Returns\",\"Actual Returns\",\"Actual Returns\",\"Actual Returns\",\"Actual Returns\",\"Actual Returns\",\"Actual Returns\",\"Actual Returns\",\"Actual Returns\",\"Actual Returns\",\"Actual Returns\",\"Actual Returns\",\"Actual Returns\",\"Actual Returns\",\"Actual Returns\",\"Actual Returns\",\"Actual Returns\",\"Actual Returns\",\"Actual Returns\",\"Actual Returns\",\"Actual Returns\",\"Actual Returns\",\"Actual Returns\",\"Actual Returns\",\"Actual Returns\",\"Actual Returns\",\"Actual Returns\",\"Actual Returns\",\"Actual Returns\",\"Actual Returns\",\"Actual Returns\",\"Actual Returns\",\"Actual Returns\",\"Actual Returns\",\"Actual Returns\",\"Actual Returns\",\"Actual Returns\",\"Actual Returns\",\"Actual Returns\",\"Actual Returns\",\"Actual Returns\",\"Actual Returns\",\"Actual Returns\",\"Actual Returns\",\"Actual Returns\",\"Actual Returns\",\"Actual Returns\",\"Actual Returns\",\"Actual Returns\",\"Actual Returns\",\"Actual Returns\",\"Actual Returns\",\"Actual Returns\",\"Actual Returns\",\"Actual Returns\",\"Actual Returns\",\"Actual Returns\",\"Actual Returns\",\"Actual Returns\",\"Actual Returns\",\"Actual Returns\",\"Actual Returns\",\"Actual Returns\",\"Actual Returns\",\"Actual Returns\",\"Actual Returns\",\"Actual Returns\",\"Actual Returns\",\"Actual Returns\",\"Actual Returns\",\"Actual Returns\",\"Actual Returns\",\"Actual Returns\",\"Actual Returns\",\"Actual Returns\",\"Actual Returns\",\"Actual Returns\",\"Actual Returns\",\"Actual Returns\",\"Actual Returns\",\"Actual Returns\",\"Actual Returns\",\"Actual Returns\",\"Actual Returns\",\"Actual Returns\",\"Actual Returns\",\"Actual Returns\",\"Actual Returns\",\"Actual Returns\",\"Actual Returns\",\"Actual Returns\",\"Actual Returns\",\"Actual Returns\",\"Actual Returns\",\"Actual Returns\",\"Actual Returns\",\"Actual Returns\",\"Actual Returns\",\"Actual Returns\",\"Actual Returns\",\"Actual Returns\",\"Actual Returns\",\"Actual Returns\",\"Actual Returns\",\"Actual Returns\",\"Actual Returns\",\"Actual Returns\",\"Actual Returns\",\"Actual Returns\",\"Actual Returns\",\"Actual Returns\",\"Actual Returns\",\"Actual Returns\",\"Actual Returns\",\"Actual Returns\",\"Actual Returns\",\"Actual Returns\",\"Actual Returns\",\"Actual Returns\",\"Actual Returns\",\"Actual Returns\",\"Actual Returns\",\"Actual Returns\",\"Actual Returns\",\"Actual Returns\",\"Actual Returns\",\"Actual Returns\",\"Actual Returns\",\"Actual Returns\",\"Actual Returns\",\"Actual Returns\",\"Actual Returns\",\"Actual Returns\",\"Actual Returns\",\"Actual Returns\",\"Actual Returns\",\"Actual Returns\",\"Actual Returns\",\"Actual Returns\",\"Actual Returns\",\"Actual Returns\",\"Actual Returns\",\"Actual Returns\",\"Actual Returns\",\"Actual Returns\",\"Actual Returns\",\"Actual Returns\",\"Actual Returns\",\"Actual Returns\",\"Actual Returns\",\"Actual Returns\",\"Actual Returns\",\"Actual Returns\",\"Actual Returns\",\"Actual Returns\",\"Actual Returns\",\"Actual Returns\",\"Actual Returns\",\"Actual Returns\",\"Actual Returns\",\"Actual Returns\",\"Actual Returns\",\"Actual Returns\",\"Actual Returns\",\"Actual Returns\",\"Actual Returns\",\"Actual Returns\",\"Actual Returns\",\"Actual Returns\",\"Actual Returns\",\"Actual Returns\",\"Actual Returns\",\"Actual Returns\",\"Actual Returns\",\"Actual Returns\",\"Actual Returns\",\"Actual Returns\",\"Actual Returns\",\"Actual Returns\",\"Actual Returns\",\"Actual Returns\",\"Actual Returns\",\"Actual Returns\",\"Actual Returns\",\"Actual Returns\",\"Actual Returns\",\"Actual Returns\",\"Actual Returns\",\"Actual Returns\",\"Actual Returns\",\"Actual Returns\",\"Actual Returns\",\"Actual Returns\",\"Actual Returns\",\"Actual Returns\",\"Actual Returns\",\"Actual Returns\",\"Actual Returns\",\"Actual Returns\",\"Actual Returns\",\"Actual Returns\",\"Actual Returns\",\"Actual Returns\",\"Actual Returns\",\"Actual Returns\",\"Actual Returns\",\"Actual Returns\",\"Actual Returns\",\"Actual Returns\",\"Actual Returns\",\"Actual Returns\",\"Actual Returns\",\"Actual Returns\",\"Actual Returns\",\"Actual Returns\",\"Actual Returns\",\"Actual Returns\",\"Actual Returns\",\"Actual Returns\",\"Actual Returns\",\"Actual Returns\",\"Actual Returns\",\"Actual Returns\",\"Actual Returns\",\"Actual Returns\",\"Actual Returns\",\"Actual Returns\",\"Actual Returns\",\"Actual Returns\",\"Actual Returns\",\"Actual Returns\",\"Actual Returns\",\"Actual Returns\",\"Actual Returns\",\"Actual Returns\",\"Actual Returns\",\"Actual Returns\",\"Actual Returns\",\"Actual Returns\",\"Actual Returns\",\"Actual Returns\",\"Actual Returns\",\"Actual Returns\",\"Actual Returns\",\"Actual Returns\",\"Actual Returns\",\"Actual Returns\",\"Actual Returns\",\"Actual Returns\",\"Actual Returns\",\"Actual Returns\",\"Actual Returns\",\"Actual Returns\",\"Actual Returns\",\"Actual Returns\",\"Actual Returns\",\"Actual Returns\",\"Actual Returns\",\"Actual Returns\",\"Actual Returns\",\"Actual Returns\",\"Actual Returns\",\"Actual Returns\",\"Actual Returns\",\"Actual Returns\",\"Actual Returns\",\"Actual Returns\",\"Actual Returns\",\"Actual Returns\",\"Actual Returns\",\"Actual Returns\",\"Actual Returns\",\"Actual Returns\",\"Actual Returns\",\"Actual Returns\",\"Actual Returns\",\"Actual Returns\",\"Actual Returns\",\"Actual Returns\",\"Actual Returns\",\"Actual Returns\",\"Actual Returns\",\"Actual Returns\",\"Actual Returns\",\"Actual Returns\",\"Actual Returns\",\"Actual Returns\",\"Actual Returns\",\"Actual Returns\",\"Actual Returns\",\"Actual Returns\",\"Actual Returns\",\"Actual Returns\",\"Actual Returns\",\"Actual Returns\",\"Actual Returns\",\"Actual Returns\",\"Actual Returns\",\"Actual Returns\",\"Actual Returns\",\"Actual Returns\",\"Actual Returns\",\"Actual Returns\",\"Actual Returns\",\"Actual Returns\",\"Actual Returns\",\"Actual Returns\",\"Actual Returns\",\"Actual Returns\",\"Actual Returns\",\"Actual Returns\",\"Actual Returns\",\"Actual Returns\",\"Actual Returns\",\"Actual Returns\",\"Actual Returns\",\"Actual Returns\",\"Actual Returns\",\"Actual Returns\",\"Actual Returns\",\"Actual Returns\",\"Actual Returns\",\"Actual Returns\",\"Actual Returns\",\"Actual Returns\",\"Actual Returns\",\"Actual Returns\",\"Actual Returns\",\"Actual Returns\",\"Actual Returns\",\"Actual Returns\",\"Actual Returns\",\"Actual Returns\",\"Actual Returns\",\"Actual Returns\",\"Actual Returns\",\"Actual Returns\",\"Actual Returns\",\"Actual Returns\",\"Actual Returns\",\"Actual Returns\",\"Actual Returns\",\"Actual Returns\",\"Actual Returns\",\"Actual Returns\",\"Actual Returns\",\"Actual Returns\",\"Actual Returns\",\"Actual Returns\",\"Actual Returns\",\"Actual Returns\",\"Actual Returns\",\"Actual Returns\",\"Actual Returns\",\"Actual Returns\",\"Actual Returns\",\"Actual Returns\",\"Actual Returns\",\"Actual Returns\",\"Actual Returns\",\"Actual Returns\",\"Actual Returns\",\"Actual Returns\",\"Actual Returns\",\"Actual Returns\",\"Actual Returns\",\"Actual Returns\",\"Actual Returns\",\"Actual Returns\",\"Actual Returns\",\"Actual Returns\",\"Actual Returns\",\"Actual Returns\",\"Actual Returns\",\"Actual Returns\",\"Actual Returns\",\"Actual Returns\",\"Actual Returns\",\"Actual Returns\",\"Actual Returns\",\"Actual Returns\",\"Actual Returns\",\"Actual Returns\",\"Actual Returns\",\"Actual Returns\",\"Actual Returns\",\"Actual Returns\",\"Actual Returns\",\"Actual Returns\",\"Actual Returns\",\"Actual Returns\",\"Actual Returns\",\"Actual Returns\",\"Actual Returns\",\"Actual Returns\",\"Actual Returns\",\"Actual Returns\",\"Actual Returns\",\"Actual Returns\",\"Actual Returns\",\"Actual Returns\",\"Actual Returns\",\"Actual Returns\",\"Actual Returns\",\"Actual Returns\",\"Actual Returns\",\"Actual Returns\",\"Actual Returns\",\"Actual Returns\",\"Actual Returns\",\"Actual Returns\",\"Actual Returns\",\"Actual Returns\",\"Actual Returns\",\"Actual Returns\",\"Actual Returns\",\"Actual Returns\",\"Actual Returns\",\"Actual Returns\",\"Actual Returns\",\"Actual Returns\",\"Actual Returns\",\"Actual Returns\",\"Actual Returns\",\"Actual Returns\",\"Actual Returns\",\"Actual Returns\",\"Actual Returns\",\"Actual Returns\",\"Actual Returns\",\"Actual Returns\",\"Actual Returns\",\"Actual Returns\",\"Actual Returns\",\"Actual Returns\",\"Actual Returns\",\"Actual Returns\",\"Actual Returns\",\"Actual Returns\",\"Actual Returns\",\"Actual Returns\",\"Actual Returns\",\"Actual Returns\",\"Actual Returns\",\"Actual Returns\",\"Actual Returns\",\"Actual Returns\",\"Actual Returns\",\"Actual Returns\",\"Actual Returns\",\"Actual Returns\",\"Actual Returns\",\"Actual Returns\",\"Actual Returns\",\"Actual Returns\",\"Actual Returns\",\"Actual Returns\",\"Actual Returns\",\"Actual Returns\",\"Actual Returns\",\"Actual Returns\",\"Actual Returns\",\"Actual Returns\",\"Actual Returns\",\"Actual Returns\",\"Actual Returns\",\"Actual Returns\",\"Actual Returns\",\"Actual Returns\",\"Actual Returns\",\"Actual Returns\",\"Actual Returns\",\"Actual Returns\",\"Actual Returns\",\"Actual Returns\",\"Actual Returns\",\"Actual Returns\",\"Actual Returns\",\"Actual Returns\",\"Actual Returns\",\"Actual Returns\",\"Actual Returns\",\"Actual Returns\",\"Actual Returns\",\"Actual Returns\",\"Actual Returns\",\"Actual Returns\",\"Actual Returns\",\"Actual Returns\",\"Actual Returns\",\"Actual Returns\",\"Actual Returns\",\"Actual Returns\",\"Actual Returns\",\"Actual Returns\",\"Actual Returns\",\"Actual Returns\",\"Actual Returns\",\"Actual Returns\",\"Actual Returns\",\"Actual Returns\",\"Actual Returns\",\"Actual Returns\",\"Actual Returns\",\"Actual Returns\",\"Actual Returns\",\"Actual Returns\",\"Actual Returns\",\"Actual Returns\",\"Actual Returns\",\"Actual Returns\",\"Actual Returns\",\"Actual Returns\",\"Actual Returns\",\"Actual Returns\",\"Actual Returns\",\"Actual Returns\",\"Actual Returns\",\"Actual Returns\",\"Actual Returns\",\"Actual Returns\",\"Actual Returns\",\"Actual Returns\",\"Actual Returns\",\"Actual Returns\"],\"value\":{\"__ndarray__\":\"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\",\"dtype\":\"float64\",\"order\":\"little\",\"shape\":[1093]}},\"selected\":{\"id\":\"5655\"},\"selection_policy\":{\"id\":\"5669\"}},\"id\":\"5654\",\"type\":\"ColumnDataSource\"},{\"attributes\":{},\"id\":\"5655\",\"type\":\"Selection\"},{\"attributes\":{\"bottom_units\":\"screen\",\"coordinates\":null,\"fill_alpha\":0.5,\"fill_color\":\"lightgrey\",\"group\":null,\"left_units\":\"screen\",\"level\":\"overlay\",\"line_alpha\":1.0,\"line_color\":\"black\",\"line_dash\":[4,4],\"line_width\":2,\"right_units\":\"screen\",\"syncable\":false,\"top_units\":\"screen\"},\"id\":\"5640\",\"type\":\"BoxAnnotation\"},{\"attributes\":{\"end\":1647302400000.0,\"reset_end\":1647302400000.0,\"reset_start\":1510185600000.0,\"start\":1510185600000.0,\"tags\":[[[\"Date\",\"Date\",null]]]},\"id\":\"5614\",\"type\":\"Range1d\"},{\"attributes\":{\"label\":{\"value\":\"Actual Returns\"},\"renderers\":[{\"id\":\"5660\"}]},\"id\":\"5685\",\"type\":\"LegendItem\"},{\"attributes\":{\"num_minor_ticks\":5,\"tickers\":[{\"id\":\"5672\"},{\"id\":\"5673\"},{\"id\":\"5674\"},{\"id\":\"5675\"},{\"id\":\"5676\"},{\"id\":\"5677\"},{\"id\":\"5678\"},{\"id\":\"5679\"},{\"id\":\"5680\"},{\"id\":\"5681\"},{\"id\":\"5682\"},{\"id\":\"5683\"}]},\"id\":\"5628\",\"type\":\"DatetimeTicker\"},{\"attributes\":{},\"id\":\"5650\",\"type\":\"AllLabels\"},{\"attributes\":{\"source\":{\"id\":\"5687\"}},\"id\":\"5694\",\"type\":\"CDSView\"},{\"attributes\":{\"days\":[1,2,3,4,5,6,7,8,9,10,11,12,13,14,15,16,17,18,19,20,21,22,23,24,25,26,27,28,29,30,31]},\"id\":\"5675\",\"type\":\"DaysTicker\"},{\"attributes\":{\"days\":[1,4,7,10,13,16,19,22,25,28]},\"id\":\"5676\",\"type\":\"DaysTicker\"},{\"attributes\":{\"coordinates\":null,\"group\":null,\"text_color\":\"black\",\"text_font_size\":\"12pt\"},\"id\":\"5619\",\"type\":\"Title\"},{\"attributes\":{\"label\":{\"value\":\"Strategy Returns\"},\"renderers\":[{\"id\":\"5693\"}]},\"id\":\"5719\",\"type\":\"LegendItem\"},{\"attributes\":{\"days\":[1,8,15,22]},\"id\":\"5677\",\"type\":\"DaysTicker\"},{\"attributes\":{\"axis\":{\"id\":\"5627\"},\"coordinates\":null,\"grid_line_color\":null,\"group\":null,\"ticker\":null},\"id\":\"5630\",\"type\":\"Grid\"},{\"attributes\":{\"line_alpha\":0.1,\"line_color\":\"#fc4f30\",\"line_width\":2,\"x\":{\"field\":\"Date\"},\"y\":{\"field\":\"value\"}},\"id\":\"5691\",\"type\":\"Line\"},{\"attributes\":{\"line_color\":\"#fc4f30\",\"line_width\":2,\"x\":{\"field\":\"Date\"},\"y\":{\"field\":\"value\"}},\"id\":\"5720\",\"type\":\"Line\"},{\"attributes\":{},\"id\":\"5649\",\"type\":\"DatetimeTickFormatter\"},{\"attributes\":{\"days\":[1,15]},\"id\":\"5678\",\"type\":\"DaysTicker\"},{\"attributes\":{\"end\":3.0946540389207127,\"reset_end\":3.0946540389207127,\"reset_start\":0.7428225154856395,\"start\":0.7428225154856395,\"tags\":[[[\"value\",\"value\",null]]]},\"id\":\"5615\",\"type\":\"Range1d\"},{\"attributes\":{\"axis\":{\"id\":\"5631\"},\"coordinates\":null,\"dimension\":1,\"grid_line_color\":null,\"group\":null,\"ticker\":null},\"id\":\"5634\",\"type\":\"Grid\"},{\"attributes\":{\"line_color\":\"#30a2da\",\"line_width\":2,\"x\":{\"field\":\"Date\"},\"y\":{\"field\":\"value\"}},\"id\":\"5686\",\"type\":\"Line\"},{\"attributes\":{\"coordinates\":null,\"data_source\":{\"id\":\"5687\"},\"glyph\":{\"id\":\"5690\"},\"group\":null,\"hover_glyph\":null,\"muted_glyph\":{\"id\":\"5692\"},\"nonselection_glyph\":{\"id\":\"5691\"},\"selection_glyph\":{\"id\":\"5720\"},\"view\":{\"id\":\"5694\"}},\"id\":\"5693\",\"type\":\"GlyphRenderer\"},{\"attributes\":{\"axis_label\":\"\",\"coordinates\":null,\"formatter\":{\"id\":\"5652\"},\"group\":null,\"major_label_policy\":{\"id\":\"5653\"},\"ticker\":{\"id\":\"5632\"}},\"id\":\"5631\",\"type\":\"LinearAxis\"},{\"attributes\":{\"months\":[0,1,2,3,4,5,6,7,8,9,10,11]},\"id\":\"5679\",\"type\":\"MonthsTicker\"},{\"attributes\":{\"line_alpha\":0.2,\"line_color\":\"#fc4f30\",\"line_width\":2,\"x\":{\"field\":\"Date\"},\"y\":{\"field\":\"value\"}},\"id\":\"5692\",\"type\":\"Line\"},{\"attributes\":{\"callback\":null,\"formatters\":{\"@{Date}\":\"datetime\"},\"renderers\":[{\"id\":\"5660\"},{\"id\":\"5693\"}],\"tags\":[\"hv_created\"],\"tooltips\":[[\"Variable\",\"@{Variable}\"],[\"Date\",\"@{Date}{%F %T}\"],[\"value\",\"@{value}\"]]},\"id\":\"5616\",\"type\":\"HoverTool\"},{\"attributes\":{\"line_alpha\":0.2,\"line_color\":\"#30a2da\",\"line_width\":2,\"x\":{\"field\":\"Date\"},\"y\":{\"field\":\"value\"}},\"id\":\"5659\",\"type\":\"Line\"},{\"attributes\":{\"months\":[0,2,4,6,8,10]},\"id\":\"5680\",\"type\":\"MonthsTicker\"},{\"attributes\":{},\"id\":\"5653\",\"type\":\"AllLabels\"},{\"attributes\":{\"months\":[0,4,8]},\"id\":\"5681\",\"type\":\"MonthsTicker\"},{\"attributes\":{},\"id\":\"5704\",\"type\":\"UnionRenderers\"},{\"attributes\":{\"click_policy\":\"mute\",\"coordinates\":null,\"group\":null,\"items\":[{\"id\":\"5685\"},{\"id\":\"5719\"}],\"location\":[0,0],\"title\":\"Variable\"},\"id\":\"5684\",\"type\":\"Legend\"}],\"root_ids\":[\"5612\"]},\"title\":\"Bokeh Application\",\"version\":\"2.4.1\"}};\n",
       "    var render_items = [{\"docid\":\"c4b28dfd-94b4-4f6d-b8ec-a7168e4b8a50\",\"root_ids\":[\"5612\"],\"roots\":{\"5612\":\"734523a2-18c4-4062-8003-ef984826648e\"}}];\n",
       "    root.Bokeh.embed.embed_items_notebook(docs_json, render_items);\n",
       "  }\n",
       "  if (root.Bokeh !== undefined && root.Bokeh.Panel !== undefined) {\n",
       "    embed_document(root);\n",
       "  } else {\n",
       "    var attempts = 0;\n",
       "    var timer = setInterval(function(root) {\n",
       "      if (root.Bokeh !== undefined && root.Bokeh.Panel !== undefined) {\n",
       "        clearInterval(timer);\n",
       "        embed_document(root);\n",
       "      } else if (document.readyState == \"complete\") {\n",
       "        attempts++;\n",
       "        if (attempts > 200) {\n",
       "          clearInterval(timer);\n",
       "          console.log(\"Bokeh: ERROR: Unable to run BokehJS code because BokehJS library is missing\");\n",
       "        }\n",
       "      }\n",
       "    }, 25, root)\n",
       "  }\n",
       "})(window);</script>"
      ],
      "text/plain": [
       ":NdOverlay   [Variable]\n",
       "   :Curve   [Date]   (value)"
      ]
     },
     "execution_count": 94,
     "metadata": {
      "application/vnd.holoviews_exec.v0+json": {
       "id": "5612"
      }
     },
     "output_type": "execute_result"
    }
   ],
   "source": [
    "# Plot the actual returns versus the strategy returns\n",
    "returns_plot = (1 + predictions_df[[\"Actual Returns\",\"Strategy Returns\"]]).cumprod().hvplot(width = 1000, height = 400)\n",
    "returns_plot\n",
    "                "
   ]
  },
  {
   "cell_type": "markdown",
   "metadata": {
    "id": "IeVevbQv0aDE"
   },
   "source": [
    "---\n",
    "\n",
    "## New Machine Learning Classifier\n",
    "\n"
   ]
  },
  {
   "cell_type": "markdown",
   "metadata": {
    "id": "zfBP3q7X0aDF"
   },
   "source": [
    "### Import a new classifier `LogisticRegression`"
   ]
  },
  {
   "cell_type": "code",
   "execution_count": 77,
   "metadata": {
    "id": "8SCbSOW10aDF"
   },
   "outputs": [],
   "source": [
    "# Import a new classifier from SKLearn\n",
    "from sklearn.linear_model import LogisticRegression\n",
    "\n",
    "# Initiate the model instance\n",
    "loreg_model = LogisticRegression()\n"
   ]
  },
  {
   "cell_type": "code",
   "execution_count": 78,
   "metadata": {
    "colab": {
     "base_uri": "https://localhost:8080/"
    },
    "id": "waeo3U-t0aDF",
    "outputId": "2741cae6-006e-4af7-88d8-dc5b1af06d3a"
   },
   "outputs": [
    {
     "data": {
      "text/plain": [
       "array([1., 1., 1., 1., 1., 1., 1., 1., 1., 1.])"
      ]
     },
     "execution_count": 78,
     "metadata": {},
     "output_type": "execute_result"
    }
   ],
   "source": [
    "# Fit the model using the training data\n",
    "loreg_model = loreg_model.fit(X_train_scaled,y_train)\n",
    "\n",
    "# Use the testing dataset to generate the predictions for the new model\n",
    "pred = loreg_model.predict(X_test_scaled)\n",
    "\n",
    "# Review the model's predicted values\n",
    "pred[:10]\n"
   ]
  },
  {
   "cell_type": "markdown",
   "metadata": {
    "id": "UDz7GABb0aDF"
   },
   "source": [
    "### Backtest the new model to evaluate its performance. \n"
   ]
  },
  {
   "cell_type": "code",
   "execution_count": 79,
   "metadata": {
    "colab": {
     "base_uri": "https://localhost:8080/"
    },
    "id": "iIqxif7S0aDF",
    "outputId": "65d152cf-ecfb-48ac-a7bb-ebe161a32aad"
   },
   "outputs": [
    {
     "name": "stdout",
     "output_type": "stream",
     "text": [
      "              precision    recall  f1-score   support\n",
      "\n",
      "         0.0       0.00      0.00      0.00       265\n",
      "         1.0       0.76      1.00      0.86       827\n",
      "\n",
      "    accuracy                           0.76      1092\n",
      "   macro avg       0.38      0.50      0.43      1092\n",
      "weighted avg       0.57      0.76      0.65      1092\n",
      "\n"
     ]
    },
    {
     "name": "stderr",
     "output_type": "stream",
     "text": [
      "/opt/anaconda3/envs/dev/lib/python3.7/site-packages/sklearn/metrics/_classification.py:1308: UndefinedMetricWarning: Precision and F-score are ill-defined and being set to 0.0 in labels with no predicted samples. Use `zero_division` parameter to control this behavior.\n",
      "  _warn_prf(average, modifier, msg_start, len(result))\n",
      "/opt/anaconda3/envs/dev/lib/python3.7/site-packages/sklearn/metrics/_classification.py:1308: UndefinedMetricWarning: Precision and F-score are ill-defined and being set to 0.0 in labels with no predicted samples. Use `zero_division` parameter to control this behavior.\n",
      "  _warn_prf(average, modifier, msg_start, len(result))\n",
      "/opt/anaconda3/envs/dev/lib/python3.7/site-packages/sklearn/metrics/_classification.py:1308: UndefinedMetricWarning: Precision and F-score are ill-defined and being set to 0.0 in labels with no predicted samples. Use `zero_division` parameter to control this behavior.\n",
      "  _warn_prf(average, modifier, msg_start, len(result))\n"
     ]
    }
   ],
   "source": [
    "# Use a classification report to evaluate the model using the predictions and testing data\n",
    "training_report = classification_report(y_test,pred)\n",
    "\n",
    "# Print the classification report\n",
    "print(training_report)\n"
   ]
  },
  {
   "cell_type": "code",
   "execution_count": 80,
   "metadata": {
    "colab": {
     "base_uri": "https://localhost:8080/",
     "height": 455
    },
    "id": "sDAiB8c_0aDF",
    "outputId": "3db0bc2e-a6d1-45e2-cff9-bb323c509d16"
   },
   "outputs": [
    {
     "data": {
      "text/html": [
       "<div>\n",
       "<style scoped>\n",
       "    .dataframe tbody tr th:only-of-type {\n",
       "        vertical-align: middle;\n",
       "    }\n",
       "\n",
       "    .dataframe tbody tr th {\n",
       "        vertical-align: top;\n",
       "    }\n",
       "\n",
       "    .dataframe thead th {\n",
       "        text-align: right;\n",
       "    }\n",
       "</style>\n",
       "<table border=\"1\" class=\"dataframe\">\n",
       "  <thead>\n",
       "    <tr style=\"text-align: right;\">\n",
       "      <th></th>\n",
       "      <th>Predictions</th>\n",
       "      <th>Actual Returns</th>\n",
       "      <th>Algorithm Returns</th>\n",
       "    </tr>\n",
       "    <tr>\n",
       "      <th>Date</th>\n",
       "      <th></th>\n",
       "      <th></th>\n",
       "      <th></th>\n",
       "    </tr>\n",
       "  </thead>\n",
       "  <tbody>\n",
       "    <tr>\n",
       "      <th>2017-11-10</th>\n",
       "      <td>1.0</td>\n",
       "      <td>-0.003093</td>\n",
       "      <td>-0.003093</td>\n",
       "    </tr>\n",
       "    <tr>\n",
       "      <th>2017-11-13</th>\n",
       "      <td>1.0</td>\n",
       "      <td>-0.002257</td>\n",
       "      <td>-0.002257</td>\n",
       "    </tr>\n",
       "    <tr>\n",
       "      <th>2017-11-14</th>\n",
       "      <td>1.0</td>\n",
       "      <td>0.000244</td>\n",
       "      <td>0.000244</td>\n",
       "    </tr>\n",
       "    <tr>\n",
       "      <th>2017-11-15</th>\n",
       "      <td>1.0</td>\n",
       "      <td>-0.004961</td>\n",
       "      <td>-0.004961</td>\n",
       "    </tr>\n",
       "    <tr>\n",
       "      <th>2017-11-16</th>\n",
       "      <td>1.0</td>\n",
       "      <td>0.011353</td>\n",
       "      <td>0.011353</td>\n",
       "    </tr>\n",
       "    <tr>\n",
       "      <th>...</th>\n",
       "      <td>...</td>\n",
       "      <td>...</td>\n",
       "      <td>...</td>\n",
       "    </tr>\n",
       "    <tr>\n",
       "      <th>2022-03-09</th>\n",
       "      <td>1.0</td>\n",
       "      <td>0.051757</td>\n",
       "      <td>0.051757</td>\n",
       "    </tr>\n",
       "    <tr>\n",
       "      <th>2022-03-10</th>\n",
       "      <td>1.0</td>\n",
       "      <td>-0.008845</td>\n",
       "      <td>-0.008845</td>\n",
       "    </tr>\n",
       "    <tr>\n",
       "      <th>2022-03-11</th>\n",
       "      <td>1.0</td>\n",
       "      <td>-0.016630</td>\n",
       "      <td>-0.016630</td>\n",
       "    </tr>\n",
       "    <tr>\n",
       "      <th>2022-03-14</th>\n",
       "      <td>1.0</td>\n",
       "      <td>-0.028622</td>\n",
       "      <td>-0.028622</td>\n",
       "    </tr>\n",
       "    <tr>\n",
       "      <th>2022-03-15</th>\n",
       "      <td>1.0</td>\n",
       "      <td>0.023035</td>\n",
       "      <td>0.023035</td>\n",
       "    </tr>\n",
       "  </tbody>\n",
       "</table>\n",
       "<p>1092 rows × 3 columns</p>\n",
       "</div>"
      ],
      "text/plain": [
       "            Predictions  Actual Returns  Algorithm Returns\n",
       "Date                                                      \n",
       "2017-11-10          1.0       -0.003093          -0.003093\n",
       "2017-11-13          1.0       -0.002257          -0.002257\n",
       "2017-11-14          1.0        0.000244           0.000244\n",
       "2017-11-15          1.0       -0.004961          -0.004961\n",
       "2017-11-16          1.0        0.011353           0.011353\n",
       "...                 ...             ...                ...\n",
       "2022-03-09          1.0        0.051757           0.051757\n",
       "2022-03-10          1.0       -0.008845          -0.008845\n",
       "2022-03-11          1.0       -0.016630          -0.016630\n",
       "2022-03-14          1.0       -0.028622          -0.028622\n",
       "2022-03-15          1.0        0.023035           0.023035\n",
       "\n",
       "[1092 rows x 3 columns]"
      ]
     },
     "execution_count": 80,
     "metadata": {},
     "output_type": "execute_result"
    }
   ],
   "source": [
    "# Create a new empty predictions DataFrame.\n",
    "\n",
    "# Create a predictions DataFrame\n",
    "predictions_df = pd.DataFrame(index = X_test.index)\n",
    "\n",
    "# Add the SVM model predictions to the DataFrame\n",
    "predictions_df[\"Predictions\"] = pred\n",
    "\n",
    "# Add the actual returns to the DataFrame\n",
    "predictions_df[\"Actual Returns\"] = G_signals_df[\"Actual Returns\"]\n",
    "\n",
    "# Add the strategy returns to the DataFrame\n",
    "predictions_df[\"Algorithm Returns\"] = predictions_df[\"Predictions\"] * predictions_df[\"Actual Returns\"]\n",
    "\n",
    "# Review the DataFrame\n",
    "predictions_df\n"
   ]
  },
  {
   "cell_type": "code",
   "execution_count": 81,
   "metadata": {
    "colab": {
     "base_uri": "https://localhost:8080/",
     "height": 17
    },
    "id": "gxEx3D4Y0aDF",
    "outputId": "eccd5a43-bbe2-417d-ca67-b957fb06ee73",
    "tags": []
   },
   "outputs": [
    {
     "data": {},
     "metadata": {},
     "output_type": "display_data"
    },
    {
     "data": {
      "application/vnd.holoviews_exec.v0+json": "",
      "text/html": [
       "<div id='5165'>\n",
       "\n",
       "\n",
       "\n",
       "\n",
       "\n",
       "  <div class=\"bk-root\" id=\"41aef62e-a24f-4f37-90d7-7dada64680d4\" data-root-id=\"5165\"></div>\n",
       "</div>\n",
       "<script type=\"application/javascript\">(function(root) {\n",
       "  function embed_document(root) {\n",
       "    var docs_json = {\"bdde58aa-26c3-409a-906f-8213cc7bf371\":{\"defs\":[{\"extends\":null,\"module\":null,\"name\":\"ReactiveHTML1\",\"overrides\":[],\"properties\":[]},{\"extends\":null,\"module\":null,\"name\":\"FlexBox1\",\"overrides\":[],\"properties\":[{\"default\":\"flex-start\",\"kind\":null,\"name\":\"align_content\"},{\"default\":\"flex-start\",\"kind\":null,\"name\":\"align_items\"},{\"default\":\"row\",\"kind\":null,\"name\":\"flex_direction\"},{\"default\":\"wrap\",\"kind\":null,\"name\":\"flex_wrap\"},{\"default\":\"flex-start\",\"kind\":null,\"name\":\"justify_content\"}]},{\"extends\":null,\"module\":null,\"name\":\"TemplateActions1\",\"overrides\":[],\"properties\":[{\"default\":0,\"kind\":null,\"name\":\"open_modal\"},{\"default\":0,\"kind\":null,\"name\":\"close_modal\"}]},{\"extends\":null,\"module\":null,\"name\":\"MaterialTemplateActions1\",\"overrides\":[],\"properties\":[{\"default\":0,\"kind\":null,\"name\":\"open_modal\"},{\"default\":0,\"kind\":null,\"name\":\"close_modal\"}]}],\"roots\":{\"references\":[{\"attributes\":{},\"id\":\"5178\",\"type\":\"LinearScale\"},{\"attributes\":{\"days\":[1,2,3,4,5,6,7,8,9,10,11,12,13,14,15,16,17,18,19,20,21,22,23,24,25,26,27,28,29,30,31]},\"id\":\"5228\",\"type\":\"DaysTicker\"},{\"attributes\":{},\"id\":\"5176\",\"type\":\"LinearScale\"},{\"attributes\":{\"data\":{\"Date\":{\"__ndarray__\":\"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\",\"dtype\":\"float64\",\"order\":\"little\",\"shape\":[1092]},\"Variable\":[\"Algorithm Returns\",\"Algorithm Returns\",\"Algorithm Returns\",\"Algorithm Returns\",\"Algorithm Returns\",\"Algorithm Returns\",\"Algorithm Returns\",\"Algorithm Returns\",\"Algorithm Returns\",\"Algorithm Returns\",\"Algorithm Returns\",\"Algorithm Returns\",\"Algorithm Returns\",\"Algorithm Returns\",\"Algorithm Returns\",\"Algorithm Returns\",\"Algorithm Returns\",\"Algorithm Returns\",\"Algorithm Returns\",\"Algorithm Returns\",\"Algorithm Returns\",\"Algorithm Returns\",\"Algorithm Returns\",\"Algorithm Returns\",\"Algorithm Returns\",\"Algorithm Returns\",\"Algorithm Returns\",\"Algorithm Returns\",\"Algorithm Returns\",\"Algorithm Returns\",\"Algorithm Returns\",\"Algorithm Returns\",\"Algorithm Returns\",\"Algorithm Returns\",\"Algorithm Returns\",\"Algorithm Returns\",\"Algorithm Returns\",\"Algorithm Returns\",\"Algorithm Returns\",\"Algorithm Returns\",\"Algorithm Returns\",\"Algorithm Returns\",\"Algorithm Returns\",\"Algorithm Returns\",\"Algorithm Returns\",\"Algorithm Returns\",\"Algorithm Returns\",\"Algorithm Returns\",\"Algorithm Returns\",\"Algorithm Returns\",\"Algorithm Returns\",\"Algorithm Returns\",\"Algorithm Returns\",\"Algorithm Returns\",\"Algorithm Returns\",\"Algorithm Returns\",\"Algorithm Returns\",\"Algorithm Returns\",\"Algorithm Returns\",\"Algorithm Returns\",\"Algorithm Returns\",\"Algorithm Returns\",\"Algorithm Returns\",\"Algorithm Returns\",\"Algorithm Returns\",\"Algorithm Returns\",\"Algorithm Returns\",\"Algorithm Returns\",\"Algorithm Returns\",\"Algorithm Returns\",\"Algorithm Returns\",\"Algorithm Returns\",\"Algorithm Returns\",\"Algorithm Returns\",\"Algorithm Returns\",\"Algorithm Returns\",\"Algorithm Returns\",\"Algorithm Returns\",\"Algorithm Returns\",\"Algorithm Returns\",\"Algorithm Returns\",\"Algorithm Returns\",\"Algorithm Returns\",\"Algorithm Returns\",\"Algorithm Returns\",\"Algorithm Returns\",\"Algorithm Returns\",\"Algorithm Returns\",\"Algorithm Returns\",\"Algorithm Returns\",\"Algorithm Returns\",\"Algorithm Returns\",\"Algorithm Returns\",\"Algorithm Returns\",\"Algorithm Returns\",\"Algorithm Returns\",\"Algorithm Returns\",\"Algorithm Returns\",\"Algorithm Returns\",\"Algorithm Returns\",\"Algorithm Returns\",\"Algorithm Returns\",\"Algorithm Returns\",\"Algorithm Returns\",\"Algorithm Returns\",\"Algorithm Returns\",\"Algorithm Returns\",\"Algorithm Returns\",\"Algorithm Returns\",\"Algorithm Returns\",\"Algorithm Returns\",\"Algorithm Returns\",\"Algorithm Returns\",\"Algorithm Returns\",\"Algorithm Returns\",\"Algorithm Returns\",\"Algorithm Returns\",\"Algorithm Returns\",\"Algorithm Returns\",\"Algorithm Returns\",\"Algorithm Returns\",\"Algorithm Returns\",\"Algorithm Returns\",\"Algorithm Returns\",\"Algorithm Returns\",\"Algorithm Returns\",\"Algorithm Returns\",\"Algorithm Returns\",\"Algorithm Returns\",\"Algorithm Returns\",\"Algorithm Returns\",\"Algorithm Returns\",\"Algorithm Returns\",\"Algorithm Returns\",\"Algorithm Returns\",\"Algorithm Returns\",\"Algorithm Returns\",\"Algorithm Returns\",\"Algorithm Returns\",\"Algorithm Returns\",\"Algorithm Returns\",\"Algorithm Returns\",\"Algorithm Returns\",\"Algorithm Returns\",\"Algorithm Returns\",\"Algorithm Returns\",\"Algorithm Returns\",\"Algorithm Returns\",\"Algorithm Returns\",\"Algorithm Returns\",\"Algorithm Returns\",\"Algorithm Returns\",\"Algorithm Returns\",\"Algorithm Returns\",\"Algorithm Returns\",\"Algorithm Returns\",\"Algorithm Returns\",\"Algorithm Returns\",\"Algorithm Returns\",\"Algorithm Returns\",\"Algorithm Returns\",\"Algorithm Returns\",\"Algorithm Returns\",\"Algorithm Returns\",\"Algorithm Returns\",\"Algorithm Returns\",\"Algorithm Returns\",\"Algorithm Returns\",\"Algorithm Returns\",\"Algorithm Returns\",\"Algorithm Returns\",\"Algorithm Returns\",\"Algorithm Returns\",\"Algorithm Returns\",\"Algorithm Returns\",\"Algorithm Returns\",\"Algorithm Returns\",\"Algorithm Returns\",\"Algorithm Returns\",\"Algorithm Returns\",\"Algorithm Returns\",\"Algorithm Returns\",\"Algorithm Returns\",\"Algorithm Returns\",\"Algorithm Returns\",\"Algorithm Returns\",\"Algorithm Returns\",\"Algorithm Returns\",\"Algorithm Returns\",\"Algorithm Returns\",\"Algorithm Returns\",\"Algorithm Returns\",\"Algorithm Returns\",\"Algorithm Returns\",\"Algorithm Returns\",\"Algorithm Returns\",\"Algorithm Returns\",\"Algorithm Returns\",\"Algorithm Returns\",\"Algorithm Returns\",\"Algorithm Returns\",\"Algorithm Returns\",\"Algorithm Returns\",\"Algorithm Returns\",\"Algorithm Returns\",\"Algorithm Returns\",\"Algorithm Returns\",\"Algorithm Returns\",\"Algorithm Returns\",\"Algorithm Returns\",\"Algorithm Returns\",\"Algorithm Returns\",\"Algorithm Returns\",\"Algorithm Returns\",\"Algorithm Returns\",\"Algorithm Returns\",\"Algorithm Returns\",\"Algorithm Returns\",\"Algorithm Returns\",\"Algorithm Returns\",\"Algorithm Returns\",\"Algorithm Returns\",\"Algorithm Returns\",\"Algorithm Returns\",\"Algorithm Returns\",\"Algorithm Returns\",\"Algorithm Returns\",\"Algorithm Returns\",\"Algorithm Returns\",\"Algorithm Returns\",\"Algorithm Returns\",\"Algorithm Returns\",\"Algorithm Returns\",\"Algorithm Returns\",\"Algorithm Returns\",\"Algorithm Returns\",\"Algorithm Returns\",\"Algorithm Returns\",\"Algorithm Returns\",\"Algorithm Returns\",\"Algorithm Returns\",\"Algorithm Returns\",\"Algorithm Returns\",\"Algorithm Returns\",\"Algorithm Returns\",\"Algorithm Returns\",\"Algorithm Returns\",\"Algorithm Returns\",\"Algorithm Returns\",\"Algorithm Returns\",\"Algorithm Returns\",\"Algorithm Returns\",\"Algorithm Returns\",\"Algorithm Returns\",\"Algorithm Returns\",\"Algorithm Returns\",\"Algorithm Returns\",\"Algorithm Returns\",\"Algorithm Returns\",\"Algorithm Returns\",\"Algorithm Returns\",\"Algorithm Returns\",\"Algorithm Returns\",\"Algorithm Returns\",\"Algorithm Returns\",\"Algorithm Returns\",\"Algorithm Returns\",\"Algorithm Returns\",\"Algorithm Returns\",\"Algorithm Returns\",\"Algorithm Returns\",\"Algorithm Returns\",\"Algorithm Returns\",\"Algorithm Returns\",\"Algorithm Returns\",\"Algorithm Returns\",\"Algorithm Returns\",\"Algorithm Returns\",\"Algorithm Returns\",\"Algorithm Returns\",\"Algorithm Returns\",\"Algorithm Returns\",\"Algorithm Returns\",\"Algorithm Returns\",\"Algorithm Returns\",\"Algorithm Returns\",\"Algorithm Returns\",\"Algorithm Returns\",\"Algorithm Returns\",\"Algorithm Returns\",\"Algorithm Returns\",\"Algorithm Returns\",\"Algorithm Returns\",\"Algorithm Returns\",\"Algorithm Returns\",\"Algorithm Returns\",\"Algorithm Returns\",\"Algorithm Returns\",\"Algorithm Returns\",\"Algorithm Returns\",\"Algorithm Returns\",\"Algorithm Returns\",\"Algorithm Returns\",\"Algorithm Returns\",\"Algorithm Returns\",\"Algorithm Returns\",\"Algorithm Returns\",\"Algorithm Returns\",\"Algorithm Returns\",\"Algorithm Returns\",\"Algorithm Returns\",\"Algorithm Returns\",\"Algorithm Returns\",\"Algorithm Returns\",\"Algorithm Returns\",\"Algorithm Returns\",\"Algorithm Returns\",\"Algorithm Returns\",\"Algorithm Returns\",\"Algorithm Returns\",\"Algorithm Returns\",\"Algorithm Returns\",\"Algorithm Returns\",\"Algorithm Returns\",\"Algorithm Returns\",\"Algorithm Returns\",\"Algorithm Returns\",\"Algorithm Returns\",\"Algorithm Returns\",\"Algorithm Returns\",\"Algorithm Returns\",\"Algorithm Returns\",\"Algorithm Returns\",\"Algorithm Returns\",\"Algorithm Returns\",\"Algorithm Returns\",\"Algorithm Returns\",\"Algorithm Returns\",\"Algorithm Returns\",\"Algorithm Returns\",\"Algorithm Returns\",\"Algorithm Returns\",\"Algorithm Returns\",\"Algorithm Returns\",\"Algorithm Returns\",\"Algorithm Returns\",\"Algorithm Returns\",\"Algorithm Returns\",\"Algorithm Returns\",\"Algorithm Returns\",\"Algorithm Returns\",\"Algorithm Returns\",\"Algorithm Returns\",\"Algorithm Returns\",\"Algorithm Returns\",\"Algorithm Returns\",\"Algorithm Returns\",\"Algorithm Returns\",\"Algorithm Returns\",\"Algorithm Returns\",\"Algorithm Returns\",\"Algorithm Returns\",\"Algorithm Returns\",\"Algorithm Returns\",\"Algorithm Returns\",\"Algorithm Returns\",\"Algorithm Returns\",\"Algorithm Returns\",\"Algorithm Returns\",\"Algorithm Returns\",\"Algorithm Returns\",\"Algorithm Returns\",\"Algorithm Returns\",\"Algorithm Returns\",\"Algorithm Returns\",\"Algorithm Returns\",\"Algorithm Returns\",\"Algorithm Returns\",\"Algorithm Returns\",\"Algorithm Returns\",\"Algorithm Returns\",\"Algorithm Returns\",\"Algorithm Returns\",\"Algorithm Returns\",\"Algorithm Returns\",\"Algorithm Returns\",\"Algorithm Returns\",\"Algorithm Returns\",\"Algorithm Returns\",\"Algorithm Returns\",\"Algorithm Returns\",\"Algorithm Returns\",\"Algorithm Returns\",\"Algorithm Returns\",\"Algorithm Returns\",\"Algorithm Returns\",\"Algorithm Returns\",\"Algorithm Returns\",\"Algorithm Returns\",\"Algorithm Returns\",\"Algorithm Returns\",\"Algorithm Returns\",\"Algorithm Returns\",\"Algorithm Returns\",\"Algorithm Returns\",\"Algorithm Returns\",\"Algorithm Returns\",\"Algorithm Returns\",\"Algorithm Returns\",\"Algorithm Returns\",\"Algorithm Returns\",\"Algorithm Returns\",\"Algorithm Returns\",\"Algorithm Returns\",\"Algorithm Returns\",\"Algorithm Returns\",\"Algorithm Returns\",\"Algorithm Returns\",\"Algorithm Returns\",\"Algorithm Returns\",\"Algorithm Returns\",\"Algorithm Returns\",\"Algorithm Returns\",\"Algorithm Returns\",\"Algorithm Returns\",\"Algorithm Returns\",\"Algorithm Returns\",\"Algorithm Returns\",\"Algorithm Returns\",\"Algorithm Returns\",\"Algorithm Returns\",\"Algorithm Returns\",\"Algorithm Returns\",\"Algorithm Returns\",\"Algorithm Returns\",\"Algorithm Returns\",\"Algorithm Returns\",\"Algorithm Returns\",\"Algorithm Returns\",\"Algorithm Returns\",\"Algorithm Returns\",\"Algorithm Returns\",\"Algorithm Returns\",\"Algorithm Returns\",\"Algorithm Returns\",\"Algorithm Returns\",\"Algorithm Returns\",\"Algorithm Returns\",\"Algorithm Returns\",\"Algorithm Returns\",\"Algorithm Returns\",\"Algorithm Returns\",\"Algorithm Returns\",\"Algorithm Returns\",\"Algorithm Returns\",\"Algorithm Returns\",\"Algorithm Returns\",\"Algorithm Returns\",\"Algorithm Returns\",\"Algorithm Returns\",\"Algorithm Returns\",\"Algorithm Returns\",\"Algorithm Returns\",\"Algorithm Returns\",\"Algorithm Returns\",\"Algorithm Returns\",\"Algorithm Returns\",\"Algorithm Returns\",\"Algorithm Returns\",\"Algorithm Returns\",\"Algorithm Returns\",\"Algorithm Returns\",\"Algorithm Returns\",\"Algorithm Returns\",\"Algorithm Returns\",\"Algorithm Returns\",\"Algorithm Returns\",\"Algorithm Returns\",\"Algorithm Returns\",\"Algorithm Returns\",\"Algorithm Returns\",\"Algorithm Returns\",\"Algorithm Returns\",\"Algorithm Returns\",\"Algorithm Returns\",\"Algorithm Returns\",\"Algorithm Returns\",\"Algorithm Returns\",\"Algorithm Returns\",\"Algorithm Returns\",\"Algorithm Returns\",\"Algorithm Returns\",\"Algorithm Returns\",\"Algorithm Returns\",\"Algorithm Returns\",\"Algorithm Returns\",\"Algorithm Returns\",\"Algorithm Returns\",\"Algorithm Returns\",\"Algorithm Returns\",\"Algorithm Returns\",\"Algorithm Returns\",\"Algorithm Returns\",\"Algorithm Returns\",\"Algorithm Returns\",\"Algorithm Returns\",\"Algorithm Returns\",\"Algorithm Returns\",\"Algorithm Returns\",\"Algorithm Returns\",\"Algorithm Returns\",\"Algorithm Returns\",\"Algorithm Returns\",\"Algorithm Returns\",\"Algorithm Returns\",\"Algorithm Returns\",\"Algorithm Returns\",\"Algorithm Returns\",\"Algorithm Returns\",\"Algorithm Returns\",\"Algorithm Returns\",\"Algorithm Returns\",\"Algorithm Returns\",\"Algorithm Returns\",\"Algorithm Returns\",\"Algorithm Returns\",\"Algorithm Returns\",\"Algorithm Returns\",\"Algorithm Returns\",\"Algorithm Returns\",\"Algorithm Returns\",\"Algorithm Returns\",\"Algorithm Returns\",\"Algorithm Returns\",\"Algorithm Returns\",\"Algorithm Returns\",\"Algorithm Returns\",\"Algorithm Returns\",\"Algorithm Returns\",\"Algorithm Returns\",\"Algorithm Returns\",\"Algorithm Returns\",\"Algorithm Returns\",\"Algorithm Returns\",\"Algorithm Returns\",\"Algorithm Returns\",\"Algorithm Returns\",\"Algorithm Returns\",\"Algorithm Returns\",\"Algorithm Returns\",\"Algorithm Returns\",\"Algorithm Returns\",\"Algorithm Returns\",\"Algorithm Returns\",\"Algorithm Returns\",\"Algorithm Returns\",\"Algorithm Returns\",\"Algorithm Returns\",\"Algorithm Returns\",\"Algorithm Returns\",\"Algorithm Returns\",\"Algorithm Returns\",\"Algorithm Returns\",\"Algorithm Returns\",\"Algorithm Returns\",\"Algorithm Returns\",\"Algorithm Returns\",\"Algorithm Returns\",\"Algorithm Returns\",\"Algorithm Returns\",\"Algorithm Returns\",\"Algorithm Returns\",\"Algorithm Returns\",\"Algorithm Returns\",\"Algorithm Returns\",\"Algorithm Returns\",\"Algorithm Returns\",\"Algorithm Returns\",\"Algorithm Returns\",\"Algorithm Returns\",\"Algorithm Returns\",\"Algorithm Returns\",\"Algorithm Returns\",\"Algorithm Returns\",\"Algorithm Returns\",\"Algorithm Returns\",\"Algorithm Returns\",\"Algorithm Returns\",\"Algorithm Returns\",\"Algorithm Returns\",\"Algorithm Returns\",\"Algorithm Returns\",\"Algorithm Returns\",\"Algorithm Returns\",\"Algorithm Returns\",\"Algorithm Returns\",\"Algorithm Returns\",\"Algorithm Returns\",\"Algorithm Returns\",\"Algorithm Returns\",\"Algorithm Returns\",\"Algorithm Returns\",\"Algorithm Returns\",\"Algorithm Returns\",\"Algorithm Returns\",\"Algorithm Returns\",\"Algorithm Returns\",\"Algorithm Returns\",\"Algorithm Returns\",\"Algorithm Returns\",\"Algorithm Returns\",\"Algorithm Returns\",\"Algorithm Returns\",\"Algorithm Returns\",\"Algorithm Returns\",\"Algorithm Returns\",\"Algorithm Returns\",\"Algorithm Returns\",\"Algorithm Returns\",\"Algorithm Returns\",\"Algorithm Returns\",\"Algorithm Returns\",\"Algorithm Returns\",\"Algorithm Returns\",\"Algorithm Returns\",\"Algorithm Returns\",\"Algorithm Returns\",\"Algorithm Returns\",\"Algorithm Returns\",\"Algorithm Returns\",\"Algorithm Returns\",\"Algorithm Returns\",\"Algorithm Returns\",\"Algorithm Returns\",\"Algorithm Returns\",\"Algorithm Returns\",\"Algorithm Returns\",\"Algorithm Returns\",\"Algorithm Returns\",\"Algorithm Returns\",\"Algorithm Returns\",\"Algorithm Returns\",\"Algorithm Returns\",\"Algorithm Returns\",\"Algorithm Returns\",\"Algorithm Returns\",\"Algorithm Returns\",\"Algorithm Returns\",\"Algorithm Returns\",\"Algorithm Returns\",\"Algorithm Returns\",\"Algorithm Returns\",\"Algorithm Returns\",\"Algorithm Returns\",\"Algorithm Returns\",\"Algorithm Returns\",\"Algorithm Returns\",\"Algorithm Returns\",\"Algorithm Returns\",\"Algorithm Returns\",\"Algorithm Returns\",\"Algorithm Returns\",\"Algorithm Returns\",\"Algorithm Returns\",\"Algorithm Returns\",\"Algorithm Returns\",\"Algorithm Returns\",\"Algorithm Returns\",\"Algorithm Returns\",\"Algorithm Returns\",\"Algorithm Returns\",\"Algorithm Returns\",\"Algorithm Returns\",\"Algorithm Returns\",\"Algorithm Returns\",\"Algorithm Returns\",\"Algorithm Returns\",\"Algorithm Returns\",\"Algorithm Returns\",\"Algorithm Returns\",\"Algorithm Returns\",\"Algorithm Returns\",\"Algorithm Returns\",\"Algorithm Returns\",\"Algorithm Returns\",\"Algorithm Returns\",\"Algorithm Returns\",\"Algorithm Returns\",\"Algorithm Returns\",\"Algorithm Returns\",\"Algorithm Returns\",\"Algorithm Returns\",\"Algorithm Returns\",\"Algorithm Returns\",\"Algorithm Returns\",\"Algorithm Returns\",\"Algorithm Returns\",\"Algorithm Returns\",\"Algorithm Returns\",\"Algorithm Returns\",\"Algorithm Returns\",\"Algorithm Returns\",\"Algorithm Returns\",\"Algorithm Returns\",\"Algorithm Returns\",\"Algorithm Returns\",\"Algorithm Returns\",\"Algorithm Returns\",\"Algorithm Returns\",\"Algorithm Returns\",\"Algorithm Returns\",\"Algorithm Returns\",\"Algorithm Returns\",\"Algorithm Returns\",\"Algorithm Returns\",\"Algorithm Returns\",\"Algorithm Returns\",\"Algorithm Returns\",\"Algorithm Returns\",\"Algorithm Returns\",\"Algorithm Returns\",\"Algorithm Returns\",\"Algorithm Returns\",\"Algorithm Returns\",\"Algorithm Returns\",\"Algorithm Returns\",\"Algorithm Returns\",\"Algorithm Returns\",\"Algorithm Returns\",\"Algorithm Returns\",\"Algorithm Returns\",\"Algorithm Returns\",\"Algorithm Returns\",\"Algorithm Returns\",\"Algorithm Returns\",\"Algorithm Returns\",\"Algorithm Returns\",\"Algorithm Returns\",\"Algorithm Returns\",\"Algorithm Returns\",\"Algorithm Returns\",\"Algorithm Returns\",\"Algorithm Returns\",\"Algorithm Returns\",\"Algorithm Returns\",\"Algorithm Returns\",\"Algorithm Returns\",\"Algorithm Returns\",\"Algorithm Returns\",\"Algorithm Returns\",\"Algorithm Returns\",\"Algorithm Returns\",\"Algorithm Returns\",\"Algorithm Returns\",\"Algorithm Returns\",\"Algorithm Returns\",\"Algorithm Returns\",\"Algorithm Returns\",\"Algorithm Returns\",\"Algorithm Returns\",\"Algorithm Returns\",\"Algorithm Returns\",\"Algorithm Returns\",\"Algorithm Returns\",\"Algorithm Returns\",\"Algorithm Returns\",\"Algorithm Returns\",\"Algorithm Returns\",\"Algorithm Returns\",\"Algorithm Returns\",\"Algorithm Returns\",\"Algorithm Returns\",\"Algorithm Returns\",\"Algorithm Returns\",\"Algorithm Returns\",\"Algorithm Returns\",\"Algorithm Returns\",\"Algorithm Returns\",\"Algorithm Returns\",\"Algorithm Returns\",\"Algorithm Returns\",\"Algorithm Returns\",\"Algorithm Returns\",\"Algorithm Returns\",\"Algorithm Returns\",\"Algorithm Returns\",\"Algorithm Returns\",\"Algorithm Returns\",\"Algorithm Returns\",\"Algorithm Returns\",\"Algorithm Returns\",\"Algorithm Returns\",\"Algorithm Returns\",\"Algorithm Returns\",\"Algorithm Returns\",\"Algorithm Returns\",\"Algorithm Returns\",\"Algorithm Returns\",\"Algorithm Returns\",\"Algorithm Returns\",\"Algorithm Returns\",\"Algorithm Returns\",\"Algorithm Returns\",\"Algorithm Returns\",\"Algorithm Returns\",\"Algorithm Returns\",\"Algorithm Returns\",\"Algorithm Returns\",\"Algorithm Returns\",\"Algorithm Returns\",\"Algorithm Returns\",\"Algorithm Returns\",\"Algorithm Returns\",\"Algorithm Returns\",\"Algorithm Returns\",\"Algorithm Returns\",\"Algorithm Returns\",\"Algorithm Returns\",\"Algorithm Returns\",\"Algorithm Returns\",\"Algorithm Returns\",\"Algorithm Returns\",\"Algorithm Returns\",\"Algorithm Returns\",\"Algorithm Returns\",\"Algorithm Returns\",\"Algorithm Returns\",\"Algorithm Returns\",\"Algorithm Returns\",\"Algorithm Returns\",\"Algorithm Returns\",\"Algorithm Returns\",\"Algorithm Returns\",\"Algorithm Returns\",\"Algorithm Returns\",\"Algorithm Returns\",\"Algorithm Returns\",\"Algorithm Returns\",\"Algorithm Returns\",\"Algorithm Returns\",\"Algorithm Returns\",\"Algorithm Returns\",\"Algorithm Returns\",\"Algorithm Returns\",\"Algorithm Returns\",\"Algorithm Returns\",\"Algorithm Returns\",\"Algorithm Returns\",\"Algorithm Returns\",\"Algorithm Returns\",\"Algorithm Returns\",\"Algorithm Returns\",\"Algorithm Returns\",\"Algorithm Returns\",\"Algorithm Returns\",\"Algorithm Returns\",\"Algorithm Returns\",\"Algorithm Returns\",\"Algorithm Returns\",\"Algorithm Returns\",\"Algorithm Returns\",\"Algorithm Returns\",\"Algorithm Returns\",\"Algorithm Returns\",\"Algorithm Returns\",\"Algorithm Returns\",\"Algorithm Returns\",\"Algorithm Returns\",\"Algorithm Returns\",\"Algorithm Returns\",\"Algorithm Returns\",\"Algorithm Returns\",\"Algorithm Returns\",\"Algorithm Returns\",\"Algorithm Returns\",\"Algorithm Returns\",\"Algorithm Returns\",\"Algorithm Returns\",\"Algorithm Returns\",\"Algorithm Returns\",\"Algorithm Returns\",\"Algorithm Returns\",\"Algorithm Returns\",\"Algorithm Returns\",\"Algorithm Returns\",\"Algorithm Returns\",\"Algorithm Returns\",\"Algorithm Returns\",\"Algorithm Returns\",\"Algorithm Returns\",\"Algorithm Returns\",\"Algorithm Returns\",\"Algorithm Returns\",\"Algorithm Returns\",\"Algorithm Returns\",\"Algorithm Returns\",\"Algorithm Returns\",\"Algorithm Returns\",\"Algorithm Returns\",\"Algorithm Returns\",\"Algorithm Returns\",\"Algorithm Returns\",\"Algorithm Returns\",\"Algorithm Returns\",\"Algorithm Returns\",\"Algorithm Returns\",\"Algorithm Returns\",\"Algorithm Returns\",\"Algorithm Returns\",\"Algorithm Returns\",\"Algorithm Returns\",\"Algorithm Returns\",\"Algorithm Returns\",\"Algorithm Returns\",\"Algorithm Returns\",\"Algorithm Returns\",\"Algorithm Returns\",\"Algorithm Returns\",\"Algorithm Returns\",\"Algorithm Returns\",\"Algorithm Returns\",\"Algorithm Returns\",\"Algorithm Returns\",\"Algorithm Returns\",\"Algorithm Returns\",\"Algorithm Returns\",\"Algorithm Returns\",\"Algorithm Returns\",\"Algorithm Returns\",\"Algorithm Returns\",\"Algorithm Returns\",\"Algorithm Returns\",\"Algorithm Returns\",\"Algorithm Returns\",\"Algorithm Returns\",\"Algorithm Returns\",\"Algorithm Returns\",\"Algorithm Returns\",\"Algorithm Returns\",\"Algorithm Returns\",\"Algorithm Returns\",\"Algorithm Returns\",\"Algorithm Returns\",\"Algorithm Returns\",\"Algorithm Returns\",\"Algorithm Returns\",\"Algorithm Returns\",\"Algorithm Returns\",\"Algorithm Returns\",\"Algorithm Returns\",\"Algorithm Returns\",\"Algorithm Returns\",\"Algorithm Returns\",\"Algorithm Returns\",\"Algorithm Returns\",\"Algorithm Returns\",\"Algorithm Returns\",\"Algorithm Returns\",\"Algorithm Returns\",\"Algorithm Returns\",\"Algorithm Returns\",\"Algorithm Returns\",\"Algorithm Returns\",\"Algorithm Returns\",\"Algorithm Returns\",\"Algorithm Returns\",\"Algorithm Returns\",\"Algorithm Returns\",\"Algorithm Returns\",\"Algorithm Returns\",\"Algorithm Returns\",\"Algorithm Returns\",\"Algorithm Returns\",\"Algorithm Returns\",\"Algorithm Returns\",\"Algorithm Returns\",\"Algorithm Returns\",\"Algorithm Returns\",\"Algorithm Returns\",\"Algorithm Returns\",\"Algorithm Returns\",\"Algorithm Returns\",\"Algorithm Returns\",\"Algorithm Returns\",\"Algorithm Returns\",\"Algorithm Returns\",\"Algorithm Returns\",\"Algorithm Returns\",\"Algorithm Returns\",\"Algorithm Returns\",\"Algorithm Returns\",\"Algorithm Returns\",\"Algorithm Returns\",\"Algorithm Returns\",\"Algorithm Returns\",\"Algorithm Returns\",\"Algorithm Returns\",\"Algorithm Returns\",\"Algorithm Returns\",\"Algorithm Returns\",\"Algorithm Returns\",\"Algorithm Returns\",\"Algorithm Returns\",\"Algorithm Returns\",\"Algorithm Returns\",\"Algorithm Returns\",\"Algorithm Returns\",\"Algorithm Returns\",\"Algorithm Returns\",\"Algorithm Returns\",\"Algorithm Returns\",\"Algorithm Returns\",\"Algorithm Returns\",\"Algorithm Returns\",\"Algorithm Returns\",\"Algorithm Returns\",\"Algorithm Returns\",\"Algorithm Returns\",\"Algorithm Returns\",\"Algorithm Returns\",\"Algorithm Returns\",\"Algorithm Returns\",\"Algorithm Returns\",\"Algorithm Returns\",\"Algorithm Returns\",\"Algorithm Returns\",\"Algorithm Returns\",\"Algorithm Returns\",\"Algorithm Returns\",\"Algorithm Returns\",\"Algorithm Returns\",\"Algorithm Returns\",\"Algorithm Returns\",\"Algorithm Returns\",\"Algorithm Returns\",\"Algorithm Returns\",\"Algorithm Returns\",\"Algorithm Returns\",\"Algorithm Returns\",\"Algorithm Returns\",\"Algorithm Returns\",\"Algorithm Returns\",\"Algorithm Returns\",\"Algorithm Returns\",\"Algorithm Returns\",\"Algorithm Returns\",\"Algorithm Returns\",\"Algorithm Returns\",\"Algorithm Returns\",\"Algorithm Returns\",\"Algorithm Returns\",\"Algorithm Returns\",\"Algorithm Returns\",\"Algorithm Returns\",\"Algorithm Returns\",\"Algorithm Returns\",\"Algorithm Returns\",\"Algorithm Returns\",\"Algorithm Returns\",\"Algorithm Returns\",\"Algorithm Returns\",\"Algorithm Returns\",\"Algorithm Returns\",\"Algorithm Returns\",\"Algorithm Returns\",\"Algorithm Returns\",\"Algorithm Returns\",\"Algorithm Returns\",\"Algorithm Returns\",\"Algorithm Returns\",\"Algorithm Returns\",\"Algorithm Returns\",\"Algorithm Returns\",\"Algorithm Returns\",\"Algorithm Returns\",\"Algorithm Returns\",\"Algorithm Returns\",\"Algorithm Returns\",\"Algorithm Returns\",\"Algorithm Returns\",\"Algorithm Returns\",\"Algorithm Returns\",\"Algorithm Returns\",\"Algorithm Returns\",\"Algorithm Returns\",\"Algorithm Returns\",\"Algorithm Returns\",\"Algorithm Returns\",\"Algorithm Returns\",\"Algorithm Returns\",\"Algorithm Returns\",\"Algorithm Returns\"],\"value\":{\"__ndarray__\":\"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\",\"dtype\":\"float64\",\"order\":\"little\",\"shape\":[1092]}},\"selected\":{\"id\":\"5241\"},\"selection_policy\":{\"id\":\"5257\"}},\"id\":\"5240\",\"type\":\"ColumnDataSource\"},{\"attributes\":{},\"id\":\"5206\",\"type\":\"AllLabels\"},{\"attributes\":{\"axis_label\":\"Date\",\"coordinates\":null,\"formatter\":{\"id\":\"5202\"},\"group\":null,\"major_label_policy\":{\"id\":\"5203\"},\"ticker\":{\"id\":\"5181\"}},\"id\":\"5180\",\"type\":\"DatetimeAxis\"},{\"attributes\":{\"line_alpha\":0.1,\"line_color\":\"#fc4f30\",\"line_width\":2,\"x\":{\"field\":\"Date\"},\"y\":{\"field\":\"value\"}},\"id\":\"5244\",\"type\":\"Line\"},{\"attributes\":{\"callback\":null,\"formatters\":{\"@{Date}\":\"datetime\"},\"renderers\":[{\"id\":\"5213\"},{\"id\":\"5246\"}],\"tags\":[\"hv_created\"],\"tooltips\":[[\"Variable\",\"@{Variable}\"],[\"Date\",\"@{Date}{%F %T}\"],[\"value\",\"@{value}\"]]},\"id\":\"5169\",\"type\":\"HoverTool\"},{\"attributes\":{\"days\":[1,4,7,10,13,16,19,22,25,28]},\"id\":\"5229\",\"type\":\"DaysTicker\"},{\"attributes\":{\"children\":[{\"id\":\"5166\"},{\"id\":\"5171\"},{\"id\":\"5490\"}],\"margin\":[0,0,0,0],\"name\":\"Row07104\",\"tags\":[\"embedded\"]},\"id\":\"5165\",\"type\":\"Row\"},{\"attributes\":{},\"id\":\"5192\",\"type\":\"ResetTool\"},{\"attributes\":{\"coordinates\":null,\"data_source\":{\"id\":\"5240\"},\"glyph\":{\"id\":\"5243\"},\"group\":null,\"hover_glyph\":null,\"muted_glyph\":{\"id\":\"5245\"},\"nonselection_glyph\":{\"id\":\"5244\"},\"selection_glyph\":{\"id\":\"5273\"},\"view\":{\"id\":\"5247\"}},\"id\":\"5246\",\"type\":\"GlyphRenderer\"},{\"attributes\":{\"days\":[1,8,15,22]},\"id\":\"5230\",\"type\":\"DaysTicker\"},{\"attributes\":{},\"id\":\"5257\",\"type\":\"UnionRenderers\"},{\"attributes\":{\"source\":{\"id\":\"5240\"}},\"id\":\"5247\",\"type\":\"CDSView\"},{\"attributes\":{\"num_minor_ticks\":5,\"tickers\":[{\"id\":\"5225\"},{\"id\":\"5226\"},{\"id\":\"5227\"},{\"id\":\"5228\"},{\"id\":\"5229\"},{\"id\":\"5230\"},{\"id\":\"5231\"},{\"id\":\"5232\"},{\"id\":\"5233\"},{\"id\":\"5234\"},{\"id\":\"5235\"},{\"id\":\"5236\"}]},\"id\":\"5181\",\"type\":\"DatetimeTicker\"},{\"attributes\":{\"bottom_units\":\"screen\",\"coordinates\":null,\"fill_alpha\":0.5,\"fill_color\":\"lightgrey\",\"group\":null,\"left_units\":\"screen\",\"level\":\"overlay\",\"line_alpha\":1.0,\"line_color\":\"black\",\"line_dash\":[4,4],\"line_width\":2,\"right_units\":\"screen\",\"syncable\":false,\"top_units\":\"screen\"},\"id\":\"5193\",\"type\":\"BoxAnnotation\"},{\"attributes\":{\"days\":[1,15]},\"id\":\"5231\",\"type\":\"DaysTicker\"},{\"attributes\":{\"label\":{\"value\":\"Algorithm Returns\"},\"renderers\":[{\"id\":\"5246\"}]},\"id\":\"5272\",\"type\":\"LegendItem\"},{\"attributes\":{},\"id\":\"5222\",\"type\":\"UnionRenderers\"},{\"attributes\":{\"months\":[0,1,2,3,4,5,6,7,8,9,10,11]},\"id\":\"5232\",\"type\":\"MonthsTicker\"},{\"attributes\":{\"coordinates\":null,\"group\":null,\"text_color\":\"black\",\"text_font_size\":\"12pt\"},\"id\":\"5172\",\"type\":\"Title\"},{\"attributes\":{},\"id\":\"5205\",\"type\":\"BasicTickFormatter\"},{\"attributes\":{\"source\":{\"id\":\"5207\"}},\"id\":\"5214\",\"type\":\"CDSView\"},{\"attributes\":{\"months\":[0,2,4,6,8,10]},\"id\":\"5233\",\"type\":\"MonthsTicker\"},{\"attributes\":{\"margin\":[5,5,5,5],\"name\":\"HSpacer07108\",\"sizing_mode\":\"stretch_width\"},\"id\":\"5166\",\"type\":\"Spacer\"},{\"attributes\":{\"click_policy\":\"mute\",\"coordinates\":null,\"group\":null,\"items\":[{\"id\":\"5238\"},{\"id\":\"5272\"}],\"location\":[0,0],\"title\":\"Variable\"},\"id\":\"5237\",\"type\":\"Legend\"},{\"attributes\":{\"axis\":{\"id\":\"5180\"},\"coordinates\":null,\"grid_line_color\":null,\"group\":null,\"ticker\":null},\"id\":\"5183\",\"type\":\"Grid\"},{\"attributes\":{\"end\":1647302400000.0,\"reset_end\":1647302400000.0,\"reset_start\":1510272000000.0,\"start\":1510272000000.0,\"tags\":[[[\"Date\",\"Date\",null]]]},\"id\":\"5167\",\"type\":\"Range1d\"},{\"attributes\":{\"line_alpha\":0.1,\"line_color\":\"#30a2da\",\"line_width\":2,\"x\":{\"field\":\"Date\"},\"y\":{\"field\":\"value\"}},\"id\":\"5211\",\"type\":\"Line\"},{\"attributes\":{\"months\":[0,4,8]},\"id\":\"5234\",\"type\":\"MonthsTicker\"},{\"attributes\":{\"axis\":{\"id\":\"5184\"},\"coordinates\":null,\"dimension\":1,\"grid_line_color\":null,\"group\":null,\"ticker\":null},\"id\":\"5187\",\"type\":\"Grid\"},{\"attributes\":{},\"id\":\"5202\",\"type\":\"DatetimeTickFormatter\"},{\"attributes\":{\"axis_label\":\"\",\"coordinates\":null,\"formatter\":{\"id\":\"5205\"},\"group\":null,\"major_label_policy\":{\"id\":\"5206\"},\"ticker\":{\"id\":\"5185\"}},\"id\":\"5184\",\"type\":\"LinearAxis\"},{\"attributes\":{\"months\":[0,6]},\"id\":\"5235\",\"type\":\"MonthsTicker\"},{\"attributes\":{\"line_alpha\":0.2,\"line_color\":\"#30a2da\",\"line_width\":2,\"x\":{\"field\":\"Date\"},\"y\":{\"field\":\"value\"}},\"id\":\"5212\",\"type\":\"Line\"},{\"attributes\":{},\"id\":\"5236\",\"type\":\"YearsTicker\"},{\"attributes\":{\"below\":[{\"id\":\"5180\"}],\"center\":[{\"id\":\"5183\"},{\"id\":\"5187\"}],\"height\":300,\"left\":[{\"id\":\"5184\"}],\"margin\":[5,5,5,5],\"min_border_bottom\":10,\"min_border_left\":10,\"min_border_right\":10,\"min_border_top\":10,\"renderers\":[{\"id\":\"5213\"},{\"id\":\"5246\"}],\"right\":[{\"id\":\"5237\"}],\"sizing_mode\":\"fixed\",\"title\":{\"id\":\"5172\"},\"toolbar\":{\"id\":\"5194\"},\"width\":700,\"x_range\":{\"id\":\"5167\"},\"x_scale\":{\"id\":\"5176\"},\"y_range\":{\"id\":\"5168\"},\"y_scale\":{\"id\":\"5178\"}},\"id\":\"5171\",\"subtype\":\"Figure\",\"type\":\"Plot\"},{\"attributes\":{\"label\":{\"value\":\"Actual Returns\"},\"renderers\":[{\"id\":\"5213\"}]},\"id\":\"5238\",\"type\":\"LegendItem\"},{\"attributes\":{\"margin\":[5,5,5,5],\"name\":\"HSpacer07109\",\"sizing_mode\":\"stretch_width\"},\"id\":\"5490\",\"type\":\"Spacer\"},{\"attributes\":{\"coordinates\":null,\"data_source\":{\"id\":\"5207\"},\"glyph\":{\"id\":\"5210\"},\"group\":null,\"hover_glyph\":null,\"muted_glyph\":{\"id\":\"5212\"},\"nonselection_glyph\":{\"id\":\"5211\"},\"selection_glyph\":{\"id\":\"5239\"},\"view\":{\"id\":\"5214\"}},\"id\":\"5213\",\"type\":\"GlyphRenderer\"},{\"attributes\":{\"line_color\":\"#fc4f30\",\"line_width\":2,\"x\":{\"field\":\"Date\"},\"y\":{\"field\":\"value\"}},\"id\":\"5243\",\"type\":\"Line\"},{\"attributes\":{\"line_color\":\"#fc4f30\",\"line_width\":2,\"x\":{\"field\":\"Date\"},\"y\":{\"field\":\"value\"}},\"id\":\"5273\",\"type\":\"Line\"},{\"attributes\":{},\"id\":\"5241\",\"type\":\"Selection\"},{\"attributes\":{\"tools\":[{\"id\":\"5169\"},{\"id\":\"5188\"},{\"id\":\"5189\"},{\"id\":\"5190\"},{\"id\":\"5191\"},{\"id\":\"5192\"}]},\"id\":\"5194\",\"type\":\"Toolbar\"},{\"attributes\":{\"line_color\":\"#30a2da\",\"line_width\":2,\"x\":{\"field\":\"Date\"},\"y\":{\"field\":\"value\"}},\"id\":\"5210\",\"type\":\"Line\"},{\"attributes\":{\"line_color\":\"#30a2da\",\"line_width\":2,\"x\":{\"field\":\"Date\"},\"y\":{\"field\":\"value\"}},\"id\":\"5239\",\"type\":\"Line\"},{\"attributes\":{},\"id\":\"5208\",\"type\":\"Selection\"},{\"attributes\":{},\"id\":\"5188\",\"type\":\"SaveTool\"},{\"attributes\":{},\"id\":\"5203\",\"type\":\"AllLabels\"},{\"attributes\":{\"mantissas\":[1,2,5],\"max_interval\":500.0,\"num_minor_ticks\":0},\"id\":\"5225\",\"type\":\"AdaptiveTicker\"},{\"attributes\":{},\"id\":\"5189\",\"type\":\"PanTool\"},{\"attributes\":{},\"id\":\"5185\",\"type\":\"BasicTicker\"},{\"attributes\":{\"line_alpha\":0.2,\"line_color\":\"#fc4f30\",\"line_width\":2,\"x\":{\"field\":\"Date\"},\"y\":{\"field\":\"value\"}},\"id\":\"5245\",\"type\":\"Line\"},{\"attributes\":{\"end\":3.120431217050678,\"reset_end\":3.120431217050678,\"reset_start\":0.7490099173922186,\"start\":0.7490099173922186,\"tags\":[[[\"value\",\"value\",null]]]},\"id\":\"5168\",\"type\":\"Range1d\"},{\"attributes\":{},\"id\":\"5190\",\"type\":\"WheelZoomTool\"},{\"attributes\":{\"base\":24,\"mantissas\":[1,2,4,6,8,12],\"max_interval\":43200000.0,\"min_interval\":3600000.0,\"num_minor_ticks\":0},\"id\":\"5227\",\"type\":\"AdaptiveTicker\"},{\"attributes\":{\"base\":60,\"mantissas\":[1,2,5,10,15,20,30],\"max_interval\":1800000.0,\"min_interval\":1000.0,\"num_minor_ticks\":0},\"id\":\"5226\",\"type\":\"AdaptiveTicker\"},{\"attributes\":{\"overlay\":{\"id\":\"5193\"}},\"id\":\"5191\",\"type\":\"BoxZoomTool\"},{\"attributes\":{\"data\":{\"Date\":{\"__ndarray__\":\"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\",\"dtype\":\"float64\",\"order\":\"little\",\"shape\":[1092]},\"Variable\":[\"Actual Returns\",\"Actual Returns\",\"Actual Returns\",\"Actual Returns\",\"Actual Returns\",\"Actual Returns\",\"Actual Returns\",\"Actual Returns\",\"Actual Returns\",\"Actual Returns\",\"Actual Returns\",\"Actual Returns\",\"Actual Returns\",\"Actual Returns\",\"Actual Returns\",\"Actual Returns\",\"Actual Returns\",\"Actual Returns\",\"Actual Returns\",\"Actual Returns\",\"Actual Returns\",\"Actual Returns\",\"Actual Returns\",\"Actual Returns\",\"Actual Returns\",\"Actual Returns\",\"Actual Returns\",\"Actual Returns\",\"Actual Returns\",\"Actual Returns\",\"Actual Returns\",\"Actual Returns\",\"Actual Returns\",\"Actual Returns\",\"Actual Returns\",\"Actual Returns\",\"Actual Returns\",\"Actual Returns\",\"Actual Returns\",\"Actual Returns\",\"Actual Returns\",\"Actual Returns\",\"Actual Returns\",\"Actual Returns\",\"Actual Returns\",\"Actual Returns\",\"Actual Returns\",\"Actual Returns\",\"Actual Returns\",\"Actual Returns\",\"Actual Returns\",\"Actual Returns\",\"Actual Returns\",\"Actual Returns\",\"Actual Returns\",\"Actual Returns\",\"Actual Returns\",\"Actual Returns\",\"Actual Returns\",\"Actual Returns\",\"Actual Returns\",\"Actual Returns\",\"Actual Returns\",\"Actual Returns\",\"Actual Returns\",\"Actual Returns\",\"Actual Returns\",\"Actual Returns\",\"Actual Returns\",\"Actual Returns\",\"Actual Returns\",\"Actual Returns\",\"Actual Returns\",\"Actual Returns\",\"Actual Returns\",\"Actual Returns\",\"Actual Returns\",\"Actual Returns\",\"Actual Returns\",\"Actual Returns\",\"Actual Returns\",\"Actual Returns\",\"Actual Returns\",\"Actual Returns\",\"Actual Returns\",\"Actual Returns\",\"Actual Returns\",\"Actual Returns\",\"Actual Returns\",\"Actual Returns\",\"Actual Returns\",\"Actual Returns\",\"Actual Returns\",\"Actual Returns\",\"Actual Returns\",\"Actual Returns\",\"Actual Returns\",\"Actual Returns\",\"Actual Returns\",\"Actual Returns\",\"Actual Returns\",\"Actual Returns\",\"Actual Returns\",\"Actual Returns\",\"Actual Returns\",\"Actual Returns\",\"Actual Returns\",\"Actual Returns\",\"Actual Returns\",\"Actual Returns\",\"Actual Returns\",\"Actual Returns\",\"Actual Returns\",\"Actual Returns\",\"Actual Returns\",\"Actual Returns\",\"Actual Returns\",\"Actual Returns\",\"Actual Returns\",\"Actual Returns\",\"Actual Returns\",\"Actual Returns\",\"Actual Returns\",\"Actual Returns\",\"Actual Returns\",\"Actual Returns\",\"Actual Returns\",\"Actual Returns\",\"Actual Returns\",\"Actual Returns\",\"Actual Returns\",\"Actual Returns\",\"Actual Returns\",\"Actual Returns\",\"Actual Returns\",\"Actual Returns\",\"Actual Returns\",\"Actual Returns\",\"Actual Returns\",\"Actual Returns\",\"Actual Returns\",\"Actual Returns\",\"Actual Returns\",\"Actual Returns\",\"Actual Returns\",\"Actual Returns\",\"Actual Returns\",\"Actual Returns\",\"Actual Returns\",\"Actual Returns\",\"Actual Returns\",\"Actual Returns\",\"Actual Returns\",\"Actual Returns\",\"Actual Returns\",\"Actual Returns\",\"Actual Returns\",\"Actual Returns\",\"Actual Returns\",\"Actual Returns\",\"Actual Returns\",\"Actual Returns\",\"Actual Returns\",\"Actual Returns\",\"Actual Returns\",\"Actual Returns\",\"Actual Returns\",\"Actual Returns\",\"Actual Returns\",\"Actual Returns\",\"Actual Returns\",\"Actual Returns\",\"Actual Returns\",\"Actual Returns\",\"Actual Returns\",\"Actual Returns\",\"Actual Returns\",\"Actual Returns\",\"Actual Returns\",\"Actual Returns\",\"Actual Returns\",\"Actual Returns\",\"Actual Returns\",\"Actual Returns\",\"Actual Returns\",\"Actual Returns\",\"Actual Returns\",\"Actual Returns\",\"Actual Returns\",\"Actual Returns\",\"Actual Returns\",\"Actual Returns\",\"Actual Returns\",\"Actual Returns\",\"Actual Returns\",\"Actual Returns\",\"Actual Returns\",\"Actual Returns\",\"Actual Returns\",\"Actual Returns\",\"Actual Returns\",\"Actual Returns\",\"Actual Returns\",\"Actual Returns\",\"Actual Returns\",\"Actual Returns\",\"Actual Returns\",\"Actual Returns\",\"Actual Returns\",\"Actual Returns\",\"Actual Returns\",\"Actual Returns\",\"Actual Returns\",\"Actual Returns\",\"Actual Returns\",\"Actual Returns\",\"Actual Returns\",\"Actual Returns\",\"Actual Returns\",\"Actual Returns\",\"Actual Returns\",\"Actual Returns\",\"Actual Returns\",\"Actual Returns\",\"Actual Returns\",\"Actual Returns\",\"Actual Returns\",\"Actual Returns\",\"Actual Returns\",\"Actual Returns\",\"Actual Returns\",\"Actual Returns\",\"Actual Returns\",\"Actual Returns\",\"Actual Returns\",\"Actual Returns\",\"Actual Returns\",\"Actual Returns\",\"Actual Returns\",\"Actual Returns\",\"Actual Returns\",\"Actual Returns\",\"Actual Returns\",\"Actual Returns\",\"Actual Returns\",\"Actual Returns\",\"Actual Returns\",\"Actual Returns\",\"Actual Returns\",\"Actual Returns\",\"Actual Returns\",\"Actual Returns\",\"Actual Returns\",\"Actual Returns\",\"Actual Returns\",\"Actual Returns\",\"Actual Returns\",\"Actual Returns\",\"Actual Returns\",\"Actual Returns\",\"Actual Returns\",\"Actual Returns\",\"Actual Returns\",\"Actual Returns\",\"Actual Returns\",\"Actual Returns\",\"Actual Returns\",\"Actual Returns\",\"Actual Returns\",\"Actual Returns\",\"Actual Returns\",\"Actual Returns\",\"Actual Returns\",\"Actual Returns\",\"Actual Returns\",\"Actual Returns\",\"Actual Returns\",\"Actual Returns\",\"Actual Returns\",\"Actual Returns\",\"Actual Returns\",\"Actual Returns\",\"Actual Returns\",\"Actual Returns\",\"Actual Returns\",\"Actual Returns\",\"Actual Returns\",\"Actual Returns\",\"Actual Returns\",\"Actual Returns\",\"Actual Returns\",\"Actual Returns\",\"Actual Returns\",\"Actual Returns\",\"Actual Returns\",\"Actual Returns\",\"Actual Returns\",\"Actual Returns\",\"Actual Returns\",\"Actual Returns\",\"Actual Returns\",\"Actual Returns\",\"Actual Returns\",\"Actual Returns\",\"Actual Returns\",\"Actual Returns\",\"Actual Returns\",\"Actual Returns\",\"Actual Returns\",\"Actual Returns\",\"Actual Returns\",\"Actual Returns\",\"Actual Returns\",\"Actual Returns\",\"Actual Returns\",\"Actual Returns\",\"Actual Returns\",\"Actual Returns\",\"Actual Returns\",\"Actual Returns\",\"Actual Returns\",\"Actual Returns\",\"Actual Returns\",\"Actual Returns\",\"Actual Returns\",\"Actual Returns\",\"Actual Returns\",\"Actual Returns\",\"Actual Returns\",\"Actual Returns\",\"Actual Returns\",\"Actual Returns\",\"Actual Returns\",\"Actual Returns\",\"Actual Returns\",\"Actual Returns\",\"Actual Returns\",\"Actual Returns\",\"Actual Returns\",\"Actual Returns\",\"Actual Returns\",\"Actual Returns\",\"Actual Returns\",\"Actual Returns\",\"Actual Returns\",\"Actual Returns\",\"Actual Returns\",\"Actual Returns\",\"Actual Returns\",\"Actual Returns\",\"Actual Returns\",\"Actual Returns\",\"Actual Returns\",\"Actual Returns\",\"Actual Returns\",\"Actual Returns\",\"Actual Returns\",\"Actual Returns\",\"Actual Returns\",\"Actual Returns\",\"Actual Returns\",\"Actual Returns\",\"Actual Returns\",\"Actual Returns\",\"Actual Returns\",\"Actual Returns\",\"Actual Returns\",\"Actual Returns\",\"Actual Returns\",\"Actual Returns\",\"Actual Returns\",\"Actual Returns\",\"Actual Returns\",\"Actual Returns\",\"Actual Returns\",\"Actual Returns\",\"Actual Returns\",\"Actual Returns\",\"Actual Returns\",\"Actual Returns\",\"Actual Returns\",\"Actual Returns\",\"Actual Returns\",\"Actual Returns\",\"Actual Returns\",\"Actual Returns\",\"Actual Returns\",\"Actual Returns\",\"Actual Returns\",\"Actual Returns\",\"Actual Returns\",\"Actual Returns\",\"Actual Returns\",\"Actual Returns\",\"Actual Returns\",\"Actual Returns\",\"Actual Returns\",\"Actual Returns\",\"Actual Returns\",\"Actual Returns\",\"Actual Returns\",\"Actual Returns\",\"Actual Returns\",\"Actual Returns\",\"Actual Returns\",\"Actual Returns\",\"Actual Returns\",\"Actual Returns\",\"Actual Returns\",\"Actual Returns\",\"Actual Returns\",\"Actual Returns\",\"Actual Returns\",\"Actual Returns\",\"Actual Returns\",\"Actual Returns\",\"Actual Returns\",\"Actual Returns\",\"Actual Returns\",\"Actual Returns\",\"Actual Returns\",\"Actual Returns\",\"Actual Returns\",\"Actual Returns\",\"Actual Returns\",\"Actual Returns\",\"Actual Returns\",\"Actual Returns\",\"Actual Returns\",\"Actual Returns\",\"Actual Returns\",\"Actual Returns\",\"Actual Returns\",\"Actual Returns\",\"Actual Returns\",\"Actual Returns\",\"Actual Returns\",\"Actual Returns\",\"Actual Returns\",\"Actual Returns\",\"Actual Returns\",\"Actual Returns\",\"Actual Returns\",\"Actual Returns\",\"Actual Returns\",\"Actual Returns\",\"Actual Returns\",\"Actual Returns\",\"Actual Returns\",\"Actual Returns\",\"Actual Returns\",\"Actual Returns\",\"Actual Returns\",\"Actual Returns\",\"Actual Returns\",\"Actual Returns\",\"Actual Returns\",\"Actual Returns\",\"Actual Returns\",\"Actual Returns\",\"Actual Returns\",\"Actual Returns\",\"Actual Returns\",\"Actual Returns\",\"Actual Returns\",\"Actual Returns\",\"Actual Returns\",\"Actual Returns\",\"Actual Returns\",\"Actual Returns\",\"Actual Returns\",\"Actual Returns\",\"Actual Returns\",\"Actual Returns\",\"Actual Returns\",\"Actual Returns\",\"Actual Returns\",\"Actual Returns\",\"Actual Returns\",\"Actual Returns\",\"Actual Returns\",\"Actual Returns\",\"Actual Returns\",\"Actual Returns\",\"Actual Returns\",\"Actual Returns\",\"Actual Returns\",\"Actual Returns\",\"Actual Returns\",\"Actual Returns\",\"Actual Returns\",\"Actual Returns\",\"Actual Returns\",\"Actual Returns\",\"Actual Returns\",\"Actual Returns\",\"Actual Returns\",\"Actual Returns\",\"Actual Returns\",\"Actual Returns\",\"Actual Returns\",\"Actual Returns\",\"Actual Returns\",\"Actual Returns\",\"Actual Returns\",\"Actual Returns\",\"Actual Returns\",\"Actual Returns\",\"Actual Returns\",\"Actual Returns\",\"Actual Returns\",\"Actual Returns\",\"Actual Returns\",\"Actual Returns\",\"Actual Returns\",\"Actual Returns\",\"Actual Returns\",\"Actual Returns\",\"Actual Returns\",\"Actual Returns\",\"Actual Returns\",\"Actual Returns\",\"Actual Returns\",\"Actual Returns\",\"Actual Returns\",\"Actual Returns\",\"Actual Returns\",\"Actual Returns\",\"Actual Returns\",\"Actual Returns\",\"Actual Returns\",\"Actual Returns\",\"Actual Returns\",\"Actual Returns\",\"Actual Returns\",\"Actual Returns\",\"Actual Returns\",\"Actual Returns\",\"Actual Returns\",\"Actual Returns\",\"Actual Returns\",\"Actual Returns\",\"Actual Returns\",\"Actual Returns\",\"Actual Returns\",\"Actual Returns\",\"Actual Returns\",\"Actual Returns\",\"Actual Returns\",\"Actual Returns\",\"Actual Returns\",\"Actual Returns\",\"Actual Returns\",\"Actual Returns\",\"Actual Returns\",\"Actual Returns\",\"Actual Returns\",\"Actual Returns\",\"Actual Returns\",\"Actual Returns\",\"Actual Returns\",\"Actual Returns\",\"Actual Returns\",\"Actual Returns\",\"Actual Returns\",\"Actual Returns\",\"Actual Returns\",\"Actual Returns\",\"Actual Returns\",\"Actual Returns\",\"Actual Returns\",\"Actual Returns\",\"Actual Returns\",\"Actual Returns\",\"Actual Returns\",\"Actual Returns\",\"Actual Returns\",\"Actual Returns\",\"Actual Returns\",\"Actual Returns\",\"Actual Returns\",\"Actual Returns\",\"Actual Returns\",\"Actual Returns\",\"Actual Returns\",\"Actual Returns\",\"Actual Returns\",\"Actual Returns\",\"Actual Returns\",\"Actual Returns\",\"Actual Returns\",\"Actual Returns\",\"Actual Returns\",\"Actual Returns\",\"Actual Returns\",\"Actual Returns\",\"Actual Returns\",\"Actual Returns\",\"Actual Returns\",\"Actual Returns\",\"Actual Returns\",\"Actual Returns\",\"Actual Returns\",\"Actual Returns\",\"Actual Returns\",\"Actual Returns\",\"Actual Returns\",\"Actual Returns\",\"Actual Returns\",\"Actual Returns\",\"Actual Returns\",\"Actual Returns\",\"Actual Returns\",\"Actual Returns\",\"Actual Returns\",\"Actual Returns\",\"Actual Returns\",\"Actual Returns\",\"Actual Returns\",\"Actual Returns\",\"Actual Returns\",\"Actual Returns\",\"Actual Returns\",\"Actual Returns\",\"Actual Returns\",\"Actual Returns\",\"Actual Returns\",\"Actual Returns\",\"Actual Returns\",\"Actual Returns\",\"Actual Returns\",\"Actual Returns\",\"Actual Returns\",\"Actual Returns\",\"Actual Returns\",\"Actual Returns\",\"Actual Returns\",\"Actual Returns\",\"Actual Returns\",\"Actual Returns\",\"Actual Returns\",\"Actual Returns\",\"Actual Returns\",\"Actual Returns\",\"Actual Returns\",\"Actual Returns\",\"Actual Returns\",\"Actual Returns\",\"Actual Returns\",\"Actual Returns\",\"Actual Returns\",\"Actual Returns\",\"Actual Returns\",\"Actual Returns\",\"Actual Returns\",\"Actual Returns\",\"Actual Returns\",\"Actual Returns\",\"Actual Returns\",\"Actual Returns\",\"Actual Returns\",\"Actual Returns\",\"Actual Returns\",\"Actual Returns\",\"Actual Returns\",\"Actual Returns\",\"Actual Returns\",\"Actual Returns\",\"Actual Returns\",\"Actual Returns\",\"Actual Returns\",\"Actual Returns\",\"Actual Returns\",\"Actual Returns\",\"Actual Returns\",\"Actual Returns\",\"Actual Returns\",\"Actual Returns\",\"Actual Returns\",\"Actual Returns\",\"Actual Returns\",\"Actual Returns\",\"Actual Returns\",\"Actual Returns\",\"Actual Returns\",\"Actual Returns\",\"Actual Returns\",\"Actual Returns\",\"Actual Returns\",\"Actual Returns\",\"Actual Returns\",\"Actual Returns\",\"Actual Returns\",\"Actual Returns\",\"Actual Returns\",\"Actual Returns\",\"Actual Returns\",\"Actual Returns\",\"Actual Returns\",\"Actual Returns\",\"Actual Returns\",\"Actual Returns\",\"Actual Returns\",\"Actual Returns\",\"Actual Returns\",\"Actual Returns\",\"Actual Returns\",\"Actual Returns\",\"Actual Returns\",\"Actual Returns\",\"Actual Returns\",\"Actual Returns\",\"Actual Returns\",\"Actual Returns\",\"Actual Returns\",\"Actual Returns\",\"Actual Returns\",\"Actual Returns\",\"Actual Returns\",\"Actual Returns\",\"Actual Returns\",\"Actual Returns\",\"Actual Returns\",\"Actual Returns\",\"Actual Returns\",\"Actual Returns\",\"Actual Returns\",\"Actual Returns\",\"Actual Returns\",\"Actual Returns\",\"Actual Returns\",\"Actual Returns\",\"Actual Returns\",\"Actual Returns\",\"Actual Returns\",\"Actual Returns\",\"Actual Returns\",\"Actual Returns\",\"Actual Returns\",\"Actual Returns\",\"Actual Returns\",\"Actual Returns\",\"Actual Returns\",\"Actual Returns\",\"Actual Returns\",\"Actual Returns\",\"Actual Returns\",\"Actual Returns\",\"Actual Returns\",\"Actual Returns\",\"Actual Returns\",\"Actual Returns\",\"Actual Returns\",\"Actual Returns\",\"Actual Returns\",\"Actual Returns\",\"Actual Returns\",\"Actual Returns\",\"Actual Returns\",\"Actual Returns\",\"Actual Returns\",\"Actual Returns\",\"Actual Returns\",\"Actual Returns\",\"Actual Returns\",\"Actual Returns\",\"Actual Returns\",\"Actual Returns\",\"Actual Returns\",\"Actual Returns\",\"Actual Returns\",\"Actual Returns\",\"Actual Returns\",\"Actual Returns\",\"Actual Returns\",\"Actual Returns\",\"Actual Returns\",\"Actual Returns\",\"Actual Returns\",\"Actual Returns\",\"Actual Returns\",\"Actual Returns\",\"Actual Returns\",\"Actual Returns\",\"Actual Returns\",\"Actual Returns\",\"Actual Returns\",\"Actual Returns\",\"Actual Returns\",\"Actual Returns\",\"Actual Returns\",\"Actual Returns\",\"Actual Returns\",\"Actual Returns\",\"Actual Returns\",\"Actual Returns\",\"Actual Returns\",\"Actual Returns\",\"Actual Returns\",\"Actual Returns\",\"Actual Returns\",\"Actual Returns\",\"Actual Returns\",\"Actual Returns\",\"Actual Returns\",\"Actual Returns\",\"Actual Returns\",\"Actual Returns\",\"Actual Returns\",\"Actual Returns\",\"Actual Returns\",\"Actual Returns\",\"Actual Returns\",\"Actual Returns\",\"Actual Returns\",\"Actual Returns\",\"Actual Returns\",\"Actual Returns\",\"Actual Returns\",\"Actual Returns\",\"Actual Returns\",\"Actual Returns\",\"Actual Returns\",\"Actual Returns\",\"Actual Returns\",\"Actual Returns\",\"Actual Returns\",\"Actual Returns\",\"Actual Returns\",\"Actual Returns\",\"Actual Returns\",\"Actual Returns\",\"Actual Returns\",\"Actual Returns\",\"Actual Returns\",\"Actual Returns\",\"Actual Returns\",\"Actual Returns\",\"Actual Returns\",\"Actual Returns\",\"Actual Returns\",\"Actual Returns\",\"Actual Returns\",\"Actual Returns\",\"Actual Returns\",\"Actual Returns\",\"Actual Returns\",\"Actual Returns\",\"Actual Returns\",\"Actual Returns\",\"Actual Returns\",\"Actual Returns\",\"Actual Returns\",\"Actual Returns\",\"Actual Returns\",\"Actual Returns\",\"Actual Returns\",\"Actual Returns\",\"Actual Returns\",\"Actual Returns\",\"Actual Returns\",\"Actual Returns\",\"Actual Returns\",\"Actual Returns\",\"Actual Returns\",\"Actual Returns\",\"Actual Returns\",\"Actual Returns\",\"Actual Returns\",\"Actual Returns\",\"Actual Returns\",\"Actual Returns\",\"Actual Returns\",\"Actual Returns\",\"Actual Returns\",\"Actual Returns\",\"Actual Returns\",\"Actual Returns\",\"Actual Returns\",\"Actual Returns\",\"Actual Returns\",\"Actual Returns\",\"Actual Returns\",\"Actual Returns\",\"Actual Returns\",\"Actual Returns\",\"Actual Returns\",\"Actual Returns\",\"Actual Returns\",\"Actual Returns\",\"Actual Returns\",\"Actual Returns\",\"Actual Returns\",\"Actual Returns\",\"Actual Returns\",\"Actual Returns\",\"Actual Returns\",\"Actual Returns\",\"Actual Returns\",\"Actual Returns\",\"Actual Returns\",\"Actual Returns\",\"Actual Returns\",\"Actual Returns\",\"Actual Returns\",\"Actual Returns\",\"Actual Returns\",\"Actual Returns\",\"Actual Returns\",\"Actual Returns\",\"Actual Returns\",\"Actual Returns\",\"Actual Returns\",\"Actual Returns\",\"Actual Returns\",\"Actual Returns\",\"Actual Returns\",\"Actual Returns\",\"Actual Returns\",\"Actual Returns\",\"Actual Returns\",\"Actual Returns\",\"Actual Returns\",\"Actual Returns\",\"Actual Returns\",\"Actual Returns\",\"Actual Returns\",\"Actual Returns\",\"Actual Returns\",\"Actual Returns\",\"Actual Returns\",\"Actual Returns\",\"Actual Returns\",\"Actual Returns\",\"Actual Returns\",\"Actual Returns\",\"Actual Returns\",\"Actual Returns\",\"Actual Returns\",\"Actual Returns\",\"Actual Returns\",\"Actual Returns\",\"Actual Returns\",\"Actual Returns\",\"Actual Returns\",\"Actual Returns\",\"Actual Returns\",\"Actual Returns\",\"Actual Returns\",\"Actual Returns\",\"Actual Returns\",\"Actual Returns\",\"Actual Returns\",\"Actual Returns\",\"Actual Returns\",\"Actual Returns\",\"Actual Returns\",\"Actual Returns\",\"Actual Returns\",\"Actual Returns\",\"Actual Returns\",\"Actual Returns\",\"Actual Returns\",\"Actual Returns\",\"Actual Returns\",\"Actual Returns\",\"Actual Returns\",\"Actual Returns\",\"Actual Returns\",\"Actual Returns\",\"Actual Returns\",\"Actual Returns\",\"Actual Returns\",\"Actual Returns\",\"Actual Returns\",\"Actual Returns\",\"Actual Returns\",\"Actual Returns\",\"Actual Returns\",\"Actual Returns\",\"Actual Returns\",\"Actual Returns\",\"Actual Returns\",\"Actual Returns\",\"Actual Returns\",\"Actual Returns\",\"Actual Returns\",\"Actual Returns\",\"Actual Returns\",\"Actual Returns\",\"Actual Returns\",\"Actual Returns\",\"Actual Returns\",\"Actual Returns\",\"Actual Returns\",\"Actual Returns\",\"Actual Returns\",\"Actual Returns\",\"Actual Returns\",\"Actual Returns\",\"Actual Returns\",\"Actual Returns\",\"Actual Returns\",\"Actual Returns\",\"Actual Returns\",\"Actual Returns\",\"Actual Returns\",\"Actual Returns\",\"Actual Returns\",\"Actual Returns\",\"Actual Returns\",\"Actual Returns\",\"Actual Returns\",\"Actual Returns\",\"Actual Returns\",\"Actual Returns\",\"Actual Returns\",\"Actual Returns\",\"Actual Returns\",\"Actual Returns\",\"Actual Returns\",\"Actual Returns\",\"Actual Returns\",\"Actual Returns\",\"Actual Returns\",\"Actual Returns\",\"Actual Returns\",\"Actual Returns\",\"Actual Returns\",\"Actual Returns\",\"Actual Returns\",\"Actual Returns\",\"Actual Returns\",\"Actual Returns\",\"Actual Returns\",\"Actual Returns\",\"Actual Returns\",\"Actual Returns\",\"Actual Returns\",\"Actual Returns\",\"Actual Returns\",\"Actual Returns\",\"Actual Returns\",\"Actual Returns\",\"Actual Returns\",\"Actual Returns\",\"Actual Returns\",\"Actual Returns\",\"Actual Returns\",\"Actual Returns\",\"Actual Returns\",\"Actual Returns\",\"Actual Returns\",\"Actual Returns\",\"Actual Returns\",\"Actual Returns\",\"Actual Returns\",\"Actual Returns\",\"Actual Returns\",\"Actual Returns\",\"Actual Returns\",\"Actual Returns\",\"Actual Returns\",\"Actual Returns\",\"Actual Returns\",\"Actual Returns\",\"Actual Returns\",\"Actual Returns\",\"Actual Returns\",\"Actual Returns\",\"Actual Returns\",\"Actual Returns\",\"Actual Returns\",\"Actual Returns\",\"Actual Returns\",\"Actual Returns\",\"Actual Returns\",\"Actual Returns\",\"Actual Returns\",\"Actual Returns\",\"Actual Returns\",\"Actual Returns\",\"Actual Returns\",\"Actual Returns\",\"Actual Returns\",\"Actual Returns\",\"Actual Returns\",\"Actual Returns\",\"Actual Returns\",\"Actual Returns\",\"Actual Returns\",\"Actual Returns\"],\"value\":{\"__ndarray__\":\"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\",\"dtype\":\"float64\",\"order\":\"little\",\"shape\":[1092]}},\"selected\":{\"id\":\"5208\"},\"selection_policy\":{\"id\":\"5222\"}},\"id\":\"5207\",\"type\":\"ColumnDataSource\"}],\"root_ids\":[\"5165\"]},\"title\":\"Bokeh Application\",\"version\":\"2.4.1\"}};\n",
       "    var render_items = [{\"docid\":\"bdde58aa-26c3-409a-906f-8213cc7bf371\",\"root_ids\":[\"5165\"],\"roots\":{\"5165\":\"41aef62e-a24f-4f37-90d7-7dada64680d4\"}}];\n",
       "    root.Bokeh.embed.embed_items_notebook(docs_json, render_items);\n",
       "  }\n",
       "  if (root.Bokeh !== undefined && root.Bokeh.Panel !== undefined) {\n",
       "    embed_document(root);\n",
       "  } else {\n",
       "    var attempts = 0;\n",
       "    var timer = setInterval(function(root) {\n",
       "      if (root.Bokeh !== undefined && root.Bokeh.Panel !== undefined) {\n",
       "        clearInterval(timer);\n",
       "        embed_document(root);\n",
       "      } else if (document.readyState == \"complete\") {\n",
       "        attempts++;\n",
       "        if (attempts > 200) {\n",
       "          clearInterval(timer);\n",
       "          console.log(\"Bokeh: ERROR: Unable to run BokehJS code because BokehJS library is missing\");\n",
       "        }\n",
       "      }\n",
       "    }, 25, root)\n",
       "  }\n",
       "})(window);</script>"
      ],
      "text/plain": [
       ":NdOverlay   [Variable]\n",
       "   :Curve   [Date]   (value)"
      ]
     },
     "execution_count": 81,
     "metadata": {
      "application/vnd.holoviews_exec.v0+json": {
       "id": "5165"
      }
     },
     "output_type": "execute_result"
    }
   ],
   "source": [
    "# Plot the actual returns versus the strategy returns\n",
    "returns_plot2 = (1 + predictions_df[[\"Actual Returns\",\"Algorithm Returns\"]]).cumprod().hvplot()\n",
    "returns_plot2"
   ]
  },
  {
   "cell_type": "code",
   "execution_count": null,
   "metadata": {},
   "outputs": [],
   "source": []
  },
  {
   "cell_type": "code",
   "execution_count": 95,
   "metadata": {},
   "outputs": [
    {
     "ename": "KeyError",
     "evalue": "'Date'",
     "output_type": "error",
     "traceback": [
      "\u001b[0;31m---------------------------------------------------------------------------\u001b[0m",
      "\u001b[0;31mKeyError\u001b[0m                                  Traceback (most recent call last)",
      "\u001b[0;32m/var/folders/tn/vktwrrh95yg4q937cv1p8yyh0000gn/T/ipykernel_44094/2628519126.py\u001b[0m in \u001b[0;36m<module>\u001b[0;34m\u001b[0m\n\u001b[1;32m      3\u001b[0m                        \u001b[0mindex_col\u001b[0m\u001b[0;34m=\u001b[0m\u001b[0;34m'Date'\u001b[0m\u001b[0;34m,\u001b[0m\u001b[0;34m\u001b[0m\u001b[0;34m\u001b[0m\u001b[0m\n\u001b[1;32m      4\u001b[0m                        \u001b[0minfer_datetime_format\u001b[0m\u001b[0;34m=\u001b[0m\u001b[0;32mTrue\u001b[0m\u001b[0;34m,\u001b[0m\u001b[0;34m\u001b[0m\u001b[0;34m\u001b[0m\u001b[0m\n\u001b[0;32m----> 5\u001b[0;31m                        parse_dates=True)\n\u001b[0m\u001b[1;32m      6\u001b[0m \u001b[0;34m\u001b[0m\u001b[0m\n\u001b[1;32m      7\u001b[0m \u001b[0;31m# Review the DataFrame\u001b[0m\u001b[0;34m\u001b[0m\u001b[0;34m\u001b[0m\u001b[0;34m\u001b[0m\u001b[0m\n",
      "\u001b[0;32m/opt/anaconda3/envs/dev/lib/python3.7/site-packages/pandas/util/_decorators.py\u001b[0m in \u001b[0;36mwrapper\u001b[0;34m(*args, **kwargs)\u001b[0m\n\u001b[1;32m    309\u001b[0m                     \u001b[0mstacklevel\u001b[0m\u001b[0;34m=\u001b[0m\u001b[0mstacklevel\u001b[0m\u001b[0;34m,\u001b[0m\u001b[0;34m\u001b[0m\u001b[0;34m\u001b[0m\u001b[0m\n\u001b[1;32m    310\u001b[0m                 )\n\u001b[0;32m--> 311\u001b[0;31m             \u001b[0;32mreturn\u001b[0m \u001b[0mfunc\u001b[0m\u001b[0;34m(\u001b[0m\u001b[0;34m*\u001b[0m\u001b[0margs\u001b[0m\u001b[0;34m,\u001b[0m \u001b[0;34m**\u001b[0m\u001b[0mkwargs\u001b[0m\u001b[0;34m)\u001b[0m\u001b[0;34m\u001b[0m\u001b[0;34m\u001b[0m\u001b[0m\n\u001b[0m\u001b[1;32m    312\u001b[0m \u001b[0;34m\u001b[0m\u001b[0m\n\u001b[1;32m    313\u001b[0m         \u001b[0;32mreturn\u001b[0m \u001b[0mwrapper\u001b[0m\u001b[0;34m\u001b[0m\u001b[0;34m\u001b[0m\u001b[0m\n",
      "\u001b[0;32m/opt/anaconda3/envs/dev/lib/python3.7/site-packages/pandas/io/parsers/readers.py\u001b[0m in \u001b[0;36mread_csv\u001b[0;34m(filepath_or_buffer, sep, delimiter, header, names, index_col, usecols, squeeze, prefix, mangle_dupe_cols, dtype, engine, converters, true_values, false_values, skipinitialspace, skiprows, skipfooter, nrows, na_values, keep_default_na, na_filter, verbose, skip_blank_lines, parse_dates, infer_datetime_format, keep_date_col, date_parser, dayfirst, cache_dates, iterator, chunksize, compression, thousands, decimal, lineterminator, quotechar, quoting, doublequote, escapechar, comment, encoding, encoding_errors, dialect, error_bad_lines, warn_bad_lines, on_bad_lines, delim_whitespace, low_memory, memory_map, float_precision, storage_options)\u001b[0m\n\u001b[1;32m    584\u001b[0m     \u001b[0mkwds\u001b[0m\u001b[0;34m.\u001b[0m\u001b[0mupdate\u001b[0m\u001b[0;34m(\u001b[0m\u001b[0mkwds_defaults\u001b[0m\u001b[0;34m)\u001b[0m\u001b[0;34m\u001b[0m\u001b[0;34m\u001b[0m\u001b[0m\n\u001b[1;32m    585\u001b[0m \u001b[0;34m\u001b[0m\u001b[0m\n\u001b[0;32m--> 586\u001b[0;31m     \u001b[0;32mreturn\u001b[0m \u001b[0m_read\u001b[0m\u001b[0;34m(\u001b[0m\u001b[0mfilepath_or_buffer\u001b[0m\u001b[0;34m,\u001b[0m \u001b[0mkwds\u001b[0m\u001b[0;34m)\u001b[0m\u001b[0;34m\u001b[0m\u001b[0;34m\u001b[0m\u001b[0m\n\u001b[0m\u001b[1;32m    587\u001b[0m \u001b[0;34m\u001b[0m\u001b[0m\n\u001b[1;32m    588\u001b[0m \u001b[0;34m\u001b[0m\u001b[0m\n",
      "\u001b[0;32m/opt/anaconda3/envs/dev/lib/python3.7/site-packages/pandas/io/parsers/readers.py\u001b[0m in \u001b[0;36m_read\u001b[0;34m(filepath_or_buffer, kwds)\u001b[0m\n\u001b[1;32m    486\u001b[0m \u001b[0;34m\u001b[0m\u001b[0m\n\u001b[1;32m    487\u001b[0m     \u001b[0;32mwith\u001b[0m \u001b[0mparser\u001b[0m\u001b[0;34m:\u001b[0m\u001b[0;34m\u001b[0m\u001b[0;34m\u001b[0m\u001b[0m\n\u001b[0;32m--> 488\u001b[0;31m         \u001b[0;32mreturn\u001b[0m \u001b[0mparser\u001b[0m\u001b[0;34m.\u001b[0m\u001b[0mread\u001b[0m\u001b[0;34m(\u001b[0m\u001b[0mnrows\u001b[0m\u001b[0;34m)\u001b[0m\u001b[0;34m\u001b[0m\u001b[0;34m\u001b[0m\u001b[0m\n\u001b[0m\u001b[1;32m    489\u001b[0m \u001b[0;34m\u001b[0m\u001b[0m\n\u001b[1;32m    490\u001b[0m \u001b[0;34m\u001b[0m\u001b[0m\n",
      "\u001b[0;32m/opt/anaconda3/envs/dev/lib/python3.7/site-packages/pandas/io/parsers/readers.py\u001b[0m in \u001b[0;36mread\u001b[0;34m(self, nrows)\u001b[0m\n\u001b[1;32m   1045\u001b[0m     \u001b[0;32mdef\u001b[0m \u001b[0mread\u001b[0m\u001b[0;34m(\u001b[0m\u001b[0mself\u001b[0m\u001b[0;34m,\u001b[0m \u001b[0mnrows\u001b[0m\u001b[0;34m=\u001b[0m\u001b[0;32mNone\u001b[0m\u001b[0;34m)\u001b[0m\u001b[0;34m:\u001b[0m\u001b[0;34m\u001b[0m\u001b[0;34m\u001b[0m\u001b[0m\n\u001b[1;32m   1046\u001b[0m         \u001b[0mnrows\u001b[0m \u001b[0;34m=\u001b[0m \u001b[0mvalidate_integer\u001b[0m\u001b[0;34m(\u001b[0m\u001b[0;34m\"nrows\"\u001b[0m\u001b[0;34m,\u001b[0m \u001b[0mnrows\u001b[0m\u001b[0;34m)\u001b[0m\u001b[0;34m\u001b[0m\u001b[0;34m\u001b[0m\u001b[0m\n\u001b[0;32m-> 1047\u001b[0;31m         \u001b[0mindex\u001b[0m\u001b[0;34m,\u001b[0m \u001b[0mcolumns\u001b[0m\u001b[0;34m,\u001b[0m \u001b[0mcol_dict\u001b[0m \u001b[0;34m=\u001b[0m \u001b[0mself\u001b[0m\u001b[0;34m.\u001b[0m\u001b[0m_engine\u001b[0m\u001b[0;34m.\u001b[0m\u001b[0mread\u001b[0m\u001b[0;34m(\u001b[0m\u001b[0mnrows\u001b[0m\u001b[0;34m)\u001b[0m\u001b[0;34m\u001b[0m\u001b[0;34m\u001b[0m\u001b[0m\n\u001b[0m\u001b[1;32m   1048\u001b[0m \u001b[0;34m\u001b[0m\u001b[0m\n\u001b[1;32m   1049\u001b[0m         \u001b[0;32mif\u001b[0m \u001b[0mindex\u001b[0m \u001b[0;32mis\u001b[0m \u001b[0;32mNone\u001b[0m\u001b[0;34m:\u001b[0m\u001b[0;34m\u001b[0m\u001b[0;34m\u001b[0m\u001b[0m\n",
      "\u001b[0;32m/opt/anaconda3/envs/dev/lib/python3.7/site-packages/pandas/io/parsers/c_parser_wrapper.py\u001b[0m in \u001b[0;36mread\u001b[0;34m(self, nrows)\u001b[0m\n\u001b[1;32m    267\u001b[0m                     \u001b[0mvalues\u001b[0m \u001b[0;34m=\u001b[0m \u001b[0mdata\u001b[0m\u001b[0;34m.\u001b[0m\u001b[0mpop\u001b[0m\u001b[0;34m(\u001b[0m\u001b[0mi\u001b[0m\u001b[0;34m)\u001b[0m\u001b[0;34m\u001b[0m\u001b[0;34m\u001b[0m\u001b[0m\n\u001b[1;32m    268\u001b[0m                 \u001b[0;32melse\u001b[0m\u001b[0;34m:\u001b[0m\u001b[0;34m\u001b[0m\u001b[0;34m\u001b[0m\u001b[0m\n\u001b[0;32m--> 269\u001b[0;31m                     \u001b[0mvalues\u001b[0m \u001b[0;34m=\u001b[0m \u001b[0mdata\u001b[0m\u001b[0;34m.\u001b[0m\u001b[0mpop\u001b[0m\u001b[0;34m(\u001b[0m\u001b[0mself\u001b[0m\u001b[0;34m.\u001b[0m\u001b[0mindex_col\u001b[0m\u001b[0;34m[\u001b[0m\u001b[0mi\u001b[0m\u001b[0;34m]\u001b[0m\u001b[0;34m)\u001b[0m\u001b[0;34m\u001b[0m\u001b[0;34m\u001b[0m\u001b[0m\n\u001b[0m\u001b[1;32m    270\u001b[0m \u001b[0;34m\u001b[0m\u001b[0m\n\u001b[1;32m    271\u001b[0m                 \u001b[0mvalues\u001b[0m \u001b[0;34m=\u001b[0m \u001b[0mself\u001b[0m\u001b[0;34m.\u001b[0m\u001b[0m_maybe_parse_dates\u001b[0m\u001b[0;34m(\u001b[0m\u001b[0mvalues\u001b[0m\u001b[0;34m,\u001b[0m \u001b[0mi\u001b[0m\u001b[0;34m,\u001b[0m \u001b[0mtry_parse_dates\u001b[0m\u001b[0;34m=\u001b[0m\u001b[0;32mTrue\u001b[0m\u001b[0;34m)\u001b[0m\u001b[0;34m\u001b[0m\u001b[0;34m\u001b[0m\u001b[0m\n",
      "\u001b[0;31mKeyError\u001b[0m: 'Date'"
     ]
    }
   ],
   "source": [
    "# Import the Z.csv into a Pandas Dataframe\n",
    "zillow_df = pd.read_csv(Path(\"Z.csv\"),\n",
    "                       index_col='Date',\n",
    "                       infer_datetime_format=True,\n",
    "                       parse_dates=True)\n",
    "\n",
    "# Review the DataFrame\n",
    "zillow_df.head()"
   ]
  },
  {
   "cell_type": "code",
   "execution_count": null,
   "metadata": {},
   "outputs": [],
   "source": [
    "# Filter the close column\n",
    "Z_signals_df = zillow_df.loc[:, [\"Close\"]]\n",
    "\n",
    "# pct_change function to generate returns from close prices\n",
    "Z_signals_df[\"Actual Returns\"] = Z_signals_df[\"Close\"].pct_change()\n",
    "\n",
    "# Drop all NaN values from the DataFrame\n",
    "Z_signals_df = Z_signals_df.dropna()\n",
    "\n",
    "# Review the DataFrame\n",
    "display(Z_signals_df.head())\n",
    "display(Z_signals_df.tail())"
   ]
  },
  {
   "cell_type": "code",
   "execution_count": null,
   "metadata": {},
   "outputs": [],
   "source": [
    "# Set the short window and long window\n",
    "short_window = 50\n",
    "long_window = 100\n",
    "\n",
    "# Generate the fast and slow simple moving averages \n",
    "Z_signals_df['SMA_Fast'] = Z_signals_df['Close'].rolling(window=short_window).mean()\n",
    "Z_signals_df['SMA_Slow'] = Z_signals_df['Close'].rolling(window=long_window).mean()\n",
    "Z_signals_df['Signal'] = 0.0\n",
    "Z_signals_df = Z_signals_df.dropna()\n",
    "\n",
    "# Review the DataFrame\n",
    "display(Z_signals_df.head())\n",
    "display(Z_signals_df.tail())"
   ]
  },
  {
   "cell_type": "code",
   "execution_count": null,
   "metadata": {},
   "outputs": [],
   "source": [
    "\n",
    "# Generate the trading signal 0 or 1,\n",
    "# where 1 is the short-window (SMA_Fast) greater than the long-window (SMA_Slow)\n",
    "# and 0 is when the condition is not met\n",
    "Z_signals_df[\"Signal\"][short_window:] = np.where(\n",
    "    Z_signals_df[\"SMA_Slow\"][short_window:] < Z_signals_df[\"SMA_Fast\"][short_window:], 1.0, 0.0\n",
    ")\n",
    "\n",
    "# Review the DataFrame\n",
    "Z_signals_df.tail(10)"
   ]
  },
  {
   "cell_type": "code",
   "execution_count": null,
   "metadata": {},
   "outputs": [],
   "source": [
    "Z_signals_df['Signal'].value_counts()"
   ]
  },
  {
   "cell_type": "code",
   "execution_count": null,
   "metadata": {},
   "outputs": [],
   "source": [
    "# Calculate the strategy returns and add them to the signals_df DataFrame\n",
    "Z_signals_df['Strategy Returns'] = Z_signals_df['Actual Returns'] * Z_signals_df['Signal'].shift()\n",
    "\n",
    "# Review the DataFrame\n",
    "display(Z_signals_df.head())\n",
    "display(Z_signals_df.tail())"
   ]
  },
  {
   "cell_type": "code",
   "execution_count": null,
   "metadata": {},
   "outputs": [],
   "source": [
    "# Plot Strategy Returns to examine performance\n",
    "(1 + Z_signals_df[['Strategy Returns', 'Actual Returns']]).cumprod().hvplot()"
   ]
  },
  {
   "cell_type": "code",
   "execution_count": null,
   "metadata": {},
   "outputs": [],
   "source": [
    "# Calculate the points in time at which a position should be taken, 1 or -1\n",
    "Z_signals_df['Entry/Exit'] = Z_signals_df['Signal'].diff()\n",
    "\n",
    "# Review the DataFrame\n",
    "Z_signals_df.tail()"
   ]
  },
  {
   "cell_type": "code",
   "execution_count": null,
   "metadata": {},
   "outputs": [],
   "source": [
    "# Set the initial capital\n",
    "initial_capital = float(100000)\n",
    "\n",
    "# Set the share size\n",
    "share_size = 500\n",
    "\n",
    "# Take a 500 share position where the dual moving average crossover is 1 (SMA50 is greater than SMA100)\n",
    "Z_signals_df[\"Position\"] = share_size * Z_signals_df[\"Signal\"]\n",
    "\n",
    "# Find the points in time where a 500 share position is bought or sold\n",
    "Z_signals_df[\"Entry/Exit Position\"] = Z_signals_df[\"Position\"].diff()\n",
    "\n",
    "# Multiply share price by entry/exit positions and get the cumulatively sum\n",
    "Z_signals_df[\"Portfolio Holdings\"] = (\n",
    "    Z_signals_df[\"Close\"] * Z_signals_df[\"Entry/Exit Position\"].cumsum()\n",
    ")\n",
    "\n",
    "# Subtract the initial capital by the portfolio holdings to get the amount of liquid cash in the portfolio\n",
    "Z_signals_df[\"Portfolio Cash\"] = (\n",
    "    initial_capital - (Z_signals_df[\"Close\"] * Z_signals_df[\"Entry/Exit Position\"]).cumsum()\n",
    ")\n",
    "\n",
    "# Get the total portfolio value by adding the cash amount by the portfolio holdings (or investments)\n",
    "Z_signals_df[\"Portfolio Total\"] = (\n",
    "    Z_signals_df[\"Portfolio Cash\"] + Z_signals_df[\"Portfolio Holdings\"]\n",
    ")\n",
    "\n",
    "# Calculate the portfolio daily returns\n",
    "Z_signals_df[\"Portfolio Daily Returns\"] = Z_signals_df[\"Portfolio Total\"].pct_change()\n",
    "\n",
    "# Calculate the cumulative returns\n",
    "Z_signals_df[\"Portfolio Cumulative Returns\"] = (\n",
    "    1 + Z_signals_df[\"Portfolio Daily Returns\"]\n",
    ").cumprod() - 1\n",
    "\n",
    "\n",
    "# Print the DataFrame\n",
    "Z_signals_df.head(10).dropna()\n",
    "\n"
   ]
  },
  {
   "cell_type": "code",
   "execution_count": null,
   "metadata": {},
   "outputs": [],
   "source": [
    "# Visualize exit positions relative to total portfolio value\n",
    "entry = Z_signals_df[Z_signals_df[\"Entry/Exit\"] == 1.0][\"Portfolio Total\"].hvplot.scatter(\n",
    "    color='purple',\n",
    "    marker='^',\n",
    "    legend=False, \n",
    "    ylabel=\"Total Portfolio Value\", \n",
    "    width=1000, \n",
    "    height=400\n",
    ")\n",
    "\n",
    "# Visualize entry positions relative to total portfolio value\n",
    "exit = Z_signals_df[Z_signals_df[\"Entry/Exit\"] == -1.0][\"Portfolio Total\"].hvplot.scatter(\n",
    "    color='blue',\n",
    "    marker='v',\n",
    "    legend=False, \n",
    "    ylabel=\"Total Portfolio Value\", \n",
    "    width=1000, \n",
    "    height=400\n",
    ")\n",
    "\n",
    "# Visualize the total portoflio value \n",
    "total_portfolio_value = Z_signals_df[['Portfolio Total']].hvplot(\n",
    "    line_color='lightgray',\n",
    "    ylabel='Total Portfolio Value',\n",
    "    width=1000,\n",
    "    height=400\n",
    ")\n",
    "\n",
    "# Overlay the plots\n",
    "portfolio_entry_exit_plot = total_portfolio_value * entry * exit\n",
    "portfolio_entry_exit_plot.opts(\n",
    "    title=\"ZILLOW - Total Portfolio Value\",\n",
    "    yformatter='%.0f'\n",
    ")"
   ]
  },
  {
   "cell_type": "code",
   "execution_count": null,
   "metadata": {},
   "outputs": [],
   "source": [
    "# Create the list of the metric names\n",
    "metrics = [\n",
    "    'Annualized Return',\n",
    "    'Cumulative Returns',\n",
    "    'Annual Volatility',\n",
    "    'Sharpe Ratio',\n",
    "    'Sortino Ratio'\n",
    "]\n",
    "\n",
    "# Create a list that holds the column name\n",
    "columns = ['Backtest']\n",
    "\n",
    "# Initialize the DataFrame with index set to evaluation metrics and columns \n",
    "portfolio_evaluation_df = pd.DataFrame(index=metrics, columns=columns)\n",
    "\n",
    "# Review the DataFrame\n",
    "portfolio_evaluation_df"
   ]
  },
  {
   "cell_type": "code",
   "execution_count": null,
   "metadata": {},
   "outputs": [],
   "source": [
    "# Calculate the Annualized return metric\n",
    "portfolio_evaluation_df.loc['Annualized Return'] = (\n",
    "    Z_signals_df['Portfolio Daily Returns'].mean() * 252\n",
    ")\n",
    "\n",
    "# Calculate the Cumulative returns metric\n",
    "portfolio_evaluation_df.loc['Cumulative Returns'] = Z_signals_df['Portfolio Cumulative Returns'][-1]\n",
    "\n",
    "# Calculate the Annual volatility metric\n",
    "portfolio_evaluation_df.loc['Annual Volatility'] = (\n",
    "    Z_signals_df['Portfolio Daily Returns'].std() * np.sqrt(252)\n",
    ")\n",
    "\n",
    "# Calculate the Sharpe ratio\n",
    "portfolio_evaluation_df.loc['Sharpe Ratio'] = (\n",
    "    Z_signals_df['Portfolio Daily Returns'].mean() * 252) / (\n",
    "    Z_signals_df['Portfolio Daily Returns'].std() * np.sqrt(252)\n",
    ")\n"
   ]
  },
  {
   "cell_type": "code",
   "execution_count": null,
   "metadata": {},
   "outputs": [],
   "source": [
    "# Create a DataFrame that contains the Portfolio Daily Returns column\n",
    "sortino_ratio_df = Z_signals_df[['Portfolio Daily Returns']]\n",
    "\n",
    "# Create a column to hold downside return values\n",
    "sortino_ratio_df.loc[:,'Downside Returns'] = 0\n",
    "\n",
    "# Find Portfolio Daily Returns values less than 0, \n",
    "# square those values, and add them to the Downside Returns column\n",
    "sortino_ratio_df.loc[sortino_ratio_df['Portfolio Daily Returns'] < 0, \n",
    "                     'Downside Returns'] = sortino_ratio_df['Portfolio Daily Returns']**2\n",
    "\n",
    "# Calculate the annualized return value\n",
    "annualized_return = sortino_ratio_df['Portfolio Daily Returns'].mean() * 252\n",
    "\n",
    "# Calculate the annualized downside standard deviation value\n",
    "downside_standard_deviation = np.sqrt(sortino_ratio_df['Downside Returns'].mean()) * np.sqrt(252)\n",
    "\n",
    "# Divide the annualized return value by the downside standard deviation value\n",
    "sortino_ratio = annualized_return/downside_standard_deviation\n",
    "\n",
    "# Add the Sortino ratio to the evaluation DataFrame\n",
    "portfolio_evaluation_df.loc['Sortino Ratio'] = sortino_ratio\n",
    "\n",
    "# Review the portfolio evaluation DataFrame\n",
    "portfolio_evaluation_df"
   ]
  },
  {
   "cell_type": "code",
   "execution_count": null,
   "metadata": {},
   "outputs": [],
   "source": [
    "# Assign a copy of the sma_fast and sma_slow columns to a features DataFrame called A\n",
    "A = Z_signals_df[['SMA_Fast', 'SMA_Slow']].shift().dropna()\n",
    "\n",
    "# Review the DataFrame\n",
    "A.head()"
   ]
  },
  {
   "cell_type": "code",
   "execution_count": null,
   "metadata": {},
   "outputs": [],
   "source": [
    "# Create the target set selecting the Signal column and assiging it to y\n",
    "y = Z_signals_df['Signal']\n",
    "\n",
    "# Review the value counts\n",
    "y.value_counts()"
   ]
  },
  {
   "cell_type": "code",
   "execution_count": null,
   "metadata": {},
   "outputs": [],
   "source": [
    "# Select the start of the training period\n",
    "training_begin = A.index.min()\n",
    "#training_begin = pd.to_datetime(\"2019-01-01 00:00:00\")\n",
    "#training_begin = pd.to_datetime(\"2018-01-01 00:00:00\")\n",
    "\n",
    "# Display the training begin date\n",
    "print(training_begin)"
   ]
  },
  {
   "cell_type": "code",
   "execution_count": null,
   "metadata": {},
   "outputs": [],
   "source": [
    "# Select the ending period for the training data with an offset of 3 months\n",
    "training_end = A.index.min() + DateOffset(months=3)\n",
    "#training_end = training_begin + DateOffset(months=12)\n",
    "#training_end = pd.to_datetime(\"2019-12-31 00:00:00\")\n",
    "\n",
    "# Display the training end date\n",
    "print(training_end)"
   ]
  },
  {
   "cell_type": "code",
   "execution_count": null,
   "metadata": {},
   "outputs": [],
   "source": [
    "# Generate the X_train and y_train DataFrames\n",
    "X_train = X.loc[training_begin:training_end]\n",
    "y_train = y.loc[training_begin:training_end]\n",
    "\n",
    "# Review the X_train DataFrame\n",
    "display(X_train.head())\n",
    "display(X_train.tail())"
   ]
  },
  {
   "cell_type": "code",
   "execution_count": null,
   "metadata": {},
   "outputs": [],
   "source": [
    "# Generate the X_test and y_test DataFrames\n",
    "X_test = X.loc[training_end:]\n",
    "y_test = y.loc[training_end:]\n",
    "\n",
    "# Review the X_test DataFrame\n",
    "display(X_test.head())\n",
    "display(X_test.tail())"
   ]
  },
  {
   "cell_type": "code",
   "execution_count": null,
   "metadata": {},
   "outputs": [],
   "source": [
    "# Scale the features DataFrames\n",
    "\n",
    "# Create a StandardScaler instance\n",
    "scaler = StandardScaler()\n",
    "\n",
    "# Apply the scaler model to fit the X-train data\n",
    "X_scaler = scaler.fit(X_train)\n",
    "\n",
    "# Transform the X_train and X_test DataFrames using the X_scaler\n",
    "X_train_scaled = X_scaler.transform(X_train)\n",
    "X_test_scaled = X_scaler.transform(X_test)"
   ]
  },
  {
   "cell_type": "code",
   "execution_count": null,
   "metadata": {},
   "outputs": [],
   "source": [
    "# From SVM, instantiate SVC classifier model instance\n",
    "svm_model = svm.SVC()\n",
    " \n",
    "# Fit the model to the data using the training data\n",
    "svm_model = svm_model.fit(X_train_scaled, y_train)\n",
    " \n",
    "# Use the testing data to make the model predictions\n",
    "svm_pred = svm_model.predict(X_test_scaled)\n",
    "\n",
    "# Review the model's predicted values\n",
    "svm_pred[:10]"
   ]
  },
  {
   "cell_type": "code",
   "execution_count": null,
   "metadata": {},
   "outputs": [],
   "source": [
    "# Use a classification report to evaluate the model using the predictions and testing data\n",
    "svm_testing_report = classification_report(y_test,svm_pred)\n",
    "\n",
    "# Print the classification report\n",
    "print(svm_testing_report)"
   ]
  },
  {
   "cell_type": "code",
   "execution_count": null,
   "metadata": {},
   "outputs": [],
   "source": [
    "# Create a new empty predictions DataFrame.\n",
    "\n",
    "# Create a predictions DataFrame\n",
    "predictions_df = pd.DataFrame(index = X_test.index)\n",
    "\n",
    "# Add the SVM model predictions to the DataFrame\n",
    "predictions_df['Predicted'] = svm_pred\n",
    "\n",
    "# Add the actual returns to the DataFrame\n",
    "predictions_df['Actual Returns'] = G_signals_df[\"Actual Returns\"]\n",
    "\n",
    "# Add the strategy returns to the DataFrame\n",
    "predictions_df['Strategy Returns'] = predictions_df['Actual Returns'] * predictions_df['Predicted']\n",
    "\n",
    "# Review the DataFrame\n",
    "display(predictions_df.head())\n",
    "display(predictions_df.tail())"
   ]
  },
  {
   "cell_type": "code",
   "execution_count": null,
   "metadata": {},
   "outputs": [],
   "source": [
    "# Plot the actual returns versus the strategy returns\n",
    "returns_plot = (1 + predictions_df[[\"Actual Returns\",\"Strategy Returns\"]]).cumprod().hvplot(width = 1000, height = 400)\n",
    "returns_plot\n",
    "                "
   ]
  },
  {
   "cell_type": "code",
   "execution_count": null,
   "metadata": {},
   "outputs": [],
   "source": [
    "# Import a new classifier from SKLearn\n",
    "from sklearn.linear_model import LogisticRegression\n",
    "\n",
    "# Initiate the model instance\n",
    "loreg_model = LogisticRegression()"
   ]
  },
  {
   "cell_type": "code",
   "execution_count": null,
   "metadata": {},
   "outputs": [],
   "source": [
    "# Fit the model using the training data\n",
    "loreg_model = loreg_model.fit(X_train_scaled,y_train)\n",
    "\n",
    "# Use the testing dataset to generate the predictions for the new model\n",
    "pred = loreg_model.predict(X_test_scaled)\n",
    "\n",
    "# Review the model's predicted values\n",
    "pred[:10]\n"
   ]
  },
  {
   "cell_type": "code",
   "execution_count": null,
   "metadata": {},
   "outputs": [],
   "source": [
    "# Use a classification report to evaluate the model using the predictions and testing data\n",
    "training_report = classification_report(y_test,pred)\n",
    "\n",
    "# Print the classification report\n",
    "print(training_report)"
   ]
  },
  {
   "cell_type": "code",
   "execution_count": null,
   "metadata": {},
   "outputs": [],
   "source": [
    "# Create a new empty predictions DataFrame.\n",
    "\n",
    "# Create a predictions DataFrame\n",
    "predictions_df = pd.DataFrame(index = X_test.index)\n",
    "\n",
    "# Add the SVM model predictions to the DataFrame\n",
    "predictions_df[\"Predictions\"] = pred\n",
    "\n",
    "# Add the actual returns to the DataFrame\n",
    "predictions_df[\"Actual Returns\"] = G_signals_df[\"Actual Returns\"]\n",
    "\n",
    "# Add the strategy returns to the DataFrame\n",
    "predictions_df[\"Algorithm Returns\"] = predictions_df[\"Predictions\"] * predictions_df[\"Actual Returns\"]\n",
    "\n",
    "# Review the DataFrame\n",
    "predictions_df"
   ]
  },
  {
   "cell_type": "code",
   "execution_count": null,
   "metadata": {},
   "outputs": [],
   "source": [
    "# Plot the actual returns versus the strategy returns\n",
    "returns_plot2 = (1 + predictions_df[[\"Actual Returns\",\"Algorithm Returns\"]]).cumprod().hvplot()\n",
    "returns_plot2"
   ]
  }
 ],
 "metadata": {
  "colab": {
   "collapsed_sections": [
    "pYUAm7PI0aDA",
    "FtBsvLQp0aDC",
    "0BTMiJ100aDD",
    "ZeBqkkoL0aDE",
    "pQhO027J0aDE",
    "zfBP3q7X0aDF",
    "UDz7GABb0aDF"
   ],
   "name": "updated_project_2.ipynb",
   "provenance": []
  },
  "kernelspec": {
   "display_name": "Python 3 (ipykernel)",
   "language": "python",
   "name": "python3"
  },
  "language_info": {
   "codemirror_mode": {
    "name": "ipython",
    "version": 3
   },
   "file_extension": ".py",
   "mimetype": "text/x-python",
   "name": "python",
   "nbconvert_exporter": "python",
   "pygments_lexer": "ipython3",
   "version": "3.7.11"
  }
 },
 "nbformat": 4,
 "nbformat_minor": 4
}
